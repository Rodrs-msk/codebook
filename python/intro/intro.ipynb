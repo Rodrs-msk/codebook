{
 "cells": [
  {
   "cell_type": "markdown",
   "metadata": {},
   "source": [
    "# Introduction to cBioPortal REST API"
   ]
  },
  {
   "cell_type": "markdown",
   "metadata": {},
   "source": [
    "This [Jupyter notebook](https://jupyter.org/) gives examples on how to use the [REST](https://en.wikipedia.org/wiki/Representational_state_transfer) web service from [cBioPortal](https://www.cbioportal.org) as well as other webservices from the [Knowledge Systems Group at MSKCC](https://www.mskcc.org/research-areas/labs/nikolaus-schultz). We will pull data from those APIs to make visualizations."
   ]
  },
  {
   "cell_type": "markdown",
   "metadata": {},
   "source": [
    "## How to run the notebook"
   ]
  },
  {
   "cell_type": "markdown",
   "metadata": {},
   "source": [
    "This notebook can be executed on your own machine after installing Jupyter. Please install the Python 3 version of anaconda: https://www.anaconda.com/download/. After having that set up you can install Jupyter with:\n",
    "\n",
    "```bash\n",
    "conda install jupyter\n",
    "\n",
    "```\n",
    "\n",
    "For these examples we also require the [Swagger API](https://swagger.io/specification/) client `bravado`.\n",
    "\n",
    "```bash\n",
    "conda install -c conda-forge bravado\n",
    "```\n",
    "\n",
    "And the popular data analysis libraries pandas, matplotlib and seaborn:\n",
    "\n",
    "```\n",
    "conda install pandas matplotlib seaborn\n",
    "```\n",
    "\n",
    "Then clone this repo:\n",
    "\n",
    "```\n",
    "git clone https://github.com/cbioportal/workbench\n",
    "```\n",
    "\n",
    "And run Jupyter in this folder\n",
    "```\n",
    "cd workbench/intro\n",
    "jupyter notebook\n",
    "```\n",
    "That should open Jupyter in a new browser window and you should be able to open this notebook using the web interface. You can then follow along with the next steps."
   ]
  },
  {
   "cell_type": "markdown",
   "metadata": {},
   "source": [
    "## How to use the notebook"
   ]
  },
  {
   "cell_type": "markdown",
   "metadata": {},
   "source": [
    "The notebook consists of cells which can be executed by clicking on one and pressing shift+f. In the toolbar at the top there is a dropdown which indicates what type of cell you have selected e.g. `Code` or [Markdown](https://en.wikipedia.org/wiki/Markdown). The former will be executed as raw Python code the latter is a markup language and will be run through a Markdown parser. Both generate HTML that will be printed directly to the notebook page.\n",
    "\n",
    "There a few keyboard shortcuts that are good to know. That is: `b` creates a new cell below the one you've selected and `a` above the one you selected. Editing a cell can be done with a single click for a code cell and a double click for a Markdown cell. A complete list of all keyboard shortcuts can be found by pressing the keyboard icon in the toolbar at the top.\n",
    "\n",
    " Give it a shot by editing one of the cells and pressing shift+f."
   ]
  },
  {
   "cell_type": "markdown",
   "metadata": {},
   "source": [
    "## Using the REST APIs"
   ]
  },
  {
   "cell_type": "markdown",
   "metadata": {},
   "source": [
    "All [REST](https://en.wikipedia.org/wiki/Representational_state_transfer) web services from the [Knowledge Systems Group](https://www.mskcc.org/research-areas/labs/nikolaus-schultz) we will be using in this tutorial have their REST APIs defined following the [Open API / Swagger specification](https://swagger.io/specification/). This allows us to use `bravado` to connect to them directly, and explore the API interactively.\n",
    "\n",
    "For example this is how to connect to the [cBioPortal](https://www.cbioportal.org) API:"
   ]
  },
  {
   "cell_type": "code",
   "execution_count": 27,
   "metadata": {},
   "outputs": [
    {
     "name": "stdout",
     "output_type": "stream",
     "text": [
      "SwaggerClient(https://www.cbioportal.org/api)\n"
     ]
    }
   ],
   "source": [
    "from bravado.client import SwaggerClient\n",
    "\n",
    "cbioportal = SwaggerClient.from_url('https://www.cbioportal.org/api/v2/api-docs',\n",
    "                                config={\"validate_requests\":False,\n",
    "                                        \"validate_responses\":False,\n",
    "                                       \"validate_swagger_spec\": False})\n",
    "print(cbioportal)"
   ]
  },
  {
   "cell_type": "code",
   "execution_count": 28,
   "metadata": {},
   "outputs": [],
   "source": [
    "%config Completer.use_jedi = False"
   ]
  },
  {
   "cell_type": "markdown",
   "metadata": {},
   "source": [
    "You can now explore the API by using code completion, press `Tab` after typing `cbioportal.`:"
   ]
  },
  {
   "cell_type": "code",
   "execution_count": 29,
   "metadata": {},
   "outputs": [],
   "source": [
    "cancerTypeId='wt'\n",
    "sortBy='studyId'\n",
    "keyword='thyroid'\n",
    "studyId='thca_tcga'\n",
    "cancer_types=cbioportal.Cancer_Types.getAllCancerTypesUsingGET().result()\n",
    "studies=cbioportal.Studies.getAllStudiesUsingGET().result()"
   ]
  },
  {
   "cell_type": "code",
   "execution_count": 30,
   "metadata": {},
   "outputs": [
    {
     "name": "stdout",
     "output_type": "stream",
     "text": [
      "There are 418 studies to look at overall, and each must be separated by year.\n"
     ]
    }
   ],
   "source": [
    "studies=cbioportal.Studies.getAllStudiesUsingGET(sortBy='importDate',projection='SUMMARY').result()\n",
    "\n",
    "print(\"There are {} studies to look at overall, and each must be separated by year.\".format(\n",
    "    len(studies)\n",
    "))"
   ]
  },
  {
   "cell_type": "code",
   "execution_count": 31,
   "metadata": {},
   "outputs": [
    {
     "data": {
      "text/plain": [
       "[CancerStudy(allSampleCount=12, cancerType=None, cancerTypeId='acbc', citation='Martelotto et al. J Pathol 2015', cnaSampleCount=None, completeSampleCount=None, description='Whole exome sequencing of 12 breast AdCCs.', groups='ACYC;PUBLIC', importDate='2023-12-06 19:10:36', massSpectrometrySampleCount=None, methylationHm27SampleCount=None, miRnaSampleCount=None, mrnaMicroarraySampleCount=None, mrnaRnaSeqSampleCount=None, mrnaRnaSeqV2SampleCount=None, name='Adenoid Cystic Carcinoma of the Breast (MSK, J Pathol. 2015)', pmid='26095796', publicStudy=True, readPermission=True, referenceGenome='hg19', rppaSampleCount=None, sequencedSampleCount=None, status=0, studyId='acbc_mskcc_2015', treatmentCount=None),\n",
       " CancerStudy(allSampleCount=60, cancerType=None, cancerTypeId='acyc', citation='Ho et al. Nat Genet 2013', cnaSampleCount=None, completeSampleCount=None, description='Whole-exome or whole-genome sequencing analysis of 60 ACC tumor/normal pairs', groups='ACYC;PUBLIC', importDate='2023-12-06 19:10:40', massSpectrometrySampleCount=None, methylationHm27SampleCount=None, miRnaSampleCount=None, mrnaMicroarraySampleCount=None, mrnaRnaSeqSampleCount=None, mrnaRnaSeqV2SampleCount=None, name='Adenoid Cystic Carcinoma (MSK, Nat Genet 2013)', pmid='23685749', publicStudy=True, readPermission=True, referenceGenome='hg19', rppaSampleCount=None, sequencedSampleCount=None, status=0, studyId='acyc_mskcc_2013', treatmentCount=None),\n",
       " CancerStudy(allSampleCount=28, cancerType=None, cancerTypeId='acyc', citation='Ross et al. Am J Surg Pathl 2014', cnaSampleCount=None, completeSampleCount=None, description='Targeted Sequencing of 28 metastatic Adenoid Cystic Carcinoma samples.', groups='ACYC;PUBLIC', importDate='2023-12-06 19:11:06', massSpectrometrySampleCount=None, methylationHm27SampleCount=None, miRnaSampleCount=None, mrnaMicroarraySampleCount=None, mrnaRnaSeqSampleCount=None, mrnaRnaSeqV2SampleCount=None, name='Adenoid Cystic Carcinoma (FMI, Am J Surg Pathl. 2014)', pmid='24418857', publicStudy=True, readPermission=True, referenceGenome='hg19', rppaSampleCount=None, sequencedSampleCount=None, status=0, studyId='acyc_fmi_2014', treatmentCount=None),\n",
       " CancerStudy(allSampleCount=25, cancerType=None, cancerTypeId='acyc', citation='Rettig et al, Cancer Prev Res 2016', cnaSampleCount=None, completeSampleCount=None, description='Whole-genome or whole-exome sequencing of 25 adenoid cystic carcinoma tumor/normal pairs.', groups='ACYC;PUBLIC', importDate='2023-12-06 19:11:07', massSpectrometrySampleCount=None, methylationHm27SampleCount=None, miRnaSampleCount=None, mrnaMicroarraySampleCount=None, mrnaRnaSeqSampleCount=None, mrnaRnaSeqV2SampleCount=None, name='Adenoid Cystic Carcinoma (JHU, Cancer Prev Res 2016)', pmid='26862087', publicStudy=True, readPermission=True, referenceGenome='hg19', rppaSampleCount=None, sequencedSampleCount=None, status=0, studyId='acyc_jhu_2016', treatmentCount=None),\n",
       " CancerStudy(allSampleCount=102, cancerType=None, cancerTypeId='acyc', citation='Mitani et al. Clin Cancer Res 2015', cnaSampleCount=None, completeSampleCount=None, description='WGS of 21 salivary ACCs and targeted molecular analyses of a validation set (81 patients).', groups='ACYC;PUBLIC', importDate='2023-12-06 19:11:08', massSpectrometrySampleCount=None, methylationHm27SampleCount=None, miRnaSampleCount=None, mrnaMicroarraySampleCount=None, mrnaRnaSeqSampleCount=None, mrnaRnaSeqV2SampleCount=None, name='Adenoid Cystic Carcinoma (MDA, Clin Cancer Res 2015)', pmid='26631609', publicStudy=True, readPermission=True, referenceGenome='hg19', rppaSampleCount=None, sequencedSampleCount=None, status=0, studyId='acyc_mda_2015', treatmentCount=None),\n",
       " CancerStudy(allSampleCount=10, cancerType=None, cancerTypeId='acyc', citation='Drier et al. Nature Genetics 2016', cnaSampleCount=None, completeSampleCount=None, description='Whole-genome/exome sequencing of 10 ACC PDX models.', groups='ACYC', importDate='2023-12-06 19:11:09', massSpectrometrySampleCount=None, methylationHm27SampleCount=None, miRnaSampleCount=None, mrnaMicroarraySampleCount=None, mrnaRnaSeqSampleCount=None, mrnaRnaSeqV2SampleCount=None, name='Adenoid Cystic Carcinoma (MGH, Nat Gen 2016)', pmid='26829750', publicStudy=True, readPermission=True, referenceGenome='hg19', rppaSampleCount=None, sequencedSampleCount=None, status=0, studyId='acyc_mgh_2016', treatmentCount=None),\n",
       " CancerStudy(allSampleCount=24, cancerType=None, cancerTypeId='acyc', citation='Stephens et al. JCI 2013', cnaSampleCount=None, completeSampleCount=None, description='Whole exome sequencing of 24 ACCs.', groups='ACYC;PUBLIC', importDate='2023-12-06 19:11:10', massSpectrometrySampleCount=None, methylationHm27SampleCount=None, miRnaSampleCount=None, mrnaMicroarraySampleCount=None, mrnaRnaSeqSampleCount=None, mrnaRnaSeqV2SampleCount=None, name='Adenoid Cystic Carcinoma (Sanger/MDA, JCI 2013)', pmid='23778141', publicStudy=True, readPermission=True, referenceGenome='hg19', rppaSampleCount=None, sequencedSampleCount=None, status=0, studyId='acyc_sanger_2013', treatmentCount=None),\n",
       " CancerStudy(allSampleCount=1049, cancerType=None, cancerTypeId='acyc', citation='Allen et al. J Clin Invest 2019', cnaSampleCount=None, completeSampleCount=None, description='Multi-Institute Cohort of 1045 Adenoid Cystic Carcinoma patients.', groups='ACYC;PUBLIC', importDate='2023-12-06 19:11:46', massSpectrometrySampleCount=None, methylationHm27SampleCount=None, miRnaSampleCount=None, mrnaMicroarraySampleCount=None, mrnaRnaSeqSampleCount=None, mrnaRnaSeqV2SampleCount=None, name='Adenoid Cystic Carcinoma Project (J Clin Invest 2019)', pmid='31483290', publicStudy=True, readPermission=True, referenceGenome='hg19', rppaSampleCount=None, sequencedSampleCount=None, status=0, studyId='acc_2019', treatmentCount=None),\n",
       " CancerStudy(allSampleCount=293, cancerType=None, cancerTypeId='bcc', citation='Bonilla et al. Nat Genet 2016', cnaSampleCount=None, completeSampleCount=None, description='Whole-exome sequencing of 126 basal cell carcinoma tumor/normal pairs; targeted sequencing of 163 sporadic samples (40 tumor/normal pairs) and 4 Gorlin symdrome basal cell carcinomas.', groups='PUBLIC', importDate='2023-12-07 09:48:55', massSpectrometrySampleCount=None, methylationHm27SampleCount=None, miRnaSampleCount=None, mrnaMicroarraySampleCount=None, mrnaRnaSeqSampleCount=None, mrnaRnaSeqV2SampleCount=None, name='Basal Cell Carcinoma (UNIGE, Nat Genet 2016)', pmid='26950094', publicStudy=True, readPermission=True, referenceGenome='hg19', rppaSampleCount=None, sequencedSampleCount=None, status=0, studyId='bcc_unige_2016', treatmentCount=None),\n",
       " CancerStudy(allSampleCount=93, cancerType=None, cancerTypeId='bll', citation='Andersson et al. Nat Genet 2015', cnaSampleCount=None, completeSampleCount=None, description='Comprehensive profiling of infant MLL-rearranged acute lymphoblastic leukemia (MLL-R ALL)', groups='PUBLIC', importDate='2023-12-07 09:49:48', massSpectrometrySampleCount=None, methylationHm27SampleCount=None, miRnaSampleCount=None, mrnaMicroarraySampleCount=None, mrnaRnaSeqSampleCount=None, mrnaRnaSeqV2SampleCount=None, name='Acute Lymphoblastic Leukemia (St Jude, Nat Genet 2015)', pmid='25730765', publicStudy=True, readPermission=True, referenceGenome='hg19', rppaSampleCount=None, sequencedSampleCount=None, status=0, studyId='all_stjude_2015', treatmentCount=None),\n",
       " CancerStudy(allSampleCount=160, cancerType=None, cancerTypeId='ampca', citation='Gingras et al. Cell Rep 2016', cnaSampleCount=None, completeSampleCount=None, description='Exome sequencing analysis of 160 cancers arising in the periampullary region, 62 of these clearly arising from either the bile duct (n = 44) or the duodenum (n = 18) and 98 for which the epithelium of origin could not be clearly defined morphologically (AMPCA).', groups='PUBLIC', importDate='2023-12-07 09:49:56', massSpectrometrySampleCount=None, methylationHm27SampleCount=None, miRnaSampleCount=None, mrnaMicroarraySampleCount=None, mrnaRnaSeqSampleCount=None, mrnaRnaSeqV2SampleCount=None, name='Ampullary Carcinoma (Baylor College of Medicine, Cell Reports 2016)', pmid='26804919', publicStudy=True, readPermission=True, referenceGenome='hg19', rppaSampleCount=None, sequencedSampleCount=None, status=0, studyId='ampca_bcm_2016', treatmentCount=None),\n",
       " CancerStudy(allSampleCount=44, cancerType=None, cancerTypeId='myeloid', citation='Holmfeldt et al. Nat Genet 2013', cnaSampleCount=None, completeSampleCount=None, description='Whole genome or exome sequencing of 44 (20 whole genome, 20 exome) ALL tumor/normal pairs.', groups='', importDate='2023-12-07 09:50:20', massSpectrometrySampleCount=None, methylationHm27SampleCount=None, miRnaSampleCount=None, mrnaMicroarraySampleCount=None, mrnaRnaSeqSampleCount=None, mrnaRnaSeqV2SampleCount=None, name='Hypodiploid Acute Lymphoid Leukemia (St Jude, Nat Genet 2013)', pmid='23334668', publicStudy=True, readPermission=True, referenceGenome='hg19', rppaSampleCount=None, sequencedSampleCount=None, status=0, studyId='all_stjude_2013', treatmentCount=None),\n",
       " CancerStudy(allSampleCount=73, cancerType=None, cancerTypeId='bll', citation='Zhang et al. Nat Genet 2016', cnaSampleCount=None, completeSampleCount=None, description='Whole-genome and/or whole-exome sequencing of ERG-altered B-ALL tumor/normal pairs.', groups='PUBLIC', importDate='2023-12-07 09:50:27', massSpectrometrySampleCount=None, methylationHm27SampleCount=None, miRnaSampleCount=None, mrnaMicroarraySampleCount=None, mrnaRnaSeqSampleCount=None, mrnaRnaSeqV2SampleCount=None, name='Acute Lymphoblastic Leukemia (St Jude, Nat Genet 2016)', pmid='27776115', publicStudy=True, readPermission=True, referenceGenome='hg19', rppaSampleCount=None, sequencedSampleCount=None, status=0, studyId='all_stjude_2016', treatmentCount=None),\n",
       " CancerStudy(allSampleCount=48, cancerType=None, cancerTypeId='angs', citation='Painter et al. Nat Med 2020', cnaSampleCount=None, completeSampleCount=None, description='The Angiosarcoma Project is an ongoing patient-driven initiative. This archived Angiosarcoma Project dataset was analyzed in the linked Nature Medicine 2020 manuscript, and is derived from 48 samples from 36 angiosarcoma patients. Angiosarcoma tumor specimens (FFPE) were subjected to whole-exome sequencing (along with matched germline whole-exome sequencing). In addition to genomic data, this study includes patient-reported data (pre-pended as PRD), medical record data (MedR), and pathology report data (PATH). All annotations have been de-identified. Questions about these data can be directed to data@ascproject.org.', groups='', importDate='2023-12-07 09:50:36', massSpectrometrySampleCount=None, methylationHm27SampleCount=None, miRnaSampleCount=None, mrnaMicroarraySampleCount=None, mrnaRnaSeqSampleCount=None, mrnaRnaSeqV2SampleCount=None, name='The Angiosarcoma Project - Count Me In (Nature Medicine, 2020)', pmid='32042194', publicStudy=True, readPermission=True, referenceGenome='hg19', rppaSampleCount=None, sequencedSampleCount=None, status=0, studyId='angs_project_painter_2018', treatmentCount=None),\n",
       " CancerStudy(allSampleCount=22, cancerType=None, cancerTypeId='bfn', citation='Tan et al. Nat Genet 2015', cnaSampleCount=None, completeSampleCount=None, description='Whole exome sequencing of 22 phyllodes tumors', groups='PUBLIC', importDate='2023-12-07 09:55:28', massSpectrometrySampleCount=None, methylationHm27SampleCount=None, miRnaSampleCount=None, mrnaMicroarraySampleCount=None, mrnaRnaSeqSampleCount=None, mrnaRnaSeqV2SampleCount=None, name='Breast Fibroepithelial Tumors (Duke-NUS, Nat Genet 2015)', pmid='26437033', publicStudy=True, readPermission=True, referenceGenome='hg19', rppaSampleCount=None, sequencedSampleCount=None, status=0, studyId='bfn_duke_nus_2015', treatmentCount=None),\n",
       " CancerStudy(allSampleCount=672, cancerType=None, cancerTypeId='aml', citation='Tyner et al. Nature 2018', cnaSampleCount=None, completeSampleCount=None, description='Whole-exome sequencing of 672 acute myeloid leukemia samples (with 454 matched normals) from the Beat AML program.', groups='PUBLIC', importDate='2023-12-07 09:57:07', massSpectrometrySampleCount=None, methylationHm27SampleCount=None, miRnaSampleCount=None, mrnaMicroarraySampleCount=None, mrnaRnaSeqSampleCount=None, mrnaRnaSeqV2SampleCount=None, name='Acute Myeloid Leukemia (OHSU, Nature 2018)', pmid='30333627', publicStudy=True, readPermission=True, referenceGenome='hg19', rppaSampleCount=None, sequencedSampleCount=None, status=0, studyId='aml_ohsu_2018', treatmentCount=None),\n",
       " CancerStudy(allSampleCount=273, cancerType=None, cancerTypeId='apad', citation='Michael B et al. J Clin Oncol 2022', cnaSampleCount=None, completeSampleCount=None, description='Targeted sequencing of 273 appendiceal tumor/normal pairs via MSK-IMPACT platform.', groups='PUBLIC', importDate='2023-12-07 09:58:28', massSpectrometrySampleCount=None, methylationHm27SampleCount=None, miRnaSampleCount=None, mrnaMicroarraySampleCount=None, mrnaRnaSeqSampleCount=None, mrnaRnaSeqV2SampleCount=None, name='Appendiceal Cancer (MSK, J Clin Oncol 2022)', pmid='36493333', publicStudy=True, readPermission=True, referenceGenome='hg19', rppaSampleCount=None, sequencedSampleCount=None, status=0, studyId='appendiceal_msk_2022', treatmentCount=None),\n",
       " CancerStudy(allSampleCount=36, cancerType=None, cancerTypeId='biliary_tract', citation=None, cnaSampleCount=None, completeSampleCount=None, description='Targeted sequencing of 25 advanced biliary tract cancers and their matched normals.', groups='', importDate='2023-12-07 09:58:32', massSpectrometrySampleCount=None, methylationHm27SampleCount=None, miRnaSampleCount=None, mrnaMicroarraySampleCount=None, mrnaRnaSeqSampleCount=None, mrnaRnaSeqV2SampleCount=None, name='Metastatic Biliary Tract Cancers (SUMMIT - Neratinib Basket Trial, 2022)', pmid=None, publicStudy=True, readPermission=True, referenceGenome='hg19', rppaSampleCount=None, sequencedSampleCount=None, status=0, studyId='biliary_tract_summit_2022', treatmentCount=None),\n",
       " CancerStudy(allSampleCount=942, cancerType=None, cancerTypeId='aml', citation='Bottomly et al. Cancer Cell 2022', cnaSampleCount=None, completeSampleCount=None, description='Whole-exome and transcriptomic sequencing of 942 acute myeloid leukemia samples (with 500 matched normals) from the Beat AML program.', groups='PUBLIC', importDate='2023-12-07 09:58:34', massSpectrometrySampleCount=None, methylationHm27SampleCount=None, miRnaSampleCount=None, mrnaMicroarraySampleCount=None, mrnaRnaSeqSampleCount=None, mrnaRnaSeqV2SampleCount=None, name='Acute Myeloid Leukemia (OHSU, Cancer Cell 2022)', pmid='35868306', publicStudy=True, readPermission=True, referenceGenome='hg19', rppaSampleCount=None, sequencedSampleCount=None, status=0, studyId='aml_ohsu_2022', treatmentCount=None),\n",
       " CancerStudy(allSampleCount=50, cancerType=None, cancerTypeId='blca', citation='Van Allen et al. Cancer Discov 2014', cnaSampleCount=None, completeSampleCount=None, description='Whole exome sequencing of tumor/normal samples from 50 patients treated with cisplatin-based chemotherapy for muscle invasive urothelial carcinoma.', groups='PUBLIC', importDate='2023-12-07 10:15:02', massSpectrometrySampleCount=None, methylationHm27SampleCount=None, miRnaSampleCount=None, mrnaMicroarraySampleCount=None, mrnaRnaSeqSampleCount=None, mrnaRnaSeqV2SampleCount=None, name='Bladder Urothelial Carcinoma (DFCI/MSK, Cancer Discov 2014)', pmid='25096233', publicStudy=True, readPermission=True, referenceGenome='hg19', rppaSampleCount=None, sequencedSampleCount=None, status=0, studyId='blca_dfarber_mskcc_2014', treatmentCount=None),\n",
       " CancerStudy(allSampleCount=97, cancerType=None, cancerTypeId='blca', citation='Iyer et al. J Clin Oncol 2013', cnaSampleCount=None, completeSampleCount=None, description='Comprehensive profiling of 97 high-grade bladder tumors, including targeted sequencing of 15 cancer genes', groups='PUBLIC', importDate='2023-12-07 10:15:10', massSpectrometrySampleCount=None, methylationHm27SampleCount=None, miRnaSampleCount=None, mrnaMicroarraySampleCount=None, mrnaRnaSeqSampleCount=None, mrnaRnaSeqV2SampleCount=None, name='Bladder Cancer (MSK, J Clin Onco 2013)', pmid='23897969', publicStudy=True, readPermission=True, referenceGenome='hg19', rppaSampleCount=None, sequencedSampleCount=None, status=0, studyId='blca_mskcc_solit_2012', treatmentCount=None),\n",
       " CancerStudy(allSampleCount=99, cancerType=None, cancerTypeId='blca', citation='Guo et al. Nat Genet 2013', cnaSampleCount=None, completeSampleCount=None, description='Whole-exome and whole-genome sequencing of 99 bladder cancer tumor/normal pairs. Generated by BGI.', groups='PUBLIC', importDate='2023-12-07 10:15:22', massSpectrometrySampleCount=None, methylationHm27SampleCount=None, miRnaSampleCount=None, mrnaMicroarraySampleCount=None, mrnaRnaSeqSampleCount=None, mrnaRnaSeqV2SampleCount=None, name='Bladder Urothelial Carcinoma (BGI, Nat Genet 2013)', pmid='24121792', publicStudy=True, readPermission=True, referenceGenome='hg19', rppaSampleCount=None, sequencedSampleCount=None, status=0, studyId='blca_bgi', treatmentCount=None),\n",
       " CancerStudy(allSampleCount=109, cancerType=None, cancerTypeId='blca', citation='Kim et al. Eur Urol 2015', cnaSampleCount=None, completeSampleCount=None, description='Genomic Predictors of Survival in Patients with High-grade Urothelial Carcinoma of the Bladder. Targeted sequencing of 109 tumor samples (MSKCC, European Urology 2014).', groups='PUBLIC', importDate='2023-12-07 10:15:28', massSpectrometrySampleCount=None, methylationHm27SampleCount=None, miRnaSampleCount=None, mrnaMicroarraySampleCount=None, mrnaRnaSeqSampleCount=None, mrnaRnaSeqV2SampleCount=None, name='Bladder Cancer (MSK, Eur Urol 2014)', pmid='25092538', publicStudy=True, readPermission=True, referenceGenome='hg19', rppaSampleCount=None, sequencedSampleCount=None, status=0, studyId='blca_mskcc_solit_2014', treatmentCount=None),\n",
       " CancerStudy(allSampleCount=105, cancerType=None, cancerTypeId='blca', citation='Pietzak et al. Eur Urol 2017', cnaSampleCount=None, completeSampleCount=None, description='IMPACT sequencing of 105 High Risk Nonmuscle Invasive Bladder Cancer samples.', groups='PUBLIC', importDate='2023-12-07 10:15:31', massSpectrometrySampleCount=None, methylationHm27SampleCount=None, miRnaSampleCount=None, mrnaMicroarraySampleCount=None, mrnaRnaSeqSampleCount=None, mrnaRnaSeqV2SampleCount=None, name='Nonmuscle Invasive Bladder Cancer (MSK Eur Urol 2017)', pmid='28583311', publicStudy=True, readPermission=True, referenceGenome='hg19', rppaSampleCount=None, sequencedSampleCount=None, status=0, studyId='blca_nmibc_2017', treatmentCount=None),\n",
       " CancerStudy(allSampleCount=34, cancerType=None, cancerTypeId='blca', citation='Al-Ahmadie et al. Nat Genet 2016', cnaSampleCount=None, completeSampleCount=None, description='Whole exome and targeted sequencing of 34 plasmacytoid-variant (signet ring cell) tumors of the bladder', groups='', importDate='2023-12-07 10:28:53', massSpectrometrySampleCount=None, methylationHm27SampleCount=None, miRnaSampleCount=None, mrnaMicroarraySampleCount=None, mrnaRnaSeqSampleCount=None, mrnaRnaSeqV2SampleCount=None, name='Bladder Cancer (MSK, Nat Genet 2016)', pmid='26901067', publicStudy=True, readPermission=True, referenceGenome='hg19', rppaSampleCount=None, sequencedSampleCount=None, status=0, studyId='blca_plasmacytoid_mskcc_2016', treatmentCount=None),\n",
       " CancerStudy(allSampleCount=103, cancerType=None, cancerTypeId='brca', citation='Banerji et al. Nature 2012', cnaSampleCount=None, completeSampleCount=None, description='Whole-exome sequencing of 103 breast cancer tumor/normal sample pairs. Generated by the Broad Institute.', groups='PUBLIC', importDate='2023-12-07 10:29:04', massSpectrometrySampleCount=None, methylationHm27SampleCount=None, miRnaSampleCount=None, mrnaMicroarraySampleCount=None, mrnaRnaSeqSampleCount=None, mrnaRnaSeqV2SampleCount=None, name='Breast Invasive Carcinoma (Broad, Nature 2012)', pmid='22722202', publicStudy=True, readPermission=True, referenceGenome='hg19', rppaSampleCount=None, sequencedSampleCount=None, status=0, studyId='brca_broad', treatmentCount=None),\n",
       " CancerStudy(allSampleCount=131, cancerType=None, cancerTypeId='blca', citation='TCGA, Nature 2014', cnaSampleCount=None, completeSampleCount=None, description='Whole-exome sequencing of 131 high-grade muscle-invasive urothelial bladder carcinomas', groups='PUBLIC', importDate='2023-12-07 10:29:08', massSpectrometrySampleCount=None, methylationHm27SampleCount=None, miRnaSampleCount=None, mrnaMicroarraySampleCount=None, mrnaRnaSeqSampleCount=None, mrnaRnaSeqV2SampleCount=None, name='Bladder Urothelial Carcinoma (TCGA, Nature 2014)', pmid='24476821', publicStudy=True, readPermission=True, referenceGenome='hg19', rppaSampleCount=None, sequencedSampleCount=None, status=0, studyId='blca_tcga_pub', treatmentCount=None),\n",
       " CancerStudy(allSampleCount=218, cancerType=None, cancerTypeId='brain', citation='CPTAC, Cell 2020', cnaSampleCount=None, completeSampleCount=None, description='Integrated proteogenomic characterization across major histological types of pediatric brain cancer . We report a comprehensive proteogenomics analysis, including whole-genome sequencing, RNA sequencing, and proteomics and phosphoproteomics profiling, of 218 tumors across 7 histological types of childhood brain cancer: low-grade glioma (n = 93), ependymoma (32), high-grade glioma (25), medulloblastoma (22), ganglio-glioma (18), craniopharyngioma (16), and atypical teratoid rhabdoid tumor (12). Proteomics data identify common biological themes that span histological boundaries, suggesting that treatments used for one histological type may be applied effectively to other tumors sharing similar proteomics features. Immune landscape characterization reveals diverse tumor microenvironments across and within diagnoses. Proteomics data further reveal functional effects of somatic mutations and copy number variations (CNVs) not evident in transcriptomics data.', groups='PUBLIC', importDate='2023-12-07 10:36:21', massSpectrometrySampleCount=None, methylationHm27SampleCount=None, miRnaSampleCount=None, mrnaMicroarraySampleCount=None, mrnaRnaSeqSampleCount=None, mrnaRnaSeqV2SampleCount=None, name='Pediatric Brain Cancer (CPTAC/CHOP, Cell 2020)', pmid='33242424', publicStudy=True, readPermission=True, referenceGenome='hg19', rppaSampleCount=None, sequencedSampleCount=None, status=0, studyId='brain_cptac_2020', treatmentCount=None),\n",
       " CancerStudy(allSampleCount=179, cancerType=None, cancerTypeId='bowel', citation='Walid K et al. Nat Commun. 2022', cnaSampleCount=None, completeSampleCount=None, description='Targeted sequencing of 180 colitis-associated cancers and their matched normals.', groups='PUBLIC', importDate='2023-12-07 10:37:02', massSpectrometrySampleCount=None, methylationHm27SampleCount=None, miRnaSampleCount=None, mrnaMicroarraySampleCount=None, mrnaRnaSeqSampleCount=None, mrnaRnaSeqV2SampleCount=None, name='Colorectal Adenocarcinoma (MSK, Nat Commun 2022)', pmid='36611031', publicStudy=True, readPermission=True, referenceGenome='hg19', rppaSampleCount=None, sequencedSampleCount=None, status=0, studyId='bowel_colitis_msk_2022', treatmentCount=None),\n",
       " CancerStudy(allSampleCount=216, cancerType=None, cancerTypeId='brca', citation='Lefebvre et al. PLoS Med 2016', cnaSampleCount=None, completeSampleCount=None, description='Whole exome sequencing of 216 tumor/normal (blood) pairs from metastatic breast cancer patients who underwent a biopsy in the context of the SAFIR01/SAFIR02 (Unicancer, France), SHIVA (Institut Curie, France) or MOSCATO (Gustave Roussy, France) prospective trials.', groups='PUBLIC', importDate='2023-12-07 11:08:13', massSpectrometrySampleCount=None, methylationHm27SampleCount=None, miRnaSampleCount=None, mrnaMicroarraySampleCount=None, mrnaRnaSeqSampleCount=None, mrnaRnaSeqV2SampleCount=None, name='Metastatic Breast Cancer (INSERM, PLoS Med 2016)', pmid='28027327', publicStudy=True, readPermission=True, referenceGenome='hg19', rppaSampleCount=None, sequencedSampleCount=None, status=0, studyId='brca_igr_2015', treatmentCount=None),\n",
       " CancerStudy(allSampleCount=70, cancerType=None, cancerTypeId='brca', citation='Nixon et al. NPJ Breast Cancer 2019', cnaSampleCount=None, completeSampleCount=None, description='Targeted Sequencing of buparlisib + letrozole and alpelisib + letrozole-treated metastatic ER+ unmatched breast tumors.', groups='SOLITD;COMPONC;PUBLIC', importDate='2023-12-07 11:14:51', massSpectrometrySampleCount=None, methylationHm27SampleCount=None, miRnaSampleCount=None, mrnaMicroarraySampleCount=None, mrnaRnaSeqSampleCount=None, mrnaRnaSeqV2SampleCount=None, name='Breast Cancer (MSK, NPJ Breast Cancer 2019)', pmid='31552290', publicStudy=True, readPermission=True, referenceGenome='hg19', rppaSampleCount=None, sequencedSampleCount=None, status=0, studyId='brca_mskcc_2019', treatmentCount=None),\n",
       " CancerStudy(allSampleCount=5, cancerType=None, cancerTypeId='brca', citation='Timothy M et al. J Pathol 2021', cnaSampleCount=None, completeSampleCount=None, description='Whole-exome sequencing analysis of juvenile papillomatosis and coexisting breast carcinoma.', groups='PUBLIC', importDate='2023-12-07 11:14:55', massSpectrometrySampleCount=None, methylationHm27SampleCount=None, miRnaSampleCount=None, mrnaMicroarraySampleCount=None, mrnaRnaSeqSampleCount=None, mrnaRnaSeqV2SampleCount=None, name='Juvenile Papillomatosis and Breast Cancer (MSK,J Pathol. 2015)', pmid='33263939', publicStudy=True, readPermission=True, referenceGenome='hg19', rppaSampleCount=None, sequencedSampleCount=None, status=0, studyId='brca_jup_msk_2020', treatmentCount=None),\n",
       " CancerStudy(allSampleCount=145, cancerType=None, cancerTypeId='brca', citation='Alison E et al.  Nat Commun 2022', cnaSampleCount=None, completeSampleCount=None, description='MSK-IMPACT targeted sequencing of 145 breast tumors with matched normal samples.', groups='', importDate='2023-12-07 11:14:58', massSpectrometrySampleCount=None, methylationHm27SampleCount=None, miRnaSampleCount=None, mrnaMicroarraySampleCount=None, mrnaRnaSeqSampleCount=None, mrnaRnaSeqV2SampleCount=None, name='MAPK on resistance to anti-HER2 therapy for breast cancer (MSK, Nat Commun. 2022)', pmid='34795269', publicStudy=True, readPermission=True, referenceGenome='hg19', rppaSampleCount=None, sequencedSampleCount=None, status=0, studyId='brca_mapk_hp_msk_2021', treatmentCount=None),\n",
       " CancerStudy(allSampleCount=60, cancerType=None, cancerTypeId='brca', citation='Fresia et al. Clinical Cancer Res 2020', cnaSampleCount=None, completeSampleCount=None, description='Whole-exome and MSK-IMPACT sequencing of 60 tumor/normal matched samples.', groups='PUBLIC', importDate='2023-12-07 11:15:04', massSpectrometrySampleCount=None, methylationHm27SampleCount=None, miRnaSampleCount=None, mrnaMicroarraySampleCount=None, mrnaRnaSeqSampleCount=None, mrnaRnaSeqV2SampleCount=None, name='Breast Cancer (MSK, Clinical Cancer Res 2020)', pmid='32220886', publicStudy=True, readPermission=True, referenceGenome='hg19', rppaSampleCount=None, sequencedSampleCount=None, status=0, studyId='brca_pareja_msk_2020', treatmentCount=None),\n",
       " CancerStudy(allSampleCount=122, cancerType=None, cancerTypeId='brca', citation='Krug et al. Cell 2020', cnaSampleCount=None, completeSampleCount=None, description='Proteogenomic landscape of breast cancer tumorigenesis and targeted therapy. Whole exome sequencing 122 samples. Generated by CPTAC.', groups='PUBLIC', importDate='2023-12-07 11:15:08', massSpectrometrySampleCount=None, methylationHm27SampleCount=None, miRnaSampleCount=None, mrnaMicroarraySampleCount=None, mrnaRnaSeqSampleCount=None, mrnaRnaSeqV2SampleCount=None, name='Proteogenomic landscape of breast cancer (CPTAC, Cell 2020)', pmid='33212010', publicStudy=True, readPermission=True, referenceGenome='hg19', rppaSampleCount=None, sequencedSampleCount=None, status=0, studyId='brca_cptac_2020', treatmentCount=None),\n",
       " CancerStudy(allSampleCount=5, cancerType=None, cancerTypeId='brca', citation=None, cnaSampleCount=None, completeSampleCount=None, description='Sequencing data from breast cancer patient from HTAN', groups='', importDate='2023-12-07 11:47:30', massSpectrometrySampleCount=None, methylationHm27SampleCount=None, miRnaSampleCount=None, mrnaMicroarraySampleCount=None, mrnaRnaSeqSampleCount=None, mrnaRnaSeqV2SampleCount=None, name='Breast Cancer (HTAN, 2022)', pmid=None, publicStudy=True, readPermission=True, referenceGenome='hg19', rppaSampleCount=None, sequencedSampleCount=None, status=0, studyId='brca_hta9_htan_2022', treatmentCount=None),\n",
       " CancerStudy(allSampleCount=100, cancerType=None, cancerTypeId='brca', citation='Stephens et al. Nature 2012', cnaSampleCount=None, completeSampleCount=None, description='Whole exome sequencing from 100 breast cancer tumor/normal sample pairs. Generated by the Sanger Institute.', groups='PUBLIC', importDate='2023-12-07 12:07:15', massSpectrometrySampleCount=None, methylationHm27SampleCount=None, miRnaSampleCount=None, mrnaMicroarraySampleCount=None, mrnaRnaSeqSampleCount=None, mrnaRnaSeqV2SampleCount=None, name='Breast Invasive Carcinoma (Sanger, Nature 2012)', pmid='22722201', publicStudy=True, readPermission=True, referenceGenome='hg19', rppaSampleCount=None, sequencedSampleCount=None, status=0, studyId='brca_sanger', treatmentCount=None),\n",
       " CancerStudy(allSampleCount=825, cancerType=None, cancerTypeId='brca', citation='TCGA, Nature 2012', cnaSampleCount=None, completeSampleCount=None, description='Whole-exome sequencing (510 samples with matched normals), genomic DNA copy number arrays, DNA methylation, messenger RNA arrays, microRNA sequencing and reverse-phase protein arrays analysis on 825 primary breast cancer samples. <a href=\"http://cancergenome.nih.gov/\">The Cancer Genome Atlas (TCGA)</a> Breast Invasive Carcinoma project. 825 cases.<br><i>Nature 2012.</i> <a href=\"https://tcga-data.nci.nih.gov/docs/publications/brca_2012/\">Raw data via the TCGA Data Portal</a>.', groups='PUBLIC', importDate='2023-12-07 12:18:04', massSpectrometrySampleCount=None, methylationHm27SampleCount=None, miRnaSampleCount=None, mrnaMicroarraySampleCount=None, mrnaRnaSeqSampleCount=None, mrnaRnaSeqV2SampleCount=None, name='Breast Invasive Carcinoma (TCGA, Nature 2012)', pmid='23000897', publicStudy=True, readPermission=True, referenceGenome='hg19', rppaSampleCount=None, sequencedSampleCount=None, status=0, studyId='brca_tcga_pub', treatmentCount=None),\n",
       " CancerStudy(allSampleCount=1020, cancerType=None, cancerTypeId='mixed', citation='Barretina et al. Nature 2012', cnaSampleCount=None, completeSampleCount=None, description='Targeted sequencing of 1020 samples from Cancer Cell Line Encyclopedia from the Broad Institute and Novartis.', groups='PUBLIC', importDate='2023-12-07 12:23:47', massSpectrometrySampleCount=None, methylationHm27SampleCount=None, miRnaSampleCount=None, mrnaMicroarraySampleCount=None, mrnaRnaSeqSampleCount=None, mrnaRnaSeqV2SampleCount=None, name='Cancer Cell Line Encyclopedia (Novartis/Broad, Nature 2012)', pmid='22460905', publicStudy=True, readPermission=True, referenceGenome='hg19', rppaSampleCount=None, sequencedSampleCount=None, status=0, studyId='cellline_ccle_broad', treatmentCount=None),\n",
       " CancerStudy(allSampleCount=79, cancerType=None, cancerTypeId='ccrcc', citation='Gerlinger et al. Nat Genet 2014', cnaSampleCount=None, completeSampleCount=None, description='Multi region exome sequencing of 10 clear cell renal cell carcinomas (ccRCCs)', groups='PUBLIC', importDate='2023-12-07 12:41:48', massSpectrometrySampleCount=None, methylationHm27SampleCount=None, miRnaSampleCount=None, mrnaMicroarraySampleCount=None, mrnaRnaSeqSampleCount=None, mrnaRnaSeqV2SampleCount=None, name='Kidney Renal Clear Cell Carcinoma (IRC, Nat Genet 2014)', pmid='24487277', publicStudy=True, readPermission=True, referenceGenome='hg19', rppaSampleCount=None, sequencedSampleCount=None, status=0, studyId='ccrcc_irc_2014', treatmentCount=None),\n",
       " CancerStudy(allSampleCount=106, cancerType=None, cancerTypeId='ccrcc', citation='Sato et al. Nat Genet 2013', cnaSampleCount=None, completeSampleCount=None, description='Whole exome and/or whole genome sequencing of 106 clear cell renal cell carcinoma tumor/normal pairs.', groups='PUBLIC', importDate='2023-12-07 12:41:53', massSpectrometrySampleCount=None, methylationHm27SampleCount=None, miRnaSampleCount=None, mrnaMicroarraySampleCount=None, mrnaRnaSeqSampleCount=None, mrnaRnaSeqV2SampleCount=None, name='Renal Clear Cell Carcinoma (UTokyo, Nat Genet 2013)', pmid='23797736', publicStudy=True, readPermission=True, referenceGenome='hg19', rppaSampleCount=None, sequencedSampleCount=None, status=0, studyId='ccrcc_utokyo_2013', treatmentCount=None),\n",
       " CancerStudy(allSampleCount=67, cancerType=None, cancerTypeId='mixed', citation='Reinhold et al. Cancer Res 2012', cnaSampleCount=None, completeSampleCount=None, description='Whole-exome sequencing of 67 samples by NCI-60 cell line project; raw data at <A HREF=\"http://discover.nci.nih.gov/cellminer/loadDownload.do\">CellMiner</A>.', groups='', importDate='2023-12-07 12:42:03', massSpectrometrySampleCount=None, methylationHm27SampleCount=None, miRnaSampleCount=None, mrnaMicroarraySampleCount=None, mrnaRnaSeqSampleCount=None, mrnaRnaSeqV2SampleCount=None, name='NCI-60 Cell Lines (NCI, Cancer Res 2012)', pmid='22802077', publicStudy=True, readPermission=True, referenceGenome='hg19', rppaSampleCount=None, sequencedSampleCount=None, status=0, studyId='cellline_nci60', treatmentCount=None),\n",
       " CancerStudy(allSampleCount=1918, cancerType=None, cancerTypeId='breast', citation='Razavi et al. Cancer Cell 2018', cnaSampleCount=None, completeSampleCount=None, description='Targeted Sequencing of tumor/normal sample pairs from 1918 Breast cancers.', groups='', importDate='2023-12-07 12:43:05', massSpectrometrySampleCount=None, methylationHm27SampleCount=None, miRnaSampleCount=None, mrnaMicroarraySampleCount=None, mrnaRnaSeqSampleCount=None, mrnaRnaSeqV2SampleCount=None, name='Breast Cancer (MSK, Cancer Cell 2018)', pmid='30205045', publicStudy=True, readPermission=True, referenceGenome='hg19', rppaSampleCount=None, sequencedSampleCount=None, status=0, studyId='breast_msk_2018', treatmentCount=None),\n",
       " CancerStudy(allSampleCount=1739, cancerType=None, cancerTypeId='mixed', citation='Stransky et al. Nature. 2015, Nusinow et al. Cell. 2020', cnaSampleCount=None, completeSampleCount=None, description='Cancer Cell Line Encyclopedia from the Broad Institute and Novartis, updated 2019. Data downloaded from the <a href=\"https://portals.broadinstitute.org/ccle/data\">Broad CCLE Portal</a>. For more info about the proteomics data, see the <a href=\"https://github.com/cbioportal/datahub/blob/master/public/ccle_broad_2019/README.md\">README</a>.', groups='PUBLIC', importDate='2023-12-07 12:43:33', massSpectrometrySampleCount=None, methylationHm27SampleCount=None, miRnaSampleCount=None, mrnaMicroarraySampleCount=None, mrnaRnaSeqSampleCount=None, mrnaRnaSeqV2SampleCount=None, name='Cancer Cell Line Encyclopedia (Broad, 2019)', pmid='31068700,31978347', publicStudy=True, readPermission=True, referenceGenome='hg19', rppaSampleCount=None, sequencedSampleCount=None, status=0, studyId='ccle_broad_2019', treatmentCount=None),\n",
       " CancerStudy(allSampleCount=141, cancerType=None, cancerTypeId='breast', citation='Razavi et al. Nature Cancer 2020', cnaSampleCount=None, completeSampleCount=None, description='Targeted sequencing of pre- and post-treatment tumor/cfDNA samples from 51 Breast Cancer patients to understand the mechanisms of resistance to Alepelisib.', groups='PUBLIC', importDate='2023-12-07 13:21:06', massSpectrometrySampleCount=None, methylationHm27SampleCount=None, miRnaSampleCount=None, mrnaMicroarraySampleCount=None, mrnaRnaSeqSampleCount=None, mrnaRnaSeqV2SampleCount=None, name='Breast Cancer (MSK, Nature Cancer 2020)', pmid='32864625', publicStudy=True, readPermission=True, referenceGenome='hg19', rppaSampleCount=None, sequencedSampleCount=None, status=0, studyId='breast_alpelisib_2020', treatmentCount=None),\n",
       " CancerStudy(allSampleCount=187, cancerType=None, cancerTypeId='brca', citation='Kan et al. Nature Communications 2018', cnaSampleCount=None, completeSampleCount=None, description='Whole-exome sequencing of 187 primary tumors from a Korean breast cancer cohort (SMC).', groups='', importDate='2023-12-07 13:21:17', massSpectrometrySampleCount=None, methylationHm27SampleCount=None, miRnaSampleCount=None, mrnaMicroarraySampleCount=None, mrnaRnaSeqSampleCount=None, mrnaRnaSeqV2SampleCount=None, name='Breast Cancer (SMC 2018)', pmid='29713003', publicStudy=True, readPermission=True, referenceGenome='hg19', rppaSampleCount=None, sequencedSampleCount=None, status=0, studyId='brca_smc_2018', treatmentCount=None),\n",
       " CancerStudy(allSampleCount=35, cancerType=None, cancerTypeId='ccrcc', citation='Miao et al. Science 2019', cnaSampleCount=None, completeSampleCount=None, description='Whole-exome sequencing of metastatic clear cell renal carcinoma (ccRCC) from 35 tumor/normal pairs.', groups='PUBLIC', importDate='2023-12-07 13:21:38', massSpectrometrySampleCount=None, methylationHm27SampleCount=None, miRnaSampleCount=None, mrnaMicroarraySampleCount=None, mrnaRnaSeqSampleCount=None, mrnaRnaSeqV2SampleCount=None, name='Clear Cell Renal Cell Carcinoma (DFCI, Science 2019)', pmid='29301960', publicStudy=True, readPermission=True, referenceGenome='hg19', rppaSampleCount=None, sequencedSampleCount=None, status=0, studyId='ccrcc_dfci_2019', treatmentCount=None),\n",
       " CancerStudy(allSampleCount=1365, cancerType=None, cancerTypeId='breast', citation='Qing et al. Cancer Discovery 2022', cnaSampleCount=None, completeSampleCount=None, description='Targeted Sequencing of 1365 metastatic Breast Cancer tumor/normal pairs via MSK-IMPACT to understand the role of INK4 on CDK4/6 resistance.', groups='', importDate='2023-12-07 13:21:52', massSpectrometrySampleCount=None, methylationHm27SampleCount=None, miRnaSampleCount=None, mrnaMicroarraySampleCount=None, mrnaRnaSeqSampleCount=None, mrnaRnaSeqV2SampleCount=None, name='Metastatic Breast Cancer (MSK, Cancer Discovery 2022)', pmid='34544752', publicStudy=True, readPermission=True, referenceGenome='hg19', rppaSampleCount=None, sequencedSampleCount=None, status=0, studyId='breast_ink4_msk_2021', treatmentCount=None),\n",
       " CancerStudy(allSampleCount=40, cancerType=None, cancerTypeId='chol', citation='Jiao et al. Nat Genet 2013', cnaSampleCount=None, completeSampleCount=None, description='Exome sequencing of tumor/normal pairs from 32 intrahepatic cholangiocarcinoma cases and 8 gall bladder carcinoma cases.', groups='PUBLIC', importDate='2023-12-07 15:43:30', massSpectrometrySampleCount=None, methylationHm27SampleCount=None, miRnaSampleCount=None, mrnaMicroarraySampleCount=None, mrnaRnaSeqSampleCount=None, mrnaRnaSeqV2SampleCount=None, name='Intrahepatic Cholangiocarcinoma (JHU, Nat Genet 2013)', pmid='24185509', publicStudy=True, readPermission=True, referenceGenome='hg19', rppaSampleCount=None, sequencedSampleCount=None, status=0, studyId='chol_jhu_2013', treatmentCount=None),\n",
       " CancerStudy(allSampleCount=15, cancerType=None, cancerTypeId='chol', citation='Chan-on et al. Nat Genet 2013', cnaSampleCount=None, completeSampleCount=None, description='Exome sequencing of 15 cholangiocarcinoma cases.', groups='PUBLIC', importDate='2023-12-07 15:44:25', massSpectrometrySampleCount=None, methylationHm27SampleCount=None, miRnaSampleCount=None, mrnaMicroarraySampleCount=None, mrnaRnaSeqSampleCount=None, mrnaRnaSeqV2SampleCount=None, name='Cholangiocarcinoma (National Cancer Centre of Singapore, Nat Genet 2013)', pmid='24185513', publicStudy=True, readPermission=True, referenceGenome='hg19', rppaSampleCount=None, sequencedSampleCount=None, status=0, studyId='chol_nccs_2013', treatmentCount=None),\n",
       " CancerStudy(allSampleCount=8, cancerType=None, cancerTypeId='chol', citation='Ong et al. Nat Genet 2012', cnaSampleCount=None, completeSampleCount=None, description='Exome Sequencing for Opisthorchis viverrini-related cholangiocarcinoma in 8 O.viverrini-related tumors and matched normal tissue.', groups='PUBLIC', importDate='2023-12-07 15:45:19', massSpectrometrySampleCount=None, methylationHm27SampleCount=None, miRnaSampleCount=None, mrnaMicroarraySampleCount=None, mrnaRnaSeqSampleCount=None, mrnaRnaSeqV2SampleCount=None, name='Cholangiocarcinoma (National University of Singapore, Nat Genet 2012)', pmid='22561520', publicStudy=True, readPermission=True, referenceGenome='hg19', rppaSampleCount=None, sequencedSampleCount=None, status=0, studyId='chol_nus_2012', treatmentCount=None),\n",
       " CancerStudy(allSampleCount=506, cancerType=None, cancerTypeId='cllsll', citation='Puente et al. Nature 2015', cnaSampleCount=None, completeSampleCount=None, description='Mutation data from whole-genome or whole-exome sequencing of 428 CLL, 54 MBL, and 24 SLL tumor/normal pairs.', groups='', importDate='2023-12-07 15:46:13', massSpectrometrySampleCount=None, methylationHm27SampleCount=None, miRnaSampleCount=None, mrnaMicroarraySampleCount=None, mrnaRnaSeqSampleCount=None, mrnaRnaSeqV2SampleCount=None, name='Chronic Lymphocytic Leukemia (IUOPA, Nature 2015)', pmid='26200345', publicStudy=True, readPermission=True, referenceGenome='hg19', rppaSampleCount=None, sequencedSampleCount=None, status=0, studyId='cll_iuopa_2015', treatmentCount=None),\n",
       " CancerStudy(allSampleCount=537, cancerType=None, cancerTypeId='cllsll', citation='Landau et al. Nature 2015', cnaSampleCount=None, completeSampleCount=None, description='Whole exome sequencing of 537 chronic lymphocytic leukemia tumor/normal pairs.', groups='PUBLIC', importDate='2023-12-07 15:47:14', massSpectrometrySampleCount=None, methylationHm27SampleCount=None, miRnaSampleCount=None, mrnaMicroarraySampleCount=None, mrnaRnaSeqSampleCount=None, mrnaRnaSeqV2SampleCount=None, name='Chronic Lymphocytic Leukemia (Broad, Nature 2015)', pmid='26466571', publicStudy=True, readPermission=True, referenceGenome='hg19', rppaSampleCount=None, sequencedSampleCount=None, status=0, studyId='cll_broad_2015', treatmentCount=None),\n",
       " CancerStudy(allSampleCount=105, cancerType=None, cancerTypeId='cllsll', citation='Quesada et al. Nature Genetics 2011', cnaSampleCount=None, completeSampleCount=None, description='Whole-exome sequencing of 105 Chronic Lymphocytic Leukemia samples.', groups='PUBLIC', importDate='2023-12-07 15:48:21', massSpectrometrySampleCount=None, methylationHm27SampleCount=None, miRnaSampleCount=None, mrnaMicroarraySampleCount=None, mrnaRnaSeqSampleCount=None, mrnaRnaSeqV2SampleCount=None, name='Chronic lymphocytic leukemia (ICGC, Nature Genetics 2011)', pmid='22158541', publicStudy=True, readPermission=True, referenceGenome='hg19', rppaSampleCount=None, sequencedSampleCount=None, status=0, studyId='cllsll_icgc_2011', treatmentCount=None),\n",
       " CancerStudy(allSampleCount=29, cancerType=None, cancerTypeId='coad', citation='Guda et al. PNAS 2015', cnaSampleCount=None, completeSampleCount=None, description='Whole-exome sequencing of tumor/normal pairs from 29 African American Colon Cancers.', groups='PUBLIC', importDate='2023-12-07 15:49:16', massSpectrometrySampleCount=None, methylationHm27SampleCount=None, miRnaSampleCount=None, mrnaMicroarraySampleCount=None, mrnaRnaSeqSampleCount=None, mrnaRnaSeqV2SampleCount=None, name='Colon Adenocarcinoma (CaseCCC, PNAS 2015)', pmid='25583493', publicStudy=True, readPermission=True, referenceGenome='hg19', rppaSampleCount=None, sequencedSampleCount=None, status=0, studyId='coad_caseccc_2015', treatmentCount=None),\n",
       " CancerStudy(allSampleCount=195, cancerType=None, cancerTypeId='chol', citation='Lowery et al. Clin Cancer Res 2018', cnaSampleCount=None, completeSampleCount=None, description='Targeted sequencing (MSK-IMPACT) of 195 tumor samples (194 with matched normals) from 192 cholangiocarcinoma patients.', groups='', importDate='2023-12-07 15:50:14', massSpectrometrySampleCount=None, methylationHm27SampleCount=None, miRnaSampleCount=None, mrnaMicroarraySampleCount=None, mrnaRnaSeqSampleCount=None, mrnaRnaSeqV2SampleCount=None, name='Cholangiocarcinoma (MSK, Clin Cancer Res 2018)', pmid='29848569', publicStudy=True, readPermission=True, referenceGenome='hg19', rppaSampleCount=None, sequencedSampleCount=None, status=0, studyId='chol_msk_2018', treatmentCount=None),\n",
       " CancerStudy(allSampleCount=489, cancerType=None, cancerTypeId='chol', citation='Jusakul et al. Cancer Discov 2017', cnaSampleCount=None, completeSampleCount=None, description='Whole-exome sequencing and Targeted/Exome sequencing of 489 Cholangiocarcinoma samples from 10 countries.', groups='PUBLIC', importDate='2023-12-07 15:51:10', massSpectrometrySampleCount=None, methylationHm27SampleCount=None, miRnaSampleCount=None, mrnaMicroarraySampleCount=None, mrnaRnaSeqSampleCount=None, mrnaRnaSeqV2SampleCount=None, name='Cholangiocarcinoma (ICGC, Cancer Discov 2017)', pmid='28667006', publicStudy=True, readPermission=True, referenceGenome='hg19', rppaSampleCount=None, sequencedSampleCount=None, status=0, studyId='chol_icgc_2017', treatmentCount=None),\n",
       " CancerStudy(allSampleCount=640, cancerType=None, cancerTypeId='coadread', citation=None, cnaSampleCount=None, completeSampleCount=None, description='TCGA Colorectal Adenocarcinoma. Source data from <A HREF=\"http://gdac.broadinstitute.org/runs/stddata__2016_01_28/data/COADREAD/20160128/\">GDAC Firehose</A>. Previously known as TCGA Provisional.', groups='PUBLIC', importDate='2023-12-07 16:32:06', massSpectrometrySampleCount=None, methylationHm27SampleCount=None, miRnaSampleCount=None, mrnaMicroarraySampleCount=None, mrnaRnaSeqSampleCount=None, mrnaRnaSeqV2SampleCount=None, name='Colorectal Adenocarcinoma (TCGA, Firehose Legacy)', pmid=None, publicStudy=True, readPermission=True, referenceGenome='hg19', rppaSampleCount=None, sequencedSampleCount=None, status=0, studyId='coadread_tcga', treatmentCount=None),\n",
       " CancerStudy(allSampleCount=74, cancerType=None, cancerTypeId='coadread', citation='Seshagiri et al. Nature 2012', cnaSampleCount=None, completeSampleCount=None, description='Whole-genome sequencing of 74 paired colon tumor-normal samples.', groups='PUBLIC', importDate='2023-12-07 16:37:33', massSpectrometrySampleCount=None, methylationHm27SampleCount=None, miRnaSampleCount=None, mrnaMicroarraySampleCount=None, mrnaRnaSeqSampleCount=None, mrnaRnaSeqV2SampleCount=None, name='Colorectal Adenocarcinoma (Genentech, Nature 2012)', pmid='22895193', publicStudy=True, readPermission=True, referenceGenome='hg19', rppaSampleCount=None, sequencedSampleCount=None, status=0, studyId='coadread_genentech', treatmentCount=None),\n",
       " CancerStudy(allSampleCount=138, cancerType=None, cancerTypeId='coadread', citation='Brannon et al. Genome Biol 2014', cnaSampleCount=None, completeSampleCount=None, description='Targeted sequencing of primary, metastatic, and normal tissues from 69 colorectal adenocarcinoma patients.', groups='PUBLIC', importDate='2023-12-07 16:37:59', massSpectrometrySampleCount=None, methylationHm27SampleCount=None, miRnaSampleCount=None, mrnaMicroarraySampleCount=None, mrnaRnaSeqSampleCount=None, mrnaRnaSeqV2SampleCount=None, name='Colorectal Adenocarcinoma Triplets (MSK, Genome Biol 2014)', pmid='25164765', publicStudy=True, readPermission=True, referenceGenome='hg19', rppaSampleCount=None, sequencedSampleCount=None, status=0, studyId='coadread_mskcc', treatmentCount=None),\n",
       " CancerStudy(allSampleCount=29, cancerType=None, cancerTypeId='cscc', citation='Li et al. Clin Cancer Res 2015', cnaSampleCount=None, completeSampleCount=None, description='Targeted sequencing of 29 metastatic cutaneous squamous cell carcinoma samples.', groups='PUBLIC', importDate='2023-12-07 16:40:33', massSpectrometrySampleCount=None, methylationHm27SampleCount=None, miRnaSampleCount=None, mrnaMicroarraySampleCount=None, mrnaRnaSeqSampleCount=None, mrnaRnaSeqV2SampleCount=None, name='Cutaneous Squamous Cell Carcinoma (DFCI, Clin Cancer Res 2015)', pmid='25589618', publicStudy=True, readPermission=True, referenceGenome='hg19', rppaSampleCount=None, sequencedSampleCount=None, status=0, studyId='cscc_dfarber_2015', treatmentCount=None),\n",
       " CancerStudy(allSampleCount=619, cancerType=None, cancerTypeId='coadread', citation='Giannakis et al. Cell Reports 2016', cnaSampleCount=None, completeSampleCount=None, description='Whole-exome sequencing of 619 colorectal cancers with clinicopathologic annotations.', groups='PUBLIC', importDate='2023-12-07 16:40:45', massSpectrometrySampleCount=None, methylationHm27SampleCount=None, miRnaSampleCount=None, mrnaMicroarraySampleCount=None, mrnaRnaSeqSampleCount=None, mrnaRnaSeqV2SampleCount=None, name='Colorectal Adenocarcinoma (DFCI, Cell Reports 2016)', pmid='27149842', publicStudy=True, readPermission=True, referenceGenome='hg19', rppaSampleCount=None, sequencedSampleCount=None, status=0, studyId='coadread_dfci_2016', treatmentCount=None),\n",
       " CancerStudy(allSampleCount=39, cancerType=None, cancerTypeId='cscc', citation='Pickering et al. Clin Cancer Res 2014', cnaSampleCount=None, completeSampleCount=None, description='Whole-exome sequencing of tumor/normal pairs from 39 aggressive cutaneous squamous cell carcinoma cases.', groups='', importDate='2023-12-07 16:42:11', massSpectrometrySampleCount=None, methylationHm27SampleCount=None, miRnaSampleCount=None, mrnaMicroarraySampleCount=None, mrnaRnaSeqSampleCount=None, mrnaRnaSeqV2SampleCount=None, name='Cutaneous Squamous Cell Carcinoma (MD Anderson, Clin Cancer Res 2014)', pmid='25303977', publicStudy=True, readPermission=True, referenceGenome='hg19', rppaSampleCount=None, sequencedSampleCount=None, status=0, studyId='cscc_hgsc_bcm_2014', treatmentCount=None),\n",
       " CancerStudy(allSampleCount=110, cancerType=None, cancerTypeId='coad', citation='Vasaikar et al. Cell 2019', cnaSampleCount=None, completeSampleCount=None, description='Proteogenomic analysis of prospectively collected 110 human colon adenocarcinoma tumor normal pairs. Data generated by CPTAC.', groups='', importDate='2023-12-07 16:43:15', massSpectrometrySampleCount=None, methylationHm27SampleCount=None, miRnaSampleCount=None, mrnaMicroarraySampleCount=None, mrnaRnaSeqSampleCount=None, mrnaRnaSeqV2SampleCount=None, name='Colon Cancer (CPTAC-2 Prospective, Cell 2019)', pmid='31031003', publicStudy=True, readPermission=True, referenceGenome='hg19', rppaSampleCount=None, sequencedSampleCount=None, status=0, studyId='coad_cptac_2019', treatmentCount=None),\n",
       " CancerStudy(allSampleCount=1516, cancerType=None, cancerTypeId='bowel', citation='Cercek et al. JNCI 2021', cnaSampleCount=None, completeSampleCount=None, description='Targeted sequencing of 1,516 samples from 818 patients with early onset and 698 patients with average onset colorectal cancer and their matched normals.', groups='', importDate='2023-12-07 16:46:19', massSpectrometrySampleCount=None, methylationHm27SampleCount=None, miRnaSampleCount=None, mrnaMicroarraySampleCount=None, mrnaRnaSeqSampleCount=None, mrnaRnaSeqV2SampleCount=None, name='Colorectal Cancer (MSK, JNCI 2021)', pmid='34405229', publicStudy=True, readPermission=True, referenceGenome='hg19', rppaSampleCount=None, sequencedSampleCount=None, status=0, studyId='crc_eo_2020', treatmentCount=None),\n",
       " CancerStudy(allSampleCount=471, cancerType=None, cancerTypeId='coadread', citation='Mondaca et al. Gastroenterology 2020', cnaSampleCount=None, completeSampleCount=None, description='Targeted sequencing of 471 unresectable colorectal tumor/normal pairs via MSK-IMPACT.', groups='', importDate='2023-12-07 16:46:51', massSpectrometrySampleCount=None, methylationHm27SampleCount=None, miRnaSampleCount=None, mrnaMicroarraySampleCount=None, mrnaRnaSeqSampleCount=None, mrnaRnaSeqV2SampleCount=None, name='Colorectal Cancer (MSK, Gastroenterology 2020)', pmid='32730818', publicStudy=True, readPermission=True, referenceGenome='hg19', rppaSampleCount=None, sequencedSampleCount=None, status=0, studyId='crc_apc_impact_2020', treatmentCount=None),\n",
       " CancerStudy(allSampleCount=64, cancerType=None, cancerTypeId='coadread', citation='Alatise et al. Nat Commun 2021', cnaSampleCount=None, completeSampleCount=None, description='Targeted sequencing of 64 colorectal tumor/normal pairs via MSK-IMPACT to determine the epigenetic differences seen in Nigerian patients.', groups='', importDate='2023-12-07 16:47:09', massSpectrometrySampleCount=None, methylationHm27SampleCount=None, miRnaSampleCount=None, mrnaMicroarraySampleCount=None, mrnaRnaSeqSampleCount=None, mrnaRnaSeqV2SampleCount=None, name='Disparities in metastatic colorectal cancer between Africans and Americans (MSK, 2020)', pmid='34819518', publicStudy=True, readPermission=True, referenceGenome='hg19', rppaSampleCount=None, sequencedSampleCount=None, status=0, studyId='crc_nigerian_2020', treatmentCount=None),\n",
       " CancerStudy(allSampleCount=47, cancerType=None, cancerTypeId='coadread', citation='Gularte-Merida et al. JCO Precis Oncol 2022', cnaSampleCount=None, completeSampleCount=None, description='Molecular characterization of 47 BRAF inhibitor-naive colorectal cancer patients with dual RAS hotspot/BRAF V600E mutations.', groups='', importDate='2023-12-07 16:47:22', massSpectrometrySampleCount=None, methylationHm27SampleCount=None, miRnaSampleCount=None, mrnaMicroarraySampleCount=None, mrnaRnaSeqSampleCount=None, mrnaRnaSeqV2SampleCount=None, name='Colorectal Cancer (MSK, JCO Precis Oncol 2022)', pmid='35235413', publicStudy=True, readPermission=True, referenceGenome='hg19', rppaSampleCount=None, sequencedSampleCount=None, status=0, studyId='crc_dd_2022', treatmentCount=None),\n",
       " CancerStudy(allSampleCount=22, cancerType=None, cancerTypeId='coadread', citation='Yaeger et al. Cancer Discovery 2022', cnaSampleCount=None, completeSampleCount=None, description='Targeted sequencing of patient-derived xenografts, cell lines, tumors and their matched normals from 22 colorectal samples via MSK-IMPACT.', groups='', importDate='2023-12-07 16:47:35', massSpectrometrySampleCount=None, methylationHm27SampleCount=None, miRnaSampleCount=None, mrnaMicroarraySampleCount=None, mrnaRnaSeqSampleCount=None, mrnaRnaSeqV2SampleCount=None, name='Colorectal Cancer (MSK, Cancer Discovery 2022)', pmid='36355783', publicStudy=True, readPermission=True, referenceGenome='hg19', rppaSampleCount=None, sequencedSampleCount=None, status=0, studyId='coadread_mskresistance_2022', treatmentCount=None),\n",
       " CancerStudy(allSampleCount=20, cancerType=None, cancerTypeId='desm', citation='Shain et al. Nat Genet 2015', cnaSampleCount=None, completeSampleCount=None, description='Exome/Whole Genome sequencing of 20 desmoplastic melanoma tumor/normal pairs.', groups='PUBLIC', importDate='2023-12-07 17:56:54', massSpectrometrySampleCount=None, methylationHm27SampleCount=None, miRnaSampleCount=None, mrnaMicroarraySampleCount=None, mrnaRnaSeqSampleCount=None, mrnaRnaSeqV2SampleCount=None, name='Desmoplastic Melanoma (Broad Institute, Nat Genet 2015)', pmid='26343386', publicStudy=True, readPermission=True, referenceGenome='hg19', rppaSampleCount=None, sequencedSampleCount=None, status=0, studyId='desm_broad_2015', treatmentCount=None),\n",
       " CancerStudy(allSampleCount=78, cancerType=None, cancerTypeId='egc', citation='Chen et al. PNAS 2015', cnaSampleCount=None, completeSampleCount=None, description='Whole-exome sequencing of 78 Gastric Adenocarcinomas and their matched normal samples.', groups='PUBLIC', importDate='2023-12-07 17:57:14', massSpectrometrySampleCount=None, methylationHm27SampleCount=None, miRnaSampleCount=None, mrnaMicroarraySampleCount=None, mrnaRnaSeqSampleCount=None, mrnaRnaSeqV2SampleCount=None, name='Gastric Adenocarcinoma (TMUCIH, PNAS 2015)', pmid='25583476', publicStudy=True, readPermission=True, referenceGenome='hg19', rppaSampleCount=None, sequencedSampleCount=None, status=0, studyId='egc_tmucih_2015', treatmentCount=None),\n",
       " CancerStudy(allSampleCount=43, cancerType=None, cancerTypeId='nhl', citation='Da Silva Almeida et al. Nat Genet 2015', cnaSampleCount=None, completeSampleCount=None, description='Whole-Exome Sequencing (WXS) of tumor-normal sample pairs from 25 patients with Sezary Syndrome and 17 patients with other Cutaneous T Cell Lymphoma (CTCLs).', groups='', importDate='2023-12-07 17:57:31', massSpectrometrySampleCount=None, methylationHm27SampleCount=None, miRnaSampleCount=None, mrnaMicroarraySampleCount=None, mrnaRnaSeqSampleCount=None, mrnaRnaSeqV2SampleCount=None, name='Cutaneous T Cell Lymphoma (Columbia U, Nat Genet 2015)', pmid='26551667', publicStudy=True, readPermission=True, referenceGenome='hg19', rppaSampleCount=None, sequencedSampleCount=None, status=0, studyId='ctcl_columbia_2015', treatmentCount=None),\n",
       " CancerStudy(allSampleCount=58, cancerType=None, cancerTypeId='dlbclnos', citation='Lohr et al. PNAS 2012', cnaSampleCount=None, completeSampleCount=None, description='Whole exome sequencing of 58 primary DLBCL samples and their matched normals.', groups='', importDate='2023-12-07 17:57:45', massSpectrometrySampleCount=None, methylationHm27SampleCount=None, miRnaSampleCount=None, mrnaMicroarraySampleCount=None, mrnaRnaSeqSampleCount=None, mrnaRnaSeqV2SampleCount=None, name='Diffuse Large B-Cell Lymphoma (Broad, PNAS 2012)', pmid='22343534', publicStudy=True, readPermission=True, referenceGenome='hg19', rppaSampleCount=None, sequencedSampleCount=None, status=0, studyId='dlbc_broad_2012', treatmentCount=None),\n",
       " CancerStudy(allSampleCount=341, cancerType=None, cancerTypeId='egc', citation='Janjigian et al. Cancer Discov 2017', cnaSampleCount=None, completeSampleCount=None, description='Targeted sequencing of 341 samples from 305 metastatic esophagogastric cancer patients', groups='PUBLIC', importDate='2023-12-07 17:58:02', massSpectrometrySampleCount=None, methylationHm27SampleCount=None, miRnaSampleCount=None, mrnaMicroarraySampleCount=None, mrnaRnaSeqSampleCount=None, mrnaRnaSeqV2SampleCount=None, name='Metastatic Esophagogastric Cancer (MSK, Cancer Discovery 2017)', pmid='29122777', publicStudy=True, readPermission=True, referenceGenome='hg19', rppaSampleCount=None, sequencedSampleCount=None, status=0, studyId='egc_msk_2017', treatmentCount=None),\n",
       " CancerStudy(allSampleCount=1001, cancerType=None, cancerTypeId='dlbclnos', citation='Reddy et al. Cell 2017', cnaSampleCount=None, completeSampleCount=None, description='Whole-exome sequencing of 1,001 Diffuse Large B Cell Lymphoma (DLBCL) tumors (N = 1001) and paired-normal tissue (N = 400).', groups='PUBLIC', importDate='2023-12-07 17:58:17', massSpectrometrySampleCount=None, methylationHm27SampleCount=None, miRnaSampleCount=None, mrnaMicroarraySampleCount=None, mrnaRnaSeqSampleCount=None, mrnaRnaSeqV2SampleCount=None, name='Diffuse Large B-Cell Lymphoma (Duke, Cell 2017)', pmid='28985567', publicStudy=True, readPermission=True, referenceGenome='hg19', rppaSampleCount=None, sequencedSampleCount=None, status=0, studyId='dlbcl_duke_2017', treatmentCount=None),\n",
       " CancerStudy(allSampleCount=135, cancerType=None, cancerTypeId='dlbclnos', citation='Chapuy et al. Nat Med 2018', cnaSampleCount=None, completeSampleCount=None, description='Whole-exome sequencing of tumor/matching normal sample pairs from 135 DLBCL patients.', groups='PUBLIC', importDate='2023-12-07 17:58:31', massSpectrometrySampleCount=None, methylationHm27SampleCount=None, miRnaSampleCount=None, mrnaMicroarraySampleCount=None, mrnaRnaSeqSampleCount=None, mrnaRnaSeqV2SampleCount=None, name='Diffuse Large B cell Lymphoma (DFCI, Nat Med 2018)', pmid='29713087', publicStudy=True, readPermission=True, referenceGenome='hg19', rppaSampleCount=None, sequencedSampleCount=None, status=0, studyId='dlbcl_dfci_2018', treatmentCount=None),\n",
       " CancerStudy(allSampleCount=487, cancerType=None, cancerTypeId='stomach', citation='Sihag et al. Clin Cancer Res 2021', cnaSampleCount=None, completeSampleCount=None, description='Targeted sequencing of 487 Esophageal/stomach cancer tumor-normal pairs via MSK-IMPACT.', groups='', importDate='2023-12-07 18:00:45', massSpectrometrySampleCount=None, methylationHm27SampleCount=None, miRnaSampleCount=None, mrnaMicroarraySampleCount=None, mrnaRnaSeqSampleCount=None, mrnaRnaSeqV2SampleCount=None, name='Esophageal/Stomach Cancer (MSK, 2020)', pmid='33795256', publicStudy=True, readPermission=True, referenceGenome='hg19', rppaSampleCount=None, sequencedSampleCount=None, status=0, studyId='egc_mskcc_2020', treatmentCount=None),\n",
       " CancerStudy(allSampleCount=83, cancerType=None, cancerTypeId='cscc', citation='Chang et al. NPJ Genom Med 2021', cnaSampleCount=None, completeSampleCount=None, description='Catalogue of driver genes in cutaneous squamous cell carcinoma. Meta-analysis of 105 normal/tumor pairs.', groups='', importDate='2023-12-07 18:01:02', massSpectrometrySampleCount=None, methylationHm27SampleCount=None, miRnaSampleCount=None, mrnaMicroarraySampleCount=None, mrnaRnaSeqSampleCount=None, mrnaRnaSeqV2SampleCount=None, name='Cutaneous Squamous Cell Carcinoma (UCSF, NPJ Genom Med 2021)', pmid='34272401', publicStudy=True, readPermission=True, referenceGenome='hg19', rppaSampleCount=None, sequencedSampleCount=None, status=0, studyId='cscc_ucsf_2021', treatmentCount=None),\n",
       " CancerStudy(allSampleCount=237, cancerType=None, cancerTypeId='egc', citation='Smita et al. Clin Cancer Res 2022', cnaSampleCount=None, completeSampleCount=None, description='Targeted sequencing of 237 esophagogastric tumor/normal pairs via MSK-IMPACT platform.', groups='', importDate='2023-12-07 18:01:40', massSpectrometrySampleCount=None, methylationHm27SampleCount=None, miRnaSampleCount=None, mrnaMicroarraySampleCount=None, mrnaRnaSeqSampleCount=None, mrnaRnaSeqV2SampleCount=None, name='Esophagogastric Cancer (MSK, Clin Cancer Res 2022)', pmid='35377946', publicStudy=True, readPermission=True, referenceGenome='hg19', rppaSampleCount=None, sequencedSampleCount=None, status=0, studyId='egc_msk_tp53_ccr_2022', treatmentCount=None),\n",
       " CancerStudy(allSampleCount=139, cancerType=None, cancerTypeId='escc', citation='Lin et al. Nat Genet 2014', cnaSampleCount=None, completeSampleCount=None, description='Whole exome sequencing (WXS) or targeted deep sequencing (TDS) of 139 paired esophageal squamous cell carcinoma patients.', groups='PUBLIC', importDate='2023-12-07 18:20:47', massSpectrometrySampleCount=None, methylationHm27SampleCount=None, miRnaSampleCount=None, mrnaMicroarraySampleCount=None, mrnaRnaSeqSampleCount=None, mrnaRnaSeqV2SampleCount=None, name='Esophageal Squamous Cell Carcinoma (UCLA, Nat Genet 2014)', pmid='24686850', publicStudy=True, readPermission=True, referenceGenome='hg19', rppaSampleCount=None, sequencedSampleCount=None, status=0, studyId='escc_ucla_2014', treatmentCount=None),\n",
       " CancerStudy(allSampleCount=151, cancerType=None, cancerTypeId='esca', citation='Dulak et al. Nat Genet 2013', cnaSampleCount=None, completeSampleCount=None, description='Whole-exome sequencing of 149 tumor/normal pairs and whole-genome sequencing of 16 pairs from 149 esophageal adenocarcinoma patients.', groups='', importDate='2023-12-07 18:21:04', massSpectrometrySampleCount=None, methylationHm27SampleCount=None, miRnaSampleCount=None, mrnaMicroarraySampleCount=None, mrnaRnaSeqSampleCount=None, mrnaRnaSeqV2SampleCount=None, name='Esophageal Adenocarcinoma (DFCI, Nat Genet 2013)', pmid='23525077', publicStudy=True, readPermission=True, referenceGenome='hg19', rppaSampleCount=None, sequencedSampleCount=None, status=0, studyId='esca_broad', treatmentCount=None),\n",
       " CancerStudy(allSampleCount=88, cancerType=None, cancerTypeId='escc', citation='Song et al. Nature 2014', cnaSampleCount=None, completeSampleCount=None, description='Whole-genome or whole-exome sequencing of 88 esophageal squamous cell carcinoma tumor/normal pairs.', groups='PUBLIC', importDate='2023-12-07 18:21:27', massSpectrometrySampleCount=None, methylationHm27SampleCount=None, miRnaSampleCount=None, mrnaMicroarraySampleCount=None, mrnaRnaSeqSampleCount=None, mrnaRnaSeqV2SampleCount=None, name='Esophageal Squamous Cell Carcinoma (ICGC, Nature 2014)', pmid='24670651', publicStudy=True, readPermission=True, referenceGenome='hg19', rppaSampleCount=None, sequencedSampleCount=None, status=0, studyId='escc_icgc', treatmentCount=None),\n",
       " CancerStudy(allSampleCount=107, cancerType=None, cancerTypeId='es', citation='Crompton et al. Cancer Discov 2014', cnaSampleCount=None, completeSampleCount=None, description='Whole exome sequencing of 96 pediatric Ewing Sarcoma tumors and 11 cell lines.', groups='PUBLIC', importDate='2023-12-07 18:21:46', massSpectrometrySampleCount=None, methylationHm27SampleCount=None, miRnaSampleCount=None, mrnaMicroarraySampleCount=None, mrnaRnaSeqSampleCount=None, mrnaRnaSeqV2SampleCount=None, name='Pediatric Ewing Sarcoma (DFCI, Cancer Discov 2014)', pmid='25186949', publicStudy=True, readPermission=True, referenceGenome='hg19', rppaSampleCount=None, sequencedSampleCount=None, status=0, studyId='es_dfarber_broad_2014', treatmentCount=None),\n",
       " CancerStudy(allSampleCount=115, cancerType=None, cancerTypeId='es', citation='Tirode et al. Cancer Discov 2014', cnaSampleCount=None, completeSampleCount=None, description='Whole-genome sequencing of 112 Ewing sarcoma samples and matched germ line DNA.', groups='PUBLIC', importDate='2023-12-07 18:22:05', massSpectrometrySampleCount=None, methylationHm27SampleCount=None, miRnaSampleCount=None, mrnaMicroarraySampleCount=None, mrnaRnaSeqSampleCount=None, mrnaRnaSeqV2SampleCount=None, name='Ewing Sarcoma (Institut Curie, Cancer Discov 2014)', pmid='25223734', publicStudy=True, readPermission=True, referenceGenome='hg19', rppaSampleCount=None, sequencedSampleCount=None, status=0, studyId='es_iocurie_2014', treatmentCount=None),\n",
       " CancerStudy(allSampleCount=32, cancerType=None, cancerTypeId='gbc', citation='Maolan Li et al. Nat Genet 2014', cnaSampleCount=None, completeSampleCount=None, description='Whole exome sequencing of 32 gallbladder carcinoma tumor/normal pairs.', groups='PUBLIC', importDate='2023-12-07 18:22:20', massSpectrometrySampleCount=None, methylationHm27SampleCount=None, miRnaSampleCount=None, mrnaMicroarraySampleCount=None, mrnaRnaSeqSampleCount=None, mrnaRnaSeqV2SampleCount=None, name='Gallbladder Carcinoma (Shanghai, Nat Genet 2014)', pmid='24997986', publicStudy=True, readPermission=True, referenceGenome='hg19', rppaSampleCount=None, sequencedSampleCount=None, status=0, studyId='gbc_shanghai_2014', treatmentCount=None),\n",
       " CancerStudy(allSampleCount=206, cancerType=None, cancerTypeId='gbm', citation='TCGA, Nature 2008', cnaSampleCount=None, completeSampleCount=None, description='Targeted sequencing in 91 of the 206 primary glioblastoma tumors (143 with matched normals) from the Cancer Genome Atlas (TCGA) Glioblastoma Project.', groups='PUBLIC', importDate='2023-12-07 18:22:35', massSpectrometrySampleCount=None, methylationHm27SampleCount=None, miRnaSampleCount=None, mrnaMicroarraySampleCount=None, mrnaRnaSeqSampleCount=None, mrnaRnaSeqV2SampleCount=None, name='Glioblastoma (TCGA, Nature 2008)', pmid='18772890', publicStudy=True, readPermission=True, referenceGenome='hg19', rppaSampleCount=None, sequencedSampleCount=None, status=0, studyId='gbm_tcga_pub', treatmentCount=None),\n",
       " CancerStudy(allSampleCount=577, cancerType=None, cancerTypeId='gbm', citation='TCGA, Cell 2013', cnaSampleCount=None, completeSampleCount=None, description='Whole-exome and/or whole-genome sequencing of 291 of the 577 glioblastoma tumor/normal pairs. The Cancer Genome Atlas (TCGA) Glioblastoma Project.', groups='', importDate='2023-12-07 18:23:22', massSpectrometrySampleCount=None, methylationHm27SampleCount=None, miRnaSampleCount=None, mrnaMicroarraySampleCount=None, mrnaRnaSeqSampleCount=None, mrnaRnaSeqV2SampleCount=None, name='Glioblastoma (TCGA, Cell 2013)', pmid='24120142', publicStudy=True, readPermission=True, referenceGenome='hg19', rppaSampleCount=None, sequencedSampleCount=None, status=0, studyId='gbm_tcga_pub2013', treatmentCount=None),\n",
       " CancerStudy(allSampleCount=180, cancerType=None, cancerTypeId='testis', citation='Bagrodia et al. J Clin Oncol 2016', cnaSampleCount=None, completeSampleCount=None, description='Whole-exome and Targeted sequencing of 19 samples and Targeted sequencing of 161 samples from 180 Germ Cell Tumor patients.', groups='PUBLIC', importDate='2023-12-07 18:25:42', massSpectrometrySampleCount=None, methylationHm27SampleCount=None, miRnaSampleCount=None, mrnaMicroarraySampleCount=None, mrnaRnaSeqSampleCount=None, mrnaRnaSeqV2SampleCount=None, name='Germ Cell Tumors (MSK, J Clin Oncol 2016)', pmid='27646943', publicStudy=True, readPermission=True, referenceGenome='hg19', rppaSampleCount=None, sequencedSampleCount=None, status=0, studyId='gct_msk_2016', treatmentCount=None),\n",
       " CancerStudy(allSampleCount=103, cancerType=None, cancerTypeId='gbc', citation='Raja et al, Cancer 2018', cnaSampleCount=None, completeSampleCount=None, description='Targeted Sequencing of 103 samples with matched normals from 101 Gallbladder cancer patients.', groups='PUBLIC', importDate='2023-12-07 18:25:57', massSpectrometrySampleCount=None, methylationHm27SampleCount=None, miRnaSampleCount=None, mrnaMicroarraySampleCount=None, mrnaRnaSeqSampleCount=None, mrnaRnaSeqV2SampleCount=None, name='Gallbladder Cancer (MSK, Cancer 2018)', pmid='30427539', publicStudy=True, readPermission=True, referenceGenome='hg19', rppaSampleCount=None, sequencedSampleCount=None, status=0, studyId='gbc_msk_2018', treatmentCount=None),\n",
       " CancerStudy(allSampleCount=106, cancerType=None, cancerTypeId='gbm', citation='Vaubel et al. Clin Cancer Res 2020', cnaSampleCount=None, completeSampleCount=None, description='WES on a total of 106 PDXs and 80 PDXs have the matched germline (blood) samples sequenced. A total of 66 PDXs have RNASeq available', groups='SHULANTIANMAYO;PUBLIC;DECKERPAULMAYO', importDate='2023-12-07 18:26:12', massSpectrometrySampleCount=None, methylationHm27SampleCount=None, miRnaSampleCount=None, mrnaMicroarraySampleCount=None, mrnaRnaSeqSampleCount=None, mrnaRnaSeqV2SampleCount=None, name='Brain Tumor PDXs (Mayo Clinic, Clin Cancer Res 2020)', pmid='31852831', publicStudy=True, readPermission=True, referenceGenome='hg19', rppaSampleCount=None, sequencedSampleCount=None, status=0, studyId='gbm_mayo_pdx_sarkaria_2019', treatmentCount=None),\n",
       " CancerStudy(allSampleCount=68, cancerType=None, cancerTypeId='egc', citation='Janjigian et al. Lancet Oncol 2020', cnaSampleCount=None, completeSampleCount=None, description='Targeted and WES recapture sequencing of tumor/normal samples from 37 Esophageal Cancer patients.', groups='PUBLIC', importDate='2023-12-07 18:27:12', massSpectrometrySampleCount=None, methylationHm27SampleCount=None, miRnaSampleCount=None, mrnaMicroarraySampleCount=None, mrnaRnaSeqSampleCount=None, mrnaRnaSeqV2SampleCount=None, name='Esophageal Cancer-TRAP Project (MSK, Lancet Oncol 2020)', pmid='32437664', publicStudy=True, readPermission=True, referenceGenome='hg19', rppaSampleCount=None, sequencedSampleCount=None, status=0, studyId='egc_trap_msk_2020', treatmentCount=None),\n",
       " CancerStudy(allSampleCount=42, cancerType=None, cancerTypeId='gbm', citation='Zhao et al. Nat Med 2019', cnaSampleCount=None, completeSampleCount=None, description='Whole-exome sequencing of 32 out of 42 glioblastomas patients with matched normals.', groups='', importDate='2023-12-07 18:27:52', massSpectrometrySampleCount=None, methylationHm27SampleCount=None, miRnaSampleCount=None, mrnaMicroarraySampleCount=None, mrnaRnaSeqSampleCount=None, mrnaRnaSeqV2SampleCount=None, name='Glioblastoma (Columbia, Nat Med. 2019)', pmid='30742119', publicStudy=True, readPermission=True, referenceGenome='hg19', rppaSampleCount=None, sequencedSampleCount=None, status=0, studyId='gbm_columbia_2019', treatmentCount=None),\n",
       " CancerStudy(allSampleCount=99, cancerType=None, cancerTypeId='gbm', citation='Wang et al. Cell 2021', cnaSampleCount=None, completeSampleCount=None, description='Proteogenomic and metabolomic characterization of human glioblastoma. Whole genome or whole exome sequencing of 99 samples. Generated by CPTAC.', groups='', importDate='2023-12-07 18:28:07', massSpectrometrySampleCount=None, methylationHm27SampleCount=None, miRnaSampleCount=None, mrnaMicroarraySampleCount=None, mrnaRnaSeqSampleCount=None, mrnaRnaSeqV2SampleCount=None, name='Glioblastoma (CPTAC, Cell 2021)', pmid='33577785', publicStudy=True, readPermission=True, referenceGenome='hg19', rppaSampleCount=None, sequencedSampleCount=None, status=0, studyId='gbm_cptac_2021', treatmentCount=None),\n",
       " CancerStudy(allSampleCount=244, cancerType=None, cancerTypeId='gbc', citation='Nicolas A et al. Clin Cancer Res 2022', cnaSampleCount=None, completeSampleCount=None, description='Targeted sequencing of 244 Gallbladder cases via MSK-IMPACT where investigators calculated the Overall survival time for 100 metastatic gallbladder patients.', groups='', importDate='2023-12-07 18:29:44', massSpectrometrySampleCount=None, methylationHm27SampleCount=None, miRnaSampleCount=None, mrnaMicroarraySampleCount=None, mrnaRnaSeqSampleCount=None, mrnaRnaSeqV2SampleCount=None, name='Gallbladder Cancer (MSK, 2022)', pmid='36228155', publicStudy=True, readPermission=True, referenceGenome='hg19', rppaSampleCount=None, sequencedSampleCount=None, status=0, studyId='gbc_mskcc_2022', treatmentCount=None),\n",
       " CancerStudy(allSampleCount=151, cancerType=None, cancerTypeId='head_neck', citation='Morris et al. JAMA Oncol 2016', cnaSampleCount=None, completeSampleCount=None, description='Targeted sequencing of 151 patients with advanced, treatment resistant head and neck tumors', groups='', importDate='2023-12-07 18:39:56', massSpectrometrySampleCount=None, methylationHm27SampleCount=None, miRnaSampleCount=None, mrnaMicroarraySampleCount=None, mrnaRnaSeqSampleCount=None, mrnaRnaSeqV2SampleCount=None, name='Recurrent and Metastatic Head & Neck Cancer (MSK, JAMA Oncol 2016)', pmid='27442865', publicStudy=True, readPermission=True, referenceGenome='hg19', rppaSampleCount=None, sequencedSampleCount=None, status=0, studyId='hnc_mskcc_2016', treatmentCount=None),\n",
       " CancerStudy(allSampleCount=243, cancerType=None, cancerTypeId='hcc', citation='Schulze et al. Nat Genet 2013', cnaSampleCount=None, completeSampleCount=None, description='Whole-exome sequencing of 243 liver tumors and matched normals.', groups='PUBLIC', importDate='2023-12-07 18:40:12', massSpectrometrySampleCount=None, methylationHm27SampleCount=None, miRnaSampleCount=None, mrnaMicroarraySampleCount=None, mrnaRnaSeqSampleCount=None, mrnaRnaSeqV2SampleCount=None, name='Hepatocellular Carcinomas (INSERM, Nat Genet 2015)', pmid='25822088', publicStudy=True, readPermission=True, referenceGenome='hg19', rppaSampleCount=None, sequencedSampleCount=None, status=0, studyId='hcc_inserm_fr_2015', treatmentCount=None),\n",
       " CancerStudy(allSampleCount=127, cancerType=None, cancerTypeId='hcc', citation='Harding et al. Clin Cancer Res 2018', cnaSampleCount=None, completeSampleCount=None, description='MSK-IMPACT sequencing of 127 Hepatocellular Carcinoma tumor samples with matched normals.', groups='', importDate='2023-12-07 18:40:37', massSpectrometrySampleCount=None, methylationHm27SampleCount=None, miRnaSampleCount=None, mrnaMicroarraySampleCount=None, mrnaRnaSeqSampleCount=None, mrnaRnaSeqV2SampleCount=None, name='Hepatocellular Carcinoma (MSK, Clin Cancer Res 2018)', pmid='30373752', publicStudy=True, readPermission=True, referenceGenome='hg19', rppaSampleCount=None, sequencedSampleCount=None, status=0, studyId='hcc_mskimpact_2018', treatmentCount=None),\n",
       " CancerStudy(allSampleCount=19, cancerType=None, cancerTypeId='hcc', citation='Zheng et al. PLOS One 2018', cnaSampleCount=None, completeSampleCount=None, description='Targeted sequencing of tumor/normal pairs of 9 LIAD and 10 HCC patients via MSK-IMPACT platform.', groups='PUBLIC', importDate='2023-12-07 18:40:52', massSpectrometrySampleCount=None, methylationHm27SampleCount=None, miRnaSampleCount=None, mrnaMicroarraySampleCount=None, mrnaRnaSeqSampleCount=None, mrnaRnaSeqV2SampleCount=None, name='Liver Hepatocellular Adenoma and Carcinomas (MSK, PLOS One 2018)', pmid='30052636', publicStudy=True, readPermission=True, referenceGenome='hg19', rppaSampleCount=None, sequencedSampleCount=None, status=0, studyId='hcc_msk_venturaa_2018', treatmentCount=None),\n",
       " CancerStudy(allSampleCount=1004, cancerType=None, cancerTypeId='difg', citation='Jonsson et al. Clin Cancer Res 2019', cnaSampleCount=None, completeSampleCount=None, description='Targeted sequencing on MSK-IMPACT and FMI Panels of 1004 samples (837 with matched normals) from 923 glioma patients.', groups='PUBLIC', importDate='2023-12-07 18:41:06', massSpectrometrySampleCount=None, methylationHm27SampleCount=None, miRnaSampleCount=None, mrnaMicroarraySampleCount=None, mrnaRnaSeqSampleCount=None, mrnaRnaSeqV2SampleCount=None, name='Glioma (MSK, Clin Cancer Res 2019)', pmid='31263031', publicStudy=True, readPermission=True, referenceGenome='hg19', rppaSampleCount=None, sequencedSampleCount=None, status=0, studyId='glioma_mskcc_2019', treatmentCount=None),\n",
       " CancerStudy(allSampleCount=91, cancerType=None, cancerTypeId='difg', citation='Miller et al. Nature 2019', cnaSampleCount=None, completeSampleCount=None, description='Targeted Sequencing of CSF samples (91 samples with 86 matched normals) from 42 glioma patients.', groups='PUBLIC', importDate='2023-12-07 18:41:29', massSpectrometrySampleCount=None, methylationHm27SampleCount=None, miRnaSampleCount=None, mrnaMicroarraySampleCount=None, mrnaRnaSeqSampleCount=None, mrnaRnaSeqV2SampleCount=None, name='Glioma (MSK, Nature 2019)', pmid='30675060', publicStudy=True, readPermission=True, referenceGenome='hg19', rppaSampleCount=None, sequencedSampleCount=None, status=0, studyId='glioma_msk_2018', treatmentCount=None),\n",
       " CancerStudy(allSampleCount=52, cancerType=None, cancerTypeId='hdcn', citation='Eli et al. Nature 2019', cnaSampleCount=None, completeSampleCount=None, description='Targeted and whole exome sequencing of 52 histiocytosis tumor/normal pairs.', groups='DIAMONDHISTCOBI;PUBLIC;HYMANHISTCOBI;OMARHISTCOBI', importDate='2023-12-07 18:41:56', massSpectrometrySampleCount=None, methylationHm27SampleCount=None, miRnaSampleCount=None, mrnaMicroarraySampleCount=None, mrnaRnaSeqSampleCount=None, mrnaRnaSeqV2SampleCount=None, name='Histiocytosis Cobimetinib (MSK, Nature 2019)', pmid='30867592', publicStudy=True, readPermission=True, referenceGenome='hg19', rppaSampleCount=None, sequencedSampleCount=None, status=0, studyId='histiocytosis_cobi_msk_2019', treatmentCount=None),\n",
       " CancerStudy(allSampleCount=21, cancerType=None, cancerTypeId='testis', citation='Taylor et al. J Clin Invest 2020', cnaSampleCount=None, completeSampleCount=None, description='Targeted and WES sequencing of germ cell tumor and shared leukemia samples.', groups='JTMED11;DONOGHUM;PUBLIC;ABDELWAO2', importDate='2023-12-07 18:42:11', massSpectrometrySampleCount=None, methylationHm27SampleCount=None, miRnaSampleCount=None, mrnaMicroarraySampleCount=None, mrnaRnaSeqSampleCount=None, mrnaRnaSeqV2SampleCount=None, name='Germ Cell Tumors and Shared Leukemias (MSK, J Clin Invest 2020)', pmid='32897884', publicStudy=True, readPermission=True, referenceGenome='hg19', rppaSampleCount=None, sequencedSampleCount=None, status=0, studyId='gct_msk_2020', treatmentCount=None),\n",
       " CancerStudy(allSampleCount=173, cancerType=None, cancerTypeId='hccihch', citation='Xue et al. Cancer Cell 2019', cnaSampleCount=None, completeSampleCount=None, description='Whole-exome sequencing of 121 combined hepatocellular and intrahepatic cholangiocarcinoma (cHCC-ICC) patients with matched normal pairs (whole-genome sequenced samples are not included here).', groups='', importDate='2023-12-07 18:42:24', massSpectrometrySampleCount=None, methylationHm27SampleCount=None, miRnaSampleCount=None, mrnaMicroarraySampleCount=None, mrnaRnaSeqSampleCount=None, mrnaRnaSeqV2SampleCount=None, name='Combined Hepatocellular and Intrahepatic Cholangiocarcinoma (Peking University, Cancer Cell 2019)', pmid='31130341', publicStudy=True, readPermission=True, referenceGenome='hg19', rppaSampleCount=None, sequencedSampleCount=None, status=0, studyId='hccihch_pku_2019', treatmentCount=None),\n",
       " CancerStudy(allSampleCount=45, cancerType=None, cancerTypeId='hgsoc', citation='Elkin et al. NPJ Genome Med 2021', cnaSampleCount=None, completeSampleCount=None, description='Targeted Sequencing of 45 Serous Ovarian Cancer tumor/normal pairs from 45 patients.', groups='', importDate='2023-12-07 18:42:45', massSpectrometrySampleCount=None, methylationHm27SampleCount=None, miRnaSampleCount=None, mrnaMicroarraySampleCount=None, mrnaRnaSeqSampleCount=None, mrnaRnaSeqV2SampleCount=None, name='High-Grade Serous Ovarian Cancer (MSK, NPJ Genome Med 2021)', pmid='34819508', publicStudy=True, readPermission=True, referenceGenome='hg19', rppaSampleCount=None, sequencedSampleCount=None, status=0, studyId='hgsoc_msk_2021', treatmentCount=None),\n",
       " CancerStudy(allSampleCount=122, cancerType=None, cancerTypeId='hcc', citation='Charlotte Ng et al. Nat Commun. 2022', cnaSampleCount=None, completeSampleCount=None, description='Whole-exome sequencing of 122 Hepatocellular carcinomas and their matched normals. Dataset was generated in 2021 by MERiC and Charlotte Ng (hg19 original; Basel/Bern research pipeline).', groups='', importDate='2023-12-07 18:42:59', massSpectrometrySampleCount=None, methylationHm27SampleCount=None, miRnaSampleCount=None, mrnaMicroarraySampleCount=None, mrnaRnaSeqSampleCount=None, mrnaRnaSeqV2SampleCount=None, name='Hepatocellular Carcinoma (MERiC/Basel, Nat Commun. 2022)', pmid='35508466', publicStudy=True, readPermission=True, referenceGenome='hg19', rppaSampleCount=None, sequencedSampleCount=None, status=0, studyId='hcc_meric_2021', treatmentCount=None),\n",
       " CancerStudy(allSampleCount=2383, cancerType=None, cancerTypeId='mixed', citation=None, cnaSampleCount=None, completeSampleCount=None, description='Targeted sequencing of 2383 myeloid and lymphoid neoplasms and their matched normals via MSK-IMPACT Heme panel.', groups='', importDate='2023-12-07 18:43:22', massSpectrometrySampleCount=None, methylationHm27SampleCount=None, miRnaSampleCount=None, mrnaMicroarraySampleCount=None, mrnaRnaSeqSampleCount=None, mrnaRnaSeqV2SampleCount=None, name='MSK-IMPACT Heme Tumors (MSK, 2022)', pmid=None, publicStudy=True, readPermission=True, referenceGenome='hg19', rppaSampleCount=None, sequencedSampleCount=None, status=0, studyId='heme_msk_impact_2022', treatmentCount=None),\n",
       " CancerStudy(allSampleCount=499, cancerType=None, cancerTypeId='gist', citation='Diana et al. NPJ Precis Oncol 2023', cnaSampleCount=None, completeSampleCount=None, description='Paired analysis of 499  Gastrointestinal stromal tumor/normal pairs via MSK-IMPACT platform.', groups='', importDate='2023-12-07 18:43:53', massSpectrometrySampleCount=None, methylationHm27SampleCount=None, miRnaSampleCount=None, mrnaMicroarraySampleCount=None, mrnaRnaSeqSampleCount=None, mrnaRnaSeqV2SampleCount=None, name='Gastrointestinal Stromal Tumor (MSK, NPJ Precis Oncol 2023)', pmid='36593350', publicStudy=True, readPermission=True, referenceGenome='hg19', rppaSampleCount=None, sequencedSampleCount=None, status=0, studyId='gist_msk_2022', treatmentCount=None),\n",
       " CancerStudy(allSampleCount=98, cancerType=None, cancerTypeId='ccrcc', citation='Guo et al. Nat Genet 2012', cnaSampleCount=None, completeSampleCount=None, description='Whole-exome sequencing of 10 ccRCC tumor/normal pairs and targeted sequencing of 88 clear cell carcinoma tumor/normal pairs. Generated by BGI-Shenzhen.', groups='PUBLIC', importDate='2023-12-08 10:52:13', massSpectrometrySampleCount=None, methylationHm27SampleCount=None, miRnaSampleCount=None, mrnaMicroarraySampleCount=None, mrnaRnaSeqSampleCount=None, mrnaRnaSeqV2SampleCount=None, name='Kidney Renal Clear Cell Carcinoma (BGI, Nat Genet 2012)', pmid='22138691', publicStudy=True, readPermission=True, referenceGenome='hg19', rppaSampleCount=None, sequencedSampleCount=None, status=0, studyId='kirc_bgi', treatmentCount=None),\n",
       " CancerStudy(allSampleCount=446, cancerType=None, cancerTypeId='ccrcc', citation='TCGA, Nature 2013', cnaSampleCount=None, completeSampleCount=None, description='Whole-exome sequencing in 417 of 446 clear cell renal cell carcinoma tumor/normal pairs.', groups='PUBLIC', importDate='2023-12-08 10:52:29', massSpectrometrySampleCount=None, methylationHm27SampleCount=None, miRnaSampleCount=None, mrnaMicroarraySampleCount=None, mrnaRnaSeqSampleCount=None, mrnaRnaSeqV2SampleCount=None, name='Kidney Renal Clear Cell Carcinoma (TCGA, Nature 2013)', pmid='23792563', publicStudy=True, readPermission=True, referenceGenome='hg19', rppaSampleCount=None, sequencedSampleCount=None, status=0, studyId='kirc_tcga_pub', treatmentCount=None),\n",
       " CancerStudy(allSampleCount=66, cancerType=None, cancerTypeId='chrcc', citation='TCGA, Cancer Cell 2014', cnaSampleCount=None, completeSampleCount=None, description='Whole-exome sequencing of 66 chromophobe renal cell carcinoma (ChRCCs) tumor/normal pairs.', groups='PUBLIC', importDate='2023-12-08 10:54:00', massSpectrometrySampleCount=None, methylationHm27SampleCount=None, miRnaSampleCount=None, mrnaMicroarraySampleCount=None, mrnaRnaSeqSampleCount=None, mrnaRnaSeqV2SampleCount=None, name='Kidney Chromophobe (TCGA, Cancer Cell 2014)', pmid='25155756', publicStudy=True, readPermission=True, referenceGenome='hg19', rppaSampleCount=None, sequencedSampleCount=None, status=0, studyId='kich_tcga_pub', treatmentCount=None),\n",
       " CancerStudy(allSampleCount=74, cancerType=None, cancerTypeId='hnsc', citation='Stransky et al. Science 2011', cnaSampleCount=None, completeSampleCount=None, description='Whole-exome sequencing of 74 head and neck squamous cell carcinoma tumor/normal pairs.', groups='PUBLIC', importDate='2023-12-08 10:54:27', massSpectrometrySampleCount=None, methylationHm27SampleCount=None, miRnaSampleCount=None, mrnaMicroarraySampleCount=None, mrnaRnaSeqSampleCount=None, mrnaRnaSeqV2SampleCount=None, name='Head and Neck Squamous Cell Carcinoma (Broad, Science 2011)', pmid='21798893', publicStudy=True, readPermission=True, referenceGenome='hg19', rppaSampleCount=None, sequencedSampleCount=None, status=0, studyId='hnsc_broad', treatmentCount=None),\n",
       " CancerStudy(allSampleCount=32, cancerType=None, cancerTypeId='hnsc', citation='Agrawal et al. Science 2011', cnaSampleCount=None, completeSampleCount=None, description='Exome sequencing of 32 head and neck squamous cell carcinoma tumor/normal sample pairs.', groups='PUBLIC', importDate='2023-12-08 10:54:47', massSpectrometrySampleCount=None, methylationHm27SampleCount=None, miRnaSampleCount=None, mrnaMicroarraySampleCount=None, mrnaRnaSeqSampleCount=None, mrnaRnaSeqV2SampleCount=None, name='Head and Neck Squamous Cell Carcinoma (Johns Hopkins, Science 2011)', pmid='21798897', publicStudy=True, readPermission=True, referenceGenome='hg19', rppaSampleCount=None, sequencedSampleCount=None, status=0, studyId='hnsc_jhu', treatmentCount=None),\n",
       " CancerStudy(allSampleCount=279, cancerType=None, cancerTypeId='hnsc', citation='TCGA, Nature 2015', cnaSampleCount=None, completeSampleCount=None, description='Whole-exome sequencing and/or whole-genome sequencing of 279 head and neck squamous cell carcinoma tumor/normal pairs. The Cancer Genome Atlas (TCGA) head and neck squamous cell carcinoma Project.', groups='PUBLIC', importDate='2023-12-08 10:55:04', massSpectrometrySampleCount=None, methylationHm27SampleCount=None, miRnaSampleCount=None, mrnaMicroarraySampleCount=None, mrnaRnaSeqSampleCount=None, mrnaRnaSeqV2SampleCount=None, name='Head and Neck Squamous Cell Carcinoma (TCGA, Nature 2015)', pmid='25631445', publicStudy=True, readPermission=True, referenceGenome='hg19', rppaSampleCount=None, sequencedSampleCount=None, status=0, studyId='hnsc_tcga_pub', treatmentCount=None),\n",
       " CancerStudy(allSampleCount=40, cancerType=None, cancerTypeId='hnsc', citation='Pickering et al. Cancer Discov 2013', cnaSampleCount=None, completeSampleCount=None, description='Whole-exome sequencing of 40 oral squamous cell carcinoma tumor/normal sample pairs.', groups='', importDate='2023-12-08 10:58:15', massSpectrometrySampleCount=None, methylationHm27SampleCount=None, miRnaSampleCount=None, mrnaMicroarraySampleCount=None, mrnaRnaSeqSampleCount=None, mrnaRnaSeqV2SampleCount=None, name='Oral Squamous Cell Carcinoma (MD Anderson, Cancer Discov 2013)', pmid='23619168', publicStudy=True, readPermission=True, referenceGenome='hg19', rppaSampleCount=None, sequencedSampleCount=None, status=0, studyId='hnsc_mdanderson_2013', treatmentCount=None),\n",
       " CancerStudy(allSampleCount=160, cancerType=None, cancerTypeId='cllsll', citation='Landau et al. Cell 2013', cnaSampleCount=None, completeSampleCount=None, description='Whole-exome sequencing of 160 CLL tumor/normal pairs.', groups='', importDate='2023-12-08 10:58:31', massSpectrometrySampleCount=None, methylationHm27SampleCount=None, miRnaSampleCount=None, mrnaMicroarraySampleCount=None, mrnaRnaSeqSampleCount=None, mrnaRnaSeqV2SampleCount=None, name='Chronic Lymphocytic Leukemia (Broad, Cell 2013)', pmid='23415222', publicStudy=True, readPermission=True, referenceGenome='hg19', rppaSampleCount=None, sequencedSampleCount=None, status=0, studyId='lcll_broad_2013', treatmentCount=None),\n",
       " CancerStudy(allSampleCount=103, cancerType=None, cancerTypeId='ihch', citation='Shanshan et al. Nat Commun 2014', cnaSampleCount=None, completeSampleCount=None, description='Whole exome sequencing of 103 tumor/normal sample pairs in 103 intrahepatic cholangiocarcinoma patients.', groups='PUBLIC', importDate='2023-12-08 10:58:48', massSpectrometrySampleCount=None, methylationHm27SampleCount=None, miRnaSampleCount=None, mrnaMicroarraySampleCount=None, mrnaRnaSeqSampleCount=None, mrnaRnaSeqV2SampleCount=None, name='Intrahepatic Cholangiocarcinoma (Shanghai, Nat Commun 2014)', pmid='25526346', publicStudy=True, readPermission=True, referenceGenome='hg19', rppaSampleCount=None, sequencedSampleCount=None, status=0, studyId='ihch_smmu_2014', treatmentCount=None),\n",
       " CancerStudy(allSampleCount=219, cancerType=None, cancerTypeId='ihch', citation='Jolissaint et al. Clin Cancer Res 2021', cnaSampleCount=None, completeSampleCount=None, description='Targeted sequencing of IMPACT and CMO samples', groups='', importDate='2023-12-08 10:59:07', massSpectrometrySampleCount=None, methylationHm27SampleCount=None, miRnaSampleCount=None, mrnaMicroarraySampleCount=None, mrnaRnaSeqSampleCount=None, mrnaRnaSeqV2SampleCount=None, name='Intrahepatic Cholangiocarcinoma (MSK, Clin Cancer Res 2021)', pmid='33963001', publicStudy=True, readPermission=True, referenceGenome='hg19', rppaSampleCount=None, sequencedSampleCount=None, status=0, studyId='ihch_mskcc_2020', treatmentCount=None),\n",
       " CancerStudy(allSampleCount=8, cancerType=None, cancerTypeId='ihch', citation='Sia et al. Nature Commun 2015', cnaSampleCount=None, completeSampleCount=None, description='Whole-exome sequencing of 8 tumor-normal paired iCCA samples by Liver Cancer Program at the Icahn School of Medicine at Mount Sinai, in collaboration with Barcelona-ClÃ\\xadnic Liver Cancer Group.', groups='', importDate='2023-12-08 10:59:23', massSpectrometrySampleCount=None, methylationHm27SampleCount=None, miRnaSampleCount=None, mrnaMicroarraySampleCount=None, mrnaRnaSeqSampleCount=None, mrnaRnaSeqV2SampleCount=None, name='Intrahepatic Cholangiocarcinoma (Mount Sinai 2015)', pmid='25608663', publicStudy=True, readPermission=True, referenceGenome='hg19', rppaSampleCount=None, sequencedSampleCount=None, status=0, studyId='ihch_ismms_2015', treatmentCount=None),\n",
       " CancerStudy(allSampleCount=412, cancerType=None, cancerTypeId='ihch', citation='Boerner et al. Hepatology 2021', cnaSampleCount=None, completeSampleCount=None, description='Targeted sequencing of 412 intrahepatic cholangiocarcinoma tumor/normal sample pairs.', groups='PUBLIC', importDate='2023-12-08 10:59:39', massSpectrometrySampleCount=None, methylationHm27SampleCount=None, miRnaSampleCount=None, mrnaMicroarraySampleCount=None, mrnaRnaSeqSampleCount=None, mrnaRnaSeqV2SampleCount=None, name='Intrahepatic Cholangiocarcinoma (MSK, Hepatology 2021)', pmid='33765338', publicStudy=True, readPermission=True, referenceGenome='hg19', rppaSampleCount=None, sequencedSampleCount=None, status=0, studyId='ihch_msk_2021', treatmentCount=None),\n",
       " CancerStudy(allSampleCount=61, cancerType=None, cancerTypeId='difg', citation='Johnson et al. Science 2014', cnaSampleCount=None, completeSampleCount=None, description='Whole exome sequencing of 23 grade II glioma tumor/normal pairs.', groups='PUBLIC', importDate='2023-12-08 12:06:19', massSpectrometrySampleCount=None, methylationHm27SampleCount=None, miRnaSampleCount=None, mrnaMicroarraySampleCount=None, mrnaRnaSeqSampleCount=None, mrnaRnaSeqV2SampleCount=None, name='Low-Grade Gliomas (UCSF, Science 2014)', pmid='24336570', publicStudy=True, readPermission=True, referenceGenome='hg19', rppaSampleCount=None, sequencedSampleCount=None, status=0, studyId='lgg_ucsf_2014', treatmentCount=None),\n",
       " CancerStudy(allSampleCount=1122, cancerType=None, cancerTypeId='difg', citation='TCGA, Cell 2016', cnaSampleCount=None, completeSampleCount=None, description='Whole exome sequencing of 1,122 LGG and GBM tumor/normal pairs.', groups='PUBLIC', importDate='2023-12-08 12:06:41', massSpectrometrySampleCount=None, methylationHm27SampleCount=None, miRnaSampleCount=None, mrnaMicroarraySampleCount=None, mrnaRnaSeqSampleCount=None, mrnaRnaSeqV2SampleCount=None, name='Merged Cohort of LGG and GBM (TCGA, Cell 2016)', pmid='26824661', publicStudy=True, readPermission=True, referenceGenome='hg19', rppaSampleCount=None, sequencedSampleCount=None, status=0, studyId='lgggbm_tcga_pub', treatmentCount=None),\n",
       " CancerStudy(allSampleCount=231, cancerType=None, cancerTypeId='hcc', citation='Ahn et al. Hepatology 2014', cnaSampleCount=None, completeSampleCount=None, description='Whole exome sequencing of 231 hepatocellular carcinomas and matched normal tissue pairs.', groups='PUBLIC', importDate='2023-12-08 12:10:51', massSpectrometrySampleCount=None, methylationHm27SampleCount=None, miRnaSampleCount=None, mrnaMicroarraySampleCount=None, mrnaRnaSeqSampleCount=None, mrnaRnaSeqV2SampleCount=None, name='Liver Hepatocellular Carcinoma (AMC, Hepatology 2014)', pmid='24798001', publicStudy=True, readPermission=True, referenceGenome='hg19', rppaSampleCount=None, sequencedSampleCount=None, status=0, studyId='lihc_amc_prv', treatmentCount=None),\n",
       " CancerStudy(allSampleCount=27, cancerType=None, cancerTypeId='hcc', citation='Fujimoto et al. Nat Genet 2012', cnaSampleCount=None, completeSampleCount=None, description='Whole-genome sequencing of 27 hepatocellular carcinoma tumor/norma pairs from RIKEN.', groups='PUBLIC', importDate='2023-12-08 12:11:28', massSpectrometrySampleCount=None, methylationHm27SampleCount=None, miRnaSampleCount=None, mrnaMicroarraySampleCount=None, mrnaRnaSeqSampleCount=None, mrnaRnaSeqV2SampleCount=None, name='Liver Hepatocellular Carcinoma (RIKEN, Nat Genet 2012)', pmid='22634756', publicStudy=True, readPermission=True, referenceGenome='hg19', rppaSampleCount=None, sequencedSampleCount=None, status=0, studyId='lihc_riken', treatmentCount=None),\n",
       " CancerStudy(allSampleCount=35, cancerType=None, cancerTypeId='luad', citation='Rizvi et al. Science 2015', cnaSampleCount=None, completeSampleCount=None, description='Whole-exome sequencing of 34 non small cell lung cancer tumor/normal pairs.', groups='', importDate='2023-12-08 12:11:45', massSpectrometrySampleCount=None, methylationHm27SampleCount=None, miRnaSampleCount=None, mrnaMicroarraySampleCount=None, mrnaRnaSeqSampleCount=None, mrnaRnaSeqV2SampleCount=None, name='Lung Adenocarcinoma (MSK, Science 2015)', pmid='25765070', publicStudy=True, readPermission=True, referenceGenome='hg19', rppaSampleCount=None, sequencedSampleCount=None, status=0, studyId='luad_mskcc_2015', treatmentCount=None),\n",
       " CancerStudy(allSampleCount=183, cancerType=None, cancerTypeId='luad', citation='Imielinksi et al. Cell 2012', cnaSampleCount=None, completeSampleCount=None, description='Whole-exome and/or whole-genome sequencing of 183 lung adenocarcinomas and matched normal tissue pairs.', groups='PUBLIC', importDate='2023-12-08 12:12:09', massSpectrometrySampleCount=None, methylationHm27SampleCount=None, miRnaSampleCount=None, mrnaMicroarraySampleCount=None, mrnaRnaSeqSampleCount=None, mrnaRnaSeqV2SampleCount=None, name='Lung Adenocarcinoma (Broad, Cell 2012)', pmid='22980975', publicStudy=True, readPermission=True, referenceGenome='hg19', rppaSampleCount=None, sequencedSampleCount=None, status=0, studyId='luad_broad', treatmentCount=None),\n",
       " CancerStudy(allSampleCount=230, cancerType=None, cancerTypeId='luad', citation='TCGA, Nature 2014', cnaSampleCount=None, completeSampleCount=None, description='Whole exome sequencing of 230 lung adenocarcinoma tumor/normal pairs. <a href=\"https://tcga-data.nci.nih.gov/docs/publications/luad_2014/\">Raw data via the TCGA Data Portal</a>.', groups='PUBLIC', importDate='2023-12-08 12:13:57', massSpectrometrySampleCount=None, methylationHm27SampleCount=None, miRnaSampleCount=None, mrnaMicroarraySampleCount=None, mrnaRnaSeqSampleCount=None, mrnaRnaSeqV2SampleCount=None, name='Lung Adenocarcinoma (TCGA, Nature 2014)', pmid='25079552', publicStudy=True, readPermission=True, referenceGenome='hg19', rppaSampleCount=None, sequencedSampleCount=None, status=0, studyId='luad_tcga_pub', treatmentCount=None),\n",
       " CancerStudy(allSampleCount=163, cancerType=None, cancerTypeId='luad', citation='Ding et al. Nature 2008', cnaSampleCount=None, completeSampleCount=None, description='Targeted sequencing of 163 lung adenocarcinoma tumor/normal pairs. Generated by WashU/Broad.', groups='PUBLIC', importDate='2023-12-08 12:17:44', massSpectrometrySampleCount=None, methylationHm27SampleCount=None, miRnaSampleCount=None, mrnaMicroarraySampleCount=None, mrnaRnaSeqSampleCount=None, mrnaRnaSeqV2SampleCount=None, name='Lung Adenocarcinoma (TSP, Nature 2008)', pmid='18948947', publicStudy=True, readPermission=True, referenceGenome='hg19', rppaSampleCount=None, sequencedSampleCount=None, status=0, studyId='luad_tsp', treatmentCount=None),\n",
       " CancerStudy(allSampleCount=46, cancerType=None, cancerTypeId='liad', citation='Pilati et al. Cancer Cell 2014', cnaSampleCount=None, completeSampleCount=None, description='Whole-exome sequencing of 46 liver tumor/normal pairs.', groups='', importDate='2023-12-08 12:18:01', massSpectrometrySampleCount=None, methylationHm27SampleCount=None, miRnaSampleCount=None, mrnaMicroarraySampleCount=None, mrnaRnaSeqSampleCount=None, mrnaRnaSeqV2SampleCount=None, name='Hepatocellular Adenoma (INSERM, Cancer Cell 2014)', pmid='24735922', publicStudy=True, readPermission=True, referenceGenome='hg19', rppaSampleCount=None, sequencedSampleCount=None, status=0, studyId='liad_inserm_fr_2014', treatmentCount=None),\n",
       " CancerStudy(allSampleCount=915, cancerType=None, cancerTypeId='luad', citation='Jordan et al. Cancer Discov 2017', cnaSampleCount=None, completeSampleCount=None, description='Targeted sequencing of 860 patients with metastatic lung adenocarcinoma', groups='PUBLIC', importDate='2023-12-08 12:18:18', massSpectrometrySampleCount=None, methylationHm27SampleCount=None, miRnaSampleCount=None, mrnaMicroarraySampleCount=None, mrnaRnaSeqSampleCount=None, mrnaRnaSeqV2SampleCount=None, name='Non-Small Cell Cancer (MSK, Cancer Discov 2017)', pmid='28336552', publicStudy=True, readPermission=True, referenceGenome='hg19', rppaSampleCount=None, sequencedSampleCount=None, status=0, studyId='lung_msk_2017', treatmentCount=None),\n",
       " CancerStudy(allSampleCount=604, cancerType=None, cancerTypeId='luad', citation='Caso et al. J Thorac Oncol 2020', cnaSampleCount=None, completeSampleCount=None, description='Targeted sequencing of 604 lung adenocarcinoma tumor/normal pairs via MSK-IMPACT.', groups='', importDate='2023-12-08 12:18:42', massSpectrometrySampleCount=None, methylationHm27SampleCount=None, miRnaSampleCount=None, mrnaMicroarraySampleCount=None, mrnaRnaSeqSampleCount=None, mrnaRnaSeqV2SampleCount=None, name='Lung Adenocarcinoma (MSK, J Thorac Oncol 2020)', pmid='32791233', publicStudy=True, readPermission=True, referenceGenome='hg19', rppaSampleCount=None, sequencedSampleCount=None, status=0, studyId='luad_mskcc_2020', treatmentCount=None),\n",
       " CancerStudy(allSampleCount=2653, cancerType=None, cancerTypeId='luad', citation='Lengel, Harry B et al. Cancer Cell 2023', cnaSampleCount=None, completeSampleCount=None, description='Targeted and whole-exome sequencing of 2653 lung adenocarcinoma tumor/normal sample pairs.', groups='', importDate='2023-12-08 12:19:03', massSpectrometrySampleCount=None, methylationHm27SampleCount=None, miRnaSampleCount=None, mrnaMicroarraySampleCount=None, mrnaRnaSeqSampleCount=None, mrnaRnaSeqV2SampleCount=None, name='Lung Adenocarcinoma Met Organotropism (MSK, Cancer Cell 2023)', pmid='37084736', publicStudy=True, readPermission=True, referenceGenome='hg19', rppaSampleCount=None, sequencedSampleCount=None, status=0, studyId='luad_mskcc_2023_met_organotropism', treatmentCount=None),\n",
       " CancerStudy(allSampleCount=426, cancerType=None, cancerTypeId='luad', citation='Caso et al. NPJ Precis Oncol 2021', cnaSampleCount=None, completeSampleCount=None, description='Targeted sequencing of 426 matched normal samples from 426 lung adenocarcinoma patients.', groups='', importDate='2023-12-08 12:23:29', massSpectrometrySampleCount=None, methylationHm27SampleCount=None, miRnaSampleCount=None, mrnaMicroarraySampleCount=None, mrnaRnaSeqSampleCount=None, mrnaRnaSeqV2SampleCount=None, name='Lung Adenocarcinoma (MSK, NPJ Precision Oncology 2021)', pmid='34290393', publicStudy=True, readPermission=True, referenceGenome='hg19', rppaSampleCount=None, sequencedSampleCount=None, status=0, studyId='luad_msk_npjpo_2021', treatmentCount=None),\n",
       " CancerStudy(allSampleCount=186, cancerType=None, cancerTypeId='luad', citation=None, cnaSampleCount=None, completeSampleCount=None, description='Targeted sequencing of 186 matched normal samples from 186 lung adenocarcinoma patient via MSK-IMPACT.', groups='', importDate='2023-12-08 12:23:49', massSpectrometrySampleCount=None, methylationHm27SampleCount=None, miRnaSampleCount=None, mrnaMicroarraySampleCount=None, mrnaRnaSeqSampleCount=None, mrnaRnaSeqV2SampleCount=None, name='Lung Adenocarcinoma (MSK, 2021)', pmid=None, publicStudy=True, readPermission=True, referenceGenome='hg19', rppaSampleCount=None, sequencedSampleCount=None, status=0, studyId='luad_mskimpact_2021', treatmentCount=None),\n",
       " CancerStudy(allSampleCount=110, cancerType=None, cancerTypeId='luad', citation='M.A. Gillette et al. Cell 2020', cnaSampleCount=None, completeSampleCount=None, description='Whole genome (WGS) or whole exome sequencing (WES) of 110 tumors and 101 matched normal adjacent tissues in lung adenocarcinoma. Proteogenomic characterization generated by CPTAC.', groups='', importDate='2023-12-08 12:24:08', massSpectrometrySampleCount=None, methylationHm27SampleCount=None, miRnaSampleCount=None, mrnaMicroarraySampleCount=None, mrnaRnaSeqSampleCount=None, mrnaRnaSeqV2SampleCount=None, name='Lung Adenocarcinoma (CPTAC, Cell 2020)', pmid='32649874', publicStudy=True, readPermission=True, referenceGenome='hg19', rppaSampleCount=None, sequencedSampleCount=None, status=0, studyId='luad_cptac_2020', treatmentCount=None),\n",
       " CancerStudy(allSampleCount=119, cancerType=None, cancerTypeId='lgsoc', citation='Manning-Geist et al. Clin Cancer Res. 2022', cnaSampleCount=None, completeSampleCount=None, description='Characterization of the somatic mutational landscape of MAPK pathway in 119 low-grade serous ovarian carcinomas and their matched normals.', groups='', importDate='2023-12-08 12:25:07', massSpectrometrySampleCount=None, methylationHm27SampleCount=None, miRnaSampleCount=None, mrnaMicroarraySampleCount=None, mrnaRnaSeqSampleCount=None, mrnaRnaSeqV2SampleCount=None, name='Low-Grade Serous Ovarian Cancer (MSK, Clin Cancer Res 2022)', pmid='35443055', publicStudy=True, readPermission=True, referenceGenome='hg19', rppaSampleCount=None, sequencedSampleCount=None, status=0, studyId='lgsoc_mapk_msk_2022', treatmentCount=None),\n",
       " CancerStudy(allSampleCount=178, cancerType=None, cancerTypeId='lusc', citation=None, cnaSampleCount=None, completeSampleCount=None, description='Whole exome sequencing of 178 lung squamous cell carcinoma tumor/normal pairs. <a href=\"http://cancergenome.nih.gov/\">The Cancer Genome Atlas (TCGA)</a> Lung Squamous Cell Carcinoma project.', groups='PUBLIC', importDate='2023-12-08 12:36:53', massSpectrometrySampleCount=None, methylationHm27SampleCount=None, miRnaSampleCount=None, mrnaMicroarraySampleCount=None, mrnaRnaSeqSampleCount=None, mrnaRnaSeqV2SampleCount=None, name='Lung Squamous Cell Carcinoma (TCGA, Nature 2012)', pmid='22960745', publicStudy=True, readPermission=True, referenceGenome='hg19', rppaSampleCount=None, sequencedSampleCount=None, status=0, studyId='lusc_tcga_pub', treatmentCount=None),\n",
       " CancerStudy(allSampleCount=92, cancerType=None, cancerTypeId='mbl', citation='Pugh et al. Nature 2012', cnaSampleCount=None, completeSampleCount=None, description='Whole exome sequencing of 92 primary medulloblastoma tumor/normal pairs.', groups='PUBLIC', importDate='2023-12-08 12:39:10', massSpectrometrySampleCount=None, methylationHm27SampleCount=None, miRnaSampleCount=None, mrnaMicroarraySampleCount=None, mrnaRnaSeqSampleCount=None, mrnaRnaSeqV2SampleCount=None, name='Medulloblastoma (Broad, Nature 2012)', pmid='22820256', publicStudy=True, readPermission=True, referenceGenome='hg19', rppaSampleCount=None, sequencedSampleCount=None, status=0, studyId='mbl_broad_2012', treatmentCount=None),\n",
       " CancerStudy(allSampleCount=125, cancerType=None, cancerTypeId='mbl', citation='Jones et al. Nature 2012', cnaSampleCount=None, completeSampleCount=None, description='Comprehensive profiling of 125 matched tumor and germline medulloblastoma samples', groups='PUBLIC', importDate='2023-12-08 12:39:29', massSpectrometrySampleCount=None, methylationHm27SampleCount=None, miRnaSampleCount=None, mrnaMicroarraySampleCount=None, mrnaRnaSeqSampleCount=None, mrnaRnaSeqV2SampleCount=None, name='Medulloblastoma (ICGC, Nature 2012)', pmid='22832583', publicStudy=True, readPermission=True, referenceGenome='hg19', rppaSampleCount=None, sequencedSampleCount=None, status=0, studyId='mbl_icgc', treatmentCount=None),\n",
       " CancerStudy(allSampleCount=37, cancerType=None, cancerTypeId='mbl', citation='Robinson et al. Nature 2012', cnaSampleCount=None, completeSampleCount=None, description=\"Whole genome sequencing of 37 medulloblastoma tumors and their matched normals from the Pediatric Cancer Genome Project (PCGP), a joint project by St. Jude Children's Research Hospital and Washington University.\", groups='PUBLIC', importDate='2023-12-08 12:39:47', massSpectrometrySampleCount=None, methylationHm27SampleCount=None, miRnaSampleCount=None, mrnaMicroarraySampleCount=None, mrnaRnaSeqSampleCount=None, mrnaRnaSeqV2SampleCount=None, name='Medulloblastoma (PCGP, Nature 2012)', pmid='22722829', publicStudy=True, readPermission=True, referenceGenome='hg19', rppaSampleCount=None, sequencedSampleCount=None, status=0, studyId='mbl_pcgp', treatmentCount=None),\n",
       " CancerStudy(allSampleCount=29, cancerType=None, cancerTypeId='mcl', citation='BeÃ\\xa0 et al. PNAS 2013', cnaSampleCount=None, completeSampleCount=None, description='Whole exome sequencing of 29 primary mantle cell lymphomas and their matched normals.', groups='', importDate='2023-12-08 12:40:05', massSpectrometrySampleCount=None, methylationHm27SampleCount=None, miRnaSampleCount=None, mrnaMicroarraySampleCount=None, mrnaRnaSeqSampleCount=None, mrnaRnaSeqV2SampleCount=None, name='Mantle Cell Lymphoma (IDIBIPS, PNAS 2013)', pmid='24145436', publicStudy=True, readPermission=True, referenceGenome='hg19', rppaSampleCount=None, sequencedSampleCount=None, status=0, studyId='mcl_idibips_2013', treatmentCount=None),\n",
       " CancerStudy(allSampleCount=29, cancerType=None, cancerTypeId='mds', citation='Yoshida et al. Nature 2011', cnaSampleCount=None, completeSampleCount=None, description='Whole exome sequencing of 29 myelodysplasia tumor/normal pairs.', groups='', importDate='2023-12-08 12:40:23', massSpectrometrySampleCount=None, methylationHm27SampleCount=None, miRnaSampleCount=None, mrnaMicroarraySampleCount=None, mrnaRnaSeqSampleCount=None, mrnaRnaSeqV2SampleCount=None, name='Myelodysplasia (UTokyo, Nature 2011)', pmid='21909114', publicStudy=True, readPermission=True, referenceGenome='hg19', rppaSampleCount=None, sequencedSampleCount=None, status=0, studyId='mds_tokyo_2011', treatmentCount=None),\n",
       " CancerStudy(allSampleCount=46, cancerType=None, cancerTypeId='mbl', citation='Morrissy et al. Nature 2016', cnaSampleCount=None, completeSampleCount=None, description='Whole-genome sequencing of 46 recurrent medulloblastoma samples.', groups='PUBLIC', importDate='2023-12-08 12:40:41', massSpectrometrySampleCount=None, methylationHm27SampleCount=None, miRnaSampleCount=None, mrnaMicroarraySampleCount=None, mrnaRnaSeqSampleCount=None, mrnaRnaSeqV2SampleCount=None, name='Medulloblastoma (Sickkids, Nature 2016)', pmid='26760213', publicStudy=True, readPermission=True, referenceGenome='hg19', rppaSampleCount=None, sequencedSampleCount=None, status=0, studyId='mbl_sickkids_2016', treatmentCount=None),\n",
       " CancerStudy(allSampleCount=38, cancerType=None, cancerTypeId='mel', citation='Hugo et al. Cell 2016', cnaSampleCount=None, completeSampleCount=None, description='Whole-exome sequencing of 38 pretreated (pembrolizumab, nivolumab) melanoma tumor-normal pairs.', groups='', importDate='2023-12-08 12:41:37', massSpectrometrySampleCount=None, methylationHm27SampleCount=None, miRnaSampleCount=None, mrnaMicroarraySampleCount=None, mrnaRnaSeqSampleCount=None, mrnaRnaSeqV2SampleCount=None, name='Metastatic Melanoma (UCLA, Cell 2016)', pmid='26997480', publicStudy=True, readPermission=True, referenceGenome='hg19', rppaSampleCount=None, sequencedSampleCount=None, status=0, studyId='mel_ucla_2016', treatmentCount=None),\n",
       " CancerStudy(allSampleCount=318, cancerType=None, cancerTypeId='lung', citation=None, cnaSampleCount=None, completeSampleCount=None, description='Targeted sequencing of thoracic PDX lines to characterize genetic alterations in 318 tumor/normal pairs via MSK-IMPACT. This cohort is a PDX tracker of all lung cancer PDX generated at MSK that have been through IMPACT sequencing. This is a live datafeed, increasing over time, not published as a cohort.', groups='', importDate='2023-12-08 12:43:37', massSpectrometrySampleCount=None, methylationHm27SampleCount=None, miRnaSampleCount=None, mrnaMicroarraySampleCount=None, mrnaRnaSeqSampleCount=None, mrnaRnaSeqV2SampleCount=None, name='Thoracic PDX (MSK, Provisional)', pmid=None, publicStudy=True, readPermission=True, referenceGenome='hg19', rppaSampleCount=None, sequencedSampleCount=None, status=0, studyId='lung_msk_pdx', treatmentCount=None),\n",
       " CancerStudy(allSampleCount=34, cancerType=None, cancerTypeId='lymph', citation='Neeta et al. Blood 2021', cnaSampleCount=None, completeSampleCount=None, description='Targeted sequencing of 34 lymphoma cell lines using HemePACT_v3', groups='PUBLIC', importDate='2023-12-08 12:44:43', massSpectrometrySampleCount=None, methylationHm27SampleCount=None, miRnaSampleCount=None, mrnaMicroarraySampleCount=None, mrnaRnaSeqSampleCount=None, mrnaRnaSeqV2SampleCount=None, name='Lymphoma Cell Lines (MSK, Blood 2020)', pmid='33067607', publicStudy=True, readPermission=True, referenceGenome='hg19', rppaSampleCount=None, sequencedSampleCount=None, status=0, studyId='lymphoma_cellline_msk_2020', treatmentCount=None),\n",
       " CancerStudy(allSampleCount=4231, cancerType=None, cancerTypeId='mds', citation='Papaemmanuil et al. NEJM 2016; Tyner et al. Nature 2018; Papaemmanuil et al. Blood 2013', cnaSampleCount=None, completeSampleCount=None, description='Single-cell genomics reveals the genetic and molecular bases for escape from mutational epistasis in myeloid neoplasms', groups='PENSONA;OMARHISTCOBI', importDate='2023-12-08 12:45:01', massSpectrometrySampleCount=None, methylationHm27SampleCount=None, miRnaSampleCount=None, mrnaMicroarraySampleCount=None, mrnaRnaSeqSampleCount=None, mrnaRnaSeqV2SampleCount=None, name='Myelodysplastic (MSK, 2020)', pmid='27276561,30333627,24030381', publicStudy=True, readPermission=True, referenceGenome='hg19', rppaSampleCount=None, sequencedSampleCount=None, status=0, studyId='mds_mskcc_2020', treatmentCount=None),\n",
       " CancerStudy(allSampleCount=22, cancerType=None, cancerTypeId='lung', citation='Sang-Won et al. Cancer Research 2016', cnaSampleCount=None, completeSampleCount=None, description='Whole exome and whole transcriptome sequencing of primary and multiple metastatic lymph node samples from 6 lung cancer patients with their matched normals.', groups='PUBLIC', importDate='2023-12-08 12:47:26', massSpectrometrySampleCount=None, methylationHm27SampleCount=None, miRnaSampleCount=None, mrnaMicroarraySampleCount=None, mrnaRnaSeqSampleCount=None, mrnaRnaSeqV2SampleCount=None, name='Lung Cancer (SMC, Cancer Research 2016)', pmid='27634761', publicStudy=True, readPermission=True, referenceGenome='hg19', rppaSampleCount=None, sequencedSampleCount=None, status=0, studyId='lung_smc_2016', treatmentCount=None),\n",
       " CancerStudy(allSampleCount=19, cancerType=None, cancerTypeId='mbc', citation='Edaise M et al. NPJ Breast Cancer 2021', cnaSampleCount=None, completeSampleCount=None, description='Targeted or whole-exome sequencing of 19 Metaplastic Breast Cancer tumor/normal pairs.', groups='', importDate='2023-12-08 12:47:46', massSpectrometrySampleCount=None, methylationHm27SampleCount=None, miRnaSampleCount=None, mrnaMicroarraySampleCount=None, mrnaRnaSeqSampleCount=None, mrnaRnaSeqV2SampleCount=None, name='Metaplastic Breast Cancer (MSK,NPJ Breast Cancer 2021)', pmid='33863915', publicStudy=True, readPermission=True, referenceGenome='hg19', rppaSampleCount=None, sequencedSampleCount=None, status=0, studyId='mbc_msk_2021', treatmentCount=None),\n",
       " CancerStudy(allSampleCount=696, cancerType=None, cancerTypeId='skcm', citation='Alexander N et al. Clin Cancer Res 2021', cnaSampleCount=None, completeSampleCount=None, description='Targeted sequencing (MSK-IMPACT) of 696 melanoma tumor/normal pairs.', groups='', importDate='2023-12-08 12:48:05', massSpectrometrySampleCount=None, methylationHm27SampleCount=None, miRnaSampleCount=None, mrnaMicroarraySampleCount=None, mrnaRnaSeqSampleCount=None, mrnaRnaSeqV2SampleCount=None, name='Melanoma (MSK, Clin Cancer Res 2021)', pmid='33509808', publicStudy=True, readPermission=True, referenceGenome='hg19', rppaSampleCount=None, sequencedSampleCount=None, status=0, studyId='mel_mskimpact_2020', treatmentCount=None),\n",
       " CancerStudy(allSampleCount=69, cancerType=None, cancerTypeId='lung', citation='Rebecca et al. Nat Commun. 2022', cnaSampleCount=None, completeSampleCount=None, description='Targeted sequencing of tumor and PDX thoracic samples.', groups='PUBLIC', importDate='2023-12-08 12:48:34', massSpectrometrySampleCount=None, methylationHm27SampleCount=None, miRnaSampleCount=None, mrnaMicroarraySampleCount=None, mrnaRnaSeqSampleCount=None, mrnaRnaSeqV2SampleCount=None, name='Thoracic Cancer (MSK, Nat Commun 2021)', pmid='35440124', publicStudy=True, readPermission=True, referenceGenome='hg19', rppaSampleCount=None, sequencedSampleCount=None, status=0, studyId='lung_pdx_msk_2021', treatmentCount=None),\n",
       " CancerStudy(allSampleCount=491, cancerType=None, cancerTypeId='mbl', citation='Northcott et al. Nature 2017', cnaSampleCount=None, completeSampleCount=None, description='Whole genome or whole exome sequencing of 491 previously untreated Medulloblastoma tumor/normal pairs.', groups='PUBLIC', importDate='2023-12-08 12:48:55', massSpectrometrySampleCount=None, methylationHm27SampleCount=None, miRnaSampleCount=None, mrnaMicroarraySampleCount=None, mrnaRnaSeqSampleCount=None, mrnaRnaSeqV2SampleCount=None, name='Medulloblastoma (DKFZ, Nature 2017)', pmid='28726821', publicStudy=True, readPermission=True, referenceGenome='hg19', rppaSampleCount=None, sequencedSampleCount=None, status=0, studyId='mbl_dkfz_2017', treatmentCount=None),\n",
       " CancerStudy(allSampleCount=80, cancerType=None, cancerTypeId='lusc', citation='Shankha Satpathy et al. 2021 Cell.', cnaSampleCount=None, completeSampleCount=None, description='Whole genome / whole exome sequencing and proteogenomic portrait of 108 prospectively collected, treatment-naive, primary LSCC tumors and 99 paired normal adjacent tissues. Generated by CPTAC.', groups='PUBLIC', importDate='2023-12-08 12:49:33', massSpectrometrySampleCount=None, methylationHm27SampleCount=None, miRnaSampleCount=None, mrnaMicroarraySampleCount=None, mrnaRnaSeqSampleCount=None, mrnaRnaSeqV2SampleCount=None, name='Lung Squamous Cell Carcinoma (CPTAC, Cell 2021)', pmid='34358469', publicStudy=True, readPermission=True, referenceGenome='hg19', rppaSampleCount=None, sequencedSampleCount=None, status=0, studyId='lusc_cptac_2021', treatmentCount=None),\n",
       " CancerStudy(allSampleCount=232, cancerType=None, cancerTypeId='luad', citation='Zhang et al. Nature Genetics 2021', cnaSampleCount=None, completeSampleCount=None, description='Whole-genome sequencing of 232 treatment-naive never smoker patients with Lung cancer and their matched normals.', groups='', importDate='2023-12-08 12:50:18', massSpectrometrySampleCount=None, methylationHm27SampleCount=None, miRnaSampleCount=None, mrnaMicroarraySampleCount=None, mrnaRnaSeqSampleCount=None, mrnaRnaSeqV2SampleCount=None, name='Lung Cancer in Never Smokers (NCI, Nature Genetics 2021)', pmid='34493867', publicStudy=True, readPermission=True, referenceGenome='hg19', rppaSampleCount=None, sequencedSampleCount=None, status=0, studyId='lung_nci_2022', treatmentCount=None),\n",
       " CancerStudy(allSampleCount=3323, cancerType=None, cancerTypeId='mds', citation='Bernard et al. NEJM Evidence 2022', cnaSampleCount=None, completeSampleCount=None, description='International Working Group for the prognosis of Myelodysplastic Syndromes. Derivation of the Molecular International Prognosis Scoring System for MDS. Comprehensive profiling of 3,323 treatment-naive MDS samples. Data generated by the Papaemmanuil Lab 2022.', groups='PUBLIC', importDate='2023-12-08 12:50:43', massSpectrometrySampleCount=None, methylationHm27SampleCount=None, miRnaSampleCount=None, mrnaMicroarraySampleCount=None, mrnaRnaSeqSampleCount=None, mrnaRnaSeqV2SampleCount=None, name='Myelodysplastic Syndromes (MDS IWG, IPSSM, NEJM Evidence 2022)', pmid=None, publicStudy=True, readPermission=True, referenceGenome='hg19', rppaSampleCount=None, sequencedSampleCount=None, status=0, studyId='mds_iwg_2022', treatmentCount=None),\n",
       " CancerStudy(allSampleCount=211, cancerType=None, cancerTypeId='pcm', citation='Lohr et al. Cancer Cell 2014', cnaSampleCount=None, completeSampleCount=None, description='Whole-exome or whole-genome sequencing of 203 multiple myeloma paired tumor/normal sample pairs.', groups='', importDate='2023-12-08 13:16:59', massSpectrometrySampleCount=None, methylationHm27SampleCount=None, miRnaSampleCount=None, mrnaMicroarraySampleCount=None, mrnaRnaSeqSampleCount=None, mrnaRnaSeqV2SampleCount=None, name='Multiple Myeloma (Broad, Cancer Cell 2014)', pmid='24434212', publicStudy=True, readPermission=True, referenceGenome='hg19', rppaSampleCount=None, sequencedSampleCount=None, status=0, studyId='mm_broad', treatmentCount=None),\n",
       " CancerStudy(allSampleCount=15, cancerType=None, cancerTypeId='mpnst', citation='Lee et al. Nat Genet 2014', cnaSampleCount=None, completeSampleCount=None, description='Whole exome sequencing of 15 malignant peripheral nerve sheath tumor/normal pairs.', groups='PUBLIC', importDate='2023-12-08 13:17:26', massSpectrometrySampleCount=None, methylationHm27SampleCount=None, miRnaSampleCount=None, mrnaMicroarraySampleCount=None, mrnaRnaSeqSampleCount=None, mrnaRnaSeqV2SampleCount=None, name='Malignant Peripheral Nerve Sheath Tumor (MSK, Nat Genet 2014)', pmid='25240281', publicStudy=True, readPermission=True, referenceGenome='hg19', rppaSampleCount=None, sequencedSampleCount=None, status=0, studyId='mpnst_mskcc', treatmentCount=None),\n",
       " CancerStudy(allSampleCount=87, cancerType=None, cancerTypeId='nbl', citation='Molenaar et al. Nature 2012', cnaSampleCount=None, completeSampleCount=None, description='Whole genome sequencing of 87 primary neuroblastoma tumors and their matched normals.', groups='PUBLIC', importDate='2023-12-08 13:17:57', massSpectrometrySampleCount=None, methylationHm27SampleCount=None, miRnaSampleCount=None, mrnaMicroarraySampleCount=None, mrnaRnaSeqSampleCount=None, mrnaRnaSeqV2SampleCount=None, name='Neuroblastoma (AMC Amsterdam, Nature 2012)', pmid='22367537', publicStudy=True, readPermission=True, referenceGenome='hg19', rppaSampleCount=None, sequencedSampleCount=None, status=0, studyId='nbl_amc_2012', treatmentCount=None),\n",
       " CancerStudy(allSampleCount=40, cancerType=None, cancerTypeId='mrt', citation='E. Chun et al. Cancer Cell 2016', cnaSampleCount=None, completeSampleCount=None, description='Whole-genome sequencing of tumor-normal sample pairs from 40 patients with Malignant Rhabdoid Cancer.', groups='PUBLIC', importDate='2023-12-08 13:18:16', massSpectrometrySampleCount=None, methylationHm27SampleCount=None, miRnaSampleCount=None, mrnaMicroarraySampleCount=None, mrnaRnaSeqSampleCount=None, mrnaRnaSeqV2SampleCount=None, name='Rhabdoid Cancer (BCGSC, Cancer Cell 2016)', pmid='26977886', publicStudy=True, readPermission=True, referenceGenome='hg19', rppaSampleCount=None, sequencedSampleCount=None, status=0, studyId='mrt_bcgsc_2016', treatmentCount=None),\n",
       " CancerStudy(allSampleCount=10945, cancerType=None, cancerTypeId='mixed', citation='Zehir et al. Nat Med 2017', cnaSampleCount=None, completeSampleCount=None, description='Targeted sequencing of 10,000 clinical cases using the MSK-IMPACT assay', groups='PUBLIC', importDate='2023-12-08 13:18:35', massSpectrometrySampleCount=None, methylationHm27SampleCount=None, miRnaSampleCount=None, mrnaMicroarraySampleCount=None, mrnaRnaSeqSampleCount=None, mrnaRnaSeqV2SampleCount=None, name='MSK-IMPACT Clinical Sequencing Cohort (MSK, Nat Med 2017)', pmid='28481359', publicStudy=True, readPermission=True, referenceGenome='hg19', rppaSampleCount=None, sequencedSampleCount=None, status=0, studyId='msk_impact_2017', treatmentCount=None),\n",
       " CancerStudy(allSampleCount=103, cancerType=None, cancerTypeId='mixed', citation='Oberg et al. Genome Med 2016', cnaSampleCount=None, completeSampleCount=None, description='Whole exome sequencing of 103 samples (88 with matched normals) from 88 high-risk pediatric cancer patients.', groups='PUBLIC', importDate='2023-12-08 13:20:28', massSpectrometrySampleCount=None, methylationHm27SampleCount=None, miRnaSampleCount=None, mrnaMicroarraySampleCount=None, mrnaRnaSeqSampleCount=None, mrnaRnaSeqV2SampleCount=None, name='Pediatric Pan-cancer (Columbia U, Genome Med 2016)', pmid='28007021', publicStudy=True, readPermission=True, referenceGenome='hg19', rppaSampleCount=None, sequencedSampleCount=None, status=0, studyId='mixed_pipseq_2017', treatmentCount=None),\n",
       " CancerStudy(allSampleCount=249, cancerType=None, cancerTypeId='mixed', citation='Miao et al. Nat Genet 2018', cnaSampleCount=None, completeSampleCount=None, description='Whole exome sequencing of tumor/normal pairs and corresponding clinical outcomes from patients treated with immune checkpoint inhibitors across multiple cancer types including melanoma, non-small cell lung cancer, head and neck cancer, and bladder cancer.', groups='', importDate='2023-12-08 13:20:58', massSpectrometrySampleCount=None, methylationHm27SampleCount=None, miRnaSampleCount=None, mrnaMicroarraySampleCount=None, mrnaRnaSeqSampleCount=None, mrnaRnaSeqV2SampleCount=None, name='MSS Mixed Solid Tumors (Broad/Dana-Farber, Nat Genet 2018)', pmid='30150660', publicStudy=True, readPermission=True, referenceGenome='hg19', rppaSampleCount=None, sequencedSampleCount=None, status=0, studyId='mixed_allen_2018', treatmentCount=None),\n",
       " CancerStudy(allSampleCount=151, cancerType=None, cancerTypeId='mpn', citation='Nangalia et al. NEJM 2013', cnaSampleCount=None, completeSampleCount=None, description='Whole exome sequencing of paired tumor/normal pairs from 151 cases of Myeloproliferative Neoplasms.', groups='PUBLIC', importDate='2023-12-08 13:22:02', massSpectrometrySampleCount=None, methylationHm27SampleCount=None, miRnaSampleCount=None, mrnaMicroarraySampleCount=None, mrnaRnaSeqSampleCount=None, mrnaRnaSeqV2SampleCount=None, name='Myeloproliferative Neoplasms (CIMR, NEJM 2013)', pmid='24325359', publicStudy=True, readPermission=True, referenceGenome='hg19', rppaSampleCount=None, sequencedSampleCount=None, status=0, studyId='mpn_cimr_2013', treatmentCount=None),\n",
       " CancerStudy(allSampleCount=136, cancerType=None, cancerTypeId='mnm', citation='Welch et al. N Engl J Med. 2016', cnaSampleCount=None, completeSampleCount=None, description=\"Enhanced exome or targeted sequencing of 116 acute myeloid leukemia (AML) or myelodysplastic syndromes (MDS) patients' tumor/normal pairs .\", groups='', importDate='2023-12-08 13:22:23', massSpectrometrySampleCount=None, methylationHm27SampleCount=None, miRnaSampleCount=None, mrnaMicroarraySampleCount=None, mrnaRnaSeqSampleCount=None, mrnaRnaSeqV2SampleCount=None, name='Acute myeloid leukemia or myelodysplastic syndromes (WashU, 2016)', pmid='27959731', publicStudy=True, readPermission=True, referenceGenome='hg19', rppaSampleCount=None, sequencedSampleCount=None, status=0, studyId='mnm_washu_2016', treatmentCount=None),\n",
       " CancerStudy(allSampleCount=500, cancerType=None, cancerTypeId='mixed', citation='Robinson et al. Nature 2017', cnaSampleCount=None, completeSampleCount=None, description='Whole-exome and -transcriptome sequencing of 500 adult patients with metastatic solid tumor/primary normal pairs of diverse lineage and biopsy site.', groups='', importDate='2023-12-08 13:22:43', massSpectrometrySampleCount=None, methylationHm27SampleCount=None, miRnaSampleCount=None, mrnaMicroarraySampleCount=None, mrnaRnaSeqSampleCount=None, mrnaRnaSeqV2SampleCount=None, name='Metastatic Solid Cancers (UMich, Nature 2017)', pmid='28783718', publicStudy=True, readPermission=True, referenceGenome='hg19', rppaSampleCount=None, sequencedSampleCount=None, status=0, studyId='metastatic_solid_tumors_mich_2017', treatmentCount=None),\n",
       " CancerStudy(allSampleCount=188, cancerType=None, cancerTypeId='mixed', citation='Ezra Y et al. Nat Commun 2022', cnaSampleCount=None, completeSampleCount=None, description='Targeted sequencing of Selpercatinib treated RET-driven solid cancers.', groups='', importDate='2023-12-08 13:23:36', massSpectrometrySampleCount=None, methylationHm27SampleCount=None, miRnaSampleCount=None, mrnaMicroarraySampleCount=None, mrnaRnaSeqSampleCount=None, mrnaRnaSeqV2SampleCount=None, name='Mixed Tumors Selpercatinib RET Trial (MSK, Nat Commun. 2022)', pmid='35304457', publicStudy=True, readPermission=True, referenceGenome='hg19', rppaSampleCount=None, sequencedSampleCount=None, status=0, studyId='mixed_selpercatinib_2020', treatmentCount=None),\n",
       " CancerStudy(allSampleCount=229, cancerType=None, cancerTypeId='mixed', citation='Tsui et al. Genome Med 2021', cnaSampleCount=None, completeSampleCount=None, description='IMPACT sequencing of 229 cell-free DNA (cfDNA) and associated tumor samples with matched normal', groups='TSUIW;DANALHE3', importDate='2023-12-08 13:23:57', massSpectrometrySampleCount=None, methylationHm27SampleCount=None, miRnaSampleCount=None, mrnaMicroarraySampleCount=None, mrnaRnaSeqSampleCount=None, mrnaRnaSeqV2SampleCount=None, name='Mixed cfDNA (MSK, Genome Med 2021)', pmid='34059130', publicStudy=True, readPermission=True, referenceGenome='hg19', rppaSampleCount=None, sequencedSampleCount=None, status=0, studyId='mixed_cfdna_msk_2020', treatmentCount=None),\n",
       " CancerStudy(allSampleCount=24146, cancerType=None, cancerTypeId='mixed', citation='Kelly et al. Nat Genet 2020', cnaSampleCount=None, completeSampleCount=None, description='Clonal hematopoiesis mutations identified in blood samples from 24,146 patients whose tumor-blood pairs were analyzed using MSK-IMPACT.', groups='PUBLIC', importDate='2023-12-08 13:24:19', massSpectrometrySampleCount=None, methylationHm27SampleCount=None, miRnaSampleCount=None, mrnaMicroarraySampleCount=None, mrnaRnaSeqSampleCount=None, mrnaRnaSeqV2SampleCount=None, name='Cancer Therapy and Clonal Hematopoiesis (MSK, Nat Genet 2020)', pmid='33106634', publicStudy=True, readPermission=True, referenceGenome='hg19', rppaSampleCount=None, sequencedSampleCount=None, status=0, studyId='msk_ch_2020', treatmentCount=None),\n",
       " CancerStudy(allSampleCount=25775, cancerType=None, cancerTypeId='mixed', citation='Nguyen et al. Cell 2022', cnaSampleCount=None, completeSampleCount=None, description='MSK-MET (Memorial Sloan Kettering - Metastatic Events and Tropisms) is an integrated pan-cancer cohort of tumor genomic and clinical outcome data from 25,000 patients. We analyzed this dataset to identify associations between tumor genomic alterations and patterns of metastatic dissemination across 50 tumor types. We found that chromosomal instability is strongly correlated with metastatic burden in some tumor types, including prostate adenocarcinoma, lung adenocarcinoma and HR+/HER2+ breast ductal carcinoma, but not in others, such as colorectal MSS, pancreatic adenocarcinoma and high-grade serous ovarian cancer. We also identified specific somatic alterations associated with increased metastatic burden and specific routes of metastatic spread. Our data offer a unique resource for the investigation of the biologic basis for metastatic spread and highlight the crucial role of chromosomal instability in cancer progression', groups='', importDate='2023-12-08 13:25:01', massSpectrometrySampleCount=None, methylationHm27SampleCount=None, miRnaSampleCount=None, mrnaMicroarraySampleCount=None, mrnaRnaSeqSampleCount=None, mrnaRnaSeqV2SampleCount=None, name='MSK MetTropism (MSK, Cell 2021)', pmid='35120664', publicStudy=True, readPermission=True, referenceGenome='hg19', rppaSampleCount=None, sequencedSampleCount=None, status=0, studyId='msk_met_2021', treatmentCount=None),\n",
       " CancerStudy(allSampleCount=1446, cancerType=None, cancerTypeId='mixed', citation='Brannon et al. Nat Commun 2021', cnaSampleCount=None, completeSampleCount=None, description='Targeted sequencing of 1446 Tumor and cfDNA samples (1440 with matched normals) from MSK-IMPACT and MSK-ACCESS.', groups='IMPACT_ACCESS;PUBLIC', importDate='2023-12-08 13:29:31', massSpectrometrySampleCount=None, methylationHm27SampleCount=None, miRnaSampleCount=None, mrnaMicroarraySampleCount=None, mrnaRnaSeqSampleCount=None, mrnaRnaSeqV2SampleCount=None, name='MSK-IMPACT and MSK-ACCESS Mixed Cohort (MSK, Nat Commun 2021)', pmid='34145282', publicStudy=True, readPermission=True, referenceGenome='hg19', rppaSampleCount=None, sequencedSampleCount=None, status=0, studyId='msk_access_2021', treatmentCount=None),\n",
       " CancerStudy(allSampleCount=123, cancerType=None, cancerTypeId='prostate', citation=None, cnaSampleCount=None, completeSampleCount=None, description='The Metastatic Prostate Cancer Project is a patient-driven initiative. This study includes genomic data, cfDNA tumor fractions, patient-reported data (pre-pended as PRD), medical record data (MedR), and pathology report data (PATH).  As these data were generated in a research, not a clinical, laboratory, they are for research purposes only and cannot be used to inform clinical decision-making. All annotations have been de-identified. More information is available at www.mpcproject.org. For questions about these data, including how to cite, please visit www.mpcproject.org/data-release or direct questions to data@mpcproject.org.', groups='', importDate='2023-12-08 13:32:58', massSpectrometrySampleCount=None, methylationHm27SampleCount=None, miRnaSampleCount=None, mrnaMicroarraySampleCount=None, mrnaRnaSeqSampleCount=None, mrnaRnaSeqV2SampleCount=None, name='The Metastatic Prostate Cancer Project (Provisional, June 2021)', pmid=None, publicStudy=True, readPermission=True, referenceGenome='hg19', rppaSampleCount=None, sequencedSampleCount=None, status=0, studyId='mpcproject_broad_2021', treatmentCount=None),\n",
       " CancerStudy(allSampleCount=657, cancerType=None, cancerTypeId='mixed', citation='Barbara et al. Clin Cancer Res 2022', cnaSampleCount=None, completeSampleCount=None, description='Clonal hematopoiesis mutations identified in blood samples from patients whose tumor-blood pairs were analyzed using MSK-IMPACT.', groups='', importDate='2023-12-08 13:34:52', massSpectrometrySampleCount=None, methylationHm27SampleCount=None, miRnaSampleCount=None, mrnaMicroarraySampleCount=None, mrnaRnaSeqSampleCount=None, mrnaRnaSeqV2SampleCount=None, name='Cancer Therapy and Clonal Hematopoiesis (MSK, Clin Cancer Res 2022)', pmid='35078859', publicStudy=True, readPermission=True, referenceGenome='hg19', rppaSampleCount=None, sequencedSampleCount=None, status=0, studyId='msk_ch_ped_2021', treatmentCount=None),\n",
       " CancerStudy(allSampleCount=135, cancerType=None, cancerTypeId='mixed', citation='Shukla,N et al. Nat Commun 2022', cnaSampleCount=None, completeSampleCount=None, description='Targeted NGS of mixed pediatric tumors from MSK-IMPACT testing.', groups='', importDate='2023-12-08 13:35:14', massSpectrometrySampleCount=None, methylationHm27SampleCount=None, miRnaSampleCount=None, mrnaMicroarraySampleCount=None, mrnaRnaSeqSampleCount=None, mrnaRnaSeqV2SampleCount=None, name='Pediatric Pancan Tumors (MSK,Nat Commun. 2022)', pmid='35585047', publicStudy=True, readPermission=True, referenceGenome='hg19', rppaSampleCount=None, sequencedSampleCount=None, status=0, studyId='mixed_kunga_msk_2022', treatmentCount=None),\n",
       " CancerStudy(allSampleCount=69, cancerType=None, cancerTypeId='mixed', citation=None, cnaSampleCount=None, completeSampleCount=None, description='Targeted sequencing of clinical cases via MSK-IMPACT.', groups='PUBLIC', importDate='2023-12-08 13:35:38', massSpectrometrySampleCount=None, methylationHm27SampleCount=None, miRnaSampleCount=None, mrnaMicroarraySampleCount=None, mrnaRnaSeqSampleCount=None, mrnaRnaSeqV2SampleCount=None, name='Pan-Cancer MSK-IMPACT MET Validation Cohort (MSK 2022)', pmid=None, publicStudy=True, readPermission=True, referenceGenome='hg19', rppaSampleCount=None, sequencedSampleCount=None, status=0, studyId='mixed_impact_subset_2022', treatmentCount=None),\n",
       " CancerStudy(allSampleCount=146, cancerType=None, cancerTypeId='nccrcc', citation='Durinck et al. Nat Genet 2014', cnaSampleCount=None, completeSampleCount=None, description='Exome sequencing of 139 samples with matched normals and RNA-sequencing of 7 samples (5 samples with matched normals) from 145 Renal Non-Clear Cell Carcinoma (nccRCC) patients.', groups='', importDate='2023-12-08 14:05:20', massSpectrometrySampleCount=None, methylationHm27SampleCount=None, miRnaSampleCount=None, mrnaMicroarraySampleCount=None, mrnaRnaSeqSampleCount=None, mrnaRnaSeqV2SampleCount=None, name='Renal Non-Clear Cell Carcinoma (Genentech, Nat Genet 2014)', pmid='25401301', publicStudy=True, readPermission=True, referenceGenome='hg19', rppaSampleCount=None, sequencedSampleCount=None, status=0, studyId='nccrcc_genentech_2014', treatmentCount=None),\n",
       " CancerStudy(allSampleCount=56, cancerType=None, cancerTypeId='npc', citation='Lin et al. Nat Genet 2014', cnaSampleCount=None, completeSampleCount=None, description='Whole exome sequencing of 56 NPC tumor/normal pairs.', groups='PUBLIC', importDate='2023-12-08 14:05:48', massSpectrometrySampleCount=None, methylationHm27SampleCount=None, miRnaSampleCount=None, mrnaMicroarraySampleCount=None, mrnaRnaSeqSampleCount=None, mrnaRnaSeqV2SampleCount=None, name='Nasopharyngeal Carcinoma (Singapore, Nat Genet 2014)', pmid='24952746', publicStudy=True, readPermission=True, referenceGenome='hg19', rppaSampleCount=None, sequencedSampleCount=None, status=0, studyId='npc_nusingapore', treatmentCount=None),\n",
       " CancerStudy(allSampleCount=114, cancerType=None, cancerTypeId='prad', citation='Beltran et al. Nat Med 2016', cnaSampleCount=None, completeSampleCount=None, description='Whole exome sequencing of 114 metastatic tumor/normal pairs to understand genomic overlap between castration resistant adenocarcinoma (CRPC-Adeno) and neuroendocrine histologies (CRPC-NE).', groups='PUBLIC', importDate='2023-12-08 14:06:12', massSpectrometrySampleCount=None, methylationHm27SampleCount=None, miRnaSampleCount=None, mrnaMicroarraySampleCount=None, mrnaRnaSeqSampleCount=None, mrnaRnaSeqV2SampleCount=None, name='Neuroendocrine Prostate Cancer (Multi-Institute, Nat Med 2016)', pmid='26855148', publicStudy=True, readPermission=True, referenceGenome='hg19', rppaSampleCount=None, sequencedSampleCount=None, status=0, studyId='nepc_wcm_2016', treatmentCount=None),\n",
       " CancerStudy(allSampleCount=56, cancerType=None, cancerTypeId='nbl', citation='Peifer et al. Nature 2015', cnaSampleCount=None, completeSampleCount=None, description='Whole-genome sequencing of 56 neuroblastoma tumor/normal pairs.', groups='', importDate='2023-12-08 14:06:45', massSpectrometrySampleCount=None, methylationHm27SampleCount=None, miRnaSampleCount=None, mrnaMicroarraySampleCount=None, mrnaRnaSeqSampleCount=None, mrnaRnaSeqV2SampleCount=None, name='Neuroblastoma (Broad, Nature 2015)', pmid='26466568', publicStudy=True, readPermission=True, referenceGenome='hg19', rppaSampleCount=None, sequencedSampleCount=None, status=0, studyId='nbl_ucologne_2015', treatmentCount=None),\n",
       " CancerStudy(allSampleCount=1144, cancerType=None, cancerTypeId='nsclc', citation='TCGA, Nat Genet 2016', cnaSampleCount=None, completeSampleCount=None, description='Whole-exome sequencing of 660 lung ADC and 484 lung SqCC tumor/normal pairs.', groups='', importDate='2023-12-08 14:07:10', massSpectrometrySampleCount=None, methylationHm27SampleCount=None, miRnaSampleCount=None, mrnaMicroarraySampleCount=None, mrnaRnaSeqSampleCount=None, mrnaRnaSeqV2SampleCount=None, name='Pan-Lung Cancer (TCGA, Nat Genet 2016)', pmid='27158780', publicStudy=True, readPermission=True, referenceGenome='hg19', rppaSampleCount=None, sequencedSampleCount=None, status=0, studyId='nsclc_tcga_broad_2016', treatmentCount=None),\n",
       " CancerStudy(allSampleCount=240, cancerType=None, cancerTypeId='nbl', citation='Pugh et al. Nat Genet 2013', cnaSampleCount=None, completeSampleCount=None, description='Whole Genome and Whole Exome sequencing of 240 high-risk neuroblastoma tumor/normal pairs.', groups='', importDate='2023-12-08 14:20:17', massSpectrometrySampleCount=None, methylationHm27SampleCount=None, miRnaSampleCount=None, mrnaMicroarraySampleCount=None, mrnaRnaSeqSampleCount=None, mrnaRnaSeqV2SampleCount=None, name='Neuroblastoma (Broad, Nat Genet 2013)', pmid='23334666', publicStudy=True, readPermission=True, referenceGenome='hg19', rppaSampleCount=None, sequencedSampleCount=None, status=0, studyId='nbl_broad_2013', treatmentCount=None),\n",
       " CancerStudy(allSampleCount=14, cancerType=None, cancerTypeId='nhl', citation='Morin et al. Nature 2011', cnaSampleCount=None, completeSampleCount=None, description='Whole genome or whole exome sequencing of 14 NHL tumors and their matched normals.', groups='', importDate='2023-12-08 14:20:46', massSpectrometrySampleCount=None, methylationHm27SampleCount=None, miRnaSampleCount=None, mrnaMicroarraySampleCount=None, mrnaRnaSeqSampleCount=None, mrnaRnaSeqV2SampleCount=None, name='Non-Hodgkin Lymphoma (BCGSC, Nature 2011)', pmid='21796119', publicStudy=True, readPermission=True, referenceGenome='hg19', rppaSampleCount=None, sequencedSampleCount=None, status=0, studyId='nhl_bcgsc_2011', treatmentCount=None),\n",
       " CancerStudy(allSampleCount=53, cancerType=None, cancerTypeId='nhl', citation='Morin et al. Blood 2013', cnaSampleCount=None, completeSampleCount=None, description='Whole genome sequencing of 40 DLBCL tumor/normal pairs and 13 cell lines.', groups='', importDate='2023-12-08 14:21:12', massSpectrometrySampleCount=None, methylationHm27SampleCount=None, miRnaSampleCount=None, mrnaMicroarraySampleCount=None, mrnaRnaSeqSampleCount=None, mrnaRnaSeqV2SampleCount=None, name='Diffuse Large B-cell Lymphoma (BCGSC, Blood 2013)', pmid='23699601', publicStudy=True, readPermission=True, referenceGenome='hg19', rppaSampleCount=None, sequencedSampleCount=None, status=0, studyId='nhl_bcgsc_2013', treatmentCount=None),\n",
       " CancerStudy(allSampleCount=22, cancerType=None, cancerTypeId='odg', citation='Thomas et al. Neuro Oncol 2017', cnaSampleCount=None, completeSampleCount=None, description='IMPACT sequencing of 22 Anaplastic Oligodendroglioma and Anaplastic Oligoastrocytomas.', groups='PUBLIC', importDate='2023-12-08 14:21:44', massSpectrometrySampleCount=None, methylationHm27SampleCount=None, miRnaSampleCount=None, mrnaMicroarraySampleCount=None, mrnaRnaSeqSampleCount=None, mrnaRnaSeqV2SampleCount=None, name='Anaplastic Oligodendroglioma and Anaplastic Oligoastrocytoma (MSK, Neuro Oncol 2017)', pmid='28472509', publicStudy=True, readPermission=True, referenceGenome='hg19', rppaSampleCount=None, sequencedSampleCount=None, status=0, studyId='odg_msk_2017', treatmentCount=None),\n",
       " CancerStudy(allSampleCount=41, cancerType=None, cancerTypeId='nsclc', citation='VavalÃ\\xa0 et al. Lung Cancer 2017', cnaSampleCount=None, completeSampleCount=None, description='Targeted next-generation sequencing of 41 NSCLC samples.', groups='PUBLIC', importDate='2023-12-08 14:22:10', massSpectrometrySampleCount=None, methylationHm27SampleCount=None, miRnaSampleCount=None, mrnaMicroarraySampleCount=None, mrnaRnaSeqSampleCount=None, mrnaRnaSeqV2SampleCount=None, name='Non-Small Cell Lung Cancer (University of Turin, Lung Cancer 2017)', pmid='27346245', publicStudy=True, readPermission=True, referenceGenome='hg19', rppaSampleCount=None, sequencedSampleCount=None, status=0, studyId='nsclc_unito_2016', treatmentCount=None),\n",
       " CancerStudy(allSampleCount=447, cancerType=None, cancerTypeId='nsclc', citation='Hanjani et al. NEJM 2017, Abbosh et al. Nature 2017', cnaSampleCount=None, completeSampleCount=None, description='Whole-exome sequencing of 327 primary tumors with matched germline samples, and phylogenetic ctDNA sequencing of 96 pre- and 24 postoperative samples from 100 NSCLC TRACERx patients.', groups='PUBLIC', importDate='2023-12-08 14:22:36', massSpectrometrySampleCount=None, methylationHm27SampleCount=None, miRnaSampleCount=None, mrnaMicroarraySampleCount=None, mrnaRnaSeqSampleCount=None, mrnaRnaSeqV2SampleCount=None, name='Non-Small Cell Lung Cancer (TRACERx, NEJM & Nature 2017)', pmid='28445112,28445469', publicStudy=True, readPermission=True, referenceGenome='hg19', rppaSampleCount=None, sequencedSampleCount=None, status=0, studyId='nsclc_tracerx_2017', treatmentCount=None),\n",
       " CancerStudy(allSampleCount=1089, cancerType=None, cancerTypeId='nbl', citation=None, cnaSampleCount=None, completeSampleCount=None, description='Whole genome or whole exome sequencing on 1089 NBL samples. Comprehensive profiling of 1089 NBL samples. <p>TARGET data is intended exclusively for biomedical research using pediatric data (i.e., the research objectives cannot be accomplished using data from adults) that focus on the development of more effective treatments, diagnostic tests, or prognostic markers for childhood cancers. Moreover, TARGET data can be used for research relevant to the biology, causes, treatment and late complications of treatment of pediatric cancers, but is not intended for the sole purposes of methods and/or tool development (please see <a href=\"https://ocg.cancer.gov/programs/target/using-target-data\">Using TARGET Data</a> section of the OCG website). If you are interested in using TARGET data for publication or other research purposes, you must follow the <a href=\"https://ocg.cancer.gov/programs/target/target-publication-guidelines\">TARGET Publication Guidelines</a>.</p>', groups='NCI-TARGET;PUBLIC', importDate='2023-12-08 14:23:30', massSpectrometrySampleCount=None, methylationHm27SampleCount=None, miRnaSampleCount=None, mrnaMicroarraySampleCount=None, mrnaRnaSeqSampleCount=None, mrnaRnaSeqV2SampleCount=None, name='Pediatric Neuroblastoma (TARGET, 2018)', pmid=None, publicStudy=True, readPermission=True, referenceGenome='hg19', rppaSampleCount=None, sequencedSampleCount=None, status=0, studyId='nbl_target_2018_pub', treatmentCount=None),\n",
       " CancerStudy(allSampleCount=240, cancerType=None, cancerTypeId='nsclc', citation='Rizvi et al. J Clin Oncol 2018', cnaSampleCount=None, completeSampleCount=None, description='IMPACT sequencing of 240 NSCLC tumor/normal pairs treated at MSKCC with anti-PD-(L)1 based therapy.', groups='PUBLIC', importDate='2023-12-08 14:24:36', massSpectrometrySampleCount=None, methylationHm27SampleCount=None, miRnaSampleCount=None, mrnaMicroarraySampleCount=None, mrnaRnaSeqSampleCount=None, mrnaRnaSeqV2SampleCount=None, name='Non-Small Cell Lung Cancer (MSK, J Clin Oncol 2018)', pmid='29337640', publicStudy=True, readPermission=True, referenceGenome='hg19', rppaSampleCount=None, sequencedSampleCount=None, status=0, studyId='nsclc_pd1_msk_2018', treatmentCount=None),\n",
       " CancerStudy(allSampleCount=16, cancerType=None, cancerTypeId='nsclc', citation='Rivzi et al. Science 2016', cnaSampleCount=None, completeSampleCount=None, description='Whole-exome sequencing of tumor-normal tissue pairs from 16 non-small cell lung cancer samples.', groups='PUBLIC', importDate='2023-12-08 14:25:05', massSpectrometrySampleCount=None, methylationHm27SampleCount=None, miRnaSampleCount=None, mrnaMicroarraySampleCount=None, mrnaRnaSeqSampleCount=None, mrnaRnaSeqV2SampleCount=None, name='Non-Small Cell Lung Cancer (MSK, Science 2015)', pmid='25765070', publicStudy=True, readPermission=True, referenceGenome='hg19', rppaSampleCount=None, sequencedSampleCount=None, status=0, studyId='nsclc_mskcc_2015', treatmentCount=None),\n",
       " CancerStudy(allSampleCount=75, cancerType=None, cancerTypeId='nsclc', citation='Hellmann et al. Cancer Cell 2018', cnaSampleCount=None, completeSampleCount=None, description='Whole-exome sequencing of 75 tumor/normal NSCLC pairs treated with PD-1 plus CTLA-4 blockade..', groups='', importDate='2023-12-08 14:25:33', massSpectrometrySampleCount=None, methylationHm27SampleCount=None, miRnaSampleCount=None, mrnaMicroarraySampleCount=None, mrnaRnaSeqSampleCount=None, mrnaRnaSeqV2SampleCount=None, name='Non-Small Cell Lung Cancer (MSK, Cancer Cell 2018)', pmid='29657128', publicStudy=True, readPermission=True, referenceGenome='hg19', rppaSampleCount=None, sequencedSampleCount=None, status=0, studyId='nsclc_mskcc_2018', treatmentCount=None),\n",
       " CancerStudy(allSampleCount=2621, cancerType=None, cancerTypeId='nsclc', citation='Jee et al. Nature Medicine 2022', cnaSampleCount=None, completeSampleCount=None, description='Targeted sequencing of ctDNA samples drawn from patients with metastatic NSCLC using the Resolution ctDx Lung platform. For more information contact jeej@mskcc.org or lib1@mskcc.org', groups='', importDate='2023-12-08 14:26:13', massSpectrometrySampleCount=None, methylationHm27SampleCount=None, miRnaSampleCount=None, mrnaMicroarraySampleCount=None, mrnaRnaSeqSampleCount=None, mrnaRnaSeqV2SampleCount=None, name='Metastatic Non-Small Cell Lung Cancer (MSK, Nature Medicine 2022)', pmid='36357680', publicStudy=True, readPermission=True, referenceGenome='hg19', rppaSampleCount=None, sequencedSampleCount=None, status=0, studyId='nsclc_ctdx_msk_2022', treatmentCount=None),\n",
       " CancerStudy(allSampleCount=223, cancerType=None, cancerTypeId='nbl', citation='Gunes et al. Nat Genet 2023', cnaSampleCount=None, completeSampleCount=None, description='Targeted sequencing of 223 pediatric neuroblastoma tumor/normal pairs via MSK-IMPACT.', groups='', importDate='2023-12-08 14:26:51', massSpectrometrySampleCount=None, methylationHm27SampleCount=None, miRnaSampleCount=None, mrnaMicroarraySampleCount=None, mrnaRnaSeqSampleCount=None, mrnaRnaSeqV2SampleCount=None, name='Pediatric Neuroblastoma (MSK, Nat Genet 2023)', pmid='37169874', publicStudy=True, readPermission=True, referenceGenome='hg19', rppaSampleCount=None, sequencedSampleCount=None, status=0, studyId='nbl_msk_2023', treatmentCount=None),\n",
       " CancerStudy(allSampleCount=489, cancerType=None, cancerTypeId='hgsoc', citation='TCGA, Nature 2011', cnaSampleCount=None, completeSampleCount=None, description='Whole exome sequencing of 489 high-grade serous ovarian adenocarcinoma tumor/normal pairs. <a href=\"http://cancergenome.nih.gov/\">The Cancer Genome Atlas (TCGA)</a> Serous Ovarian Cancer project. 489 cases. <br><a href=\"https://tcga-data.nci.nih.gov/docs/publications/ov_2011/\">Raw data via the TCGA Data Portal</a>.', groups='PUBLIC', importDate='2023-12-08 14:55:27', massSpectrometrySampleCount=None, methylationHm27SampleCount=None, miRnaSampleCount=None, mrnaMicroarraySampleCount=None, mrnaRnaSeqSampleCount=None, mrnaRnaSeqV2SampleCount=None, name='Ovarian Serous Cystadenocarcinoma (TCGA, Nature 2011)', pmid='21720365', publicStudy=True, readPermission=True, referenceGenome='hg19', rppaSampleCount=None, sequencedSampleCount=None, status=0, studyId='ov_tcga_pub', treatmentCount=None),\n",
       " CancerStudy(allSampleCount=23, cancerType=None, cancerTypeId='paac', citation='Jial et al. J Pathol 2014', cnaSampleCount=None, completeSampleCount=None, description='Whole exome sequencing of 23 surgically resected pancreatic carcinomas with acinar differentiation and their matched normals.', groups='PUBLIC', importDate='2023-12-08 15:02:08', massSpectrometrySampleCount=None, methylationHm27SampleCount=None, miRnaSampleCount=None, mrnaMicroarraySampleCount=None, mrnaRnaSeqSampleCount=None, mrnaRnaSeqV2SampleCount=None, name='Acinar Cell Carcinoma of the Pancreas (JHU, J Pathol 2014)', pmid='24293293', publicStudy=True, readPermission=True, referenceGenome='hg19', rppaSampleCount=None, sequencedSampleCount=None, status=0, studyId='paac_jhu_2014', treatmentCount=None),\n",
       " CancerStudy(allSampleCount=99, cancerType=None, cancerTypeId='paad', citation='Biankin et al. Nature 2012', cnaSampleCount=None, completeSampleCount=None, description='Whole-exome sequencing of 99 pancreatic samples and their matched normals.', groups='', importDate='2023-12-08 15:02:37', massSpectrometrySampleCount=None, methylationHm27SampleCount=None, miRnaSampleCount=None, mrnaMicroarraySampleCount=None, mrnaRnaSeqSampleCount=None, mrnaRnaSeqV2SampleCount=None, name='Pancreatic Adenocarcinoma (ICGC, Nature 2012)', pmid='23103869', publicStudy=True, readPermission=True, referenceGenome='hg19', rppaSampleCount=None, sequencedSampleCount=None, status=0, studyId='paad_icgc', treatmentCount=None),\n",
       " CancerStudy(allSampleCount=109, cancerType=None, cancerTypeId='paad', citation='Witkiewicz et al. Nat Commun 2015', cnaSampleCount=None, completeSampleCount=None, description='Whole exome sequencing of 109 micro-dissected pancreatic cancer cases and normal control tissue.', groups='PUBLIC', importDate='2023-12-08 15:03:10', massSpectrometrySampleCount=None, methylationHm27SampleCount=None, miRnaSampleCount=None, mrnaMicroarraySampleCount=None, mrnaRnaSeqSampleCount=None, mrnaRnaSeqV2SampleCount=None, name='Pancreatic Cancer (UTSW, Nat Commun 2015)', pmid='25855536', publicStudy=True, readPermission=True, referenceGenome='hg19', rppaSampleCount=None, sequencedSampleCount=None, status=0, studyId='paad_utsw_2015', treatmentCount=None),\n",
       " CancerStudy(allSampleCount=10, cancerType=None, cancerTypeId='panet', citation='Jiao et al. Science 2011', cnaSampleCount=None, completeSampleCount=None, description='Whole exome sequencing of 10 pancreatic neuroendocrine tumor patients.', groups='PUBLIC', importDate='2023-12-08 15:08:06', massSpectrometrySampleCount=None, methylationHm27SampleCount=None, miRnaSampleCount=None, mrnaMicroarraySampleCount=None, mrnaRnaSeqSampleCount=None, mrnaRnaSeqV2SampleCount=None, name='Pancreatic Neuroendocrine Tumors (Johns Hopkins University, Science 2011)', pmid='21252315', publicStudy=True, readPermission=True, referenceGenome='hg19', rppaSampleCount=None, sequencedSampleCount=None, status=0, studyId='panet_jhu_2011', treatmentCount=None),\n",
       " CancerStudy(allSampleCount=19, cancerType=None, cancerTypeId='pcnsl', citation='Braggio et al. Clin Cancer Res 2015', cnaSampleCount=None, completeSampleCount=None, description='Exome sequencing of 19 immunocompetent primary central nervous system lymphoma (PCNSL) samples.', groups='', importDate='2023-12-08 15:08:31', massSpectrometrySampleCount=None, methylationHm27SampleCount=None, miRnaSampleCount=None, mrnaMicroarraySampleCount=None, mrnaRnaSeqSampleCount=None, mrnaRnaSeqV2SampleCount=None, name='Primary Central Nervous System Lymphoma (Mayo Clinic, Clin Cancer Res 2015)', pmid='25991819', publicStudy=True, readPermission=True, referenceGenome='hg19', rppaSampleCount=None, sequencedSampleCount=None, status=0, studyId='pcnsl_mayo_2015', treatmentCount=None),\n",
       " CancerStudy(allSampleCount=10, cancerType=None, cancerTypeId='panet', citation='Cao et al. Nat Commun 2013', cnaSampleCount=None, completeSampleCount=None, description='Whole exome sequencing of 10 benign insulinoma tumor/normal pairs.', groups='', importDate='2023-12-08 15:08:59', massSpectrometrySampleCount=None, methylationHm27SampleCount=None, miRnaSampleCount=None, mrnaMicroarraySampleCount=None, mrnaRnaSeqSampleCount=None, mrnaRnaSeqV2SampleCount=None, name='Insulinoma (Shanghai, Nat Commun 2013)', pmid='24326773', publicStudy=True, readPermission=True, referenceGenome='hg19', rppaSampleCount=None, sequencedSampleCount=None, status=0, studyId='panet_shanghai_2013', treatmentCount=None),\n",
       " CancerStudy(allSampleCount=22, cancerType=None, cancerTypeId='plmeso', citation='Guo et al. Cancer Res 2015', cnaSampleCount=None, completeSampleCount=None, description='Whole-exome sequencing of 22 malignant pleural mesotheliomas (PLMESO) tumor/normal pairs.', groups='', importDate='2023-12-08 15:09:25', massSpectrometrySampleCount=None, methylationHm27SampleCount=None, miRnaSampleCount=None, mrnaMicroarraySampleCount=None, mrnaRnaSeqSampleCount=None, mrnaRnaSeqV2SampleCount=None, name='Pleural Mesothelioma (NYU, Cancer Res 2015)', pmid='25488749', publicStudy=True, readPermission=True, referenceGenome='hg19', rppaSampleCount=None, sequencedSampleCount=None, status=0, studyId='plmeso_nyu_2015', treatmentCount=None),\n",
       " CancerStudy(allSampleCount=456, cancerType=None, cancerTypeId='paad', citation='Bailey et al. Nature 2016', cnaSampleCount=None, completeSampleCount=None, description='Whole-genome and deep-exome sequencing analysis of 456 pancreatic ductal adenocarcinomas', groups='PUBLIC', importDate='2023-12-08 15:09:51', massSpectrometrySampleCount=None, methylationHm27SampleCount=None, miRnaSampleCount=None, mrnaMicroarraySampleCount=None, mrnaRnaSeqSampleCount=None, mrnaRnaSeqV2SampleCount=None, name='Pancreatic Adenocarcinoma (QCMG, Nature 2016)', pmid='26909576', publicStudy=True, readPermission=True, referenceGenome='hg19', rppaSampleCount=None, sequencedSampleCount=None, status=0, studyId='paad_qcmg_uq_2016', treatmentCount=None),\n",
       " CancerStudy(allSampleCount=32, cancerType=None, cancerTypeId='pact', citation='Wu et al. PNAS 2011', cnaSampleCount=None, completeSampleCount=None, description='Whole-exome sequencing of major neoplastic cyst types of the pancreas: 8 serous cystadenomas (SCAs), 8 intraductal papillary mucinous neoplasms (IPMNs), 8 mucinous cystic neoplasms (MCNs), and 8 solid pseudopapillary neoplasms (SPNs).', groups='PUBLIC', importDate='2023-12-08 15:10:32', massSpectrometrySampleCount=None, methylationHm27SampleCount=None, miRnaSampleCount=None, mrnaMicroarraySampleCount=None, mrnaRnaSeqSampleCount=None, mrnaRnaSeqV2SampleCount=None, name='Cystic Tumor of the Pancreas (Johns Hopkins, PNAS 2011)', pmid='22158988', publicStudy=True, readPermission=True, referenceGenome='hg19', rppaSampleCount=None, sequencedSampleCount=None, status=0, studyId='pact_jhu_2011', treatmentCount=None),\n",
       " CancerStudy(allSampleCount=98, cancerType=None, cancerTypeId='panet', citation='Scarpa et al. Nature 2017', cnaSampleCount=None, completeSampleCount=None, description='Whole-genome sequencing of 98 pancreatic neuroendocrine tumours (PanNETs) and matched normal DNA pairs.', groups='PUBLIC', importDate='2023-12-08 15:10:58', massSpectrometrySampleCount=None, methylationHm27SampleCount=None, miRnaSampleCount=None, mrnaMicroarraySampleCount=None, mrnaRnaSeqSampleCount=None, mrnaRnaSeqV2SampleCount=None, name='Pancreatic Neuroendocrine Tumors (Multi-Institute, Nature 2017)', pmid='28199314', publicStudy=True, readPermission=True, referenceGenome='hg19', rppaSampleCount=None, sequencedSampleCount=None, status=0, studyId='panet_arcnet_2017', treatmentCount=None),\n",
       " CancerStudy(allSampleCount=96, cancerType=None, cancerTypeId='past', citation='Jones et al. Nature Genetics 2013', cnaSampleCount=None, completeSampleCount=None, description='Whole-genome sequencing of 96 pilocytic astrocytoma tumor/normal pairs. Conducted by the International Cancer Genome Consortium (ICGC) PedBrain Tumor Project.', groups='PUBLIC', importDate='2023-12-08 15:11:26', massSpectrometrySampleCount=None, methylationHm27SampleCount=None, miRnaSampleCount=None, mrnaMicroarraySampleCount=None, mrnaRnaSeqSampleCount=None, mrnaRnaSeqV2SampleCount=None, name='Pilocytic Astrocytoma (ICGC, Nature Genetics 2013)', pmid='23817572', publicStudy=True, readPermission=True, referenceGenome='hg19', rppaSampleCount=None, sequencedSampleCount=None, status=0, studyId='past_dkfz_heidelberg_2013', treatmentCount=None),\n",
       " CancerStudy(allSampleCount=178, cancerType=None, cancerTypeId='soft_tissue', citation='Fishbein et al. Cancer Cell 2017', cnaSampleCount=None, completeSampleCount=None, description='Whole-exome sequencing of 178 Pheochromocytoma or Paraganglioma tumor/normal pairs.', groups='PUBLIC', importDate='2023-12-08 15:11:51', massSpectrometrySampleCount=None, methylationHm27SampleCount=None, miRnaSampleCount=None, mrnaMicroarraySampleCount=None, mrnaRnaSeqSampleCount=None, mrnaRnaSeqV2SampleCount=None, name='Pheochromocytoma and Paraganglioma (TCGA, Cell 2017)', pmid='28162975', publicStudy=True, readPermission=True, referenceGenome='hg19', rppaSampleCount=None, sequencedSampleCount=None, status=0, studyId='pcpg_tcga_pub', treatmentCount=None),\n",
       " CancerStudy(allSampleCount=961, cancerType=None, cancerTypeId='mixed', citation='Grobner et al. Nature 2018', cnaSampleCount=None, completeSampleCount=None, description='Whole-genome/exome sequencing of 961 Pediatric Cancer samples. Data generated from Pfister Lab & DKFZ/German Cancer Consortium.', groups='PUBLIC', importDate='2023-12-08 15:12:32', massSpectrometrySampleCount=None, methylationHm27SampleCount=None, miRnaSampleCount=None, mrnaMicroarraySampleCount=None, mrnaRnaSeqSampleCount=None, mrnaRnaSeqV2SampleCount=None, name='Pediatric Pan-Cancer (DKFZ, Nature 2017)', pmid='29489754', publicStudy=True, readPermission=True, referenceGenome='hg19', rppaSampleCount=None, sequencedSampleCount=None, status=0, studyId='pediatric_dkfz_2017', treatmentCount=None),\n",
       " CancerStudy(allSampleCount=106, cancerType=None, cancerTypeId='mixed', citation='Rosen et al. Clin Cancer Res 2020', cnaSampleCount=None, completeSampleCount=None, description='Tumors with TRK fusions based on MSK-IMPACT targeted sequencing.', groups='', importDate='2023-12-08 15:14:29', massSpectrometrySampleCount=None, methylationHm27SampleCount=None, miRnaSampleCount=None, mrnaMicroarraySampleCount=None, mrnaRnaSeqSampleCount=None, mrnaRnaSeqV2SampleCount=None, name='Tumors with TRK fusions (MSK, Clin Cancer Res 2020)', pmid='31871300', publicStudy=True, readPermission=True, referenceGenome='hg19', rppaSampleCount=None, sequencedSampleCount=None, status=0, studyId='ntrk_msk_2019', treatmentCount=None),\n",
       " CancerStudy(allSampleCount=10194, cancerType=None, cancerTypeId='mixed', citation='Wu, Liqun et al. Nature 2022', cnaSampleCount=None, completeSampleCount=None, description='Landscape of genomic alterations in 10,194 solid tumors from the Chinese population', groups='PUBLIC', importDate='2023-12-08 15:14:55', massSpectrometrySampleCount=None, methylationHm27SampleCount=None, miRnaSampleCount=None, mrnaMicroarraySampleCount=None, mrnaRnaSeqSampleCount=None, mrnaRnaSeqV2SampleCount=None, name='China Pan-cancer (OrigiMed, Nature 2022)', pmid='35871175', publicStudy=True, readPermission=True, referenceGenome='hg19', rppaSampleCount=None, sequencedSampleCount=None, status=0, studyId='pan_origimed_2020', treatmentCount=None),\n",
       " CancerStudy(allSampleCount=140, cancerType=None, cancerTypeId='paad', citation='Liwei Cao et al. Cell 2021', cnaSampleCount=None, completeSampleCount=None, description='Whole-genome sequencing (WGS) and whole-exome sequencing (WES) of 140 pancreatic cancers with 67 normal adjacent tissues. Proteogenomic characterization generated by CPTAC.', groups='', importDate='2023-12-08 16:10:23', massSpectrometrySampleCount=None, methylationHm27SampleCount=None, miRnaSampleCount=None, mrnaMicroarraySampleCount=None, mrnaRnaSeqSampleCount=None, mrnaRnaSeqV2SampleCount=None, name='Pancreatic Ductal Adenocarcinoma (CPTAC, Cell 2021)', pmid='34534465', publicStudy=True, readPermission=True, referenceGenome='hg19', rppaSampleCount=None, sequencedSampleCount=None, status=0, studyId='paad_cptac_2021', treatmentCount=None),\n",
       " CancerStudy(allSampleCount=1659, cancerType=None, cancerTypeId='bladder', citation='Clinton et al. Cell Reports 2022', cnaSampleCount=None, completeSampleCount=None, description='Targeted sequencing of 1659 Bladder Cancer tumor/normal samples via MSK-IMPACT.', groups='', importDate='2023-12-08 16:20:21', massSpectrometrySampleCount=None, methylationHm27SampleCount=None, miRnaSampleCount=None, mrnaMicroarraySampleCount=None, mrnaRnaSeqSampleCount=None, mrnaRnaSeqV2SampleCount=None, name='Bladder Cancer (MSK, Cell Reports 2022)', pmid='36543146', publicStudy=True, readPermission=True, referenceGenome='hg19', rppaSampleCount=None, sequencedSampleCount=None, status=0, studyId='paired_bladder_2022', treatmentCount=None),\n",
       " CancerStudy(allSampleCount=47, cancerType=None, cancerTypeId='paac', citation=None, cnaSampleCount=None, completeSampleCount=None, description='Targeted sequencing of pancreatic acinar cell carcinoma tumor and normal samples via MSK-IMPACT.', groups='PUBLIC', importDate='2023-12-08 16:21:16', massSpectrometrySampleCount=None, methylationHm27SampleCount=None, miRnaSampleCount=None, mrnaMicroarraySampleCount=None, mrnaRnaSeqSampleCount=None, mrnaRnaSeqV2SampleCount=None, name='Pancreatic Acinar Cell Carcinoma (MSK, JCO 2023)', pmid=None, publicStudy=True, readPermission=True, referenceGenome='hg19', rppaSampleCount=None, sequencedSampleCount=None, status=0, studyId='paac_msk_jco_2023', treatmentCount=None),\n",
       " CancerStudy(allSampleCount=176, cancerType=None, cancerTypeId='prad', citation='Kumar et al. Nat Med 2016', cnaSampleCount=None, completeSampleCount=None, description='Whole-exome sequencing, array comparative genomic hybridization (CGH) and RNA transcript profiling of 176 tumors from 63 patients with disseminated prostate cancer with matched normals.', groups='PUBLIC', importDate='2023-12-08 16:51:36', massSpectrometrySampleCount=None, methylationHm27SampleCount=None, miRnaSampleCount=None, mrnaMicroarraySampleCount=None, mrnaRnaSeqSampleCount=None, mrnaRnaSeqV2SampleCount=None, name='Prostate Adenocarcinoma (Fred Hutchinson CRC, Nat Med 2016)', pmid='26928463', publicStudy=True, readPermission=True, referenceGenome='hg19', rppaSampleCount=None, sequencedSampleCount=None, status=0, studyId='prad_fhcrc', treatmentCount=None),\n",
       " CancerStudy(allSampleCount=123, cancerType=None, cancerTypeId='prad', citation='Barbieri et al. Nat Genet 2012', cnaSampleCount=None, completeSampleCount=None, description=\"Whole-exome sequencing of 112 prostate adenocarcinomas and matched normal samples. Generated by Levi Garraway's lab at the Broad Institute and Mark Rubin's lab at Cornell.\", groups='PUBLIC', importDate='2023-12-08 16:57:01', massSpectrometrySampleCount=None, methylationHm27SampleCount=None, miRnaSampleCount=None, mrnaMicroarraySampleCount=None, mrnaRnaSeqSampleCount=None, mrnaRnaSeqV2SampleCount=None, name='Prostate Adenocarcinoma (Broad/Cornell, Nat Genet 2012)', pmid='22610119', publicStudy=True, readPermission=True, referenceGenome='hg19', rppaSampleCount=None, sequencedSampleCount=None, status=0, studyId='prad_broad', treatmentCount=None),\n",
       " CancerStudy(allSampleCount=82, cancerType=None, cancerTypeId='prad', citation='Baca et al. Cell 2013', cnaSampleCount=None, completeSampleCount=None, description='Whole genome sequencing of 57 prostate tumor and matches normal tissues.', groups='PUBLIC', importDate='2023-12-08 16:57:49', massSpectrometrySampleCount=None, methylationHm27SampleCount=None, miRnaSampleCount=None, mrnaMicroarraySampleCount=None, mrnaRnaSeqSampleCount=None, mrnaRnaSeqV2SampleCount=None, name='Prostate Adenocarcinoma (Broad/Cornell, Cell 2013)', pmid='23622249', publicStudy=True, readPermission=True, referenceGenome='hg19', rppaSampleCount=None, sequencedSampleCount=None, status=0, studyId='prad_broad_2013', treatmentCount=None),\n",
       " CancerStudy(allSampleCount=121, cancerType=None, cancerTypeId='prad', citation='Grasso et al. Nature 2012', cnaSampleCount=None, completeSampleCount=None, description=\"Exome sequencing of 61 prostate cancer tumor/normal pairs (50 metastatic CRPCs and 11 high-grade localized prostate cancers). Generated by Arul Chinnaiyan's and Scott Tomlins' labs at the University of Michigan.\", groups='PUBLIC', importDate='2023-12-08 16:59:09', massSpectrometrySampleCount=None, methylationHm27SampleCount=None, miRnaSampleCount=None, mrnaMicroarraySampleCount=None, mrnaRnaSeqSampleCount=None, mrnaRnaSeqV2SampleCount=None, name='Metastatic Prostate Adenocarcinoma (MCTP, Nature 2012)', pmid='22722839', publicStudy=True, readPermission=True, referenceGenome='hg19', rppaSampleCount=None, sequencedSampleCount=None, status=0, studyId='prad_mich', treatmentCount=None),\n",
       " CancerStudy(allSampleCount=240, cancerType=None, cancerTypeId='prad', citation='Taylor et al. Cancer Cell 2010', cnaSampleCount=None, completeSampleCount=None, description='Comprehensive profiling of 218 prostate tumors (181 primaries, 37 metastases) and 14 prostate cancer cell lines and xenografts. MSKCC Prostate Oncogenome Project.<br><a href=\"http://cbio.mskcc.org/cancergenomics/prostate/data/\">Normalized flat data files</a>. <a href=\"http://www.ncbi.nlm.nih.gov/geo/query/acc.cgi?acc=GSE21032\">Raw data via GEO (GSE21032)</a>.', groups='PUBLIC', importDate='2023-12-08 17:01:58', massSpectrometrySampleCount=None, methylationHm27SampleCount=None, miRnaSampleCount=None, mrnaMicroarraySampleCount=None, mrnaRnaSeqSampleCount=None, mrnaRnaSeqV2SampleCount=None, name='Prostate Adenocarcinoma (MSK, Cancer Cell 2010)', pmid='20579941', publicStudy=True, readPermission=True, referenceGenome='hg19', rppaSampleCount=None, sequencedSampleCount=None, status=0, studyId='prad_mskcc', treatmentCount=None),\n",
       " CancerStudy(allSampleCount=104, cancerType=None, cancerTypeId='prad', citation='Hieronymus et al. PNAS 2014', cnaSampleCount=None, completeSampleCount=None, description='Genome-wide copy number profiling in 104 primary prostate cancer tumor/normal pairs. <a href=\"http://www.ncbi.nlm.nih.gov/geo/query/acc.cgi?acc=GSE54691\">Raw data via GEO (GSE54691)</a>.', groups='PUBLIC', importDate='2023-12-08 17:03:58', massSpectrometrySampleCount=None, methylationHm27SampleCount=None, miRnaSampleCount=None, mrnaMicroarraySampleCount=None, mrnaRnaSeqSampleCount=None, mrnaRnaSeqV2SampleCount=None, name='Prostate Adenocarcinoma (MSK, PNAS 2014)', pmid='25024180', publicStudy=True, readPermission=True, referenceGenome='hg19', rppaSampleCount=None, sequencedSampleCount=None, status=0, studyId='prad_mskcc_2014', treatmentCount=None),\n",
       " CancerStudy(allSampleCount=150, cancerType=None, cancerTypeId='prad', citation='Robinson et al. Cell 2015', cnaSampleCount=None, completeSampleCount=None, description='Whole-exome sequencing of 150 metastatic prostate cancer tumor/normal pairs by the SU2C/PCF Dream Team.', groups='PUBLIC', importDate='2023-12-08 17:04:09', massSpectrometrySampleCount=None, methylationHm27SampleCount=None, miRnaSampleCount=None, mrnaMicroarraySampleCount=None, mrnaRnaSeqSampleCount=None, mrnaRnaSeqV2SampleCount=None, name='Metastatic Prostate Cancer (SU2C/PCF Dream Team, Cell 2015)', pmid='26000489', publicStudy=True, readPermission=True, referenceGenome='hg19', rppaSampleCount=None, sequencedSampleCount=None, status=0, studyId='prad_su2c_2015', treatmentCount=None),\n",
       " CancerStudy(allSampleCount=333, cancerType=None, cancerTypeId='prad', citation='TCGA, Cell 2015', cnaSampleCount=None, completeSampleCount=None, description='Whole exome and/or whole genome sequencing of 333 primary prostate adenocarcinoma tumor/normal pairs; raw data at the <A HREF=\"https://tcga-data.nci.nih.gov/docs/publications/prad_2015/\">NCI</A>.', groups='PUBLIC', importDate='2023-12-08 17:08:01', massSpectrometrySampleCount=None, methylationHm27SampleCount=None, miRnaSampleCount=None, mrnaMicroarraySampleCount=None, mrnaRnaSeqSampleCount=None, mrnaRnaSeqV2SampleCount=None, name='Prostate Adenocarcinoma (TCGA, Cell 2015)', pmid='26544944', publicStudy=True, readPermission=True, referenceGenome='hg19', rppaSampleCount=None, sequencedSampleCount=None, status=0, studyId='prad_tcga_pub', treatmentCount=None),\n",
       " CancerStudy(allSampleCount=477, cancerType=None, cancerTypeId='prad', citation='Fraser et al. Nature 2017', cnaSampleCount=None, completeSampleCount=None, description='Whole-genome/exome sequencing of 477 prostate samples from CPC-GENE and public data sets, including TCGA-PRAD.', groups='', importDate='2023-12-08 17:15:35', massSpectrometrySampleCount=None, methylationHm27SampleCount=None, miRnaSampleCount=None, mrnaMicroarraySampleCount=None, mrnaRnaSeqSampleCount=None, mrnaRnaSeqV2SampleCount=None, name='Prostate Adenocarcinoma (CPC-GENE, Nature 2017)', pmid='28068672', publicStudy=True, readPermission=True, referenceGenome='hg19', rppaSampleCount=None, sequencedSampleCount=None, status=0, studyId='prad_cpcg_2017', treatmentCount=None),\n",
       " CancerStudy(allSampleCount=12, cancerType=None, cancerTypeId='prad', citation='Gao et al. Cell 2014', cnaSampleCount=None, completeSampleCount=None, description='Exome sequencing of 12 advanced prostate cancer samples and matched organoids', groups='PUBLIC', importDate='2023-12-08 17:18:04', massSpectrometrySampleCount=None, methylationHm27SampleCount=None, miRnaSampleCount=None, mrnaMicroarraySampleCount=None, mrnaRnaSeqSampleCount=None, mrnaRnaSeqV2SampleCount=None, name='Prostate Adenocarcinoma Organoids (MSK, Cell 2014)', pmid='25201530', publicStudy=True, readPermission=True, referenceGenome='hg19', rppaSampleCount=None, sequencedSampleCount=None, status=0, studyId='prad_mskcc_cheny1_organoids_2014', treatmentCount=None),\n",
       " CancerStudy(allSampleCount=424, cancerType=None, cancerTypeId='prad', citation='Stopsack et al. Clin Cancer Res 2020', cnaSampleCount=None, completeSampleCount=None, description='MSK-IMPACT sequencing of 424 matched tumor-normal samples from patients with metastatic castration-sensitive prostate cancer. Germline alterations are not shown here.', groups='PUBLIC', importDate='2023-12-08 17:18:37', massSpectrometrySampleCount=None, methylationHm27SampleCount=None, miRnaSampleCount=None, mrnaMicroarraySampleCount=None, mrnaRnaSeqSampleCount=None, mrnaRnaSeqV2SampleCount=None, name='Metastatic castration-sensitive prostate cancer (MSK, Clin Cancer Res 2020)', pmid='32220891', publicStudy=True, readPermission=True, referenceGenome='hg19', rppaSampleCount=None, sequencedSampleCount=None, status=0, studyId='prad_mcspc_mskcc_2020', treatmentCount=None),\n",
       " CancerStudy(allSampleCount=14, cancerType=None, cancerTypeId='rbl', citation='Kothari et al. Cancer Med 2020', cnaSampleCount=None, completeSampleCount=None, description='Cell-free DNA profiling in 14 retinoblastoma patients with advanced intraocular disease: An MSKCC experience', groups='TSUIW', importDate='2023-12-08 17:19:14', massSpectrometrySampleCount=None, methylationHm27SampleCount=None, miRnaSampleCount=None, mrnaMicroarraySampleCount=None, mrnaRnaSeqSampleCount=None, mrnaRnaSeqV2SampleCount=None, name='Retinoblastoma cfDNA (MSK, Cancer Med 2020)', pmid='32633890', publicStudy=True, readPermission=True, referenceGenome='hg19', rppaSampleCount=None, sequencedSampleCount=None, status=0, studyId='rbl_cfdna_msk_2020', treatmentCount=None),\n",
       " CancerStudy(allSampleCount=2069, cancerType=None, cancerTypeId='prad', citation='Stopsack et al. Clin Cancer Res 2022', cnaSampleCount=None, completeSampleCount=None, description='Targeted sequencing of 2,069 prostate cancers from different races via MSK-IMPACT.', groups='', importDate='2023-12-08 17:19:48', massSpectrometrySampleCount=None, methylationHm27SampleCount=None, miRnaSampleCount=None, mrnaMicroarraySampleCount=None, mrnaRnaSeqSampleCount=None, mrnaRnaSeqV2SampleCount=None, name='Race Differences in Prostate Cancer (MSK, 2021)', pmid='34667026', publicStudy=True, readPermission=True, referenceGenome='hg19', rppaSampleCount=None, sequencedSampleCount=None, status=0, studyId='prad_msk_stopsack_2021', treatmentCount=None),\n",
       " CancerStudy(allSampleCount=1417, cancerType=None, cancerTypeId='prad', citation='Chakraborty et al. Clin Cancer Research 2022', cnaSampleCount=None, completeSampleCount=None, description='Targeted sequencing of 1417 Prostate Adenocarcinoma tumor/normal sample pairs via MSK-IMPACT to analyze the significance of PIK3R1 alterations.', groups='', importDate='2023-12-08 17:20:35', massSpectrometrySampleCount=None, methylationHm27SampleCount=None, miRnaSampleCount=None, mrnaMicroarraySampleCount=None, mrnaRnaSeqSampleCount=None, mrnaRnaSeqV2SampleCount=None, name='Prostate Adenocarcinoma (MSK, Clin Cancer Res. 2022)', pmid='35670774', publicStudy=True, readPermission=True, referenceGenome='hg19', rppaSampleCount=None, sequencedSampleCount=None, status=0, studyId='prad_pik3r1_msk_2021', treatmentCount=None),\n",
       " CancerStudy(allSampleCount=168, cancerType=None, cancerTypeId='prostate', citation='Rodriguez-Calero et al. Nat Commun. 2022', cnaSampleCount=None, completeSampleCount=None, description='Prostate Cancer Brain Metastases, Switzerland. Dataset was generated in 2019 by Antonio Rodriguez, John Gallon, Salvatore Piscuoglio and Mark Rubin.', groups='', importDate='2023-12-08 17:21:51', massSpectrometrySampleCount=None, methylationHm27SampleCount=None, miRnaSampleCount=None, mrnaMicroarraySampleCount=None, mrnaRnaSeqSampleCount=None, mrnaRnaSeqV2SampleCount=None, name='Prostate Cancer Brain Metastases (Bern, Nat Commun. 2022)', pmid='35504881', publicStudy=True, readPermission=True, referenceGenome='hg19', rppaSampleCount=None, sequencedSampleCount=None, status=0, studyId='prostate_pcbm_swiss_2019', treatmentCount=None),\n",
       " CancerStudy(allSampleCount=480, cancerType=None, cancerTypeId='skcm', citation=None, cnaSampleCount=None, completeSampleCount=None, description='TCGA Skin Cutaneous Melanoma. Source data from <A HREF=\"http://gdac.broadinstitute.org/runs/stddata__2016_01_28/data/SKCM/20160128/\">GDAC Firehose</A>. Previously known as TCGA Provisional.', groups='PUBLIC', importDate='2023-12-10 23:46:07', massSpectrometrySampleCount=None, methylationHm27SampleCount=None, miRnaSampleCount=None, mrnaMicroarraySampleCount=None, mrnaRnaSeqSampleCount=None, mrnaRnaSeqV2SampleCount=None, name='Skin Cutaneous Melanoma (TCGA, Firehose Legacy)', pmid=None, publicStudy=True, readPermission=True, referenceGenome='hg19', rppaSampleCount=None, sequencedSampleCount=None, status=0, studyId='skcm_tcga', treatmentCount=None),\n",
       " CancerStudy(allSampleCount=29, cancerType=None, cancerTypeId='sclc', citation='Peifer et al. Nat Genet 2012', cnaSampleCount=None, completeSampleCount=None, description='Comprehensive whole exam profiling of 29 small cell lung cancer samples. Generated by the Clinical Lung Cancer Genome Project. Data from Peifer et al., Nat Genet 2012 (German group).  Paper states data available at http://www.uni-koeln.edu/sclc/SCLC_data.tgz .', groups='SCLCPORTAL;PUBLIC', importDate='2023-12-10 23:56:51', massSpectrometrySampleCount=None, methylationHm27SampleCount=None, miRnaSampleCount=None, mrnaMicroarraySampleCount=None, mrnaRnaSeqSampleCount=None, mrnaRnaSeqV2SampleCount=None, name='Small Cell Lung Cancer (CLCGP, Nat Genet 2012)', pmid='22941188', publicStudy=True, readPermission=True, referenceGenome='hg19', rppaSampleCount=None, sequencedSampleCount=None, status=0, studyId='sclc_clcgp', treatmentCount=None),\n",
       " CancerStudy(allSampleCount=80, cancerType=None, cancerTypeId='sclc', citation='Rudin et al. Nat Genet 2012', cnaSampleCount=None, completeSampleCount=None, description='Whole exome-sequencing of 80 human SCLCs, including 36 primary SCLC human tumor and adjacent normal sample pairs and 17 paired SCLC cell lines and their patient-matched lymphoblastoid lines, as well as 4 primary SCLC tumors and 23 SCLC cell lines without matched normal controls. Data from Rudin et al., Nat Gene 2012. Sequencing data are publicly available in EGA (EGAS0000100334)', groups='SCLCPORTAL;PUBLIC', importDate='2023-12-10 23:57:26', massSpectrometrySampleCount=None, methylationHm27SampleCount=None, miRnaSampleCount=None, mrnaMicroarraySampleCount=None, mrnaRnaSeqSampleCount=None, mrnaRnaSeqV2SampleCount=None, name='Small Cell Lung Cancer (Johns Hopkins, Nat Genet 2012)', pmid='22941189', publicStudy=True, readPermission=True, referenceGenome='hg19', rppaSampleCount=None, sequencedSampleCount=None, status=0, studyId='sclc_jhu', treatmentCount=None),\n",
       " CancerStudy(allSampleCount=121, cancerType=None, cancerTypeId='skcm', citation='Hodis et al. Cell 2012', cnaSampleCount=None, completeSampleCount=None, description='Whole-exome sequencing of 121 melanoma samples with matched normals.', groups='PUBLIC', importDate='2023-12-10 23:58:02', massSpectrometrySampleCount=None, methylationHm27SampleCount=None, miRnaSampleCount=None, mrnaMicroarraySampleCount=None, mrnaRnaSeqSampleCount=None, mrnaRnaSeqV2SampleCount=None, name='Skin Cutaneous Melanoma (Broad, Cell 2012)', pmid='22817889', publicStudy=True, readPermission=True, referenceGenome='hg19', rppaSampleCount=None, sequencedSampleCount=None, status=0, studyId='skcm_broad', treatmentCount=None),\n",
       " CancerStudy(allSampleCount=26, cancerType=None, cancerTypeId='skcm', citation='Berger et al. Nature 2012', cnaSampleCount=None, completeSampleCount=None, description='Whole Genome Sequencing of 25  metastatic melanoma samples with matched normals', groups='PUBLIC', importDate='2023-12-10 23:59:10', massSpectrometrySampleCount=None, methylationHm27SampleCount=None, miRnaSampleCount=None, mrnaMicroarraySampleCount=None, mrnaRnaSeqSampleCount=None, mrnaRnaSeqV2SampleCount=None, name='Melanoma (Broad/Dana Farber, Nature 2012)', pmid='22622578', publicStudy=True, readPermission=True, referenceGenome='hg19', rppaSampleCount=None, sequencedSampleCount=None, status=0, studyId='skcm_broad_dfarber', treatmentCount=None),\n",
       " CancerStudy(allSampleCount=12, cancerType=None, cancerTypeId='scco', citation='Jelinic et al. Nat Genet 2014', cnaSampleCount=None, completeSampleCount=None, description='Targeted sequencing of 12 SCCO paired tumor and normal samples.', groups='PUBLIC', importDate='2023-12-10 23:59:44', massSpectrometrySampleCount=None, methylationHm27SampleCount=None, miRnaSampleCount=None, mrnaMicroarraySampleCount=None, mrnaRnaSeqSampleCount=None, mrnaRnaSeqV2SampleCount=None, name='Small Cell Carcinoma of the Ovary (MSK, Nat Genet 2014)', pmid='24658004', publicStudy=True, readPermission=True, referenceGenome='hg19', rppaSampleCount=None, sequencedSampleCount=None, status=0, studyId='scco_mskcc', treatmentCount=None),\n",
       " CancerStudy(allSampleCount=43, cancerType=None, cancerTypeId='rms', citation='Shern et al. Cancer Discov 2014', cnaSampleCount=None, completeSampleCount=None, description='Whole-genome or whole-exome sequencing of 43 rhabdomyosarcoma tumor/normal pairs.', groups='PUBLIC', importDate='2023-12-11 00:00:13', massSpectrometrySampleCount=None, methylationHm27SampleCount=None, miRnaSampleCount=None, mrnaMicroarraySampleCount=None, mrnaRnaSeqSampleCount=None, mrnaRnaSeqV2SampleCount=None, name='Rhabdomyosarcoma (NIH, Cancer Discov 2014)', pmid='24436047', publicStudy=True, readPermission=True, referenceGenome='hg19', rppaSampleCount=None, sequencedSampleCount=None, status=0, studyId='rms_nih_2014', treatmentCount=None),\n",
       " CancerStudy(allSampleCount=207, cancerType=None, cancerTypeId='soft_tissue', citation='Barretina et al. Nat Genet 2010', cnaSampleCount=None, completeSampleCount=None, description='Sanger-sequenced 226 protein-coding genes (3,849 exons and adjacent intronic) on 207 samples (with 205 matched normals) encompassing 7 major sarcoma subtypes.', groups='', importDate='2023-12-11 00:00:43', massSpectrometrySampleCount=None, methylationHm27SampleCount=None, miRnaSampleCount=None, mrnaMicroarraySampleCount=None, mrnaRnaSeqSampleCount=None, mrnaRnaSeqV2SampleCount=None, name='Sarcoma (MSKCC/Broad, Nat Genet 2010)', pmid='20601955', publicStudy=True, readPermission=True, referenceGenome='hg19', rppaSampleCount=None, sequencedSampleCount=None, status=0, studyId='sarc_mskcc', treatmentCount=None),\n",
       " CancerStudy(allSampleCount=78, cancerType=None, cancerTypeId='skcm', citation='Van Allen et al. Cancer Discov. 2012', cnaSampleCount=None, completeSampleCount=None, description='Exome Sequencing of tumors (with matched normals) from 45 patients with BRAFV600-mutant metastatic melanoma who received vemurafenib or dabrafenib monotherapy.', groups='', importDate='2023-12-11 00:03:32', massSpectrometrySampleCount=None, methylationHm27SampleCount=None, miRnaSampleCount=None, mrnaMicroarraySampleCount=None, mrnaRnaSeqSampleCount=None, mrnaRnaSeqV2SampleCount=None, name='Skin Cutaneous Melanoma(Broad, Cancer Discov 2014)', pmid='24265153', publicStudy=True, readPermission=True, referenceGenome='hg19', rppaSampleCount=None, sequencedSampleCount=None, status=0, studyId='skcm_broad_brafresist_2012', treatmentCount=None),\n",
       " CancerStudy(allSampleCount=206, cancerType=None, cancerTypeId='soft_tissue', citation='TCGA, Cell 2017', cnaSampleCount=None, completeSampleCount=None, description='Whole-exome sequencing of 206 Adult Soft Tissue Sarcoma tumor/normal pairs.', groups='PUBLIC', importDate='2023-12-11 00:04:24', massSpectrometrySampleCount=None, methylationHm27SampleCount=None, miRnaSampleCount=None, mrnaMicroarraySampleCount=None, mrnaRnaSeqSampleCount=None, mrnaRnaSeqV2SampleCount=None, name='Adult Soft Tissue Sarcomas (TCGA, Cell 2017)', pmid='29100075', publicStudy=True, readPermission=True, referenceGenome='hg19', rppaSampleCount=None, sequencedSampleCount=None, status=0, studyId='sarc_tcga_pub', treatmentCount=None),\n",
       " CancerStudy(allSampleCount=64, cancerType=None, cancerTypeId='skcm', citation='Snyder et al. NEJM 2014', cnaSampleCount=None, completeSampleCount=None, description='Whole-exome sequencing of 64 pretreated (ipilimumab or tremelimumab) melanoma tumor-normal pairs.', groups='', importDate='2023-12-11 00:07:25', massSpectrometrySampleCount=None, methylationHm27SampleCount=None, miRnaSampleCount=None, mrnaMicroarraySampleCount=None, mrnaRnaSeqSampleCount=None, mrnaRnaSeqV2SampleCount=None, name='Melanoma (MSK, NEJM 2014)', pmid='25409260', publicStudy=True, readPermission=True, referenceGenome='hg19', rppaSampleCount=None, sequencedSampleCount=None, status=0, studyId='skcm_mskcc_2014', treatmentCount=None),\n",
       " CancerStudy(allSampleCount=20, cancerType=None, cancerTypeId='sclc', citation='Gardner et al. Cancer Cell 2017', cnaSampleCount=None, completeSampleCount=None, description='Whole Exome Sequencing of 10 paired chemosensitive and chemoresistant SCLC PDX. Data from Gardner et al., Cancer Cell 2017. Data available in dbGaP (PHS001249.v1.p1).', groups='', importDate='2023-12-11 00:11:21', massSpectrometrySampleCount=None, methylationHm27SampleCount=None, miRnaSampleCount=None, mrnaMicroarraySampleCount=None, mrnaRnaSeqSampleCount=None, mrnaRnaSeqV2SampleCount=None, name='Small-Cell Lung Cancer (Multi-Institute, Cancer Cell 2017)', pmid='28196596', publicStudy=True, readPermission=True, referenceGenome='hg19', rppaSampleCount=None, sequencedSampleCount=None, status=0, studyId='sclc_cancercell_gardner_2017', treatmentCount=None),\n",
       " CancerStudy(allSampleCount=359, cancerType=None, cancerTypeId='skcm', citation='TCGA, Cell 2015', cnaSampleCount=None, completeSampleCount=None, description='Whole-exome sequencing of 333 primary and/or metastatic melanomas.', groups='PUBLIC', importDate='2023-12-11 00:12:41', massSpectrometrySampleCount=None, methylationHm27SampleCount=None, miRnaSampleCount=None, mrnaMicroarraySampleCount=None, mrnaRnaSeqSampleCount=None, mrnaRnaSeqV2SampleCount=None, name='Melanomas (TCGA, Cell 2015)', pmid='26091043', publicStudy=True, readPermission=True, referenceGenome='hg19', rppaSampleCount=None, sequencedSampleCount=None, status=0, studyId='skcm_tcga_pub_2015', treatmentCount=None),\n",
       " CancerStudy(allSampleCount=110, cancerType=None, cancerTypeId='skcm', citation='Van Allen et al. Science 2015', cnaSampleCount=None, completeSampleCount=None, description='Whole-exome sequencing of 110 metastatic melanoma tumor-normal pairs.', groups='', importDate='2023-12-11 00:14:59', massSpectrometrySampleCount=None, methylationHm27SampleCount=None, miRnaSampleCount=None, mrnaMicroarraySampleCount=None, mrnaRnaSeqSampleCount=None, mrnaRnaSeqV2SampleCount=None, name='Metastatic Melanoma (DFCI, Science 2015)', pmid='26359337', publicStudy=True, readPermission=True, referenceGenome='hg19', rppaSampleCount=None, sequencedSampleCount=None, status=0, studyId='skcm_dfci_2015', treatmentCount=None),\n",
       " CancerStudy(allSampleCount=120, cancerType=None, cancerTypeId='sclc', citation='George et al. Nature 2015', cnaSampleCount=None, completeSampleCount=None, description='Whole-genome sequencing of 120 small cell lung cancer(SCLC) tumour samples and matched normal material. Data from George et al., Nature 2015 (German group). Paper states data available in GEO (GSE69091).', groups='SCLCPORTAL;PUBLIC', importDate='2023-12-11 00:17:32', massSpectrometrySampleCount=None, methylationHm27SampleCount=None, miRnaSampleCount=None, mrnaMicroarraySampleCount=None, mrnaRnaSeqSampleCount=None, mrnaRnaSeqV2SampleCount=None, name='Small Cell Lung Cancer (U Cologne, Nature 2015)', pmid='26168399', publicStudy=True, readPermission=True, referenceGenome='hg19', rppaSampleCount=None, sequencedSampleCount=None, status=0, studyId='sclc_ucologne_2015', treatmentCount=None),\n",
       " CancerStudy(allSampleCount=2138, cancerType=None, cancerTypeId='soft_tissue', citation='Nacev et al. Nat Commun. 2022', cnaSampleCount=None, completeSampleCount=None, description='Targeted Sequencing of 2138 Sarcoma samples and matched normals via MSK-IMPACT.', groups='', importDate='2023-12-11 00:18:20', massSpectrometrySampleCount=None, methylationHm27SampleCount=None, miRnaSampleCount=None, mrnaMicroarraySampleCount=None, mrnaRnaSeqSampleCount=None, mrnaRnaSeqV2SampleCount=None, name='Sarcoma (MSK, Nat Commun. 2022)', pmid='35705560', publicStudy=True, readPermission=True, referenceGenome='hg19', rppaSampleCount=None, sequencedSampleCount=None, status=0, studyId='sarcoma_mskcc_2022', treatmentCount=None),\n",
       " CancerStudy(allSampleCount=83, cancerType=None, cancerTypeId='rbl', citation='Francis et al. Cancers 2021', cnaSampleCount=None, completeSampleCount=None, description='Targeted sequencing of 83 Retinoblastoma tumor-normal pairs via MSK-IMPACT. Genomic data provided is limited to somatic alterations.', groups='PUBLIC', importDate='2023-12-11 00:19:12', massSpectrometrySampleCount=None, methylationHm27SampleCount=None, miRnaSampleCount=None, mrnaMicroarraySampleCount=None, mrnaRnaSeqSampleCount=None, mrnaRnaSeqV2SampleCount=None, name='Retinoblastoma (MSK, Cancers 2021)', pmid='33466343', publicStudy=True, readPermission=True, referenceGenome='hg19', rppaSampleCount=None, sequencedSampleCount=None, status=0, studyId='rbl_mskcc_2020', treatmentCount=None),\n",
       " CancerStudy(allSampleCount=788, cancerType=None, cancerTypeId='bowel', citation='Walid K et al. Nature Medicine 2022', cnaSampleCount=None, completeSampleCount=None, description='DNA and RNA sequencing of 738 primary rectal tumors.', groups='', importDate='2023-12-11 00:19:42', massSpectrometrySampleCount=None, methylationHm27SampleCount=None, miRnaSampleCount=None, mrnaMicroarraySampleCount=None, mrnaRnaSeqSampleCount=None, mrnaRnaSeqV2SampleCount=None, name='Rectal Cancer (MSK, Nature Medicine 2022)', pmid='35970919', publicStudy=True, readPermission=True, referenceGenome='hg19', rppaSampleCount=None, sequencedSampleCount=None, status=0, studyId='rectal_msk_2022', treatmentCount=None),\n",
       " CancerStudy(allSampleCount=147, cancerType=None, cancerTypeId='skcm', citation='Krauthammer et al. Nat Genet 2012', cnaSampleCount=None, completeSampleCount=None, description='Exome sequencing of 147 melanoma samples with 99 matched normals.', groups='PUBLIC', importDate='2023-12-11 10:06:47', massSpectrometrySampleCount=None, methylationHm27SampleCount=None, miRnaSampleCount=None, mrnaMicroarraySampleCount=None, mrnaRnaSeqSampleCount=None, mrnaRnaSeqV2SampleCount=None, name='Skin Cutaneous Melanoma (Yale, Nat Genet 2012)', pmid='22842228', publicStudy=True, readPermission=True, referenceGenome='hg19', rppaSampleCount=None, sequencedSampleCount=None, status=0, studyId='skcm_yale', treatmentCount=None),\n",
       " CancerStudy(allSampleCount=100, cancerType=None, cancerTypeId='stad', citation='Wang et al. Nat Genet 2014', cnaSampleCount=None, completeSampleCount=None, description='Whole genome sequencing of 100 gastric cancer tumor-normal pairs from the University of Hong Kong and Pfizer.', groups='PUBLIC', importDate='2023-12-11 10:07:30', massSpectrometrySampleCount=None, methylationHm27SampleCount=None, miRnaSampleCount=None, mrnaMicroarraySampleCount=None, mrnaRnaSeqSampleCount=None, mrnaRnaSeqV2SampleCount=None, name='Stomach Adenocarcinoma (Pfizer and UHK, Nat Genet 2014)', pmid='24816253', publicStudy=True, readPermission=True, referenceGenome='hg19', rppaSampleCount=None, sequencedSampleCount=None, status=0, studyId='stad_pfizer_uhongkong', treatmentCount=None),\n",
       " CancerStudy(allSampleCount=295, cancerType=None, cancerTypeId='stad', citation='TCGA, Nature 2014', cnaSampleCount=None, completeSampleCount=None, description='Whole-exome sequencing of 295 primary gastric adenocarcinomas tumors with matched normals. TCGA Stomach Adenocarcinoma Project; raw data at the <A HREF=\"https://tcga-data.nci.nih.gov/docs/publications/stad_2014/\">NCI</A>.', groups='PUBLIC', importDate='2023-12-11 10:08:11', massSpectrometrySampleCount=None, methylationHm27SampleCount=None, miRnaSampleCount=None, mrnaMicroarraySampleCount=None, mrnaRnaSeqSampleCount=None, mrnaRnaSeqV2SampleCount=None, name='Stomach Adenocarcinoma (TCGA, Nature 2014)', pmid='25079317', publicStudy=True, readPermission=True, referenceGenome='hg19', rppaSampleCount=None, sequencedSampleCount=None, status=0, studyId='stad_tcga_pub', treatmentCount=None),\n",
       " CancerStudy(allSampleCount=22, cancerType=None, cancerTypeId='stad', citation='Wang et al. Nat Genet 2011', cnaSampleCount=None, completeSampleCount=None, description='Exome sequencing of 22 gastric cancer samples with matched normals.', groups='PUBLIC', importDate='2023-12-11 10:12:43', massSpectrometrySampleCount=None, methylationHm27SampleCount=None, miRnaSampleCount=None, mrnaMicroarraySampleCount=None, mrnaRnaSeqSampleCount=None, mrnaRnaSeqV2SampleCount=None, name='Stomach Adenocarcinoma (UHK, Nat Genet 2011)', pmid='22037554', publicStudy=True, readPermission=True, referenceGenome='hg19', rppaSampleCount=None, sequencedSampleCount=None, status=0, studyId='stad_uhongkong', treatmentCount=None),\n",
       " CancerStudy(allSampleCount=30, cancerType=None, cancerTypeId='stad', citation='Kakiuchi et al. Nat Genet 2014', cnaSampleCount=None, completeSampleCount=None, description='Whole exome sequencing of 30 diffuse-type gastric adenocarcinoma samples (with matched normals) from the University of Tokyo.', groups='PUBLIC', importDate='2023-12-11 10:13:18', massSpectrometrySampleCount=None, methylationHm27SampleCount=None, miRnaSampleCount=None, mrnaMicroarraySampleCount=None, mrnaRnaSeqSampleCount=None, mrnaRnaSeqV2SampleCount=None, name='Stomach Adenocarcinoma (U Tokyo, Nat Genet 2014)', pmid='24816255', publicStudy=True, readPermission=True, referenceGenome='hg19', rppaSampleCount=None, sequencedSampleCount=None, status=0, studyId='stad_utokyo', treatmentCount=None),\n",
       " CancerStudy(allSampleCount=32, cancerType=None, cancerTypeId='tet', citation='Petrini at el. Nat Genet 2014', cnaSampleCount=None, completeSampleCount=None, description='Whole exome sequencing of 28 thymic epithelial tumors (TETs) with matched normals', groups='PUBLIC', importDate='2023-12-11 10:13:49', massSpectrometrySampleCount=None, methylationHm27SampleCount=None, miRnaSampleCount=None, mrnaMicroarraySampleCount=None, mrnaRnaSeqSampleCount=None, mrnaRnaSeqV2SampleCount=None, name='Thymic Epithelial Tumors (NCI, Nat Genet 2014)', pmid='24974848', publicStudy=True, readPermission=True, referenceGenome='hg19', rppaSampleCount=None, sequencedSampleCount=None, status=0, studyId='tet_nci_2014', treatmentCount=None),\n",
       " CancerStudy(allSampleCount=117, cancerType=None, cancerTypeId='thyroid', citation='Landa et al. J Clin Invest 2016', cnaSampleCount=None, completeSampleCount=None, description='Targeted sequencing of 341 cancer genes from 117 patient-derived PDTCs and ATCs', groups='PUBLIC', importDate='2023-12-11 10:14:20', massSpectrometrySampleCount=None, methylationHm27SampleCount=None, miRnaSampleCount=None, mrnaMicroarraySampleCount=None, mrnaRnaSeqSampleCount=None, mrnaRnaSeqV2SampleCount=None, name='Poorly-Differentiated and Anaplastic Thyroid Cancers (MSK, JCI 2016)', pmid='26878173', publicStudy=True, readPermission=True, referenceGenome='hg19', rppaSampleCount=None, sequencedSampleCount=None, status=0, studyId='thyroid_mskcc_2016', treatmentCount=None),\n",
       " CancerStudy(allSampleCount=496, cancerType=None, cancerTypeId='thpa', citation='TCGA, Cell 2014', cnaSampleCount=None, completeSampleCount=None, description='Exome and whole genome sequencing of 496 papillary thyroid carcinoma tumor/normal pairs', groups='PUBLIC', importDate='2023-12-11 10:14:51', massSpectrometrySampleCount=None, methylationHm27SampleCount=None, miRnaSampleCount=None, mrnaMicroarraySampleCount=None, mrnaRnaSeqSampleCount=None, mrnaRnaSeqV2SampleCount=None, name='Papillary Thyroid Carcinoma (TCGA, Cell 2014)', pmid='25417114', publicStudy=True, readPermission=True, referenceGenome='hg19', rppaSampleCount=None, sequencedSampleCount=None, status=0, studyId='thca_tcga_pub', treatmentCount=None),\n",
       " CancerStudy(allSampleCount=559, cancerType=None, cancerTypeId='egc', citation='TCGA, Nature 2017', cnaSampleCount=None, completeSampleCount=None, description='Whole exome sequencing of 559 esophageal and gastric carcinoma tumors with matched normals.', groups='', importDate='2023-12-11 10:16:32', massSpectrometrySampleCount=None, methylationHm27SampleCount=None, miRnaSampleCount=None, mrnaMicroarraySampleCount=None, mrnaRnaSeqSampleCount=None, mrnaRnaSeqV2SampleCount=None, name='Esophageal Carcinoma (TCGA, Nature 2017)', pmid='28052061', publicStudy=True, readPermission=True, referenceGenome='hg19', rppaSampleCount=None, sequencedSampleCount=None, status=0, studyId='stes_tcga_pub', treatmentCount=None),\n",
       " CancerStudy(allSampleCount=66, cancerType=None, cancerTypeId='skcm', citation='Catalanotti et al. JCO Precis Oncol 2017', cnaSampleCount=None, completeSampleCount=None, description='Targeted sequencing of pre-treatment 66 Melanoma tumor samples. <a href=\"https://ascopubs.org/doi/full/10.1200/PO.16.00054\">PubMed</a>', groups='', importDate='2023-12-11 10:25:49', massSpectrometrySampleCount=None, methylationHm27SampleCount=None, miRnaSampleCount=None, mrnaMicroarraySampleCount=None, mrnaRnaSeqSampleCount=None, mrnaRnaSeqV2SampleCount=None, name='Metastatic Melanoma (MSK, JCO Precis Oncol 2017)', pmid='32913971', publicStudy=True, readPermission=True, referenceGenome='hg19', rppaSampleCount=None, sequencedSampleCount=None, status=0, studyId='skcm_vanderbilt_mskcc_2015', treatmentCount=None),\n",
       " CancerStudy(allSampleCount=504, cancerType=None, cancerTypeId='prad', citation='Abida et al. JCO Precis Oncol 2017', cnaSampleCount=None, completeSampleCount=None, description='IMPACT sequencing of 504 prostate cancer tumor/normal pairs.', groups='PUBLIC', importDate='2023-12-11 10:26:19', massSpectrometrySampleCount=None, methylationHm27SampleCount=None, miRnaSampleCount=None, mrnaMicroarraySampleCount=None, mrnaRnaSeqSampleCount=None, mrnaRnaSeqV2SampleCount=None, name='Prostate Cancer (MSK, JCO Precis Oncol 2017)', pmid='28825054', publicStudy=True, readPermission=True, referenceGenome='hg19', rppaSampleCount=None, sequencedSampleCount=None, status=0, studyId='prad_mskcc_2017', treatmentCount=None),\n",
       " CancerStudy(allSampleCount=65, cancerType=None, cancerTypeId='prad', citation='Shancheng et al. Eur Urol 2017', cnaSampleCount=None, completeSampleCount=None, description='Whole-genome and transcriptome sequencing of 65 Prostate Adenocarcinoma  tumor/normal pairs.', groups='', importDate='2023-12-11 10:26:54', massSpectrometrySampleCount=None, methylationHm27SampleCount=None, miRnaSampleCount=None, mrnaMicroarraySampleCount=None, mrnaRnaSeqSampleCount=None, mrnaRnaSeqV2SampleCount=None, name='Prostate Adenocarcinoma (SMMU, Eur Urol 2017)', pmid='28927585', publicStudy=True, readPermission=True, referenceGenome='hg19', rppaSampleCount=None, sequencedSampleCount=None, status=0, studyId='prad_eururol_2017', treatmentCount=None),\n",
       " CancerStudy(allSampleCount=141, cancerType=None, cancerTypeId='mixed', citation='Hyman et al. Nature 2018', cnaSampleCount=None, completeSampleCount=None, description='MSK-IMPACT sequencing of 86 patients with HER2- and HER3-mutant cancers', groups='', importDate='2023-12-11 10:29:22', massSpectrometrySampleCount=None, methylationHm27SampleCount=None, miRnaSampleCount=None, mrnaMicroarraySampleCount=None, mrnaRnaSeqSampleCount=None, mrnaRnaSeqV2SampleCount=None, name='SUMMIT - Neratinib Basket Study (Multi-Institute, Nature 2018)', pmid='29420467', publicStudy=True, readPermission=True, referenceGenome='hg19', rppaSampleCount=None, sequencedSampleCount=None, status=0, studyId='summit_2018', treatmentCount=None),\n",
       " CancerStudy(allSampleCount=1013, cancerType=None, cancerTypeId='prad', citation='Armenia et al. Nat Genet 2018', cnaSampleCount=None, completeSampleCount=None, description='Whole exome Sequencing of 1013 prostate cancer samples and their matched normals.', groups='', importDate='2023-12-11 10:29:54', massSpectrometrySampleCount=None, methylationHm27SampleCount=None, miRnaSampleCount=None, mrnaMicroarraySampleCount=None, mrnaRnaSeqSampleCount=None, mrnaRnaSeqV2SampleCount=None, name='Prostate Adenocarcinoma (MSK/DFCI, Nature Genetics 2018)', pmid='29610475', publicStudy=True, readPermission=True, referenceGenome='hg19', rppaSampleCount=None, sequencedSampleCount=None, status=0, studyId='prad_p1000', treatmentCount=None),\n",
       " CancerStudy(allSampleCount=1661, cancerType=None, cancerTypeId='mixed', citation='Samstein et al. Nat Genet 2019', cnaSampleCount=None, completeSampleCount=None, description='Genomic and survival data from 1661 tumor-normal pairs from 1661 patients with various cancer types sequenced with the MSK-IMPACT assay.', groups='', importDate='2023-12-11 10:41:14', massSpectrometrySampleCount=None, methylationHm27SampleCount=None, miRnaSampleCount=None, mrnaMicroarraySampleCount=None, mrnaRnaSeqSampleCount=None, mrnaRnaSeqV2SampleCount=None, name='TMB and Immunotherapy (MSK, Nat Genet 2019)', pmid='30643254', publicStudy=True, readPermission=True, referenceGenome='hg19', rppaSampleCount=None, sequencedSampleCount=None, status=0, studyId='tmb_mskcc_2018', treatmentCount=None),\n",
       " CancerStudy(allSampleCount=444, cancerType=None, cancerTypeId='prad', citation='Abida et al. PNAS 2019', cnaSampleCount=None, completeSampleCount=None, description='Whole exome sequencing of 444 castrate resistant prostate cancer tumor/normal pairs. SU2C-PCF Dream Team: Precision Therapy for Advanced Prostate Cancer.', groups='', importDate='2023-12-11 10:41:54', massSpectrometrySampleCount=None, methylationHm27SampleCount=None, miRnaSampleCount=None, mrnaMicroarraySampleCount=None, mrnaRnaSeqSampleCount=None, mrnaRnaSeqV2SampleCount=None, name='Metastatic Prostate Adenocarcinoma (SU2C/PCF Dream Team, PNAS 2019)', pmid='31061129', publicStudy=True, readPermission=True, referenceGenome='hg19', rppaSampleCount=None, sequencedSampleCount=None, status=0, studyId='prad_su2c_2019', treatmentCount=None),\n",
       " CancerStudy(allSampleCount=18, cancerType=None, cancerTypeId='prostate', citation='Granlund et al. Cell Metab 2020', cnaSampleCount=None, completeSampleCount=None, description='MSK-IMPACT Sequencing of 18 prostate cancer tumor/normal pairs.', groups='PUBLIC', importDate='2023-12-11 10:54:56', massSpectrometrySampleCount=None, methylationHm27SampleCount=None, miRnaSampleCount=None, mrnaMicroarraySampleCount=None, mrnaRnaSeqSampleCount=None, mrnaRnaSeqV2SampleCount=None, name='Prostate Cancer (MSK, Cell Metab 2020)', pmid='31564440', publicStudy=True, readPermission=True, referenceGenome='hg19', rppaSampleCount=None, sequencedSampleCount=None, status=0, studyId='prad_msk_2019', treatmentCount=None),\n",
       " CancerStudy(allSampleCount=1465, cancerType=None, cancerTypeId='prad', citation='Nguyen et al. Eur Urol 2020', cnaSampleCount=None, completeSampleCount=None, description='Targeted sequencing of 1465 prostate adenocarcinoma tumor/normal pairs via MSK-IMPACT.', groups='', importDate='2023-12-11 10:55:27', massSpectrometrySampleCount=None, methylationHm27SampleCount=None, miRnaSampleCount=None, mrnaMicroarraySampleCount=None, mrnaRnaSeqSampleCount=None, mrnaRnaSeqV2SampleCount=None, name='Prostate Adenocarcinoma (MSK, Eur Urol 2020)', pmid='32317181', publicStudy=True, readPermission=True, referenceGenome='hg19', rppaSampleCount=None, sequencedSampleCount=None, status=0, studyId='prad_cdk12_mskcc_2020', treatmentCount=None),\n",
       " CancerStudy(allSampleCount=12, cancerType=None, cancerTypeId='stmyec', citation='Cyrta et al. 2022 Cold Spring Harb Mol Case Stud 8: a006227', cnaSampleCount=None, completeSampleCount=None, description='Whole-exome sequencing of 12 Myoepithelial Carcinomas of Soft Tissue from two patients.', groups='PUBLIC', importDate='2023-12-11 11:02:52', massSpectrometrySampleCount=None, methylationHm27SampleCount=None, miRnaSampleCount=None, mrnaMicroarraySampleCount=None, mrnaRnaSeqSampleCount=None, mrnaRnaSeqV2SampleCount=None, name='Myoepithelial Carcinomas of Soft Tissue (WCM, CSH Molecular Case Studies 2022)', pmid='36577525', publicStudy=True, readPermission=True, referenceGenome='hg19', rppaSampleCount=None, sequencedSampleCount=None, status=0, studyId='stmyec_wcm_2022', treatmentCount=None),\n",
       " CancerStudy(allSampleCount=22, cancerType=None, cancerTypeId='ucs', citation='Jones et al. Nat Commun 2014', cnaSampleCount=None, completeSampleCount=None, description='Whole exome sequencing (WXS) of 22 uterine carcinosarcoma/uterine malignant mixed Mullerian (UCS) tumors with matched normals. <A HREF=\"http://www.nature.com/ncomms/2014/140919/ncomms6006/extref/ncomms6006-s1.pdf\">', groups='PUBLIC', importDate='2023-12-11 11:29:02', massSpectrometrySampleCount=None, methylationHm27SampleCount=None, miRnaSampleCount=None, mrnaMicroarraySampleCount=None, mrnaRnaSeqSampleCount=None, mrnaRnaSeqV2SampleCount=None, name='Uterine Carcinosarcoma (Johns Hopkins, Nat Commun 2014)', pmid='25233892', publicStudy=True, readPermission=True, referenceGenome='hg19', rppaSampleCount=None, sequencedSampleCount=None, status=0, studyId='ucs_jhu_2014', treatmentCount=None),\n",
       " CancerStudy(allSampleCount=373, cancerType=None, cancerTypeId='ucec', citation='TCGA, Nature 2013', cnaSampleCount=None, completeSampleCount=None, description='Whole exome sequencing of 373 endometrial carcinoma tumors with matched normals. TCGA Uterine Corpus Endometrial Carcinoma project; raw data at the <A HREF=\"https://tcga-data.nci.nih.gov/docs/publications/ucec_2013/\">NCI</A>.', groups='PUBLIC', importDate='2023-12-11 11:29:45', massSpectrometrySampleCount=None, methylationHm27SampleCount=None, miRnaSampleCount=None, mrnaMicroarraySampleCount=None, mrnaRnaSeqSampleCount=None, mrnaRnaSeqV2SampleCount=None, name='Uterine Corpus Endometrial Carcinoma (TCGA, Nature 2013)', pmid='23636398', publicStudy=True, readPermission=True, referenceGenome='hg19', rppaSampleCount=None, sequencedSampleCount=None, status=0, studyId='ucec_tcga_pub', treatmentCount=None),\n",
       " CancerStudy(allSampleCount=28, cancerType=None, cancerTypeId='um', citation='Johansson et al. Oncotarget 2016', cnaSampleCount=None, completeSampleCount=None, description='Whole-genome or whole-exome sequencing of tumor/normal pairs from 28 uveal melanoma samples.', groups='PUBLIC', importDate='2023-12-11 11:34:01', massSpectrometrySampleCount=None, methylationHm27SampleCount=None, miRnaSampleCount=None, mrnaMicroarraySampleCount=None, mrnaRnaSeqSampleCount=None, mrnaRnaSeqV2SampleCount=None, name='Uveal Melanoma (QIMR, Oncotarget 2016)', pmid='26683228', publicStudy=True, readPermission=True, referenceGenome='hg19', rppaSampleCount=None, sequencedSampleCount=None, status=0, studyId='um_qimr_2016', treatmentCount=None),\n",
       " CancerStudy(allSampleCount=62, cancerType=None, cancerTypeId='urcc', citation='Chen et al. Nat Commun 2016', cnaSampleCount=None, completeSampleCount=None, description='Targeted sequencing of 62 high-grade primary Unclassified Renal Cell Carcinoma tumor samples with matched normals.', groups='PUBLIC', importDate='2023-12-11 11:34:33', massSpectrometrySampleCount=None, methylationHm27SampleCount=None, miRnaSampleCount=None, mrnaMicroarraySampleCount=None, mrnaRnaSeqSampleCount=None, mrnaRnaSeqV2SampleCount=None, name='Unclassified Renal Cell Carcinoma (MSK, Nature 2016)', pmid='27713405', publicStudy=True, readPermission=True, referenceGenome='hg19', rppaSampleCount=None, sequencedSampleCount=None, status=0, studyId='urcc_mskcc_2016', treatmentCount=None),\n",
       " CancerStudy(allSampleCount=85, cancerType=None, cancerTypeId='utuc', citation='Sfakianos et al. Eur Urol 2015', cnaSampleCount=None, completeSampleCount=None, description='Next-generation sequencing (MSK-IMPACT) on all protein-coding exons of 300 cancer associated genes of 85 Upper Tract Urothelial Carcinoma tumor samples and paired normals.', groups='PUBLIC', importDate='2023-12-11 11:35:05', massSpectrometrySampleCount=None, methylationHm27SampleCount=None, miRnaSampleCount=None, mrnaMicroarraySampleCount=None, mrnaRnaSeqSampleCount=None, mrnaRnaSeqV2SampleCount=None, name='Upper Tract Urothelial Cancer (MSK, Eur Urol 2015)', pmid='26278805', publicStudy=True, readPermission=True, referenceGenome='hg19', rppaSampleCount=None, sequencedSampleCount=None, status=0, studyId='utuc_mskcc_2015', treatmentCount=None),\n",
       " CancerStudy(allSampleCount=657, cancerType=None, cancerTypeId='wt', citation=None, cnaSampleCount=None, completeSampleCount=None, description='Whole-exome sequencing of 657 Wilms\\' tumor samples. Comprehensive profiling of 657 Wilms\\' Tumor samples. <p>TARGET data is intended exclusively for biomedical research using pediatric data (i.e., the research objectives cannot be accomplished using data from adults) that focus on the development of more effective treatments, diagnostic tests, or prognostic markers for childhood cancers. Moreover, TARGET data can be used for research relevant to the biology, causes, treatment and late complications of treatment of pediatric cancers, but is not intended for the sole purposes of methods and/or tool development (please see <a href=\"https://ocg.cancer.gov/programs/target/using-target-data\">Using TARGET Data</a> section of the OCG website). If you are interested in using TARGET data for publication or other research purposes, you must follow the <a href=\"https://ocg.cancer.gov/programs/target/target-publication-guidelines\">TARGET Publication Guidelines</a>.</p>', groups='NCI-TARGET;PUBLIC', importDate='2023-12-11 11:35:37', massSpectrometrySampleCount=None, methylationHm27SampleCount=None, miRnaSampleCount=None, mrnaMicroarraySampleCount=None, mrnaRnaSeqSampleCount=None, mrnaRnaSeqV2SampleCount=None, name=\"Pediatric Wilms' Tumor (TARGET, 2018)\", pmid=None, publicStudy=True, readPermission=True, referenceGenome='hg19', rppaSampleCount=None, sequencedSampleCount=None, status=0, studyId='wt_target_2018_pub', treatmentCount=None),\n",
       " CancerStudy(allSampleCount=197, cancerType=None, cancerTypeId='ucec', citation='Soumerai et al. Clin Cancer Res. 2018', cnaSampleCount=None, completeSampleCount=None, description='MSK-IMPACT sequencing of 197 advanced-staged endometrial cancer tumor samples with matched normals, from 189 patients treated at MSK.', groups='PUBLIC', importDate='2023-12-11 11:37:21', massSpectrometrySampleCount=None, methylationHm27SampleCount=None, miRnaSampleCount=None, mrnaMicroarraySampleCount=None, mrnaRnaSeqSampleCount=None, mrnaRnaSeqV2SampleCount=None, name='Endometrial Cancer (MSK, 2018)', pmid='30068706', publicStudy=True, readPermission=True, referenceGenome='hg19', rppaSampleCount=None, sequencedSampleCount=None, status=0, studyId='ucec_msk_2018', treatmentCount=None),\n",
       " CancerStudy(allSampleCount=16, cancerType=None, cancerTypeId='uccc', citation='Le Gallo et al. Cancer 2017', cnaSampleCount=None, completeSampleCount=None, description='Whole exome sequencing of paired tumor-normal DNAs from 16 cases of clear cell endometrial tumors.', groups='PUBLIC', importDate='2023-12-11 11:37:55', massSpectrometrySampleCount=None, methylationHm27SampleCount=None, miRnaSampleCount=None, mrnaMicroarraySampleCount=None, mrnaRnaSeqSampleCount=None, mrnaRnaSeqV2SampleCount=None, name='Uterine Clear Cell Carcinoma (NIH, Cancer 2017)', pmid='28485815', publicStudy=True, readPermission=True, referenceGenome='hg19', rppaSampleCount=None, sequencedSampleCount=None, status=0, studyId='uccc_nih_2017', treatmentCount=None),\n",
       " CancerStudy(allSampleCount=15, cancerType=None, cancerTypeId='vsc', citation='Han et al. Exp Mol Med 2018', cnaSampleCount=None, completeSampleCount=None, description='Whole exome sequencing of tumor/normal pairs from 15 vulvar squamous cell carcinomas.', groups='PUBLIC', importDate='2023-12-11 11:38:27', massSpectrometrySampleCount=None, methylationHm27SampleCount=None, miRnaSampleCount=None, mrnaMicroarraySampleCount=None, mrnaRnaSeqSampleCount=None, mrnaRnaSeqV2SampleCount=None, name='Squamous Cell Carcinoma of the Vulva (CUK, Exp Mol Med 2018)', pmid='29422544', publicStudy=True, readPermission=True, referenceGenome='hg19', rppaSampleCount=None, sequencedSampleCount=None, status=0, studyId='vsc_cuk_2018', treatmentCount=None),\n",
       " CancerStudy(allSampleCount=47, cancerType=None, cancerTypeId='utuc', citation='Robinson et al. Nat Commun 2019', cnaSampleCount=None, completeSampleCount=None, description='Whole exome sequencing (37 samples) and RNA-seq analysis (32 samples) of 47 upper tract urothelial carcinoma patients.', groups='PUBLIC', importDate='2023-12-11 11:39:00', massSpectrometrySampleCount=None, methylationHm27SampleCount=None, miRnaSampleCount=None, mrnaMicroarraySampleCount=None, mrnaRnaSeqSampleCount=None, mrnaRnaSeqV2SampleCount=None, name='Upper Tract Urothelial Carcinoma (Cornell/Baylor/MDACC, Nat Commun 2019)', pmid='31278255', publicStudy=True, readPermission=True, referenceGenome='hg19', rppaSampleCount=None, sequencedSampleCount=None, status=0, studyId='utuc_cornell_baylor_mdacc_2019', treatmentCount=None),\n",
       " CancerStudy(allSampleCount=119, cancerType=None, cancerTypeId='utuc', citation='Kwanghee et al. Nat Commun 2020', cnaSampleCount=None, completeSampleCount=None, description='Targeted Sequencing of 119 upper tract urothelial carcinoma tumor/normal pairs.', groups='PUBLIC', importDate='2023-12-11 11:39:36', massSpectrometrySampleCount=None, methylationHm27SampleCount=None, miRnaSampleCount=None, mrnaMicroarraySampleCount=None, mrnaRnaSeqSampleCount=None, mrnaRnaSeqV2SampleCount=None, name='Upper Tract Urothelial Carcinoma (MSK, Nat Commun 2020)', pmid='32332851', publicStudy=True, readPermission=True, referenceGenome='hg19', rppaSampleCount=None, sequencedSampleCount=None, status=0, studyId='utuc_msk_2019', treatmentCount=None),\n",
       " CancerStudy(allSampleCount=78, cancerType=None, cancerTypeId='utuc', citation='Kwanghee et al. Nat Commun 2020', cnaSampleCount=None, completeSampleCount=None, description='MSK-IMPACT sequencing of 34 upper tract urothelial patients and the matching PDX or PDC generated from 17 patient tumors.', groups='', importDate='2023-12-11 11:40:09', massSpectrometrySampleCount=None, methylationHm27SampleCount=None, miRnaSampleCount=None, mrnaMicroarraySampleCount=None, mrnaRnaSeqSampleCount=None, mrnaRnaSeqV2SampleCount=None, name='Upper Tract Urothelial Carcinoma PDX (MSK, Nat Commun 2020)', pmid='32332851', publicStudy=True, readPermission=True, referenceGenome='hg19', rppaSampleCount=None, sequencedSampleCount=None, status=0, studyId='utuc_pdx_msk_2019', treatmentCount=None),\n",
       " CancerStudy(allSampleCount=108, cancerType=None, cancerTypeId='usarc', citation='Hensley et al. Clin Cancer Res 2020', cnaSampleCount=None, completeSampleCount=None, description='Targeted Sequencing of 108 Uterine Sarcoma/Mesenchymal tumor/normal pairs from 107 patients.', groups='DONOGHUM;CHAVANS;PUBLIC', importDate='2023-12-11 11:40:43', massSpectrometrySampleCount=None, methylationHm27SampleCount=None, miRnaSampleCount=None, mrnaMicroarraySampleCount=None, mrnaRnaSeqSampleCount=None, mrnaRnaSeqV2SampleCount=None, name='Uterine Sarcoma/Mesenchymal (MSK, Clin Cancer Res 2020)', pmid='32299819', publicStudy=True, readPermission=True, referenceGenome='hg19', rppaSampleCount=None, sequencedSampleCount=None, status=0, studyId='usarc_msk_2020', treatmentCount=None),\n",
       " CancerStudy(allSampleCount=30, cancerType=None, cancerTypeId='utuc', citation='Xiaoping et al. Genome Biology 2021', cnaSampleCount=None, completeSampleCount=None, description='Whole-exome sequencing of 30 upper-tract urothelial carcinoma patients and their matched normals.', groups='PUBLIC', importDate='2023-12-11 11:41:15', massSpectrometrySampleCount=None, methylationHm27SampleCount=None, miRnaSampleCount=None, mrnaMicroarraySampleCount=None, mrnaRnaSeqSampleCount=None, mrnaRnaSeqV2SampleCount=None, name='Upper Tract Urothelial Carcinoma (IGBMC, Genome Biology 2021)', pmid='33397444', publicStudy=True, readPermission=True, referenceGenome='hg19', rppaSampleCount=None, sequencedSampleCount=None, status=0, studyId='utuc_igbmc_2021', treatmentCount=None),\n",
       " CancerStudy(allSampleCount=81, cancerType=None, cancerTypeId='ucec', citation='Yongchao Dou et al. 2020 Cell.', cnaSampleCount=None, completeSampleCount=None, description='Proteogenomic Characterization of Endometrial Carcinoma. Generated by CPTAC.', groups='PUBLIC', importDate='2023-12-11 11:41:50', massSpectrometrySampleCount=None, methylationHm27SampleCount=None, miRnaSampleCount=None, mrnaMicroarraySampleCount=None, mrnaRnaSeqSampleCount=None, mrnaRnaSeqV2SampleCount=None, name='Endometrial Carcinoma (CPTAC, Cell 2020)', pmid='32059776', publicStudy=True, readPermission=True, referenceGenome='hg19', rppaSampleCount=None, sequencedSampleCount=None, status=0, studyId='ucec_cptac_2020', treatmentCount=None),\n",
       " CancerStudy(allSampleCount=181, cancerType=None, cancerTypeId='ucec', citation=None, cnaSampleCount=None, completeSampleCount=None, description='Clinical and genetic features of microsatellite instability-high endometrial cancers harboring germline or somatic mutations in MMR genes or MLH1 promoter hypermethylation.', groups='', importDate='2023-12-11 11:43:25', massSpectrometrySampleCount=None, methylationHm27SampleCount=None, miRnaSampleCount=None, mrnaMicroarraySampleCount=None, mrnaRnaSeqSampleCount=None, mrnaRnaSeqV2SampleCount=None, name='Endometrial Carcinoma MSI (MSK, Clin Cancer Res 2022)', pmid='35849120', publicStudy=True, readPermission=True, referenceGenome='hg19', rppaSampleCount=None, sequencedSampleCount=None, status=0, studyId='ucec_ccr_msk_2022', treatmentCount=None),\n",
       " CancerStudy(allSampleCount=65, cancerType=None, cancerTypeId='brca', citation='Shah et al. Nature', cnaSampleCount=None, completeSampleCount=None, description='Whole genome/exome sequencing analysis of 65 breast cancer samples', groups='PUBLIC', importDate='2023-12-11 13:31:05', massSpectrometrySampleCount=None, methylationHm27SampleCount=None, miRnaSampleCount=None, mrnaMicroarraySampleCount=None, mrnaRnaSeqSampleCount=None, mrnaRnaSeqV2SampleCount=None, name='Breast Invasive Carcinoma (British Columbia, Nature 2012)', pmid='22495314', publicStudy=True, readPermission=True, referenceGenome='hg19', rppaSampleCount=None, sequencedSampleCount=None, status=0, studyId='brca_bccrc', treatmentCount=None),\n",
       " CancerStudy(allSampleCount=248, cancerType=None, cancerTypeId='mixed', citation='Razavi et al. Nature Medicine 2019', cnaSampleCount=None, completeSampleCount=None, description=\"Targeted sequencing of 248 samples from 124 patients' cfDNA/WBC and tumor/normal pairs.\", groups='', importDate='2023-12-11 13:31:43', massSpectrometrySampleCount=None, methylationHm27SampleCount=None, miRnaSampleCount=None, mrnaMicroarraySampleCount=None, mrnaRnaSeqSampleCount=None, mrnaRnaSeqV2SampleCount=None, name='Mixed cfDNA (MSK, Nature Medicine 2019)', pmid='31768066', publicStudy=True, readPermission=True, referenceGenome='hg19', rppaSampleCount=None, sequencedSampleCount=None, status=0, studyId='cfdna_msk_2019', treatmentCount=None),\n",
       " CancerStudy(allSampleCount=25, cancerType=None, cancerTypeId='breast', citation=None, cnaSampleCount=None, completeSampleCount=None, description='Targeted Sequencing of breast Invasive Lobular Carcinoma tumors and their matched normals via MSK-IMPACT.', groups='', importDate='2023-12-11 16:10:48', massSpectrometrySampleCount=None, methylationHm27SampleCount=None, miRnaSampleCount=None, mrnaMicroarraySampleCount=None, mrnaRnaSeqSampleCount=None, mrnaRnaSeqV2SampleCount=None, name='Non-CDH1 Invasive Lobular Carcinoma (MSK, 2023)', pmid=None, publicStudy=True, readPermission=True, referenceGenome='hg19', rppaSampleCount=None, sequencedSampleCount=None, status=0, studyId='ilc_msk_2023', treatmentCount=None),\n",
       " CancerStudy(allSampleCount=130, cancerType=None, cancerTypeId='bladder', citation='Lee, Suk Hyung et al. Cell 2018', cnaSampleCount=None, completeSampleCount=None, description='Targeted sequencing of 130 bladder cancer tumors, organoids and xenografts and their matched normals via MSK-IMPACT.', groups='', importDate='2023-12-11 16:31:13', massSpectrometrySampleCount=None, methylationHm27SampleCount=None, miRnaSampleCount=None, mrnaMicroarraySampleCount=None, mrnaRnaSeqSampleCount=None, mrnaRnaSeqV2SampleCount=None, name='Bladder Cancer (Columbia University/MSK, Cell 2018)', pmid='29625057', publicStudy=True, readPermission=True, referenceGenome='hg19', rppaSampleCount=None, sequencedSampleCount=None, status=0, studyId='bladder_columbia_msk_2018', treatmentCount=None),\n",
       " CancerStudy(allSampleCount=348, cancerType=None, cancerTypeId='coad', citation='Roelands et al, Nat Med 2023', cnaSampleCount=None, completeSampleCount=None, description='Whole exome and transcriptome sequencing of 348 Colon Cancers and their matched normals from Sidra-LUMC AC-ICAM.', groups='', importDate='2023-12-11 16:31:50', massSpectrometrySampleCount=None, methylationHm27SampleCount=None, miRnaSampleCount=None, mrnaMicroarraySampleCount=None, mrnaRnaSeqSampleCount=None, mrnaRnaSeqV2SampleCount=None, name='Colon Cancer (Sidra-LUMC AC-ICAM, Nat Med 2023)', pmid='37202560', publicStudy=True, readPermission=True, referenceGenome='hg19', rppaSampleCount=None, sequencedSampleCount=None, status=0, studyId='coad_silu_2022', treatmentCount=None),\n",
       " CancerStudy(allSampleCount=476, cancerType=None, cancerTypeId='blca', citation='Pietzak et al. Eur Urol 2019', cnaSampleCount=None, completeSampleCount=None, description='Whole-exome or targeted sequencing of 476 muscle-invasive bladder tumor/normal pairs via TCGA or MSK-IMPACT sequencing.', groups='', importDate='2023-12-13 14:56:08', massSpectrometrySampleCount=None, methylationHm27SampleCount=None, miRnaSampleCount=None, mrnaMicroarraySampleCount=None, mrnaRnaSeqSampleCount=None, mrnaRnaSeqV2SampleCount=None, name='Bladder Cancer (MSK/TCGA, 2020)', pmid='30290956', publicStudy=True, readPermission=True, referenceGenome='hg19', rppaSampleCount=None, sequencedSampleCount=None, status=0, studyId='blca_msk_tcga_2020', treatmentCount=None),\n",
       " CancerStudy(allSampleCount=184, cancerType=None, cancerTypeId='mixed', citation='Seyram A et al. Clin Cancer Res 2023', cnaSampleCount=None, completeSampleCount=None, description='Targeted sequencing of 167 patients with Histiocytosis and Germ Cell Tumors using MSK-IMPACT assay.', groups='', importDate='2023-12-29 15:59:47', massSpectrometrySampleCount=None, methylationHm27SampleCount=None, miRnaSampleCount=None, mrnaMicroarraySampleCount=None, mrnaRnaSeqSampleCount=None, mrnaRnaSeqV2SampleCount=None, name='MSK Make-an-IMPACT Rare Cancers (MSK, Clin Cancer Res 2023)', pmid='36862133', publicStudy=True, readPermission=True, referenceGenome='hg19', rppaSampleCount=None, sequencedSampleCount=None, status=0, studyId='makeanimpact_ccr_2023', treatmentCount=None),\n",
       " CancerStudy(allSampleCount=24, cancerType=None, cancerTypeId='rms', citation='de Wardin et al. JCO Precis Oncol 2023', cnaSampleCount=None, completeSampleCount=None, description='Targeted sequencing of 24 cases with extremity rhabdomyosarcoma tumors and their matched normals (MSK Cohort) via MSK-IMPACT.', groups='', importDate='2023-12-29 16:08:26', massSpectrometrySampleCount=None, methylationHm27SampleCount=None, miRnaSampleCount=None, mrnaMicroarraySampleCount=None, mrnaRnaSeqSampleCount=None, mrnaRnaSeqV2SampleCount=None, name='Pediatric Rhabdomyosarcomas (MSK, JCO Precis Oncol 2023)', pmid='37315267', publicStudy=True, readPermission=True, referenceGenome='hg19', rppaSampleCount=None, sequencedSampleCount=None, status=0, studyId='rms_msk_2023', treatmentCount=None),\n",
       " CancerStudy(allSampleCount=42, cancerType=None, cancerTypeId='rms', citation='Wardin et at. NPJ Precis Oncol 2023', cnaSampleCount=None, completeSampleCount=None, description='Sequential targeted sequencing on 20 rhabdomyosarcoma tumors and their matched normals from the MSK cohort using MSK-IMPACT.', groups='', importDate='2023-12-29 16:12:29', massSpectrometrySampleCount=None, methylationHm27SampleCount=None, miRnaSampleCount=None, mrnaMicroarraySampleCount=None, mrnaRnaSeqSampleCount=None, mrnaRnaSeqV2SampleCount=None, name='Rhabdomyosarcomas (MSK, NPJ Precis Oncol 2023)', pmid='37730754', publicStudy=True, readPermission=True, referenceGenome='hg19', rppaSampleCount=None, sequencedSampleCount=None, status=0, studyId='soft_tissue_msk_2023', treatmentCount=None),\n",
       " CancerStudy(allSampleCount=82, cancerType=None, cancerTypeId='mixed', citation='Josephine K et al. J Pathol 2023', cnaSampleCount=None, completeSampleCount=None, description='Targeted sequencing of 82 radiation-associated sarcomas and their matched normals via MSK-IMPACT.', groups='', importDate='2023-12-29 16:16:36', massSpectrometrySampleCount=None, methylationHm27SampleCount=None, miRnaSampleCount=None, mrnaMicroarraySampleCount=None, mrnaRnaSeqSampleCount=None, mrnaRnaSeqV2SampleCount=None, name='Sarcoma (MSK, J Pathol 2023)', pmid='37350195', publicStudy=True, readPermission=True, referenceGenome='hg19', rppaSampleCount=None, sequencedSampleCount=None, status=0, studyId='sarcoma_msk_2023', treatmentCount=None),\n",
       " CancerStudy(allSampleCount=64, cancerType=None, cancerTypeId='egc', citation='Steven B et al. Clin Cancer Res 2023', cnaSampleCount=None, completeSampleCount=None, description='Whole exome sequencing of 64 esophagogastric cancers and their matched normal samples.', groups='', importDate='2023-12-29 16:20:47', massSpectrometrySampleCount=None, methylationHm27SampleCount=None, miRnaSampleCount=None, mrnaMicroarraySampleCount=None, mrnaRnaSeqSampleCount=None, mrnaRnaSeqV2SampleCount=None, name='Esophagogastric Cancer (MSK, Clin Cancer Res 2023)', pmid='37406106', publicStudy=True, readPermission=True, referenceGenome='hg19', rppaSampleCount=None, sequencedSampleCount=None, status=0, studyId='egc_trap_ccr_msk_2023', treatmentCount=None),\n",
       " CancerStudy(allSampleCount=90, cancerType=None, cancerTypeId='hcc', citation='Darren et al. JCO Precis Oncol 2023', cnaSampleCount=None, completeSampleCount=None, description='Targeted sequencing of 51 hepatocellular carcinoma patients and their matched normal samples via MSK-IMPACT.', groups='', importDate='2023-12-29 16:25:46', massSpectrometrySampleCount=None, methylationHm27SampleCount=None, miRnaSampleCount=None, mrnaMicroarraySampleCount=None, mrnaRnaSeqSampleCount=None, mrnaRnaSeqV2SampleCount=None, name='Hepatocellular Carcinoma (MSK, JCO Precis Oncol 2023)', pmid='37769223', publicStudy=True, readPermission=True, referenceGenome='hg19', rppaSampleCount=None, sequencedSampleCount=None, status=0, studyId='hcc_jcopo_msk_2023', treatmentCount=None),\n",
       " CancerStudy(allSampleCount=1882, cancerType=None, cancerTypeId='ucec', citation='Weigelt et al. Cancer Discovery 2023', cnaSampleCount=None, completeSampleCount=None, description='Targeted sequencing of 1882 endometrial cancers and their matched normals via MSK-IMPACT.', groups='', importDate='2023-12-29 16:29:58', massSpectrometrySampleCount=None, methylationHm27SampleCount=None, miRnaSampleCount=None, mrnaMicroarraySampleCount=None, mrnaRnaSeqSampleCount=None, mrnaRnaSeqV2SampleCount=None, name='Endometrial Cancer (MSK, Cancer Discovery 2023)', pmid='37651310', publicStudy=True, readPermission=True, referenceGenome='hg19', rppaSampleCount=None, sequencedSampleCount=None, status=0, studyId='ucec_ancestry_cds_msk_2023', treatmentCount=None),\n",
       " CancerStudy(allSampleCount=290, cancerType=None, cancerTypeId='es', citation=None, cnaSampleCount=None, completeSampleCount=None, description='Targeted Sequencing of 290 Ewing sarcoma tumor/normal pairs via MSK-IMPACT platform.', groups='PUBLIC', importDate='2023-12-29 16:34:28', massSpectrometrySampleCount=None, methylationHm27SampleCount=None, miRnaSampleCount=None, mrnaMicroarraySampleCount=None, mrnaRnaSeqSampleCount=None, mrnaRnaSeqV2SampleCount=None, name='Ewing Sarcoma (MSK, 2023)', pmid=None, publicStudy=True, readPermission=True, referenceGenome='hg19', rppaSampleCount=None, sequencedSampleCount=None, status=0, studyId='es_dsrct_msk_2023', treatmentCount=None),\n",
       " CancerStudy(allSampleCount=526, cancerType=None, cancerTypeId='bladder', citation='Guercio et al. Clin Cancer Res. 2023', cnaSampleCount=None, completeSampleCount=None, description='Targeted sequencing of 526 bladder tumors and their matched normals via MSK-IMPACT.', groups='', importDate='2023-12-29 16:40:18', massSpectrometrySampleCount=None, methylationHm27SampleCount=None, miRnaSampleCount=None, mrnaMicroarraySampleCount=None, mrnaRnaSeqSampleCount=None, mrnaRnaSeqV2SampleCount=None, name='Bladder Cancer (MSK, Clin Cancer Res 2023)', pmid='37682528', publicStudy=True, readPermission=True, referenceGenome='hg19', rppaSampleCount=None, sequencedSampleCount=None, status=0, studyId='bladder_msk_2023', treatmentCount=None),\n",
       " CancerStudy(allSampleCount=322, cancerType=None, cancerTypeId='nsclc', citation='Anna et al. Nat Commun 2023', cnaSampleCount=None, completeSampleCount=None, description='Targeted sequencing of 322 NSCLC brain metastasis and their matched normals via MSK-IMPACT.', groups='', importDate='2023-12-29 16:44:32', massSpectrometrySampleCount=None, methylationHm27SampleCount=None, miRnaSampleCount=None, mrnaMicroarraySampleCount=None, mrnaRnaSeqSampleCount=None, mrnaRnaSeqV2SampleCount=None, name='Non-Small Cell Lung Cancer Brain Metastasis (MSK, Nat Commun 2023)', pmid='37591896', publicStudy=True, readPermission=True, referenceGenome='hg19', rppaSampleCount=None, sequencedSampleCount=None, status=0, studyId='bm_nsclc_mskcc_2023', treatmentCount=None),\n",
       " CancerStudy(allSampleCount=177, cancerType=None, cancerTypeId='cervix', citation='Friedman et al. Clin Cancer Res 2023', cnaSampleCount=None, completeSampleCount=None, description='Targeted sequencing of 177 cervical tumors and their matched normal samples via MSK-IMPACT.', groups='', importDate='2023-12-29 16:48:43', massSpectrometrySampleCount=None, methylationHm27SampleCount=None, miRnaSampleCount=None, mrnaMicroarraySampleCount=None, mrnaRnaSeqSampleCount=None, mrnaRnaSeqV2SampleCount=None, name='Cervical Cancer (MSK, Clin Cancer Res 2023)', pmid='37643132', publicStudy=True, readPermission=True, referenceGenome='hg19', rppaSampleCount=None, sequencedSampleCount=None, status=0, studyId='cervix_msk_2023', treatmentCount=None),\n",
       " CancerStudy(allSampleCount=92, cancerType=None, cancerTypeId='acc', citation=None, cnaSampleCount=None, completeSampleCount=None, description='TCGA Adrenocortical Carcinoma. Source data from <A HREF=\"http://gdac.broadinstitute.org/runs/stddata__2016_01_28/data/ACC/20160128/\">GDAC Firehose</A>. Previously known as TCGA Provisional.', groups='PUBLIC', importDate='2024-01-19 09:11:57', massSpectrometrySampleCount=None, methylationHm27SampleCount=None, miRnaSampleCount=None, mrnaMicroarraySampleCount=None, mrnaRnaSeqSampleCount=None, mrnaRnaSeqV2SampleCount=None, name='Adrenocortical Carcinoma (TCGA, Firehose Legacy)', pmid=None, publicStudy=True, readPermission=True, referenceGenome='hg19', rppaSampleCount=None, sequencedSampleCount=None, status=0, studyId='acc_tcga', treatmentCount=None),\n",
       " CancerStudy(allSampleCount=413, cancerType=None, cancerTypeId='blca', citation=None, cnaSampleCount=None, completeSampleCount=None, description='TCGA Bladder Urothelial Carcinoma. Source data from <A HREF=\"http://gdac.broadinstitute.org/runs/stddata__2016_01_28/data/BLCA/20160128/\">GDAC Firehose</A>. Previously known as TCGA Provisional.', groups='PUBLIC', importDate='2024-01-19 09:29:58', massSpectrometrySampleCount=None, methylationHm27SampleCount=None, miRnaSampleCount=None, mrnaMicroarraySampleCount=None, mrnaRnaSeqSampleCount=None, mrnaRnaSeqV2SampleCount=None, name='Bladder Urothelial Carcinoma (TCGA, Firehose Legacy)', pmid=None, publicStudy=True, readPermission=True, referenceGenome='hg19', rppaSampleCount=None, sequencedSampleCount=None, status=0, studyId='blca_tcga', treatmentCount=None),\n",
       " CancerStudy(allSampleCount=117, cancerType=None, cancerTypeId='brca', citation='Eirew et al. Nature 2015', cnaSampleCount=None, completeSampleCount=None, description='Whole genome/targeted sequencing to evaluate the clonal dynamics in 116 breast cancer patient xenografts.', groups='PUBLIC', importDate='2024-01-19 09:55:04', massSpectrometrySampleCount=None, methylationHm27SampleCount=None, miRnaSampleCount=None, mrnaMicroarraySampleCount=None, mrnaRnaSeqSampleCount=None, mrnaRnaSeqV2SampleCount=None, name='Breast Cancer Xenografts (British Columbia, Nature 2015)', pmid='25470049', publicStudy=True, readPermission=True, referenceGenome='hg19', rppaSampleCount=None, sequencedSampleCount=None, status=0, studyId='brca_bccrc_xenograft_2014', treatmentCount=None),\n",
       " CancerStudy(allSampleCount=237, cancerType=None, cancerTypeId='brca', citation=None, cnaSampleCount=None, completeSampleCount=None, description='The Metastatic Breast Cancer Project (www.mbcproject.org) is an ongoing patient-driven initiative. This dataset release is derived from 237 samples, including both primary and/or metastatic tumor specimens (FFPE) from 180 patients who developed metastatic breast cancer. 237 samples have undergone whole-exome sequencing (along with matched germline whole-exome sequencing) and 146 of those samples have also undergone RNA-sequencing. This study includes genomic data, patient-reported data (prepended as PRD), medical record data (MedR), and pathology report data (PATH). All annotations have been de-identified. As these data were generated in a research laboratory, not a clinical laboratory, they are for research purposes only and cannot be used to inform clinical decision-making. For questions about these data, including how to cite, please visit www.mbcproject.org/data-release or direct questions to data@mbcproject.org.', groups='', importDate='2024-01-19 10:11:47', massSpectrometrySampleCount=None, methylationHm27SampleCount=None, miRnaSampleCount=None, mrnaMicroarraySampleCount=None, mrnaRnaSeqSampleCount=None, mrnaRnaSeqV2SampleCount=None, name='The Metastatic Breast Cancer Project (Archived, 2020)', pmid=None, publicStudy=True, readPermission=True, referenceGenome='hg19', rppaSampleCount=None, sequencedSampleCount=None, status=0, studyId='brca_mbcproject_wagle_2017', treatmentCount=None),\n",
       " CancerStudy(allSampleCount=1978, cancerType=None, cancerTypeId='bll', citation=None, cnaSampleCount=None, completeSampleCount=None, description='Whole genome or whole exome sequencing on 298 Pediatric Acute Lymphoid Leukemia - Phase II samples. Comprehensive profiling of ALL Phase 2 samples. <p>TARGET data is intended exclusively for biomedical research using pediatric data (i.e., the research objectives cannot be accomplished using data from adults) that focus on the development of more effective treatments, diagnostic tests, or prognostic markers for childhood cancers. Moreover, TARGET data can be used for research relevant to the biology, causes, treatment and late complications of treatment of pediatric cancers, but is not intended for the sole purposes of methods and/or tool development (please see <a href=\"https://ocg.cancer.gov/programs/target/using-target-data\">Using TARGET Data</a> section of the OCG website). If you are interested in using TARGET data for publication or other research purposes, you must follow the <a href=\"https://ocg.cancer.gov/programs/target/target-publication-guidelines\">TARGET Publication Guidelines</a>.</p', groups='NCI-TARGET;PUBLIC', importDate='2024-01-19 10:35:27', massSpectrometrySampleCount=None, methylationHm27SampleCount=None, miRnaSampleCount=None, mrnaMicroarraySampleCount=None, mrnaRnaSeqSampleCount=None, mrnaRnaSeqV2SampleCount=None, name='Pediatric Acute Lymphoid Leukemia - Phase II (TARGET, 2018)', pmid=None, publicStudy=True, readPermission=True, referenceGenome='hg19', rppaSampleCount=None, sequencedSampleCount=None, status=0, studyId='all_phase2_target_2018_pub', treatmentCount=None),\n",
       " CancerStudy(allSampleCount=1025, cancerType=None, cancerTypeId='aml', citation=None, cnaSampleCount=None, completeSampleCount=None, description='Whole genome or whole exome sequencing on 333 TARGET-AML samples. Comprehensive profiling of TARGET-AML samples. <p>TARGET data is intended exclusively for biomedical research using pediatric data (i.e., the research objectives cannot be accomplished using data from adults) that focus on the development of more effective treatments, diagnostic tests, or prognostic markers for childhood cancers. Moreover, TARGET data can be used for research relevant to the biology, causes, treatment and late complications of treatment of pediatric cancers, but is not intended for the sole purposes of methods and/or tool development (please see <a href=\"https://ocg.cancer.gov/programs/target/using-target-data\">Using TARGET Data</a> section of the OCG website). If you are interested in using TARGET data for publication or other research purposes, you must follow the <a href=\"https://ocg.cancer.gov/programs/target/target-publication-guidelines\">TARGET Publication Guidelines</a>.</p>', groups='NCI-TARGET;PUBLIC', importDate='2024-01-19 10:57:48', massSpectrometrySampleCount=None, methylationHm27SampleCount=None, miRnaSampleCount=None, mrnaMicroarraySampleCount=None, mrnaRnaSeqSampleCount=None, mrnaRnaSeqV2SampleCount=None, name='Pediatric Acute Myeloid Leukemia (TARGET, 2018)', pmid=None, publicStudy=True, readPermission=True, referenceGenome='hg19', rppaSampleCount=None, sequencedSampleCount=None, status=0, studyId='aml_target_2018_pub', treatmentCount=None),\n",
       " CancerStudy(allSampleCount=413, cancerType=None, cancerTypeId='blca', citation='Robertson et al. Cell 2017', cnaSampleCount=None, completeSampleCount=None, description='Whole-exome sequencing of 412 muscle-invasive bladder tumors and matched normal samples.', groups='PUBLIC', importDate='2024-01-19 11:18:03', massSpectrometrySampleCount=None, methylationHm27SampleCount=None, miRnaSampleCount=None, mrnaMicroarraySampleCount=None, mrnaRnaSeqSampleCount=None, mrnaRnaSeqV2SampleCount=None, name='Bladder Cancer (TCGA, Cell 2017)', pmid='28988769', publicStudy=True, readPermission=True, referenceGenome='hg19', rppaSampleCount=None, sequencedSampleCount=None, status=0, studyId='blca_tcga_pub_2017', treatmentCount=None),\n",
       " CancerStudy(allSampleCount=72, cancerType=None, cancerTypeId='blca', citation='Faltas and Prandi, Nature Genetics 2016', cnaSampleCount=None, completeSampleCount=None, description='Whole-exome sequencing of 72 tumor samples (with 32 matched normals) in Urothelial Carcinoma.', groups='PUBLIC', importDate='2024-01-19 11:48:12', massSpectrometrySampleCount=None, methylationHm27SampleCount=None, miRnaSampleCount=None, mrnaMicroarraySampleCount=None, mrnaRnaSeqSampleCount=None, mrnaRnaSeqV2SampleCount=None, name='Urothelial Carcinoma (Cornell/Trento, Nat Gen 2016)', pmid='27749842', publicStudy=True, readPermission=True, referenceGenome='hg19', rppaSampleCount=None, sequencedSampleCount=None, status=0, studyId='blca_cornell_2016', treatmentCount=None),\n",
       " CancerStudy(allSampleCount=192, cancerType=None, cancerTypeId='blca', citation='Damrauer et al. Nat Commun. 2022', cnaSampleCount=None, completeSampleCount=None, description='Urothelial Cancer-GENOmic analysis to improve patient outcomes and research.', groups='', importDate='2024-01-19 12:11:05', massSpectrometrySampleCount=None, methylationHm27SampleCount=None, miRnaSampleCount=None, mrnaMicroarraySampleCount=None, mrnaRnaSeqSampleCount=None, mrnaRnaSeqV2SampleCount=None, name='Urothelial Carcinoma (BCAN/HCRN, Nat Commun 2022)', pmid='36333289', publicStudy=True, readPermission=True, referenceGenome='hg19', rppaSampleCount=None, sequencedSampleCount=None, status=0, studyId='blca_bcan_hcrn_2022', treatmentCount=None),\n",
       " CancerStudy(allSampleCount=83, cancerType=None, cancerTypeId='angs', citation=None, cnaSampleCount=None, completeSampleCount=None, description='The Angiosarcoma Project (www.ascproject.org) is an ongoing patient-driven initiative. This provisional dataset is currently derived from 83 samples, including tumor specimens (FFPE and cfDNA) from 62 angiosarcoma patients subjected to WES (along with matched germline WES). This study includes genomic data, patient-reported data (pre-pended as PRD), medical record data (MedR), and pathology report data (PATH). As these data were generated in a research laboratory, not a clinical laboratory, they are for research purposes only and cannot be used to inform clinical decision-making. For questions about these data, including how to cite, please visit www.ascproject.org/data-release or direct questions to data@ascproject.org.', groups='PUBLIC', importDate='2024-01-19 12:47:32', massSpectrometrySampleCount=None, methylationHm27SampleCount=None, miRnaSampleCount=None, mrnaMicroarraySampleCount=None, mrnaRnaSeqSampleCount=None, mrnaRnaSeqV2SampleCount=None, name='The Angiosarcoma Project (Provisional, July 2020)', pmid=None, publicStudy=True, readPermission=True, referenceGenome='hg19', rppaSampleCount=None, sequencedSampleCount=None, status=0, studyId='angs_painter_2020', treatmentCount=None),\n",
       " CancerStudy(allSampleCount=379, cancerType=None, cancerTypeId='brca', citation=None, cnaSampleCount=None, completeSampleCount=None, description='The Metastatic Breast Cancer Project (<a href=\"https://mbcproject.org/\">www.mbcproject.org</a>) is an ongoing patient-driven initiative. This dataset release is derived from 379 samples, including both primary and/or metastatic tumor specimens (FFPE) from 301 patients who developed metastatic breast cancer. 379 samples have undergone whole-exome sequencing (along with matched germline whole-exome sequencing) and 157 of those samples have also undergone RNA-sequencing. This study includes genomic data, patient-reported data (prepended as PRD), medical record data (MedR), and pathology report data (PATH). All annotations have been de-identified. As these data were generated in a research laboratory, not a clinical laboratory, they are for research purposes only and cannot be used to inform clinical decision-making. For questions about these data, including how to cite, please visit <a href=\"https://mbcproject.org/data-release\">www.mbcproject.org/data-release</a> or direct questions to data@mbcproject.org.', groups='', importDate='2024-01-19 13:10:16', massSpectrometrySampleCount=None, methylationHm27SampleCount=None, miRnaSampleCount=None, mrnaMicroarraySampleCount=None, mrnaRnaSeqSampleCount=None, mrnaRnaSeqV2SampleCount=None, name='The Metastatic Breast Cancer Project (Provisional, December 2021)', pmid=None, publicStudy=True, readPermission=True, referenceGenome='hg19', rppaSampleCount=None, sequencedSampleCount=None, status=0, studyId='brca_mbcproject_2022', treatmentCount=None),\n",
       " CancerStudy(allSampleCount=1108, cancerType=None, cancerTypeId='brca', citation=None, cnaSampleCount=None, completeSampleCount=None, description='TCGA Breast Invasive Carcinoma. Source data from <A HREF=\"http://gdac.broadinstitute.org/runs/stddata__2016_01_28/data/BRCA/20160128/\">GDAC Firehose</A>. Previously known as TCGA Provisional.', groups='PUBLIC', importDate='2024-01-20 09:23:04', massSpectrometrySampleCount=None, methylationHm27SampleCount=None, miRnaSampleCount=None, mrnaMicroarraySampleCount=None, mrnaRnaSeqSampleCount=None, mrnaRnaSeqV2SampleCount=None, name='Breast Invasive Carcinoma (TCGA, Firehose Legacy)', pmid=None, publicStudy=True, readPermission=True, referenceGenome='hg19', rppaSampleCount=None, sequencedSampleCount=None, status=0, studyId='brca_tcga', treatmentCount=None),\n",
       " CancerStudy(allSampleCount=310, cancerType=None, cancerTypeId='cesc', citation=None, cnaSampleCount=None, completeSampleCount=None, description='TCGA Cervical Squamous Cell Carcinoma and Endocervical Adenocarcinoma. Source data from <A HREF=\"http://gdac.broadinstitute.org/runs/stddata__2016_01_28/data/CESC/20160128/\">GDAC Firehose</A>. Previously known as TCGA Provisional.', groups='PUBLIC', importDate='2024-01-20 10:04:11', massSpectrometrySampleCount=None, methylationHm27SampleCount=None, miRnaSampleCount=None, mrnaMicroarraySampleCount=None, mrnaRnaSeqSampleCount=None, mrnaRnaSeqV2SampleCount=None, name='Cervical Squamous Cell Carcinoma and Endocervical Adenocarcinoma (TCGA, Firehose Legacy)', pmid=None, publicStudy=True, readPermission=True, referenceGenome='hg19', rppaSampleCount=None, sequencedSampleCount=None, status=0, studyId='cesc_tcga', treatmentCount=None),\n",
       " CancerStudy(allSampleCount=51, cancerType=None, cancerTypeId='chol', citation=None, cnaSampleCount=None, completeSampleCount=None, description='TCGA Cholangiocarcinoma. Source data from <A HREF=\"http://gdac.broadinstitute.org/runs/stddata__2016_01_28/data/CHOL/20160128/\">GDAC Firehose</A>. Previously known as TCGA Provisional.', groups='PUBLIC', importDate='2024-01-20 10:27:40', massSpectrometrySampleCount=None, methylationHm27SampleCount=None, miRnaSampleCount=None, mrnaMicroarraySampleCount=None, mrnaRnaSeqSampleCount=None, mrnaRnaSeqV2SampleCount=None, name='Cholangiocarcinoma (TCGA, Firehose Legacy)', pmid=None, publicStudy=True, readPermission=True, referenceGenome='hg19', rppaSampleCount=None, sequencedSampleCount=None, status=0, studyId='chol_tcga', treatmentCount=None),\n",
       " CancerStudy(allSampleCount=48, cancerType=None, cancerTypeId='dlbclnos', citation=None, cnaSampleCount=None, completeSampleCount=None, description='TCGA Lymphoid Neoplasm Diffuse Large B-cell Lymphoma. Source data from <A HREF=\"http://gdac.broadinstitute.org/runs/stddata__2016_01_28/data/DLBC/20160128/\">GDAC Firehose</A>. Previously known as TCGA Provisional.', groups='PUBLIC', importDate='2024-01-20 11:04:10', massSpectrometrySampleCount=None, methylationHm27SampleCount=None, miRnaSampleCount=None, mrnaMicroarraySampleCount=None, mrnaRnaSeqSampleCount=None, mrnaRnaSeqV2SampleCount=None, name='Lymphoid Neoplasm Diffuse Large B-cell Lymphoma (TCGA, Firehose Legacy)', pmid=None, publicStudy=True, readPermission=True, referenceGenome='hg19', rppaSampleCount=None, sequencedSampleCount=None, status=0, studyId='dlbc_tcga', treatmentCount=None),\n",
       " CancerStudy(allSampleCount=186, cancerType=None, cancerTypeId='esca', citation=None, cnaSampleCount=None, completeSampleCount=None, description='TCGA Esophageal Carcinoma . Source data from <A HREF=\"http://gdac.broadinstitute.org/runs/stddata__2016_01_28/data/ESCA/20160128/\">GDAC Firehose</A>. Previously known as TCGA Provisional.', groups='PUBLIC', importDate='2024-01-20 11:24:28', massSpectrometrySampleCount=None, methylationHm27SampleCount=None, miRnaSampleCount=None, mrnaMicroarraySampleCount=None, mrnaRnaSeqSampleCount=None, mrnaRnaSeqV2SampleCount=None, name='Esophageal Carcinoma (TCGA, Firehose Legacy)', pmid=None, publicStudy=True, readPermission=True, referenceGenome='hg19', rppaSampleCount=None, sequencedSampleCount=None, status=0, studyId='esca_tcga', treatmentCount=None),\n",
       " CancerStudy(allSampleCount=619, cancerType=None, cancerTypeId='gbm', citation=None, cnaSampleCount=None, completeSampleCount=None, description='TCGA Glioblastoma Multiforme. Source data from <A HREF=\"http://gdac.broadinstitute.org/runs/stddata__2016_01_28/data/GBM/20160128/\">GDAC Firehose</A>. Previously known as TCGA Provisional.', groups='PUBLIC', importDate='2024-01-20 11:53:05', massSpectrometrySampleCount=None, methylationHm27SampleCount=None, miRnaSampleCount=None, mrnaMicroarraySampleCount=None, mrnaRnaSeqSampleCount=None, mrnaRnaSeqV2SampleCount=None, name='Glioblastoma Multiforme (TCGA, Firehose Legacy)', pmid=None, publicStudy=True, readPermission=True, referenceGenome='hg19', rppaSampleCount=None, sequencedSampleCount=None, status=0, studyId='gbm_tcga', treatmentCount=None),\n",
       " CancerStudy(allSampleCount=530, cancerType=None, cancerTypeId='hnsc', citation=None, cnaSampleCount=None, completeSampleCount=None, description='TCGA Head and Neck Squamous Cell Carcinoma. Source data from <A HREF=\"http://gdac.broadinstitute.org/runs/stddata__2016_01_28/data/HNSC/20160128/\">GDAC Firehose</A>. Previously known as TCGA Provisional.', groups='PUBLIC', importDate='2024-01-20 12:15:43', massSpectrometrySampleCount=None, methylationHm27SampleCount=None, miRnaSampleCount=None, mrnaMicroarraySampleCount=None, mrnaRnaSeqSampleCount=None, mrnaRnaSeqV2SampleCount=None, name='Head and Neck Squamous Cell Carcinoma (TCGA, Firehose Legacy)', pmid=None, publicStudy=True, readPermission=True, referenceGenome='hg19', rppaSampleCount=None, sequencedSampleCount=None, status=0, studyId='hnsc_tcga', treatmentCount=None),\n",
       " CancerStudy(allSampleCount=818, cancerType=None, cancerTypeId='brca', citation='TCGA, Cell 2015', cnaSampleCount=None, completeSampleCount=None, description='Whole-exome sequencing of 817 Breast Invasive Carcinoma tumor/normal pairs. The Cancer Genome Atlas (TCGA) Breast Invasive Carcinoma Project.', groups='PUBLIC', importDate='2024-01-20 12:47:51', massSpectrometrySampleCount=None, methylationHm27SampleCount=None, miRnaSampleCount=None, mrnaMicroarraySampleCount=None, mrnaRnaSeqSampleCount=None, mrnaRnaSeqV2SampleCount=None, name='Breast Invasive Carcinoma (TCGA, Cell 2015)', pmid='26451490', publicStudy=True, readPermission=True, referenceGenome='hg19', rppaSampleCount=None, sequencedSampleCount=None, status=0, studyId='brca_tcga_pub2015', treatmentCount=None),\n",
       " CancerStudy(allSampleCount=276, cancerType=None, cancerTypeId='coadread', citation='TCGA, Nature 2012', cnaSampleCount=None, completeSampleCount=None, description='Whole exome sequencing in 224 of the 276 colorectal carcinoma tumor/normal pairs. The Cancer Genome Atlas (TCGA) Colorectal Cancer project.', groups='PUBLIC', importDate='2024-01-20 13:23:35', massSpectrometrySampleCount=None, methylationHm27SampleCount=None, miRnaSampleCount=None, mrnaMicroarraySampleCount=None, mrnaRnaSeqSampleCount=None, mrnaRnaSeqV2SampleCount=None, name='Colorectal Adenocarcinoma (TCGA, Nature 2012)', pmid='22810696', publicStudy=True, readPermission=True, referenceGenome='hg19', rppaSampleCount=None, sequencedSampleCount=None, status=0, studyId='coadread_tcga_pub', treatmentCount=None),\n",
       " CancerStudy(allSampleCount=444, cancerType=None, cancerTypeId='difg', citation='Barthel & Johnson et al. Nature 2019', cnaSampleCount=None, completeSampleCount=None, description='Whole genome or whole exome sequencing analysis of temporally separated diffuse glioma tumor/normal pairs from 222 adult patients.', groups='', importDate='2024-01-20 13:47:11', massSpectrometrySampleCount=None, methylationHm27SampleCount=None, miRnaSampleCount=None, mrnaMicroarraySampleCount=None, mrnaRnaSeqSampleCount=None, mrnaRnaSeqV2SampleCount=None, name='Diffuse Glioma (GLASS Consortium, Nature 2019)', pmid='31748746', publicStudy=True, readPermission=True, referenceGenome='hg19', rppaSampleCount=None, sequencedSampleCount=None, status=0, studyId='difg_glass_2019', treatmentCount=None),\n",
       " CancerStudy(allSampleCount=902, cancerType=None, cancerTypeId='stomach', citation='Melissa A et al. J Natl Cancer Inst 2023', cnaSampleCount=None, completeSampleCount=None, description='Targeted sequencing of 902 patients with early-onset and average-onset esophagogastric cancers and their matched normals via MSK-IMPACT.', groups='', importDate='2024-01-20 14:12:38', massSpectrometrySampleCount=None, methylationHm27SampleCount=None, miRnaSampleCount=None, mrnaMicroarraySampleCount=None, mrnaRnaSeqSampleCount=None, mrnaRnaSeqV2SampleCount=None, name='Esophagogastric Cancer (MSK, J Natl Cancer Inst 2023)', pmid='37699004', publicStudy=True, readPermission=True, referenceGenome='hg19', rppaSampleCount=None, sequencedSampleCount=None, status=0, studyId='egc_msk_2023', treatmentCount=None),\n",
       " CancerStudy(allSampleCount=396, cancerType=None, cancerTypeId='mbn', citation=None, cnaSampleCount=None, completeSampleCount=None, description='Diffuse large B-cell lymphoma cohort from the MSK-IMPACT Heme study.', groups='', importDate='2024-01-20 15:22:32', massSpectrometrySampleCount=None, methylationHm27SampleCount=None, miRnaSampleCount=None, mrnaMicroarraySampleCount=None, mrnaRnaSeqSampleCount=None, mrnaRnaSeqV2SampleCount=None, name='Diffuse Large B-Cell Lymphoma (MSK, 2024)', pmid=None, publicStudy=True, readPermission=True, referenceGenome='hg19', rppaSampleCount=None, sequencedSampleCount=None, status=0, studyId='mbn_msk_2024', treatmentCount=None),\n",
       " CancerStudy(allSampleCount=247, cancerType=None, cancerTypeId='lung', citation='Rami S et al. Nature Cancer 2022', cnaSampleCount=None, completeSampleCount=None, description='Multimodality tools to predict response to PD-(L)1 blockade in patients with lung adenocarcinoma.', groups='', importDate='2024-01-22 22:47:32', massSpectrometrySampleCount=None, methylationHm27SampleCount=None, miRnaSampleCount=None, mrnaMicroarraySampleCount=None, mrnaRnaSeqSampleCount=None, mrnaRnaSeqV2SampleCount=None, name='Lung Adenocarcinoma (MSK Mind,Nature Cancer 2022)', pmid='36038778', publicStudy=True, readPermission=True, referenceGenome='hg19', rppaSampleCount=None, sequencedSampleCount=None, status=0, studyId='lung_msk_mind_2020', treatmentCount=None),\n",
       " CancerStudy(allSampleCount=132, cancerType=None, cancerTypeId='mtnn', citation='William T et al. Blood Adv 2023', cnaSampleCount=None, completeSampleCount=None, description='Targeted sequencing of 132 Mature T and NK Neoplasms and their matched normals via MSK-IMPACT.', groups='', importDate='2024-01-23 00:15:24', massSpectrometrySampleCount=None, methylationHm27SampleCount=None, miRnaSampleCount=None, mrnaMicroarraySampleCount=None, mrnaRnaSeqSampleCount=None, mrnaRnaSeqV2SampleCount=None, name='Mature T and NK Neoplasms (MSK, Blood Adv 2023)', pmid='37078708', publicStudy=True, readPermission=True, referenceGenome='hg19', rppaSampleCount=None, sequencedSampleCount=None, status=0, studyId='mtnn_msk_2022', treatmentCount=None),\n",
       " CancerStudy(allSampleCount=200, cancerType=None, cancerTypeId='aml', citation=None, cnaSampleCount=None, completeSampleCount=None, description='TCGA Acute Myeloid Leukemia. Source data from <A HREF=\"http://gdac.broadinstitute.org/runs/stddata__2016_01_28/data/LAML/20160128/\">GDAC Firehose</A>. Previously known as TCGA Provisional.', groups='PUBLIC', importDate='2024-01-23 09:49:19', massSpectrometrySampleCount=None, methylationHm27SampleCount=None, miRnaSampleCount=None, mrnaMicroarraySampleCount=None, mrnaRnaSeqSampleCount=None, mrnaRnaSeqV2SampleCount=None, name='Acute Myeloid Leukemia (TCGA, Firehose Legacy)', pmid=None, publicStudy=True, readPermission=True, referenceGenome='hg19', rppaSampleCount=None, sequencedSampleCount=None, status=0, studyId='laml_tcga', treatmentCount=None),\n",
       " CancerStudy(allSampleCount=538, cancerType=None, cancerTypeId='ccrcc', citation=None, cnaSampleCount=None, completeSampleCount=None, description='TCGA Kidney Renal Clear Cell Carcinoma. Source data from <A HREF=\"http://gdac.broadinstitute.org/runs/stddata__2016_01_28/data/KIRC/20160128/\">GDAC Firehose</A>. Previously known as TCGA Provisional.', groups='PUBLIC', importDate='2024-01-23 10:29:46', massSpectrometrySampleCount=None, methylationHm27SampleCount=None, miRnaSampleCount=None, mrnaMicroarraySampleCount=None, mrnaRnaSeqSampleCount=None, mrnaRnaSeqV2SampleCount=None, name='Kidney Renal Clear Cell Carcinoma (TCGA, Firehose Legacy)', pmid=None, publicStudy=True, readPermission=True, referenceGenome='hg19', rppaSampleCount=None, sequencedSampleCount=None, status=0, studyId='kirc_tcga', treatmentCount=None),\n",
       " CancerStudy(allSampleCount=113, cancerType=None, cancerTypeId='chrcc', citation=None, cnaSampleCount=None, completeSampleCount=None, description='TCGA Kidney Chromophobe. Source data from <A HREF=\"http://gdac.broadinstitute.org/runs/stddata__2016_01_28/data/KICH/20160128/\">GDAC Firehose</A>. Previously known as TCGA Provisional.', groups='PUBLIC', importDate='2024-01-23 10:56:43', massSpectrometrySampleCount=None, methylationHm27SampleCount=None, miRnaSampleCount=None, mrnaMicroarraySampleCount=None, mrnaRnaSeqSampleCount=None, mrnaRnaSeqV2SampleCount=None, name='Kidney Chromophobe (TCGA, Firehose Legacy)', pmid=None, publicStudy=True, readPermission=True, referenceGenome='hg19', rppaSampleCount=None, sequencedSampleCount=None, status=0, studyId='kich_tcga', treatmentCount=None),\n",
       " CancerStudy(allSampleCount=530, cancerType=None, cancerTypeId='difg', citation=None, cnaSampleCount=None, completeSampleCount=None, description='TCGA Brain Lower Grade Glioma. Source data from <A HREF=\"http://gdac.broadinstitute.org/runs/stddata__2016_01_28/data/LGG/20160128/\">GDAC Firehose</A>. Previously known as TCGA Provisional.', groups='PUBLIC', importDate='2024-01-23 11:18:45', massSpectrometrySampleCount=None, methylationHm27SampleCount=None, miRnaSampleCount=None, mrnaMicroarraySampleCount=None, mrnaRnaSeqSampleCount=None, mrnaRnaSeqV2SampleCount=None, name='Brain Lower Grade Glioma (TCGA, Firehose Legacy)', pmid=None, publicStudy=True, readPermission=True, referenceGenome='hg19', rppaSampleCount=None, sequencedSampleCount=None, status=0, studyId='lgg_tcga', treatmentCount=None),\n",
       " CancerStudy(allSampleCount=379, cancerType=None, cancerTypeId='hcc', citation=None, cnaSampleCount=None, completeSampleCount=None, description='TCGA Liver Hepatocellular Carcinoma. Source data from <A HREF=\"http://gdac.broadinstitute.org/runs/stddata__2016_01_28/data/LIHC/20160128/\">GDAC Firehose</A>. Previously known as TCGA Provisional.', groups='PUBLIC', importDate='2024-01-23 11:44:44', massSpectrometrySampleCount=None, methylationHm27SampleCount=None, miRnaSampleCount=None, mrnaMicroarraySampleCount=None, mrnaRnaSeqSampleCount=None, mrnaRnaSeqV2SampleCount=None, name='Liver Hepatocellular Carcinoma (TCGA, Firehose Legacy)', pmid=None, publicStudy=True, readPermission=True, referenceGenome='hg19', rppaSampleCount=None, sequencedSampleCount=None, status=0, studyId='lihc_tcga', treatmentCount=None),\n",
       " CancerStudy(allSampleCount=586, cancerType=None, cancerTypeId='luad', citation=None, cnaSampleCount=None, completeSampleCount=None, description='TCGA Lung Adenocarcinoma. Source data from <A HREF=\"http://gdac.broadinstitute.org/runs/stddata__2016_01_28/data/LUAD/20160128/\">GDAC Firehose</A>. Previously known as TCGA Provisional.', groups='PUBLIC', importDate='2024-01-23 12:12:38', massSpectrometrySampleCount=None, methylationHm27SampleCount=None, miRnaSampleCount=None, mrnaMicroarraySampleCount=None, mrnaRnaSeqSampleCount=None, mrnaRnaSeqV2SampleCount=None, name='Lung Adenocarcinoma (TCGA, Firehose Legacy)', pmid=None, publicStudy=True, readPermission=True, referenceGenome='hg19', rppaSampleCount=None, sequencedSampleCount=None, status=0, studyId='luad_tcga', treatmentCount=None),\n",
       " CancerStudy(allSampleCount=511, cancerType=None, cancerTypeId='lusc', citation=None, cnaSampleCount=None, completeSampleCount=None, description='TCGA Lung Squamous Cell Carcinoma. Source data from <A HREF=\"http://gdac.broadinstitute.org/runs/stddata__2016_01_28/data/LUSC/20160128/\">GDAC Firehose</A>. Previously known as TCGA Provisional.', groups='PUBLIC', importDate='2024-01-23 12:48:11', massSpectrometrySampleCount=None, methylationHm27SampleCount=None, miRnaSampleCount=None, mrnaMicroarraySampleCount=None, mrnaRnaSeqSampleCount=None, mrnaRnaSeqV2SampleCount=None, name='Lung Squamous Cell Carcinoma (TCGA, Firehose Legacy)', pmid=None, publicStudy=True, readPermission=True, referenceGenome='hg19', rppaSampleCount=None, sequencedSampleCount=None, status=0, studyId='lusc_tcga', treatmentCount=None),\n",
       " CancerStudy(allSampleCount=87, cancerType=None, cancerTypeId='plmeso', citation=None, cnaSampleCount=None, completeSampleCount=None, description='TCGA Mesothelioma. Source data from <A HREF=\"http://gdac.broadinstitute.org/runs/stddata__2016_01_28/data/MESO/20160128/\">GDAC Firehose</A>. Previously known as TCGA Provisional.', groups='PUBLIC', importDate='2024-01-23 13:34:30', massSpectrometrySampleCount=None, methylationHm27SampleCount=None, miRnaSampleCount=None, mrnaMicroarraySampleCount=None, mrnaRnaSeqSampleCount=None, mrnaRnaSeqV2SampleCount=None, name='Mesothelioma (TCGA, Firehose Legacy)', pmid=None, publicStudy=True, readPermission=True, referenceGenome='hg19', rppaSampleCount=None, sequencedSampleCount=None, status=0, studyId='meso_tcga', treatmentCount=None),\n",
       " CancerStudy(allSampleCount=617, cancerType=None, cancerTypeId='hgsoc', citation=None, cnaSampleCount=None, completeSampleCount=None, description='TCGA Ovarian Serous Cystadenocarcinoma. Source data from <A HREF=\"http://gdac.broadinstitute.org/runs/stddata__2016_01_28/data/OV/20160128/\">GDAC Firehose</A>. Previously known as TCGA Provisional.', groups='PUBLIC', importDate='2024-01-23 14:13:01', massSpectrometrySampleCount=None, methylationHm27SampleCount=None, miRnaSampleCount=None, mrnaMicroarraySampleCount=None, mrnaRnaSeqSampleCount=None, mrnaRnaSeqV2SampleCount=None, name='Ovarian Serous Cystadenocarcinoma (TCGA, Firehose Legacy)', pmid=None, publicStudy=True, readPermission=True, referenceGenome='hg19', rppaSampleCount=None, sequencedSampleCount=None, status=0, studyId='ov_tcga', treatmentCount=None),\n",
       " CancerStudy(allSampleCount=293, cancerType=None, cancerTypeId='prcc', citation=None, cnaSampleCount=None, completeSampleCount=None, description='TCGA Kidney Renal Papillary Cell Carcinoma. Source data from <A HREF=\"http://gdac.broadinstitute.org/runs/stddata__2016_01_28/data/KIRP/20160128/\">GDAC Firehose</A>. Previously known as TCGA Provisional.', groups='PUBLIC', importDate='2024-01-23 14:54:35', massSpectrometrySampleCount=None, methylationHm27SampleCount=None, miRnaSampleCount=None, mrnaMicroarraySampleCount=None, mrnaRnaSeqSampleCount=None, mrnaRnaSeqV2SampleCount=None, name='Kidney Renal Papillary Cell Carcinoma (TCGA, Firehose Legacy)', pmid=None, publicStudy=True, readPermission=True, referenceGenome='hg19', rppaSampleCount=None, sequencedSampleCount=None, status=0, studyId='kirp_tcga', treatmentCount=None),\n",
       " CancerStudy(allSampleCount=200, cancerType=None, cancerTypeId='aml', citation='TCGA, NEJM 2013', cnaSampleCount=None, completeSampleCount=None, description='Whole-genome or whole-exome sequencing analysis of 200 adult de novo AML tumor/normal pairs. TCGA Acute Myeloid Leukemia Project; raw data at the <A HREF=\"https://tcga-data.nci.nih.gov/tcga/tcgaCancerDetails.jsp?diseaseType=LAML&diseaseName=Acute%20Myeloid%20Leukemia\">NCI</A>.', groups='PUBLIC', importDate='2024-01-23 15:18:43', massSpectrometrySampleCount=None, methylationHm27SampleCount=None, miRnaSampleCount=None, mrnaMicroarraySampleCount=None, mrnaRnaSeqSampleCount=None, mrnaRnaSeqV2SampleCount=None, name='Acute Myeloid Leukemia (TCGA, NEJM 2013)', pmid='23634996', publicStudy=True, readPermission=True, referenceGenome='hg19', rppaSampleCount=None, sequencedSampleCount=None, status=0, studyId='laml_tcga_pub', treatmentCount=None),\n",
       " CancerStudy(allSampleCount=38, cancerType=None, cancerTypeId='mel', citation='Liang et al. Genome Res 2017', cnaSampleCount=None, completeSampleCount=None, description='Whole exome sequencing and transcriptome analysis of 34 Acral Melanoma patients (33 with matched normals).', groups='PUBLIC', importDate='2024-01-23 15:41:06', massSpectrometrySampleCount=None, methylationHm27SampleCount=None, miRnaSampleCount=None, mrnaMicroarraySampleCount=None, mrnaRnaSeqSampleCount=None, mrnaRnaSeqV2SampleCount=None, name='Acral Melanoma (TGEN, Genome Res 2017)', pmid='28373299', publicStudy=True, readPermission=True, referenceGenome='hg19', rppaSampleCount=None, sequencedSampleCount=None, status=0, studyId='mel_tsam_liang_2017', treatmentCount=None),\n",
       " CancerStudy(allSampleCount=760, cancerType=None, cancerTypeId='mbn', citation=None, cnaSampleCount=None, completeSampleCount=None, description='We performed targeted deep sequencing of 380 recurrently mutated genes across a cohort of 755 mature B-cell malignancies to define conserved and disease-specific patterns of genomic alterations.<a href=\"https://www.biorxiv.org/content/10.1101/674259v1.full\">PubMed</a>', groups='', importDate='2024-01-23 16:02:56', massSpectrometrySampleCount=None, methylationHm27SampleCount=None, miRnaSampleCount=None, mrnaMicroarraySampleCount=None, mrnaRnaSeqSampleCount=None, mrnaRnaSeqV2SampleCount=None, name='Mature B-cell malignancies (MD Anderson Cancer Center)', pmid=None, publicStudy=True, readPermission=True, referenceGenome='hg19', rppaSampleCount=None, sequencedSampleCount=None, status=0, studyId='mbn_mdacc_2013', treatmentCount=None),\n",
       " CancerStudy(allSampleCount=144, cancerType=None, cancerTypeId='mel', citation='Liu et al. Nature Medicine 2019', cnaSampleCount=None, completeSampleCount=None, description='Whole-exome sequencing of 144 pre-treatment samples from 144 patients with metastatic melanoma treated with anti-PD1 ICB.', groups='PUBLIC', importDate='2024-01-23 16:40:12', massSpectrometrySampleCount=None, methylationHm27SampleCount=None, miRnaSampleCount=None, mrnaMicroarraySampleCount=None, mrnaRnaSeqSampleCount=None, mrnaRnaSeqV2SampleCount=None, name='Metastatic Melanoma (DFCI, Nature Medicine 2019)', pmid='31792460', publicStudy=True, readPermission=True, referenceGenome='hg19', rppaSampleCount=None, sequencedSampleCount=None, status=0, studyId='mel_dfci_2019', treatmentCount=None),\n",
       " CancerStudy(allSampleCount=121, cancerType=None, cancerTypeId='mng', citation='Farshad et al. Nature 2021', cnaSampleCount=None, completeSampleCount=None, description='Meningioma DNA somatic copy number, somatic point mutations, DNA methylation, RNA abundance, protein abundance', groups='PRIVATE', importDate='2024-01-23 17:07:43', massSpectrometrySampleCount=None, methylationHm27SampleCount=None, miRnaSampleCount=None, mrnaMicroarraySampleCount=None, mrnaRnaSeqSampleCount=None, mrnaRnaSeqV2SampleCount=None, name='Meningioma (University of Toronto, Nature 2021)', pmid='34433969', publicStudy=True, readPermission=True, referenceGenome='hg19', rppaSampleCount=None, sequencedSampleCount=None, status=0, studyId='mng_utoronto_2021', treatmentCount=None),\n",
       " CancerStudy(allSampleCount=186, cancerType=None, cancerTypeId='paad', citation=None, cnaSampleCount=None, completeSampleCount=None, description='TCGA Pancreatic Adenocarcinoma. Source data from <A HREF=\"http://gdac.broadinstitute.org/runs/stddata__2016_01_28/data/PAAD/20160128/\">GDAC Firehose</A>. Previously known as TCGA Provisional.', groups='PUBLIC', importDate='2024-01-24 09:19:36', massSpectrometrySampleCount=None, methylationHm27SampleCount=None, miRnaSampleCount=None, mrnaMicroarraySampleCount=None, mrnaRnaSeqSampleCount=None, mrnaRnaSeqV2SampleCount=None, name='Pancreatic Adenocarcinoma (TCGA, Firehose Legacy)', pmid=None, publicStudy=True, readPermission=True, referenceGenome='hg19', rppaSampleCount=None, sequencedSampleCount=None, status=0, studyId='paad_tcga', treatmentCount=None),\n",
       " CancerStudy(allSampleCount=184, cancerType=None, cancerTypeId='mnet', citation=None, cnaSampleCount=None, completeSampleCount=None, description='TCGA Pheochromocytoma and Paraganglioma. Source data from <A HREF=\"http://gdac.broadinstitute.org/runs/stddata__2016_01_28/data/PCPG/20160128/\">GDAC Firehose</A>. Previously known as TCGA Provisional.', groups='PUBLIC', importDate='2024-01-24 09:45:29', massSpectrometrySampleCount=None, methylationHm27SampleCount=None, miRnaSampleCount=None, mrnaMicroarraySampleCount=None, mrnaRnaSeqSampleCount=None, mrnaRnaSeqV2SampleCount=None, name='Pheochromocytoma and Paraganglioma (TCGA, Firehose Legacy)', pmid=None, publicStudy=True, readPermission=True, referenceGenome='hg19', rppaSampleCount=None, sequencedSampleCount=None, status=0, studyId='pcpg_tcga', treatmentCount=None),\n",
       " CancerStudy(allSampleCount=501, cancerType=None, cancerTypeId='prad', citation=None, cnaSampleCount=None, completeSampleCount=None, description='TCGA Prostate Adenocarcinoma. Source data from <A HREF=\"http://gdac.broadinstitute.org/runs/stddata__2016_01_28/data/PRAD/20160128/\">GDAC Firehose</A>. Previously known as TCGA Provisional.', groups='PUBLIC', importDate='2024-01-24 10:09:35', massSpectrometrySampleCount=None, methylationHm27SampleCount=None, miRnaSampleCount=None, mrnaMicroarraySampleCount=None, mrnaRnaSeqSampleCount=None, mrnaRnaSeqV2SampleCount=None, name='Prostate Adenocarcinoma (TCGA, Firehose Legacy)', pmid=None, publicStudy=True, readPermission=True, referenceGenome='hg19', rppaSampleCount=None, sequencedSampleCount=None, status=0, studyId='prad_tcga', treatmentCount=None),\n",
       " CancerStudy(allSampleCount=265, cancerType=None, cancerTypeId='soft_tissue', citation=None, cnaSampleCount=None, completeSampleCount=None, description='TCGA Sarcoma. Source data from <A HREF=\"http://gdac.broadinstitute.org/runs/stddata__2016_01_28/data/SARC/20160128/\">GDAC Firehose</A>. Previously known as TCGA Provisional.', groups='PUBLIC', importDate='2024-01-24 10:41:22', massSpectrometrySampleCount=None, methylationHm27SampleCount=None, miRnaSampleCount=None, mrnaMicroarraySampleCount=None, mrnaRnaSeqSampleCount=None, mrnaRnaSeqV2SampleCount=None, name='Sarcoma (TCGA, Firehose Legacy)', pmid=None, publicStudy=True, readPermission=True, referenceGenome='hg19', rppaSampleCount=None, sequencedSampleCount=None, status=0, studyId='sarc_tcga', treatmentCount=None),\n",
       " CancerStudy(allSampleCount=478, cancerType=None, cancerTypeId='stad', citation=None, cnaSampleCount=None, completeSampleCount=None, description='TCGA Stomach Adenocarcinoma. Source data from <A HREF=\"http://gdac.broadinstitute.org/runs/stddata__2016_01_28/data/STAD/20160128/\">GDAC Firehose</A>. Previously known as TCGA Provisional.', groups='PUBLIC', importDate='2024-01-24 11:10:35', massSpectrometrySampleCount=None, methylationHm27SampleCount=None, miRnaSampleCount=None, mrnaMicroarraySampleCount=None, mrnaRnaSeqSampleCount=None, mrnaRnaSeqV2SampleCount=None, name='Stomach Adenocarcinoma (TCGA, Firehose Legacy)', pmid=None, publicStudy=True, readPermission=True, referenceGenome='hg19', rppaSampleCount=None, sequencedSampleCount=None, status=0, studyId='stad_tcga', treatmentCount=None),\n",
       " CancerStudy(allSampleCount=156, cancerType=None, cancerTypeId='nsgct', citation=None, cnaSampleCount=None, completeSampleCount=None, description='TCGA Testicular Germ Cell Cancer. Source data from <A HREF=\"http://gdac.broadinstitute.org/runs/stddata__2016_01_28/data/TGCT/20160128/\">GDAC Firehose</A>. Previously known as TCGA Provisional.', groups='PUBLIC', importDate='2024-01-24 11:48:12', massSpectrometrySampleCount=None, methylationHm27SampleCount=None, miRnaSampleCount=None, mrnaMicroarraySampleCount=None, mrnaRnaSeqSampleCount=None, mrnaRnaSeqV2SampleCount=None, name='Testicular Germ Cell Cancer (TCGA, Firehose Legacy)', pmid=None, publicStudy=True, readPermission=True, referenceGenome='hg19', rppaSampleCount=None, sequencedSampleCount=None, status=0, studyId='tgct_tcga', treatmentCount=None),\n",
       " CancerStudy(allSampleCount=124, cancerType=None, cancerTypeId='thym', citation=None, cnaSampleCount=None, completeSampleCount=None, description='TCGA Thymoma. Source data from <A HREF=\"http://gdac.broadinstitute.org/runs/stddata__2016_01_28/data/THYM/20160128/\">GDAC Firehose</A>. Previously known as TCGA Provisional.', groups='PUBLIC', importDate='2024-01-24 12:12:42', massSpectrometrySampleCount=None, methylationHm27SampleCount=None, miRnaSampleCount=None, mrnaMicroarraySampleCount=None, mrnaRnaSeqSampleCount=None, mrnaRnaSeqV2SampleCount=None, name='Thymoma (TCGA, Firehose Legacy)', pmid=None, publicStudy=True, readPermission=True, referenceGenome='hg19', rppaSampleCount=None, sequencedSampleCount=None, status=0, studyId='thym_tcga', treatmentCount=None),\n",
       " CancerStudy(allSampleCount=516, cancerType=None, cancerTypeId='thpa', citation=None, cnaSampleCount=None, completeSampleCount=None, description='TCGA Thyroid Carcinoma. Source data from <A HREF=\"http://gdac.broadinstitute.org/runs/stddata__2016_01_28/data/THCA/20160128/\">GDAC Firehose</A>. Previously known as TCGA Provisional.', groups='PUBLIC', importDate='2024-01-24 12:35:44', massSpectrometrySampleCount=None, methylationHm27SampleCount=None, miRnaSampleCount=None, mrnaMicroarraySampleCount=None, mrnaRnaSeqSampleCount=None, mrnaRnaSeqV2SampleCount=None, name='Thyroid Carcinoma (TCGA, Firehose Legacy)', pmid=None, publicStudy=True, readPermission=True, referenceGenome='hg19', rppaSampleCount=None, sequencedSampleCount=None, status=0, studyId='thca_tcga', treatmentCount=None),\n",
       " CancerStudy(allSampleCount=549, cancerType=None, cancerTypeId='ucec', citation=None, cnaSampleCount=None, completeSampleCount=None, description='TCGA Uterine Corpus Endometrial Carcinoma. Source data from <A HREF=\"http://gdac.broadinstitute.org/runs/stddata__2016_01_28/data/UCEC/20160128/\">GDAC Firehose</A>. Previously known as TCGA Provisional.', groups='PUBLIC', importDate='2024-01-24 14:22:20', massSpectrometrySampleCount=None, methylationHm27SampleCount=None, miRnaSampleCount=None, mrnaMicroarraySampleCount=None, mrnaRnaSeqSampleCount=None, mrnaRnaSeqV2SampleCount=None, name='Uterine Corpus Endometrial Carcinoma (TCGA, Firehose Legacy)', pmid=None, publicStudy=True, readPermission=True, referenceGenome='hg19', rppaSampleCount=None, sequencedSampleCount=None, status=0, studyId='ucec_tcga', treatmentCount=None),\n",
       " CancerStudy(allSampleCount=57, cancerType=None, cancerTypeId='ucs', citation=None, cnaSampleCount=None, completeSampleCount=None, description='TCGA Uterine Carcinosarcoma. Source data from <A HREF=\"http://gdac.broadinstitute.org/runs/stddata__2016_01_28/data/UCS/20160128/\">GDAC Firehose</A>. Previously known as TCGA Provisional.', groups='PUBLIC', importDate='2024-01-24 15:07:19', massSpectrometrySampleCount=None, methylationHm27SampleCount=None, miRnaSampleCount=None, mrnaMicroarraySampleCount=None, mrnaRnaSeqSampleCount=None, mrnaRnaSeqV2SampleCount=None, name='Uterine Carcinosarcoma (TCGA, Firehose Legacy)', pmid=None, publicStudy=True, readPermission=True, referenceGenome='hg19', rppaSampleCount=None, sequencedSampleCount=None, status=0, studyId='ucs_tcga', treatmentCount=None),\n",
       " CancerStudy(allSampleCount=80, cancerType=None, cancerTypeId='um', citation=None, cnaSampleCount=None, completeSampleCount=None, description='TCGA Uveal Melanoma. Source data from <A HREF=\"http://gdac.broadinstitute.org/runs/stddata__2016_01_28/data/UVM/20160128/\">GDAC Firehose</A>. Previously known as TCGA Provisional.', groups='PUBLIC', importDate='2024-01-24 15:32:33', massSpectrometrySampleCount=None, methylationHm27SampleCount=None, miRnaSampleCount=None, mrnaMicroarraySampleCount=None, mrnaRnaSeqSampleCount=None, mrnaRnaSeqV2SampleCount=None, name='Uveal Melanoma (TCGA, Firehose Legacy)', pmid=None, publicStudy=True, readPermission=True, referenceGenome='hg19', rppaSampleCount=None, sequencedSampleCount=None, status=0, studyId='uvm_tcga', treatmentCount=None),\n",
       " CancerStudy(allSampleCount=72, cancerType=None, cancerTypeId='mrt', citation=None, cnaSampleCount=None, completeSampleCount=None, description='Whole-genome sequencing 72 patients with Rhabdoid Tumor. Comprehensive profiling of 72 patients with Rhabdoid Tumor. <p>TARGET data is intended exclusively for biomedical research using pediatric data (i.e., the research objectives cannot be accomplished using data from adults) that focus on the development of more effective treatments, diagnostic tests, or prognostic markers for childhood cancers. Moreover, TARGET data can be used for research relevant to the biology, causes, treatment and late complications of treatment of pediatric cancers, but is not intended for the sole purposes of methods and/or tool development (please see <a href=\"https://ocg.cancer.gov/programs/target/using-target-data\">Using TARGET Data</a> section of the OCG website). If you are interested in using TARGET data for publication or other research purposes, you must follow the <a href=\"https://ocg.cancer.gov/programs/target/target-publication-guidelines\">TARGET Publication Guidelines</a>.</p>', groups='NCI-TARGET;PUBLIC', importDate='2024-01-24 15:57:09', massSpectrometrySampleCount=None, methylationHm27SampleCount=None, miRnaSampleCount=None, mrnaMicroarraySampleCount=None, mrnaRnaSeqSampleCount=None, mrnaRnaSeqV2SampleCount=None, name='Pediatric Rhabdoid Tumor (TARGET, 2018)', pmid=None, publicStudy=True, readPermission=True, referenceGenome='hg19', rppaSampleCount=None, sequencedSampleCount=None, status=0, studyId='rt_target_2018_pub', treatmentCount=None),\n",
       " CancerStudy(allSampleCount=324, cancerType=None, cancerTypeId='prostate', citation='Gerhauser et al. Cancer Cell 2018', cnaSampleCount=None, completeSampleCount=None, description='Whole genome and transcriptome sequencing of tumor/normal pairs from 292 prostate cancer patients.', groups='PUBLIC', importDate='2024-01-24 16:20:06', massSpectrometrySampleCount=None, methylationHm27SampleCount=None, miRnaSampleCount=None, mrnaMicroarraySampleCount=None, mrnaRnaSeqSampleCount=None, mrnaRnaSeqV2SampleCount=None, name='Prostate Cancer (DKFZ, Cancer Cell 2018)', pmid='30537516', publicStudy=True, readPermission=True, referenceGenome='hg19', rppaSampleCount=None, sequencedSampleCount=None, status=0, studyId='prostate_dkfz_2018', treatmentCount=None),\n",
       " CancerStudy(allSampleCount=261, cancerType=None, cancerTypeId='mixed', citation='Rotika et al. Cell Rep 2019', cnaSampleCount=None, completeSampleCount=None, description=\"Whole-exome sequencing of 261 patient derived xenografts (PDXs) samples from high-risk childhood cancers (with no matched normals). Website: <a href='http://www.ncipptc.org/'>PPTC</a>\", groups='PUBLIC', importDate='2024-01-24 16:44:53', massSpectrometrySampleCount=None, methylationHm27SampleCount=None, miRnaSampleCount=None, mrnaMicroarraySampleCount=None, mrnaRnaSeqSampleCount=None, mrnaRnaSeqV2SampleCount=None, name='Pediatric Preclinical Testing Consortium  (CHOP, Cell Rep 2019)', pmid='31693904', publicStudy=True, readPermission=True, referenceGenome='hg19', rppaSampleCount=None, sequencedSampleCount=None, status=0, studyId='pptc_2019', treatmentCount=None),\n",
       " CancerStudy(allSampleCount=147, cancerType=None, cancerTypeId='stad', citation='Guo et al. Nat Commun 2018', cnaSampleCount=None, completeSampleCount=None, description='Whole-genome sequencing of 147 gastric cancer tumors with matched normals. Courtesy of <a href=\"https://src.gisapps.org/OncoSG/\">OncoSG</a>.', groups='', importDate='2024-01-24 17:12:07', massSpectrometrySampleCount=None, methylationHm27SampleCount=None, miRnaSampleCount=None, mrnaMicroarraySampleCount=None, mrnaRnaSeqSampleCount=None, mrnaRnaSeqV2SampleCount=None, name='Gastric Cancer (OncoSG, 2018)', pmid='29670109', publicStudy=True, readPermission=True, referenceGenome='hg19', rppaSampleCount=None, sequencedSampleCount=None, status=0, studyId='stad_oncosg_2018', treatmentCount=None),\n",
       " CancerStudy(allSampleCount=570, cancerType=None, cancerTypeId='mixed', citation='Pleasance et al. Nature Cancer 2020', cnaSampleCount=None, completeSampleCount=None, description='Whole-genome and transcriptome sequencing of 570 advanced and metastatic cancers and their matched normals.', groups='', importDate='2024-01-24 17:45:47', massSpectrometrySampleCount=None, methylationHm27SampleCount=None, miRnaSampleCount=None, mrnaMicroarraySampleCount=None, mrnaRnaSeqSampleCount=None, mrnaRnaSeqV2SampleCount=None, name='Pan-cancer Analysis of Advanced and Metastatic Tumors (BCGSC, Nature Cancer 2020)', pmid='35121966', publicStudy=True, readPermission=True, referenceGenome='hg19', rppaSampleCount=None, sequencedSampleCount=None, status=0, studyId='pog570_bcgsc_2020', treatmentCount=None),\n",
       " CancerStudy(allSampleCount=470, cancerType=None, cancerTypeId='mixed', citation=None, cnaSampleCount=None, completeSampleCount=None, description='Targeted sequencing of 470 Leiomyosarcoma samples and their matched normals via MSK-IMPACT.', groups='PUBLIC', importDate='2024-02-06 09:09:54', massSpectrometrySampleCount=None, methylationHm27SampleCount=None, miRnaSampleCount=None, mrnaMicroarraySampleCount=None, mrnaRnaSeqSampleCount=None, mrnaRnaSeqV2SampleCount=None, name='Leiomyosarcoma  (MSK,2024)', pmid=None, publicStudy=True, readPermission=True, referenceGenome='hg19', rppaSampleCount=None, sequencedSampleCount=None, status=0, studyId='lms_msk_2024', treatmentCount=None),\n",
       " CancerStudy(allSampleCount=1134, cancerType=None, cancerTypeId='coadread', citation='Yaeger et al. Cancer Cell 2018', cnaSampleCount=None, completeSampleCount=None, description='Targeted sequencing of 1134 metastatic colorectal tumor/normal pairs.', groups='', importDate='2024-02-21 12:02:44', massSpectrometrySampleCount=None, methylationHm27SampleCount=None, miRnaSampleCount=None, mrnaMicroarraySampleCount=None, mrnaRnaSeqSampleCount=None, mrnaRnaSeqV2SampleCount=None, name='Metastatic Colorectal Cancer (MSK, Cancer Cell 2018)', pmid='29316426', publicStudy=True, readPermission=True, referenceGenome='hg19', rppaSampleCount=None, sequencedSampleCount=None, status=0, studyId='crc_msk_2017', treatmentCount=None),\n",
       " CancerStudy(allSampleCount=33, cancerType=None, cancerTypeId='mixed', citation=None, cnaSampleCount=None, completeSampleCount=None, description='Targeted sequencing on 33 endometrial and ovarian tumors and their matched normals from MSK-IMPACT.', groups='', importDate='2024-03-19 13:07:44', massSpectrometrySampleCount=None, methylationHm27SampleCount=None, miRnaSampleCount=None, mrnaMicroarraySampleCount=None, mrnaRnaSeqSampleCount=None, mrnaRnaSeqV2SampleCount=None, name='Endometrial and Ovarian Cancer (MSK, 2024)', pmid=None, publicStudy=True, readPermission=True, referenceGenome='hg19', rppaSampleCount=None, sequencedSampleCount=None, status=0, studyId='ucec_msk_2024', treatmentCount=None),\n",
       " CancerStudy(allSampleCount=105, cancerType=None, cancerTypeId='mixed', citation=None, cnaSampleCount=None, completeSampleCount=None, description='Targeted sequencing of 105 clinical cases via MSK-IMPACT to characterize the structure and impact of BRAF fusions on clinical course in a tumor-agnostic approach.', groups='', importDate='2024-03-27 13:07:30', massSpectrometrySampleCount=None, methylationHm27SampleCount=None, miRnaSampleCount=None, mrnaMicroarraySampleCount=None, mrnaRnaSeqSampleCount=None, mrnaRnaSeqV2SampleCount=None, name='BRAF Fusions - IMPACT Clinical Sequencing Cohort (MSKCC)', pmid=None, publicStudy=True, readPermission=True, referenceGenome='hg19', rppaSampleCount=None, sequencedSampleCount=None, status=0, studyId='braf_msk_impact_2024', treatmentCount=None),\n",
       " CancerStudy(allSampleCount=2509, cancerType=None, cancerTypeId='brca', citation='Pereira et al. Nat Commun 2016, Rueda et al. Nature 2019, Curtis et al. Nature 2012', cnaSampleCount=None, completeSampleCount=None, description='Targeted sequencing of 2509 primary breast tumors with 548 matched normals.', groups='', importDate='2024-04-22 12:02:38', massSpectrometrySampleCount=None, methylationHm27SampleCount=None, miRnaSampleCount=None, mrnaMicroarraySampleCount=None, mrnaRnaSeqSampleCount=None, mrnaRnaSeqV2SampleCount=None, name='Breast Cancer (METABRIC, Nature 2012 & Nat Commun 2016)', pmid='27161491,30867590,22522925', publicStudy=True, readPermission=True, referenceGenome='hg19', rppaSampleCount=None, sequencedSampleCount=None, status=0, studyId='brca_metabric', treatmentCount=None),\n",
       " CancerStudy(allSampleCount=107, cancerType=None, cancerTypeId='mixed', citation=None, cnaSampleCount=None, completeSampleCount=None, description='Targeted sequencing of 107 clinical cases via ARCHER to characterize the structure and impact of BRAF fusions on clinical course in a tumor-agnostic approach.', groups='', importDate='2024-04-24 04:41:45', massSpectrometrySampleCount=None, methylationHm27SampleCount=None, miRnaSampleCount=None, mrnaMicroarraySampleCount=None, mrnaRnaSeqSampleCount=None, mrnaRnaSeqV2SampleCount=None, name='BRAF Fusions - ARCHER Clinical Sequencing Cohort (MSKCC)', pmid=None, publicStudy=True, readPermission=True, referenceGenome='hg19', rppaSampleCount=None, sequencedSampleCount=None, status=0, studyId='braf_msk_archer_2024', treatmentCount=None),\n",
       " CancerStudy(allSampleCount=693, cancerType=None, cancerTypeId='difg', citation='Varn et al. Cell 2022, Malta et al. Cancer Res. 2023', cnaSampleCount=None, completeSampleCount=None, description='Whole genome or whole exome sequencing analysis of temporally separated diffuse glioma tumor/normal pairs from 329 adult patients. The data provided is based on the May 31, 2022 version and can be accessed at <a href=\"https://www.synapse.org/#!Synapse:syn17038081/wiki/585622\">Synapse</a>.', groups='', importDate='2024-04-25 12:35:12', massSpectrometrySampleCount=None, methylationHm27SampleCount=None, miRnaSampleCount=None, mrnaMicroarraySampleCount=None, mrnaRnaSeqSampleCount=None, mrnaRnaSeqV2SampleCount=None, name='Diffuse Glioma (GLASS Consortium)', pmid='35649412,38117484', publicStudy=True, readPermission=True, referenceGenome='hg19', rppaSampleCount=None, sequencedSampleCount=None, status=0, studyId='difg_glass', treatmentCount=None),\n",
       " CancerStudy(allSampleCount=1370, cancerType=None, cancerTypeId='hcc', citation=None, cnaSampleCount=None, completeSampleCount=None, description='Targeted sequencing of 1370 Hepatobiliary Cancer samples and their matched normals via MSK-IMPACT.', groups='', importDate='2024-05-17 04:01:22', massSpectrometrySampleCount=None, methylationHm27SampleCount=None, miRnaSampleCount=None, mrnaMicroarraySampleCount=None, mrnaRnaSeqSampleCount=None, mrnaRnaSeqV2SampleCount=None, name='Hepatocellular Carcinoma (MSK, 2024)', pmid=None, publicStudy=True, readPermission=True, referenceGenome='hg19', rppaSampleCount=None, sequencedSampleCount=None, status=0, studyId='hcc_msk_2024', treatmentCount=None),\n",
       " CancerStudy(allSampleCount=146, cancerType=None, cancerTypeId='coadread', citation='Li et al. Cancer Cell 2020', cnaSampleCount=None, completeSampleCount=None, description='Whole-exome sequencing of 146 colorectal tumor/normal pairs from a chinese cohort, covering 70 metastatic and 76 non-metastatic colorectal cancer patients.', groups='PUBLIC', importDate='2024-05-20 12:01:21', massSpectrometrySampleCount=None, methylationHm27SampleCount=None, miRnaSampleCount=None, mrnaMicroarraySampleCount=None, mrnaRnaSeqSampleCount=None, mrnaRnaSeqV2SampleCount=None, name='Colorectal Cancer (CAS Shanghai, Cancer Cell 2020)', pmid='32888432', publicStudy=True, readPermission=True, referenceGenome='hg19', rppaSampleCount=None, sequencedSampleCount=None, status=0, studyId='coadread_cass_2020', treatmentCount=None),\n",
       " CancerStudy(allSampleCount=297, cancerType=None, cancerTypeId='mbn', citation='Thomas et al. Blood 2023', cnaSampleCount=None, completeSampleCount=None, description='Comprehensive whole-genome sequencing of 297 Burrkitt Lymphoma (BL) and diffuse large B-cell lymphoma (DLBCL) samples and their matched normals.', groups='', importDate='2024-05-20 12:10:40', massSpectrometrySampleCount=None, methylationHm27SampleCount=None, miRnaSampleCount=None, mrnaMicroarraySampleCount=None, mrnaRnaSeqSampleCount=None, mrnaRnaSeqV2SampleCount=None, name='Mature B-Cell Neoplasms (Simon Fraser University, Blood 2023)', pmid='36201743', publicStudy=True, readPermission=True, referenceGenome='hg38', rppaSampleCount=None, sequencedSampleCount=None, status=0, studyId='mbn_sfu_2023', treatmentCount=None),\n",
       " CancerStudy(allSampleCount=61, cancerType=None, cancerTypeId='coadread', citation='Chen et al. Cell 2021', cnaSampleCount=None, completeSampleCount=None, description='Whole-exome sequencing and single-cell transcriptomics analysis of 61 pre-malignant colorectal polyps (discovery and validation sets) and their matched normal colon tissues.', groups='', importDate='2024-05-20 12:17:09', massSpectrometrySampleCount=None, methylationHm27SampleCount=None, miRnaSampleCount=None, mrnaMicroarraySampleCount=None, mrnaRnaSeqSampleCount=None, mrnaRnaSeqV2SampleCount=None, name='Pre-cancer Colorectal Polyps (HTAN Vanderbilt, Cell 2021)', pmid='34910928', publicStudy=True, readPermission=True, referenceGenome='hg19', rppaSampleCount=None, sequencedSampleCount=None, status=0, studyId='crc_hta11_htan_2021', treatmentCount=None),\n",
       " CancerStudy(allSampleCount=73, cancerType=None, cancerTypeId='difg', citation='Ankush et al. Clin Cancer Res 2024', cnaSampleCount=None, completeSampleCount=None, description='Targeted sequencing of 73 IDH-mutated low-grade gliomas and their matched normal pairs via MSK-IMPACT. The data is available on <a href=\"https://www.synapse.org/#!Synapse:syn52658621/wiki/624065\">Synapse</a>.', groups='', importDate='2024-05-20 12:20:29', massSpectrometrySampleCount=None, methylationHm27SampleCount=None, miRnaSampleCount=None, mrnaMicroarraySampleCount=None, mrnaRnaSeqSampleCount=None, mrnaRnaSeqV2SampleCount=None, name='IDH-mutated Diffuse Glioma (MSK, Clin Cancer Res 2024)', pmid='37910594', publicStudy=True, readPermission=True, referenceGenome='hg19', rppaSampleCount=None, sequencedSampleCount=None, status=0, studyId='difg_msk_2023', treatmentCount=None),\n",
       " CancerStudy(allSampleCount=190, cancerType=None, cancerTypeId='thyroid', citation='Zeng, Peter Y F et al. Cell reports', cnaSampleCount=None, completeSampleCount=None, description='Whole-genome or whole-exome sequencing of 190 anaplastic thyroid carcinoma (ATC) and co-occurring differentiated thyroid carcinoma (DTC) samples.', groups='', importDate='2024-05-20 12:24:05', massSpectrometrySampleCount=None, methylationHm27SampleCount=None, miRnaSampleCount=None, mrnaMicroarraySampleCount=None, mrnaRnaSeqSampleCount=None, mrnaRnaSeqV2SampleCount=None, name='Anaplastic Thyroid Cancers (GATCI, Cell Reports 2024)', pmid='38412093', publicStudy=True, readPermission=True, referenceGenome='hg38', rppaSampleCount=None, sequencedSampleCount=None, status=0, studyId='thyroid_gatci_2024', treatmentCount=None),\n",
       " CancerStudy(allSampleCount=88, cancerType=None, cancerTypeId='prostate', citation='Anselmino et al. Clin Cancer Res 2024', cnaSampleCount=None, completeSampleCount=None, description='Targeted sequencing and whole-genome sequencing of 88 MD Anderson Prostate Cancer PDX models derived from 38 patients with tumor.', groups='', importDate='2024-05-20 12:56:06', massSpectrometrySampleCount=None, methylationHm27SampleCount=None, miRnaSampleCount=None, mrnaMicroarraySampleCount=None, mrnaRnaSeqSampleCount=None, mrnaRnaSeqV2SampleCount=None, name='Prostate Cancer MDA PCa PDX (MD Anderson, Clin Cancer Res 2024)', pmid='38488813', publicStudy=True, readPermission=True, referenceGenome='hg19', rppaSampleCount=None, sequencedSampleCount=None, status=0, studyId='prad_msk_mdanderson_2023', treatmentCount=None),\n",
       " CancerStudy(allSampleCount=7494, cancerType=None, cancerTypeId='mixed', citation='Gounder et. al. Nat Comm 2022', cnaSampleCount=None, completeSampleCount=None, description='Targeted sequencing of 7,494 soft tissue and bone sarcoma samples using the Foundation Medicine platform.', groups='', importDate='2024-05-22 12:01:54', massSpectrometrySampleCount=None, methylationHm27SampleCount=None, miRnaSampleCount=None, mrnaMicroarraySampleCount=None, mrnaRnaSeqSampleCount=None, mrnaRnaSeqV2SampleCount=None, name='Soft Tissue and Bone Sarcoma (MSK, Nat Commun 2022)', pmid='35705558', publicStudy=True, readPermission=True, referenceGenome='hg19', rppaSampleCount=None, sequencedSampleCount=None, status=0, studyId='sarcoma_msk_2022', treatmentCount=None),\n",
       " CancerStudy(allSampleCount=14, cancerType=None, cancerTypeId='plmeso', citation='Yang, Soo-Ryum et al. Clin Cancer Res 2024', cnaSampleCount=None, completeSampleCount=None, description='Targeted sequencing of 14 genomic near haploidization (GNH) pleural mesothelioma samples and their matched normals via MSK-IMPACT platform.', groups='', importDate='2024-05-28 12:05:10', massSpectrometrySampleCount=None, methylationHm27SampleCount=None, miRnaSampleCount=None, mrnaMicroarraySampleCount=None, mrnaRnaSeqSampleCount=None, mrnaRnaSeqV2SampleCount=None, name='Pleural Mesothelioma (MSK, Clin Cancer Res 2024)', pmid='38630790', publicStudy=True, readPermission=True, referenceGenome='hg19', rppaSampleCount=None, sequencedSampleCount=None, status=0, studyId='plmeso_msk_2024', treatmentCount=None),\n",
       " CancerStudy(allSampleCount=47, cancerType=None, cancerTypeId='prad', citation='Tang et al. Science 2022', cnaSampleCount=None, completeSampleCount=None, description='Targeted sequencing and whole exome sequencing of 35 prostate cancer tumors, organoids and cell lines via MSK-IMPACT.', groups='', importDate='2024-05-28 12:06:24', massSpectrometrySampleCount=None, methylationHm27SampleCount=None, miRnaSampleCount=None, mrnaMicroarraySampleCount=None, mrnaRnaSeqSampleCount=None, mrnaRnaSeqV2SampleCount=None, name='Prostate Cancer (MSK, Science 2022)', pmid='35617398', publicStudy=True, readPermission=True, referenceGenome='hg19', rppaSampleCount=None, sequencedSampleCount=None, status=0, studyId='prad_organoids_msk_2022', treatmentCount=None),\n",
       " CancerStudy(allSampleCount=1154, cancerType=None, cancerTypeId='cllsll', citation='Knisbacher et al. Nature 2022', cnaSampleCount=None, completeSampleCount=None, description='Whole genome and whole exome sequencing of 1,154 samples from 1,148 patients with Chronic Lymphocytic Leukemia and monoclonal B cell lymphocytosis and their matched normals.', groups='', importDate='2024-05-29 12:01:47', massSpectrometrySampleCount=None, methylationHm27SampleCount=None, miRnaSampleCount=None, mrnaMicroarraySampleCount=None, mrnaRnaSeqSampleCount=None, mrnaRnaSeqV2SampleCount=None, name='Chronic Lymphocytic Leukemia (Broad, Nature Genetics 2022)', pmid='35927489', publicStudy=True, readPermission=True, referenceGenome='hg19', rppaSampleCount=None, sequencedSampleCount=None, status=0, studyId='cll_broad_2022', treatmentCount=None),\n",
       " CancerStudy(allSampleCount=5567, cancerType=None, cancerTypeId='mixed', citation=None, cnaSampleCount=None, completeSampleCount=None, description='Targeted sequencing of clinical cases via MSK-ACCES.', groups='', importDate='2024-06-11 12:01:24', massSpectrometrySampleCount=None, methylationHm27SampleCount=None, miRnaSampleCount=None, mrnaMicroarraySampleCount=None, mrnaRnaSeqSampleCount=None, mrnaRnaSeqV2SampleCount=None, name='MSK ctDNA Sequencing Cohort (MSK,2024)', pmid=None, publicStudy=True, readPermission=True, referenceGenome='hg19', rppaSampleCount=None, sequencedSampleCount=None, status=0, studyId='msk_ctdna_vte_2024', treatmentCount=None),\n",
       " CancerStudy(allSampleCount=82, cancerType=None, cancerTypeId='ovary', citation='VÃ¡zquez-GarcÃ\\xada, Uhlitz et al. Nature 2022', cnaSampleCount=None, completeSampleCount=None, description='Multi-region, multi-modal profiling of 42 untreated high-grade serous ovarian cancer (HGSOC) tumor/normal pairs. This study reports an integrative analysis of mutational processes and their impact on the tumor microenvironment using single-cell RNA sequencing, whole-genome sequencing, targeted sequencing (MSK-IMPACT), digital histopathology and multiplexed immunofluorescence. The study is part of a prospective research program to understand the spatio-temporal determinants of HGSOC evolution, treatment and response (MSK SPECTRUM: Memorial Sloan Kettering - SPatio-temporal Evolution in Cancer TRaced Using Multimodalities).', groups='PUBLIC', importDate='2024-06-13 12:01:47', massSpectrometrySampleCount=None, methylationHm27SampleCount=None, miRnaSampleCount=None, mrnaMicroarraySampleCount=None, mrnaRnaSeqSampleCount=None, mrnaRnaSeqV2SampleCount=None, name='Ovarian Cancer - MSK SPECTRUM (MSK, Nature 2022)', pmid='36517593', publicStudy=True, readPermission=True, referenceGenome='hg19', rppaSampleCount=None, sequencedSampleCount=None, status=0, studyId='msk_spectrum_tme_2022', treatmentCount=None),\n",
       " CancerStudy(allSampleCount=134, cancerType=None, cancerTypeId='nst', citation='Pollard et al. Sci Data 2020', cnaSampleCount=None, completeSampleCount=None, description='Whole-exome sequencing of 134 nerve sheath tumor samples with their matched normals. The raw data is contributed by Johns Hopkins University researchers funded by the Neurofibromatosis Therapeutic Acceleration Program (NTAP). The reprocessing of the raw data is managed by the NF Open Science Initiative (<a href=\"https://nf.synapse.org/\">NF Data Portal</a>). The original raw data was reprocessed with updated genome build and filtered to remove low confidence variant calls, and any common variants that had a gnomAD allele frequency (for any subpopulation) greater than or equal to 0.0005. (<a href=\"https://www.biorxiv.org/content/10.1101/2024.01.23.576977v1\">Recent preprint can be found here</a>).', groups='PUBLIC', importDate='2024-06-20 04:01:50', massSpectrometrySampleCount=None, methylationHm27SampleCount=None, miRnaSampleCount=None, mrnaMicroarraySampleCount=None, mrnaRnaSeqSampleCount=None, mrnaRnaSeqV2SampleCount=None, name='Nerve Sheath Tumors (Johns Hopkins, Sci Data 2020)', pmid='32561749', publicStudy=True, readPermission=True, referenceGenome='hg38', rppaSampleCount=None, sequencedSampleCount=None, status=0, studyId='nst_nfosi_ntap', treatmentCount=None),\n",
       " CancerStudy(allSampleCount=2260, cancerType=None, cancerTypeId='prostate', citation=None, cnaSampleCount=None, completeSampleCount=None, description='Targeted sequencing of 2257 prostate cancer patient samples and their matched normals via MSK-IMPACT platform.', groups='', importDate='2024-06-20 10:26:44', massSpectrometrySampleCount=None, methylationHm27SampleCount=None, miRnaSampleCount=None, mrnaMicroarraySampleCount=None, mrnaRnaSeqSampleCount=None, mrnaRnaSeqV2SampleCount=None, name='Prostate Cancer (MSK 2024)', pmid=None, publicStudy=True, readPermission=True, referenceGenome='hg19', rppaSampleCount=None, sequencedSampleCount=None, status=0, studyId='prostate_msk_2024', treatmentCount=None),\n",
       " CancerStudy(allSampleCount=788, cancerType=None, cancerTypeId='mixed', citation='Berlanga et al. Cancer Discov 2022', cnaSampleCount=None, completeSampleCount=None, description='Whole-exome sequencing of 674 pediatric matched normal samples on multiple pathologies driven on mappyacts program and gene fusions were identified by RNA Sequencing.', groups='', importDate='2024-06-21 12:01:30', massSpectrometrySampleCount=None, methylationHm27SampleCount=None, miRnaSampleCount=None, mrnaMicroarraySampleCount=None, mrnaRnaSeqSampleCount=None, mrnaRnaSeqV2SampleCount=None, name='Pediatric MAPPYACTS (Gustave Roussy, Cancer Discov 2022)', pmid='35292802', publicStudy=True, readPermission=True, referenceGenome='hg38', rppaSampleCount=None, sequencedSampleCount=None, status=0, studyId='pancan_mappyacts_2022', treatmentCount=None),\n",
       " CancerStudy(allSampleCount=25, cancerType=None, cancerTypeId='cscc', citation='Thind, Amarinder Singh et al. Front Oncol 2022', cnaSampleCount=None, completeSampleCount=None, description='Whole genome sequencing of 25 metastatic cutaneous squamous cell carcinoma and their matched normals. Generated by the Ranson Lab 2022.', groups='PUBLIC', importDate='2024-06-22 04:01:24', massSpectrometrySampleCount=None, methylationHm27SampleCount=None, miRnaSampleCount=None, mrnaMicroarraySampleCount=None, mrnaRnaSeqSampleCount=None, mrnaRnaSeqV2SampleCount=None, name='Cutaneous Squamous Cell Carcinoma (UOW, Front Oncol 2022)', pmid='35982973', publicStudy=True, readPermission=True, referenceGenome='hg38', rppaSampleCount=None, sequencedSampleCount=None, status=0, studyId='cscc_ranson_2022', treatmentCount=None),\n",
       " CancerStudy(allSampleCount=163, cancerType=None, cancerTypeId='brca', citation='Garcia-Recio et al. Nat Cancer 2023', cnaSampleCount=None, completeSampleCount=None, description='Retrospective Tissue Collection; an initiative of the Breast Cancer Research Foundation', groups='', importDate='2024-06-25 12:02:53', massSpectrometrySampleCount=None, methylationHm27SampleCount=None, miRnaSampleCount=None, mrnaMicroarraySampleCount=None, mrnaRnaSeqSampleCount=None, mrnaRnaSeqV2SampleCount=None, name='Metastatic Breast Cancer (AURORA US Network, Nat Cancer 2023)', pmid='36585450', publicStudy=True, readPermission=True, referenceGenome='hg38', rppaSampleCount=None, sequencedSampleCount=None, status=0, studyId='brca_aurora_2023', treatmentCount=None),\n",
       " CancerStudy(allSampleCount=339, cancerType=None, cancerTypeId='coadread', citation='Ganesh et al. Nat Med 2019', cnaSampleCount=None, completeSampleCount=None, description='MSK-IMPACT targeted sequencing of matched rectal cancer tumor and tumoroid samples.', groups='SELCUKLS;SAUVEC;ZHENGY1;SMITHJ5;PUBLIC;SANCHEZF', importDate='2024-06-28 04:01:50', massSpectrometrySampleCount=None, methylationHm27SampleCount=None, miRnaSampleCount=None, mrnaMicroarraySampleCount=None, mrnaRnaSeqSampleCount=None, mrnaRnaSeqV2SampleCount=None, name='Rectal Cancer (MSK,Nature Medicine 2019)', pmid='31591597', publicStudy=True, readPermission=True, referenceGenome='hg19', rppaSampleCount=None, sequencedSampleCount=None, status=0, studyId='rectal_msk_2019', treatmentCount=None),\n",
       " CancerStudy(allSampleCount=44, cancerType=None, cancerTypeId='ucec', citation='Ashley et al. Clin Cancer Res 2023', cnaSampleCount=None, completeSampleCount=None, description='High-sensitivity mutation analysis of cell-free DNA for disease monitoring in endometrial cancer.', groups='', importDate='2024-06-28 04:04:45', massSpectrometrySampleCount=None, methylationHm27SampleCount=None, miRnaSampleCount=None, mrnaMicroarraySampleCount=None, mrnaRnaSeqSampleCount=None, mrnaRnaSeqV2SampleCount=None, name='Endometrial Carcinoma cfDNA (MSK, Clin Cancer Res 2022)', pmid='36007103', publicStudy=True, readPermission=True, referenceGenome='hg19', rppaSampleCount=None, sequencedSampleCount=None, status=0, studyId='ucec_ccr_cfdna_msk_2022', treatmentCount=None),\n",
       " CancerStudy(allSampleCount=42714, cancerType=None, cancerTypeId='mixed', citation='Stonestrom et al. Blood Adv 2024', cnaSampleCount=None, completeSampleCount=None, description='Targeted sequencing of 47,532 patient samples with mixed tumor types and their matched normals to identify clonal hematopoiesis mutations using MSK-IMPACT.', groups='', importDate='2024-06-28 04:07:35', massSpectrometrySampleCount=None, methylationHm27SampleCount=None, miRnaSampleCount=None, mrnaMicroarraySampleCount=None, mrnaRnaSeqSampleCount=None, mrnaRnaSeqV2SampleCount=None, name='Cancer Therapy and Clonal Hematopoiesis (MSK, Blood Adv 2023)', pmid='38147626', publicStudy=True, readPermission=True, referenceGenome='hg19', rppaSampleCount=None, sequencedSampleCount=None, status=0, studyId='msk_ch_2023', treatmentCount=None),\n",
       " CancerStudy(allSampleCount=305, cancerType=None, cancerTypeId='luad', citation='Chen et al. Nat Genet 2020', cnaSampleCount=None, completeSampleCount=None, description='Whole-exome and transcriptome sequencing of 305 east asian lung adenocarcinomas with matched normals. Courtesy of <a href=\"https://src.gisapps.org/OncoSG/\">OncoSG</a>. Lung Cancer Consortium Singapore (LCCS).', groups='', importDate='2024-06-28 12:01:53', massSpectrometrySampleCount=None, methylationHm27SampleCount=None, miRnaSampleCount=None, mrnaMicroarraySampleCount=None, mrnaRnaSeqSampleCount=None, mrnaRnaSeqV2SampleCount=None, name='Lung Adenocarcinoma (OncoSG, Nat Genet 2020)', pmid='32015526', publicStudy=True, readPermission=True, referenceGenome='hg19', rppaSampleCount=None, sequencedSampleCount=None, status=0, studyId='luad_oncosg_2020', treatmentCount=None),\n",
       " CancerStudy(allSampleCount=19, cancerType=None, cancerTypeId='mixed', citation='Setton et al. NPJ Breast Cancer 2021', cnaSampleCount=None, completeSampleCount=None, description='Targeted sequencing of 19 samples with germline RAD51B loss-of-function variants conferring susceptibility to hereditary breast and ovarian cancers and result in homologous recombination-deficient tumors', groups='', importDate='2024-07-03 12:01:49', massSpectrometrySampleCount=None, methylationHm27SampleCount=None, miRnaSampleCount=None, mrnaMicroarraySampleCount=None, mrnaRnaSeqSampleCount=None, mrnaRnaSeqV2SampleCount=None, name='RAD51B Associated Mixed Cancers (MSK, NPJ 2021)', pmid='34635660', publicStudy=True, readPermission=True, referenceGenome='hg19', rppaSampleCount=None, sequencedSampleCount=None, status=0, studyId='mixed_msk_tcga_2021', treatmentCount=None),\n",
       " CancerStudy(allSampleCount=469, cancerType=None, cancerTypeId='gist', citation='Dermawan et al. Clin Cancer Res 2023', cnaSampleCount=None, completeSampleCount=None, description='Targeted sequencing of 469 gastrointestinal stromal tumors and their matched normals via MSK-IMPACT.', groups='', importDate='2024-07-03 12:03:26', massSpectrometrySampleCount=None, methylationHm27SampleCount=None, miRnaSampleCount=None, mrnaMicroarraySampleCount=None, mrnaRnaSeqSampleCount=None, mrnaRnaSeqV2SampleCount=None, name='Gastrointestinal Stromal Tumors (MSK, Clin Cancer Res 2023)', pmid='37477937', publicStudy=True, readPermission=True, referenceGenome='hg19', rppaSampleCount=None, sequencedSampleCount=None, status=0, studyId='gist_msk_2023', treatmentCount=None),\n",
       " CancerStudy(allSampleCount=65, cancerType=None, cancerTypeId='pancreas', citation=None, cnaSampleCount=None, completeSampleCount=None, description='Targeted sequencing of 65 Pancreatic Neuroendocrine tumors/normal pairs via MSK-IMPACT.', groups='', importDate='2024-07-03 12:05:23', massSpectrometrySampleCount=None, methylationHm27SampleCount=None, miRnaSampleCount=None, mrnaMicroarraySampleCount=None, mrnaRnaSeqSampleCount=None, mrnaRnaSeqV2SampleCount=None, name='Pancreatic Neuroendocrine Tumors (MSK, 2023)', pmid=None, publicStudy=True, readPermission=True, referenceGenome='hg19', rppaSampleCount=None, sequencedSampleCount=None, status=0, studyId='panet_msk_erc_2023', treatmentCount=None),\n",
       " CancerStudy(allSampleCount=86, cancerType=None, cancerTypeId='pcnsl', citation=None, cnaSampleCount=None, completeSampleCount=None, description='A Phase II study assessing Long-Term Response to Ibrutinib Monotherapy in recurrent or refractory CNS Lymphoma.', groups='', importDate='2024-07-08 12:01:20', massSpectrometrySampleCount=None, methylationHm27SampleCount=None, miRnaSampleCount=None, mrnaMicroarraySampleCount=None, mrnaRnaSeqSampleCount=None, mrnaRnaSeqV2SampleCount=None, name='Primary CNS Lymphoma - Ibrutinib Long Term Follow Up (MSK, 2024)', pmid=None, publicStudy=True, readPermission=True, referenceGenome='hg19', rppaSampleCount=None, sequencedSampleCount=None, status=0, studyId='pcnsl_msk_2024', treatmentCount=None),\n",
       " CancerStudy(allSampleCount=92, cancerType=None, cancerTypeId='acc', citation='TCGA, Cell 2018', cnaSampleCount=None, completeSampleCount=None, description='Adrenocortical Carcinoma TCGA PanCancer data. The original data is <a href=\"https://gdc.cancer.gov/about-data/publications/pancanatlas\">here</a>. The publications are <a href=\"https://www.cell.com/pb-assets/consortium/pancanceratlas/pancani3/index.html\">here</a>.', groups='PUBLIC;PANCAN', importDate='2024-07-10 04:03:47', massSpectrometrySampleCount=None, methylationHm27SampleCount=None, miRnaSampleCount=None, mrnaMicroarraySampleCount=None, mrnaRnaSeqSampleCount=None, mrnaRnaSeqV2SampleCount=None, name='Adrenocortical Carcinoma (TCGA, PanCancer Atlas)', pmid='29625048,29596782,29622463,29617662,29625055,29625050,29617662,32214244,29625049,29850653', publicStudy=True, readPermission=True, referenceGenome='hg19', rppaSampleCount=None, sequencedSampleCount=None, status=0, studyId='acc_tcga_pan_can_atlas_2018', treatmentCount=None),\n",
       " CancerStudy(allSampleCount=411, cancerType=None, cancerTypeId='blca', citation='TCGA, Cell 2018', cnaSampleCount=None, completeSampleCount=None, description='Bladder Urothelial Carcinoma TCGA PanCancer data. The original data is <a href=\"https://gdc.cancer.gov/about-data/publications/pancanatlas\">here</a>. The publications are <a href=\"https://www.cell.com/pb-assets/consortium/pancanceratlas/pancani3/index.html\">here</a>.', groups='PUBLIC;PANCAN', importDate='2024-07-10 04:11:18', massSpectrometrySampleCount=None, methylationHm27SampleCount=None, miRnaSampleCount=None, mrnaMicroarraySampleCount=None, mrnaRnaSeqSampleCount=None, mrnaRnaSeqV2SampleCount=None, name='Bladder Urothelial Carcinoma (TCGA, PanCancer Atlas)', pmid='29625048,29596782,29622463,29617662,29625055,29625050,29617662,32214244,29625049,29850653', publicStudy=True, readPermission=True, referenceGenome='hg19', rppaSampleCount=None, sequencedSampleCount=None, status=0, studyId='blca_tcga_pan_can_atlas_2018', treatmentCount=None),\n",
       " CancerStudy(allSampleCount=1084, cancerType=None, cancerTypeId='brca', citation='TCGA, Cell 2018', cnaSampleCount=None, completeSampleCount=None, description='Breast Invasive Carcinoma TCGA PanCancer data. The original data is <a href=\"https://gdc.cancer.gov/about-data/publications/pancanatlas\">here</a>. The publications are <a href=\"https://www.cell.com/pb-assets/consortium/pancanceratlas/pancani3/index.html\">here</a>.', groups='PUBLIC;PANCAN', importDate='2024-07-10 04:36:55', massSpectrometrySampleCount=None, methylationHm27SampleCount=None, miRnaSampleCount=None, mrnaMicroarraySampleCount=None, mrnaRnaSeqSampleCount=None, mrnaRnaSeqV2SampleCount=None, name='Breast Invasive Carcinoma (TCGA, PanCancer Atlas)', pmid='29625048,29596782,29622463,29617662,29625055,29625050,29617662,30643250,32214244,29625049,29850653', publicStudy=True, readPermission=True, referenceGenome='hg19', rppaSampleCount=None, sequencedSampleCount=None, status=0, studyId='brca_tcga_pan_can_atlas_2018', treatmentCount=None),\n",
       " CancerStudy(allSampleCount=297, cancerType=None, cancerTypeId='cesc', citation='TCGA, Cell 2018', cnaSampleCount=None, completeSampleCount=None, description='Cervical Squamous Cell Carcinoma TCGA PanCancer data. The original data is <a href=\"https://gdc.cancer.gov/about-data/publications/pancanatlas\">here</a>. The publications are <a href=\"https://www.cell.com/pb-assets/consortium/pancanceratlas/pancani3/index.html\">here</a>.', groups='PUBLIC;PANCAN', importDate='2024-07-10 05:01:13', massSpectrometrySampleCount=None, methylationHm27SampleCount=None, miRnaSampleCount=None, mrnaMicroarraySampleCount=None, mrnaRnaSeqSampleCount=None, mrnaRnaSeqV2SampleCount=None, name='Cervical Squamous Cell Carcinoma (TCGA, PanCancer Atlas)', pmid='29625048,29596782,29622463,29617662,29625055,29625050,29617662,30643250,32214244,29625049,29850653', publicStudy=True, readPermission=True, referenceGenome='hg19', rppaSampleCount=None, sequencedSampleCount=None, status=0, studyId='cesc_tcga_pan_can_atlas_2018', treatmentCount=None),\n",
       " CancerStudy(allSampleCount=36, cancerType=None, cancerTypeId='chol', citation='TCGA, Cell 2018', cnaSampleCount=None, completeSampleCount=None, description='Cholangiocarcinoma TCGA PanCancer data. The original data is <a href=\"https://gdc.cancer.gov/about-data/publications/pancanatlas\">here</a>. The publications are <a href=\"https://www.cell.com/pb-assets/consortium/pancanceratlas/pancani3/index.html\">here</a>.', groups='PUBLIC;PANCAN', importDate='2024-07-10 05:19:30', massSpectrometrySampleCount=None, methylationHm27SampleCount=None, miRnaSampleCount=None, mrnaMicroarraySampleCount=None, mrnaRnaSeqSampleCount=None, mrnaRnaSeqV2SampleCount=None, name='Cholangiocarcinoma (TCGA, PanCancer Atlas)', pmid='29625048,29596782,29622463,29617662,29625055,29625050,29617662,32214244,29625049,29850653', publicStudy=True, readPermission=True, referenceGenome='hg19', rppaSampleCount=None, sequencedSampleCount=None, status=0, studyId='chol_tcga_pan_can_atlas_2018', treatmentCount=None),\n",
       " CancerStudy(allSampleCount=48, cancerType=None, cancerTypeId='dlbclnos', citation='TCGA, Cell 2018', cnaSampleCount=None, completeSampleCount=None, description='Diffuse Large B-Cell Lymphoma TCGA PanCancer data. The original data is <a href=\"https://gdc.cancer.gov/about-data/publications/pancanatlas\">here</a>. The publications are <a href=\"https://www.cell.com/pb-assets/consortium/pancanceratlas/pancani3/index.html\">here</a>.', groups='PUBLIC;PANCAN', importDate='2024-07-10 05:23:39', massSpectrometrySampleCount=None, methylationHm27SampleCount=None, miRnaSampleCount=None, mrnaMicroarraySampleCount=None, mrnaRnaSeqSampleCount=None, mrnaRnaSeqV2SampleCount=None, name='Diffuse Large B-Cell Lymphoma (TCGA, PanCancer Atlas)', pmid='29625048,29596782,29622463,29617662,29625055,29625050,29617662,32214244,29625049,29850653', publicStudy=True, readPermission=True, referenceGenome='hg19', rppaSampleCount=None, sequencedSampleCount=None, status=0, studyId='dlbc_tcga_pan_can_atlas_2018', treatmentCount=None),\n",
       " CancerStudy(allSampleCount=182, cancerType=None, cancerTypeId='esca', citation='TCGA, Cell 2018', cnaSampleCount=None, completeSampleCount=None, description='Esophageal Adenocarcinoma TCGA PanCancer data. The original data is <a href=\"https://gdc.cancer.gov/about-data/publications/pancanatlas\">here</a>. The publications are <a href=\"https://www.cell.com/pb-assets/consortium/pancanceratlas/pancani3/index.html\">here</a>.', groups='PUBLIC;PANCAN', importDate='2024-07-10 05:28:52', massSpectrometrySampleCount=None, methylationHm27SampleCount=None, miRnaSampleCount=None, mrnaMicroarraySampleCount=None, mrnaRnaSeqSampleCount=None, mrnaRnaSeqV2SampleCount=None, name='Esophageal Adenocarcinoma (TCGA, PanCancer Atlas)', pmid='29625048,29596782,29622463,29617662,29625055,29625050,29617662,32214244,29625049,29850653', publicStudy=True, readPermission=True, referenceGenome='hg19', rppaSampleCount=None, sequencedSampleCount=None, status=0, studyId='esca_tcga_pan_can_atlas_2018', treatmentCount=None),\n",
       " CancerStudy(allSampleCount=592, cancerType=None, cancerTypeId='gbm', citation='TCGA, Cell 2018', cnaSampleCount=None, completeSampleCount=None, description='Glioblastoma Multiforme TCGA PanCancer data. The original data is <a href=\"https://gdc.cancer.gov/about-data/publications/pancanatlas\">here</a>. The publications are <a href=\"https://www.cell.com/pb-assets/consortium/pancanceratlas/pancani3/index.html\">here</a>.', groups='PUBLIC;PANCAN', importDate='2024-07-10 05:38:49', massSpectrometrySampleCount=None, methylationHm27SampleCount=None, miRnaSampleCount=None, mrnaMicroarraySampleCount=None, mrnaRnaSeqSampleCount=None, mrnaRnaSeqV2SampleCount=None, name='Glioblastoma Multiforme (TCGA, PanCancer Atlas)', pmid='29625048,29596782,29622463,29617662,29625055,29625050,29617662,30643250,32214244,29625049,29850653', publicStudy=True, readPermission=True, referenceGenome='hg19', rppaSampleCount=None, sequencedSampleCount=None, status=0, studyId='gbm_tcga_pan_can_atlas_2018', treatmentCount=None),\n",
       " CancerStudy(allSampleCount=523, cancerType=None, cancerTypeId='hnsc', citation='TCGA, Cell 2018', cnaSampleCount=None, completeSampleCount=None, description='Head and Neck Squamous Cell Carcinoma TCGA PanCancer data. The original data is <a href=\"https://gdc.cancer.gov/about-data/publications/pancanatlas\">here</a>. The publications are <a href=\"https://www.cell.com/pb-assets/consortium/pancanceratlas/pancani3/index.html\">here</a>.', groups='PUBLIC;PANCAN', importDate='2024-07-10 05:48:41', massSpectrometrySampleCount=None, methylationHm27SampleCount=None, miRnaSampleCount=None, mrnaMicroarraySampleCount=None, mrnaRnaSeqSampleCount=None, mrnaRnaSeqV2SampleCount=None, name='Head and Neck Squamous Cell Carcinoma (TCGA, PanCancer Atlas)', pmid='29625048,29596782,29622463,29617662,29625055,29625050,29617662,30643250,32214244,29625049,29850653', publicStudy=True, readPermission=True, referenceGenome='hg19', rppaSampleCount=None, sequencedSampleCount=None, status=0, studyId='hnsc_tcga_pan_can_atlas_2018', treatmentCount=None),\n",
       " CancerStudy(allSampleCount=2922, cancerType=None, cancerTypeId='mixed', citation='Campbell et al. Nature 2020', cnaSampleCount=None, completeSampleCount=None, description='WGS changes cataloged in 2,583 whole-cancer genomes and their matched normal tissues across 38 tumor types. Source data from <A HREF=\"https://xenabrowser.net/datapages/?cohort=PCAWG%20(specimen%20centric)&addHub=https%3A%2F%2Fpcawg.xenahubs.net&removeHub=https%3A%2F%2Fxena.treehouse.gi.ucsc.edu%3A443\">UCSC Xena</A> and <A HREF=\"https://dcc.icgc.org/releases/PCAWG/\">ICGC Data Portal</A>.', groups='', importDate='2024-07-10 12:02:54', massSpectrometrySampleCount=None, methylationHm27SampleCount=None, miRnaSampleCount=None, mrnaMicroarraySampleCount=None, mrnaRnaSeqSampleCount=None, mrnaRnaSeqV2SampleCount=None, name='Pan-cancer analysis of whole genomes (ICGC/TCGA, Nature 2020)', pmid='32025007', publicStudy=True, readPermission=True, referenceGenome='hg19', rppaSampleCount=None, sequencedSampleCount=None, status=0, studyId='pancan_pcawg_2020', treatmentCount=None),\n",
       " CancerStudy(allSampleCount=594, cancerType=None, cancerTypeId='coadread', citation='TCGA, Cell 2018', cnaSampleCount=None, completeSampleCount=None, description='Colorectal Adenocarcinoma TCGA PanCancer data. The original data is <a href=\"https://gdc.cancer.gov/about-data/publications/pancanatlas\">here</a>. The publications are <a href=\"https://www.cell.com/pb-assets/consortium/pancanceratlas/pancani3/index.html\">here</a>.', groups='PUBLIC;PANCAN', importDate='2024-07-11 04:04:59', massSpectrometrySampleCount=None, methylationHm27SampleCount=None, miRnaSampleCount=None, mrnaMicroarraySampleCount=None, mrnaRnaSeqSampleCount=None, mrnaRnaSeqV2SampleCount=None, name='Colorectal Adenocarcinoma (TCGA, PanCancer Atlas)', pmid='29625048,29596782,29622463,29617662,29625055,29625050,29617662,30643250,32214244,29625049,29850653', publicStudy=True, readPermission=True, referenceGenome='hg19', rppaSampleCount=None, sequencedSampleCount=None, status=0, studyId='coadread_tcga_pan_can_atlas_2018', treatmentCount=None),\n",
       " CancerStudy(allSampleCount=65, cancerType=None, cancerTypeId='chrcc', citation='TCGA, Cell 2018', cnaSampleCount=None, completeSampleCount=None, description='Kidney Chromophobe TCGA PanCancer data. The original data is <a href=\"https://gdc.cancer.gov/about-data/publications/pancanatlas\">here</a>. The publications are <a href=\"https://www.cell.com/pb-assets/consortium/pancanceratlas/pancani3/index.html\">here</a>.', groups='PUBLIC;PANCAN', importDate='2024-07-11 04:29:03', massSpectrometrySampleCount=None, methylationHm27SampleCount=None, miRnaSampleCount=None, mrnaMicroarraySampleCount=None, mrnaRnaSeqSampleCount=None, mrnaRnaSeqV2SampleCount=None, name='Kidney Chromophobe (TCGA, PanCancer Atlas)', pmid='29625048,29596782,29622463,29617662,29625055,29625050,29617662,32214244,29625049,29850653', publicStudy=True, readPermission=True, referenceGenome='hg19', rppaSampleCount=None, sequencedSampleCount=None, status=0, studyId='kich_tcga_pan_can_atlas_2018', treatmentCount=None),\n",
       " CancerStudy(allSampleCount=512, cancerType=None, cancerTypeId='ccrcc', citation='TCGA, Cell 2018', cnaSampleCount=None, completeSampleCount=None, description='Kidney Renal Clear Cell Carcinoma TCGA PanCancer data. The original data is <a href=\"https://gdc.cancer.gov/about-data/publications/pancanatlas\">here</a>. The publications are <a href=\"https://www.cell.com/pb-assets/consortium/pancanceratlas/pancani3/index.html\">here</a>.', groups='PUBLIC;PANCAN', importDate='2024-07-11 04:33:31', massSpectrometrySampleCount=None, methylationHm27SampleCount=None, miRnaSampleCount=None, mrnaMicroarraySampleCount=None, mrnaRnaSeqSampleCount=None, mrnaRnaSeqV2SampleCount=None, name='Kidney Renal Clear Cell Carcinoma (TCGA, PanCancer Atlas)', pmid='29625048,29596782,29622463,29617662,29625055,29625050,29617662,30643250,32214244,29625049,29850653', publicStudy=True, readPermission=True, referenceGenome='hg19', rppaSampleCount=None, sequencedSampleCount=None, status=0, studyId='kirc_tcga_pan_can_atlas_2018', treatmentCount=None),\n",
       " CancerStudy(allSampleCount=283, cancerType=None, cancerTypeId='prcc', citation='TCGA, Cell 2018', cnaSampleCount=None, completeSampleCount=None, description='Kidney Renal Papillary Cell Carcinoma TCGA PanCancer data. The original data is <a href=\"https://gdc.cancer.gov/about-data/publications/pancanatlas\">here</a>. The publications are <a href=\"https://www.cell.com/pb-assets/consortium/pancanceratlas/pancani3/index.html\">here</a>.', groups='PUBLIC;PANCAN', importDate='2024-07-11 04:42:41', massSpectrometrySampleCount=None, methylationHm27SampleCount=None, miRnaSampleCount=None, mrnaMicroarraySampleCount=None, mrnaRnaSeqSampleCount=None, mrnaRnaSeqV2SampleCount=None, name='Kidney Renal Papillary Cell Carcinoma (TCGA, PanCancer Atlas)', pmid='29625048,29596782,29622463,29617662,29625055,29625050,29617662,30643250,32214244,29625049,29850653', publicStudy=True, readPermission=True, referenceGenome='hg19', rppaSampleCount=None, sequencedSampleCount=None, status=0, studyId='kirp_tcga_pan_can_atlas_2018', treatmentCount=None),\n",
       " CancerStudy(allSampleCount=200, cancerType=None, cancerTypeId='aml', citation='TCGA, Cell 2018', cnaSampleCount=None, completeSampleCount=None, description='Acute Myeloid Leukemia TCGA PanCancer data. The original data is <a href=\"https://gdc.cancer.gov/about-data/publications/pancanatlas\">here</a>. The publications are <a href=\"https://www.cell.com/pb-assets/consortium/pancanceratlas/pancani3/index.html\">here</a>.', groups='PUBLIC;PANCAN', importDate='2024-07-11 04:49:57', massSpectrometrySampleCount=None, methylationHm27SampleCount=None, miRnaSampleCount=None, mrnaMicroarraySampleCount=None, mrnaRnaSeqSampleCount=None, mrnaRnaSeqV2SampleCount=None, name='Acute Myeloid Leukemia (TCGA, PanCancer Atlas)', pmid='29625048,29596782,29622463,29617662,29625055,29625050,29617662,32214244,29625049,29850653', publicStudy=True, readPermission=True, referenceGenome='hg19', rppaSampleCount=None, sequencedSampleCount=None, status=0, studyId='laml_tcga_pan_can_atlas_2018', treatmentCount=None),\n",
       " CancerStudy(allSampleCount=514, cancerType=None, cancerTypeId='difg', citation='TCGA, Cell 2018', cnaSampleCount=None, completeSampleCount=None, description='Brain Lower Grade Glioma TCGA PanCancer data. The original data is <a href=\"https://gdc.cancer.gov/about-data/publications/pancanatlas\">here</a>. The publications are <a href=\"https://www.cell.com/pb-assets/consortium/pancanceratlas/pancani3/index.html\">here</a>.', groups='PUBLIC;PANCAN', importDate='2024-07-11 04:54:48', massSpectrometrySampleCount=None, methylationHm27SampleCount=None, miRnaSampleCount=None, mrnaMicroarraySampleCount=None, mrnaRnaSeqSampleCount=None, mrnaRnaSeqV2SampleCount=None, name='Brain Lower Grade Glioma (TCGA, PanCancer Atlas)', pmid='29625048,29596782,29622463,29617662,29625055,29625050,29617662,30643250,32214244,29625049,29850653', publicStudy=True, readPermission=True, referenceGenome='hg19', rppaSampleCount=None, sequencedSampleCount=None, status=0, studyId='lgg_tcga_pan_can_atlas_2018', treatmentCount=None),\n",
       " CancerStudy(allSampleCount=372, cancerType=None, cancerTypeId='hcc', citation='TCGA, Cell 2018', cnaSampleCount=None, completeSampleCount=None, description='Liver Hepatocellular Carcinoma TCGA PanCancer data. The original data is <a href=\"https://gdc.cancer.gov/about-data/publications/pancanatlas\">here</a>. The publications are <a href=\"https://www.cell.com/pb-assets/consortium/pancanceratlas/pancani3/index.html\">here</a>.', groups='PUBLIC;PANCAN', importDate='2024-07-11 05:06:30', massSpectrometrySampleCount=None, methylationHm27SampleCount=None, miRnaSampleCount=None, mrnaMicroarraySampleCount=None, mrnaRnaSeqSampleCount=None, mrnaRnaSeqV2SampleCount=None, name='Liver Hepatocellular Carcinoma (TCGA, PanCancer Atlas)', pmid='29625048,29596782,29622463,29617662,29625055,29625050,29617662,30643250,32214244,29625049,29850653', publicStudy=True, readPermission=True, referenceGenome='hg19', rppaSampleCount=None, sequencedSampleCount=None, status=0, studyId='lihc_tcga_pan_can_atlas_2018', treatmentCount=None),\n",
       " CancerStudy(allSampleCount=566, cancerType=None, cancerTypeId='luad', citation='TCGA, Cell 2018', cnaSampleCount=None, completeSampleCount=None, description='Lung Adenocarcinoma TCGA PanCancer data. The original data is <a href=\"https://gdc.cancer.gov/about-data/publications/pancanatlas\">here</a>. The publications are <a href=\"https://www.cell.com/pb-assets/consortium/pancanceratlas/pancani3/index.html\">here</a>.', groups='PUBLIC;PANCAN', importDate='2024-07-11 05:20:01', massSpectrometrySampleCount=None, methylationHm27SampleCount=None, miRnaSampleCount=None, mrnaMicroarraySampleCount=None, mrnaRnaSeqSampleCount=None, mrnaRnaSeqV2SampleCount=None, name='Lung Adenocarcinoma (TCGA, PanCancer Atlas)', pmid='29625048,29596782,29622463,29617662,29625055,29625050,29617662,30643250,32214244,29625049,29850653', publicStudy=True, readPermission=True, referenceGenome='hg19', rppaSampleCount=None, sequencedSampleCount=None, status=0, studyId='luad_tcga_pan_can_atlas_2018', treatmentCount=None),\n",
       " CancerStudy(allSampleCount=487, cancerType=None, cancerTypeId='lusc', citation='TCGA, Cell 2018', cnaSampleCount=None, completeSampleCount=None, description='Lung Squamous Cell Carcinoma TCGA PanCancer data. The original data is <a href=\"https://gdc.cancer.gov/about-data/publications/pancanatlas\">here</a>. The publications are <a href=\"https://www.cell.com/pb-assets/consortium/pancanceratlas/pancani3/index.html\">here</a>.', groups='PUBLIC;PANCAN', importDate='2024-07-11 05:46:50', massSpectrometrySampleCount=None, methylationHm27SampleCount=None, miRnaSampleCount=None, mrnaMicroarraySampleCount=None, mrnaRnaSeqSampleCount=None, mrnaRnaSeqV2SampleCount=None, name='Lung Squamous Cell Carcinoma (TCGA, PanCancer Atlas)', pmid='29625048,29596782,29622463,29617662,29625055,29625050,29617662,30643250,32214244,29625049,29850653', publicStudy=True, readPermission=True, referenceGenome='hg19', rppaSampleCount=None, sequencedSampleCount=None, status=0, studyId='lusc_tcga_pan_can_atlas_2018', treatmentCount=None),\n",
       " CancerStudy(allSampleCount=87, cancerType=None, cancerTypeId='plmeso', citation='TCGA, Cell 2018', cnaSampleCount=None, completeSampleCount=None, description='Mesothelioma TCGA PanCancer data. The original data is <a href=\"https://gdc.cancer.gov/about-data/publications/pancanatlas\">here</a>. The publications are <a href=\"https://www.cell.com/pb-assets/consortium/pancanceratlas/pancani3/index.html\">here</a>.', groups='PUBLIC;PANCAN', importDate='2024-07-11 06:10:55', massSpectrometrySampleCount=None, methylationHm27SampleCount=None, miRnaSampleCount=None, mrnaMicroarraySampleCount=None, mrnaRnaSeqSampleCount=None, mrnaRnaSeqV2SampleCount=None, name='Mesothelioma (TCGA, PanCancer Atlas)', pmid='29625048,29596782,29622463,29617662,29625055,29625050,29617662,32214244,29625049,29850653', publicStudy=True, readPermission=True, referenceGenome='hg19', rppaSampleCount=None, sequencedSampleCount=None, status=0, studyId='meso_tcga_pan_can_atlas_2018', treatmentCount=None),\n",
       " CancerStudy(allSampleCount=585, cancerType=None, cancerTypeId='hgsoc', citation='TCGA, Cell 2018', cnaSampleCount=None, completeSampleCount=None, description='Ovarian Serous Cystadenocarcinoma TCGA PanCancer data. The original data is <a href=\"https://gdc.cancer.gov/about-data/publications/pancanatlas\">here</a>. The publications are <a href=\"https://www.cell.com/pb-assets/consortium/pancanceratlas/pancani3/index.html\">here</a>.', groups='PUBLIC;PANCAN', importDate='2024-07-11 06:17:16', massSpectrometrySampleCount=None, methylationHm27SampleCount=None, miRnaSampleCount=None, mrnaMicroarraySampleCount=None, mrnaRnaSeqSampleCount=None, mrnaRnaSeqV2SampleCount=None, name='Ovarian Serous Cystadenocarcinoma (TCGA, PanCancer Atlas)', pmid='29625048,29596782,29622463,29617662,29625055,29625050,29617662,30643250,32214244,29625049,29850653', publicStudy=True, readPermission=True, referenceGenome='hg19', rppaSampleCount=None, sequencedSampleCount=None, status=0, studyId='ov_tcga_pan_can_atlas_2018', treatmentCount=None),\n",
       " CancerStudy(allSampleCount=184, cancerType=None, cancerTypeId='paad', citation='TCGA, Cell 2018', cnaSampleCount=None, completeSampleCount=None, description='Pancreatic Adenocarcinoma TCGA PanCancer data. The original data is <a href=\"https://gdc.cancer.gov/about-data/publications/pancanatlas\">here</a>. The publications are <a href=\"https://www.cell.com/pb-assets/consortium/pancanceratlas/pancani3/index.html\">here</a>.', groups='PUBLIC;PANCAN', importDate='2024-07-11 12:03:44', massSpectrometrySampleCount=None, methylationHm27SampleCount=None, miRnaSampleCount=None, mrnaMicroarraySampleCount=None, mrnaRnaSeqSampleCount=None, mrnaRnaSeqV2SampleCount=None, name='Pancreatic Adenocarcinoma (TCGA, PanCancer Atlas)', pmid='29625048,29596782,29622463,29617662,29625055,29625050,29617662,30643250,32214244,29625049,29850653', publicStudy=True, readPermission=True, referenceGenome='hg19', rppaSampleCount=None, sequencedSampleCount=None, status=0, studyId='paad_tcga_pan_can_atlas_2018', treatmentCount=None),\n",
       " CancerStudy(allSampleCount=178, cancerType=None, cancerTypeId='soft_tissue', citation='TCGA, Cell 2018', cnaSampleCount=None, completeSampleCount=None, description='Pheochromocytoma and Paraganglioma TCGA PanCancer data. The original data is <a href=\"https://gdc.cancer.gov/about-data/publications/pancanatlas\">here</a>. The publications are <a href=\"https://www.cell.com/pb-assets/consortium/pancanceratlas/pancani3/index.html\">here</a>.', groups='PUBLIC;PANCAN', importDate='2024-07-11 12:12:11', massSpectrometrySampleCount=None, methylationHm27SampleCount=None, miRnaSampleCount=None, mrnaMicroarraySampleCount=None, mrnaRnaSeqSampleCount=None, mrnaRnaSeqV2SampleCount=None, name='Pheochromocytoma and Paraganglioma (TCGA, PanCancer Atlas)', pmid='29625048,29596782,29622463,29617662,29625055,29625050,29617662,30643250,32214244,29625049,29850653', publicStudy=True, readPermission=True, referenceGenome='hg19', rppaSampleCount=None, sequencedSampleCount=None, status=0, studyId='pcpg_tcga_pan_can_atlas_2018', treatmentCount=None),\n",
       " CancerStudy(allSampleCount=494, cancerType=None, cancerTypeId='prad', citation='TCGA, Cell 2018', cnaSampleCount=None, completeSampleCount=None, description='Prostate Adenocarcinoma TCGA PanCancer data. The original data is <a href=\"https://gdc.cancer.gov/about-data/publications/pancanatlas\">here</a>. The publications are <a href=\"https://www.cell.com/pb-assets/consortium/pancanceratlas/pancani3/index.html\">here</a>.', groups='PUBLIC;PANCAN', importDate='2024-07-11 12:17:27', massSpectrometrySampleCount=None, methylationHm27SampleCount=None, miRnaSampleCount=None, mrnaMicroarraySampleCount=None, mrnaRnaSeqSampleCount=None, mrnaRnaSeqV2SampleCount=None, name='Prostate Adenocarcinoma (TCGA, PanCancer Atlas)', pmid='29625048,29596782,29622463,29617662,29625055,29625050,29617662,30643250,32214244,29625049,29850653', publicStudy=True, readPermission=True, referenceGenome='hg19', rppaSampleCount=None, sequencedSampleCount=None, status=0, studyId='prad_tcga_pan_can_atlas_2018', treatmentCount=None),\n",
       " CancerStudy(allSampleCount=255, cancerType=None, cancerTypeId='soft_tissue', citation='TCGA, Cell 2018', cnaSampleCount=None, completeSampleCount=None, description='Sarcoma TCGA PanCancer data. The original data is <a href=\"https://gdc.cancer.gov/about-data/publications/pancanatlas\">here</a>. The publications are <a href=\"https://www.cell.com/pb-assets/consortium/pancanceratlas/pancani3/index.html\">here</a>.', groups='PUBLIC;PANCAN', importDate='2024-07-11 12:31:59', massSpectrometrySampleCount=None, methylationHm27SampleCount=None, miRnaSampleCount=None, mrnaMicroarraySampleCount=None, mrnaRnaSeqSampleCount=None, mrnaRnaSeqV2SampleCount=None, name='Sarcoma (TCGA, PanCancer Atlas)', pmid='29625048,29596782,29622463,29617662,29625055,29625050,29617662,32214244,29625049,29850653', publicStudy=True, readPermission=True, referenceGenome='hg19', rppaSampleCount=None, sequencedSampleCount=None, status=0, studyId='sarc_tcga_pan_can_atlas_2018', treatmentCount=None),\n",
       " CancerStudy(allSampleCount=448, cancerType=None, cancerTypeId='skcm', citation='TCGA, Cell 2018', cnaSampleCount=None, completeSampleCount=None, description='Skin Cutaneous Melanoma TCGA PanCancer data. The original data is <a href=\"https://gdc.cancer.gov/about-data/publications/pancanatlas\">here</a>. The publications are <a href=\"https://www.cell.com/pb-assets/consortium/pancanceratlas/pancani3/index.html\">here</a>.', groups='PUBLIC;PANCAN', importDate='2024-07-11 12:49:16', massSpectrometrySampleCount=None, methylationHm27SampleCount=None, miRnaSampleCount=None, mrnaMicroarraySampleCount=None, mrnaRnaSeqSampleCount=None, mrnaRnaSeqV2SampleCount=None, name='Skin Cutaneous Melanoma (TCGA, PanCancer Atlas)', pmid='29625048,29596782,29622463,29617662,29625055,29625050,29617662,30643250,32214244,29625049,29850653', publicStudy=True, readPermission=True, referenceGenome='hg19', rppaSampleCount=None, sequencedSampleCount=None, status=0, studyId='skcm_tcga_pan_can_atlas_2018', treatmentCount=None),\n",
       " CancerStudy(allSampleCount=440, cancerType=None, cancerTypeId='stad', citation='TCGA, Cell 2018', cnaSampleCount=None, completeSampleCount=None, description='Stomach Adenocarcinoma TCGA PanCancer data. The original data is <a href=\"https://gdc.cancer.gov/about-data/publications/pancanatlas\">here</a>. The publications are <a href=\"https://www.cell.com/pb-assets/consortium/pancanceratlas/pancani3/index.html\">here</a>.', groups='PUBLIC;PANCAN', importDate='2024-07-11 13:15:12', massSpectrometrySampleCount=None, methylationHm27SampleCount=None, miRnaSampleCount=None, mrnaMicroarraySampleCount=None, mrnaRnaSeqSampleCount=None, mrnaRnaSeqV2SampleCount=None, name='Stomach Adenocarcinoma (TCGA, PanCancer Atlas)', pmid='29625048,29596782,29622463,29617662,29625055,29625050,29617662,32214244,29625049,29850653', publicStudy=True, readPermission=True, referenceGenome='hg19', rppaSampleCount=None, sequencedSampleCount=None, status=0, studyId='stad_tcga_pan_can_atlas_2018', treatmentCount=None),\n",
       " CancerStudy(allSampleCount=149, cancerType=None, cancerTypeId='testis', citation='TCGA, Cell 2018', cnaSampleCount=None, completeSampleCount=None, description='Testicular Germ Cell Tumors TCGA PanCancer data. The original data is <a href=\"https://gdc.cancer.gov/about-data/publications/pancanatlas\">here</a>. The publications are <a href=\"https://www.cell.com/pb-assets/consortium/pancanceratlas/pancani3/index.html\">here</a>.', groups='PUBLIC;PANCAN', importDate='2024-07-11 13:34:20', massSpectrometrySampleCount=None, methylationHm27SampleCount=None, miRnaSampleCount=None, mrnaMicroarraySampleCount=None, mrnaRnaSeqSampleCount=None, mrnaRnaSeqV2SampleCount=None, name='Testicular Germ Cell Tumors (TCGA, PanCancer Atlas)', pmid='29625048,29596782,29622463,29617662,29625055,29625050,29617662,32214244,29625049,29850653', publicStudy=True, readPermission=True, referenceGenome='hg19', rppaSampleCount=None, sequencedSampleCount=None, status=0, studyId='tgct_tcga_pan_can_atlas_2018', treatmentCount=None),\n",
       " CancerStudy(allSampleCount=500, cancerType=None, cancerTypeId='thpa', citation='TCGA, Cell 2018', cnaSampleCount=None, completeSampleCount=None, description='Thyroid Carcinoma TCGA PanCancer data. The original data is <a href=\"https://gdc.cancer.gov/about-data/publications/pancanatlas\">here</a>. The publications are <a href=\"https://www.cell.com/pb-assets/consortium/pancanceratlas/pancani3/index.html\">here</a>.', groups='PUBLIC;PANCAN', importDate='2024-07-11 13:38:41', massSpectrometrySampleCount=None, methylationHm27SampleCount=None, miRnaSampleCount=None, mrnaMicroarraySampleCount=None, mrnaRnaSeqSampleCount=None, mrnaRnaSeqV2SampleCount=None, name='Thyroid Carcinoma (TCGA, PanCancer Atlas)', pmid='29625048,29596782,29622463,29617662,29625055,29625050,29617662,30643250,32214244,29625049,29850653', publicStudy=True, readPermission=True, referenceGenome='hg19', rppaSampleCount=None, sequencedSampleCount=None, status=0, studyId='thca_tcga_pan_can_atlas_2018', treatmentCount=None),\n",
       " CancerStudy(allSampleCount=123, cancerType=None, cancerTypeId='thym', citation='TCGA, Cell 2018', cnaSampleCount=None, completeSampleCount=None, description='Thymoma TCGA PanCancer data. The original data is <a href=\"https://gdc.cancer.gov/about-data/publications/pancanatlas\">here</a>. The publications are <a href=\"https://www.cell.com/pb-assets/consortium/pancanceratlas/pancani3/index.html\">here</a>.', groups='PUBLIC;PANCAN', importDate='2024-07-11 13:43:54', massSpectrometrySampleCount=None, methylationHm27SampleCount=None, miRnaSampleCount=None, mrnaMicroarraySampleCount=None, mrnaRnaSeqSampleCount=None, mrnaRnaSeqV2SampleCount=None, name='Thymoma (TCGA, PanCancer Atlas)', pmid='29625048,29596782,29622463,29617662,29625055,29625050,29617662,32214244,29625049,29850653', publicStudy=True, readPermission=True, referenceGenome='hg19', rppaSampleCount=None, sequencedSampleCount=None, status=0, studyId='thym_tcga_pan_can_atlas_2018', treatmentCount=None),\n",
       " CancerStudy(allSampleCount=529, cancerType=None, cancerTypeId='ucec', citation='TCGA, Cell 2018', cnaSampleCount=None, completeSampleCount=None, description='Uterine Corpus Endometrial Carcinoma TCGA PanCancer data. The original data is <a href=\"https://gdc.cancer.gov/about-data/publications/pancanatlas\">here</a>. The publications are <a href=\"https://www.cell.com/pb-assets/consortium/pancanceratlas/pancani3/index.html\">here</a>.', groups='PUBLIC;PANCAN', importDate='2024-07-11 13:49:05', massSpectrometrySampleCount=None, methylationHm27SampleCount=None, miRnaSampleCount=None, mrnaMicroarraySampleCount=None, mrnaRnaSeqSampleCount=None, mrnaRnaSeqV2SampleCount=None, name='Uterine Corpus Endometrial Carcinoma (TCGA, PanCancer Atlas)', pmid='29625048,29596782,29622463,29617662,29625055,29625050,29617662,30643250,32214244,29625049,29850653', publicStudy=True, readPermission=True, referenceGenome='hg19', rppaSampleCount=None, sequencedSampleCount=None, status=0, studyId='ucec_tcga_pan_can_atlas_2018', treatmentCount=None),\n",
       " CancerStudy(allSampleCount=57, cancerType=None, cancerTypeId='ucs', citation='TCGA, Cell 2018', cnaSampleCount=None, completeSampleCount=None, description='Uterine Carcinosarcoma TCGA PanCancer data. The original data is <a href=\"https://gdc.cancer.gov/about-data/publications/pancanatlas\">here</a>. The publications are <a href=\"https://www.cell.com/pb-assets/consortium/pancanceratlas/pancani3/index.html\">here</a>.', groups='PUBLIC;PANCAN', importDate='2024-07-11 14:32:52', massSpectrometrySampleCount=None, methylationHm27SampleCount=None, miRnaSampleCount=None, mrnaMicroarraySampleCount=None, mrnaRnaSeqSampleCount=None, mrnaRnaSeqV2SampleCount=None, name='Uterine Carcinosarcoma (TCGA, PanCancer Atlas)', pmid='29625048,29596782,29622463,29617662,29625055,29625050,29617662,32214244,29625049,29850653', publicStudy=True, readPermission=True, referenceGenome='hg19', rppaSampleCount=None, sequencedSampleCount=None, status=0, studyId='ucs_tcga_pan_can_atlas_2018', treatmentCount=None),\n",
       " CancerStudy(allSampleCount=80, cancerType=None, cancerTypeId='um', citation='TCGA, Cell 2018', cnaSampleCount=None, completeSampleCount=None, description='Uveal melanoma TCGA PanCancer data. The original data is <a href=\"https://gdc.cancer.gov/about-data/publications/pancanatlas\">here</a>. The publications are <a href=\"https://www.cell.com/pb-assets/consortium/pancanceratlas/pancani3/index.html\">here</a>.', groups='PUBLIC;PANCAN', importDate='2024-07-11 14:38:13', massSpectrometrySampleCount=None, methylationHm27SampleCount=None, miRnaSampleCount=None, mrnaMicroarraySampleCount=None, mrnaRnaSeqSampleCount=None, mrnaRnaSeqV2SampleCount=None, name='Uveal Melanoma (TCGA, PanCancer Atlas)', pmid='29625048,29596782,29622463,29617662,29625055,29625050,29617662,32214244,29625049,29850653', publicStudy=True, readPermission=True, referenceGenome='hg19', rppaSampleCount=None, sequencedSampleCount=None, status=0, studyId='uvm_tcga_pan_can_atlas_2018', treatmentCount=None),\n",
       " CancerStudy(allSampleCount=2336, cancerType=None, cancerTypeId='pancreas', citation=None, cnaSampleCount=None, completeSampleCount=None, description='Targeted sequencing of 2336 pancreatic adenocarcinoma samples and their matched normals via MSK-IMPACT platform.', groups='', importDate='2024-07-16 12:01:47', massSpectrometrySampleCount=None, methylationHm27SampleCount=None, miRnaSampleCount=None, mrnaMicroarraySampleCount=None, mrnaRnaSeqSampleCount=None, mrnaRnaSeqV2SampleCount=None, name='Pancreatic Adenocarcinoma (MSK, 2024)', pmid=None, publicStudy=True, readPermission=True, referenceGenome='hg19', rppaSampleCount=None, sequencedSampleCount=None, status=0, studyId='pdac_msk_2024', treatmentCount=None),\n",
       " CancerStudy(allSampleCount=69, cancerType=None, cancerTypeId='ucec', citation=None, cnaSampleCount=None, completeSampleCount=None, description='Targeted sequencing of 69 uterine carcinoma tumor and normal pairs via MSK-IMPACT.', groups='', importDate='2024-07-17 04:01:27', massSpectrometrySampleCount=None, methylationHm27SampleCount=None, miRnaSampleCount=None, mrnaMicroarraySampleCount=None, mrnaRnaSeqSampleCount=None, mrnaRnaSeqV2SampleCount=None, name='ERBB2-mutant Endometrial cancer (MSK,2024)', pmid=None, publicStudy=True, readPermission=True, referenceGenome='hg19', rppaSampleCount=None, sequencedSampleCount=None, status=0, studyId='ucs_msk_2024', treatmentCount=None)]"
      ]
     },
     "execution_count": 31,
     "metadata": {},
     "output_type": "execute_result"
    }
   ],
   "source": [
    "cbioportal.Studies.getAllStudiesUsingGET(projection=\"SUMMARY\").result()"
   ]
  },
  {
   "cell_type": "code",
   "execution_count": 32,
   "metadata": {},
   "outputs": [
    {
     "data": {
      "text/plain": [
       "{'__add__': <method-wrapper '__add__' of list object at 0x166364640>,\n",
       " '__class__': list,\n",
       " '__class_getitem__': <function list.__class_getitem__>,\n",
       " '__contains__': <method-wrapper '__contains__' of list object at 0x166364640>,\n",
       " '__delattr__': <method-wrapper '__delattr__' of list object at 0x166364640>,\n",
       " '__delitem__': <method-wrapper '__delitem__' of list object at 0x166364640>,\n",
       " '__dir__': <function list.__dir__()>,\n",
       " '__doc__': 'Built-in mutable sequence.\\n\\nIf no argument is given, the constructor creates a new empty list.\\nThe argument must be an iterable if specified.',\n",
       " '__eq__': <method-wrapper '__eq__' of list object at 0x166364640>,\n",
       " '__format__': <function list.__format__(format_spec, /)>,\n",
       " '__ge__': <method-wrapper '__ge__' of list object at 0x166364640>,\n",
       " '__getattribute__': <method-wrapper '__getattribute__' of list object at 0x166364640>,\n",
       " '__getitem__': <function list.__getitem__(index, /)>,\n",
       " '__getstate__': <function list.__getstate__()>,\n",
       " '__gt__': <method-wrapper '__gt__' of list object at 0x166364640>,\n",
       " '__hash__': None,\n",
       " '__iadd__': <method-wrapper '__iadd__' of list object at 0x166364640>,\n",
       " '__imul__': <method-wrapper '__imul__' of list object at 0x166364640>,\n",
       " '__init__': <method-wrapper '__init__' of list object at 0x166364640>,\n",
       " '__init_subclass__': <function list.__init_subclass__>,\n",
       " '__iter__': <method-wrapper '__iter__' of list object at 0x166364640>,\n",
       " '__le__': <method-wrapper '__le__' of list object at 0x166364640>,\n",
       " '__len__': <method-wrapper '__len__' of list object at 0x166364640>,\n",
       " '__lt__': <method-wrapper '__lt__' of list object at 0x166364640>,\n",
       " '__mul__': <method-wrapper '__mul__' of list object at 0x166364640>,\n",
       " '__ne__': <method-wrapper '__ne__' of list object at 0x166364640>,\n",
       " '__new__': <function list.__new__(*args, **kwargs)>,\n",
       " '__reduce__': <function list.__reduce__()>,\n",
       " '__reduce_ex__': <function list.__reduce_ex__(protocol, /)>,\n",
       " '__repr__': <method-wrapper '__repr__' of list object at 0x166364640>,\n",
       " '__reversed__': <function list.__reversed__()>,\n",
       " '__rmul__': <method-wrapper '__rmul__' of list object at 0x166364640>,\n",
       " '__setattr__': <method-wrapper '__setattr__' of list object at 0x166364640>,\n",
       " '__setitem__': <method-wrapper '__setitem__' of list object at 0x166364640>,\n",
       " '__sizeof__': <function list.__sizeof__()>,\n",
       " '__str__': <method-wrapper '__str__' of list object at 0x166364640>,\n",
       " '__subclasshook__': <function list.__subclasshook__>,\n",
       " 'append': <function list.append(object, /)>,\n",
       " 'clear': <function list.clear()>,\n",
       " 'copy': <function list.copy()>,\n",
       " 'count': <function list.count(value, /)>,\n",
       " 'extend': <function list.extend(iterable, /)>,\n",
       " 'index': <function list.index(value, start=0, stop=9223372036854775807, /)>,\n",
       " 'insert': <function list.insert(index, object, /)>,\n",
       " 'pop': <function list.pop(index=-1, /)>,\n",
       " 'remove': <function list.remove(value, /)>,\n",
       " 'reverse': <function list.reverse()>,\n",
       " 'sort': <function list.sort(*, key=None, reverse=False)>}"
      ]
     },
     "execution_count": 32,
     "metadata": {},
     "output_type": "execute_result"
    }
   ],
   "source": [
    "studies = cbioportal.Studies.getAllStudiesUsingGET().result()\n",
    "{k:getattr(studies, k) for k in dir(studies)}"
   ]
  },
  {
   "cell_type": "code",
   "execution_count": 33,
   "metadata": {},
   "outputs": [],
   "source": [
    "import pandas as pd\n",
    "\n",
    "df = pd.DataFrame.from_dict([\n",
    "dict(\n",
    "    {k:getattr(s,k) for k in dir(s)},\n",
    "    **{k:getattr(s.studyId,k) for k in dir(s.studyId)})\n",
    "    for s in studies\n",
    "])"
   ]
  },
  {
   "cell_type": "code",
   "execution_count": 34,
   "metadata": {},
   "outputs": [
    {
     "data": {
      "text/plain": [
       "Index(['allSampleCount', 'cancerType', 'cancerTypeId', 'citation',\n",
       "       'cnaSampleCount', 'completeSampleCount', 'description', 'groups',\n",
       "       'importDate', 'massSpectrometrySampleCount',\n",
       "       ...\n",
       "       'rstrip', 'split', 'splitlines', 'startswith', 'strip', 'swapcase',\n",
       "       'title', 'translate', 'upper', 'zfill'],\n",
       "      dtype='object', length=106)"
      ]
     },
     "execution_count": 34,
     "metadata": {},
     "output_type": "execute_result"
    }
   ],
   "source": [
    "df.columns"
   ]
  },
  {
   "cell_type": "code",
   "execution_count": 35,
   "metadata": {},
   "outputs": [
    {
     "data": {
      "text/html": [
       "<div>\n",
       "<style scoped>\n",
       "    .dataframe tbody tr th:only-of-type {\n",
       "        vertical-align: middle;\n",
       "    }\n",
       "\n",
       "    .dataframe tbody tr th {\n",
       "        vertical-align: top;\n",
       "    }\n",
       "\n",
       "    .dataframe thead th {\n",
       "        text-align: right;\n",
       "    }\n",
       "</style>\n",
       "<table border=\"1\" class=\"dataframe\">\n",
       "  <thead>\n",
       "    <tr style=\"text-align: right;\">\n",
       "      <th></th>\n",
       "      <th>name</th>\n",
       "      <th>citation</th>\n",
       "      <th>studyId</th>\n",
       "      <th>allSampleCount</th>\n",
       "    </tr>\n",
       "  </thead>\n",
       "  <tbody>\n",
       "    <tr>\n",
       "      <th>0</th>\n",
       "      <td>Adenoid Cystic Carcinoma of the Breast (MSK, J...</td>\n",
       "      <td>Martelotto et al. J Pathol 2015</td>\n",
       "      <td>acbc_mskcc_2015</td>\n",
       "      <td>12</td>\n",
       "    </tr>\n",
       "    <tr>\n",
       "      <th>1</th>\n",
       "      <td>Adenoid Cystic Carcinoma (MSK, Nat Genet 2013)</td>\n",
       "      <td>Ho et al. Nat Genet 2013</td>\n",
       "      <td>acyc_mskcc_2013</td>\n",
       "      <td>60</td>\n",
       "    </tr>\n",
       "    <tr>\n",
       "      <th>2</th>\n",
       "      <td>Adenoid Cystic Carcinoma (FMI, Am J Surg Pathl...</td>\n",
       "      <td>Ross et al. Am J Surg Pathl 2014</td>\n",
       "      <td>acyc_fmi_2014</td>\n",
       "      <td>28</td>\n",
       "    </tr>\n",
       "    <tr>\n",
       "      <th>3</th>\n",
       "      <td>Adenoid Cystic Carcinoma (JHU, Cancer Prev Res...</td>\n",
       "      <td>Rettig et al, Cancer Prev Res 2016</td>\n",
       "      <td>acyc_jhu_2016</td>\n",
       "      <td>25</td>\n",
       "    </tr>\n",
       "    <tr>\n",
       "      <th>4</th>\n",
       "      <td>Adenoid Cystic Carcinoma (MDA, Clin Cancer Res...</td>\n",
       "      <td>Mitani et al. Clin Cancer Res 2015</td>\n",
       "      <td>acyc_mda_2015</td>\n",
       "      <td>102</td>\n",
       "    </tr>\n",
       "  </tbody>\n",
       "</table>\n",
       "</div>"
      ],
      "text/plain": [
       "                                                name  \\\n",
       "0  Adenoid Cystic Carcinoma of the Breast (MSK, J...   \n",
       "1     Adenoid Cystic Carcinoma (MSK, Nat Genet 2013)   \n",
       "2  Adenoid Cystic Carcinoma (FMI, Am J Surg Pathl...   \n",
       "3  Adenoid Cystic Carcinoma (JHU, Cancer Prev Res...   \n",
       "4  Adenoid Cystic Carcinoma (MDA, Clin Cancer Res...   \n",
       "\n",
       "                             citation          studyId  allSampleCount  \n",
       "0     Martelotto et al. J Pathol 2015  acbc_mskcc_2015              12  \n",
       "1            Ho et al. Nat Genet 2013  acyc_mskcc_2013              60  \n",
       "2    Ross et al. Am J Surg Pathl 2014    acyc_fmi_2014              28  \n",
       "3  Rettig et al, Cancer Prev Res 2016    acyc_jhu_2016              25  \n",
       "4  Mitani et al. Clin Cancer Res 2015    acyc_mda_2015             102  "
      ]
     },
     "execution_count": 35,
     "metadata": {},
     "output_type": "execute_result"
    }
   ],
   "source": [
    "df['name citation studyId allSampleCount'.split()].head()"
   ]
  },
  {
   "cell_type": "code",
   "execution_count": 42,
   "metadata": {},
   "outputs": [
    {
     "name": "stdout",
     "output_type": "stream",
     "text": [
      "                             citation year of publication\n",
      "0     Martelotto et al. J Pathol 2015                  15\n",
      "1            Ho et al. Nat Genet 2013                  13\n",
      "2    Ross et al. Am J Surg Pathl 2014                  14\n",
      "3  Rettig et al, Cancer Prev Res 2016                  16\n",
      "4  Mitani et al. Clin Cancer Res 2015                  15\n",
      "5                                None                None\n"
     ]
    }
   ],
   "source": [
    "import pandas as pd\n",
    "\n",
    "# Sample DataFrame (with a potential issue)\n",
    "data = {\n",
    "    \"citation\": [\n",
    "        'Adenoid Cystic Carcinoma of the Breast (MSK, J Pathol. 2015)', \n",
    "        'Adenoid Cystic Carcinoma (MSK, Nat Genet 2013)', \n",
    "        'Adenoid Cystic Carcinoma (FMI, Am J Surg Pathl. 2014)', \n",
    "        'Adenoid Cystic Carcinoma (JHU, Cancer Prev Res 2016)', \n",
    "        'Adenoid Cystic Carcinoma (MDA, Clin Cancer Res 2015)', \n",
    "        'Adenoid Cystic Carcinoma (MGH, Nat Gen 2016)', \n",
    "        'Adenoid Cystic Carcinoma (Sanger/MDA, JCI 2013)', \n",
    "        'Adenoid Cystic Carcinoma Project (J Clin Invest 2019)', \n",
    "        'Basal Cell Carcinoma (UNIGE, Nat Genet 2016)', \n",
    "        'Acute Lymphoblastic Leukemia (St Jude, Nat Genet 2015)', \n",
    "        'Ampullary Carcinoma (Baylor College of Medicine, Cell Reports 2016)', \n",
    "        'Hypodiploid Acute Lymphoid Leukemia (St Jude, Nat Genet 2013)', \n",
    "        'Acute Lymphoblastic Leukemia (St Jude, Nat Genet 2016)', \n",
    "        'The Angiosarcoma Project - Count Me In (Nature Medicine, 2020)', \n",
    "        'Breast Fibroepithelial Tumors (Duke-NUS, Nat Genet 2015)', \n",
    "        'Acute Myeloid Leukemia (OHSU, Nature 2018)', \n",
    "        'Appendiceal Cancer (MSK, J Clin Oncol 2022)', \n",
    "        'Metastatic Biliary Tract Cancers (SUMMIT - Neratinib Basket Trial, 2022)', \n",
    "        'Acute Myeloid Leukemia (OHSU, Cancer Cell 2022)', \n",
    "        'Bladder Urothelial Carcinoma (DFCI/MSK, Cancer Discov 2014)', \n",
    "        'Bladder Cancer (MSK, J Clin Onco 2013)', \n",
    "        'Bladder Urothelial Carcinoma (BGI, Nat Genet 2013)', \n",
    "        'Bladder Cancer (MSK, Eur Urol 2014)', \n",
    "        'Nonmuscle Invasive Bladder Cancer (MSK Eur Urol 2017)',\n",
    "        'Bladder Cancer (MSK, Nat Genet 2016)', \n",
    "        'Breast Invasive Carcinoma (Broad, Nature 2012)', \n",
    "        'Bladder Urothelial Carcinoma (TCGA, Nature 2014)', \n",
    "        'Pediatric Brain Cancer (CPTAC/CHOP, Cell 2020)', \n",
    "        'Colorectal Adenocarcinoma (MSK, Nat Commun 2022)', \n",
    "        'Metastatic Breast Cancer (INSERM, PLoS Med 2016)', \n",
    "        'Breast Cancer (MSK, NPJ Breast Cancer 2019)', \n",
    "        'Juvenile Papillomatosis and Breast Cancer (MSK,J Pathol. 2015)', \n",
    "        'MAPK on resistance to anti-HER2 therapy for breast cancer (MSK, Nat Commun. 2022)', \n",
    "        'Breast Cancer (MSK, Clinical Cancer Res 2020)', \n",
    "        'Proteogenomic landscape of breast cancer (CPTAC, Cell 2020)', \n",
    "        'Breast Cancer (HTAN, 2022)', 'Breast Invasive Carcinoma (Sanger, Nature 2012)', \n",
    "        'Breast Invasive Carcinoma (TCGA, Nature 2012)', \n",
    "        'Cancer Cell Line Encyclopedia (Novartis/Broad, Nature 2012)', \n",
    "        'Kidney Renal Clear Cell Carcinoma (IRC, Nat Genet 2014)', \n",
    "        'Renal Clear Cell Carcinoma (UTokyo, Nat Genet 2013)', \n",
    "        'NCI-60 Cell Lines (NCI, Cancer Res 2012)', \n",
    "        'Breast Cancer (MSK, Cancer Cell 2018)', \n",
    "        'Cancer Cell Line Encyclopedia (Broad, 2019)', \n",
    "        'Breast Cancer (MSK, Nature Cancer 2020)', \n",
    "        'Breast Cancer (SMC 2018)', \n",
    "        'Clear Cell Renal Cell Carcinoma (DFCI, Science 2019)', \n",
    "        'Metastatic Breast Cancer (MSK, Cancer Discovery 2022)', \n",
    "        'Intrahepatic Cholangiocarcinoma (JHU, Nat Genet 2013)', \n",
    "        'Cholangiocarcinoma (National Cancer Centre of Singapore, Nat Genet 2013)', \n",
    "        'Cholangiocarcinoma (National University of Singapore, Nat Genet 2012)', \n",
    "        'Chronic Lymphocytic Leukemia (IUOPA, Nature 2015)', \n",
    "        'Chronic Lymphocytic Leukemia (Broad, Nature 2015)', \n",
    "        'Chronic lymphocytic leukemia (ICGC, Nature Genetics 2011)', \n",
    "        'Colon Adenocarcinoma (CaseCCC, PNAS 2015)', \n",
    "        'Cholangiocarcinoma (MSK, Clin Cancer Res 2018)', \n",
    "        'Cholangiocarcinoma (ICGC, Cancer Discov 2017)', \n",
    "        'Colorectal Adenocarcinoma (TCGA, Firehose Legacy)', \n",
    "        'Colorectal Adenocarcinoma (Genentech, Nature 2012)', \n",
    "        'Colorectal Adenocarcinoma Triplets (MSK, Genome Biol 2014)', \n",
    "        'Cutaneous Squamous Cell Carcinoma (DFCI, Clin Cancer Res 2015)', \n",
    "        'Colorectal Adenocarcinoma (DFCI, Cell Reports 2016)',\n",
    "        'Cutaneous Squamous Cell Carcinoma (MD Anderson, Clin) Cancer Res 2014)',\n",
    "        'Colon Cancer (CPTAC-2 Prospective, Cell 2019)',\n",
    "        'Colorectal Cancer (MSK, JNCI 2021)',\n",
    "        'Colorectal Cancer (MSK, Gastroenterology 2020)',\n",
    "        'Disparities in metastatic colorectal cancer between Africans and Americans (MSK, 2020)',\n",
    "        'Colorectal Cancer (MSK, JCO Precis Oncol 2022)',\n",
    "        'Colorectal Cancer (MSK, Cancer Discovery 2022)',\n",
    "        'Desmoplastic Melanoma (Broad Institute, Nat Genet 2015)',\n",
    "        'Gastric Adenocarcinoma (TMUCIH, PNAS 2015)',\n",
    "        'Cutaneous T Cell Lymphoma (Columbia U, Nat Genet 2015)',\n",
    "        'Diffuse Large B-Cell Lymphoma (Broad, PNAS 2012)',\n",
    "        'Metastatic Esophagogastric Cancer (MSK, Cancer Discovery 2017)',\n",
    "        'Diffuse Large B-Cell Lymphoma (Duke, Cell 2017)',\n",
    "        'Diffuse Large B Cell Lymphoma (DFCI, Nat Med 2018)',\n",
    "        'Esophageal/Stomach Cancer (MSK, 2020)',\n",
    "        'Cutaneous Squamous Cell Carcinoma (UCSF, NPJ Genom Med 2021)',\n",
    "        'Esophagogastric Cancer (MSK, Clin Cancer Res 2022)',\n",
    "        'Esophageal Squamous Cell Carcinoma (UCLA, Nat Genet 2014)',\n",
    "        'Esophageal Adenocarcinoma (DFCI, Nat Genet 2013)',\n",
    "        'Esophageal Squamous Cell Carcinoma (ICGC, Nature 2014)',\n",
    "        'Pediatric Ewing Sarcoma (DFCI, Cancer Discov 2014)',\n",
    "        'Ewing Sarcoma (Institut Curie, Cancer Discov 2014)',\n",
    "        'Gallbladder Carcinoma (Shanghai, Nat Genet 2014)',\n",
    "        'Glioblastoma (TCGA, Nature 2008)',\n",
    "        'Glioblastoma (TCGA, Cell 2013)',\n",
    "        'Germ Cell Tumors (MSK, J Clin Oncol 2016)',\n",
    "        'Gallbladder Cancer (MSK, Cancer 2018)' 'Brain Tumor PDXs (Mayo Clinic, Clin Cancer Res 2020)',\n",
    "        'Esophageal Cancer-TRAP Project (MSK, Lancet Oncol 2020)',\n",
    "        'Glioblastoma (Columbia, Nat Med. 2019)',\n",
    "        'Glioblastoma (CPTAC, Cell 2021)',\n",
    "        'Gallbladder Cancer (MSK, 2022)',\n",
    "        'Recurrent and Metastatic Head & Neck Cancer (MSK, JAMA Oncol 2016)',\n",
    "        'Hepatocellular Carcinomas (INSERM, Nat Genet 2015)',\n",
    "        'Hepatocellular Carcinoma (MSK, Clin Cancer Res 2018)',\n",
    "        'Liver Hepatocellular Adenoma and Carcinomas (MSK, PLOS One 2018)',\n",
    "        'Glioma (MSK, Clin Cancer Res 2019)',\n",
    "        'Glioma (MSK, Nature 2019)',\n",
    "        'Histiocytosis Cobimetinib (MSK, Nature 2019)',\n",
    "        'Germ Cell Tumors and Shared Leukemias (MSK, J Clin Invest 2020)',\n",
    "        'Combined Hepatocellular and Intrahepatic Cholangiocarcinoma (Peking University, Cancer Cell 2019)',\n",
    "        'High-Grade Serous Ovarian Cancer (MSK, NPJ Genome Med 2021)',\n",
    "        'Hepatocellular Carcinoma (MERiC/Basel, Nat Commun. 2022)',\n",
    "        'MSK-IMPACT Heme Tumors (MSK, 2022)',\n",
    "        'Gastrointestinal Stromal Tumor (MSK, NPJ Precis Oncol 2023)',\n",
    "        'Kidney Renal Clear Cell Carcinoma (BGI, Nat Genet 2012)',\n",
    "        'Kidney Renal Clear Cell Carcinoma (TCGA, Nature 2013)',\n",
    "        'Kidney Chromophobe (TCGA, Cancer Cell 2014)',\n",
    "        'Head and Neck Squamous Cell Carcinoma (Broad, Science 2011)',\n",
    "        'Head and Neck Squamous Cell Carcinoma (Johns Hopkins, Science 2011)',\n",
    "        'Head and Neck Squamous Cell Carcinoma (TCGA, Nature 2015)',\n",
    "        'Oral Squamous Cell Carcinoma (MD Anderson, Cancer Discov 2013)',\n",
    "        'Chronic Lymphocytic Leukemia (Broad, Cell 2013)',\n",
    "        'Intrahepatic Cholangiocarcinoma (Shanghai, Nat Commun 2014)',\n",
    "        'Intrahepatic Cholangiocarcinoma (MSK, Clin Cancer Res 2021)',\n",
    "        'Intrahepatic Cholangiocarcinoma (Mount Sinai 2015)',\n",
    "        'Intrahepatic Cholangiocarcinoma (MSK, Hepatology 2021)',\n",
    "        'Low-Grade Gliomas (UCSF, Science 2014)',\n",
    "        'Merged Cohort of LGG and GBM (TCGA, Cell 2016)',\n",
    "        'Liver Hepatocellular Carcinoma (AMC, Hepatology 2014)',\n",
    "        'Liver Hepatocellular Carcinoma (RIKEN, Nat Genet 2012)',\n",
    "        'Lung Adenocarcinoma (MSK, Science 2015)',\n",
    "        'Lung Adenocarcinoma (Broad, Cell 2012)',\n",
    "        'Lung Adenocarcinoma (TCGA, Nature 2014)',\n",
    "        'Lung Adenocarcinoma (TSP, Nature 2008)',\n",
    "        'Hepatocellular Adenoma (INSERM, Cancer Cell 2014)',\n",
    "        'Non-Small Cell Cancer (MSK, Cancer Discov 2017)',\n",
    "        'Lung Adenocarcinoma (MSK, J Thorac Oncol 2020)',\n",
    "        'Lung Adenocarcinoma Met Organotropism (MSK, Cancer Cell 2023)',\n",
    "        'Lung Adenocarcinoma (MSK, NPJ Precision Oncology 2021)'\n",
    "        'Lung Adenocarcinoma (MSK, 2021)'\n",
    "        'Lung Adenocarcinoma (CPTAC, Cell 2020)'\n",
    "        'Low-Grade Serous Ovarian Cancer (MSK, Clin Cancer Res 2022)' \n",
    "        'Lung Squamous Cell Carcinoma (TCGA, Nature 2012)'\n",
    "        'Medulloblastoma (Broad, Nature 2012)'\n",
    "        'Medulloblastoma (ICGC, Nature 2012)'\n",
    "        'Medulloblastoma (PCGP, Nature 2012)'\n",
    "        'Mantle Cell Lymphoma (IDIBIPS, PNAS 2013)'\n",
    "        'Myelodysplasia (UTokyo, Nature 2011)'\n",
    "        'Medulloblastoma (Sickkids, Nature 2016)'\n",
    "        'Metastatic Melanoma (UCLA, Cell 2016)'\n",
    "        'Thoracic PDX (MSK, Provisional)'\n",
    "        'Lymphoma Cell Lines (MSK, Blood 2020)'\n",
    "        'Myelodysplastic (MSK, 2020)'\n",
    "        'Lung Cancer (SMC, Cancer Research 2016)'\n",
    "        'Metaplastic Breast Cancer (MSK, NPJ Breast Cancer 2021)'\n",
    "        'Melanoma (MSK, Clin Cancer Res 2021)'\n",
    "        'Thoracic Cancer (MSK, Nat Commun 2021)'\n",
    "        'Medulloblastoma (DKFZ, Nature 2017)'\n",
    "        'Lung Squamous Cell Carcinoma (CPTAC, Cell 2021)'\n",
    "        'Lung Cancer in Never Smokers (NCI, Nature Genetics 2021)'\n",
    "        'Myelodysplastic Syndromes (MDS IWG, IPSSM, NEJM Evidence 2022)'\n",
    "        'Multiple Myeloma (Broad, Cancer Cell 2014)'\n",
    "        'Malignant Peripheral Nerve Sheath Tumor (MSK, Nat Genet 2014)'\n",
    "        'Neuroblastoma (AMC Amsterdam, Nature 2012)'\n",
    "        'Rhabdoid Cancer (BCGSC, Cancer Cell 2016)'\n",
    "        'MSK-IMPACT Clinical Sequencing Cohort (MSK, Nat Med 2017)'\n",
    "        'Pediatric Pan-cancer (Columbia U, Genome Med 2016)'\n",
    "        'MSS Mixed Solid Tumors (Broad/Dana-Farber, Nat Genet 2018)'\n",
    "        'Myeloproliferative Neoplasms (CIMR, NEJM 2013)'\n",
    "        'Acute myeloid leukemia or myelodysplastic syndromes (WashU, 2016)'\n",
    "        'Metastatic Solid Cancers (UMich, Nature 2017)'\n",
    "        'Mixed Tumors Selpercatinib RET Trial (MSK, Nat Commun. 2022)'\n",
    "        'Mixed cfDNA (MSK, Genome Med 2021)'\n",
    "        'Cancer Therapy and Clonal Hematopoiesis (MSK, Nat Genet 2020)'\n",
    "        'MSK MetTropism (MSK, Cell 2021)'\n",
    "        'MSK-IMPACT and MSK-ACCESS Mixed Cohort (MSK, Nat Commun 2021)'\n",
    "        'The Metastatic Prostate Cancer Project (Provisional, June 2021)'\n",
    "        'Cancer Therapy and Clonal Hematopoiesis (MSK, Clin Cancer Res 2022)'\n",
    "        'Pediatric Pancan Tumors (MSK, Nat Commun. 2022)'\n",
    "        'Pan-Cancer MSK-IMPACT MET Validation Cohort (MSK 2022)'\n",
    "        'Renal Non-Clear Cell Carcinoma (Genentech, Nat Genet 2014)'\n",
    "        'Nasopharyngeal Carcinoma (Singapore, Nat Genet 2014)'\n",
    "        'Neuroendocrine Prostate Cancer (Multi-Institute, Nat Med 2016)' \n",
    "        'Neuroblastoma (Broad, Nature 2015)'\n",
    "        'Pan-Lung Cancer (TCGA, Nat Genet 2016)'\n",
    "        'Neuroblastoma (Broad, Nat Genet 2013)'\n",
    "        'Non-Hodgkin Lymphoma (BCGSC, Nature 2011)'\n",
    "        'Diffuse Large B-cell Lymphoma (BCGSC, Blood 2013)'\n",
    "        'Anaplastic Oligodendroglioma and Anaplastic Oligoastrocytoma (MSK, Neuro Oncol 2017)'\n",
    "        'Non-Small Cell Lung Cancer (University of Turin, Lung Cancer 2017)'\n",
    "        'Non-Small Cell Lung Cancer (TRACERx, NEJM & Nature 2017)'\n",
    "        'Pediatric Neuroblastoma (TARGET, 2018)'\n",
    "        'Non-Small Cell Lung Cancer (MSK, J Clin Oncol 2018)'\n",
    "        'Non-Small Cell Lung Cancer (MSK, Science 2015)'\n",
    "        'Non-Small Cell Lung Cancer (MSK, Cancer Cell 2018)'\n",
    "        'Metastatic Non-Small Cell Lung Cancer (MSK, Nature Medicine 2022)'\n",
    "        'Pediatric Neuroblastoma (MSK, Nat Genet 2023)'\n",
    "        'Ovarian Serous Cystadenocarcinoma (TCGA, Nature 2011)'\n",
    "        'Acinar Cell Carcinoma of the Pancreas (JHU, J Pathol 2014)'\n",
    "        'Pancreatic Adenocarcinoma (ICGC, Nature 2012)'\n",
    "        'Pancreatic Cancer (UTSW, Nat Commun 2015)'\n",
    "        'Pancreatic Neuroendocrine Tumors (Johns Hopkins University, Science 2011)'\n",
    "        'Primary Central Nervous System Lymphoma (Mayo Clinic, Clin Cancer Res 2015)'\n",
    "        'Insulinoma (Shanghai, Nat Commun 2013)'\n",
    "        'Pleural Mesothelioma (NYU, Cancer Res 2015)'\n",
    "        'Pancreatic Adenocarcinoma (QCMG, Nature 2016)'\n",
    "        'Cystic Tumor of the Pancreas (Johns Hopkins, PNAS 2011)'\n",
    "        'Pancreatic Neuroendocrine Tumors (Multi-Institute, Nature 2017)'\n",
    "        'Pilocytic Astrocytoma (ICGC, Nature Genetics 2013)'\n",
    "        'Pheochromocytoma and Paraganglioma (TCGA, Cell 2017)'\n",
    "        'Pediatric Pan-Cancer (DKFZ, Nature 2017)'\n",
    "        'Tumors with TRK fusions (MSK, Clin Cancer Res 2020)'\n",
    "        'China Pan-cancer (OrigiMed, Nature 2022)'\n",
    "        'Pancreatic Ductal Adenocarcinoma (CPTAC, Cell 2021)'\n",
    "        'Bladder Cancer (MSK, Cell Reports 2022)'\n",
    "        'Pancreatic Acinar Cell Carcinoma (MSK, JCO 2023)'\n",
    "        'Prostate Adenocarcinoma (Fred Hutchinson CRC, Nat Med 2016)'\n",
    "        'Prostate Adenocarcinoma (Broad/Cornell, Nat Genet 2012)'\n",
    "        'Prostate Adenocarcinoma (Broad/Cornell, Cell 2013)'\n",
    "        'Metastatic Prostate Adenocarcinoma (MCTP, Nature 2012)'\n",
    "        'Prostate Adenocarcinoma (MSK, Cancer Cell 2010)'\n",
    "        'Prostate Adenocarcinoma (MSK, PNAS 2014)'\n",
    "        'Metastatic Prostate Cancer (SU2C/PCF Dream Team, Cell 2015)'\n",
    "        'Prostate Adenocarcinoma (TCGA, Cell 2015)'\n",
    "        'Prostate Adenocarcinoma (CPC-GENE, Nature 2017)'\n",
    "        'Prostate Adenocarcinoma Organoids (MSK, Cell 2014)'\n",
    "        'Metastatic castration-sensitive prostate cancer (MSK, Clin Cancer Res 2020)'\n",
    "        'Retinoblastoma cfDNA (MSK, Cancer Med 2020)'\n",
    "        'Race Differences in Prostate Cancer (MSK, 2021)'\n",
    "        'Prostate Adenocarcinoma (MSK, Clin Cancer Res. 2022)'\n",
    "        'Prostate Cancer Brain Metastases (Bern, Nat Commun. 2022)'\n",
    "        'Skin Cutaneous Melanoma (TCGA, Firehose Legacy)'\n",
    "        'Small Cell Lung Cancer (CLCGP, Nat Genet 2012)'\n",
    "        'Small Cell Lung Cancer (Johns Hopkins, Nat Genet 2012)'\n",
    "        'Skin Cutaneous Melanoma (Broad, Cell 2012)'\n",
    "        'Melanoma (Broad/Dana Farber, Nature 2012)'\n",
    "        'Small Cell Carcinoma of the Ovary (MSK, Nat Genet 2014)'\n",
    "        'Rhabdomyosarcoma (NIH, Cancer Discov 2014)'\n",
    "        'Sarcoma (MSKCC/Broad, Nat Genet 2010)'\n",
    "        'Skin Cutaneous Melanoma (Broad, Cancer Discov 2014)'\n",
    "        'Adult Soft Tissue Sarcomas (TCGA, Cell 2017)'\n",
    "        'Melanoma (MSK, NEJM 2014)'\n",
    "        'Small-Cell Lung Cancer (Multi-Institute, Cancer Cell 2017)'\n",
    "        'Melanomas (TCGA, Cell 2015)'\n",
    "        'Metastatic Melanoma (DFCI, Science 2015)'\n",
    "        'Small Cell Lung Cancer (U Cologne, Nature 2015)'\n",
    "        'Sarcoma (MSK, Nat Commun. 2022)'\n",
    "        'Retinoblastoma (MSK, Cancers 2021)'\n",
    "        'Rectal Cancer (MSK, Nature Medicine 2022)'\n",
    "        'Skin Cutaneous Melanoma (Yale, Nat Genet 2012)'\n",
    "        'Stomach Adenocarcinoma (Pfizer and UHK, Nat Genet 2014)'\n",
    "        'Stomach Adenocarcinoma (TCGA, Nature 2014)' \n",
    "        'Stomach Adenocarcinoma (UHK, Nat Genet 2011)'\n",
    "        'Stomach Adenocarcinoma (U Tokyo, Nat Genet 2014)'\n",
    "        'Thymic Epithelial Tumors (NCI, Nat Genet 2014)'\n",
    "        'Poorly-Differentiated and Anaplastic Thyroid Cancers (MSK, JCI 2016)'\n",
    "        'Papillary Thyroid Carcinoma (TCGA, Cell 2014)'\n",
    "        'Esophageal Carcinoma (TCGA, Nature 2017)'\n",
    "        'Metastatic Melanoma (MSK, JCO Precis Oncol 2017)'\n",
    "        'Prostate Cancer (MSK, JCO Precis Oncol 2017)'\n",
    "        'Prostate Adenocarcinoma (SMMU, Eur Urol 2017)'\n",
    "        'SUMMIT - Neratinib Basket Study (Multi-Institute, Nature 2018)'\n",
    "        'Prostate Adenocarcinoma (MSK/DFCI, Nature Genetics 2018)'\n",
    "        'TMB and Immunotherapy (MSK, Nat Genet 2019)'\n",
    "        'Metastatic Prostate Adenocarcinoma (SU2C/PCF Dream Team, PNAS 2019)'\n",
    "        'Prostate Cancer (MSK, Cell Metab 2020)'\n",
    "        'Prostate Adenocarcinoma (MSK, Eur Urol 2020)'\n",
    "        'Myoepithelial Carcinomas of Soft Tissue (WCM, CSH Molecular Case Studies 2022)'\n",
    "        'Uterine Carcinosarcoma (Johns Hopkins, Nat Commun 2014)'\n",
    "        'Uterine Corpus Endometrial Carcinoma (TCGA, Nature 2013)'\n",
    "        'Uveal Melanoma (QIMR, Oncotarget 2016)'\n",
    "        'Unclassified Renal Cell Carcinoma (MSK, Nature 2016)'\n",
    "        'Upper Tract Urothelial Cancer (MSK, Eur Urol 2015)'\n",
    "        \"Pediatric Wilms' Tumor (TARGET, 2018)\"\n",
    "        'Endometrial Cancer (MSK, 2018)'\n",
    "        'Uterine Clear Cell Carcinoma (NIH, Cancer 2017)'\n",
    "        'Squamous Cell Carcinoma of the Vulva (CUK, Exp Mol Med 2018)'\n",
    "        'Upper Tract Urothelial Carcinoma (Cornell/Baylor/MDACC, Nat Commun 2019)'\n",
    "        'Upper Tract Urothelial Carcinoma (MSK, Nat Commun 2020)'\n",
    "        'Upper Tract Urothelial Carcinoma PDX (MSK, Nat Commun 2020)'\n",
    "        'Uterine Sarcoma/Mesenchymal (MSK, Clin Cancer Res 2020)'\n",
    "        'Upper Tract Urothelial Carcinoma (IGBMC, Genome Biology 2021)'\n",
    "        'Endometrial Carcinoma (CPTAC, Cell 2020)'\n",
    "        'Endometrial Carcinoma MSI (MSK, Clin Cancer Res 2022)'\n",
    "        'Breast Invasive Carcinoma (British Columbia, Nature 2012)'\n",
    "        'Mixed cfDNA (MSK, Nature Medicine 2019)'\n",
    "        'Non-CDH1 Invasive Lobular Carcinoma (MSK, 2023)'\n",
    "        'Bladder Cancer (Columbia University/MSK, Cell 2018)'\n",
    "        'Colon Cancer (Sidra-LUMC AC-ICAM, Nat Med 2023)'\n",
    "        'Bladder Cancer (MSK/TCGA, 2020)'\n",
    "        'MSK Make-an-IMPACT Rare Cancers (MSK, Clin Cancer Res 2023)'\n",
    "        'Pediatric Rhabdomyosarcomas (MSK, JCO Precis Oncol 2023)'\n",
    "        'Rhabdomyosarcomas (MSK, NPJ Precis Oncol 2023)'\n",
    "        'Sarcoma (MSK, J Pathol 2023)'\n",
    "        'Esophagogastric Cancer (MSK, Clin Cancer Res 2023)'\n",
    "        'Hepatocellular Carcinoma (MSK, JCO Precis Oncol 2023)'\n",
    "        'Endometrial Cancer (MSK, Cancer Discovery 2023)'\n",
    "        'Ewing Sarcoma (MSK, 2023)'\n",
    "        'Bladder Cancer (MSK, Clin Cancer Res 2023)'\n",
    "        'Non-Small Cell Lung Cancer Brain Metastasis (MSK, Nat Commun 2023)'\n",
    "        'Cervical Cancer (MSK, Clin Cancer Res 2023)'\n",
    "        'Adrenocortical Carcinoma (TCGA, Firehose Legacy)'\n",
    "        'Bladder Urothelial Carcinoma (TCGA, Firehose Legacy)'\n",
    "        'Breast Cancer Xenografts (British Columbia, Nature 2015)', \n",
    "        'The Metastatic Breast Cancer Project (Archived, 2020)'\n",
    "        'Pediatric Acute Lymphoid Leukemia - Phase II (TARGET, 2018)'\n",
    "        'Pediatric Acute Myeloid Leukemia (TARGET, 2018)'\n",
    "        'Bladder Cancer (TCGA, Cell 2017)'\n",
    "        'Urothelial Carcinoma (Cornell/Trento, Nat Gen 2016)'\n",
    "        'Urothelial Carcinoma (BCAN/HCRN, Nat Commun 2022)'\n",
    "        'The Angiosarcoma Project (Provisional, July 2020)'\n",
    "        'The Metastatic Breast Cancer Project (Provisional, December 2021)'\n",
    "        'Breast Invasive Carcinoma (TCGA, Firehose Legacy)'\n",
    "        'Cervical Squamous Cell Carcinoma and Endocervical Adenocarcinoma (TCGA, Firehose Legacy)'\n",
    "        'Cholangiocarcinoma (TCGA, Firehose Legacy)'\n",
    "        'Lymphoid Neoplasm Diffuse Large B-cell Lymphoma (TCGA, Firehose Legacy)'\n",
    "        'Esophageal Carcinoma (TCGA, Firehose Legacy)'\n",
    "        'Glioblastoma Multiforme (TCGA, Firehose Legacy)'\n",
    "        'Head and Neck Squamous Cell Carcinoma (TCGA, Firehose Legacy)'\n",
    "        'Breast Invasive Carcinoma (TCGA, Cell 2015)'\n",
    "        'Colorectal Adenocarcinoma (TCGA, Nature 2012)'\n",
    "        'Diffuse Glioma (GLASS Consortium, Nature 2019)'\n",
    "        'Esophagogastric Cancer (MSK, J Natl Cancer Inst 2023)'\n",
    "        'Diffuse Large B-Cell Lymphoma (MSK, 2024)'\n",
    "        'Lung Adenocarcinoma (MSK Mind, Nature Cancer 2022)'\n",
    "        'Mature T and NK Neoplasms (MSK, Blood Adv 2023)'\n",
    "        'Acute Myeloid Leukemia (TCGA, Firehose Legacy)'\n",
    "        'Kidney Renal Clear Cell Carcinoma (TCGA, Firehose Legacy)'\n",
    "        'Kidney Chromophobe (TCGA, Firehose Legacy)'\n",
    "        'Brain Lower Grade Glioma (TCGA, Firehose Legacy)'\n",
    "        'Liver Hepatocellular Carcinoma (TCGA, Firehose Legacy)'\n",
    "        'Lung Adenocarcinoma (TCGA, Firehose Legacy)'\n",
    "        'Lung Squamous Cell Carcinoma (TCGA, Firehose Legacy)'\n",
    "        'Mesothelioma (TCGA, Firehose Legacy)'\n",
    "        'Ovarian Serous Cystadenocarcinoma (TCGA, Firehose Legacy)'\n",
    "        'Kidney Renal Papillary Cell Carcinoma (TCGA, Firehose Legacy)'\n",
    "        'Acute Myeloid Leukemia (TCGA, NEJM 2013)'\n",
    "        'Acral Melanoma (TGEN, Genome Res 2017)'\n",
    "        'Mature B-cell malignancies (MD Anderson Cancer Center)'\n",
    "        'Metastatic Melanoma (DFCI, Nature Medicine 2019)'\n",
    "        'Meningioma (University of Toronto, Nature 2021)'\n",
    "        'Pancreatic Adenocarcinoma (TCGA, Firehose Legacy)'\n",
    "        'Pheochromocytoma and Paraganglioma (TCGA, Firehose Legacy)'\n",
    "        'Prostate Adenocarcinoma (TCGA, Firehose Legacy)'\n",
    "        'Sarcoma (TCGA, Firehose Legacy)'\n",
    "        'Stomach Adenocarcinoma (TCGA, Firehose Legacy)'\n",
    "        'Testicular Germ Cell Cancer (TCGA, Firehose Legacy)'\n",
    "        'Thymoma (TCGA, Firehose Legacy)'\n",
    "        'Thyroid Carcinoma (TCGA, Firehose Legacy)'\n",
    "        'Uterine Corpus Endometrial Carcinoma (TCGA, Firehose Legacy)'\n",
    "        'Uterine Carcinosarcoma (TCGA, Firehose Legacy)'\n",
    "        'Uveal Melanoma (TCGA, Firehose Legacy)'\n",
    "        'Pediatric Rhabdoid Tumor (TARGET, 2018)'\n",
    "        'Prostate Cancer (DKFZ, Cancer Cell 2018)'\n",
    "        'Pediatric Preclinical Testing Consortium (CHOP, Cell Rep 2019)'\n",
    "        'Gastric Cancer (OncoSG, 2018)'\n",
    "        'Pan-cancer Analysis of Advanced and Metastatic Tumors (BCGSC, Nature Cancer 2020)'\n",
    "        'Leiomyosarcoma (MSK, 2024)'\n",
    "        'Metastatic Colorectal Cancer (MSK, Cancer Cell 2018)'\n",
    "        'Endometrial and Ovarian Cancer (MSK, 2024)'\n",
    "        'BRAF Fusions - IMPACT Clinical Sequencing Cohort (MSKCC)'\n",
    "        'Breast Cancer (METABRIC, Nature 2012 & Nat Commun 2016)'\n",
    "        'BRAF Fusions - ARCHER Clinical Sequencing Cohort (MSKCC)' \n",
    "        'Diffuse Glioma (GLASS Consortium)'\n",
    "        'Hepatocellular Carcinoma (MSK, 2024)'\n",
    "        'Colorectal Cancer (CAS Shanghai, Cancer Cell 2020)'\n",
    "        'Mature B-Cell Neoplasms (Simon Fraser University, Blood 2023)'\n",
    "        'Pre-cancer Colorectal Polyps (HTAN Vanderbilt, Cell 2021)'\n",
    "        'IDH-mutated Diffuse Glioma (MSK, Clin Cancer Res 2024)'\n",
    "        'Anaplastic Thyroid Cancers (GATCI, Cell Reports 2024)'\n",
    "        'Prostate Cancer MDA PCa PDX (MD Anderson, Clin Cancer Res 2024)'\n",
    "        'Soft Tissue and Bone Sarcoma (MSK, Nat Commun 2022)'\n",
    "        'Pleural Mesothelioma (MSK, Clin Cancer Res 2024)'\n",
    "        'Prostate Cancer (MSK, Science 2022)'\n",
    "        'Chronic Lymphocytic Leukemia (Broad, Nature Genetics 2022)'\n",
    "        'MSK ctDNA Sequencing Cohort (MSK, 2024)'\n",
    "        'Ovarian Cancer - MSK SPECTRUM (MSK, Nature 2022)'\n",
    "        'Nerve Sheath Tumors (Johns Hopkins, Sci Data 2020)'\n",
    "        'Prostate Cancer (MSK 2024)'\n",
    "        'Pediatric MAPPYACTS (Gustave Roussy, Cancer Discov 2022)'\n",
    "        'Cutaneous Squamous Cell Carcinoma (UOW, Front Oncol 2022)'\n",
    "        'Metastatic Breast Cancer (AURORA US Network, Nat Cancer 2023)'\n",
    "        'Rectal Cancer (MSK, Nature Medicine 2019)'\n",
    "        'Endometrial Carcinoma cfDNA (MSK, Clin Cancer Res 2022)'\n",
    "        'Cancer Therapy and Clonal Hematopoiesis (MSK, Blood Adv 2023)'\n",
    "        'Lung Adenocarcinoma (OncoSG, Nat Genet 2020)'\n",
    "        'RAD51B Associated Mixed Cancers (MSK, NPJ 2021)'\n",
    "        'Gastrointestinal Stromal Tumors (MSK, Clin Cancer Res 2023)'\n",
    "        'Pancreatic Neuroendocrine Tumors (MSK, 2023)'\n",
    "        'Primary CNS Lymphoma - Ibrutinib Long Term Follow Up (MSK, 2024)'\n",
    "        'Adrenocortical Carcinoma (TCGA, PanCancer Atlas)'\n",
    "        'Bladder Urothelial Carcinoma (TCGA, PanCancer Atlas)'\n",
    "        'Breast Invasive Carcinoma (TCGA, PanCancer Atlas)'\n",
    "        'Cervical Squamous Cell Carcinoma (TCGA, PanCancer Atlas)'\n",
    "        'Cholangiocarcinoma (TCGA, PanCancer Atlas)'\n",
    "        'Diffuse Large B-Cell Lymphoma (TCGA, PanCancer Atlas)'\n",
    "        'Esophageal Adenocarcinoma (TCGA, PanCancer Atlas)'\n",
    "        'Glioblastoma Multiforme (TCGA, PanCancer Atlas)'\n",
    "        'Head and Neck Squamous Cell Carcinoma (TCGA, PanCancer Atlas)'\n",
    "        'Pan-cancer Analysis of Whole Genomes (ICGC/TCGA, Nature 2020)'\n",
    "        'Colorectal Adenocarcinoma (TCGA, PanCancer Atlas)'\n",
    "        'Kidney Chromophobe (TCGA, PanCancer Atlas)'\n",
    "        'Kidney Renal Clear Cell Carcinoma (TCGA, PanCancer Atlas)'\n",
    "        'Kidney Renal Papillary Cell Carcinoma (TCGA, PanCancer Atlas)'\n",
    "        'Acute Myeloid Leukemia (TCGA, PanCancer Atlas)\n",
    "        'Brain Lower Grade Glioma (TCGA, PanCancer Atlas)'\n",
    "        'Liver Hepatocellular Carcinoma (TCGA, PanCancer Atlas)'\n",
    "        'Lung Adenocarcinoma (TCGA, PanCancer Atlas)'\n",
    "        'Lung Squamous Cell Carcinoma (TCGA, PanCancer Atlas)'\n",
    "        'Mesothelioma (TCGA, PanCancer Atlas)'\n",
    "        'Ovarian Serous Cystadenocarcinoma (TCGA, PanCancer Atlas)'\n",
    "        'Pancreatic Adenocarcinoma (TCGA, PanCancer Atlas)'\n",
    "        'Pheochromocytoma and Paraganglioma (TCGA, PanCancer Atlas)'\n",
    "        'Prostate Adenocarcinoma (TCGA, PanCancer Atlas)'\n",
    "        'Sarcoma (TCGA, PanCancer Atlas)'\n",
    "        'Skin Cutaneous Melanoma (TCGA, PanCancer Atlas)'\n",
    "        'Stomach Adenocarcinoma (TCGA, PanCancer Atlas)'\n",
    "        'Testicular Germ Cell Tumors (TCGA, PanCancer Atlas)'\n",
    "        'Thyroid Carcinoma (TCGA, PanCancer Atlas)'\n",
    "        'Thymoma (TCGA, PanCancer Atlas)'\n",
    "        'Uterine Corpus Endometrial Carcinoma (TCGA, PanCancer Atlas)'\n",
    "        'Uterine Carcinosarcoma (TCGA, PanCancer Atlas)'\n",
    "        'Uveal Melanoma (TCGA, PanCancer Atlas)'\n",
    "        'Pancreatic Adenocarcinoma (MSK, 2024)'\n",
    "        'ERBB2-mutant Endometrial Cancer (MSK, 2024)']\n",
    ", # Test case with no underscore\n",
    "        None,  # Test case with missing value\n",
    "    ]\n",
    "}\n",
    "\n",
    "df = pd.DataFrame(data)\n",
    "\n",
    "# Create the new column (handle missing values with .fillna(''))\n",
    "df['year of publication'] = df['citation'].astype(str).str.split('20').str[-1].fillna('')\n",
    "\n",
    "# Print the resulting DataFrame\n",
    "print(df)\n",
    "\n",
    "# Assertion for testing\n",
    "assert df['year of publication'].tolist() == ['15','13','14','16','15', 'None']"
   ]
  },
  {
   "cell_type": "code",
   "execution_count": 48,
   "metadata": {},
   "outputs": [
    {
     "name": "stdout",
     "output_type": "stream",
     "text": [
      "                             citation year of publication\n",
      "0     Martelotto et al. J Pathol 2015                  15\n",
      "1            Ho et al. Nat Genet 2013                  13\n",
      "2    Ross et al. Am J Surg Pathl 2014                  14\n",
      "3  Rettig et al, Cancer Prev Res 2016                  16\n",
      "4  Mitani et al. Clin Cancer Res 2015                  15\n",
      "5                                None                None\n"
     ]
    }
   ],
   "source": [
    "df_ascending = df.sort_values(by='year of publication', ascending=True)\n",
    "print(df)"
   ]
  },
  {
   "cell_type": "code",
   "execution_count": null,
   "metadata": {},
   "outputs": [
    {
     "name": "stdout",
     "output_type": "stream",
     "text": [
      "Study Names: ['Adenoid Cystic Carcinoma of the Breast (MSK, J Pathol. 2015)', 'Adenoid Cystic Carcinoma (MSK, Nat Genet 2013)', 'Adenoid Cystic Carcinoma (FMI, Am J Surg Pathl. 2014)', 'Adenoid Cystic Carcinoma (JHU, Cancer Prev Res 2016)', 'Adenoid Cystic Carcinoma (MDA, Clin Cancer Res 2015)', 'Adenoid Cystic Carcinoma (MGH, Nat Gen 2016)', 'Adenoid Cystic Carcinoma (Sanger/MDA, JCI 2013)', 'Adenoid Cystic Carcinoma Project (J Clin Invest 2019)', 'Basal Cell Carcinoma (UNIGE, Nat Genet 2016)', 'Acute Lymphoblastic Leukemia (St Jude, Nat Genet 2015)', 'Ampullary Carcinoma (Baylor College of Medicine, Cell Reports 2016)', 'Hypodiploid Acute Lymphoid Leukemia (St Jude, Nat Genet 2013)', 'Acute Lymphoblastic Leukemia (St Jude, Nat Genet 2016)', 'The Angiosarcoma Project - Count Me In (Nature Medicine, 2020)', 'Breast Fibroepithelial Tumors (Duke-NUS, Nat Genet 2015)', 'Acute Myeloid Leukemia (OHSU, Nature 2018)', 'Appendiceal Cancer (MSK, J Clin Oncol 2022)', 'Metastatic Biliary Tract Cancers (SUMMIT - Neratinib Basket Trial, 2022)', 'Acute Myeloid Leukemia (OHSU, Cancer Cell 2022)', 'Bladder Urothelial Carcinoma (DFCI/MSK, Cancer Discov 2014)', 'Bladder Cancer (MSK, J Clin Onco 2013)', 'Bladder Urothelial Carcinoma (BGI, Nat Genet 2013)', 'Bladder Cancer (MSK, Eur Urol 2014)', 'Nonmuscle Invasive Bladder Cancer (MSK Eur Urol 2017)', 'Bladder Cancer (MSK, Nat Genet 2016)', 'Breast Invasive Carcinoma (Broad, Nature 2012)', 'Bladder Urothelial Carcinoma (TCGA, Nature 2014)', 'Pediatric Brain Cancer (CPTAC/CHOP, Cell 2020)', 'Colorectal Adenocarcinoma (MSK, Nat Commun 2022)', 'Metastatic Breast Cancer (INSERM, PLoS Med 2016)', 'Breast Cancer (MSK, NPJ Breast Cancer 2019)', 'Juvenile Papillomatosis and Breast Cancer (MSK,J Pathol. 2015)', 'MAPK on resistance to anti-HER2 therapy for breast cancer (MSK, Nat Commun. 2022)', 'Breast Cancer (MSK, Clinical Cancer Res 2020)', 'Proteogenomic landscape of breast cancer (CPTAC, Cell 2020)', 'Breast Cancer (HTAN, 2022)', 'Breast Invasive Carcinoma (Sanger, Nature 2012)', 'Breast Invasive Carcinoma (TCGA, Nature 2012)', 'Cancer Cell Line Encyclopedia (Novartis/Broad, Nature 2012)', 'Kidney Renal Clear Cell Carcinoma (IRC, Nat Genet 2014)', 'Renal Clear Cell Carcinoma (UTokyo, Nat Genet 2013)', 'NCI-60 Cell Lines (NCI, Cancer Res 2012)', 'Breast Cancer (MSK, Cancer Cell 2018)', 'Cancer Cell Line Encyclopedia (Broad, 2019)', 'Breast Cancer (MSK, Nature Cancer 2020)', 'Breast Cancer (SMC 2018)', 'Clear Cell Renal Cell Carcinoma (DFCI, Science 2019)', 'Metastatic Breast Cancer (MSK, Cancer Discovery 2022)', 'Intrahepatic Cholangiocarcinoma (JHU, Nat Genet 2013)', 'Cholangiocarcinoma (National Cancer Centre of Singapore, Nat Genet 2013)', 'Cholangiocarcinoma (National University of Singapore, Nat Genet 2012)', 'Chronic Lymphocytic Leukemia (IUOPA, Nature 2015)', 'Chronic Lymphocytic Leukemia (Broad, Nature 2015)', 'Chronic lymphocytic leukemia (ICGC, Nature Genetics 2011)', 'Colon Adenocarcinoma (CaseCCC, PNAS 2015)', 'Cholangiocarcinoma (MSK, Clin Cancer Res 2018)', 'Cholangiocarcinoma (ICGC, Cancer Discov 2017)', 'Colorectal Adenocarcinoma (TCGA, Firehose Legacy)', 'Colorectal Adenocarcinoma (Genentech, Nature 2012)', 'Colorectal Adenocarcinoma Triplets (MSK, Genome Biol 2014)', 'Cutaneous Squamous Cell Carcinoma (DFCI, Clin Cancer Res 2015)', 'Colorectal Adenocarcinoma (DFCI, Cell Reports 2016)', 'Cutaneous Squamous Cell Carcinoma (MD Anderson, Clin Cancer Res 2014)', 'Colon Cancer (CPTAC-2 Prospective, Cell 2019)', 'Colorectal Cancer (MSK, JNCI 2021)', 'Colorectal Cancer (MSK, Gastroenterology 2020)', 'Disparities in metastatic colorectal cancer between Africans and Americans (MSK, 2020)', 'Colorectal Cancer (MSK, JCO Precis Oncol 2022)', 'Colorectal Cancer (MSK, Cancer Discovery 2022)', 'Desmoplastic Melanoma (Broad Institute, Nat Genet 2015)', 'Gastric Adenocarcinoma (TMUCIH, PNAS 2015)', 'Cutaneous T Cell Lymphoma (Columbia U, Nat Genet 2015)', 'Diffuse Large B-Cell Lymphoma (Broad, PNAS 2012)', 'Metastatic Esophagogastric Cancer (MSK, Cancer Discovery 2017)', 'Diffuse Large B-Cell Lymphoma (Duke, Cell 2017)', 'Diffuse Large B cell Lymphoma (DFCI, Nat Med 2018)', 'Esophageal/Stomach Cancer (MSK, 2020)', 'Cutaneous Squamous Cell Carcinoma (UCSF, NPJ Genom Med 2021)', 'Esophagogastric Cancer (MSK, Clin Cancer Res 2022)', 'Esophageal Squamous Cell Carcinoma (UCLA, Nat Genet 2014)', 'Esophageal Adenocarcinoma (DFCI, Nat Genet 2013)', 'Esophageal Squamous Cell Carcinoma (ICGC, Nature 2014)', 'Pediatric Ewing Sarcoma (DFCI, Cancer Discov 2014)', 'Ewing Sarcoma (Institut Curie, Cancer Discov 2014)', 'Gallbladder Carcinoma (Shanghai, Nat Genet 2014)', 'Glioblastoma (TCGA, Nature 2008)', 'Glioblastoma (TCGA, Cell 2013)', 'Germ Cell Tumors (MSK, J Clin Oncol 2016)', 'Gallbladder Cancer (MSK, Cancer 2018)', 'Brain Tumor PDXs (Mayo Clinic, Clin Cancer Res 2020)', 'Esophageal Cancer-TRAP Project (MSK, Lancet Oncol 2020)', 'Glioblastoma (Columbia, Nat Med. 2019)', 'Glioblastoma (CPTAC, Cell 2021)', 'Gallbladder Cancer (MSK, 2022)', 'Recurrent and Metastatic Head & Neck Cancer (MSK, JAMA Oncol 2016)', 'Hepatocellular Carcinomas (INSERM, Nat Genet 2015)', 'Hepatocellular Carcinoma (MSK, Clin Cancer Res 2018)', 'Liver Hepatocellular Adenoma and Carcinomas (MSK, PLOS One 2018)', 'Glioma (MSK, Clin Cancer Res 2019)', 'Glioma (MSK, Nature 2019)', 'Histiocytosis Cobimetinib (MSK, Nature 2019)', 'Germ Cell Tumors and Shared Leukemias (MSK, J Clin Invest 2020)', 'Combined Hepatocellular and Intrahepatic Cholangiocarcinoma (Peking University, Cancer Cell 2019)', 'High-Grade Serous Ovarian Cancer (MSK, NPJ Genome Med 2021)', 'Hepatocellular Carcinoma (MERiC/Basel, Nat Commun. 2022)', 'MSK-IMPACT Heme Tumors (MSK, 2022)', 'Gastrointestinal Stromal Tumor (MSK, NPJ Precis Oncol 2023)', 'Kidney Renal Clear Cell Carcinoma (BGI, Nat Genet 2012)', 'Kidney Renal Clear Cell Carcinoma (TCGA, Nature 2013)', 'Kidney Chromophobe (TCGA, Cancer Cell 2014)', 'Head and Neck Squamous Cell Carcinoma (Broad, Science 2011)', 'Head and Neck Squamous Cell Carcinoma (Johns Hopkins, Science 2011)', 'Head and Neck Squamous Cell Carcinoma (TCGA, Nature 2015)', 'Oral Squamous Cell Carcinoma (MD Anderson, Cancer Discov 2013)', 'Chronic Lymphocytic Leukemia (Broad, Cell 2013)', 'Intrahepatic Cholangiocarcinoma (Shanghai, Nat Commun 2014)', 'Intrahepatic Cholangiocarcinoma (MSK, Clin Cancer Res 2021)', 'Intrahepatic Cholangiocarcinoma (Mount Sinai 2015)', 'Intrahepatic Cholangiocarcinoma (MSK, Hepatology 2021)', 'Low-Grade Gliomas (UCSF, Science 2014)', 'Merged Cohort of LGG and GBM (TCGA, Cell 2016)', 'Liver Hepatocellular Carcinoma (AMC, Hepatology 2014)', 'Liver Hepatocellular Carcinoma (RIKEN, Nat Genet 2012)', 'Lung Adenocarcinoma (MSK, Science 2015)', 'Lung Adenocarcinoma (Broad, Cell 2012)', 'Lung Adenocarcinoma (TCGA, Nature 2014)', 'Lung Adenocarcinoma (TSP, Nature 2008)', 'Hepatocellular Adenoma (INSERM, Cancer Cell 2014)', 'Non-Small Cell Cancer (MSK, Cancer Discov 2017)', 'Lung Adenocarcinoma (MSK, J Thorac Oncol 2020)', 'Lung Adenocarcinoma Met Organotropism (MSK, Cancer Cell 2023)', 'Lung Adenocarcinoma (MSK, NPJ Precision Oncology 2021)', 'Lung Adenocarcinoma (MSK, 2021)', 'Lung Adenocarcinoma (CPTAC, Cell 2020)', 'Low-Grade Serous Ovarian Cancer (MSK, Clin Cancer Res 2022)', 'Lung Squamous Cell Carcinoma (TCGA, Nature 2012)', 'Medulloblastoma (Broad, Nature 2012)', 'Medulloblastoma (ICGC, Nature 2012)', 'Medulloblastoma (PCGP, Nature 2012)', 'Mantle Cell Lymphoma (IDIBIPS, PNAS 2013)', 'Myelodysplasia (UTokyo, Nature 2011)', 'Medulloblastoma (Sickkids, Nature 2016)', 'Metastatic Melanoma (UCLA, Cell 2016)', 'Thoracic PDX (MSK, Provisional)', 'Lymphoma Cell Lines (MSK, Blood 2020)', 'Myelodysplastic (MSK, 2020)', 'Lung Cancer (SMC, Cancer Research 2016)', 'Metaplastic Breast Cancer (MSK,NPJ Breast Cancer 2021)', 'Melanoma (MSK, Clin Cancer Res 2021)', 'Thoracic Cancer (MSK, Nat Commun 2021)', 'Medulloblastoma (DKFZ, Nature 2017)', 'Lung Squamous Cell Carcinoma (CPTAC, Cell 2021)', 'Lung Cancer in Never Smokers (NCI, Nature Genetics 2021)', 'Myelodysplastic Syndromes (MDS IWG, IPSSM, NEJM Evidence 2022)', 'Multiple Myeloma (Broad, Cancer Cell 2014)', 'Malignant Peripheral Nerve Sheath Tumor (MSK, Nat Genet 2014)', 'Neuroblastoma (AMC Amsterdam, Nature 2012)', 'Rhabdoid Cancer (BCGSC, Cancer Cell 2016)', 'MSK-IMPACT Clinical Sequencing Cohort (MSK, Nat Med 2017)', 'Pediatric Pan-cancer (Columbia U, Genome Med 2016)', 'MSS Mixed Solid Tumors (Broad/Dana-Farber, Nat Genet 2018)', 'Myeloproliferative Neoplasms (CIMR, NEJM 2013)', 'Acute myeloid leukemia or myelodysplastic syndromes (WashU, 2016)', 'Metastatic Solid Cancers (UMich, Nature 2017)', 'Mixed Tumors Selpercatinib RET Trial (MSK, Nat Commun. 2022)', 'Mixed cfDNA (MSK, Genome Med 2021)', 'Cancer Therapy and Clonal Hematopoiesis (MSK, Nat Genet 2020)', 'MSK MetTropism (MSK, Cell 2021)', 'MSK-IMPACT and MSK-ACCESS Mixed Cohort (MSK, Nat Commun 2021)', 'The Metastatic Prostate Cancer Project (Provisional, June 2021)', 'Cancer Therapy and Clonal Hematopoiesis (MSK, Clin Cancer Res 2022)', 'Pediatric Pancan Tumors (MSK,Nat Commun. 2022)', 'Pan-Cancer MSK-IMPACT MET Validation Cohort (MSK 2022)', 'Renal Non-Clear Cell Carcinoma (Genentech, Nat Genet 2014)', 'Nasopharyngeal Carcinoma (Singapore, Nat Genet 2014)', 'Neuroendocrine Prostate Cancer (Multi-Institute, Nat Med 2016)', 'Neuroblastoma (Broad, Nature 2015)', 'Pan-Lung Cancer (TCGA, Nat Genet 2016)', 'Neuroblastoma (Broad, Nat Genet 2013)', 'Non-Hodgkin Lymphoma (BCGSC, Nature 2011)', 'Diffuse Large B-cell Lymphoma (BCGSC, Blood 2013)', 'Anaplastic Oligodendroglioma and Anaplastic Oligoastrocytoma (MSK, Neuro Oncol 2017)', 'Non-Small Cell Lung Cancer (University of Turin, Lung Cancer 2017)', 'Non-Small Cell Lung Cancer (TRACERx, NEJM & Nature 2017)', 'Pediatric Neuroblastoma (TARGET, 2018)', 'Non-Small Cell Lung Cancer (MSK, J Clin Oncol 2018)', 'Non-Small Cell Lung Cancer (MSK, Science 2015)', 'Non-Small Cell Lung Cancer (MSK, Cancer Cell 2018)', 'Metastatic Non-Small Cell Lung Cancer (MSK, Nature Medicine 2022)', 'Pediatric Neuroblastoma (MSK, Nat Genet 2023)', 'Ovarian Serous Cystadenocarcinoma (TCGA, Nature 2011)', 'Acinar Cell Carcinoma of the Pancreas (JHU, J Pathol 2014)', 'Pancreatic Adenocarcinoma (ICGC, Nature 2012)', 'Pancreatic Cancer (UTSW, Nat Commun 2015)', 'Pancreatic Neuroendocrine Tumors (Johns Hopkins University, Science 2011)', 'Primary Central Nervous System Lymphoma (Mayo Clinic, Clin Cancer Res 2015)', 'Insulinoma (Shanghai, Nat Commun 2013)', 'Pleural Mesothelioma (NYU, Cancer Res 2015)', 'Pancreatic Adenocarcinoma (QCMG, Nature 2016)', 'Cystic Tumor of the Pancreas (Johns Hopkins, PNAS 2011)', 'Pancreatic Neuroendocrine Tumors (Multi-Institute, Nature 2017)', 'Pilocytic Astrocytoma (ICGC, Nature Genetics 2013)', 'Pheochromocytoma and Paraganglioma (TCGA, Cell 2017)', 'Pediatric Pan-Cancer (DKFZ, Nature 2017)', 'Tumors with TRK fusions (MSK, Clin Cancer Res 2020)', 'China Pan-cancer (OrigiMed, Nature 2022)', 'Pancreatic Ductal Adenocarcinoma (CPTAC, Cell 2021)', 'Bladder Cancer (MSK, Cell Reports 2022)', 'Pancreatic Acinar Cell Carcinoma (MSK, JCO 2023)', 'Prostate Adenocarcinoma (Fred Hutchinson CRC, Nat Med 2016)', 'Prostate Adenocarcinoma (Broad/Cornell, Nat Genet 2012)', 'Prostate Adenocarcinoma (Broad/Cornell, Cell 2013)', 'Metastatic Prostate Adenocarcinoma (MCTP, Nature 2012)', 'Prostate Adenocarcinoma (MSK, Cancer Cell 2010)', 'Prostate Adenocarcinoma (MSK, PNAS 2014)', 'Metastatic Prostate Cancer (SU2C/PCF Dream Team, Cell 2015)', 'Prostate Adenocarcinoma (TCGA, Cell 2015)', 'Prostate Adenocarcinoma (CPC-GENE, Nature 2017)', 'Prostate Adenocarcinoma Organoids (MSK, Cell 2014)', 'Metastatic castration-sensitive prostate cancer (MSK, Clin Cancer Res 2020)', 'Retinoblastoma cfDNA (MSK, Cancer Med 2020)', 'Race Differences in Prostate Cancer (MSK, 2021)', 'Prostate Adenocarcinoma (MSK, Clin Cancer Res. 2022)', 'Prostate Cancer Brain Metastases (Bern, Nat Commun. 2022)', 'Skin Cutaneous Melanoma (TCGA, Firehose Legacy)', 'Small Cell Lung Cancer (CLCGP, Nat Genet 2012)', 'Small Cell Lung Cancer (Johns Hopkins, Nat Genet 2012)', 'Skin Cutaneous Melanoma (Broad, Cell 2012)', 'Melanoma (Broad/Dana Farber, Nature 2012)', 'Small Cell Carcinoma of the Ovary (MSK, Nat Genet 2014)', 'Rhabdomyosarcoma (NIH, Cancer Discov 2014)', 'Sarcoma (MSKCC/Broad, Nat Genet 2010)', 'Skin Cutaneous Melanoma(Broad, Cancer Discov 2014)', 'Adult Soft Tissue Sarcomas (TCGA, Cell 2017)', 'Melanoma (MSK, NEJM 2014)', 'Small-Cell Lung Cancer (Multi-Institute, Cancer Cell 2017)', 'Melanomas (TCGA, Cell 2015)', 'Metastatic Melanoma (DFCI, Science 2015)', 'Small Cell Lung Cancer (U Cologne, Nature 2015)', 'Sarcoma (MSK, Nat Commun. 2022)', 'Retinoblastoma (MSK, Cancers 2021)', 'Rectal Cancer (MSK, Nature Medicine 2022)', 'Skin Cutaneous Melanoma (Yale, Nat Genet 2012)', 'Stomach Adenocarcinoma (Pfizer and UHK, Nat Genet 2014)', 'Stomach Adenocarcinoma (TCGA, Nature 2014)', 'Stomach Adenocarcinoma (UHK, Nat Genet 2011)', 'Stomach Adenocarcinoma (U Tokyo, Nat Genet 2014)', 'Thymic Epithelial Tumors (NCI, Nat Genet 2014)', 'Poorly-Differentiated and Anaplastic Thyroid Cancers (MSK, JCI 2016)', 'Papillary Thyroid Carcinoma (TCGA, Cell 2014)', 'Esophageal Carcinoma (TCGA, Nature 2017)', 'Metastatic Melanoma (MSK, JCO Precis Oncol 2017)', 'Prostate Cancer (MSK, JCO Precis Oncol 2017)', 'Prostate Adenocarcinoma (SMMU, Eur Urol 2017)', 'SUMMIT - Neratinib Basket Study (Multi-Institute, Nature 2018)', 'Prostate Adenocarcinoma (MSK/DFCI, Nature Genetics 2018)', 'TMB and Immunotherapy (MSK, Nat Genet 2019)', 'Metastatic Prostate Adenocarcinoma (SU2C/PCF Dream Team, PNAS 2019)', 'Prostate Cancer (MSK, Cell Metab 2020)', 'Prostate Adenocarcinoma (MSK, Eur Urol 2020)', 'Myoepithelial Carcinomas of Soft Tissue (WCM, CSH Molecular Case Studies 2022)', 'Uterine Carcinosarcoma (Johns Hopkins, Nat Commun 2014)', 'Uterine Corpus Endometrial Carcinoma (TCGA, Nature 2013)', 'Uveal Melanoma (QIMR, Oncotarget 2016)', 'Unclassified Renal Cell Carcinoma (MSK, Nature 2016)', 'Upper Tract Urothelial Cancer (MSK, Eur Urol 2015)', \"Pediatric Wilms' Tumor (TARGET, 2018)\", 'Endometrial Cancer (MSK, 2018)', 'Uterine Clear Cell Carcinoma (NIH, Cancer 2017)', 'Squamous Cell Carcinoma of the Vulva (CUK, Exp Mol Med 2018)', 'Upper Tract Urothelial Carcinoma (Cornell/Baylor/MDACC, Nat Commun 2019)', 'Upper Tract Urothelial Carcinoma (MSK, Nat Commun 2020)', 'Upper Tract Urothelial Carcinoma PDX (MSK, Nat Commun 2020)', 'Uterine Sarcoma/Mesenchymal (MSK, Clin Cancer Res 2020)', 'Upper Tract Urothelial Carcinoma (IGBMC, Genome Biology 2021)', 'Endometrial Carcinoma (CPTAC, Cell 2020)', 'Endometrial Carcinoma MSI (MSK, Clin Cancer Res 2022)', 'Breast Invasive Carcinoma (British Columbia, Nature 2012)', 'Mixed cfDNA (MSK, Nature Medicine 2019)', 'Non-CDH1 Invasive Lobular Carcinoma (MSK, 2023)', 'Bladder Cancer (Columbia University/MSK, Cell 2018)', 'Colon Cancer (Sidra-LUMC AC-ICAM, Nat Med 2023)', 'Bladder Cancer (MSK/TCGA, 2020)', 'MSK Make-an-IMPACT Rare Cancers (MSK, Clin Cancer Res 2023)', 'Pediatric Rhabdomyosarcomas (MSK, JCO Precis Oncol 2023)', 'Rhabdomyosarcomas (MSK, NPJ Precis Oncol 2023)', 'Sarcoma (MSK, J Pathol 2023)', 'Esophagogastric Cancer (MSK, Clin Cancer Res 2023)', 'Hepatocellular Carcinoma (MSK, JCO Precis Oncol 2023)', 'Endometrial Cancer (MSK, Cancer Discovery 2023)', 'Ewing Sarcoma (MSK, 2023)', 'Bladder Cancer (MSK, Clin Cancer Res 2023)', 'Non-Small Cell Lung Cancer Brain Metastasis (MSK, Nat Commun 2023)', 'Cervical Cancer (MSK, Clin Cancer Res 2023)', 'Adrenocortical Carcinoma (TCGA, Firehose Legacy)', 'Bladder Urothelial Carcinoma (TCGA, Firehose Legacy)', 'Breast Cancer Xenografts (British Columbia, Nature 2015)', 'The Metastatic Breast Cancer Project (Archived, 2020)', 'Pediatric Acute Lymphoid Leukemia - Phase II (TARGET, 2018)', 'Pediatric Acute Myeloid Leukemia (TARGET, 2018)', 'Bladder Cancer (TCGA, Cell 2017)', 'Urothelial Carcinoma (Cornell/Trento, Nat Gen 2016)', 'Urothelial Carcinoma (BCAN/HCRN, Nat Commun 2022)', 'The Angiosarcoma Project (Provisional, July 2020)', 'The Metastatic Breast Cancer Project (Provisional, December 2021)', 'Breast Invasive Carcinoma (TCGA, Firehose Legacy)', 'Cervical Squamous Cell Carcinoma and Endocervical Adenocarcinoma (TCGA, Firehose Legacy)', 'Cholangiocarcinoma (TCGA, Firehose Legacy)', 'Lymphoid Neoplasm Diffuse Large B-cell Lymphoma (TCGA, Firehose Legacy)', 'Esophageal Carcinoma (TCGA, Firehose Legacy)', 'Glioblastoma Multiforme (TCGA, Firehose Legacy)', 'Head and Neck Squamous Cell Carcinoma (TCGA, Firehose Legacy)', 'Breast Invasive Carcinoma (TCGA, Cell 2015)', 'Colorectal Adenocarcinoma (TCGA, Nature 2012)', 'Diffuse Glioma (GLASS Consortium, Nature 2019)', 'Esophagogastric Cancer (MSK, J Natl Cancer Inst 2023)', 'Diffuse Large B-Cell Lymphoma (MSK, 2024)', 'Lung Adenocarcinoma (MSK Mind,Nature Cancer 2022)', 'Mature T and NK Neoplasms (MSK, Blood Adv 2023)', 'Acute Myeloid Leukemia (TCGA, Firehose Legacy)', 'Kidney Renal Clear Cell Carcinoma (TCGA, Firehose Legacy)', 'Kidney Chromophobe (TCGA, Firehose Legacy)', 'Brain Lower Grade Glioma (TCGA, Firehose Legacy)', 'Liver Hepatocellular Carcinoma (TCGA, Firehose Legacy)', 'Lung Adenocarcinoma (TCGA, Firehose Legacy)', 'Lung Squamous Cell Carcinoma (TCGA, Firehose Legacy)', 'Mesothelioma (TCGA, Firehose Legacy)', 'Ovarian Serous Cystadenocarcinoma (TCGA, Firehose Legacy)', 'Kidney Renal Papillary Cell Carcinoma (TCGA, Firehose Legacy)', 'Acute Myeloid Leukemia (TCGA, NEJM 2013)', 'Acral Melanoma (TGEN, Genome Res 2017)', 'Mature B-cell malignancies (MD Anderson Cancer Center)', 'Metastatic Melanoma (DFCI, Nature Medicine 2019)', 'Meningioma (University of Toronto, Nature 2021)', 'Pancreatic Adenocarcinoma (TCGA, Firehose Legacy)', 'Pheochromocytoma and Paraganglioma (TCGA, Firehose Legacy)', 'Prostate Adenocarcinoma (TCGA, Firehose Legacy)', 'Sarcoma (TCGA, Firehose Legacy)', 'Stomach Adenocarcinoma (TCGA, Firehose Legacy)', 'Testicular Germ Cell Cancer (TCGA, Firehose Legacy)', 'Thymoma (TCGA, Firehose Legacy)', 'Thyroid Carcinoma (TCGA, Firehose Legacy)', 'Uterine Corpus Endometrial Carcinoma (TCGA, Firehose Legacy)', 'Uterine Carcinosarcoma (TCGA, Firehose Legacy)', 'Uveal Melanoma (TCGA, Firehose Legacy)', 'Pediatric Rhabdoid Tumor (TARGET, 2018)', 'Prostate Cancer (DKFZ, Cancer Cell 2018)', 'Pediatric Preclinical Testing Consortium  (CHOP, Cell Rep 2019)', 'Gastric Cancer (OncoSG, 2018)', 'Pan-cancer Analysis of Advanced and Metastatic Tumors (BCGSC, Nature Cancer 2020)', 'Leiomyosarcoma  (MSK,2024)', 'Metastatic Colorectal Cancer (MSK, Cancer Cell 2018)', 'Endometrial and Ovarian Cancer (MSK, 2024)', 'BRAF Fusions - IMPACT Clinical Sequencing Cohort (MSKCC)', 'Breast Cancer (METABRIC, Nature 2012 & Nat Commun 2016)', 'BRAF Fusions - ARCHER Clinical Sequencing Cohort (MSKCC)', 'Diffuse Glioma (GLASS Consortium)', 'Hepatocellular Carcinoma (MSK, 2024)', 'Colorectal Cancer (CAS Shanghai, Cancer Cell 2020)', 'Mature B-Cell Neoplasms (Simon Fraser University, Blood 2023)', 'Pre-cancer Colorectal Polyps (HTAN Vanderbilt, Cell 2021)', 'IDH-mutated Diffuse Glioma (MSK, Clin Cancer Res 2024)', 'Anaplastic Thyroid Cancers (GATCI, Cell Reports 2024)', 'Prostate Cancer MDA PCa PDX (MD Anderson, Clin Cancer Res 2024)', 'Soft Tissue and Bone Sarcoma (MSK, Nat Commun 2022)', 'Pleural Mesothelioma (MSK, Clin Cancer Res 2024)', 'Prostate Cancer (MSK, Science 2022)', 'Chronic Lymphocytic Leukemia (Broad, Nature Genetics 2022)', 'MSK ctDNA Sequencing Cohort (MSK,2024)', 'Ovarian Cancer - MSK SPECTRUM (MSK, Nature 2022)', 'Nerve Sheath Tumors (Johns Hopkins, Sci Data 2020)', 'Prostate Cancer (MSK 2024)', 'Pediatric MAPPYACTS (Gustave Roussy, Cancer Discov 2022)', 'Cutaneous Squamous Cell Carcinoma (UOW, Front Oncol 2022)', 'Metastatic Breast Cancer (AURORA US Network, Nat Cancer 2023)', 'Rectal Cancer (MSK,Nature Medicine 2019)', 'Endometrial Carcinoma cfDNA (MSK, Clin Cancer Res 2022)', 'Cancer Therapy and Clonal Hematopoiesis (MSK, Blood Adv 2023)', 'Lung Adenocarcinoma (OncoSG, Nat Genet 2020)', 'RAD51B Associated Mixed Cancers (MSK, NPJ 2021)', 'Gastrointestinal Stromal Tumors (MSK, Clin Cancer Res 2023)', 'Pancreatic Neuroendocrine Tumors (MSK, 2023)', 'Primary CNS Lymphoma - Ibrutinib Long Term Follow Up (MSK, 2024)', 'Adrenocortical Carcinoma (TCGA, PanCancer Atlas)', 'Bladder Urothelial Carcinoma (TCGA, PanCancer Atlas)', 'Breast Invasive Carcinoma (TCGA, PanCancer Atlas)', 'Cervical Squamous Cell Carcinoma (TCGA, PanCancer Atlas)', 'Cholangiocarcinoma (TCGA, PanCancer Atlas)', 'Diffuse Large B-Cell Lymphoma (TCGA, PanCancer Atlas)', 'Esophageal Adenocarcinoma (TCGA, PanCancer Atlas)', 'Glioblastoma Multiforme (TCGA, PanCancer Atlas)', 'Head and Neck Squamous Cell Carcinoma (TCGA, PanCancer Atlas)', 'Pan-cancer analysis of whole genomes (ICGC/TCGA, Nature 2020)', 'Colorectal Adenocarcinoma (TCGA, PanCancer Atlas)', 'Kidney Chromophobe (TCGA, PanCancer Atlas)', 'Kidney Renal Clear Cell Carcinoma (TCGA, PanCancer Atlas)', 'Kidney Renal Papillary Cell Carcinoma (TCGA, PanCancer Atlas)', 'Acute Myeloid Leukemia (TCGA, PanCancer Atlas)', 'Brain Lower Grade Glioma (TCGA, PanCancer Atlas)', 'Liver Hepatocellular Carcinoma (TCGA, PanCancer Atlas)', 'Lung Adenocarcinoma (TCGA, PanCancer Atlas)', 'Lung Squamous Cell Carcinoma (TCGA, PanCancer Atlas)', 'Mesothelioma (TCGA, PanCancer Atlas)', 'Ovarian Serous Cystadenocarcinoma (TCGA, PanCancer Atlas)', 'Pancreatic Adenocarcinoma (TCGA, PanCancer Atlas)', 'Pheochromocytoma and Paraganglioma (TCGA, PanCancer Atlas)', 'Prostate Adenocarcinoma (TCGA, PanCancer Atlas)', 'Sarcoma (TCGA, PanCancer Atlas)', 'Skin Cutaneous Melanoma (TCGA, PanCancer Atlas)', 'Stomach Adenocarcinoma (TCGA, PanCancer Atlas)', 'Testicular Germ Cell Tumors (TCGA, PanCancer Atlas)', 'Thyroid Carcinoma (TCGA, PanCancer Atlas)', 'Thymoma (TCGA, PanCancer Atlas)', 'Uterine Corpus Endometrial Carcinoma (TCGA, PanCancer Atlas)', 'Uterine Carcinosarcoma (TCGA, PanCancer Atlas)', 'Uveal Melanoma (TCGA, PanCancer Atlas)', 'Pancreatic Adenocarcinoma (MSK, 2024)', 'ERBB2-mutant Endometrial cancer (MSK,2024)']\n"
     ]
    }
   ],
   "source": [
    "import requests\n",
    "\n",
    "headers = {\n",
    "    'Content-Type': 'application/json'  \n",
    "}\n",
    "\n",
    "studies_url = 'https://www.cbioportal.org/api/studies'\n",
    "\n",
    "# Make GET request to fetch study data\n",
    "response = requests.get(studies_url, headers=headers)\n",
    "    \n",
    "# Check if request was successful\n",
    "if response.status_code == 200:\n",
    "    # Convert response to JSON\n",
    "    studies_data = response.json()\n",
    "    \n",
    "    # Initialize a list to store study names\n",
    "    study_names = []\n",
    "    \n",
    "    # Extract study names from each study object\n",
    "    for study in studies_data:\n",
    "        if 'name' in study:\n",
    "            study_names.append(study['name'])\n",
    "    \n",
    "    # Print or use study names as needed\n",
    "    print(\"Study Names:\", study_names)\n",
    "        \n",
    "else:\n",
    "    print(\"Error:\", response.status_code, response.text)\n",
    "\n"
   ]
  },
  {
   "cell_type": "code",
   "execution_count": null,
   "metadata": {},
   "outputs": [
    {
     "name": "stdout",
     "output_type": "stream",
     "text": [
      "Study Years: ['15)', '13)', '14)', '16)', '15)', '16)', '13)', '19)', '16)', '15)', '16)', '13)', '16)', ')', '15)', '18)', '22)', '22)', '22)', '14)', '13)', '13)', '14)', '17)', '16)', '12)', '14)', ')', '22)', '16)', '19)', '15)', '22)', ')', ')', '22)', '12)', '12)', '12)', '14)', '13)', '12)', '18)', '19)', ')', '18)', '19)', '22)', '13)', '13)', '12)', '15)', '15)', '11)', '15)', '18)', '17)', 'Colorectal Adenocarcinoma (TCGA, Firehose Legacy)', '12)', '14)', '15)', '16)', '14)', '19)', '21)', ')', ')', '22)', '22)', '15)', '15)', '15)', '12)', '17)', '17)', '18)', ')', '21)', '22)', '14)', '13)', '14)', '14)', '14)', '14)', '08)', '13)', '16)', '18)', ')', ')', '19)', '21)', '22)', '16)', '15)', '18)', '18)', '19)', '19)', '19)', ')', '19)', '21)', '22)', '22)', '23)', '12)', '13)', '14)', '11)', '11)', '15)', '13)', '13)', '14)', '21)', '15)', '21)', '14)', '16)', '14)', '12)', '15)', '12)', '14)', '08)', '14)', '17)', ')', '23)', '21)', '21)', ')', '22)', '12)', '12)', '12)', '12)', '13)', '11)', '16)', '16)', 'Thoracic PDX (MSK, Provisional)', ')', ')', '16)', '21)', '21)', '21)', '17)', '21)', '21)', '22)', '14)', '14)', '12)', '16)', '17)', '16)', '18)', '13)', '16)', '17)', '22)', '21)', ')', '21)', '21)', '21)', '22)', '22)', '22)', '14)', '14)', '16)', '15)', '16)', '13)', '11)', '13)', '17)', '17)', '17)', '18)', '18)', '15)', '18)', '22)', '23)', '11)', '14)', '12)', '15)', '11)', '15)', '13)', '15)', '16)', '11)', '17)', '13)', '17)', '17)', ')', '22)', '21)', '22)', '23)', '16)', '12)', '13)', '12)', '10)', '14)', '15)', '15)', '17)', '14)', ')', ')', '21)', '22)', '22)', 'Skin Cutaneous Melanoma (TCGA, Firehose Legacy)', '12)', '12)', '12)', '12)', '14)', '14)', '10)', '14)', '17)', '14)', '17)', '15)', '15)', '15)', '22)', '21)', '22)', '12)', '14)', '14)', '11)', '14)', '14)', '16)', '14)', '17)', '17)', '17)', '17)', '18)', '18)', '19)', '19)', ')', ')', '22)', '14)', '13)', '16)', '16)', '15)', '18)', '18)', '17)', '18)', '19)', ')', ')', ')', '21)', ')', '22)', '12)', '19)', '23)', '18)', '23)', ')', '23)', '23)', '23)', '23)', '23)', '23)', '23)', '23)', '23)', '23)', '23)', 'Adrenocortical Carcinoma (TCGA, Firehose Legacy)', 'Bladder Urothelial Carcinoma (TCGA, Firehose Legacy)', '15)', ')', '18)', '18)', '17)', '16)', '22)', ')', '21)', 'Breast Invasive Carcinoma (TCGA, Firehose Legacy)', 'Cervical Squamous Cell Carcinoma and Endocervical Adenocarcinoma (TCGA, Firehose Legacy)', 'Cholangiocarcinoma (TCGA, Firehose Legacy)', 'Lymphoid Neoplasm Diffuse Large B-cell Lymphoma (TCGA, Firehose Legacy)', 'Esophageal Carcinoma (TCGA, Firehose Legacy)', 'Glioblastoma Multiforme (TCGA, Firehose Legacy)', 'Head and Neck Squamous Cell Carcinoma (TCGA, Firehose Legacy)', '15)', '12)', '19)', '23)', '24)', '22)', '23)', 'Acute Myeloid Leukemia (TCGA, Firehose Legacy)', 'Kidney Renal Clear Cell Carcinoma (TCGA, Firehose Legacy)', 'Kidney Chromophobe (TCGA, Firehose Legacy)', 'Brain Lower Grade Glioma (TCGA, Firehose Legacy)', 'Liver Hepatocellular Carcinoma (TCGA, Firehose Legacy)', 'Lung Adenocarcinoma (TCGA, Firehose Legacy)', 'Lung Squamous Cell Carcinoma (TCGA, Firehose Legacy)', 'Mesothelioma (TCGA, Firehose Legacy)', 'Ovarian Serous Cystadenocarcinoma (TCGA, Firehose Legacy)', 'Kidney Renal Papillary Cell Carcinoma (TCGA, Firehose Legacy)', '13)', '17)', 'Mature B-cell malignancies (MD Anderson Cancer Center)', '19)', '21)', 'Pancreatic Adenocarcinoma (TCGA, Firehose Legacy)', 'Pheochromocytoma and Paraganglioma (TCGA, Firehose Legacy)', 'Prostate Adenocarcinoma (TCGA, Firehose Legacy)', 'Sarcoma (TCGA, Firehose Legacy)', 'Stomach Adenocarcinoma (TCGA, Firehose Legacy)', 'Testicular Germ Cell Cancer (TCGA, Firehose Legacy)', 'Thymoma (TCGA, Firehose Legacy)', 'Thyroid Carcinoma (TCGA, Firehose Legacy)', 'Uterine Corpus Endometrial Carcinoma (TCGA, Firehose Legacy)', 'Uterine Carcinosarcoma (TCGA, Firehose Legacy)', 'Uveal Melanoma (TCGA, Firehose Legacy)', '18)', '18)', '19)', '18)', ')', '24)', '18)', '24)', 'BRAF Fusions - IMPACT Clinical Sequencing Cohort (MSKCC)', '16)', 'BRAF Fusions - ARCHER Clinical Sequencing Cohort (MSKCC)', 'Diffuse Glioma (GLASS Consortium)', '24)', ')', '23)', '21)', '24)', '24)', '24)', '22)', '24)', '22)', '22)', '24)', '22)', ')', '24)', '22)', '22)', '23)', '19)', '22)', '23)', ')', '21)', '23)', '23)', '24)', 'Adrenocortical Carcinoma (TCGA, PanCancer Atlas)', 'Bladder Urothelial Carcinoma (TCGA, PanCancer Atlas)', 'Breast Invasive Carcinoma (TCGA, PanCancer Atlas)', 'Cervical Squamous Cell Carcinoma (TCGA, PanCancer Atlas)', 'Cholangiocarcinoma (TCGA, PanCancer Atlas)', 'Diffuse Large B-Cell Lymphoma (TCGA, PanCancer Atlas)', 'Esophageal Adenocarcinoma (TCGA, PanCancer Atlas)', 'Glioblastoma Multiforme (TCGA, PanCancer Atlas)', 'Head and Neck Squamous Cell Carcinoma (TCGA, PanCancer Atlas)', ')', 'Colorectal Adenocarcinoma (TCGA, PanCancer Atlas)', 'Kidney Chromophobe (TCGA, PanCancer Atlas)', 'Kidney Renal Clear Cell Carcinoma (TCGA, PanCancer Atlas)', 'Kidney Renal Papillary Cell Carcinoma (TCGA, PanCancer Atlas)', 'Acute Myeloid Leukemia (TCGA, PanCancer Atlas)', 'Brain Lower Grade Glioma (TCGA, PanCancer Atlas)', 'Liver Hepatocellular Carcinoma (TCGA, PanCancer Atlas)', 'Lung Adenocarcinoma (TCGA, PanCancer Atlas)', 'Lung Squamous Cell Carcinoma (TCGA, PanCancer Atlas)', 'Mesothelioma (TCGA, PanCancer Atlas)', 'Ovarian Serous Cystadenocarcinoma (TCGA, PanCancer Atlas)', 'Pancreatic Adenocarcinoma (TCGA, PanCancer Atlas)', 'Pheochromocytoma and Paraganglioma (TCGA, PanCancer Atlas)', 'Prostate Adenocarcinoma (TCGA, PanCancer Atlas)', 'Sarcoma (TCGA, PanCancer Atlas)', 'Skin Cutaneous Melanoma (TCGA, PanCancer Atlas)', 'Stomach Adenocarcinoma (TCGA, PanCancer Atlas)', 'Testicular Germ Cell Tumors (TCGA, PanCancer Atlas)', 'Thyroid Carcinoma (TCGA, PanCancer Atlas)', 'Thymoma (TCGA, PanCancer Atlas)', 'Uterine Corpus Endometrial Carcinoma (TCGA, PanCancer Atlas)', 'Uterine Carcinosarcoma (TCGA, PanCancer Atlas)', 'Uveal Melanoma (TCGA, PanCancer Atlas)', '24)', '24)']\n"
     ]
    }
   ],
   "source": [
    "import requests\n",
    "\n",
    "headers = {\n",
    "    'Content-Type': 'application/json'  \n",
    "}\n",
    "\n",
    "studies_url = 'https://www.cbioportal.org/api/studies'\n",
    "\n",
    "# Make GET request to fetch study data\n",
    "response = requests.get(studies_url, headers=headers)\n",
    "    \n",
    "# Check if request was successful\n",
    "if response.status_code == 200:\n",
    "    # Convert response to JSON\n",
    "    studies_data = response.json()\n",
    "    \n",
    "    # Initialize a list to store study years\n",
    "    study_years = []\n",
    "    \n",
    "    # Extract study years from each study object\n",
    "    for study in studies_data:\n",
    "        if 'name' in study:\n",
    "            # Extract the year from the cancer type ID or any relevant field\n",
    "            # Example: Assuming the year is embedded in the cancer type ID\n",
    "            year = study['name'].split('20')[-1]  # Extracts the last part assuming it's a year\n",
    "            study_years.append(year)\n",
    "    \n",
    "    # Print or use study years as needed\n",
    "    print(\"Study Years:\", study_years)\n",
    "        \n",
    "else:\n",
    "    print(\"Error:\", response.status_code, response.text)\n"
   ]
  },
  {
   "cell_type": "code",
   "execution_count": null,
   "metadata": {},
   "outputs": [],
   "source": [
    "import collections\n",
    "years = ['15)', '13)', '14)', '16)', '15)', '16)', '13)', '19)', '16)', '15)', '16)', '13)', '16)', ')', '15)', '18)', '22)', '22)', '22)', '14)', '13)', '13)', '14)', '17)', '16)', '12)', '14)', ')', '22)', '16)', '19)', '15)', '22)', ')', ')', '22)', '12)', '12)', '12)', '14)', '13)', '12)', '18)', '19)', ')', '18)', '19)', '22)', '13)', '13)', '12)', '15)', '15)', '11)', '15)', '18)', '17)', 'Colorectal Adenocarcinoma (TCGA, Firehose Legacy)', '12)', '14)', '15)', '16)', '14)', '19)', '21)', ')', ')', '22)', '22)', '15)', '15)', '15)', '12)', '17)', '17)', '18)', ')', '21)', '22)', '14)', '13)', '14)', '14)', '14)', '14)', '08)', '13)', '16)', '18)', ')', ')', '19)', '21)', '22)', '16)', '15)', '18)', '18)', '19)', '19)', '19)', ')', '19)', '21)', '22)', '22)', '23)', '12)', '13)', '14)', '11)', '11)', '15)', '13)', '13)', '14)', '21)', '15)', '21)', '14)', '16)', '14)', '12)', '15)', '12)', '14)', '08)', '14)', '17)', ')', '23)', '21)', '21)', ')', '22)', '12)', '12)', '12)', '12)', '13)', '11)', '16)', '16)', 'Thoracic PDX (MSK, Provisional)', ')', ')', '16)', '21)', '21)', '21)', '17)', '21)', '21)', '22)', '14)', '14)', '12)', '16)', '17)', '16)', '18)', '13)', '16)', '17)', '22)', '21)', ')', '21)', '21)', '21)', '22)', '22)', '22)', '14)', '14)', '16)', '15)', '16)', '13)', '11)', '13)', '17)', '17)', '17)', '18)', '18)', '15)', '18)', '22)', '23)', '11)', '14)', '12)', '15)', '11)', '15)', '13)', '15)', '16)', '11)', '17)', '13)', '17)', '17)', ')', '22)', '21)', '22)', '23)', '16)', '12)', '13)', '12)', '10)', '14)', '15)', '15)', '17)', '14)', ')', ')', '21)', '22)', '22)', 'Skin Cutaneous Melanoma (TCGA, Firehose Legacy)', '12)', '12)', '12)', '12)', '14)', '14)', '10)', '14)', '17)', '14)', '17)', '15)', '15)', '15)', '22)', '21)', '22)', '12)', '14)', '14)', '11)', '14)', '14)', '16)', '14)', '17)', '17)', '17)', '17)', '18)', '18)', '19)', '19)', ')', ')', '22)', '14)', '13)', '16)', '16)', '15)', '18)', '18)', '17)', '18)', '19)', ')', ')', ')', '21)', ')', '22)', '12)', '19)', '23)', '18)', '23)', ')', '23)', '23)', '23)', '23)', '23)', '23)', '23)', '23)', '23)', '23)', '23)', 'Adrenocortical Carcinoma (TCGA, Firehose Legacy)', 'Bladder Urothelial Carcinoma (TCGA, Firehose Legacy)', '15)', ')', '18)', '18)', '17)', '16)', '22)', ')', '21)', 'Breast Invasive Carcinoma (TCGA, Firehose Legacy)', 'Cervical Squamous Cell Carcinoma and Endocervical Adenocarcinoma (TCGA, Firehose Legacy)', 'Cholangiocarcinoma (TCGA, Firehose Legacy)', 'Lymphoid Neoplasm Diffuse Large B-cell Lymphoma (TCGA, Firehose Legacy)', 'Esophageal Carcinoma (TCGA, Firehose Legacy)', 'Glioblastoma Multiforme (TCGA, Firehose Legacy)', 'Head and Neck Squamous Cell Carcinoma (TCGA, Firehose Legacy)', '15)', '12)', '19)', '23)', '24)', '22)', '23)', 'Acute Myeloid Leukemia (TCGA, Firehose Legacy)', 'Kidney Renal Clear Cell Carcinoma (TCGA, Firehose Legacy)', 'Kidney Chromophobe (TCGA, Firehose Legacy)', 'Brain Lower Grade Glioma (TCGA, Firehose Legacy)', 'Liver Hepatocellular Carcinoma (TCGA, Firehose Legacy)', 'Lung Adenocarcinoma (TCGA, Firehose Legacy)', 'Lung Squamous Cell Carcinoma (TCGA, Firehose Legacy)', 'Mesothelioma (TCGA, Firehose Legacy)', 'Ovarian Serous Cystadenocarcinoma (TCGA, Firehose Legacy)', 'Kidney Renal Papillary Cell Carcinoma (TCGA, Firehose Legacy)', '13)', '17)', 'Mature B-cell malignancies (MD Anderson Cancer Center)', '19)', '21)', 'Pancreatic Adenocarcinoma (TCGA, Firehose Legacy)', 'Pheochromocytoma and Paraganglioma (TCGA, Firehose Legacy)', 'Prostate Adenocarcinoma (TCGA, Firehose Legacy)', 'Sarcoma (TCGA, Firehose Legacy)', 'Stomach Adenocarcinoma (TCGA, Firehose Legacy)', 'Testicular Germ Cell Cancer (TCGA, Firehose Legacy)', 'Thymoma (TCGA, Firehose Legacy)', 'Thyroid Carcinoma (TCGA, Firehose Legacy)', 'Uterine Corpus Endometrial Carcinoma (TCGA, Firehose Legacy)', 'Uterine Carcinosarcoma (TCGA, Firehose Legacy)', 'Uveal Melanoma (TCGA, Firehose Legacy)', '18)', '18)', '19)', '18)', ')', '24)', '18)', '24)', 'BRAF Fusions - IMPACT Clinical Sequencing Cohort (MSKCC)', '16)', 'BRAF Fusions - ARCHER Clinical Sequencing Cohort (MSKCC)', 'Diffuse Glioma (GLASS Consortium)', '24)', ')', '23)', '21)', '24)', '24)', '24)', '22)', '24)', '22)', '22)', '24)', '22)', ')', '24)', '22)', '22)', '23)', '19)', '22)', '23)', ')', '21)', '23)', '23)', '24)', 'Adrenocortical Carcinoma (TCGA, PanCancer Atlas)', 'Bladder Urothelial Carcinoma (TCGA, PanCancer Atlas)', 'Breast Invasive Carcinoma (TCGA, PanCancer Atlas)', 'Cervical Squamous Cell Carcinoma (TCGA, PanCancer Atlas)', 'Cholangiocarcinoma (TCGA, PanCancer Atlas)', 'Diffuse Large B-Cell Lymphoma (TCGA, PanCancer Atlas)', 'Esophageal Adenocarcinoma (TCGA, PanCancer Atlas)', 'Glioblastoma Multiforme (TCGA, PanCancer Atlas)', 'Head and Neck Squamous Cell Carcinoma (TCGA, PanCancer Atlas)', ')', 'Colorectal Adenocarcinoma (TCGA, PanCancer Atlas)', 'Kidney Chromophobe (TCGA, PanCancer Atlas)', 'Kidney Renal Clear Cell Carcinoma (TCGA, PanCancer Atlas)', 'Kidney Renal Papillary Cell Carcinoma (TCGA, PanCancer Atlas)', 'Acute Myeloid Leukemia (TCGA, PanCancer Atlas)', 'Brain Lower Grade Glioma (TCGA, PanCancer Atlas)', 'Liver Hepatocellular Carcinoma (TCGA, PanCancer Atlas)', 'Lung Adenocarcinoma (TCGA, PanCancer Atlas)', 'Lung Squamous Cell Carcinoma (TCGA, PanCancer Atlas)', 'Mesothelioma (TCGA, PanCancer Atlas)', 'Ovarian Serous Cystadenocarcinoma (TCGA, PanCancer Atlas)', 'Pancreatic Adenocarcinoma (TCGA, PanCancer Atlas)', 'Pheochromocytoma and Paraganglioma (TCGA, PanCancer Atlas)', 'Prostate Adenocarcinoma (TCGA, PanCancer Atlas)', 'Sarcoma (TCGA, PanCancer Atlas)', 'Skin Cutaneous Melanoma (TCGA, PanCancer Atlas)', 'Stomach Adenocarcinoma (TCGA, PanCancer Atlas)', 'Testicular Germ Cell Tumors (TCGA, PanCancer Atlas)', 'Thyroid Carcinoma (TCGA, PanCancer Atlas)', 'Thymoma (TCGA, PanCancer Atlas)', 'Uterine Corpus Endometrial Carcinoma (TCGA, PanCancer Atlas)', 'Uterine Carcinosarcoma (TCGA, PanCancer Atlas)', 'Uveal Melanoma (TCGA, PanCancer Atlas)', '24)', '24)']\n",
    "counter = collections.Counter(years)\n",
    "\n"
   ]
  },
  {
   "cell_type": "markdown",
   "metadata": {},
   "source": [
    "This will give a dropdown with all the different APIs, similar to how you can see them here on the cBioPortal website: https://www.cbioportal.org/api/swagger-ui.html#/. If you don't see the dropdown, some people have found that running `%config Completer.use_jedi = False` fixes the problem. \n",
    "\n",
    "You can also get the parameters to a specific endpoint by pressing shift+tab twice after typing the name of the specific endpoint e.g.:"
   ]
  },
  {
   "cell_type": "code",
   "execution_count": null,
   "metadata": {},
   "outputs": [],
   "source": [
    "cbioportal.Cancer_Types.getAllCancerTypesUsingGET(sortBy='parent').result()\n",
    "print('parent')"
   ]
  },
  {
   "cell_type": "markdown",
   "metadata": {},
   "source": [
    "That shows one of the parameters is `cancerTypeId` of type `string`, the example `acc` is mentioned:"
   ]
  },
  {
   "cell_type": "code",
   "execution_count": null,
   "metadata": {},
   "outputs": [],
   "source": [
    "acc = cbioportal.\n",
    "print(acc)"
   ]
  },
  {
   "cell_type": "markdown",
   "metadata": {},
   "source": [
    "You can see that the JSON output returned by the cBioPortal API gets automatically converted into an object called `TypeOfCancer`. This object can be explored interactively as well by pressing tab after typing `acc.`:"
   ]
  },
  {
   "cell_type": "code",
   "execution_count": null,
   "metadata": {},
   "outputs": [],
   "source": [
    "acc.parent"
   ]
  },
  {
   "cell_type": "markdown",
   "metadata": {},
   "source": [
    "### cBioPortal API"
   ]
  },
  {
   "cell_type": "markdown",
   "metadata": {},
   "source": [
    "[cBioPortal](https://www.cbioportal.org) stores cancer genomics data from a large number of published studies. Let's figure out:\n",
    "\n",
    "- how many studies are there?\n",
    "- how many cancer types do they span?\n",
    "- how many samples in total?\n",
    "- which study has the largest number of samples?"
   ]
  },
  {
   "cell_type": "code",
   "execution_count": null,
   "metadata": {},
   "outputs": [],
   "source": [
    "studies = cbioportal.Studies.getAllStudiesUsingGET().result()\n",
    "cancer_types = cbioportal.Cancer_Types.getAllCancerTypesUsingGET().result()\n",
    "\n",
    "print(\"In total there are {} studies in cBioPortal, spanning {} different types of cancer.\".format(\n",
    "    len(studies),\n",
    "    len(cancer_types)\n",
    "))"
   ]
  },
  {
   "cell_type": "markdown",
   "metadata": {},
   "source": [
    "To get the total number of samples in each study we have to look a bit more at the response of the studies endpoint:"
   ]
  },
  {
   "cell_type": "code",
   "execution_count": null,
   "metadata": {},
   "outputs": [],
   "source": [
    "studies[0]"
   ]
  },
  {
   "cell_type": "code",
   "execution_count": null,
   "metadata": {},
   "outputs": [],
   "source": [
    "dir(studies[-2])"
   ]
  },
  {
   "cell_type": "markdown",
   "metadata": {},
   "source": [
    "We can sum the `allSampleCount` values of each study in cBioPortal:"
   ]
  },
  {
   "cell_type": "code",
   "execution_count": null,
   "metadata": {},
   "outputs": [],
   "source": [
    "print(\"The total number of samples in all studies is: {}\".format(sum([x.allSampleCount for x in studies])))"
   ]
  },
  {
   "cell_type": "markdown",
   "metadata": {},
   "source": [
    "Let's see which study has the largest number of samples:"
   ]
  },
  {
   "cell_type": "code",
   "execution_count": null,
   "metadata": {},
   "outputs": [
    {
     "data": {
      "text/plain": [
       "CancerStudy(allSampleCount=42714, cancerType=None, cancerTypeId='mixed', citation='Stonestrom et al. Blood Adv 2024', cnaSampleCount=None, completeSampleCount=None, description='Targeted sequencing of 47,532 patient samples with mixed tumor types and their matched normals to identify clonal hematopoiesis mutations using MSK-IMPACT.', groups='', importDate='2024-06-28 04:07:35', massSpectrometrySampleCount=None, methylationHm27SampleCount=None, miRnaSampleCount=None, mrnaMicroarraySampleCount=None, mrnaRnaSeqSampleCount=None, mrnaRnaSeqV2SampleCount=None, name='Cancer Therapy and Clonal Hematopoiesis (MSK, Blood Adv 2023)', pmid='38147626', publicStudy=True, readPermission=True, referenceGenome='hg19', rppaSampleCount=None, sequencedSampleCount=None, status=0, studyId='msk_ch_2023', treatmentCount=None)"
      ]
     },
     "execution_count": 24,
     "metadata": {},
     "output_type": "execute_result"
    }
   ],
   "source": [
    "sorted_studies = sorted(studies, key=lambda x: x.allSampleCount)\n",
    "sorted_studies[-1]"
   ]
  },
  {
   "cell_type": "markdown",
   "metadata": {},
   "source": [
    "We can also easily see e.g. the top 3 largest studies:"
   ]
  },
  {
   "cell_type": "code",
   "execution_count": null,
   "metadata": {},
   "outputs": [
    {
     "data": {
      "text/plain": [
       "[CancerStudy(allSampleCount=24146, cancerType=None, cancerTypeId='mixed', citation='Kelly et al. Nat Genet 2020', cnaSampleCount=None, completeSampleCount=None, description='Clonal hematopoiesis mutations identified in blood samples from 24,146 patients whose tumor-blood pairs were analyzed using MSK-IMPACT.', groups='PUBLIC', importDate='2023-12-08 13:24:19', massSpectrometrySampleCount=None, methylationHm27SampleCount=None, miRnaSampleCount=None, mrnaMicroarraySampleCount=None, mrnaRnaSeqSampleCount=None, mrnaRnaSeqV2SampleCount=None, name='Cancer Therapy and Clonal Hematopoiesis (MSK, Nat Genet 2020)', pmid='33106634', publicStudy=True, readPermission=True, referenceGenome='hg19', rppaSampleCount=None, sequencedSampleCount=None, status=0, studyId='msk_ch_2020', treatmentCount=None),\n",
       " CancerStudy(allSampleCount=25775, cancerType=None, cancerTypeId='mixed', citation='Nguyen et al. Cell 2022', cnaSampleCount=None, completeSampleCount=None, description='MSK-MET (Memorial Sloan Kettering - Metastatic Events and Tropisms) is an integrated pan-cancer cohort of tumor genomic and clinical outcome data from 25,000 patients. We analyzed this dataset to identify associations between tumor genomic alterations and patterns of metastatic dissemination across 50 tumor types. We found that chromosomal instability is strongly correlated with metastatic burden in some tumor types, including prostate adenocarcinoma, lung adenocarcinoma and HR+/HER2+ breast ductal carcinoma, but not in others, such as colorectal MSS, pancreatic adenocarcinoma and high-grade serous ovarian cancer. We also identified specific somatic alterations associated with increased metastatic burden and specific routes of metastatic spread. Our data offer a unique resource for the investigation of the biologic basis for metastatic spread and highlight the crucial role of chromosomal instability in cancer progression', groups='', importDate='2023-12-08 13:25:01', massSpectrometrySampleCount=None, methylationHm27SampleCount=None, miRnaSampleCount=None, mrnaMicroarraySampleCount=None, mrnaRnaSeqSampleCount=None, mrnaRnaSeqV2SampleCount=None, name='MSK MetTropism (MSK, Cell 2021)', pmid='35120664', publicStudy=True, readPermission=True, referenceGenome='hg19', rppaSampleCount=None, sequencedSampleCount=None, status=0, studyId='msk_met_2021', treatmentCount=None),\n",
       " CancerStudy(allSampleCount=42714, cancerType=None, cancerTypeId='mixed', citation='Stonestrom et al. Blood Adv 2024', cnaSampleCount=None, completeSampleCount=None, description='Targeted sequencing of 47,532 patient samples with mixed tumor types and their matched normals to identify clonal hematopoiesis mutations using MSK-IMPACT.', groups='', importDate='2024-06-28 04:07:35', massSpectrometrySampleCount=None, methylationHm27SampleCount=None, miRnaSampleCount=None, mrnaMicroarraySampleCount=None, mrnaRnaSeqSampleCount=None, mrnaRnaSeqV2SampleCount=None, name='Cancer Therapy and Clonal Hematopoiesis (MSK, Blood Adv 2023)', pmid='38147626', publicStudy=True, readPermission=True, referenceGenome='hg19', rppaSampleCount=None, sequencedSampleCount=None, status=0, studyId='msk_ch_2023', treatmentCount=None)]"
      ]
     },
     "execution_count": 25,
     "metadata": {},
     "output_type": "execute_result"
    }
   ],
   "source": [
    "sorted_studies = sorted(studies, key=lambda x: x.allSampleCount)\n",
    "sorted_studies[-3:]"
   ]
  },
  {
   "cell_type": "markdown",
   "metadata": {},
   "source": [
    "Now that we've answered the inital questions we can dig a little deeper into a specific study. Let's use the second largest study (`msk_impact_2017`):\n",
    "\n",
    "- How many patients are in this study?\n",
    "- What gene is most commonly mutated across the different samples?\n",
    "- Does this study span one or more types of cancer?\n",
    "\n",
    "The description of the study with id `msk_impact_2017` study mentions there are 24,146 patients sequenced. Can we find this data in the cBioPortal?"
   ]
  },
  {
   "cell_type": "code",
   "execution_count": null,
   "metadata": {},
   "outputs": [],
   "source": [
    "patients = cbioportal.Patients.getAllPatientsInStudyUsingGET(studyId='msk_impact_2017').result()\n",
    "print(\"The msk_impact_2017 study spans {} patients\".format(len(patients)))"
   ]
  },
  {
   "cell_type": "markdown",
   "metadata": {},
   "source": [
    "Now let's try to figure out what gene is most commonly mutated. For this we can check the endpoints in the group `Mutations`. When looking at these endpoints it seems that a study can have multiple molecular profiles. This is because samples might have been sequenced using different assays (e.g. targeting a subset of genes or all genes). An example for the `acc_tcga` study is given for a molecular profile (`acc_tcga_mutations`) and a collection of samples (`acc_tcga_all`). We can use the same approach for the `msk_impact_2017` study. This will take a few seconds.  You can use the command `%%time` to time a cell):"
   ]
  },
  {
   "cell_type": "code",
   "execution_count": null,
   "metadata": {},
   "outputs": [],
   "source": [
    "%%time\n",
    "\n",
    "mutations = cbioportal.Mutations.getMutationsInMolecularProfileBySampleListIdUsingGET(\n",
    "    molecularProfileId='msk_impact_2017_mutations',\n",
    "    sampleListId='msk_impact_2017_all'\n",
    ").result()"
   ]
  },
  {
   "cell_type": "markdown",
   "metadata": {},
   "source": [
    "We can explore what the mutation data structure looks like:"
   ]
  },
  {
   "cell_type": "code",
   "execution_count": null,
   "metadata": {},
   "outputs": [
    {
     "data": {
      "text/plain": [
       "Mutation(alleleSpecificCopyNumber=None, aminoAcidChange=None, center='NA', chr='9', driverFilter=None, driverFilterAnnotation=None, driverTiersFilter=None, driverTiersFilterAnnotation=None, endPosition=133760514, entrezGeneId=25, gene=Gene(entrezGeneId=25, geneticEntityId=None, hugoGeneSymbol='ABL1', type='protein-coding'), keyword='ABL1 truncating', molecularProfileId='msk_impact_2017_mutations', mutationStatus='NA', mutationType='Frame_Shift_Del', namespaceColumns=None, ncbiBuild='GRCh37', normalAltCount=None, normalRefCount=None, patientId='P-0000507', proteinChange='K947Sfs*122', proteinPosEnd=947, proteinPosStart=946, referenceAllele='C', refseqMrnaId='NM_005157.4', sampleId='P-0000507-T01-IM3', startPosition=133760514, studyId='msk_impact_2017', tumorAltCount=80, tumorRefCount=759, uniquePatientKey='UC0wMDAwNTA3Om1za19pbXBhY3RfMjAxNw', uniqueSampleKey='UC0wMDAwNTA3LVQwMS1JTTM6bXNrX2ltcGFjdF8yMDE3', validationStatus='NA', variantAllele='-', variantType='DEL')"
      ]
     },
     "execution_count": 23,
     "metadata": {},
     "output_type": "execute_result"
    }
   ],
   "source": [
    "mutations[0]"
   ]
  },
  {
   "cell_type": "markdown",
   "metadata": {},
   "source": [
    "It seems that the `gene` field is not filled in. To keep the response size of the API small, the API uses a parameter called `projection` that indicates whether or not to return all fields of an object or only a portion of the fields. By default it will use the `SUMMARY` projection. But because in this case we want to `gene` information, we'll use the `DETAILED` projection instead, so let's update the previous statement:"
   ]
  },
  {
   "cell_type": "code",
   "execution_count": null,
   "metadata": {},
   "outputs": [
    {
     "name": "stdout",
     "output_type": "stream",
     "text": [
      "CPU times: user 1.99 s, sys: 84.4 ms, total: 2.07 s\n",
      "Wall time: 6.94 s\n"
     ]
    }
   ],
   "source": [
    "%%time \n",
    "\n",
    "mutations = cbioportal.Mutations.getMutationsInMolecularProfileBySampleListIdUsingGET(\n",
    "    molecularProfileId='msk_impact_2017_mutations',\n",
    "    sampleListId='msk_impact_2017_all',\n",
    "    projection='DETAILED'\n",
    ").result()"
   ]
  },
  {
   "cell_type": "markdown",
   "metadata": {},
   "source": [
    "You can see the response time is slightly slower. Let's check if the gene field is filled in now:"
   ]
  },
  {
   "cell_type": "code",
   "execution_count": null,
   "metadata": {},
   "outputs": [],
   "source": [
    "mutations[0]"
   ]
  },
  {
   "cell_type": "markdown",
   "metadata": {},
   "source": [
    "Now that we have the gene field we can check what gene is most commonly mutated: "
   ]
  },
  {
   "cell_type": "code",
   "execution_count": null,
   "metadata": {},
   "outputs": [],
   "source": [
    "from collections import Counter\n",
    "mutation_counts = Counter([m.gene.hugoGeneSymbol for m in mutations])\n",
    "mutation_counts.most_common(5)"
   ]
  },
  {
   "cell_type": "markdown",
   "metadata": {},
   "source": [
    "We can verify that these results are correct by looking at the study view of the MSK-IMPACT study on the cBioPortal website: https://www.cbioportal.org/study/summary?id=msk_impact_2017. Note that the website uses the REST API we've been using in this hackathon, so we would expect those numbers to be the same, but good to do a sanity check. We see that the number of patients is indeed 10,336. But the number of samples with a mutation in TP53 is 4,561 instead of 4,985. Can you spot why they differ?\n",
    "\n",
    "Next question:\n",
    "\n",
    "- How many samples have a TP53 mutation?\n",
    "\n",
    "For this exercise it might be useful to use a [pandas dataframe](https://pandas.pydata.org/) to be able to do grouping operations. You can convert the mutations result to a dataframe like this:"
   ]
  },
  {
   "cell_type": "code",
   "execution_count": null,
   "metadata": {},
   "outputs": [
    {
     "data": {
      "text/plain": [
       "{'alleleSpecificCopyNumber': None,\n",
       " 'aminoAcidChange': None,\n",
       " 'center': 'NA',\n",
       " 'chr': '9',\n",
       " 'driverFilter': None,\n",
       " 'driverFilterAnnotation': None,\n",
       " 'driverTiersFilter': None,\n",
       " 'driverTiersFilterAnnotation': None,\n",
       " 'endPosition': 133760514,\n",
       " 'entrezGeneId': 25,\n",
       " 'gene': Gene(entrezGeneId=25, geneticEntityId=None, hugoGeneSymbol='ABL1', type='protein-coding'),\n",
       " 'keyword': 'ABL1 truncating',\n",
       " 'molecularProfileId': 'msk_impact_2017_mutations',\n",
       " 'mutationStatus': 'NA',\n",
       " 'mutationType': 'Frame_Shift_Del',\n",
       " 'namespaceColumns': None,\n",
       " 'ncbiBuild': 'GRCh37',\n",
       " 'normalAltCount': None,\n",
       " 'normalRefCount': None,\n",
       " 'patientId': 'P-0000507',\n",
       " 'proteinChange': 'K947Sfs*122',\n",
       " 'proteinPosEnd': 947,\n",
       " 'proteinPosStart': 946,\n",
       " 'referenceAllele': 'C',\n",
       " 'refseqMrnaId': 'NM_005157.4',\n",
       " 'sampleId': 'P-0000507-T01-IM3',\n",
       " 'startPosition': 133760514,\n",
       " 'studyId': 'msk_impact_2017',\n",
       " 'tumorAltCount': 80,\n",
       " 'tumorRefCount': 759,\n",
       " 'uniquePatientKey': 'UC0wMDAwNTA3Om1za19pbXBhY3RfMjAxNw',\n",
       " 'uniqueSampleKey': 'UC0wMDAwNTA3LVQwMS1JTTM6bXNrX2ltcGFjdF8yMDE3',\n",
       " 'validationStatus': 'NA',\n",
       " 'variantAllele': '-',\n",
       " 'variantType': 'DEL'}"
      ]
     },
     "execution_count": 9,
     "metadata": {},
     "output_type": "execute_result"
    }
   ],
   "source": [
    "{k:getattr(mutations[0],k) for k in dir(mutations[0])}"
   ]
  },
  {
   "cell_type": "code",
   "execution_count": null,
   "metadata": {},
   "outputs": [],
   "source": [
    "import pandas as pd\n",
    "\n",
    "mdf = pd.DataFrame.from_dict([\n",
    "    # python magic that combines two dictionaries:\n",
    "    dict(\n",
    "        {k:getattr(m,k) for k in dir(m)},\n",
    "        **{k:getattr(m.gene,k) for k in dir(m.gene)}) \n",
    "    # create one item in the list for each mutation\n",
    "    for m in mutations\n",
    "])"
   ]
  },
  {
   "cell_type": "code",
   "execution_count": null,
   "metadata": {},
   "outputs": [],
   "source": [
    "mdf.columns"
   ]
  },
  {
   "cell_type": "code",
   "execution_count": null,
   "metadata": {},
   "outputs": [],
   "source": [
    "mdf['chr startPosition endPosition referenceAllele variantAllele hugoGeneSymbol proteinChange'.split()].head()"
   ]
  },
  {
   "cell_type": "markdown",
   "metadata": {},
   "source": [
    "The DataFrame is a data type originally from `Matlab` and `R` that makes it easier to work with columnar data. Pandas brings that data type to Python. There are also several performance optimizations by it using the data types from [numpy](https://www.numpy.org/).\n",
    "\n",
    "Now that you have the data in a Dataframe you can group the mutations by the gene name and count the number of unique samples in TP53:"
   ]
  },
  {
   "cell_type": "code",
   "execution_count": null,
   "metadata": {},
   "outputs": [],
   "source": [
    "sample_count_per_gene = mdf.groupby('hugoGeneSymbol')['uniqueSampleKey'].nunique()\n",
    "\n",
    "print(\"There are {} samples with a mutation in TP53\".format(\n",
    "    sample_count_per_gene['TP53']\n",
    "))"
   ]
  },
  {
   "cell_type": "markdown",
   "metadata": {},
   "source": [
    "It would be nice to visualize this result in context of the other genes by plotting the top 10 most mutated genes. For this you can use the matplotlib interface that integrates with pandas.\n",
    "\n",
    "First  inline plotting in the notebook:"
   ]
  },
  {
   "cell_type": "code",
   "execution_count": null,
   "metadata": {},
   "outputs": [],
   "source": [
    "%matplotlib inline"
   ]
  },
  {
   "cell_type": "code",
   "execution_count": null,
   "metadata": {},
   "outputs": [],
   "source": [
    "sample_count_per_gene.sort_values(ascending=False).head(10).plot(kind='bar')"
   ]
  },
  {
   "cell_type": "markdown",
   "metadata": {},
   "source": [
    "Make it look a little nicer by importing seaborn:"
   ]
  },
  {
   "cell_type": "code",
   "execution_count": null,
   "metadata": {},
   "outputs": [],
   "source": [
    "import seaborn as sns\n",
    "sns.set_style(\"white\")\n",
    "sns.set_context('notebook')"
   ]
  },
  {
   "cell_type": "code",
   "execution_count": null,
   "metadata": {},
   "outputs": [],
   "source": [
    "sample_count_per_gene.sort_values(ascending=False).head(10).plot(kind='bar')\n",
    "sns.despine(trim=False)"
   ]
  },
  {
   "cell_type": "markdown",
   "metadata": {},
   "source": [
    "You can further change the plot a bit by using the arguments to the plot function or using the matplotlib interface directly:"
   ]
  },
  {
   "cell_type": "code",
   "execution_count": null,
   "metadata": {},
   "outputs": [],
   "source": [
    "import matplotlib.pyplot as plt\n",
    "\n",
    "sample_count_per_gene.sort_values(ascending=False).head(10).plot(\n",
    "    kind='bar',\n",
    "    ylim=[0,5000],\n",
    "    color='green'\n",
    ")\n",
    "sns.despine(trim=False)\n",
    "plt.xlabel('')\n",
    "plt.xticks(rotation=300)\n",
    "plt.ylabel('Number of samples',labelpad=20)\n",
    "plt.title('Number of mutations in genes in MSK-IMPACT (2017)',pad=25)"
   ]
  },
  {
   "cell_type": "markdown",
   "metadata": {},
   "source": [
    "A further extension of this plot could be to color the bar chart by the type of mutation in that sample (`mdf.mutationType`) and to include copy number alterations (see `Discrete Copy Number Alterations` endpoints)."
   ]
  },
  {
   "cell_type": "markdown",
   "metadata": {},
   "source": [
    "#### Gene Frequency for specific Cancer Type\n",
    "First get the cancer type for each sample via the clinical data endpoint:"
   ]
  },
  {
   "cell_type": "code",
   "execution_count": null,
   "metadata": {},
   "outputs": [],
   "source": [
    "clin_data = cbioportal.Clinical_Data.getAllClinicalDataInStudyUsingGET(studyId='msk_impact_2017').result()"
   ]
  },
  {
   "cell_type": "markdown",
   "metadata": {},
   "source": [
    "Convert into dataframe:"
   ]
  },
  {
   "cell_type": "code",
   "execution_count": null,
   "metadata": {},
   "outputs": [],
   "source": [
    "\n",
    "cdf = pd.DataFrame.from_dict(\n",
    "    {k:getattr(cd,k) for k in dir(cd)} for cd in clin_data\n",
    ").pivot(index='sampleId patientId'.split(),columns='clinicalAttributeId',values='value')"
   ]
  },
  {
   "cell_type": "markdown",
   "metadata": {},
   "source": [
    "Merge together with the mutations MAF:"
   ]
  },
  {
   "cell_type": "code",
   "execution_count": null,
   "metadata": {},
   "outputs": [],
   "source": [
    "clin_mut_df = mdf.merge(cdf, on='sampleId', how='left')"
   ]
  },
  {
   "cell_type": "markdown",
   "metadata": {},
   "source": [
    "Then plot the top 10 most mutated genes for colorectal cancer:"
   ]
  },
  {
   "cell_type": "code",
   "execution_count": null,
   "metadata": {},
   "outputs": [],
   "source": [
    "import seaborn as sns\n",
    "import matplotlib.pyplot as plt\n",
    "\n",
    "# Filter clin_mut_df for Colorectal Cancer\n",
    "colorectal_df = clin_mut_df[clin_mut_df['CANCER_TYPE'] == 'Colorectal Cancer']\n",
    "\n",
    "# Group by hugoGeneSymbol and count unique patientId\n",
    "gene_counts = colorectal_df.groupby('hugoGeneSymbol')['patientId'].nunique()\n",
    "\n",
    "# Sort in descending order and take top 10\n",
    "sorted_counts = gene_counts.sort_values(ascending=False).head(30)\n",
    "\n",
    "# Create bar chart\n",
    "plt.figure(figsize=(10, 6))\n",
    "sns.barplot(x=sorted_counts.index, y=sorted_counts.values)\n",
    "plt.xlabel('hugoGeneSymbol')\n",
    "plt.ylabel('Number of Patients')\n",
    "plt.title('Top 30 hugoGeneSymbols in Colorectal Cancer')\n",
    "plt.xticks(rotation=45)\n",
    "sns.despine()\n",
    "plt.show()"
   ]
  },
  {
   "cell_type": "markdown",
   "metadata": {},
   "source": [
    "You can do the same by frequency as well. For MSK-IMPACT this is slightly tricky because not all samples were profiled for the same gene. For convenience we will ignore this fact and assume that all samples were profiled for all genes. This is not true, but it will give you a rough idea of the frequency of mutations in the MSK-IMPACT study. First get the total number of cases for colorectal cancer:"
   ]
  },
  {
   "cell_type": "code",
   "execution_count": null,
   "metadata": {},
   "outputs": [],
   "source": [
    "cancer_type_num_patients = cdf.reset_index().groupby(\"CANCER_TYPE\")[\"patientId\"].nunique()"
   ]
  },
  {
   "cell_type": "markdown",
   "metadata": {},
   "source": [
    "Now plot the top 10 most mutated genes for colorectal cancer by frequency in cohort:"
   ]
  },
  {
   "cell_type": "code",
   "execution_count": null,
   "metadata": {},
   "outputs": [],
   "source": [
    "# Filter clin_mut_df for Colorectal Cancer\n",
    "cancer_type = 'Colorectal Cancer'\n",
    "colorectal_df = clin_mut_df[clin_mut_df['CANCER_TYPE'] == cancer_type]\n",
    "nr_patients_for_cancer_type = cancer_type_num_patients[cancer_type]\n",
    "\n",
    "# Group by hugoGeneSymbol and count unique patientId\n",
    "gene_counts = colorectal_df.groupby('hugoGeneSymbol')['patientId'].nunique() * 100.0 / nr_patients_for_cancer_type\n",
    "\n",
    "# Sort in descending order and take top 10\n",
    "sorted_counts = gene_counts.sort_values(ascending=False).head(30)\n",
    "\n",
    "# Create bar chart\n",
    "plt.figure(figsize=(10, 6))\n",
    "sns.barplot(x=sorted_counts.index, y=sorted_counts.values)\n",
    "plt.xlabel('hugoGeneSymbol')\n",
    "plt.ylabel('Number of Patients')\n",
    "plt.title('Top 30 hugoGeneSymbols in {} Cancer (n={})'.format(cancer_type, nr_patients_for_cancer_type))\n",
    "plt.xticks(rotation=45)\n",
    "sns.despine()\n",
    "plt.show()"
   ]
  },
  {
   "cell_type": "markdown",
   "metadata": {},
   "source": [
    "####  Alteration frequency across cancer types per gene\n",
    "We previously only worked with mutation data. We will need to get the copy number as well. SV data is not available yet in the API. First get the copy number data for the MSK-IMPACT study:"
   ]
  },
  {
   "cell_type": "code",
   "execution_count": null,
   "metadata": {},
   "outputs": [],
   "source": [
    "cna_data = cbioportal.Discrete_Copy_Number_Alterations.getDiscreteCopyNumbersInMolecularProfileUsingGET(molecularProfileId='msk_impact_2017_cna',sampleListId='msk_impact_2017_all',projection='DETAILED').result()\n",
    "cna_df = pd.DataFrame.from_dict([\n",
    "    # python magic that combines two dictionaries:\n",
    "    dict(\n",
    "        {k:getattr(cna,k) for k in dir(cna)},\n",
    "        **{k:getattr(cna.gene,k) for k in dir(cna.gene)}) \n",
    "    # create one item in the list for each mutation\n",
    "    for cna in cna_data\n",
    "])\n",
    "del cna_df['gene']\n",
    "cna_df['hugoGeneSymbol alteration'.split()].head(5)"
   ]
  },
  {
   "cell_type": "markdown",
   "metadata": {},
   "source": [
    "Create an alterations dataframe that combines mutations, CNA and clinical data:"
   ]
  },
  {
   "cell_type": "code",
   "execution_count": null,
   "metadata": {},
   "outputs": [],
   "source": [
    "# First, we need to add a column to each DataFrame that indicates the type of alteration\n",
    "mdf['alteration'] = 'Mutation'\n",
    "cna_df['alteration'] = cna_df['alteration'].map({-2: 'Deep Deletion', 2: 'Amplification'})\n",
    "\n",
    "# Concatenate the two DataFrames\n",
    "alterations_df = pd.concat([mdf, cna_df])\n",
    "\n",
    "# Group by patient and gene and count the number of alterations\n",
    "alterations_df = alterations_df.groupby(['sampleId','patientId', 'hugoGeneSymbol'])['alteration'].apply(list).reset_index()\n",
    "\n",
    "# Create a new column that indicates whether there are multiple alterations\n",
    "alterations_df['alteration'] = alterations_df['alteration'].apply(lambda x: 'Multiple Alterations' if len(x) > 1 else x[0])\n",
    "\n",
    "alterations_df = alterations_df.merge(cdf, on='sampleId', how='left')\n",
    "\n",
    "print(alterations_df.head())"
   ]
  },
  {
   "cell_type": "markdown",
   "metadata": {},
   "source": [
    "Then make the stacked barchart:"
   ]
  },
  {
   "cell_type": "code",
   "execution_count": null,
   "metadata": {},
   "outputs": [],
   "source": [
    "import matplotlib.pyplot as plt\n",
    "from matplotlib.ticker import FuncFormatter\n",
    "import seaborn as sns\n",
    "\n",
    "gene = 'ERBB2'\n",
    "colors = {\n",
    "    'Mutation': '#008000',  # rgb(0, 128, 0)\n",
    "    'Amplification': '#FF0000',  # rgb(255, 0, 0)\n",
    "    'Multiple Alterations': '#666666',  # rgb(102, 102, 102)\n",
    "    'Deep Deletion': '#0000FF'  # rgb(0, 0, 255)\n",
    "}\n",
    "order = ['Multiple Alterations', 'Deep Deletion', 'Amplification', 'Mutation']\n",
    "\n",
    "# Count the number of patients for each cancer type and alteration\n",
    "counts_df = alterations_df[alterations_df['hugoGeneSymbol'] == gene].groupby(['CANCER_TYPE', 'alteration'])['patientId'].nunique().unstack().fillna(0)\n",
    "\n",
    "# Ensure that the index of cancer_type_num_patients matches the index of counts_df\n",
    "cancer_type_num_patients = cancer_type_num_patients.reindex(counts_df.index)\n",
    "\n",
    "# Divide counts_df by cancer_type_num_patients to get alteration frequencies\n",
    "alteration_frequencies = counts_df.div(cancer_type_num_patients, axis='index') * 100.0\n",
    "\n",
    "# Sort by frequencies and select top 10\n",
    "alteration_frequencies_sorted = alteration_frequencies.loc[alteration_frequencies.sum(axis=1).sort_values(ascending=False).index[:20]]\n",
    "alteration_frequencies_sorted = alteration_frequencies_sorted[order]\n",
    "\n",
    "# Plot\n",
    "ax = alteration_frequencies_sorted.plot(kind='bar', stacked=True, color=[colors[col] for col in alteration_frequencies_sorted.columns])\n",
    "plt.ylabel('Number of Patients')\n",
    "plt.xlabel('')\n",
    "plt.title('{} Alteration Frequency per Cancer Type'.format(gene))\n",
    "\n",
    "# Reorder the legend\n",
    "handles, labels = ax.get_legend_handles_labels()\n",
    "order_index = [labels.index(alteration) for alteration in reversed(order)]\n",
    "ax.legend([handles[idx] for idx in order_index],[labels[idx] for idx in order_index])\n",
    "\n",
    "# Despine\n",
    "ax.spines['top'].set_visible(False)\n",
    "ax.spines['right'].set_visible(False)\n",
    "\n",
    "# Add percentage sign to y ticks\n",
    "formatter = FuncFormatter(lambda y, pos: \"%d%%\" % (y))\n",
    "ax.yaxis.set_major_formatter(formatter)\n",
    "\n",
    "# Add horizontal grid lines\n",
    "ax.yaxis.grid(True, linestyle='--', linewidth=0.5, color='lightgray')\n",
    "\n",
    "plt.show()"
   ]
  },
  {
   "cell_type": "markdown",
   "metadata": {},
   "source": [
    "### Genome Nexus API"
   ]
  },
  {
   "cell_type": "markdown",
   "metadata": {},
   "source": [
    "[Genome Nexus](https://www.genomenexus.org) is a web service that aggregates all cancer related information about a particular mutation. Similarly to cBioPortal it provides a REST API following the [Swagger / OpenAPI specification](https://swagger.io/specification/)."
   ]
  },
  {
   "cell_type": "code",
   "execution_count": null,
   "metadata": {},
   "outputs": [],
   "source": [
    "from bravado.client import SwaggerClient\n",
    "\n",
    "gn = SwaggerClient.from_url('https://www.genomenexus.org/v2/api-docs',\n",
    "                            config={\"validate_requests\":False,\n",
    "                                    \"validate_responses\":False,\n",
    "                                    \"validate_swagger_spec\":False})\n",
    "print(gn)"
   ]
  },
  {
   "cell_type": "markdown",
   "metadata": {},
   "source": [
    "To look up annotations for a single variant, one can use the following endpoint:"
   ]
  },
  {
   "cell_type": "code",
   "execution_count": null,
   "metadata": {},
   "outputs": [],
   "source": [
    "variant = gn.annotation_controller.fetchVariantAnnotationByGenomicLocationGET(\n",
    "    genomicLocation='7,140453136,140453136,A,T',\n",
    "    # adds extra annotation resources, not included in default response:\n",
    "    fields='hotspots mutation_assessor annotation_summary'.split()\n",
    ").result()"
   ]
  },
  {
   "cell_type": "markdown",
   "metadata": {},
   "source": [
    "You can see a lot of information is provided for that particular variant if you type tab after `variant.`:"
   ]
  },
  {
   "cell_type": "code",
   "execution_count": null,
   "metadata": {
    "collapsed": true,
    "jupyter": {
     "outputs_hidden": true
    }
   },
   "outputs": [],
   "source": [
    "variant."
   ]
  },
  {
   "cell_type": "markdown",
   "metadata": {},
   "source": [
    "For this example we will focus on the hotspot annotation and ignore the others. [Cancer hotspots](https://www.cancerhotspots.org/) is a popular web resource  which indicates whether particular variants have been found to be recurrently mutated in large scale cancer genomics data.\n",
    "\n",
    "The example variant above is a hotspot:"
   ]
  },
  {
   "cell_type": "code",
   "execution_count": null,
   "metadata": {},
   "outputs": [],
   "source": [
    "variant.hotspots"
   ]
  },
  {
   "cell_type": "markdown",
   "metadata": {},
   "source": [
    "Let's see how many hotspot mutations there are in the Cholangiocarcinoma (TCGA, PanCancer Atlas) study with study id `chol_tcga_pan_can_atlas_2018` from the cBioPortal:"
   ]
  },
  {
   "cell_type": "code",
   "execution_count": null,
   "metadata": {
    "scrolled": true
   },
   "outputs": [],
   "source": [
    "%%time\n",
    "\n",
    "cbioportal = SwaggerClient.from_url('https://www.cbioportal.org/api/api-docs',\n",
    "                                config={\"validate_requests\":False,\"validate_responses\":False})\n",
    "\n",
    "mutations = cbioportal.Mutations.getMutationsInMolecularProfileBySampleListIdUsingGET(\n",
    "    molecularProfileId='chol_tcga_pan_can_atlas_2018_mutations',\n",
    "    sampleListId='chol_tcga_pan_can_atlas_2018_all',\n",
    "    projection='DETAILED'\n",
    ").result()"
   ]
  },
  {
   "cell_type": "markdown",
   "metadata": {},
   "source": [
    "Convert the results to a dataframe again:"
   ]
  },
  {
   "cell_type": "code",
   "execution_count": null,
   "metadata": {},
   "outputs": [],
   "source": [
    "import pandas as pd\n",
    "\n",
    "mdf = pd.DataFrame.from_dict([\n",
    "    # python magic that combines two dictionaries:\n",
    "    dict(\n",
    "        {k:getattr(m,k) for k in dir(m)},\n",
    "        **{k:getattr(m.gene,k) for k in dir(m.gene)}) \n",
    "    # create one item in the list for each mutation\n",
    "    for m in mutations\n",
    "])"
   ]
  },
  {
   "cell_type": "markdown",
   "metadata": {},
   "source": [
    "Then get only the unique mutations, to avoid calling the web service with the same variants:"
   ]
  },
  {
   "cell_type": "code",
   "execution_count": null,
   "metadata": {},
   "outputs": [],
   "source": [
    "variants = mdf['chr startPosition endPosition referenceAllele variantAllele'.split()]\\\n",
    "    .drop_duplicates()\\\n",
    "    .dropna(how='any',axis=0)\\\n",
    "    .reset_index(drop=True)"
   ]
  },
  {
   "cell_type": "markdown",
   "metadata": {},
   "source": [
    "Convert them to input that genome nexus will understand:"
   ]
  },
  {
   "cell_type": "code",
   "execution_count": null,
   "metadata": {},
   "outputs": [],
   "source": [
    "variants"
   ]
  },
  {
   "cell_type": "code",
   "execution_count": null,
   "metadata": {},
   "outputs": [],
   "source": [
    "variants = variants.rename(columns={'chr':'chromosome','startPosition':'start','endPosition':'end'})\\\n",
    "    .to_dict(orient='records')"
   ]
  },
  {
   "cell_type": "code",
   "execution_count": null,
   "metadata": {},
   "outputs": [],
   "source": [
    "print(\"There are {} mutations left to annotate\".format(len(variants)))"
   ]
  },
  {
   "cell_type": "markdown",
   "metadata": {},
   "source": [
    "Annotate them with genome nexus:"
   ]
  },
  {
   "cell_type": "code",
   "execution_count": null,
   "metadata": {},
   "outputs": [],
   "source": [
    "%%time \n",
    "\n",
    "variants_annotated = gn.annotation_controller.fetchVariantAnnotationByGenomicLocationPOST(\n",
    "    genomicLocations=variants,\n",
    "    fields='hotspots annotation_summary'.split()\n",
    ").result()"
   ]
  },
  {
   "cell_type": "markdown",
   "metadata": {},
   "source": [
    "Index the variants to make it easier to query them:"
   ]
  },
  {
   "cell_type": "code",
   "execution_count": null,
   "metadata": {},
   "outputs": [],
   "source": [
    "gn_dict = {\n",
    "    \"{},{},{},{},{}\".format(\n",
    "        v.annotation_summary.genomicLocation.chromosome,\n",
    "        v.annotation_summary.genomicLocation.start,\n",
    "        v.annotation_summary.genomicLocation.end,\n",
    "        v.annotation_summary.genomicLocation.referenceAllele,\n",
    "        v.annotation_summary.genomicLocation.variantAllele)\n",
    "        :\n",
    "        v for v in variants_annotated\n",
    "}"
   ]
  },
  {
   "cell_type": "markdown",
   "metadata": {},
   "source": [
    "Add a new column to indicate whether something is a hotspot"
   ]
  },
  {
   "cell_type": "code",
   "execution_count": null,
   "metadata": {},
   "outputs": [],
   "source": [
    "def is_hotspot(x):\n",
    "    \"\"\"TODO: Current structure for hotspots in Genome Nexus is a little funky.\n",
    "    Need to check whether all lists in the annotation field are empty.\"\"\"\n",
    "    if x:\n",
    "        return sum([len(a) for a in x.hotspots.annotation]) > 0\n",
    "    else:\n",
    "        return False\n",
    "\n",
    "def create_dict_query_key(x):\n",
    "    return \"{},{},{},{},{}\".format(\n",
    "        x.chr, x.startPosition, x.endPosition, x.referenceAllele, x.variantAllele\n",
    "    )"
   ]
  },
  {
   "cell_type": "code",
   "execution_count": null,
   "metadata": {},
   "outputs": [],
   "source": [
    "mdf['is_hotspot'] = mdf.apply(lambda x: is_hotspot(gn_dict.get(create_dict_query_key(x), None)), axis=1)"
   ]
  },
  {
   "cell_type": "markdown",
   "metadata": {},
   "source": [
    "Then plot the results:"
   ]
  },
  {
   "cell_type": "code",
   "execution_count": null,
   "metadata": {},
   "outputs": [],
   "source": [
    "%matplotlib inline\n",
    "import seaborn as sns\n",
    "sns.set_style(\"white\")\n",
    "sns.set_context('notebook')\n",
    "import matplotlib.pyplot as plt"
   ]
  },
  {
   "cell_type": "code",
   "execution_count": null,
   "metadata": {},
   "outputs": [],
   "source": [
    "mdf.groupby('hugoGeneSymbol').is_hotspot.sum().sort_values(ascending=False).head(10).plot(kind='bar')\n",
    "\n",
    "sns.despine(trim=False)\n",
    "plt.xlabel('')\n",
    "plt.xticks(rotation=300)\n",
    "plt.ylabel('Number of non-unique hotspots',labelpad=20)\n",
    "plt.title('Hotspots in Cholangiocarcinoma (TCGA, PanCancer Atlas)',pad=25)"
   ]
  },
  {
   "cell_type": "markdown",
   "metadata": {},
   "source": [
    "### OncoKB API"
   ]
  },
  {
   "cell_type": "markdown",
   "metadata": {},
   "source": [
    "[OncoKB](https://oncokb.org) is is a precision oncology knowledge base and contains information about the effects and treatment implications of specific cancer gene alterations. Similarly to cBioPortal and Genome Nexus it provides a REST API following the [Swagger / OpenAPI specification](https://swagger.io/specification/)."
   ]
  },
  {
   "cell_type": "code",
   "execution_count": null,
   "metadata": {
    "scrolled": true
   },
   "outputs": [],
   "source": [
    "oncokb = SwaggerClient.from_url('https://www.oncokb.org/api/v1/v2/api-docs',\n",
    "                            config={\"validate_requests\":False,\n",
    "                                    \"validate_responses\":False,\n",
    "                                    \"validate_swagger_spec\":False})\n",
    "print(oncokb)"
   ]
  },
  {
   "cell_type": "markdown",
   "metadata": {},
   "source": [
    "To look up annotations for a variant, one can use the following endpoint:"
   ]
  },
  {
   "cell_type": "code",
   "execution_count": null,
   "metadata": {},
   "outputs": [],
   "source": [
    "variant = oncokb.Annotations.annotateMutationsByGenomicChangeGetUsingGET(\n",
    "    genomicLocation='7,140453136,140453136,A,T',\n",
    ").result()"
   ]
  },
  {
   "cell_type": "markdown",
   "metadata": {},
   "source": [
    "You can see a lot of information is provided for that particular variant if you type tab after `variant.`:"
   ]
  },
  {
   "cell_type": "code",
   "execution_count": null,
   "metadata": {},
   "outputs": [],
   "source": [
    "variant."
   ]
  },
  {
   "cell_type": "markdown",
   "metadata": {},
   "source": [
    "For instance we can see the summary information about it:"
   ]
  },
  {
   "cell_type": "code",
   "execution_count": null,
   "metadata": {},
   "outputs": [],
   "source": [
    "variant.variantSummary"
   ]
  },
  {
   "cell_type": "markdown",
   "metadata": {},
   "source": [
    "If you look up this variant on the OncoKB website: https://www.oncokb.org/gene/BRAF/V600E. You can see that there are various combinations of drugs and their level of evidence listed. This is a classification system for indicating how much we know about whether or not a patient might respond to a particular treatment. Please see https://www.oncokb.org/levels for more information about the levels of evidence for therapeutic biomarkers.\n",
    "\n",
    "We can use the same `variants` we pulled from cBioPortal in the previous section to figure out the highest level of each variant."
   ]
  },
  {
   "cell_type": "code",
   "execution_count": null,
   "metadata": {},
   "outputs": [],
   "source": [
    "%%time \n",
    "\n",
    "variants_annotated = oncokb.Annotations.annotateMutationsByGenomicChangePostUsingPOST(\n",
    "    body=[\n",
    "        {\"genomicLocation\":\"{chromosome},{start},{end},{referenceAllele},{variantAllele}\".format(**v)} \n",
    "        for v in variants\n",
    "    ],\n",
    ").result()"
   ]
  },
  {
   "cell_type": "markdown",
   "metadata": {},
   "source": [
    "Count the highes level for each variant"
   ]
  },
  {
   "cell_type": "code",
   "execution_count": null,
   "metadata": {},
   "outputs": [],
   "source": [
    "from collections import Counter\n",
    "\n",
    "counts_per_level = Counter([va.highestSensitiveLevel for va in variants_annotated if va.highestSensitiveLevel])"
   ]
  },
  {
   "cell_type": "markdown",
   "metadata": {},
   "source": [
    "Then plot them"
   ]
  },
  {
   "cell_type": "code",
   "execution_count": null,
   "metadata": {},
   "outputs": [],
   "source": [
    "pd.DataFrame(counts_per_level,index=[0]).plot(kind='bar', colors=['#4D8834','#2E2E2C','#753579'])\n",
    "plt.xticks([])\n",
    "plt.ylabel('Number of variants')\n",
    "plt.title('Actionable variants in chol_tcga_pan_can_atlas_2018')\n",
    "sns.despine()"
   ]
  }
 ],
 "metadata": {
  "kernelspec": {
   "display_name": "Python 3 (ipykernel)",
   "language": "python",
   "name": "python3"
  },
  "language_info": {
   "codemirror_mode": {
    "name": "ipython",
    "version": 3
   },
   "file_extension": ".py",
   "mimetype": "text/x-python",
   "name": "python",
   "nbconvert_exporter": "python",
   "pygments_lexer": "ipython3",
   "version": "3.12.2"
  }
 },
 "nbformat": 4,
 "nbformat_minor": 4
}
