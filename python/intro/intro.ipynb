{
 "cells": [
  {
   "cell_type": "markdown",
   "metadata": {},
   "source": [
    "# Introduction to cBioPortal REST API"
   ]
  },
  {
   "cell_type": "markdown",
   "metadata": {},
   "source": [
    "This [Jupyter notebook](https://jupyter.org/) gives examples on how to use the [REST](https://en.wikipedia.org/wiki/Representational_state_transfer) web service from [cBioPortal](https://www.cbioportal.org) as well as other webservices from the [Knowledge Systems Group at MSKCC](https://www.mskcc.org/research-areas/labs/nikolaus-schultz). We will pull data from those APIs to make visualizations."
   ]
  },
  {
   "cell_type": "markdown",
   "metadata": {},
   "source": [
    "## How to run the notebook"
   ]
  },
  {
   "cell_type": "markdown",
   "metadata": {},
   "source": [
    "This notebook can be executed on your own machine after installing Jupyter. Please install the Python 3 version of anaconda: https://www.anaconda.com/download/. After having that set up you can install Jupyter with:\n",
    "\n",
    "```bash\n",
    "conda install jupyter\n",
    "\n",
    "```\n",
    "\n",
    "For these examples we also require the [Swagger API](https://swagger.io/specification/) client `bravado`.\n",
    "\n",
    "```bash\n",
    "conda install -c conda-forge bravado\n",
    "```\n",
    "\n",
    "And the popular data analysis libraries pandas, matplotlib and seaborn:\n",
    "\n",
    "```\n",
    "conda install pandas matplotlib seaborn\n",
    "```\n",
    "\n",
    "Then clone this repo:\n",
    "\n",
    "```\n",
    "git clone https://github.com/cbioportal/workbench\n",
    "```\n",
    "\n",
    "And run Jupyter in this folder\n",
    "```\n",
    "cd workbench/intro\n",
    "jupyter notebook\n",
    "```\n",
    "That should open Jupyter in a new browser window and you should be able to open this notebook using the web interface. You can then follow along with the next steps."
   ]
  },
  {
   "cell_type": "markdown",
   "metadata": {},
   "source": [
    "## How to use the notebook"
   ]
  },
  {
   "cell_type": "markdown",
   "metadata": {},
   "source": [
    "The notebook consists of cells which can be executed by clicking on one and pressing shift+f. In the toolbar at the top there is a dropdown which indicates what type of cell you have selected e.g. `Code` or [Markdown](https://en.wikipedia.org/wiki/Markdown). The former will be executed as raw Python code the latter is a markup language and will be run through a Markdown parser. Both generate HTML that will be printed directly to the notebook page.\n",
    "\n",
    "There a few keyboard shortcuts that are good to know. That is: `b` creates a new cell below the one you've selected and `a` above the one you selected. Editing a cell can be done with a single click for a code cell and a double click for a Markdown cell. A complete list of all keyboard shortcuts can be found by pressing the keyboard icon in the toolbar at the top.\n",
    "\n",
    " Give it a shot by editing one of the cells and pressing shift+f."
   ]
  },
  {
   "cell_type": "markdown",
   "metadata": {},
   "source": [
    "## Using the REST APIs"
   ]
  },
  {
   "cell_type": "markdown",
   "metadata": {},
   "source": [
    "All [REST](https://en.wikipedia.org/wiki/Representational_state_transfer) web services from the [Knowledge Systems Group](https://www.mskcc.org/research-areas/labs/nikolaus-schultz) we will be using in this tutorial have their REST APIs defined following the [Open API / Swagger specification](https://swagger.io/specification/). This allows us to use `bravado` to connect to them directly, and explore the API interactively.\n",
    "\n",
    "For example this is how to connect to the [cBioPortal](https://www.cbioportal.org) API:"
   ]
  },
  {
   "cell_type": "code",
   "execution_count": 1,
   "metadata": {},
   "outputs": [
    {
     "name": "stdout",
     "output_type": "stream",
     "text": [
      "SwaggerClient(https://www.cbioportal.org/api)\n"
     ]
    }
   ],
   "source": [
    "from bravado.client import SwaggerClient\n",
    "\n",
    "cbioportal = SwaggerClient.from_url('https://www.cbioportal.org/api/api-docs',\n",
    "                                config={\"validate_requests\":False,\"validate_responses\":False})\n",
    "print(cbioportal)"
   ]
  },
  {
   "cell_type": "markdown",
   "metadata": {},
   "source": [
    "You can now explore the API by using code completion, press `Tab` after typing `cbioportal.`:"
   ]
  },
  {
   "cell_type": "code",
   "execution_count": null,
   "metadata": {},
   "outputs": [],
   "source": [
    "cbioportal."
   ]
  },
  {
   "cell_type": "markdown",
   "metadata": {},
   "source": [
    "This will give a dropdown with all the different APIs, similar to how you can see them here on the cBioPortal website: https://www.cbioportal.org/api/swagger-ui.html#/. If you don't see the dropdown, some people have found that running `%config Completer.use_jedi = False` fixes the problem. \n",
    "\n",
    "You can also get the parameters to a specific endpoint by pressing shift+tab twice after typing the name of the specific endpoint e.g.:"
   ]
  },
  {
   "cell_type": "code",
   "execution_count": null,
   "metadata": {
    "collapsed": true
   },
   "outputs": [],
   "source": [
    "cbioportal.Cancer_Types.getAllCancerTypesUsingGET()"
   ]
  },
  {
   "cell_type": "markdown",
   "metadata": {},
   "source": [
    "That shows one of the parameters is `cancerTypeId` of type `string`, the example `acc` is mentioned:"
   ]
  },
  {
   "cell_type": "code",
   "execution_count": 5,
   "metadata": {},
   "outputs": [
    {
     "name": "stdout",
     "output_type": "stream",
     "text": [
      "TypeOfCancer(cancerTypeId='acc', clinicalTrialKeywords='adrenocortical carcinoma', dedicatedColor='Purple', name='Adrenocortical Carcinoma', parent='adrenal_gland', shortName='ACC')\n"
     ]
    }
   ],
   "source": [
    "acc = cbioportal.Cancer_Types.getCancerTypeUsingGET(cancerTypeId='acc').result()\n",
    "print(acc)"
   ]
  },
  {
   "cell_type": "markdown",
   "metadata": {},
   "source": [
    "You can see that the JSON output returned by the cBioPortal API gets automatically converted into an object called `TypeOfCancer`. This object can be explored interactively as well by pressing tab after typing `acc.`:"
   ]
  },
  {
   "cell_type": "code",
   "execution_count": 7,
   "metadata": {},
   "outputs": [
    {
     "data": {
      "text/plain": [
       "'adrenal_gland'"
      ]
     },
     "execution_count": 7,
     "metadata": {},
     "output_type": "execute_result"
    }
   ],
   "source": [
    "acc."
   ]
  },
  {
   "cell_type": "markdown",
   "metadata": {},
   "source": [
    "### cBioPortal API"
   ]
  },
  {
   "cell_type": "markdown",
   "metadata": {},
   "source": [
    "[cBioPortal](https://www.cbioportal.org) stores cancer genomics data from a large number of published studies. Let's figure out:\n",
    "\n",
    "- how many studies are there?\n",
    "- how many cancer types do they span?\n",
    "- how many samples in total?\n",
    "- which study has the largest number of samples?"
   ]
  },
  {
   "cell_type": "code",
   "execution_count": 8,
   "metadata": {},
   "outputs": [
    {
     "name": "stdout",
     "output_type": "stream",
     "text": [
      "In total there are 303 studies in cBioPortal, spanning 869 different types of cancer.\n"
     ]
    }
   ],
   "source": [
    "studies = cbioportal.Studies.getAllStudiesUsingGET().result()\n",
    "cancer_types = cbioportal.Cancer_Types.getAllCancerTypesUsingGET().result()\n",
    "\n",
    "print(\"In total there are {} studies in cBioPortal, spanning {} different types of cancer.\".format(\n",
    "    len(studies),\n",
    "    len(cancer_types)\n",
    "))"
   ]
  },
  {
   "cell_type": "markdown",
   "metadata": {},
   "source": [
    "To get the total number of samples in each study we have to look a bit more at the response of the studies endpoint:"
   ]
  },
  {
   "cell_type": "code",
   "execution_count": 11,
   "metadata": {},
   "outputs": [
    {
     "data": {
      "text/plain": [
       "CancerStudy(allSampleCount=40, cancerType=None, cancerTypeId='hnsc', citation='Pickering et al. Cancer Discov 2013', cnaSampleCount=None, completeSampleCount=None, description='Comprehensive profiling of 40 oral squamous cell carcinoma tumor/normal sample pairs.', groups='', importDate='2019-02-19 00:00:00', methylationHm27SampleCount=None, miRnaSampleCount=None, mrnaMicroarraySampleCount=None, mrnaRnaSeqSampleCount=None, mrnaRnaSeqV2SampleCount=None, name='Oral Squamous Cell Carcinoma (MD Anderson, Cancer Discov 2013)', pmid='23619168', publicStudy=True, referenceGenome='hg19', rppaSampleCount=None, sequencedSampleCount=None, shortName='Head & neck (MDA)', status=0, studyId='hnsc_mdanderson_2013')"
      ]
     },
     "execution_count": 11,
     "metadata": {},
     "output_type": "execute_result"
    }
   ],
   "source": [
    "studies[0]"
   ]
  },
  {
   "cell_type": "code",
   "execution_count": 10,
   "metadata": {},
   "outputs": [
    {
     "data": {
      "text/plain": [
       "['allSampleCount',\n",
       " 'cancerType',\n",
       " 'cancerTypeId',\n",
       " 'citation',\n",
       " 'cnaSampleCount',\n",
       " 'completeSampleCount',\n",
       " 'description',\n",
       " 'groups',\n",
       " 'importDate',\n",
       " 'methylationHm27SampleCount',\n",
       " 'miRnaSampleCount',\n",
       " 'mrnaMicroarraySampleCount',\n",
       " 'mrnaRnaSeqSampleCount',\n",
       " 'mrnaRnaSeqV2SampleCount',\n",
       " 'name',\n",
       " 'pmid',\n",
       " 'publicStudy',\n",
       " 'referenceGenome',\n",
       " 'rppaSampleCount',\n",
       " 'sequencedSampleCount',\n",
       " 'shortName',\n",
       " 'status',\n",
       " 'studyId']"
      ]
     },
     "execution_count": 10,
     "metadata": {},
     "output_type": "execute_result"
    }
   ],
   "source": [
    "dir(studies[0])"
   ]
  },
  {
   "cell_type": "markdown",
   "metadata": {},
   "source": [
    "We can sum the `allSampleCount` values of each study in cBioPortal:"
   ]
  },
  {
   "cell_type": "code",
   "execution_count": 12,
   "metadata": {},
   "outputs": [
    {
     "name": "stdout",
     "output_type": "stream",
     "text": [
      "The total number of samples in all studies is: 118149\n"
     ]
    }
   ],
   "source": [
    "print(\"The total number of samples in all studies is: {}\".format(sum([x.allSampleCount for x in studies])))"
   ]
  },
  {
   "cell_type": "markdown",
   "metadata": {},
   "source": [
    "Let's see which study has the largest number of samples:"
   ]
  },
  {
   "cell_type": "code",
   "execution_count": 13,
   "metadata": {},
   "outputs": [
    {
     "data": {
      "text/plain": [
       "CancerStudy(allSampleCount=24146, cancerType=None, cancerTypeId='mixed', citation='Kelly et al. Nat Genet 2020', cnaSampleCount=None, completeSampleCount=None, description='Clonal hematopoiesis mutations identified in blood samples from 24,146 patients whose tumor-blood pairs were analyzed using MSK-IMPACT.', groups='PUBLIC', importDate='2020-10-28 00:00:00', methylationHm27SampleCount=None, miRnaSampleCount=None, mrnaMicroarraySampleCount=None, mrnaRnaSeqSampleCount=None, mrnaRnaSeqV2SampleCount=None, name='Cancer Therapy and Clonal Hematopoiesis (MSK, Nat Genet 2020)', pmid='33106634', publicStudy=True, referenceGenome='hg19', rppaSampleCount=None, sequencedSampleCount=None, shortName='CH (MSK, 2020)', status=0, studyId='msk_ch_2020')"
      ]
     },
     "execution_count": 13,
     "metadata": {},
     "output_type": "execute_result"
    }
   ],
   "source": [
    "sorted_studies = sorted(studies, key=lambda x: x.allSampleCount)\n",
    "sorted_studies[-1]"
   ]
  },
  {
   "cell_type": "markdown",
   "metadata": {},
   "source": [
    "We can also easily see e.g. the top 3 largest studies:"
   ]
  },
  {
   "cell_type": "code",
   "execution_count": 14,
   "metadata": {},
   "outputs": [
    {
     "data": {
      "text/plain": [
       "[CancerStudy(allSampleCount=4231, cancerType=None, cancerTypeId='mds', citation='Papaemmanuil et al. NEJM 2016; Tyner et al. Nature 2018; Papaemmanuil et al. Blood 2013', cnaSampleCount=None, completeSampleCount=None, description='Single-cell genomics reveals the genetic and molecular bases for escape from mutational epistasis in myeloid neoplasms', groups='PENSONA;OMARHISTCOBI', importDate='2020-07-18 00:00:00', methylationHm27SampleCount=None, miRnaSampleCount=None, mrnaMicroarraySampleCount=None, mrnaRnaSeqSampleCount=None, mrnaRnaSeqV2SampleCount=None, name='Myelodysplastic (MSKCC, 2020)', pmid='27276561,30333627,24030381', publicStudy=True, referenceGenome='hg19', rppaSampleCount=None, sequencedSampleCount=None, shortName='MDS  (MSKCC)', status=0, studyId='mds_mskcc_2020'),\n",
       " CancerStudy(allSampleCount=10945, cancerType=None, cancerTypeId='mixed', citation='Zehir et al. Nat Med 2017', cnaSampleCount=None, completeSampleCount=None, description='Targeted sequencing of 10,000 clinical cases using the MSK-IMPACT assay', groups='PUBLIC', importDate='2019-05-07 00:00:00', methylationHm27SampleCount=None, miRnaSampleCount=None, mrnaMicroarraySampleCount=None, mrnaRnaSeqSampleCount=None, mrnaRnaSeqV2SampleCount=None, name='MSK-IMPACT Clinical Sequencing Cohort (MSKCC, Nat Med 2017)', pmid='28481359', publicStudy=True, referenceGenome='hg19', rppaSampleCount=None, sequencedSampleCount=None, shortName='MSK-IMPACT', status=0, studyId='msk_impact_2017'),\n",
       " CancerStudy(allSampleCount=24146, cancerType=None, cancerTypeId='mixed', citation='Kelly et al. Nat Genet 2020', cnaSampleCount=None, completeSampleCount=None, description='Clonal hematopoiesis mutations identified in blood samples from 24,146 patients whose tumor-blood pairs were analyzed using MSK-IMPACT.', groups='PUBLIC', importDate='2020-10-28 00:00:00', methylationHm27SampleCount=None, miRnaSampleCount=None, mrnaMicroarraySampleCount=None, mrnaRnaSeqSampleCount=None, mrnaRnaSeqV2SampleCount=None, name='Cancer Therapy and Clonal Hematopoiesis (MSK, Nat Genet 2020)', pmid='33106634', publicStudy=True, referenceGenome='hg19', rppaSampleCount=None, sequencedSampleCount=None, shortName='CH (MSK, 2020)', status=0, studyId='msk_ch_2020')]"
      ]
     },
     "execution_count": 14,
     "metadata": {},
     "output_type": "execute_result"
    }
   ],
   "source": [
    "sorted_studies = sorted(studies, key=lambda x: x.allSampleCount)\n",
    "sorted_studies[-3:]"
   ]
  },
  {
   "cell_type": "markdown",
   "metadata": {},
   "source": [
    "Now that we've answered the inital questions we can dig a little deeper into a specific study. Let's use the second largest study (`msk_impact_2017`):\n",
    "\n",
    "- How many patients are in this study?\n",
    "- What gene is most commonly mutated across the different samples?\n",
    "- Does this study span one or more types of cancer?\n",
    "\n",
    "The description of the study with id `msk_impact_2017` study mentions there are 24,146 patients sequenced. Can we find this data in the cBioPortal?"
   ]
  },
  {
   "cell_type": "code",
   "execution_count": 15,
   "metadata": {},
   "outputs": [
    {
     "name": "stdout",
     "output_type": "stream",
     "text": [
      "The msk_impact_2017 study spans 10336 patients\n"
     ]
    }
   ],
   "source": [
    "patients = cbioportal.Patients.getAllPatientsInStudyUsingGET(studyId='msk_impact_2017').result()\n",
    "print(\"The msk_impact_2017 study spans {} patients\".format(len(patients)))"
   ]
  },
  {
   "cell_type": "markdown",
   "metadata": {},
   "source": [
    "Now let's try to figure out what gene is most commonly mutated. For this we can check the endpoints in the group `Mutations`. When looking at these endpoints it seems that a study can have multiple molecular profiles. This is because samples might have been sequenced using different assays (e.g. targeting a subset of genes or all genes). An example for the `acc_tcga` study is given for a molecular profile (`acc_tcga_mutations`) and a collection of samples (`acc_tcga_all`). We can use the same approach for the `msk_impact_2017` study. This will take a few seconds.  You can use the command `%%time` to time a cell):"
   ]
  },
  {
   "cell_type": "code",
   "execution_count": 16,
   "metadata": {},
   "outputs": [
    {
     "name": "stdout",
     "output_type": "stream",
     "text": [
      "CPU times: user 5.01 s, sys: 419 ms, total: 5.43 s\n",
      "Wall time: 11.2 s\n"
     ]
    }
   ],
   "source": [
    "%%time\n",
    "\n",
    "mutations = cbioportal.Mutations.getMutationsInMolecularProfileBySampleListIdUsingGET(\n",
    "    molecularProfileId='msk_impact_2017_mutations',\n",
    "    sampleListId='msk_impact_2017_all'\n",
    ").result()"
   ]
  },
  {
   "cell_type": "markdown",
   "metadata": {},
   "source": [
    "We can explore what the mutation data structure looks like:"
   ]
  },
  {
   "cell_type": "code",
   "execution_count": 17,
   "metadata": {
    "scrolled": false
   },
   "outputs": [
    {
     "data": {
      "text/plain": [
       "Mutation(alleleSpecificCopyNumber=None, aminoAcidChange=None, center='NA', chr='14', driverFilter=None, driverFilterAnnotation=None, driverTiersFilter=None, driverTiersFilterAnnotation=None, endPosition=105246551, entrezGeneId=207, fisValue=2.175, functionalImpactScore='M', gene=None, keyword='AKT1 E17 missense', linkMsa='getma.org/?cm=msa&ty=f&p=AKT1_HUMAN&rb=6&re=108&var=E17K', linkPdb='getma.org/pdb.php?prot=AKT1_HUMAN&from=6&to=108&var=E17K', linkXvar='getma.org/?cm=var&var=hg19,14,105246551,C,T&fts=all', molecularProfileId='msk_impact_2017_mutations', mutationStatus='NA', mutationType='Missense_Mutation', ncbiBuild='GRCh37', normalAltCount=None, normalRefCount=None, patientId='P-0000004', proteinChange='E17K', proteinPosEnd=17, proteinPosStart=17, referenceAllele='C', refseqMrnaId='NM_001014432.1', sampleId='P-0000004-T01-IM3', startPosition=105246551, studyId='msk_impact_2017', tumorAltCount=244, tumorRefCount=202, uniquePatientKey='UC0wMDAwMDA0Om1za19pbXBhY3RfMjAxNw', uniqueSampleKey='UC0wMDAwMDA0LVQwMS1JTTM6bXNrX2ltcGFjdF8yMDE3', validationStatus='NA', variantAllele='T', variantType='SNP')"
      ]
     },
     "execution_count": 17,
     "metadata": {},
     "output_type": "execute_result"
    }
   ],
   "source": [
    "mutations[0]"
   ]
  },
  {
   "cell_type": "markdown",
   "metadata": {},
   "source": [
    "It seems that the `gene` field is not filled in. To keep the response size of the API small, the API uses a parameter called `projection` that indicates whether or not to return all fields of an object or only a portion of the fields. By default it will use the `SUMMARY` projection. But because in this case we want to `gene` information, we'll use the `DETAILED` projection instead, so let's update the previous statement:"
   ]
  },
  {
   "cell_type": "code",
   "execution_count": 18,
   "metadata": {},
   "outputs": [
    {
     "name": "stdout",
     "output_type": "stream",
     "text": [
      "CPU times: user 6.81 s, sys: 579 ms, total: 7.39 s\n",
      "Wall time: 15.8 s\n"
     ]
    }
   ],
   "source": [
    "%%time \n",
    "\n",
    "mutations = cbioportal.Mutations.getMutationsInMolecularProfileBySampleListIdUsingGET(\n",
    "    molecularProfileId='msk_impact_2017_mutations',\n",
    "    sampleListId='msk_impact_2017_all',\n",
    "    projection='DETAILED'\n",
    ").result()"
   ]
  },
  {
   "cell_type": "markdown",
   "metadata": {},
   "source": [
    "You can see the response time is slightly slower. Let's check if the gene field is filled in now:"
   ]
  },
  {
   "cell_type": "code",
   "execution_count": 22,
   "metadata": {},
   "outputs": [
    {
     "data": {
      "text/plain": [
       "Mutation(alleleSpecificCopyNumber=None, aminoAcidChange=None, center='NA', chr='14', driverFilter=None, driverFilterAnnotation=None, driverTiersFilter=None, driverTiersFilterAnnotation=None, endPosition=105246551, entrezGeneId=207, fisValue=2.175, functionalImpactScore='M', gene=Gene(entrezGeneId=207, geneticEntityId=None, hugoGeneSymbol='AKT1', type='protein-coding'), keyword='AKT1 E17 missense', linkMsa='getma.org/?cm=msa&ty=f&p=AKT1_HUMAN&rb=6&re=108&var=E17K', linkPdb='getma.org/pdb.php?prot=AKT1_HUMAN&from=6&to=108&var=E17K', linkXvar='getma.org/?cm=var&var=hg19,14,105246551,C,T&fts=all', molecularProfileId='msk_impact_2017_mutations', mutationStatus='NA', mutationType='Missense_Mutation', ncbiBuild='GRCh37', normalAltCount=None, normalRefCount=None, patientId='P-0000004', proteinChange='E17K', proteinPosEnd=17, proteinPosStart=17, referenceAllele='C', refseqMrnaId='NM_001014432.1', sampleId='P-0000004-T01-IM3', startPosition=105246551, studyId='msk_impact_2017', tumorAltCount=244, tumorRefCount=202, uniquePatientKey='UC0wMDAwMDA0Om1za19pbXBhY3RfMjAxNw', uniqueSampleKey='UC0wMDAwMDA0LVQwMS1JTTM6bXNrX2ltcGFjdF8yMDE3', validationStatus='NA', variantAllele='T', variantType='SNP')"
      ]
     },
     "execution_count": 22,
     "metadata": {},
     "output_type": "execute_result"
    }
   ],
   "source": [
    "mutations[0]"
   ]
  },
  {
   "cell_type": "markdown",
   "metadata": {},
   "source": [
    "Now that we have the gene field we can check what gene is most commonly mutated: "
   ]
  },
  {
   "cell_type": "code",
   "execution_count": 19,
   "metadata": {},
   "outputs": [
    {
     "data": {
      "text/plain": [
       "[('TP53', 4985),\n",
       " ('APC', 1698),\n",
       " ('KRAS', 1671),\n",
       " ('TERT', 1564),\n",
       " ('PIK3CA', 1519)]"
      ]
     },
     "execution_count": 19,
     "metadata": {},
     "output_type": "execute_result"
    }
   ],
   "source": [
    "from collections import Counter\n",
    "mutation_counts = Counter([m.gene.hugoGeneSymbol for m in mutations])\n",
    "mutation_counts.most_common(5)"
   ]
  },
  {
   "cell_type": "markdown",
   "metadata": {},
   "source": [
    "We can verify that these results are correct by looking at the study view of the MSK-IMPACT study on the cBioPortal website: https://www.cbioportal.org/study/summary?id=msk_impact_2017. Note that the website uses the REST API we've been using in this hackathon, so we would expect those numbers to be the same, but good to do a sanity check. We see that the number of patients is indeed 10,336. But the number of samples with a mutation in TP53 is 4,561 instead of 4,985. Can you spot why they differ?\n",
    "\n",
    "Next question:\n",
    "\n",
    "- How many samples have a TP53 mutation?\n",
    "\n",
    "For this exercise it might be useful to use a [pandas dataframe](https://pandas.pydata.org/) to be able to do grouping operations. You can convert the mutations result to a dataframe like this:"
   ]
  },
  {
   "cell_type": "code",
   "execution_count": 34,
   "metadata": {},
   "outputs": [
    {
     "data": {
      "text/plain": [
       "{'alleleSpecificCopyNumber': None,\n",
       " 'aminoAcidChange': None,\n",
       " 'center': 'NA',\n",
       " 'chr': '14',\n",
       " 'driverFilter': None,\n",
       " 'driverFilterAnnotation': None,\n",
       " 'driverTiersFilter': None,\n",
       " 'driverTiersFilterAnnotation': None,\n",
       " 'endPosition': 105246551,\n",
       " 'entrezGeneId': 207,\n",
       " 'fisValue': 2.175,\n",
       " 'functionalImpactScore': 'M',\n",
       " 'gene': Gene(entrezGeneId=207, geneticEntityId=None, hugoGeneSymbol='AKT1', type='protein-coding'),\n",
       " 'keyword': 'AKT1 E17 missense',\n",
       " 'linkMsa': 'getma.org/?cm=msa&ty=f&p=AKT1_HUMAN&rb=6&re=108&var=E17K',\n",
       " 'linkPdb': 'getma.org/pdb.php?prot=AKT1_HUMAN&from=6&to=108&var=E17K',\n",
       " 'linkXvar': 'getma.org/?cm=var&var=hg19,14,105246551,C,T&fts=all',\n",
       " 'molecularProfileId': 'msk_impact_2017_mutations',\n",
       " 'mutationStatus': 'NA',\n",
       " 'mutationType': 'Missense_Mutation',\n",
       " 'ncbiBuild': 'GRCh37',\n",
       " 'normalAltCount': None,\n",
       " 'normalRefCount': None,\n",
       " 'patientId': 'P-0000004',\n",
       " 'proteinChange': 'E17K',\n",
       " 'proteinPosEnd': 17,\n",
       " 'proteinPosStart': 17,\n",
       " 'referenceAllele': 'C',\n",
       " 'refseqMrnaId': 'NM_001014432.1',\n",
       " 'sampleId': 'P-0000004-T01-IM3',\n",
       " 'startPosition': 105246551,\n",
       " 'studyId': 'msk_impact_2017',\n",
       " 'tumorAltCount': 244,\n",
       " 'tumorRefCount': 202,\n",
       " 'uniquePatientKey': 'UC0wMDAwMDA0Om1za19pbXBhY3RfMjAxNw',\n",
       " 'uniqueSampleKey': 'UC0wMDAwMDA0LVQwMS1JTTM6bXNrX2ltcGFjdF8yMDE3',\n",
       " 'validationStatus': 'NA',\n",
       " 'variantAllele': 'T',\n",
       " 'variantType': 'SNP'}"
      ]
     },
     "execution_count": 34,
     "metadata": {},
     "output_type": "execute_result"
    }
   ],
   "source": [
    "{k:getattr(mutations[0],k) for k in dir(mutations[0])}"
   ]
  },
  {
   "cell_type": "code",
   "execution_count": 20,
   "metadata": {},
   "outputs": [],
   "source": [
    "import pandas as pd\n",
    "\n",
    "mdf = pd.DataFrame.from_dict([\n",
    "    # python magic that combines two dictionaries:\n",
    "    dict(\n",
    "        {k:getattr(m,k) for k in dir(m)},\n",
    "        **{k:getattr(m.gene,k) for k in dir(m.gene)}) \n",
    "    # create one item in the list for each mutation\n",
    "    for m in mutations\n",
    "])"
   ]
  },
  {
   "cell_type": "code",
   "execution_count": 21,
   "metadata": {},
   "outputs": [
    {
     "data": {
      "text/html": [
       "<div>\n",
       "<style scoped>\n",
       "    .dataframe tbody tr th:only-of-type {\n",
       "        vertical-align: middle;\n",
       "    }\n",
       "\n",
       "    .dataframe tbody tr th {\n",
       "        vertical-align: top;\n",
       "    }\n",
       "\n",
       "    .dataframe thead th {\n",
       "        text-align: right;\n",
       "    }\n",
       "</style>\n",
       "<table border=\"1\" class=\"dataframe\">\n",
       "  <thead>\n",
       "    <tr style=\"text-align: right;\">\n",
       "      <th></th>\n",
       "      <th>alleleSpecificCopyNumber</th>\n",
       "      <th>aminoAcidChange</th>\n",
       "      <th>center</th>\n",
       "      <th>chr</th>\n",
       "      <th>driverFilter</th>\n",
       "      <th>driverFilterAnnotation</th>\n",
       "      <th>driverTiersFilter</th>\n",
       "      <th>driverTiersFilterAnnotation</th>\n",
       "      <th>endPosition</th>\n",
       "      <th>entrezGeneId</th>\n",
       "      <th>...</th>\n",
       "      <th>tumorAltCount</th>\n",
       "      <th>tumorRefCount</th>\n",
       "      <th>uniquePatientKey</th>\n",
       "      <th>uniqueSampleKey</th>\n",
       "      <th>validationStatus</th>\n",
       "      <th>variantAllele</th>\n",
       "      <th>variantType</th>\n",
       "      <th>geneticEntityId</th>\n",
       "      <th>hugoGeneSymbol</th>\n",
       "      <th>type</th>\n",
       "    </tr>\n",
       "  </thead>\n",
       "  <tbody>\n",
       "    <tr>\n",
       "      <th>0</th>\n",
       "      <td>None</td>\n",
       "      <td>None</td>\n",
       "      <td>NA</td>\n",
       "      <td>14</td>\n",
       "      <td>None</td>\n",
       "      <td>None</td>\n",
       "      <td>None</td>\n",
       "      <td>None</td>\n",
       "      <td>105246551</td>\n",
       "      <td>207</td>\n",
       "      <td>...</td>\n",
       "      <td>244</td>\n",
       "      <td>202</td>\n",
       "      <td>UC0wMDAwMDA0Om1za19pbXBhY3RfMjAxNw</td>\n",
       "      <td>UC0wMDAwMDA0LVQwMS1JTTM6bXNrX2ltcGFjdF8yMDE3</td>\n",
       "      <td>NA</td>\n",
       "      <td>T</td>\n",
       "      <td>SNP</td>\n",
       "      <td>None</td>\n",
       "      <td>AKT1</td>\n",
       "      <td>protein-coding</td>\n",
       "    </tr>\n",
       "    <tr>\n",
       "      <th>1</th>\n",
       "      <td>None</td>\n",
       "      <td>None</td>\n",
       "      <td>NA</td>\n",
       "      <td>17</td>\n",
       "      <td>None</td>\n",
       "      <td>None</td>\n",
       "      <td>None</td>\n",
       "      <td>None</td>\n",
       "      <td>7578518</td>\n",
       "      <td>7157</td>\n",
       "      <td>...</td>\n",
       "      <td>58</td>\n",
       "      <td>209</td>\n",
       "      <td>UC0wMDAwMDA0Om1za19pbXBhY3RfMjAxNw</td>\n",
       "      <td>UC0wMDAwMDA0LVQwMS1JTTM6bXNrX2ltcGFjdF8yMDE3</td>\n",
       "      <td>NA</td>\n",
       "      <td>-</td>\n",
       "      <td>DEL</td>\n",
       "      <td>None</td>\n",
       "      <td>TP53</td>\n",
       "      <td>protein-coding</td>\n",
       "    </tr>\n",
       "    <tr>\n",
       "      <th>2</th>\n",
       "      <td>None</td>\n",
       "      <td>None</td>\n",
       "      <td>NA</td>\n",
       "      <td>5</td>\n",
       "      <td>None</td>\n",
       "      <td>None</td>\n",
       "      <td>None</td>\n",
       "      <td>None</td>\n",
       "      <td>56177843</td>\n",
       "      <td>4214</td>\n",
       "      <td>...</td>\n",
       "      <td>12</td>\n",
       "      <td>370</td>\n",
       "      <td>UC0wMDAwMDA0Om1za19pbXBhY3RfMjAxNw</td>\n",
       "      <td>UC0wMDAwMDA0LVQwMS1JTTM6bXNrX2ltcGFjdF8yMDE3</td>\n",
       "      <td>NA</td>\n",
       "      <td>G</td>\n",
       "      <td>SNP</td>\n",
       "      <td>None</td>\n",
       "      <td>MAP3K1</td>\n",
       "      <td>protein-coding</td>\n",
       "    </tr>\n",
       "    <tr>\n",
       "      <th>3</th>\n",
       "      <td>None</td>\n",
       "      <td>None</td>\n",
       "      <td>NA</td>\n",
       "      <td>17</td>\n",
       "      <td>None</td>\n",
       "      <td>None</td>\n",
       "      <td>None</td>\n",
       "      <td>None</td>\n",
       "      <td>56440643</td>\n",
       "      <td>54894</td>\n",
       "      <td>...</td>\n",
       "      <td>41</td>\n",
       "      <td>296</td>\n",
       "      <td>UC0wMDAwMDA0Om1za19pbXBhY3RfMjAxNw</td>\n",
       "      <td>UC0wMDAwMDA0LVQwMS1JTTM6bXNrX2ltcGFjdF8yMDE3</td>\n",
       "      <td>NA</td>\n",
       "      <td>A</td>\n",
       "      <td>SNP</td>\n",
       "      <td>None</td>\n",
       "      <td>RNF43</td>\n",
       "      <td>protein-coding</td>\n",
       "    </tr>\n",
       "    <tr>\n",
       "      <th>4</th>\n",
       "      <td>None</td>\n",
       "      <td>None</td>\n",
       "      <td>NA</td>\n",
       "      <td>7</td>\n",
       "      <td>None</td>\n",
       "      <td>None</td>\n",
       "      <td>None</td>\n",
       "      <td>None</td>\n",
       "      <td>151945083</td>\n",
       "      <td>58508</td>\n",
       "      <td>...</td>\n",
       "      <td>11</td>\n",
       "      <td>84</td>\n",
       "      <td>UC0wMDAwMDA0Om1za19pbXBhY3RfMjAxNw</td>\n",
       "      <td>UC0wMDAwMDA0LVQwMS1JTTM6bXNrX2ltcGFjdF8yMDE3</td>\n",
       "      <td>NA</td>\n",
       "      <td>T</td>\n",
       "      <td>SNP</td>\n",
       "      <td>None</td>\n",
       "      <td>KMT2C</td>\n",
       "      <td>protein-coding</td>\n",
       "    </tr>\n",
       "  </tbody>\n",
       "</table>\n",
       "<p>5 rows × 42 columns</p>\n",
       "</div>"
      ],
      "text/plain": [
       "  alleleSpecificCopyNumber aminoAcidChange center chr driverFilter  \\\n",
       "0                     None            None     NA  14         None   \n",
       "1                     None            None     NA  17         None   \n",
       "2                     None            None     NA   5         None   \n",
       "3                     None            None     NA  17         None   \n",
       "4                     None            None     NA   7         None   \n",
       "\n",
       "  driverFilterAnnotation driverTiersFilter driverTiersFilterAnnotation  \\\n",
       "0                   None              None                        None   \n",
       "1                   None              None                        None   \n",
       "2                   None              None                        None   \n",
       "3                   None              None                        None   \n",
       "4                   None              None                        None   \n",
       "\n",
       "   endPosition  entrezGeneId  ...  tumorAltCount tumorRefCount  \\\n",
       "0    105246551           207  ...            244           202   \n",
       "1      7578518          7157  ...             58           209   \n",
       "2     56177843          4214  ...             12           370   \n",
       "3     56440643         54894  ...             41           296   \n",
       "4    151945083         58508  ...             11            84   \n",
       "\n",
       "                     uniquePatientKey  \\\n",
       "0  UC0wMDAwMDA0Om1za19pbXBhY3RfMjAxNw   \n",
       "1  UC0wMDAwMDA0Om1za19pbXBhY3RfMjAxNw   \n",
       "2  UC0wMDAwMDA0Om1za19pbXBhY3RfMjAxNw   \n",
       "3  UC0wMDAwMDA0Om1za19pbXBhY3RfMjAxNw   \n",
       "4  UC0wMDAwMDA0Om1za19pbXBhY3RfMjAxNw   \n",
       "\n",
       "                                uniqueSampleKey validationStatus  \\\n",
       "0  UC0wMDAwMDA0LVQwMS1JTTM6bXNrX2ltcGFjdF8yMDE3               NA   \n",
       "1  UC0wMDAwMDA0LVQwMS1JTTM6bXNrX2ltcGFjdF8yMDE3               NA   \n",
       "2  UC0wMDAwMDA0LVQwMS1JTTM6bXNrX2ltcGFjdF8yMDE3               NA   \n",
       "3  UC0wMDAwMDA0LVQwMS1JTTM6bXNrX2ltcGFjdF8yMDE3               NA   \n",
       "4  UC0wMDAwMDA0LVQwMS1JTTM6bXNrX2ltcGFjdF8yMDE3               NA   \n",
       "\n",
       "  variantAllele variantType geneticEntityId hugoGeneSymbol            type  \n",
       "0             T         SNP            None           AKT1  protein-coding  \n",
       "1             -         DEL            None           TP53  protein-coding  \n",
       "2             G         SNP            None         MAP3K1  protein-coding  \n",
       "3             A         SNP            None          RNF43  protein-coding  \n",
       "4             T         SNP            None          KMT2C  protein-coding  \n",
       "\n",
       "[5 rows x 42 columns]"
      ]
     },
     "execution_count": 21,
     "metadata": {},
     "output_type": "execute_result"
    }
   ],
   "source": [
    "mdf.head()"
   ]
  },
  {
   "cell_type": "markdown",
   "metadata": {},
   "source": [
    "The DataFrame is a data type originally from `Matlab` and `R` that makes it easier to work with columnar data. Pandas brings that data type to Python. There are also several performance optimizations by it using the data types from [numpy](https://www.numpy.org/).\n",
    "\n",
    "Now that you have the data in a Dataframe you can group the mutations by the gene name and count the number of unique samples in TP53:"
   ]
  },
  {
   "cell_type": "code",
   "execution_count": 22,
   "metadata": {},
   "outputs": [
    {
     "name": "stdout",
     "output_type": "stream",
     "text": [
      "There are 4561 samples with a mutation in TP53\n"
     ]
    }
   ],
   "source": [
    "sample_count_per_gene = mdf.groupby('hugoGeneSymbol')['uniqueSampleKey'].nunique()\n",
    "\n",
    "print(\"There are {} samples with a mutation in TP53\".format(\n",
    "    sample_count_per_gene['TP53']\n",
    "))"
   ]
  },
  {
   "cell_type": "markdown",
   "metadata": {},
   "source": [
    "It would be nice to visualize this result in context of the other genes by plotting the top 10 most mutated genes. For this you can use the matplotlib interface that integrates with pandas.\n",
    "\n",
    "First  inline plotting in the notebook:"
   ]
  },
  {
   "cell_type": "code",
   "execution_count": 23,
   "metadata": {},
   "outputs": [],
   "source": [
    "%matplotlib inline"
   ]
  },
  {
   "cell_type": "code",
   "execution_count": 24,
   "metadata": {},
   "outputs": [
    {
     "data": {
      "text/plain": [
       "<AxesSubplot:xlabel='hugoGeneSymbol'>"
      ]
     },
     "execution_count": 24,
     "metadata": {},
     "output_type": "execute_result"
    },
    {
     "data": {
      "image/png": "[encoded data removed]",
      "text/plain": [
       "<Figure size 432x288 with 1 Axes>"
      ]
     },
     "metadata": {
      "needs_background": "light"
     },
     "output_type": "display_data"
    }
   ],
   "source": [
    "sample_count_per_gene.sort_values(ascending=False).head(10).plot(kind='bar')"
   ]
  },
  {
   "cell_type": "markdown",
   "metadata": {},
   "source": [
    "Make it look a little nicer by importing seaborn:"
   ]
  },
  {
   "cell_type": "code",
   "execution_count": 25,
   "metadata": {},
   "outputs": [],
   "source": [
    "import seaborn as sns\n",
    "sns.set_style(\"white\")\n",
    "sns.set_context('notebook')"
   ]
  },
  {
   "cell_type": "code",
   "execution_count": 26,
   "metadata": {},
   "outputs": [
    {
     "data": {
      "image/png": "[encoded data removed]",
      "text/plain": [
       "<Figure size 432x288 with 1 Axes>"
      ]
     },
     "metadata": {},
     "output_type": "display_data"
    }
   ],
   "source": [
    "sample_count_per_gene.sort_values(ascending=False).head(10).plot(kind='bar')\n",
    "sns.despine(trim=False)"
   ]
  },
  {
   "cell_type": "markdown",
   "metadata": {},
   "source": [
    "You can further change the plot a bit by using the arguments to the plot function or using the matplotlib interface directly:"
   ]
  },
  {
   "cell_type": "code",
   "execution_count": 27,
   "metadata": {},
   "outputs": [
    {
     "data": {
      "text/plain": [
       "Text(0.5, 1.0, 'Number of mutations in genes in MSK-IMPACT (2017)')"
      ]
     },
     "execution_count": 27,
     "metadata": {},
     "output_type": "execute_result"
    },
    {
     "data": {
      "image/png": "[encoded data removed]",
      "text/plain": [
       "<Figure size 432x288 with 1 Axes>"
      ]
     },
     "metadata": {},
     "output_type": "display_data"
    }
   ],
   "source": [
    "import matplotlib.pyplot as plt\n",
    "\n",
    "sample_count_per_gene.sort_values(ascending=False).head(10).plot(\n",
    "    kind='bar',\n",
    "    ylim=[0,5000],\n",
    "    color='green'\n",
    ")\n",
    "sns.despine(trim=False)\n",
    "plt.xlabel('')\n",
    "plt.xticks(rotation=300)\n",
    "plt.ylabel('Number of samples',labelpad=20)\n",
    "plt.title('Number of mutations in genes in MSK-IMPACT (2017)',pad=25)"
   ]
  },
  {
   "cell_type": "markdown",
   "metadata": {},
   "source": [
    "A further extension of this plot could be to color the bar chart by the type of mutation in that sample (`mdf.mutationType`) and to include copy number alterations (see `Discrete Copy Number Alterations` endpoints)."
   ]
  },
  {
   "cell_type": "markdown",
   "metadata": {},
   "source": [
    "### Genome Nexus API"
   ]
  },
  {
   "cell_type": "markdown",
   "metadata": {},
   "source": [
    "[Genome Nexus](https://www.genomenexus.org) is a web service that aggregates all cancer related information about a particular mutation. Similarly to cBioPortal it provides a REST API following the [Swagger / OpenAPI specification](https://swagger.io/specification/)."
   ]
  },
  {
   "cell_type": "code",
   "execution_count": 43,
   "metadata": {},
   "outputs": [
    {
     "name": "stdout",
     "output_type": "stream",
     "text": [
      "SwaggerClient(https://www.genomenexus.org/)\n"
     ]
    }
   ],
   "source": [
    "from bravado.client import SwaggerClient\n",
    "\n",
    "gn = SwaggerClient.from_url('https://www.genomenexus.org/v2/api-docs',\n",
    "                            config={\"validate_requests\":False,\n",
    "                                    \"validate_responses\":False,\n",
    "                                    \"validate_swagger_spec\":False})\n",
    "print(gn)"
   ]
  },
  {
   "cell_type": "markdown",
   "metadata": {},
   "source": [
    "To look up annotations for a single variant, one can use the following endpoint:"
   ]
  },
  {
   "cell_type": "code",
   "execution_count": 44,
   "metadata": {},
   "outputs": [],
   "source": [
    "variant = gn.annotation_controller.fetchVariantAnnotationByGenomicLocationGET(\n",
    "    genomicLocation='7,140453136,140453136,A,T',\n",
    "    # adds extra annotation resources, not included in default response:\n",
    "    fields='hotspots mutation_assessor annotation_summary'.split()\n",
    ").result()"
   ]
  },
  {
   "cell_type": "markdown",
   "metadata": {},
   "source": [
    "You can see a lot of information is provided for that particular variant if you type tab after `variant.`:"
   ]
  },
  {
   "cell_type": "code",
   "execution_count": null,
   "metadata": {
    "collapsed": true
   },
   "outputs": [],
   "source": [
    "variant."
   ]
  },
  {
   "cell_type": "markdown",
   "metadata": {},
   "source": [
    "For this example we will focus on the hotspot annotation and ignore the others. [Cancer hotspots](https://www.cancerhotspots.org/) is a popular web resource  which indicates whether particular variants have been found to be recurrently mutated in large scale cancer genomics data.\n",
    "\n",
    "The example variant above is a hotspot:"
   ]
  },
  {
   "cell_type": "code",
   "execution_count": 45,
   "metadata": {},
   "outputs": [
    {
     "data": {
      "text/plain": [
       "HotspotAnnotation(annotation=[[Hotspot(hugoSymbol='BRAF', inframeCount=0, missenseCount=897, residue='V600', spliceCount=0, transcriptId='ENST00000288602', truncatingCount=0, tumorCount=897, type='single residue'), Hotspot(hugoSymbol='BRAF', inframeCount=None, missenseCount=None, residue='V600', spliceCount=None, transcriptId='ENST00000288602', truncatingCount=None, tumorCount=545, type='3d')], [], [], []], license='https://opendatacommons.org/licenses/odbl/1.0/')"
      ]
     },
     "execution_count": 45,
     "metadata": {},
     "output_type": "execute_result"
    }
   ],
   "source": [
    "variant.hotspots"
   ]
  },
  {
   "cell_type": "markdown",
   "metadata": {},
   "source": [
    "Let's see how many hotspot mutations there are in the Cholangiocarcinoma (TCGA, PanCancer Atlas) study with study id `chol_tcga_pan_can_atlas_2018` from the cBioPortal:"
   ]
  },
  {
   "cell_type": "code",
   "execution_count": 46,
   "metadata": {
    "scrolled": true
   },
   "outputs": [
    {
     "name": "stdout",
     "output_type": "stream",
     "text": [
      "CPU times: user 776 ms, sys: 96.9 ms, total: 873 ms\n",
      "Wall time: 1.9 s\n"
     ]
    }
   ],
   "source": [
    "%%time\n",
    "\n",
    "cbioportal = SwaggerClient.from_url('https://www.cbioportal.org/api/api-docs',\n",
    "                                config={\"validate_requests\":False,\"validate_responses\":False})\n",
    "\n",
    "mutations = cbioportal.Mutations.getMutationsInMolecularProfileBySampleListIdUsingGET(\n",
    "    molecularProfileId='chol_tcga_pan_can_atlas_2018_mutations',\n",
    "    sampleListId='chol_tcga_pan_can_atlas_2018_all',\n",
    "    projection='DETAILED'\n",
    ").result()"
   ]
  },
  {
   "cell_type": "markdown",
   "metadata": {},
   "source": [
    "Convert the results to a dataframe again:"
   ]
  },
  {
   "cell_type": "code",
   "execution_count": 47,
   "metadata": {},
   "outputs": [],
   "source": [
    "import pandas as pd\n",
    "\n",
    "mdf = pd.DataFrame.from_dict([\n",
    "    # python magic that combines two dictionaries:\n",
    "    dict(\n",
    "        {k:getattr(m,k) for k in dir(m)},\n",
    "        **{k:getattr(m.gene,k) for k in dir(m.gene)}) \n",
    "    # create one item in the list for each mutation\n",
    "    for m in mutations\n",
    "])"
   ]
  },
  {
   "cell_type": "markdown",
   "metadata": {},
   "source": [
    "Then get only the unique mutations, to avoid calling the web service with the same variants:"
   ]
  },
  {
   "cell_type": "code",
   "execution_count": 56,
   "metadata": {},
   "outputs": [],
   "source": [
    "variants = mdf['chr startPosition endPosition referenceAllele variantAllele'.split()]\\\n",
    "    .drop_duplicates()\\\n",
    "    .dropna(how='any',axis=0)\\\n",
    "    .reset_index(drop=True)"
   ]
  },
  {
   "cell_type": "markdown",
   "metadata": {},
   "source": [
    "Convert them to input that genome nexus will understand:"
   ]
  },
  {
   "cell_type": "code",
   "execution_count": 57,
   "metadata": {},
   "outputs": [
    {
     "data": {
      "text/html": [
       "<div>\n",
       "<style scoped>\n",
       "    .dataframe tbody tr th:only-of-type {\n",
       "        vertical-align: middle;\n",
       "    }\n",
       "\n",
       "    .dataframe tbody tr th {\n",
       "        vertical-align: top;\n",
       "    }\n",
       "\n",
       "    .dataframe thead th {\n",
       "        text-align: right;\n",
       "    }\n",
       "</style>\n",
       "<table border=\"1\" class=\"dataframe\">\n",
       "  <thead>\n",
       "    <tr style=\"text-align: right;\">\n",
       "      <th></th>\n",
       "      <th>chr</th>\n",
       "      <th>startPosition</th>\n",
       "      <th>endPosition</th>\n",
       "      <th>referenceAllele</th>\n",
       "      <th>variantAllele</th>\n",
       "    </tr>\n",
       "  </thead>\n",
       "  <tbody>\n",
       "    <tr>\n",
       "      <th>0</th>\n",
       "      <td>6</td>\n",
       "      <td>51921499</td>\n",
       "      <td>51921499</td>\n",
       "      <td>G</td>\n",
       "      <td>A</td>\n",
       "    </tr>\n",
       "    <tr>\n",
       "      <th>1</th>\n",
       "      <td>5</td>\n",
       "      <td>167675119</td>\n",
       "      <td>167675119</td>\n",
       "      <td>C</td>\n",
       "      <td>T</td>\n",
       "    </tr>\n",
       "    <tr>\n",
       "      <th>2</th>\n",
       "      <td>7</td>\n",
       "      <td>142960620</td>\n",
       "      <td>142960620</td>\n",
       "      <td>C</td>\n",
       "      <td>T</td>\n",
       "    </tr>\n",
       "    <tr>\n",
       "      <th>3</th>\n",
       "      <td>11</td>\n",
       "      <td>65373425</td>\n",
       "      <td>65373425</td>\n",
       "      <td>C</td>\n",
       "      <td>G</td>\n",
       "    </tr>\n",
       "    <tr>\n",
       "      <th>4</th>\n",
       "      <td>17</td>\n",
       "      <td>57247159</td>\n",
       "      <td>57247159</td>\n",
       "      <td>G</td>\n",
       "      <td>A</td>\n",
       "    </tr>\n",
       "    <tr>\n",
       "      <th>...</th>\n",
       "      <td>...</td>\n",
       "      <td>...</td>\n",
       "      <td>...</td>\n",
       "      <td>...</td>\n",
       "      <td>...</td>\n",
       "    </tr>\n",
       "    <tr>\n",
       "      <th>1963</th>\n",
       "      <td>7</td>\n",
       "      <td>151935871</td>\n",
       "      <td>151935871</td>\n",
       "      <td>C</td>\n",
       "      <td>A</td>\n",
       "    </tr>\n",
       "    <tr>\n",
       "      <th>1964</th>\n",
       "      <td>1</td>\n",
       "      <td>27105848</td>\n",
       "      <td>27105852</td>\n",
       "      <td>ATGAT</td>\n",
       "      <td>-</td>\n",
       "    </tr>\n",
       "    <tr>\n",
       "      <th>1965</th>\n",
       "      <td>9</td>\n",
       "      <td>125752410</td>\n",
       "      <td>125752410</td>\n",
       "      <td>G</td>\n",
       "      <td>C</td>\n",
       "    </tr>\n",
       "    <tr>\n",
       "      <th>1966</th>\n",
       "      <td>9</td>\n",
       "      <td>125752411</td>\n",
       "      <td>125752411</td>\n",
       "      <td>C</td>\n",
       "      <td>T</td>\n",
       "    </tr>\n",
       "    <tr>\n",
       "      <th>1967</th>\n",
       "      <td>5</td>\n",
       "      <td>55147437</td>\n",
       "      <td>55147440</td>\n",
       "      <td>TGTC</td>\n",
       "      <td>-</td>\n",
       "    </tr>\n",
       "  </tbody>\n",
       "</table>\n",
       "<p>1968 rows × 5 columns</p>\n",
       "</div>"
      ],
      "text/plain": [
       "     chr  startPosition  endPosition referenceAllele variantAllele\n",
       "0      6       51921499     51921499               G             A\n",
       "1      5      167675119    167675119               C             T\n",
       "2      7      142960620    142960620               C             T\n",
       "3     11       65373425     65373425               C             G\n",
       "4     17       57247159     57247159               G             A\n",
       "...   ..            ...          ...             ...           ...\n",
       "1963   7      151935871    151935871               C             A\n",
       "1964   1       27105848     27105852           ATGAT             -\n",
       "1965   9      125752410    125752410               G             C\n",
       "1966   9      125752411    125752411               C             T\n",
       "1967   5       55147437     55147440            TGTC             -\n",
       "\n",
       "[1968 rows x 5 columns]"
      ]
     },
     "execution_count": 57,
     "metadata": {},
     "output_type": "execute_result"
    }
   ],
   "source": [
    "variants"
   ]
  },
  {
   "cell_type": "code",
   "execution_count": 58,
   "metadata": {},
   "outputs": [],
   "source": [
    "variants = variants.rename(columns={'chr':'chromosome','startPosition':'start','endPosition':'end'})\\\n",
    "    .to_dict(orient='records')"
   ]
  },
  {
   "cell_type": "code",
   "execution_count": 59,
   "metadata": {},
   "outputs": [
    {
     "name": "stdout",
     "output_type": "stream",
     "text": [
      "There are 1968 mutations left to annotate\n"
     ]
    }
   ],
   "source": [
    "print(\"There are {} mutations left to annotate\".format(len(variants)))"
   ]
  },
  {
   "cell_type": "markdown",
   "metadata": {},
   "source": [
    "Annotate them with genome nexus:"
   ]
  },
  {
   "cell_type": "code",
   "execution_count": 60,
   "metadata": {},
   "outputs": [
    {
     "name": "stdout",
     "output_type": "stream",
     "text": [
      "CPU times: user 1.47 s, sys: 99 ms, total: 1.57 s\n",
      "Wall time: 6.88 s\n"
     ]
    }
   ],
   "source": [
    "%%time \n",
    "\n",
    "variants_annotated = gn.annotation_controller.fetchVariantAnnotationByGenomicLocationPOST(\n",
    "    genomicLocations=variants,\n",
    "    fields='hotspots annotation_summary'.split()\n",
    ").result()"
   ]
  },
  {
   "cell_type": "markdown",
   "metadata": {},
   "source": [
    "Index the variants to make it easier to query them:"
   ]
  },
  {
   "cell_type": "code",
   "execution_count": 61,
   "metadata": {},
   "outputs": [],
   "source": [
    "gn_dict = {\n",
    "    \"{},{},{},{},{}\".format(\n",
    "        v.annotation_summary.genomicLocation.chromosome,\n",
    "        v.annotation_summary.genomicLocation.start,\n",
    "        v.annotation_summary.genomicLocation.end,\n",
    "        v.annotation_summary.genomicLocation.referenceAllele,\n",
    "        v.annotation_summary.genomicLocation.variantAllele)\n",
    "        :\n",
    "        v for v in variants_annotated\n",
    "}"
   ]
  },
  {
   "cell_type": "markdown",
   "metadata": {},
   "source": [
    "Add a new column to indicate whether something is a hotspot"
   ]
  },
  {
   "cell_type": "code",
   "execution_count": 64,
   "metadata": {},
   "outputs": [],
   "source": [
    "def is_hotspot(x):\n",
    "    \"\"\"TODO: Current structure for hotspots in Genome Nexus is a little funky.\n",
    "    Need to check whether all lists in the annotation field are empty.\"\"\"\n",
    "    if x:\n",
    "        return sum([len(a) for a in x.hotspots.annotation]) > 0\n",
    "    else:\n",
    "        return False\n",
    "\n",
    "def create_dict_query_key(x):\n",
    "    return \"{},{},{},{},{}\".format(\n",
    "        x.chr, x.startPosition, x.endPosition, x.referenceAllele, x.variantAllele\n",
    "    )"
   ]
  },
  {
   "cell_type": "code",
   "execution_count": 65,
   "metadata": {},
   "outputs": [],
   "source": [
    "mdf['is_hotspot'] = mdf.apply(lambda x: is_hotspot(gn_dict.get(create_dict_query_key(x), None)), axis=1)"
   ]
  },
  {
   "cell_type": "markdown",
   "metadata": {},
   "source": [
    "Then plot the results:"
   ]
  },
  {
   "cell_type": "code",
   "execution_count": 66,
   "metadata": {},
   "outputs": [],
   "source": [
    "%matplotlib inline\n",
    "import seaborn as sns\n",
    "sns.set_style(\"white\")\n",
    "sns.set_context('notebook')\n",
    "import matplotlib.pyplot as plt"
   ]
  },
  {
   "cell_type": "code",
   "execution_count": 67,
   "metadata": {},
   "outputs": [
    {
     "data": {
      "text/plain": [
       "Text(0.5, 1.0, 'Hotspots in Cholangiocarcinoma (TCGA, PanCancer Atlas)')"
      ]
     },
     "execution_count": 67,
     "metadata": {},
     "output_type": "execute_result"
    },
    {
     "data": {
      "image/png": "[encoded data removed]",
      "text/plain": [
       "<Figure size 432x288 with 1 Axes>"
      ]
     },
     "metadata": {},
     "output_type": "display_data"
    }
   ],
   "source": [
    "mdf.groupby('hugoGeneSymbol').is_hotspot.sum().sort_values(ascending=False).head(10).plot(kind='bar')\n",
    "\n",
    "sns.despine(trim=False)\n",
    "plt.xlabel('')\n",
    "plt.xticks(rotation=300)\n",
    "plt.ylabel('Number of non-unique hotspots',labelpad=20)\n",
    "plt.title('Hotspots in Cholangiocarcinoma (TCGA, PanCancer Atlas)',pad=25)"
   ]
  },
  {
   "cell_type": "markdown",
   "metadata": {},
   "source": [
    "### OncoKB API"
   ]
  },
  {
   "cell_type": "markdown",
   "metadata": {},
   "source": [
    "[OncoKB](https://oncokb.org) is is a precision oncology knowledge base and contains information about the effects and treatment implications of specific cancer gene alterations. Similarly to cBioPortal and Genome Nexus it provides a REST API following the [Swagger / OpenAPI specification](https://swagger.io/specification/)."
   ]
  },
  {
   "cell_type": "code",
   "execution_count": 4,
   "metadata": {
    "scrolled": true
   },
   "outputs": [
    {
     "name": "stdout",
     "output_type": "stream",
     "text": [
      "SwaggerClient(https://www.oncokb.org:443/api/v1)\n"
     ]
    }
   ],
   "source": [
    "oncokb = SwaggerClient.from_url('https://www.oncokb.org/api/v1/v2/api-docs',\n",
    "                            config={\"validate_requests\":False,\n",
    "                                    \"validate_responses\":False,\n",
    "                                    \"validate_swagger_spec\":False})\n",
    "print(oncokb)"
   ]
  },
  {
   "cell_type": "markdown",
   "metadata": {},
   "source": [
    "To look up annotations for a variant, one can use the following endpoint:"
   ]
  },
  {
   "cell_type": "code",
   "execution_count": 10,
   "metadata": {},
   "outputs": [],
   "source": [
    "variant = oncokb.Annotations.annotateMutationsByGenomicChangeGetUsingGET(\n",
    "    genomicLocation='7,140453136,140453136,A,T',\n",
    ").result()"
   ]
  },
  {
   "cell_type": "markdown",
   "metadata": {},
   "source": [
    "You can see a lot of information is provided for that particular variant if you type tab after `variant.`:"
   ]
  },
  {
   "cell_type": "code",
   "execution_count": 16,
   "metadata": {},
   "outputs": [
    {
     "data": {
      "text/plain": [
       "'The BRAF V600E mutation is known to be oncogenic.'"
      ]
     },
     "execution_count": 16,
     "metadata": {},
     "output_type": "execute_result"
    }
   ],
   "source": [
    "variant."
   ]
  },
  {
   "cell_type": "markdown",
   "metadata": {},
   "source": [
    "For instance we can see the summary information about it:"
   ]
  },
  {
   "cell_type": "code",
   "execution_count": 17,
   "metadata": {},
   "outputs": [
    {
     "data": {
      "text/plain": [
       "'The BRAF V600E mutation is known to be oncogenic.'"
      ]
     },
     "execution_count": 17,
     "metadata": {},
     "output_type": "execute_result"
    }
   ],
   "source": [
    "variant.variantSummary"
   ]
  },
  {
   "cell_type": "markdown",
   "metadata": {},
   "source": [
    "If you look up this variant on the OncoKB website: https://www.oncokb.org/gene/BRAF/V600E. You can see that there are various combinations of drugs and their level of evidence listed. This is a classification system for indicating how much we know about whether or not a patient might respond to a particular treatment. Please see https://www.oncokb.org/levels for more information about the levels of evidence for therapeutic biomarkers.\n",
    "\n",
    "We can use the same `variants` we pulled from cBioPortal in the previous section to figure out the highest level of each variant."
   ]
  },
  {
   "cell_type": "code",
   "execution_count": 34,
   "metadata": {},
   "outputs": [
    {
     "name": "stdout",
     "output_type": "stream",
     "text": [
      "CPU times: user 363 ms, sys: 16.4 ms, total: 379 ms\n",
      "Wall time: 9.89 s\n"
     ]
    }
   ],
   "source": [
    "%%time \n",
    "\n",
    "variants_annotated = oncokb.Annotations.annotateMutationsByGenomicChangePostUsingPOST(\n",
    "    body=[\n",
    "        {\"genomicLocation\":\"{chromosome},{start},{end},{referenceAllele},{variantAllele}\".format(**v)} \n",
    "        for v in variants\n",
    "    ],\n",
    ").result()"
   ]
  },
  {
   "cell_type": "markdown",
   "metadata": {},
   "source": [
    "Count the highes level for each variant"
   ]
  },
  {
   "cell_type": "code",
   "execution_count": 63,
   "metadata": {},
   "outputs": [],
   "source": [
    "from collections import Counter\n",
    "\n",
    "counts_per_level = Counter([va.highestSensitiveLevel for va in variants_annotated if va.highestSensitiveLevel])"
   ]
  },
  {
   "cell_type": "markdown",
   "metadata": {},
   "source": [
    "Then plot them"
   ]
  },
  {
   "cell_type": "code",
   "execution_count": 82,
   "metadata": {},
   "outputs": [
    {
     "data": {
      "image/png": "[encoded data removed]",
      "text/plain": [
       "<Figure size 432x288 with 1 Axes>"
      ]
     },
     "metadata": {},
     "output_type": "display_data"
    }
   ],
   "source": [
    "pd.DataFrame(counts_per_level,index=[0]).plot(kind='bar', colors=['#4D8834','#2E2E2C','#753579'])\n",
    "plt.xticks([])\n",
    "plt.ylabel('Number of variants')\n",
    "plt.title('Actionable variants in chol_tcga_pan_can_atlas_2018')\n",
    "sns.despine()"
   ]
  }
 ],
 "metadata": {
  "kernelspec": {
   "display_name": "Python 3",
   "language": "python",
   "name": "python3"
  },
  "language_info": {
   "codemirror_mode": {
    "name": "ipython",
    "version": 3
   },
   "file_extension": ".py",
   "mimetype": "text/x-python",
   "name": "python",
   "nbconvert_exporter": "python",
   "pygments_lexer": "ipython3",
   "version": "3.7.9"
  }
 },
 "nbformat": 4,
 "nbformat_minor": 2
}
