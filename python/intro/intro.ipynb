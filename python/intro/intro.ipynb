{
 "cells": [
  {
   "cell_type": "markdown",
   "metadata": {},
   "source": [
    "# Introduction to cBioPortal REST API"
   ]
  },
  {
   "cell_type": "markdown",
   "metadata": {},
   "source": [
    "This [Jupyter notebook](https://jupyter.org/) gives examples on how to use the [REST](https://en.wikipedia.org/wiki/Representational_state_transfer) web service from [cBioPortal](https://www.cbioportal.org) as well as other webservices from the [Knowledge Systems Group at MSKCC](https://www.mskcc.org/research-areas/labs/nikolaus-schultz). We will pull data from those APIs to make visualizations."
   ]
  },
  {
   "cell_type": "markdown",
   "metadata": {},
   "source": [
    "## How to run the notebook"
   ]
  },
  {
   "cell_type": "markdown",
   "metadata": {},
   "source": [
    "This notebook can be executed on your own machine after installing Jupyter. Please install the Python 3 version of anaconda: https://www.anaconda.com/download/. After having that set up you can install Jupyter with:\n",
    "\n",
    "```bash\n",
    "conda install jupyter\n",
    "\n",
    "```\n",
    "\n",
    "For these examples we also require the [Swagger API](https://swagger.io/specification/) client `bravado`.\n",
    "\n",
    "```bash\n",
    "conda install -c conda-forge bravado\n",
    "```\n",
    "\n",
    "And the popular data analysis libraries pandas, matplotlib and seaborn:\n",
    "\n",
    "```\n",
    "conda install pandas matplotlib seaborn\n",
    "```\n",
    "\n",
    "Then clone this repo:\n",
    "\n",
    "```\n",
    "git clone https://github.com/cbioportal/workbench\n",
    "```\n",
    "\n",
    "And run Jupyter in this folder\n",
    "```\n",
    "cd workbench/intro\n",
    "jupyter notebook\n",
    "```\n",
    "That should open Jupyter in a new browser window and you should be able to open this notebook using the web interface. You can then follow along with the next steps."
   ]
  },
  {
   "cell_type": "markdown",
   "metadata": {},
   "source": [
    "## How to use the notebook"
   ]
  },
  {
   "cell_type": "markdown",
   "metadata": {},
   "source": [
    "The notebook consists of cells which can be executed by clicking on one and pressing shift+f. In the toolbar at the top there is a dropdown which indicates what type of cell you have selected e.g. `Code` or [Markdown](https://en.wikipedia.org/wiki/Markdown). The former will be executed as raw Python code the latter is a markup language and will be run through a Markdown parser. Both generate HTML that will be printed directly to the notebook page.\n",
    "\n",
    "There a few keyboard shortcuts that are good to know. That is: `b` creates a new cell below the one you've selected and `a` above the one you selected. Editing a cell can be done with a single click for a code cell and a double click for a Markdown cell. A complete list of all keyboard shortcuts can be found by pressing the keyboard icon in the toolbar at the top.\n",
    "\n",
    " Give it a shot by editing one of the cells and pressing shift+f."
   ]
  },
  {
   "cell_type": "markdown",
   "metadata": {},
   "source": [
    "## Using the REST APIs"
   ]
  },
  {
   "cell_type": "markdown",
   "metadata": {},
   "source": [
    "All [REST](https://en.wikipedia.org/wiki/Representational_state_transfer) web services from the [Knowledge Systems Group](https://www.mskcc.org/research-areas/labs/nikolaus-schultz) we will be using in this tutorial have their REST APIs defined following the [Open API / Swagger specification](https://swagger.io/specification/). This allows us to use `bravado` to connect to them directly, and explore the API interactively.\n",
    "\n",
    "For example this is how to connect to the [cBioPortal](https://www.cbioportal.org) API:"
   ]
  },
  {
   "cell_type": "code",
   "execution_count": 1,
   "metadata": {},
   "outputs": [
    {
     "name": "stdout",
     "output_type": "stream",
     "text": [
      "SwaggerClient(https://www.cbioportal.org/api)\n"
     ]
    }
   ],
   "source": [
    "from bravado.client import SwaggerClient\n",
    "\n",
    "cbioportal = SwaggerClient.from_url('https://www.cbioportal.org/api/v2/api-docs',\n",
    "                                config={\"validate_requests\":False,\n",
    "                                        \"validate_responses\":False,\n",
    "                                       \"validate_swagger_spec\": False})\n",
    "print(cbioportal)"
   ]
  },
  {
   "cell_type": "markdown",
   "metadata": {},
   "source": [
    "You can now explore the API by using code completion, press `Tab` after typing `cbioportal.`:"
   ]
  },
  {
   "cell_type": "code",
   "execution_count": null,
   "metadata": {},
   "outputs": [],
   "source": [
    "cbioportal."
   ]
  },
  {
   "cell_type": "markdown",
   "metadata": {},
   "source": [
    "This will give a dropdown with all the different APIs, similar to how you can see them here on the cBioPortal website: https://www.cbioportal.org/api/swagger-ui.html#/. If you don't see the dropdown, some people have found that running `%config Completer.use_jedi = False` fixes the problem. \n",
    "\n",
    "You can also get the parameters to a specific endpoint by pressing shift+tab twice after typing the name of the specific endpoint e.g.:"
   ]
  },
  {
   "cell_type": "code",
   "execution_count": 19,
   "metadata": {},
   "outputs": [
    {
     "data": {
      "text/plain": [
       "<bravado.http_future.HttpFuture at 0x1180fc6a0>"
      ]
     },
     "execution_count": 19,
     "metadata": {},
     "output_type": "execute_result"
    }
   ],
   "source": [
    "cbioportal.Cancer_Types.getAllCancerTypesUsingGET("
   ]
  },
  {
   "cell_type": "markdown",
   "metadata": {},
   "source": [
    "That shows one of the parameters is `cancerTypeId` of type `string`, the example `acc` is mentioned:"
   ]
  },
  {
   "cell_type": "code",
   "execution_count": 7,
   "metadata": {},
   "outputs": [
    {
     "data": {
      "text/plain": [
       "[TypeOfCancer(cancerTypeId='aa', dedicatedColor='LightYellow', name='Aggressive Angiomyxoma', parent='soft_tissue', shortName='AA'),\n",
       " TypeOfCancer(cancerTypeId='aastr', dedicatedColor='Gray', name='Anaplastic Astrocytoma', parent='difg', shortName='AASTR'),\n",
       " TypeOfCancer(cancerTypeId='abc', dedicatedColor='LimeGreen', name='Activated B-cell Type', parent='dlbclnos', shortName='ABC'),\n",
       " TypeOfCancer(cancerTypeId='abl', dedicatedColor='LightSalmon', name='Acute Basophilic Leukemia', parent='amlnos', shortName='ABL'),\n",
       " TypeOfCancer(cancerTypeId='aca', dedicatedColor='Purple', name='Adrenocortical Adenoma', parent='adrenal_gland', shortName='ACA'),\n",
       " TypeOfCancer(cancerTypeId='acbc', dedicatedColor='HotPink', name='Adenoid Cystic Breast Cancer', parent='brca', shortName='ACBC'),\n",
       " TypeOfCancer(cancerTypeId='acc', dedicatedColor='Purple', name='Adrenocortical Carcinoma', parent='adrenal_gland', shortName='ACC'),\n",
       " TypeOfCancer(cancerTypeId='accc', dedicatedColor='DarkRed', name='Acinic Cell Carcinoma', parent='saca', shortName='ACCC'),\n",
       " TypeOfCancer(cancerTypeId='aclg', dedicatedColor='Green', name='Adenoid Cystic Carcinoma of the Lacrimal Gland', parent='lgt', shortName='ACLG'),\n",
       " TypeOfCancer(cancerTypeId='acml', dedicatedColor='LightSalmon', name='Atypical Chronic Myeloid Leukemia, BCR-ABL1-', parent='mds/mpn', shortName='ACML'),\n",
       " TypeOfCancer(cancerTypeId='acn', dedicatedColor='Black', name='Acinar Cell Carcinoma, NOS', parent='cup', shortName='ACN'),\n",
       " TypeOfCancer(cancerTypeId='acpg', dedicatedColor='Gray', name='Craniopharyngioma, Adamantinomatous Type', parent='selt', shortName='ACPG'),\n",
       " TypeOfCancer(cancerTypeId='acpp', dedicatedColor='Gray', name='Atypical Choroid Plexus Papilloma', parent='cpt', shortName='ACPP'),\n",
       " TypeOfCancer(cancerTypeId='acrm', dedicatedColor='Black', name='Acral Melanoma', parent='mel', shortName='ACRM'),\n",
       " TypeOfCancer(cancerTypeId='acyc', dedicatedColor='DarkRed', name='Adenoid Cystic Carcinoma', parent='saca', shortName='ACYC'),\n",
       " TypeOfCancer(cancerTypeId='adma', dedicatedColor='White', name='Adamantinoma', parent='bone', shortName='ADMA'),\n",
       " TypeOfCancer(cancerTypeId='adnos', dedicatedColor='Black', name='Adenocarcinoma, NOS', parent='cup', shortName='ADNOS'),\n",
       " TypeOfCancer(cancerTypeId='adpa', dedicatedColor='Black', name='Aggressive Digital Papillary Adenocarcinoma', parent='skin', shortName='ADPA'),\n",
       " TypeOfCancer(cancerTypeId='adrenal_gland', dedicatedColor='Purple', name='Adrenal Gland', parent='tissue', shortName='ADRENAL_GLAND'),\n",
       " TypeOfCancer(cancerTypeId='aeca', dedicatedColor='Black', name='Sweat Gland Carcinoma/Apocrine Eccrine Carcinoma', parent='skin', shortName='AECA'),\n",
       " TypeOfCancer(cancerTypeId='afh', dedicatedColor='LightYellow', name='Angiomatoid Fibrous Histiocytoma', parent='soft_tissue', shortName='AFH'),\n",
       " TypeOfCancer(cancerTypeId='afx', dedicatedColor='Black', name='Atypical Fibroxanthoma', parent='skin', shortName='AFX'),\n",
       " TypeOfCancer(cancerTypeId='aga', dedicatedColor='SaddleBrown', name='Anal Gland Adenocarcinoma', parent='bowel', shortName='AGA'),\n",
       " TypeOfCancer(cancerTypeId='agng', dedicatedColor='Gray', name='Anaplastic Ganglioglioma', parent='encg', shortName='AGNG'),\n",
       " TypeOfCancer(cancerTypeId='ahcd', dedicatedColor='LimeGreen', name='Alpha Heavy-Chain Disease', parent='mbn', shortName='AHCD'),\n",
       " TypeOfCancer(cancerTypeId='ais', dedicatedColor='Black', name='Adenocarcinoma In Situ', parent='other', shortName='AIS'),\n",
       " TypeOfCancer(cancerTypeId='aitl', dedicatedColor='LimeGreen', name='Angioimmunoblastic T-Cell Lymphoma', parent='mtnn', shortName='AITL'),\n",
       " TypeOfCancer(cancerTypeId='alal', dedicatedColor='LightSalmon', name='Acute Leukemias of Ambiguous Lineage', parent='mnm', shortName='ALAL'),\n",
       " TypeOfCancer(cancerTypeId='alcl', dedicatedColor='LimeGreen', name='Anaplastic Large Cell Lymphoma', parent='mtnn', shortName='ALCL'),\n",
       " TypeOfCancer(cancerTypeId='alclalkn', dedicatedColor='LimeGreen', name='Anaplastic Large-Cell Lymphoma ALK Negative', parent='alcl', shortName='ALCLALKN'),\n",
       " TypeOfCancer(cancerTypeId='alclalkp', dedicatedColor='LimeGreen', name='Anaplastic Large-Cell Lymphoma ALK Positive', parent='alcl', shortName='ALCLALKP'),\n",
       " TypeOfCancer(cancerTypeId='alklbcl', dedicatedColor='LimeGreen', name='ALK Positive Large B-Cell Lymphoma', parent='mbn', shortName='ALKLBCL'),\n",
       " TypeOfCancer(cancerTypeId='alt', dedicatedColor='LightYellow', name='Atypical Lipomatous Tumor', parent='soft_tissue', shortName='ALT'),\n",
       " TypeOfCancer(cancerTypeId='aluca', dedicatedColor='Gainsboro', name='Atypical Lung Carcinoid', parent='lnet', shortName='ALUCA'),\n",
       " TypeOfCancer(cancerTypeId='am', dedicatedColor='LightSalmon', name='AML with Maturation', parent='amlnos', shortName='AM'),\n",
       " TypeOfCancer(cancerTypeId='ambl', dedicatedColor='Gray', name='Large Cell/Anaplastic Medulloblastoma', parent='embt', shortName='AMBL'),\n",
       " TypeOfCancer(cancerTypeId='amblnos', dedicatedColor='Gray', name='Anaplastic Medulloblastoma, NOS', parent='ambl', shortName='AMBLNOS'),\n",
       " TypeOfCancer(cancerTypeId='amblnws', dedicatedColor='Gray', name='Anaplastic Medulloblastoma, Non-WNT, Non-SHH', parent='ambl', shortName='AMBLNWS'),\n",
       " TypeOfCancer(cancerTypeId='amblnwsg3', dedicatedColor='Gray', name='Anaplastic Medulloblastoma, Group 3', parent='amblnws', shortName='AMBLNWSG3'),\n",
       " TypeOfCancer(cancerTypeId='amblnwsg4', dedicatedColor='Gray', name='Anaplastic Medulloblastoma, Group 4', parent='amblnws', shortName='AMBLNWSG4'),\n",
       " TypeOfCancer(cancerTypeId='amblshh', dedicatedColor='Gray', name='Anaplastic Medulloblastoma, SHH Subtype', parent='ambl', shortName='AMBLSHH'),\n",
       " TypeOfCancer(cancerTypeId='amkl', dedicatedColor='LightSalmon', name='Acute Megakaryoblastic Leukemia', parent='amlnos', shortName='AMKL'),\n",
       " TypeOfCancer(cancerTypeId='aml', dedicatedColor='LightSalmon', name='Acute Myeloid Leukemia', parent='mnm', shortName='AML'),\n",
       " TypeOfCancer(cancerTypeId='amlbcrabl1', dedicatedColor='LightSalmon', name='AML with BCR-ABL1', parent='amlrga', shortName='AMLBCRABL1'),\n",
       " TypeOfCancer(cancerTypeId='amlcbfbmyh11', dedicatedColor='LightSalmon', name='AML with inv(16)(p13.1q22) or t(16;16)(p13.1;q22);CBFB-MYH11', parent='amlrga', shortName='AMLCBFBMYH11'),\n",
       " TypeOfCancer(cancerTypeId='amlcebpa', dedicatedColor='LightSalmon', name='AML with Biallelic Mutations of CEBPA', parent='amlrga', shortName='AMLCEBPA'),\n",
       " TypeOfCancer(cancerTypeId='amldeknup214', dedicatedColor='LightSalmon', name='AML with t(6;9)(p23;q34.1);DEK-NUP214', parent='amlrga', shortName='AMLDEKNUP214'),\n",
       " TypeOfCancer(cancerTypeId='amlgata2mecom', dedicatedColor='LightSalmon', name='AML with inv(3)(q21.3q26.2) or t(3;3)(q21.3;q26.2); GATA2, MECOM', parent='amlrga', shortName='AMLGATA2MECOM'),\n",
       " TypeOfCancer(cancerTypeId='amlmd', dedicatedColor='LightSalmon', name='AML with Minimal Differentiation', parent='amlnos', shortName='AMLMD'),\n",
       " TypeOfCancer(cancerTypeId='amlmllt3kmt2a', dedicatedColor='LightSalmon', name='AML with t(9;11)(p21.3;q23.3);MLLT3-KMT2A', parent='amlrga', shortName='AMLMLLT3KMT2A'),\n",
       " TypeOfCancer(cancerTypeId='amlmrc', dedicatedColor='LightSalmon', name='AML with Myelodysplasia-Related Changes', parent='aml', shortName='AMLMRC'),\n",
       " TypeOfCancer(cancerTypeId='amlnos', dedicatedColor='LightSalmon', name='AML, NOS', parent='aml', shortName='AMLNOS'),\n",
       " TypeOfCancer(cancerTypeId='amlnpm1', dedicatedColor='LightSalmon', name='AML with Mutated NPM1', parent='amlrga', shortName='AMLNPM1'),\n",
       " TypeOfCancer(cancerTypeId='amlrara', dedicatedColor='LightSalmon', name='AML with Variant RARA translocation', parent='amlrga', shortName='AMLRARA'),\n",
       " TypeOfCancer(cancerTypeId='amlrbm15mkl1', dedicatedColor='LightSalmon', name='AML (megakaryoblastic) with t(1;22)(p13.3;q13.3);RBM15-MKL1', parent='amlrga', shortName='AMLRBM15MKL1'),\n",
       " TypeOfCancer(cancerTypeId='amlrga', dedicatedColor='LightSalmon', name='AML with Recurrent Genetic Abnormalities', parent='aml', shortName='AMLRGA'),\n",
       " TypeOfCancer(cancerTypeId='amlrunx1', dedicatedColor='LightSalmon', name='AML with Mutated RUNX1', parent='amlrga', shortName='AMLRUNX1'),\n",
       " TypeOfCancer(cancerTypeId='amlrunx1runx1t1', dedicatedColor='LightSalmon', name='AML with t(8;21)(q22;q22.1);RUNX1-RUNX1T1', parent='amlrga', shortName='AMLRUNX1RUNX1T1'),\n",
       " TypeOfCancer(cancerTypeId='amml', dedicatedColor='LightSalmon', name='Acute Myelomonocytic Leukemia', parent='amlnos', shortName='AMML'),\n",
       " TypeOfCancer(cancerTypeId='amol', dedicatedColor='LightSalmon', name='Acute Monoblastic/Monocytic Leukemia', parent='amlnos', shortName='AMOL'),\n",
       " TypeOfCancer(cancerTypeId='ampca', dedicatedColor='Purple', name='Ampullary Carcinoma', parent='ampulla_of_vater', shortName='AMPCA'),\n",
       " TypeOfCancer(cancerTypeId='ampulla_of_vater', dedicatedColor='Purple', name='Ampulla of Vater', parent='tissue', shortName='AMPULLA_OF_VATER'),\n",
       " TypeOfCancer(cancerTypeId='an', dedicatedColor='Black', name='Atypical Nevus', parent='skin', shortName='AN'),\n",
       " TypeOfCancer(cancerTypeId='angl', dedicatedColor='Gray', name='Angiocentric Glioma', parent='mnet', shortName='ANGL'),\n",
       " TypeOfCancer(cancerTypeId='angs', dedicatedColor='LightYellow', name='Angiosarcoma', parent='soft_tissue', shortName='ANGS'),\n",
       " TypeOfCancer(cancerTypeId='ankl', dedicatedColor='LimeGreen', name='Aggressive NK-Cell Leukemia', parent='mtnn', shortName='ANKL'),\n",
       " TypeOfCancer(cancerTypeId='anm', dedicatedColor='Gray', name='Anaplastic Meningioma', parent='mngt', shortName='ANM'),\n",
       " TypeOfCancer(cancerTypeId='ansc', dedicatedColor='SaddleBrown', name='Anal Squamous Cell Carcinoma', parent='bowel', shortName='ANSC'),\n",
       " TypeOfCancer(cancerTypeId='aoast', dedicatedColor='Gray', name='Anaplastic Oligoastrocytoma', parent='difg', shortName='AOAST'),\n",
       " TypeOfCancer(cancerTypeId='aodg', dedicatedColor='Gray', name='Anaplastic Oligodendroglioma', parent='difg', shortName='AODG'),\n",
       " TypeOfCancer(cancerTypeId='apad', dedicatedColor='SaddleBrown', name='Appendiceal Adenocarcinoma', parent='bowel', shortName='APAD'),\n",
       " TypeOfCancer(cancerTypeId='ape', dedicatedColor='Gray', name='Anaplastic Ependymoma', parent='epmt', shortName='APE'),\n",
       " TypeOfCancer(cancerTypeId='aplpmlrara', dedicatedColor='LightSalmon', name='APL with PML-RARA', parent='amlrga', shortName='APLPMLRARA'),\n",
       " TypeOfCancer(cancerTypeId='apmf', dedicatedColor='LightSalmon', name='Acute Panmyelosis with Myelofibrosis', parent='amlnos', shortName='APMF'),\n",
       " TypeOfCancer(cancerTypeId='aptad', dedicatedColor='Gray', name='Atypical Pituitary Adenoma', parent='selt', shortName='APTAD'),\n",
       " TypeOfCancer(cancerTypeId='apxa', dedicatedColor='Gray', name='Anaplastic Pleomorphic Xanthoastrocytoma', parent='encg', shortName='APXA'),\n",
       " TypeOfCancer(cancerTypeId='armm', dedicatedColor='SaddleBrown', name='Anorectal Mucosal Melanoma', parent='bowel', shortName='ARMM'),\n",
       " TypeOfCancer(cancerTypeId='arms', dedicatedColor='LightYellow', name='Alveolar Rhabdomyosarcoma', parent='rms', shortName='ARMS'),\n",
       " TypeOfCancer(cancerTypeId='asct', dedicatedColor='DarkRed', name='Adenosquamous Carcinoma of the Tongue', parent='ohnca', shortName='ASCT'),\n",
       " TypeOfCancer(cancerTypeId='asm', dedicatedColor='LightSalmon', name='Aggressive Systemic Mastocytosis', parent='sm', shortName='ASM'),\n",
       " TypeOfCancer(cancerTypeId='asps', dedicatedColor='LightYellow', name='Alveolar Soft Part Sarcoma', parent='soft_tissue', shortName='ASPS'),\n",
       " TypeOfCancer(cancerTypeId='astb', dedicatedColor='Gray', name='Astroblastoma', parent='mnet', shortName='ASTB'),\n",
       " TypeOfCancer(cancerTypeId='astr', dedicatedColor='Gray', name='Astrocytoma', parent='difg', shortName='ASTR'),\n",
       " TypeOfCancer(cancerTypeId='atll', dedicatedColor='LimeGreen', name='Adult T-Cell Leukemia/Lymphoma', parent='mtnn', shortName='ATLL'),\n",
       " TypeOfCancer(cancerTypeId='atm', dedicatedColor='Gray', name='Atypical Meningioma', parent='mngt', shortName='ATM'),\n",
       " TypeOfCancer(cancerTypeId='atrt', dedicatedColor='Gray', name='Atypical Teratoid/Rhabdoid Tumor', parent='embt', shortName='ATRT'),\n",
       " TypeOfCancer(cancerTypeId='aul', dedicatedColor='LightSalmon', name='Acute Undifferentiated Leukemia', parent='alal', shortName='AUL'),\n",
       " TypeOfCancer(cancerTypeId='awdnet', dedicatedColor='SaddleBrown', name='Well-Differentiated Neuroendocrine Tumor of the Appendix', parent='ginet', shortName='AWDNET'),\n",
       " TypeOfCancer(cancerTypeId='awm', dedicatedColor='LightSalmon', name='AML without Maturation', parent='amlnos', shortName='AWM'),\n",
       " TypeOfCancer(cancerTypeId='ba', dedicatedColor='HotPink', name='Breast Angiosarcoma', parent='pbs', shortName='BA'),\n",
       " TypeOfCancer(cancerTypeId='bcac', dedicatedColor='DarkRed', name='Basal Cell Adenocarcinoma', parent='saca', shortName='BCAC'),\n",
       " TypeOfCancer(cancerTypeId='bcc', dedicatedColor='Black', name='Basal Cell Carcinoma', parent='skin', shortName='BCC'),\n",
       " TypeOfCancer(cancerTypeId='bcca', dedicatedColor='Gray', name='Choriocarcinoma', parent='bgct', shortName='BCCA'),\n",
       " TypeOfCancer(cancerTypeId='bccp', dedicatedColor='Cyan', name='Basal Cell Carcinoma of Prostate', parent='prostate', shortName='BCCP'),\n",
       " TypeOfCancer(cancerTypeId='bclu', dedicatedColor='LimeGreen', name='B-Cell Lymphoma, Unclassifiable, with Features Intermediate between DLBCL and Classical Hodgkin lymphoma', parent='mbn', shortName='BCLU'),\n",
       " TypeOfCancer(cancerTypeId='bec', dedicatedColor='Gray', name='Embryonal Carcinoma', parent='bgct', shortName='BEC'),\n",
       " TypeOfCancer(cancerTypeId='bfn', dedicatedColor='HotPink', name='Breast Fibroepithelial Neoplasms', parent='breast', shortName='BFN'),\n",
       " TypeOfCancer(cancerTypeId='bgct', dedicatedColor='Gray', name='Germ Cell Tumor, Brain', parent='brain', shortName='BGCT'),\n",
       " TypeOfCancer(cancerTypeId='bialcl', dedicatedColor='LimeGreen', name='Breast Implant-Associated Anaplastic Large-Cell Lymphoma', parent='alcl', shortName='BIALCL'),\n",
       " TypeOfCancer(cancerTypeId='biliary_tract', dedicatedColor='Green', name='Biliary Tract', parent='tissue', shortName='BILIARY_TRACT'),\n",
       " TypeOfCancer(cancerTypeId='bimt', dedicatedColor='Gray', name='Immature Teratoma', parent='bgct', shortName='BIMT'),\n",
       " TypeOfCancer(cancerTypeId='bl', dedicatedColor='LimeGreen', name='Burkitt Lymphoma', parent='mbn', shortName='BL'),\n",
       " TypeOfCancer(cancerTypeId='blad', dedicatedColor='Yellow', name='Bladder Adenocarcinoma', parent='bladder', shortName='BLAD'),\n",
       " TypeOfCancer(cancerTypeId='bladder', dedicatedColor='Yellow', name='Bladder/Urinary Tract', parent='tissue', shortName='BLADDER'),\n",
       " TypeOfCancer(cancerTypeId='blca', dedicatedColor='Yellow', name='Bladder Urothelial Carcinoma', parent='bladder', shortName='BLCA'),\n",
       " TypeOfCancer(cancerTypeId='blclc', dedicatedColor='Gainsboro', name='Basaloid Large Cell Carcinoma of the Lung', parent='lclc', shortName='BLCLC'),\n",
       " TypeOfCancer(cancerTypeId='bll', dedicatedColor='LimeGreen', name='B-Lymphoblastic Leukemia/Lymphoma', parent='lnm', shortName='BLL'),\n",
       " TypeOfCancer(cancerTypeId='bll11q', dedicatedColor='LimeGreen', name='Burkitt-Like Lymphoma with 11q Aberration', parent='mbn', shortName='BLL11Q'),\n",
       " TypeOfCancer(cancerTypeId='bllbcrabl1', dedicatedColor='LimeGreen', name='B-Lymphoblastic Leukemia/Lymphoma with t(9;22)(q34.1;q11.2);BCR-ABL1', parent='bllrga', shortName='BLLBCRABL1'),\n",
       " TypeOfCancer(cancerTypeId='bllbcrabl1l', dedicatedColor='LimeGreen', name='B-Lymphoblastic Leukemia/Lymphoma, BCR-ABL1 Like', parent='bllrga', shortName='BLLBCRABL1L'),\n",
       " TypeOfCancer(cancerTypeId='blletv6runx1', dedicatedColor='LimeGreen', name='B-Lymphoblastic Leukemia/Lymphoma with t(12;21)(p13.2;q22.1); ETV6-RUNX1', parent='bllrga', shortName='BLLETV6RUNX1'),\n",
       " TypeOfCancer(cancerTypeId='bllhyper', dedicatedColor='LimeGreen', name='B-Lymphoblastic Leukemia/Lymphoma with Hyperdiploidy', parent='bllrga', shortName='BLLHYPER'),\n",
       " TypeOfCancer(cancerTypeId='bllhypo', dedicatedColor='LimeGreen', name='B-Lymphoblastic Leukemia/Lymphoma with Hypodiploidy', parent='bllrga', shortName='BLLHYPO'),\n",
       " TypeOfCancer(cancerTypeId='blliamp21', dedicatedColor='LimeGreen', name='B-Lymphoblastic Leukemia/Lymphoma with iAMP21', parent='bllrga', shortName='BLLIAMP21'),\n",
       " TypeOfCancer(cancerTypeId='bllil3igh', dedicatedColor='LimeGreen', name='B-Lymphoblastic Leukemia/Lymphoma with t(5;14)(q31.1;q32.3) IL3-IGH', parent='bllrga', shortName='BLLIL3IGH'),\n",
       " TypeOfCancer(cancerTypeId='bllkmt2a', dedicatedColor='LimeGreen', name='B-Lymphoblastic Leukemia/Lymphoma with t(v;11q23.3);KMT2A Rearranged', parent='bllrga', shortName='BLLKMT2A'),\n",
       " TypeOfCancer(cancerTypeId='bllnos', dedicatedColor='LimeGreen', name='B-Lymphoblastic Leukemia/Lymphoma, NOS', parent='bll', shortName='BLLNOS'),\n",
       " TypeOfCancer(cancerTypeId='bllrga', dedicatedColor='LimeGreen', name='B-Lymphoblastic Leukemia/Lymphoma with Recurrent Genetic Abnormalities', parent='bll', shortName='BLLRGA'),\n",
       " TypeOfCancer(cancerTypeId='blltcf3pbx1', dedicatedColor='LimeGreen', name='B-Lymphoblastic Leukemia/Lymphoma with t(1;19)(q23;p13.3);TCF3-PBX1', parent='bllrga', shortName='BLLTCF3PBX1'),\n",
       " TypeOfCancer(cancerTypeId='blpt', dedicatedColor='HotPink', name='Borderline Phyllodes Tumor of the Breast', parent='pt', shortName='BLPT'),\n",
       " TypeOfCancer(cancerTypeId='blsc', dedicatedColor='Yellow', name='Bladder Squamous Cell Carcinoma', parent='bladder', shortName='BLSC'),\n",
       " TypeOfCancer(cancerTypeId='bmgct', dedicatedColor='Gray', name='Mixed Germ Cell Tumor', parent='bgct', shortName='BMGCT'),\n",
       " TypeOfCancer(cancerTypeId='bmgt', dedicatedColor='Gray', name='Malignant Teratoma', parent='bgct', shortName='BMGT'),\n",
       " TypeOfCancer(cancerTypeId='bmt', dedicatedColor='Gray', name='Mature Teratoma', parent='bgct', shortName='BMT'),\n",
       " TypeOfCancer(cancerTypeId='bnnos', dedicatedColor='HotPink', name='Breast Neoplasm, NOS', parent='breast', shortName='BNNOS'),\n",
       " TypeOfCancer(cancerTypeId='bone', dedicatedColor='White', name='Bone', parent='tissue', shortName='BONE'),\n",
       " TypeOfCancer(cancerTypeId='bowel', dedicatedColor='SaddleBrown', name='Bowel', parent='tissue', shortName='BOWEL'),\n",
       " TypeOfCancer(cancerTypeId='bpdcn', dedicatedColor='LightSalmon', name='Blastic Plasmacytoid Dendritic Cell Neoplasm', parent='mnm', shortName='BPDCN'),\n",
       " TypeOfCancer(cancerTypeId='bpll', dedicatedColor='LimeGreen', name='B-Cell Prolymphocytic Leukemia', parent='mbn', shortName='BPLL'),\n",
       " TypeOfCancer(cancerTypeId='bpscc', dedicatedColor='Blue', name='Basaloid Penile Squamous Cell Carcinoma', parent='pscc', shortName='BPSCC'),\n",
       " TypeOfCancer(cancerTypeId='bpt', dedicatedColor='HotPink', name='Benign Phyllodes Tumor of the Breast', parent='pt', shortName='BPT'),\n",
       " TypeOfCancer(cancerTypeId='brain', dedicatedColor='Gray', name='CNS/Brain', parent='tissue', shortName='BRAIN'),\n",
       " TypeOfCancer(cancerTypeId='brame', dedicatedColor='HotPink', name='Adenomyoepithelioma of the Breast', parent='breast', shortName='BRAME'),\n",
       " TypeOfCancer(cancerTypeId='brca', dedicatedColor='HotPink', name='Invasive Breast Carcinoma', parent='breast', shortName='BRCA'),\n",
       " TypeOfCancer(cancerTypeId='brcanos', dedicatedColor='HotPink', name='Breast Invasive Cancer, NOS', parent='brca', shortName='BRCANOS'),\n",
       " TypeOfCancer(cancerTypeId='brcnos', dedicatedColor='HotPink', name='Breast Invasive Carcinoma, NOS', parent='brca', shortName='BRCNOS'),\n",
       " TypeOfCancer(cancerTypeId='breast', dedicatedColor='HotPink', name='Breast', parent='tissue', shortName='BREAST'),\n",
       " TypeOfCancer(cancerTypeId='brsrcc', dedicatedColor='HotPink', name='Breast Carcinoma with Signet Ring', parent='brca', shortName='BRSRCC'),\n",
       " TypeOfCancer(cancerTypeId='btbeov', dedicatedColor='LightBlue', name='Brenner Tumor, Benign', parent='btov', shortName='BTBEOV'),\n",
       " TypeOfCancer(cancerTypeId='btbov', dedicatedColor='LightBlue', name='Brenner Tumor, Borderline', parent='btov', shortName='BTBOV'),\n",
       " TypeOfCancer(cancerTypeId='btmov', dedicatedColor='LightBlue', name='Brenner Tumor, Malignant', parent='btov', shortName='BTMOV'),\n",
       " TypeOfCancer(cancerTypeId='btov', dedicatedColor='LightBlue', name='Brenner Tumor', parent='ovt', shortName='BTOV'),\n",
       " TypeOfCancer(cancerTypeId='byst', dedicatedColor='Gray', name='Yolk Sac Tumor', parent='bgct', shortName='BYST'),\n",
       " TypeOfCancer(cancerTypeId='cabc', dedicatedColor='Teal', name='Cervical Adenoid Basal Carcinoma', parent='cervix', shortName='CABC'),\n",
       " TypeOfCancer(cancerTypeId='cacc', dedicatedColor='Teal', name='Cervical Adenoid Cystic Carcinoma', parent='cervix', shortName='CACC'),\n",
       " TypeOfCancer(cancerTypeId='caexpa', dedicatedColor='DarkRed', name='Carcinoma ex Pleomorphic Adenoma', parent='saca', shortName='CAEXPA'),\n",
       " TypeOfCancer(cancerTypeId='cais', dedicatedColor='SaddleBrown', name='Colon Adenocarcinoma In Situ', parent='coadread', shortName='CAIS'),\n",
       " TypeOfCancer(cancerTypeId='ccbov', dedicatedColor='LightBlue', name='Clear Cell Borderline Ovarian Tumor', parent='ovt', shortName='CCBOV'),\n",
       " TypeOfCancer(cancerTypeId='cce', dedicatedColor='Gray', name='Clear Cell Ependymoma', parent='epmt', shortName='CCE'),\n",
       " TypeOfCancer(cancerTypeId='cchdm', dedicatedColor='White', name='Conventional Type Chordoma', parent='chdm', shortName='CCHDM'),\n",
       " TypeOfCancer(cancerTypeId='cchm', dedicatedColor='HotPink', name='Carcinoma with Chondroid Metaplasia', parent='mmbc', shortName='CCHM'),\n",
       " TypeOfCancer(cancerTypeId='cclc', dedicatedColor='Gainsboro', name='Clear Cell Carcinoma of the Lung', parent='lclc', shortName='CCLC'),\n",
       " TypeOfCancer(cancerTypeId='ccm', dedicatedColor='Gray', name='Clear cell Meningioma', parent='mngt', shortName='CCM'),\n",
       " TypeOfCancer(cancerTypeId='ccoc', dedicatedColor='DarkRed', name='Clear Cell Odontogenic Carcinoma', parent='odgc', shortName='CCOC'),\n",
       " TypeOfCancer(cancerTypeId='ccov', dedicatedColor='LightBlue', name='Clear Cell Ovarian Cancer', parent='ovt', shortName='CCOV'),\n",
       " TypeOfCancer(cancerTypeId='ccprc', dedicatedColor='Orange', name='Clear Cell Papillary Renal Cell Carcinoma', parent='nccrcc', shortName='CCPRC'),\n",
       " TypeOfCancer(cancerTypeId='ccrcc', dedicatedColor='Orange', name='Renal Clear Cell Carcinoma', parent='rcc', shortName='CCRCC'),\n",
       " TypeOfCancer(cancerTypeId='ccs', dedicatedColor='LightYellow', name='Clear Cell Sarcoma', parent='soft_tissue', shortName='CCS'),\n",
       " TypeOfCancer(cancerTypeId='ccsk', dedicatedColor='Orange', name='Clear Cell Sarcoma of Kidney', parent='kidney', shortName='CCSK'),\n",
       " TypeOfCancer(cancerTypeId='cdrcc', dedicatedColor='Orange', name='Collecting Duct Renal Cell Carcinoma', parent='nccrcc', shortName='CDRCC'),\n",
       " TypeOfCancer(cancerTypeId='cead', dedicatedColor='Teal', name='Cervical Adenocarcinoma', parent='cervix', shortName='CEAD'),\n",
       " TypeOfCancer(cancerTypeId='ceais', dedicatedColor='Teal', name='Cervical Adenocarcinoma In Situ', parent='cervix', shortName='CEAIS'),\n",
       " TypeOfCancer(cancerTypeId='ceas', dedicatedColor='Teal', name='Cervical Adenosquamous Carcinoma', parent='cervix', shortName='CEAS'),\n",
       " TypeOfCancer(cancerTypeId='cecc', dedicatedColor='Teal', name='Cervical Clear Cell Carcinoma', parent='cead', shortName='CECC'),\n",
       " TypeOfCancer(cancerTypeId='ceen', dedicatedColor='Teal', name='Cervical Endometrioid Carcinoma', parent='cead', shortName='CEEN'),\n",
       " TypeOfCancer(cancerTypeId='cegcc', dedicatedColor='Teal', name='Glassy Cell Carcinoma of the Cervix', parent='cervix', shortName='CEGCC'),\n",
       " TypeOfCancer(cancerTypeId='celi', dedicatedColor='Teal', name='Cervical Leiomyosarcoma', parent='cervix', shortName='CELI'),\n",
       " TypeOfCancer(cancerTypeId='celnos', dedicatedColor='LightSalmon', name='Chronic Eosinophilic Leukemia, NOS', parent='mpn', shortName='CELNOS'),\n",
       " TypeOfCancer(cancerTypeId='cemn', dedicatedColor='Teal', name='Mesonephric Carcinoma', parent='cead', shortName='CEMN'),\n",
       " TypeOfCancer(cancerTypeId='cemu', dedicatedColor='Teal', name='Mucinous Carcinoma', parent='cead', shortName='CEMU'),\n",
       " TypeOfCancer(cancerTypeId='cene', dedicatedColor='Teal', name='Cervical Neuroendocrine Tumor', parent='cervix', shortName='CENE'),\n",
       " TypeOfCancer(cancerTypeId='cerms', dedicatedColor='Teal', name='Cervical Rhabdomyosarcoma', parent='cervix', shortName='CERMS'),\n",
       " TypeOfCancer(cancerTypeId='cervix', dedicatedColor='Teal', name='Cervix', parent='tissue', shortName='CERVIX'),\n",
       " TypeOfCancer(cancerTypeId='cesc', dedicatedColor='Teal', name='Cervical Squamous Cell Carcinoma', parent='cervix', shortName='CESC'),\n",
       " TypeOfCancer(cancerTypeId='cese', dedicatedColor='Teal', name='Cervical Serous Carcinoma', parent='cead', shortName='CESE'),\n",
       " TypeOfCancer(cancerTypeId='cevg', dedicatedColor='Teal', name='Villoglandular Carcinoma', parent='cead', shortName='CEVG'),\n",
       " TypeOfCancer(cancerTypeId='chbl', dedicatedColor='White', name='Chondroblastoma', parent='bone', shortName='CHBL'),\n",
       " TypeOfCancer(cancerTypeId='chdm', dedicatedColor='White', name='Chordoma', parent='bone', shortName='CHDM'),\n",
       " TypeOfCancer(cancerTypeId='chgl', dedicatedColor='Gray', name='Chordoid Glioma of the Third Ventricle', parent='mnet', shortName='CHGL'),\n",
       " TypeOfCancer(cancerTypeId='chl', dedicatedColor='LimeGreen', name='Classical Hodgkin Lymphoma', parent='hl', shortName='CHL'),\n",
       " TypeOfCancer(cancerTypeId='chlptld', dedicatedColor='LimeGreen', name='Classical Hodgkin Lymphoma PTLD', parent='ptld', shortName='CHLPTLD'),\n",
       " TypeOfCancer(cancerTypeId='chm', dedicatedColor='PeachPuff', name='Complete Hydatidiform Mole', parent='mp', shortName='CHM'),\n",
       " TypeOfCancer(cancerTypeId='chol', dedicatedColor='Green', name='Cholangiocarcinoma', parent='ipn', shortName='CHOL'),\n",
       " TypeOfCancer(cancerTypeId='chom', dedicatedColor='Gray', name='Chordoid Meningioma', parent='mngt', shortName='CHOM'),\n",
       " TypeOfCancer(cancerTypeId='chos', dedicatedColor='White', name='Chondroblastic Osteosarcoma', parent='os', shortName='CHOS'),\n",
       " TypeOfCancer(cancerTypeId='chrcc', dedicatedColor='Orange', name='Chromophobe Renal Cell Carcinoma', parent='nccrcc', shortName='CHRCC'),\n",
       " TypeOfCancer(cancerTypeId='chs', dedicatedColor='White', name='Chondrosarcoma', parent='bone', shortName='CHS'),\n",
       " TypeOfCancer(cancerTypeId='cllsll', dedicatedColor='LimeGreen', name='Chronic Lymphocytic Leukemia/Small Lymphocytic Lymphoma', parent='mbn', shortName='CLLSLL'),\n",
       " TypeOfCancer(cancerTypeId='clnc', dedicatedColor='Gray', name='Cerebellar Liponeurocytoma', parent='mnet', shortName='CLNC'),\n",
       " TypeOfCancer(cancerTypeId='clpdnk', dedicatedColor='LimeGreen', name='Chronic Lymphoproliferative Disorder of NK Cells', parent='mtnn', shortName='CLPDNK'),\n",
       " TypeOfCancer(cancerTypeId='cm', dedicatedColor='Green', name='Conjunctival Melanoma', parent='om', shortName='CM'),\n",
       " TypeOfCancer(cancerTypeId='cmc', dedicatedColor='SaddleBrown', name='Medullary Carcinoma of the Colon', parent='bowel', shortName='CMC'),\n",
       " TypeOfCancer(cancerTypeId='cmcd', dedicatedColor='LightSalmon', name='Cutaneous Mastocytosis', parent='mcd', shortName='CMCD'),\n",
       " TypeOfCancer(cancerTypeId='cml', dedicatedColor='LightSalmon', name='Chronic Myelogenous Leukemia', parent='mpn', shortName='CML'),\n",
       " TypeOfCancer(cancerTypeId='cmlbcrabl1', dedicatedColor='LightSalmon', name='Chronic Myeloid Leukemia, BCR-ABL1+', parent='cml', shortName='CMLBCRABL1'),\n",
       " TypeOfCancer(cancerTypeId='cmml', dedicatedColor='LightSalmon', name='Chronic Myelomonocytic Leukemia', parent='mds/mpn', shortName='CMML'),\n",
       " TypeOfCancer(cancerTypeId='cmml0', dedicatedColor='LightSalmon', name='Chronic Myelomonocytic Leukemia-0', parent='cmml', shortName='CMML0'),\n",
       " TypeOfCancer(cancerTypeId='cmml1', dedicatedColor='LightSalmon', name='Chronic Myelomonocytic Leukemia-1', parent='cmml', shortName='CMML1'),\n",
       " TypeOfCancer(cancerTypeId='cmml2', dedicatedColor='LightSalmon', name='Chronic Myelomonocytic Leukemia-2', parent='cmml', shortName='CMML2'),\n",
       " TypeOfCancer(cancerTypeId='cmpt', dedicatedColor='Gainsboro', name='Ciliated Muconodular Papillary Tumor of the Lung', parent='nsclc', shortName='CMPT'),\n",
       " TypeOfCancer(cancerTypeId='cnc', dedicatedColor='Gray', name='Central Neurocytoma', parent='mnet', shortName='CNC'),\n",
       " TypeOfCancer(cancerTypeId='cnl', dedicatedColor='LightSalmon', name='Chronic Neutrophilic Leukemia', parent='mpn', shortName='CNL'),\n",
       " TypeOfCancer(cancerTypeId='coad', dedicatedColor='SaddleBrown', name='Colon Adenocarcinoma', parent='coadread', shortName='COAD'),\n",
       " TypeOfCancer(cancerTypeId='coadread', dedicatedColor='SaddleBrown', name='Colorectal Adenocarcinoma', parent='bowel', shortName='COADREAD'),\n",
       " TypeOfCancer(cancerTypeId='com', dedicatedColor='HotPink', name='Carcinoma with Osseous Metaplasia', parent='mmbc', shortName='COM'),\n",
       " TypeOfCancer(cancerTypeId='cpc', dedicatedColor='Gray', name='Choroid Plexus Carcinoma', parent='cpt', shortName='CPC'),\n",
       " TypeOfCancer(cancerTypeId='cpp', dedicatedColor='Gray', name='Choroid Plexus Papilloma', parent='cpt', shortName='CPP'),\n",
       " TypeOfCancer(cancerTypeId='cpt', dedicatedColor='Gray', name='Choroid Plexus Tumor', parent='brain', shortName='CPT'),\n",
       " TypeOfCancer(cancerTypeId='cscc', dedicatedColor='Black', name='Cutaneous Squamous Cell Carcinoma', parent='skin', shortName='CSCC'),\n",
       " TypeOfCancer(cancerTypeId='cschw', dedicatedColor='Gray', name='Cellular Schwannoma', parent='schw', shortName='CSCHW'),\n",
       " TypeOfCancer(cancerTypeId='csclc', dedicatedColor='Gainsboro', name='Combined Small Cell Lung Carcinoma', parent='lung', shortName='CSCLC'),\n",
       " TypeOfCancer(cancerTypeId='csnos', dedicatedColor='HotPink', name='Breast Invasive Carcinosarcoma, NOS', parent='brca', shortName='CSNOS'),\n",
       " TypeOfCancer(cancerTypeId='ctaap', dedicatedColor='SaddleBrown', name='Colonic Type Adenocarcinoma of the Appendix', parent='apad', shortName='CTAAP'),\n",
       " TypeOfCancer(cancerTypeId='cup', dedicatedColor='Black', name='Cancer of Unknown Primary', parent='other', shortName='CUP'),\n",
       " TypeOfCancer(cancerTypeId='cupnos', dedicatedColor='Black', name='Cancer of Unknown Primary, NOS', parent='cup', shortName='CUPNOS'),\n",
       " TypeOfCancer(cancerTypeId='da', dedicatedColor='SaddleBrown', name='Duodenal Adenocarcinoma', parent='sbc', shortName='DA'),\n",
       " TypeOfCancer(cancerTypeId='dastr', dedicatedColor='Gray', name='Diffuse Astrocytoma', parent='difg', shortName='DASTR'),\n",
       " TypeOfCancer(cancerTypeId='dcis', dedicatedColor='HotPink', name='Breast Ductal Carcinoma In Situ', parent='breast', shortName='DCIS'),\n",
       " TypeOfCancer(cancerTypeId='dcs', dedicatedColor='LightYellow', name='Dendritic Cell Sarcoma', parent='soft_tissue', shortName='DCS'),\n",
       " TypeOfCancer(cancerTypeId='ddchdm', dedicatedColor='White', name='Dedifferentiated Chordoma', parent='chdm', shortName='DDCHDM'),\n",
       " TypeOfCancer(cancerTypeId='ddchs', dedicatedColor='White', name='Dedifferentiated Chondrosarcoma', parent='chs', shortName='DDCHS'),\n",
       " TypeOfCancer(cancerTypeId='ddls', dedicatedColor='LightYellow', name='Dedifferentiated Liposarcoma', parent='lipo', shortName='DDLS'),\n",
       " TypeOfCancer(cancerTypeId='des', dedicatedColor='LightYellow', name='Desmoid/Aggressive Fibromatosis', parent='soft_tissue', shortName='DES'),\n",
       " TypeOfCancer(cancerTypeId='desm', dedicatedColor='Black', name='Desmoplastic Melanoma', parent='mel', shortName='DESM'),\n",
       " TypeOfCancer(cancerTypeId='df', dedicatedColor='Black', name='Dermatofibroma', parent='skin', shortName='DF'),\n",
       " TypeOfCancer(cancerTypeId='dfl', dedicatedColor='LimeGreen', name='Duodenal-Type Follicular Lymphoma', parent='fl', shortName='DFL'),\n",
       " TypeOfCancer(cancerTypeId='dfsp', dedicatedColor='Black', name='Dermatofibrosarcoma Protuberans', parent='skin', shortName='DFSP'),\n",
       " TypeOfCancer(cancerTypeId='dia', dedicatedColor='Gray', name='Desmoplastic Infantile Astrocytoma', parent='mnet', shortName='DIA'),\n",
       " TypeOfCancer(cancerTypeId='difg', dedicatedColor='Gray', name='Diffuse Glioma', parent='brain', shortName='DIFG'),\n",
       " TypeOfCancer(cancerTypeId='dig', dedicatedColor='Gray', name='Desmoplastic Infantile Ganglioglioma', parent='mnet', shortName='DIG'),\n",
       " TypeOfCancer(cancerTypeId='dipg', dedicatedColor='Gray', name='Diffuse Intrinsic Pontine Glioma', parent='difg', shortName='DIPG'),\n",
       " TypeOfCancer(cancerTypeId='dlbclci', dedicatedColor='LimeGreen', name='DLBCL Associated with Chronic Inflammation', parent='mbn', shortName='DLBCLCI'),\n",
       " TypeOfCancer(cancerTypeId='dlbclnos', dedicatedColor='LimeGreen', name='Diffuse Large B-Cell Lymphoma, NOS', parent='mbn', shortName='DLBCLNOS'),\n",
       " TypeOfCancer(cancerTypeId='dmbl', dedicatedColor='Gray', name='Desmoplastic/Nodular Medulloblastoma', parent='embt', shortName='DMBL'),\n",
       " TypeOfCancer(cancerTypeId='dmblnos', dedicatedColor='Gray', name='Desmoplastic/Nodular Medulloblastoma, NOS', parent='dmbl', shortName='DMBLNOS'),\n",
       " TypeOfCancer(cancerTypeId='dmblshh', dedicatedColor='Gray', name='Desmoplastic/Nodular Medulloblastoma, SHH Subtype', parent='dmbl', shortName='DMBLSHH'),\n",
       " TypeOfCancer(cancerTypeId='dnt', dedicatedColor='Gray', name='Dysembryoplastic Neuroepithelial Tumor', parent='encg', shortName='DNT'),\n",
       " TypeOfCancer(cancerTypeId='dsrct', dedicatedColor='LightYellow', name='Desmoplastic Small-Round-Cell Tumor', parent='soft_tissue', shortName='DSRCT'),\n",
       " TypeOfCancer(cancerTypeId='dstad', dedicatedColor='LightSkyBlue', name='Diffuse Type Stomach Adenocarcinoma', parent='stad', shortName='DSTAD'),\n",
       " TypeOfCancer(cancerTypeId='dte', dedicatedColor='Black', name='Desmoplastic Trichoepithelioma', parent='skin', shortName='DTE'),\n",
       " TypeOfCancer(cancerTypeId='eatl', dedicatedColor='LimeGreen', name='Enteropathy-Associated T-Cell Lymphoma', parent='mtnn', shortName='EATL'),\n",
       " TypeOfCancer(cancerTypeId='ebov', dedicatedColor='LightBlue', name='Endometrioid Borderlin Ovarian Tumor', parent='ovt', shortName='EBOV'),\n",
       " TypeOfCancer(cancerTypeId='ebvdlbclnos', dedicatedColor='LimeGreen', name='EBV Positive DLBCL, NOS', parent='mbn', shortName='EBVDLBCLNOS'),\n",
       " TypeOfCancer(cancerTypeId='ebvmcu', dedicatedColor='LimeGreen', name='EBV Positive Mucocutaneous Ulcer', parent='mbn', shortName='EBVMCU'),\n",
       " TypeOfCancer(cancerTypeId='ecad', dedicatedColor='Teal', name='Endocervical Adenocarcinoma', parent='cead', shortName='ECAD'),\n",
       " TypeOfCancer(cancerTypeId='ecd', dedicatedColor='LightSalmon', name='Erdheim-Chester Disease', parent='hdcn', shortName='ECD'),\n",
       " TypeOfCancer(cancerTypeId='egc', dedicatedColor='LightSkyBlue', name='Esophagogastric Adenocarcinoma', parent='stomach', shortName='EGC'),\n",
       " TypeOfCancer(cancerTypeId='egct', dedicatedColor='Black', name='Extra Gonadal Germ Cell Tumor', parent='other', shortName='EGCT'),\n",
       " TypeOfCancer(cancerTypeId='ehae', dedicatedColor='LightYellow', name='Epithelioid Hemangioendothelioma', parent='soft_tissue', shortName='EHAE'),\n",
       " TypeOfCancer(cancerTypeId='ehch', dedicatedColor='Green', name='Extrahepatic Cholangiocarcinoma', parent='chol', shortName='EHCH'),\n",
       " TypeOfCancer(cancerTypeId='emalt', dedicatedColor='LimeGreen', name='Extranodal Marginal Zone Lymphoma of Mucosa-Associated Lymphoid Tissue (MALT lymphoma)', parent='mzl', shortName='EMALT'),\n",
       " TypeOfCancer(cancerTypeId='embc', dedicatedColor='HotPink', name='Epithelial Type Metaplastic Breast Cancer', parent='mbc', shortName='EMBC'),\n",
       " TypeOfCancer(cancerTypeId='embca', dedicatedColor='Red', name='Embryonal Carcinoma', parent='nsgct', shortName='EMBCA'),\n",
       " TypeOfCancer(cancerTypeId='embt', dedicatedColor='Gray', name='Embryonal Tumor', parent='brain', shortName='EMBT'),\n",
       " TypeOfCancer(cancerTypeId='emchs', dedicatedColor='White', name='Extraskeletal Myxoid Chondrosarcoma', parent='chs', shortName='EMCHS'),\n",
       " TypeOfCancer(cancerTypeId='empd', dedicatedColor='Black', name='Extramammary Paget Disease', parent='skin', shortName='EMPD'),\n",
       " TypeOfCancer(cancerTypeId='empsgc', dedicatedColor='Black', name='Endocrine Mucin Producing Sweat Gland Carcinoma', parent='skin', shortName='EMPSGC'),\n",
       " TypeOfCancer(cancerTypeId='emyoca', dedicatedColor='DarkRed', name='Epithelial-Myoepithelial Carcinoma', parent='ohnca', shortName='EMYOCA'),\n",
       " TypeOfCancer(cancerTypeId='encg', dedicatedColor='Gray', name='Encapsulated Glioma', parent='brain', shortName='ENCG'),\n",
       " TypeOfCancer(cancerTypeId='enkl', dedicatedColor='LimeGreen', name='Extranodal NK-/T-Cell Lymphoma, Nasal Type', parent='mtnn', shortName='ENKL'),\n",
       " TypeOfCancer(cancerTypeId='eov', dedicatedColor='LightBlue', name='Endometrioid Ovarian Cancer', parent='ovt', shortName='EOV'),\n",
       " TypeOfCancer(cancerTypeId='ep', dedicatedColor='LimeGreen', name='Extraosseous Plasmacytoma', parent='mbn', shortName='EP'),\n",
       " TypeOfCancer(cancerTypeId='epdca', dedicatedColor='LightSkyBlue', name='Esophageal Poorly Differentiated Carcinoma', parent='stomach', shortName='EPDCA'),\n",
       " TypeOfCancer(cancerTypeId='epis', dedicatedColor='LightYellow', name='Epithelioid Sarcoma', parent='soft_tissue', shortName='EPIS'),\n",
       " TypeOfCancer(cancerTypeId='epm', dedicatedColor='Gray', name='Ependymoma', parent='epmt', shortName='EPM'),\n",
       " TypeOfCancer(cancerTypeId='epmt', dedicatedColor='Gray', name='Ependymomal Tumor', parent='brain', shortName='EPMT'),\n",
       " TypeOfCancer(cancerTypeId='erms', dedicatedColor='LightYellow', name='Embryonal Rhabdomyosarcoma', parent='rms', shortName='ERMS'),\n",
       " TypeOfCancer(cancerTypeId='es', dedicatedColor='White', name='Ewing Sarcoma', parent='bone', shortName='ES'),\n",
       " TypeOfCancer(cancerTypeId='esca', dedicatedColor='LightSkyBlue', name='Esophageal Adenocarcinoma', parent='egc', shortName='ESCA'),\n",
       " TypeOfCancer(cancerTypeId='escc', dedicatedColor='LightSkyBlue', name='Esophageal Squamous Cell Carcinoma', parent='stomach', shortName='ESCC'),\n",
       " TypeOfCancer(cancerTypeId='esmm', dedicatedColor='LightSkyBlue', name='Mucosal Melanoma of the Esophagus', parent='stomach', shortName='ESMM'),\n",
       " TypeOfCancer(cancerTypeId='ess', dedicatedColor='PeachPuff', name='Endometrial Stromal Sarcoma', parent='usarc', shortName='ESS'),\n",
       " TypeOfCancer(cancerTypeId='esst', dedicatedColor='LightYellow', name='Ewing Sarcoma of Soft Tissue', parent='soft_tissue', shortName='ESST'),\n",
       " TypeOfCancer(cancerTypeId='et', dedicatedColor='LightSalmon', name='Essential Thrombocythemia', parent='mpn', shortName='ET'),\n",
       " TypeOfCancer(cancerTypeId='etantr', dedicatedColor='Gray', name='Embryonal Tumor with Abundant Neuropil and True Rosettes', parent='embt', shortName='ETANTR'),\n",
       " TypeOfCancer(cancerTypeId='etmf', dedicatedColor='LightSalmon', name='Essential Thrombocythemia Myelofibrosis', parent='et', shortName='ETMF'),\n",
       " TypeOfCancer(cancerTypeId='etpll', dedicatedColor='LimeGreen', name='Early T-Cell Precursor Lymphoblastic Leukemia', parent='tll', shortName='ETPLL'),\n",
       " TypeOfCancer(cancerTypeId='ett', dedicatedColor='PeachPuff', name='Epithelioid Trophoblastic Tumor', parent='gtd', shortName='ETT'),\n",
       " TypeOfCancer(cancerTypeId='evn', dedicatedColor='Gray', name='Extraventricular Neurocytoma', parent='mnet', shortName='EVN'),\n",
       " TypeOfCancer(cancerTypeId='eye', dedicatedColor='Green', name='Eye', parent='tissue', shortName='EYE'),\n",
       " TypeOfCancer(cancerTypeId='fa', dedicatedColor='HotPink', name='Fibroadenoma', parent='bfn', shortName='FA'),\n",
       " TypeOfCancer(cancerTypeId='fdcs', dedicatedColor='LightYellow', name='Follicular Dendritic Cell Sarcoma', parent='hdcn', shortName='FDCS'),\n",
       " TypeOfCancer(cancerTypeId='fhptld', dedicatedColor='LimeGreen', name='Florid Follicular Hyperplasia PTLD', parent='ptld', shortName='FHPTLD'),\n",
       " TypeOfCancer(cancerTypeId='fhrcc', dedicatedColor='Orange', name='FH-Deficient Renal Cell Carcinoma', parent='nccrcc', shortName='FHRCC'),\n",
       " TypeOfCancer(cancerTypeId='fibs', dedicatedColor='LightYellow', name='Fibrosarcoma', parent='soft_tissue', shortName='FIBS'),\n",
       " TypeOfCancer(cancerTypeId='fios', dedicatedColor='White', name='Fibroblastic Osteosarcoma', parent='os', shortName='FIOS'),\n",
       " TypeOfCancer(cancerTypeId='fl', dedicatedColor='LimeGreen', name='Follicular Lymphoma', parent='mbn', shortName='FL'),\n",
       " TypeOfCancer(cancerTypeId='flc', dedicatedColor='MediumSeaGreen', name='Fibrolamellar Carcinoma', parent='liver', shortName='FLC'),\n",
       " TypeOfCancer(cancerTypeId='frct', dedicatedColor='LightSalmon', name='Fibroblastic Reticular Cell Tumor', parent='hdcn', shortName='FRCT'),\n",
       " TypeOfCancer(cancerTypeId='ft', dedicatedColor='LightBlue', name='Fibrothecoma', parent='scst', shortName='FT'),\n",
       " TypeOfCancer(cancerTypeId='ftcl', dedicatedColor='LimeGreen', name='Follicular T-Cell Lymphoma', parent='mtnn', shortName='FTCL'),\n",
       " TypeOfCancer(cancerTypeId='gb', dedicatedColor='Gray', name='Glioblastoma', parent='difg', shortName='GB'),\n",
       " TypeOfCancer(cancerTypeId='gbad', dedicatedColor='Green', name='Gallbladder Adenocarcinoma, NOS', parent='gbc', shortName='GBAD'),\n",
       " TypeOfCancer(cancerTypeId='gbasc', dedicatedColor='Green', name='Adenosquamous Carcinoma of the Gallbladder', parent='gbc', shortName='GBASC'),\n",
       " TypeOfCancer(cancerTypeId='gbc', dedicatedColor='Green', name='Gallbladder Cancer', parent='icpn', shortName='GBC'),\n",
       " TypeOfCancer(cancerTypeId='gbm', dedicatedColor='Gray', name='Glioblastoma Multiforme', parent='gb', shortName='GBM'),\n",
       " TypeOfCancer(cancerTypeId='gcb', dedicatedColor='LimeGreen', name='Germinal Center B-Cell Type', parent='dlbclnos', shortName='GCB'),\n",
       " TypeOfCancer(cancerTypeId='gccap', dedicatedColor='SaddleBrown', name='Goblet Cell Adenocarcinoma of the Appendix', parent='apad', shortName='GCCAP'),\n",
       " TypeOfCancer(cancerTypeId='gcemu', dedicatedColor='Teal', name='Gastric Type Mucinous Carcinoma', parent='cemu', shortName='GCEMU'),\n",
       " TypeOfCancer(cancerTypeId='gclc', dedicatedColor='Gainsboro', name='Giant Cell Carcinoma of the Lung', parent='lclc', shortName='GCLC'),\n",
       " TypeOfCancer(cancerTypeId='gct', dedicatedColor='Gray', name='Granular Cell Tumor', parent='selt', shortName='GCT'),\n",
       " TypeOfCancer(cancerTypeId='gctb', dedicatedColor='White', name='Giant Cell Tumor of Bone', parent='bone', shortName='GCTB'),\n",
       " TypeOfCancer(cancerTypeId='gctstm', dedicatedColor='Red', name='Germ Cell Tumor with Somatic-Type Malignancy', parent='nsgct', shortName='GCTSTM'),\n",
       " TypeOfCancer(cancerTypeId='gej', dedicatedColor='LightSkyBlue', name='Adenocarcinoma of the Gastroesophageal Junction', parent='egc', shortName='GEJ'),\n",
       " TypeOfCancer(cancerTypeId='ghcd', dedicatedColor='LimeGreen', name='Gamma Heavy-Chain Disease', parent='mbn', shortName='GHCD'),\n",
       " TypeOfCancer(cancerTypeId='ginet', dedicatedColor='SaddleBrown', name='Gastrointestinal Neuroendocrine Tumors', parent='bowel', shortName='GINET'),\n",
       " TypeOfCancer(cancerTypeId='ginetes', dedicatedColor='LightSkyBlue', name='Gastrointestinal Neuroendocrine Tumors of the Esophagus/Stomach', parent='stomach', shortName='GINETES'),\n",
       " TypeOfCancer(cancerTypeId='gist', dedicatedColor='LightYellow', name='Gastrointestinal Stromal Tumor', parent='soft_tissue', shortName='GIST'),\n",
       " TypeOfCancer(cancerTypeId='gmn', dedicatedColor='Gray', name='Germinoma', parent='bgct', shortName='GMN'),\n",
       " TypeOfCancer(cancerTypeId='gn', dedicatedColor='Gray', name='Ganglioneuroma', parent='pns', shortName='GN'),\n",
       " TypeOfCancer(cancerTypeId='gnbl', dedicatedColor='Gray', name='Ganglioneuroblastoma', parent='pns', shortName='GNBL'),\n",
       " TypeOfCancer(cancerTypeId='gnc', dedicatedColor='Gray', name='Gangliocytoma', parent='encg', shortName='GNC'),\n",
       " TypeOfCancer(cancerTypeId='gng', dedicatedColor='Gray', name='Ganglioglioma', parent='encg', shortName='GNG'),\n",
       " TypeOfCancer(cancerTypeId='gnos', dedicatedColor='Gray', name='Glioma, NOS', parent='difg', shortName='GNOS'),\n",
       " TypeOfCancer(cancerTypeId='grc', dedicatedColor='LightSkyBlue', name='Gastric Remnant Adenocarcinoma', parent='egc', shortName='GRC'),\n",
       " TypeOfCancer(cancerTypeId='grct', dedicatedColor='LightBlue', name='Granulosa Cell Tumor', parent='scst', shortName='GRCT'),\n",
       " TypeOfCancer(cancerTypeId='gs', dedicatedColor='LightYellow', name='Glomangiosarcoma', parent='soft_tissue', shortName='GS'),\n",
       " TypeOfCancer(cancerTypeId='gsarc', dedicatedColor='Gray', name='Gliosarcoma', parent='gb', shortName='GSARC'),\n",
       " TypeOfCancer(cancerTypeId='gtd', dedicatedColor='PeachPuff', name='Gestational Trophoblastic Disease', parent='uterus', shortName='GTD'),\n",
       " TypeOfCancer(cancerTypeId='hcc', dedicatedColor='MediumSeaGreen', name='Hepatocellular Carcinoma', parent='liver', shortName='HCC'),\n",
       " TypeOfCancer(cancerTypeId='hccihch', dedicatedColor='MediumSeaGreen', name='Hepatocellular Carcinoma plus Intrahepatic Cholangiocarcinoma', parent='liver', shortName='HCCIHCH'),\n",
       " TypeOfCancer(cancerTypeId='hcl', dedicatedColor='LimeGreen', name='Hairy Cell Leukemia', parent='mbn', shortName='HCL'),\n",
       " TypeOfCancer(cancerTypeId='hcl-v', dedicatedColor='LimeGreen', name='Hairy Cell Leukemia-Variant', parent='sblu', shortName='HCL-V'),\n",
       " TypeOfCancer(cancerTypeId='hdcn', dedicatedColor='LightSalmon', name='Histiocytic and Dendritic Cell Neoplasms', parent='mnm', shortName='HDCN'),\n",
       " TypeOfCancer(cancerTypeId='hdcs', dedicatedColor='LightYellow', name='Histiocytic Dendritic Cell Sarcoma', parent='dcs', shortName='HDCS'),\n",
       " TypeOfCancer(cancerTypeId='head_neck', dedicatedColor='DarkRed', name='Head and Neck', parent='tissue', shortName='HEAD_NECK'),\n",
       " TypeOfCancer(cancerTypeId='hema', dedicatedColor='LightYellow', name='Hemangioma', parent='soft_tissue', shortName='HEMA'),\n",
       " TypeOfCancer(cancerTypeId='hgbcl', dedicatedColor='LimeGreen', name='High-Grade B-Cell Lymphoma, NOS', parent='mbn', shortName='HGBCL'),\n",
       " TypeOfCancer(cancerTypeId='hgbclmycbcl2', dedicatedColor='LimeGreen', name='High-Grade B-Cell Lymphoma, with MYC and BCL2 and/or BCL6 Rearrangements', parent='mbn', shortName='HGBCLMYCBCL2'),\n",
       " TypeOfCancer(cancerTypeId='hgess', dedicatedColor='PeachPuff', name='High-Grade Endometrial Stromal Sarcoma', parent='ess', shortName='HGESS'),\n",
       " TypeOfCancer(cancerTypeId='hggnos', dedicatedColor='Gray', name='High-Grade Glioma, NOS', parent='difg', shortName='HGGNOS'),\n",
       " TypeOfCancer(cancerTypeId='hgnec', dedicatedColor='SaddleBrown', name='High-Grade Neuroendocrine Carcinoma of the Colon and Rectum', parent='ginet', shortName='HGNEC'),\n",
       " TypeOfCancer(cancerTypeId='hgnee', dedicatedColor='LightSkyBlue', name='High-Grade Neuroendocrine Carcinoma of the Esophagus', parent='ginetes', shortName='HGNEE'),\n",
       " TypeOfCancer(cancerTypeId='hgnes', dedicatedColor='LightSkyBlue', name='High-Grade Neuroendocrine Carcinoma of the Stomach', parent='ginetes', shortName='HGNES'),\n",
       " TypeOfCancer(cancerTypeId='hgnet', dedicatedColor='Gray', name='High-Grade Neuroepithelial Tumor', parent='mbt', shortName='HGNET'),\n",
       " TypeOfCancer(cancerTypeId='hgonec', dedicatedColor='LightBlue', name='High-Grade Neuroendocrine Carcinoma of the Ovary', parent='oovc', shortName='HGONEC'),\n",
       " TypeOfCancer(cancerTypeId='hgsft', dedicatedColor='LightBlue', name='High-Grade Serous Fallopian Tube Cancer', parent='oovc', shortName='HGSFT'),\n",
       " TypeOfCancer(cancerTypeId='hgsoc', dedicatedColor='LightBlue', name='High-Grade Serous Ovarian Cancer', parent='soc', shortName='HGSOC'),\n",
       " TypeOfCancer(cancerTypeId='hgsos', dedicatedColor='White', name='High-Grade Surface Osteosarcoma', parent='os', shortName='HGSOS'),\n",
       " TypeOfCancer(cancerTypeId='hhv8dlbcl', dedicatedColor='LimeGreen', name='HHV8 Positive DLBCL, NOS', parent='mbn', shortName='HHV8DLBCL'),\n",
       " TypeOfCancer(cancerTypeId='hl', dedicatedColor='LimeGreen', name='Hodgkin Lymphoma', parent='lnm', shortName='HL'),\n",
       " TypeOfCancer(cancerTypeId='hmbl', dedicatedColor='Gray', name='Hemangioblastoma', parent='mbt', shortName='HMBL'),\n",
       " TypeOfCancer(cancerTypeId='hnmasc', dedicatedColor='DarkRed', name='Mammary Analogue Secretory Carcinoma of Salivary Gland Origin', parent='saca', shortName='HNMASC'),\n",
       " TypeOfCancer(cancerTypeId='hnmucm', dedicatedColor='DarkRed', name='Head and Neck Mucosal Melanoma', parent='head_neck', shortName='HNMUCM'),\n",
       " TypeOfCancer(cancerTypeId='hnne', dedicatedColor='DarkRed', name='Head and Neck Neuroendocrine Carcinoma', parent='ohnca', shortName='HNNE'),\n",
       " TypeOfCancer(cancerTypeId='hnsc', dedicatedColor='DarkRed', name='Head and Neck Squamous Cell Carcinoma', parent='head_neck', shortName='HNSC'),\n",
       " TypeOfCancer(cancerTypeId='hnscup', dedicatedColor='DarkRed', name='Head and Neck Squamous Cell Carcinoma of Unknown Primary', parent='hnsc', shortName='HNSCUP'),\n",
       " TypeOfCancer(cancerTypeId='hpccns', dedicatedColor='Gray', name='Hemangiopericytoma of the Central Nervous System', parent='mngt', shortName='HPCCNS'),\n",
       " TypeOfCancer(cancerTypeId='hphsc', dedicatedColor='DarkRed', name='Hypopharynx Squamous Cell Carcinoma', parent='hnsc', shortName='HPHSC'),\n",
       " TypeOfCancer(cancerTypeId='hs', dedicatedColor='LightSalmon', name='Histiocytic Sarcoma', parent='hdcn', shortName='HS'),\n",
       " TypeOfCancer(cancerTypeId='hstcl', dedicatedColor='LimeGreen', name='Hepatosplenic T-cell Lymphoma', parent='mtnn', shortName='HSTCL'),\n",
       " TypeOfCancer(cancerTypeId='htat', dedicatedColor='Teal', name='Hyalinizing Trabecular Adenoma of the Thyroid', parent='thyroid', shortName='HTAT'),\n",
       " TypeOfCancer(cancerTypeId='hvll', dedicatedColor='LimeGreen', name='Hydroa Vacciniforme Like Lymphoproliferative Disorder', parent='mtnn', shortName='HVLL'),\n",
       " TypeOfCancer(cancerTypeId='iampca', dedicatedColor='Purple', name='Intestinal Ampullary Carcinoma', parent='ampca', shortName='IAMPCA'),\n",
       " TypeOfCancer(cancerTypeId='ibc', dedicatedColor='HotPink', name='Inflammatory Breast Cancer', parent='breast', shortName='IBC'),\n",
       " TypeOfCancer(cancerTypeId='icemu', dedicatedColor='Teal', name='Intestinal Type Mucinous Carcinoma', parent='cemu', shortName='ICEMU'),\n",
       " TypeOfCancer(cancerTypeId='icpn', dedicatedColor='Green', name='Intracholecystic Papillary Neoplasm', parent='biliary_tract', shortName='ICPN'),\n",
       " TypeOfCancer(cancerTypeId='idc', dedicatedColor='HotPink', name='Breast Invasive Ductal Carcinoma', parent='brca', shortName='IDC'),\n",
       " TypeOfCancer(cancerTypeId='idcs', dedicatedColor='LightYellow', name='Interdigitating Dendritic Cell Sarcoma', parent='hdcn', shortName='IDCS'),\n",
       " TypeOfCancer(cancerTypeId='idct', dedicatedColor='LightSalmon', name='Indeterminate Dendritic Cell Tumor', parent='hdcn', shortName='IDCT'),\n",
       " TypeOfCancer(cancerTypeId='ifs', dedicatedColor='LightYellow', name='Infantile Fibrosarcoma', parent='soft_tissue', shortName='IFS'),\n",
       " TypeOfCancer(cancerTypeId='ihch', dedicatedColor='Green', name='Intrahepatic Cholangiocarcinoma', parent='chol', shortName='IHCH'),\n",
       " TypeOfCancer(cancerTypeId='ihm', dedicatedColor='PeachPuff', name='Invasive Hydatidiform Mole', parent='mp', shortName='IHM'),\n",
       " TypeOfCancer(cancerTypeId='ilc', dedicatedColor='HotPink', name='Breast Invasive Lobular Carcinoma', parent='brca', shortName='ILC'),\n",
       " TypeOfCancer(cancerTypeId='immc', dedicatedColor='HotPink', name='Breast Invasive Mixed Mucinous Carcinoma', parent='brca', shortName='IMMC'),\n",
       " TypeOfCancer(cancerTypeId='imptld', dedicatedColor='LimeGreen', name='Infectious Mononucleosis PTLD', parent='ptld', shortName='IMPTLD'),\n",
       " TypeOfCancer(cancerTypeId='ims', dedicatedColor='LightYellow', name='Myofibromatosis', parent='soft_tissue', shortName='IMS'),\n",
       " TypeOfCancer(cancerTypeId='imt', dedicatedColor='LightYellow', name='Inflammatory Myofibroblastic Tumor', parent='soft_tissue', shortName='IMT'),\n",
       " TypeOfCancer(cancerTypeId='imtb', dedicatedColor='Yellow', name='Inflammatory Myofibroblastic Bladder Tumor', parent='bladder', shortName='IMTB'),\n",
       " TypeOfCancer(cancerTypeId='imtl', dedicatedColor='Gainsboro', name='Inflammatory Myofibroblastic Lung Tumor', parent='lung', shortName='IMTL'),\n",
       " TypeOfCancer(cancerTypeId='ints', dedicatedColor='LightYellow', name='Intimal Sarcoma', parent='soft_tissue', shortName='INTS'),\n",
       " TypeOfCancer(cancerTypeId='iopn', dedicatedColor='Purple', name='Intraductal Oncocytic Papillary Neoplasm', parent='pact', shortName='IOPN'),\n",
       " TypeOfCancer(cancerTypeId='ipmn', dedicatedColor='Purple', name='Intraductal Papillary Mucinous Neoplasm', parent='pact', shortName='IPMN'),\n",
       " TypeOfCancer(cancerTypeId='ipn', dedicatedColor='Green', name='Intraductal Papillary Neoplasm of the Bile Duct', parent='biliary_tract', shortName='IPN'),\n",
       " TypeOfCancer(cancerTypeId='isfn', dedicatedColor='LimeGreen', name='In Situ Follicular Neoplasia', parent='fl', shortName='ISFN'),\n",
       " TypeOfCancer(cancerTypeId='ism', dedicatedColor='LightSalmon', name='Indolent Systemic Mastocytosis', parent='sm', shortName='ISM'),\n",
       " TypeOfCancer(cancerTypeId='ismcl', dedicatedColor='LimeGreen', name='In Situ Mantle Cell Neoplasia', parent='mcl', shortName='ISMCL'),\n",
       " TypeOfCancer(cancerTypeId='istad', dedicatedColor='LightSkyBlue', name='Intestinal Type Stomach Adenocarcinoma', parent='stad', shortName='ISTAD'),\n",
       " TypeOfCancer(cancerTypeId='itlpdgi', dedicatedColor='LimeGreen', name='Indolent T-Cell Lymphoproliferative Disorder of the GI Tract', parent='mtnn', shortName='ITLPDGI'),\n",
       " TypeOfCancer(cancerTypeId='itpn', dedicatedColor='Purple', name='Intraductal Tubulopapillary Neoplasm', parent='pact', shortName='ITPN'),\n",
       " TypeOfCancer(cancerTypeId='iup', dedicatedColor='Yellow', name='Inverted Urothelial Papilloma', parent='bladder', shortName='IUP'),\n",
       " TypeOfCancer(cancerTypeId='ivbcl', dedicatedColor='LimeGreen', name='Intravascular Large B-Cell Lymphoma', parent='mbn', shortName='IVBCL'),\n",
       " TypeOfCancer(cancerTypeId='jmml', dedicatedColor='LightSalmon', name='Juvenile Myelomonocytic Leukemia', parent='mds/mpn', shortName='JMML'),\n",
       " TypeOfCancer(cancerTypeId='jscb', dedicatedColor='HotPink', name='Juvenile Secretory Carcinoma of the Breast', parent='breast', shortName='JSCB'),\n",
       " TypeOfCancer(cancerTypeId='jxg', dedicatedColor='LightSalmon', name='Disseminated Juvenile Xanthogranuloma', parent='hdcn', shortName='JXG'),\n",
       " TypeOfCancer(cancerTypeId='kidney', dedicatedColor='Orange', name='Kidney', parent='tissue', shortName='KIDNEY'),\n",
       " TypeOfCancer(cancerTypeId='lais', dedicatedColor='Gainsboro', name='Lung Adenocarcinoma In Situ', parent='lung', shortName='LAIS'),\n",
       " TypeOfCancer(cancerTypeId='lam', dedicatedColor='Gainsboro', name='Pulmonary Lymphangiomyomatosis', parent='lung', shortName='LAM'),\n",
       " TypeOfCancer(cancerTypeId='lamn', dedicatedColor='SaddleBrown', name='Low-grade Appendiceal Mucinous Neoplasm', parent='bowel', shortName='LAMN'),\n",
       " TypeOfCancer(cancerTypeId='latl', dedicatedColor='LimeGreen', name='Lymphoid Atypical', parent='lymph', shortName='LATL'),\n",
       " TypeOfCancer(cancerTypeId='lbgn', dedicatedColor='LimeGreen', name='Lymphoid Benign', parent='lymph', shortName='LBGN'),\n",
       " TypeOfCancer(cancerTypeId='lblirf4', dedicatedColor='LimeGreen', name='Large B-Cell Lymphoma with IRF4 Rearrangement', parent='mbn', shortName='LBLIRF4'),\n",
       " TypeOfCancer(cancerTypeId='lch', dedicatedColor='LightSalmon', name='Langerhans Cell Histiocytosis', parent='hdcn', shortName='LCH'),\n",
       " TypeOfCancer(cancerTypeId='lcis', dedicatedColor='HotPink', name='Breast Lobular Carcinoma In Situ', parent='breast', shortName='LCIS'),\n",
       " TypeOfCancer(cancerTypeId='lclc', dedicatedColor='Gainsboro', name='Large Cell Lung Carcinoma', parent='nsclc', shortName='LCLC'),\n",
       " TypeOfCancer(cancerTypeId='lcs', dedicatedColor='LightSalmon', name='Langerhans Cell Sarcoma', parent='hdcn', shortName='LCS'),\n",
       " TypeOfCancer(cancerTypeId='ldchl', dedicatedColor='LimeGreen', name='Lymphocyte-Depleted Classical Hodgkin Lymphoma', parent='chl', shortName='LDCHL'),\n",
       " TypeOfCancer(cancerTypeId='ldd', dedicatedColor='Gray', name='Dysplastic Gangliocytoma of the Cerebellum/Lhermitte-Duclos Disease', parent='mnet', shortName='LDD'),\n",
       " TypeOfCancer(cancerTypeId='leclc', dedicatedColor='Gainsboro', name='Lymphoepithelioma-like Carcinoma of the Lung', parent='lclc', shortName='LECLC'),\n",
       " TypeOfCancer(cancerTypeId='lgcos', dedicatedColor='White', name='Low-Grade Central Osteosarcoma', parent='os', shortName='LGCOS'),\n",
       " TypeOfCancer(cancerTypeId='lgess', dedicatedColor='PeachPuff', name='Low-Grade Endometrial Stromal Sarcoma', parent='ess', shortName='LGESS'),\n",
       " TypeOfCancer(cancerTypeId='lgfms', dedicatedColor='LightYellow', name='Low-Grade Fibromyxoid Sarcoma', parent='soft_tissue', shortName='LGFMS'),\n",
       " TypeOfCancer(cancerTypeId='lggnos', dedicatedColor='Gray', name='Low-Grade Glioma, NOS', parent='encg', shortName='LGGNOS'),\n",
       " TypeOfCancer(cancerTypeId='lgnet', dedicatedColor='Gray', name='Low-Grade Neuroepithelial Tumor', parent='mbt', shortName='LGNET'),\n",
       " TypeOfCancer(cancerTypeId='lgsoc', dedicatedColor='LightBlue', name='Low-Grade Serous Ovarian Cancer', parent='soc', shortName='LGSOC'),\n",
       " TypeOfCancer(cancerTypeId='lgt', dedicatedColor='Green', name='Lacrimal Gland Tumor', parent='eye', shortName='LGT'),\n",
       " TypeOfCancer(cancerTypeId='liad', dedicatedColor='MediumSeaGreen', name='Hepatocellular Adenoma', parent='liver', shortName='LIAD'),\n",
       " TypeOfCancer(cancerTypeId='lias', dedicatedColor='MediumSeaGreen', name='Liver Angiosarcoma', parent='liver', shortName='LIAS'),\n",
       " TypeOfCancer(cancerTypeId='lihb', dedicatedColor='MediumSeaGreen', name='Hepatoblastoma', parent='liver', shortName='LIHB'),\n",
       " TypeOfCancer(cancerTypeId='limnet', dedicatedColor='MediumSeaGreen', name='Malignant Nonepithelial Tumor of the Liver', parent='liver', shortName='LIMNET'),\n",
       " TypeOfCancer(cancerTypeId='lipo', dedicatedColor='LightYellow', name='Liposarcoma', parent='soft_tissue', shortName='LIPO'),\n",
       " TypeOfCancer(cancerTypeId='liver', dedicatedColor='MediumSeaGreen', name='Liver', parent='tissue', shortName='LIVER'),\n",
       " TypeOfCancer(cancerTypeId='lm', dedicatedColor='LightYellow', name='Leiomyoma', parent='soft_tissue', shortName='LM'),\n",
       " TypeOfCancer(cancerTypeId='lms', dedicatedColor='LightYellow', name='Leiomyosarcoma', parent='soft_tissue', shortName='LMS'),\n",
       " TypeOfCancer(cancerTypeId='lnet', dedicatedColor='Gainsboro', name='Lung Neuroendocrine Tumor', parent='lung', shortName='LNET'),\n",
       " TypeOfCancer(cancerTypeId='lnm', dedicatedColor='LimeGreen', name='Lymphoid Neoplasm', parent='lymph', shortName='LNM'),\n",
       " TypeOfCancer(cancerTypeId='lpl', dedicatedColor='LimeGreen', name='Lymphoplasmacytic Lymphoma', parent='mbn', shortName='LPL'),\n",
       " TypeOfCancer(cancerTypeId='lrchl', dedicatedColor='LimeGreen', name='Lymphocyte-Rich Classical Hodgkin Lymphoma', parent='chl', shortName='LRCHL'),\n",
       " TypeOfCancer(cancerTypeId='luacc', dedicatedColor='Gainsboro', name='Adenoid Cystic Carcinoma of the Lung', parent='sgttl', shortName='LUACC'),\n",
       " TypeOfCancer(cancerTypeId='luad', dedicatedColor='Gainsboro', name='Lung Adenocarcinoma', parent='nsclc', shortName='LUAD'),\n",
       " TypeOfCancer(cancerTypeId='luas', dedicatedColor='Gainsboro', name='Lung Adenosquamous Carcinoma', parent='nsclc', shortName='LUAS'),\n",
       " TypeOfCancer(cancerTypeId='luca', dedicatedColor='Gainsboro', name='Lung Carcinoid', parent='lnet', shortName='LUCA'),\n",
       " TypeOfCancer(cancerTypeId='lumec', dedicatedColor='Gainsboro', name='Mucoepidermoid Carcinoma of the Lung', parent='sgttl', shortName='LUMEC'),\n",
       " TypeOfCancer(cancerTypeId='lune', dedicatedColor='Gainsboro', name='Large Cell Neuroendocrine Carcinoma', parent='lnet', shortName='LUNE'),\n",
       " TypeOfCancer(cancerTypeId='lung', dedicatedColor='Gainsboro', name='Lung', parent='tissue', shortName='LUNG'),\n",
       " TypeOfCancer(cancerTypeId='lupc', dedicatedColor='Gainsboro', name='Pleomorphic Carcinoma of the Lung', parent='nsclc', shortName='LUPC'),\n",
       " TypeOfCancer(cancerTypeId='lusc', dedicatedColor='Gainsboro', name='Lung Squamous Cell Carcinoma', parent='nsclc', shortName='LUSC'),\n",
       " TypeOfCancer(cancerTypeId='lxsc', dedicatedColor='DarkRed', name='Larynx Squamous Cell Carcinoma', parent='hnsc', shortName='LXSC'),\n",
       " TypeOfCancer(cancerTypeId='lyg', dedicatedColor='LimeGreen', name='Lymphomatoid Granulomatosis', parent='mbn', shortName='LYG'),\n",
       " TypeOfCancer(cancerTypeId='lymph', dedicatedColor='LimeGreen', name='Lymphoid', parent='tissue', shortName='LYMPH'),\n",
       " TypeOfCancer(cancerTypeId='lyp', dedicatedColor='LimeGreen', name='Lymphomatoid Papulosis', parent='pclpd', shortName='LYP'),\n",
       " TypeOfCancer(cancerTypeId='maap', dedicatedColor='SaddleBrown', name='Mucinous Adenocarcinoma of the Appendix', parent='apad', shortName='MAAP'),\n",
       " TypeOfCancer(cancerTypeId='mac', dedicatedColor='Black', name='Microcystic Adnexal Carcinoma', parent='skin', shortName='MAC'),\n",
       " TypeOfCancer(cancerTypeId='macr', dedicatedColor='SaddleBrown', name='Mucinous Adenocarcinoma of the Colon and Rectum', parent='coadread', shortName='MACR'),\n",
       " TypeOfCancer(cancerTypeId='mampca', dedicatedColor='Purple', name='Mixed Ampullary Carcinoma', parent='ampca', shortName='MAMPCA'),\n",
       " TypeOfCancer(cancerTypeId='masc', dedicatedColor='HotPink', name='Metaplastic Adenosquamous Carcinoma', parent='embc', shortName='MASC'),\n",
       " TypeOfCancer(cancerTypeId='mascc', dedicatedColor='HotPink', name='Metaplastic Adenocarcinoma with Spindle Cell Differentiation', parent='embc', shortName='MASCC'),\n",
       " TypeOfCancer(cancerTypeId='matpl', dedicatedColor='LightSalmon', name='Myeloid Atypical', parent='myeloid', shortName='MATPL'),\n",
       " TypeOfCancer(cancerTypeId='mbc', dedicatedColor='HotPink', name='Metaplastic Breast Cancer', parent='breast', shortName='MBC'),\n",
       " TypeOfCancer(cancerTypeId='mben', dedicatedColor='Gray', name='Medulloblastoma with Extensive Nodularity', parent='embt', shortName='MBEN'),\n",
       " TypeOfCancer(cancerTypeId='mbennos', dedicatedColor='Gray', name='Medulloblastoma with Extensive Nodularity, NOS', parent='mben', shortName='MBENNOS'),\n",
       " TypeOfCancer(cancerTypeId='mbenshh', dedicatedColor='Gray', name='Medulloblastoma with Extensive Nodularity, SHH Subtype', parent='mben', shortName='MBENSHH'),\n",
       " TypeOfCancer(cancerTypeId='mbgn', dedicatedColor='LightSalmon', name='Myeloid Benign', parent='myeloid', shortName='MBGN'),\n",
       " TypeOfCancer(cancerTypeId='mbl', dedicatedColor='Gray', name='Medulloblastoma', parent='embt', shortName='MBL'),\n",
       " TypeOfCancer(cancerTypeId='mblg3', dedicatedColor='Gray', name='Medulloblastoma, Group 3', parent='mblnws', shortName='MBLG3'),\n",
       " TypeOfCancer(cancerTypeId='mblg4', dedicatedColor='Gray', name='Medulloblastoma, Group 4', parent='mblnws', shortName='MBLG4'),\n",
       " TypeOfCancer(cancerTypeId='mblnos', dedicatedColor='Gray', name='Medulloblastoma, NOS', parent='mbl', shortName='MBLNOS'),\n",
       " TypeOfCancer(cancerTypeId='mblnws', dedicatedColor='Gray', name='Medulloblastoma, Non-WNT, Non-SHH', parent='mbl', shortName='MBLNWS'),\n",
       " TypeOfCancer(cancerTypeId='mblshh', dedicatedColor='Gray', name='Medulloblastoma, SHH Subtype', parent='mbl', shortName='MBLSHH'),\n",
       " TypeOfCancer(cancerTypeId='mblwnt', dedicatedColor='Gray', name='Medulloblastoma, WNT Subtype', parent='mbl', shortName='MBLWNT'),\n",
       " TypeOfCancer(cancerTypeId='mbn', dedicatedColor='LimeGreen', name='Mature B-Cell Neoplasms', parent='nhl', shortName='MBN'),\n",
       " TypeOfCancer(cancerTypeId='mbov', dedicatedColor='LightBlue', name='Mucinous Borderline Ovarian Tumor', parent='ovt', shortName='MBOV'),\n",
       " TypeOfCancer(cancerTypeId='mbt', dedicatedColor='Gray', name='Miscellaneous Brain Tumor', parent='brain', shortName='MBT'),\n",
       " TypeOfCancer(cancerTypeId='mcbcl', dedicatedColor='LimeGreen', name='Monoclonal B-Cell Lymphocytosis', parent='mbn', shortName='MCBCL'),\n",
       " TypeOfCancer(cancerTypeId='mcc', dedicatedColor='Black', name='Merkel Cell Carcinoma', parent='skin', shortName='MCC'),\n",
       " TypeOfCancer(cancerTypeId='mcce', dedicatedColor='Teal', name='Mixed Cervical Carcinoma', parent='cervix', shortName='MCCE'),\n",
       " TypeOfCancer(cancerTypeId='mcchl', dedicatedColor='LimeGreen', name='Mixed Cellularity Classical Hodgkin Lymphoma', parent='chl', shortName='MCCHL'),\n",
       " TypeOfCancer(cancerTypeId='mcd', dedicatedColor='LightSalmon', name='Mastocytosis', parent='mnm', shortName='MCD'),\n",
       " TypeOfCancer(cancerTypeId='mchs', dedicatedColor='White', name='Mesenchymal Chondrosarcoma', parent='chs', shortName='MCHS'),\n",
       " TypeOfCancer(cancerTypeId='mchscns', dedicatedColor='Gray', name='Mesenchymal Chondrosarcoma of the CNS', parent='mbt', shortName='MCHSCNS'),\n",
       " TypeOfCancer(cancerTypeId='mcl', dedicatedColor='LimeGreen', name='Mantle Cell Lymphoma', parent='mbn', shortName='MCL'),\n",
       " TypeOfCancer(cancerTypeId='mcn', dedicatedColor='Purple', name='Mucinous Cystic Neoplasm', parent='pact', shortName='MCN'),\n",
       " TypeOfCancer(cancerTypeId='mcs', dedicatedColor='HotPink', name='Metaplastic Carcinosarcoma', parent='mmbc', shortName='MCS'),\n",
       " TypeOfCancer(cancerTypeId='mcsl', dedicatedColor='LightSalmon', name='Mast Cell Sarcoma', parent='mcd', shortName='MCSL'),\n",
       " TypeOfCancer(cancerTypeId='mdep', dedicatedColor='Gray', name='Medulloepithelioma', parent='embt', shortName='MDEP'),\n",
       " TypeOfCancer(cancerTypeId='mdlc', dedicatedColor='HotPink', name='Breast Mixed Ductal and Lobular Carcinoma', parent='brca', shortName='MDLC'),\n",
       " TypeOfCancer(cancerTypeId='mds', dedicatedColor='LightSalmon', name='Myelodysplastic Syndromes', parent='mnm', shortName='MDS'),\n",
       " TypeOfCancer(cancerTypeId='mds/mpn', dedicatedColor='LightSalmon', name='Myelodysplastic/Myeloproliferative Neoplasms', parent='mnm', shortName='MDS/MPN'),\n",
       " TypeOfCancer(cancerTypeId='mdseb', dedicatedColor='LightSalmon', name='MDS with Excess Blasts', parent='mds', shortName='MDSEB'),\n",
       " TypeOfCancer(cancerTypeId='mdseb1', dedicatedColor='LightSalmon', name='MDS with excess blasts-1', parent='mdseb', shortName='MDSEB1'),\n",
       " TypeOfCancer(cancerTypeId='mdseb2', dedicatedColor='LightSalmon', name='MDS with excess blasts-2', parent='mdseb', shortName='MDSEB2'),\n",
       " TypeOfCancer(cancerTypeId='mdsid5q', dedicatedColor='LightSalmon', name='MDS with Isolated Del(5q)', parent='mds', shortName='MDSID5Q'),\n",
       " TypeOfCancer(cancerTypeId='mdsmd', dedicatedColor='LightSalmon', name='MDS with Multilineage Dysplasia', parent='mds', shortName='MDSMD'),\n",
       " TypeOfCancer(cancerTypeId='mdsmpnrst', dedicatedColor='LightSalmon', name='MDS/MPN with Ring Sideroblasts and Thrombocytosis', parent='mds/mpn', shortName='MDSMPNRST'),\n",
       " TypeOfCancer(cancerTypeId='mdsmpnu', dedicatedColor='LightSalmon', name='MDS/MPN, Unclassifiable', parent='mds/mpn', shortName='MDSMPNU'),\n",
       " TypeOfCancer(cancerTypeId='mdsrs', dedicatedColor='LightSalmon', name='MDS with Ring Sideroblasts', parent='mds', shortName='MDSRS'),\n",
       " TypeOfCancer(cancerTypeId='mdsrsmd', dedicatedColor='LightSalmon', name='MDS with Ring Sideroblasts and Multilineage Dysplasia', parent='mdsrs', shortName='MDSRSMD'),\n",
       " TypeOfCancer(cancerTypeId='mdsrssld', dedicatedColor='LightSalmon', name='MDS with Ring Sideroblasts and Single Lineage Dysplasia', parent='mdsrs', shortName='MDSRSSLD'),\n",
       " TypeOfCancer(cancerTypeId='mdssld', dedicatedColor='LightSalmon', name='MDS with Single Lineage Dysplasia', parent='mds', shortName='MDSSLD'),\n",
       " TypeOfCancer(cancerTypeId='mdsu', dedicatedColor='LightSalmon', name='MDS, Unclassifiable', parent='mds', shortName='MDSU'),\n",
       " TypeOfCancer(cancerTypeId='meitl', dedicatedColor='LimeGreen', name='Monomorphic Epitheliotropic Intestinal T-Cell Lymphoma', parent='mtnn', shortName='MEITL'),\n",
       " TypeOfCancer(cancerTypeId='mel', dedicatedColor='Black', name='Melanoma', parent='skin', shortName='MEL'),\n",
       " TypeOfCancer(cancerTypeId='melc', dedicatedColor='Gray', name='Melanocytoma', parent='pcnsmt', shortName='MELC'),\n",
       " TypeOfCancer(cancerTypeId='mf', dedicatedColor='LightYellow', name='Myofibroma', parent='soft_tissue', shortName='MF'),\n",
       " TypeOfCancer(cancerTypeId='mfh', dedicatedColor='LightYellow', name='Undifferentiated Pleomorphic Sarcoma/Malignant Fibrous Histiocytoma/High-Grade Spindle Cell Sarcoma', parent='soft_tissue', shortName='MFH'),\n",
       " TypeOfCancer(cancerTypeId='mfs', dedicatedColor='LightYellow', name='Myxofibrosarcoma', parent='soft_tissue', shortName='MFS'),\n",
       " TypeOfCancer(cancerTypeId='mgct', dedicatedColor='Red', name='Mixed Germ Cell Tumor', parent='nsgct', shortName='MGCT'),\n",
       " TypeOfCancer(cancerTypeId='mgst', dedicatedColor='LightYellow', name='Malignant Glomus Tumor', parent='soft_tissue', shortName='MGST'),\n",
       " TypeOfCancer(cancerTypeId='mgus', dedicatedColor='LimeGreen', name='Monoclonal Gammopathy of Undetermined Significance', parent='mbn', shortName='MGUS'),\n",
       " TypeOfCancer(cancerTypeId='mgusiga', dedicatedColor='LimeGreen', name='IgA', parent='mgus', shortName='MGUSIGA'),\n",
       " TypeOfCancer(cancerTypeId='mgusigg', dedicatedColor='LimeGreen', name='IgG', parent='mgus', shortName='MGUSIGG'),\n",
       " TypeOfCancer(cancerTypeId='mgusigm', dedicatedColor='LimeGreen', name='IgM', parent='mgus', shortName='MGUSIGM'),\n",
       " TypeOfCancer(cancerTypeId='mhcd', dedicatedColor='LimeGreen', name='Mu Heavy-Chain Disease', parent='mbn', shortName='MHCD'),\n",
       " TypeOfCancer(cancerTypeId='midd', dedicatedColor='LimeGreen', name='Monoclonal Immunoglobulin Deposition Diseases', parent='mbn', shortName='MIDD'),\n",
       " TypeOfCancer(cancerTypeId='midda', dedicatedColor='LimeGreen', name='Amyloidosis', parent='midd', shortName='MIDDA'),\n",
       " TypeOfCancer(cancerTypeId='middo', dedicatedColor='LimeGreen', name='Monoclonal Immunoglobulin Deposition Diseases, Other', parent='midd', shortName='MIDDO'),\n",
       " TypeOfCancer(cancerTypeId='mixed', dedicatedColor='Black', name='Mixed Cancer Types', parent='other', shortName='MIXED'),\n",
       " TypeOfCancer(cancerTypeId='mlads', dedicatedColor='LightSalmon', name='Myeloid Leukemia Associated with Down Syndrome', parent='mprds', shortName='MLADS'),\n",
       " TypeOfCancer(cancerTypeId='mlner', dedicatedColor='LightSalmon', name='Myeloid/Lymphoid Neoplasms with Eosinophilia and Rearrangement of  PDGFRA/PDGFRB or FGFR1 or with PCM1-JAK2', parent='mnm', shortName='MLNER'),\n",
       " TypeOfCancer(cancerTypeId='mlnfgfr1', dedicatedColor='LightSalmon', name='Myeloid/Lymphoid Neoplasms with FGFR1 Rearrangement', parent='mlner', shortName='MLNFGFR1'),\n",
       " TypeOfCancer(cancerTypeId='mlnpcm1jak2', dedicatedColor='LightSalmon', name='Myeloid/Lymphoid Neoplasms with PCM1-JAK2', parent='mlner', shortName='MLNPCM1JAK2'),\n",
       " TypeOfCancer(cancerTypeId='mlnpdgfra', dedicatedColor='LightSalmon', name='Myeloid/Lymphoid Neoplasms with PDGFRA Rearrangement', parent='mlner', shortName='MLNPDGFRA'),\n",
       " TypeOfCancer(cancerTypeId='mlnpdgfrb', dedicatedColor='LightSalmon', name='Myeloid/Lymphoid Neoplasms with PDGFRB Rearrangement', parent='mlner', shortName='MLNPDGFRB'),\n",
       " TypeOfCancer(cancerTypeId='mlym', dedicatedColor='Gray', name='Malignant Lymphoma', parent='mbt', shortName='MLYM'),\n",
       " TypeOfCancer(cancerTypeId='mmb', dedicatedColor='Gray', name='Medullomyoblastoma', parent='embt', shortName='MMB'),\n",
       " TypeOfCancer(cancerTypeId='mmbc', dedicatedColor='HotPink', name='Mixed Type Metaplastic Breast Cancer', parent='mbc', shortName='MMBC'),\n",
       " TypeOfCancer(cancerTypeId='mmbl', dedicatedColor='Gray', name='Melanotic Medulloblastoma', parent='embt', shortName='MMBL'),\n",
       " TypeOfCancer(cancerTypeId='mnet', dedicatedColor='Gray', name='Miscellaneous Neuroepithelial Tumor', parent='brain', shortName='MNET'),\n",
       " TypeOfCancer(cancerTypeId='mng', dedicatedColor='Gray', name='Meningioma', parent='mngt', shortName='MNG'),\n",
       " TypeOfCancer(cancerTypeId='mnglp', dedicatedColor='LightSalmon', name='Myeloid Neoplasms with Germ Line Predisposition', parent='mnm', shortName='MNGLP'),\n",
       " TypeOfCancer(cancerTypeId='mngt', dedicatedColor='Gray', name='Meningothelial Tumor', parent='brain', shortName='MNGT'),\n",
       " TypeOfCancer(cancerTypeId='mnm', dedicatedColor='LightSalmon', name='Myeloid Neoplasm', parent='myeloid', shortName='MNM'),\n",
       " TypeOfCancer(cancerTypeId='mov', dedicatedColor='LightBlue', name='Mucinous Ovarian Cancer', parent='ovt', shortName='MOV'),\n",
       " TypeOfCancer(cancerTypeId='mp', dedicatedColor='PeachPuff', name='Molar Pregnancy', parent='gtd', shortName='MP'),\n",
       " TypeOfCancer(cancerTypeId='mpalbcrabl1', dedicatedColor='LightSalmon', name='Mixed Phenotype Acute Leukemia with t(9;22)(q34.1;q11.2); BCR-ABL1', parent='alal', shortName='MPALBCRABL1'),\n",
       " TypeOfCancer(cancerTypeId='mpalbnos', dedicatedColor='LightSalmon', name='Mixed Phenotype Acute Leukemia, B/Myeloid, NOS', parent='alal', shortName='MPALBNOS'),\n",
       " TypeOfCancer(cancerTypeId='mpalkmt2a', dedicatedColor='LightSalmon', name='Mixed Phenotype Acute Leukemia with t(v;11q23.3); KMT2A Rearranged', parent='alal', shortName='MPALKMT2A'),\n",
       " TypeOfCancer(cancerTypeId='mpaltnos', dedicatedColor='LightSalmon', name='Mixed Phenotype Acute Leukemia, T/Myeloid, NOS', parent='alal', shortName='MPALTNOS'),\n",
       " TypeOfCancer(cancerTypeId='mpc', dedicatedColor='LightYellow', name='Myopericytoma', parent='soft_tissue', shortName='MPC'),\n",
       " TypeOfCancer(cancerTypeId='mpe', dedicatedColor='Gray', name='Myxopapillary Ependymoma', parent='epmt', shortName='MPE'),\n",
       " TypeOfCancer(cancerTypeId='mpn', dedicatedColor='LightSalmon', name='Myeloproliferative Neoplasms', parent='mnm', shortName='MPN'),\n",
       " TypeOfCancer(cancerTypeId='mpnst', dedicatedColor='Gray', name='Malignant Peripheral Nerve Sheath Tumor', parent='nst', shortName='MPNST'),\n",
       " TypeOfCancer(cancerTypeId='mpnu', dedicatedColor='LightSalmon', name='Myeloproliferative Neoplasms, Unclassifiable', parent='mpn', shortName='MPNU'),\n",
       " TypeOfCancer(cancerTypeId='mprds', dedicatedColor='LightSalmon', name='Myeloid Proliferations Related to Down Syndrome', parent='aml', shortName='MPRDS'),\n",
       " TypeOfCancer(cancerTypeId='mpt', dedicatedColor='HotPink', name='Malignant Phyllodes Tumor of the Breast', parent='pt', shortName='MPT'),\n",
       " TypeOfCancer(cancerTypeId='mptld', dedicatedColor='LimeGreen', name='Monomorphic PTLD (B- and T-/NK-cell types)', parent='ptld', shortName='MPTLD'),\n",
       " TypeOfCancer(cancerTypeId='mrc', dedicatedColor='Orange', name='Renal Medullary Carcinoma', parent='nccrcc', shortName='MRC'),\n",
       " TypeOfCancer(cancerTypeId='mrls', dedicatedColor='LightYellow', name='Myxoid/Round-Cell Liposarcoma', parent='lipo', shortName='MRLS'),\n",
       " TypeOfCancer(cancerTypeId='mrt', dedicatedColor='Orange', name='Rhabdoid Cancer', parent='kidney', shortName='MRT'),\n",
       " TypeOfCancer(cancerTypeId='mrtl', dedicatedColor='MediumSeaGreen', name='Malignant Rhabdoid Tumor of the Liver', parent='liver', shortName='MRTL'),\n",
       " TypeOfCancer(cancerTypeId='ms', dedicatedColor='LightSalmon', name='Myeloid Sarcoma', parent='aml', shortName='MS'),\n",
       " TypeOfCancer(cancerTypeId='mscc', dedicatedColor='HotPink', name='Metaplastic Squamous Cell Carcinoma', parent='embc', shortName='MSCC'),\n",
       " TypeOfCancer(cancerTypeId='mschw', dedicatedColor='Gray', name='Melanotic Schwannoma', parent='schw', shortName='MSCHW'),\n",
       " TypeOfCancer(cancerTypeId='mstad', dedicatedColor='LightSkyBlue', name='Mucinous Stomach Adenocarcinoma', parent='stad', shortName='MSTAD'),\n",
       " TypeOfCancer(cancerTypeId='mt', dedicatedColor='Gray', name='Malignant Tumor', parent='mbt', shortName='MT'),\n",
       " TypeOfCancer(cancerTypeId='mtnn', dedicatedColor='LimeGreen', name='Mature T and NK Neoplasms', parent='nhl', shortName='MTNN'),\n",
       " TypeOfCancer(cancerTypeId='mtscc', dedicatedColor='Orange', name='Renal Mucinous Tubular Spindle Cell Carcinoma', parent='nccrcc', shortName='MTSCC'),\n",
       " TypeOfCancer(cancerTypeId='mucc', dedicatedColor='DarkRed', name='Mucoepidermoid Carcinoma', parent='saca', shortName='MUCC'),\n",
       " TypeOfCancer(cancerTypeId='mup', dedicatedColor='Black', name='Melanoma of Unknown Primary', parent='mel', shortName='MUP'),\n",
       " TypeOfCancer(cancerTypeId='mxov', dedicatedColor='LightBlue', name='Mixed Ovarian Carcinoma', parent='ovt', shortName='MXOV'),\n",
       " TypeOfCancer(cancerTypeId='mycf', dedicatedColor='LimeGreen', name='Mycosis Fungoides', parent='mtnn', shortName='MYCF'),\n",
       " TypeOfCancer(cancerTypeId='mychs', dedicatedColor='White', name='Myxoid Chondrosarcoma', parent='chs', shortName='MYCHS'),\n",
       " TypeOfCancer(cancerTypeId='myec', dedicatedColor='DarkRed', name='Myoepithelial Carcinoma', parent='saca', shortName='MYEC'),\n",
       " TypeOfCancer(cancerTypeId='myeloid', dedicatedColor='LightSalmon', name='Myeloid', parent='tissue', shortName='MYELOID'),\n",
       " TypeOfCancer(cancerTypeId='myxo', dedicatedColor='LightYellow', name='Myxoma', parent='soft_tissue', shortName='MYXO'),\n",
       " TypeOfCancer(cancerTypeId='mzl', dedicatedColor='LimeGreen', name='Marginal Zone Lymphoma', parent='mbn', shortName='MZL'),\n",
       " TypeOfCancer(cancerTypeId='nbl', dedicatedColor='Gray', name='Neuroblastoma', parent='pns', shortName='NBL'),\n",
       " TypeOfCancer(cancerTypeId='nccrcc', dedicatedColor='Orange', name='Renal Non-Clear Cell Carcinoma', parent='rcc', shortName='NCCRCC'),\n",
       " TypeOfCancer(cancerTypeId='necnos', dedicatedColor='Black', name='Neuroendocrine Carcinoma, NOS', parent='cup', shortName='NECNOS'),\n",
       " TypeOfCancer(cancerTypeId='netnos', dedicatedColor='Black', name='Neuroendocrine Tumor, NOS', parent='cup', shortName='NETNOS'),\n",
       " TypeOfCancer(cancerTypeId='nfib', dedicatedColor='Gray', name='Neurofibroma', parent='nst', shortName='NFIB'),\n",
       " TypeOfCancer(cancerTypeId='nhl', dedicatedColor='LimeGreen', name='Non-Hodgkin Lymphoma', parent='lnm', shortName='NHL'),\n",
       " TypeOfCancer(cancerTypeId='nkcll', dedicatedColor='LimeGreen', name='Natural Killer (NK) Cell Lymphoblastic Leukemia/Lymphoma', parent='tll', shortName='NKCLL'),\n",
       " TypeOfCancer(cancerTypeId='nlphl', dedicatedColor='LimeGreen', name='Nodular Lymphocyte-Predominant Hodgkin Lymphoma', parent='hl', shortName='NLPHL'),\n",
       " TypeOfCancer(cancerTypeId='nmchn', dedicatedColor='DarkRed', name='NUT Midline Carcinoma of the Head and Neck', parent='ohnca', shortName='NMCHN'),\n",
       " TypeOfCancer(cancerTypeId='nmzl', dedicatedColor='LimeGreen', name='Nodal Marginal Zone Lymphoma', parent='mzl', shortName='NMZL'),\n",
       " TypeOfCancer(cancerTypeId='npc', dedicatedColor='DarkRed', name='Nasopharyngeal Carcinoma', parent='head_neck', shortName='NPC'),\n",
       " TypeOfCancer(cancerTypeId='nptltfh', dedicatedColor='LimeGreen', name='Nodal Peripheral T-Cell Lymphoma with TFH Phenotype', parent='mtnn', shortName='NPTLTFH'),\n",
       " TypeOfCancer(cancerTypeId='nschl', dedicatedColor='LimeGreen', name='Nodular Sclerosis Classical Hodgkin Lymphoma', parent='chl', shortName='NSCHL'),\n",
       " TypeOfCancer(cancerTypeId='nsclc', dedicatedColor='Gainsboro', name='Non-Small Cell Lung Cancer', parent='lung', shortName='NSCLC'),\n",
       " TypeOfCancer(cancerTypeId='nsclcpd', dedicatedColor='Gainsboro', name='Poorly Differentiated Non-Small Cell Lung Cancer', parent='nsclc', shortName='NSCLCPD'),\n",
       " TypeOfCancer(cancerTypeId='nsgct', dedicatedColor='Red', name='Non-Seminomatous Germ Cell Tumor', parent='testis', shortName='NSGCT'),\n",
       " TypeOfCancer(cancerTypeId='nst', dedicatedColor='Gray', name='Nerve Sheath Tumor', parent='pns', shortName='NST'),\n",
       " TypeOfCancer(cancerTypeId='nutcl', dedicatedColor='Gainsboro', name='NUT Carcinoma of the Lung', parent='nsclc', shortName='NUTCL'),\n",
       " TypeOfCancer(cancerTypeId='oast', dedicatedColor='Gray', name='Oligoastrocytoma', parent='difg', shortName='OAST'),\n",
       " TypeOfCancer(cancerTypeId='oat', dedicatedColor='Teal', name='Oncocytic Adenoma of the Thyroid', parent='thyroid', shortName='OAT'),\n",
       " TypeOfCancer(cancerTypeId='ocnos', dedicatedColor='LightBlue', name='Ovarian Choriocarcinoma, NOS', parent='oovc', shortName='OCNOS'),\n",
       " TypeOfCancer(cancerTypeId='ocs', dedicatedColor='LightBlue', name='Ovarian Carcinosarcoma/Malignant Mixed Mesodermal Tumor', parent='ovt', shortName='OCS'),\n",
       " TypeOfCancer(cancerTypeId='ocsc', dedicatedColor='DarkRed', name='Oral Cavity Squamous Cell Carcinoma', parent='hnsc', shortName='OCSC'),\n",
       " TypeOfCancer(cancerTypeId='odg', dedicatedColor='Gray', name='Oligodendroglioma', parent='difg', shortName='ODG'),\n",
       " TypeOfCancer(cancerTypeId='odgc', dedicatedColor='DarkRed', name='Odontogenic Carcinoma', parent='ohnca', shortName='ODGC'),\n",
       " TypeOfCancer(cancerTypeId='odys', dedicatedColor='LightBlue', name='Dysgerminoma', parent='ogct', shortName='ODYS'),\n",
       " TypeOfCancer(cancerTypeId='oec', dedicatedColor='LightBlue', name='Embryonal Carcinoma', parent='ogct', shortName='OEC'),\n",
       " TypeOfCancer(cancerTypeId='ofmt', dedicatedColor='LightYellow', name='Ossifying Fibromyxoid Tumor', parent='myxo', shortName='OFMT'),\n",
       " TypeOfCancer(cancerTypeId='ogbl', dedicatedColor='LightBlue', name='Gonadoblastoma', parent='scst', shortName='OGBL'),\n",
       " TypeOfCancer(cancerTypeId='ogct', dedicatedColor='LightBlue', name='Ovarian Germ Cell Tumor', parent='ovary', shortName='OGCT'),\n",
       " TypeOfCancer(cancerTypeId='ohnca', dedicatedColor='DarkRed', name='Head and Neck Carcinoma, Other', parent='head_neck', shortName='OHNCA'),\n",
       " TypeOfCancer(cancerTypeId='oimt', dedicatedColor='LightBlue', name='Immature Teratoma', parent='ogct', shortName='OIMT'),\n",
       " TypeOfCancer(cancerTypeId='om', dedicatedColor='Green', name='Ocular Melanoma', parent='eye', shortName='OM'),\n",
       " TypeOfCancer(cancerTypeId='omgct', dedicatedColor='LightBlue', name='Mixed Germ Cell Tumor', parent='ogct', shortName='OMGCT'),\n",
       " TypeOfCancer(cancerTypeId='omt', dedicatedColor='LightBlue', name='Mature Teratoma', parent='ogct', shortName='OMT'),\n",
       " TypeOfCancer(cancerTypeId='onbl', dedicatedColor='Gray', name='Olfactory Neuroblastoma', parent='embt', shortName='ONBL'),\n",
       " TypeOfCancer(cancerTypeId='oovc', dedicatedColor='LightBlue', name='Ovarian Cancer, Other', parent='ovary', shortName='OOVC'),\n",
       " TypeOfCancer(cancerTypeId='ope', dedicatedColor='LightBlue', name='Polyembryoma', parent='ogct', shortName='OPE'),\n",
       " TypeOfCancer(cancerTypeId='ophsc', dedicatedColor='DarkRed', name='Oropharynx Squamous Cell Carcinoma', parent='hnsc', shortName='OPHSC'),\n",
       " TypeOfCancer(cancerTypeId='os', dedicatedColor='White', name='Osteosarcoma', parent='bone', shortName='OS'),\n",
       " TypeOfCancer(cancerTypeId='osaca', dedicatedColor='DarkRed', name='Salivary Carcinoma, Other', parent='saca', shortName='OSACA'),\n",
       " TypeOfCancer(cancerTypeId='osgct', dedicatedColor='Purple', name='Osteoclastic Giant Cell Tumor', parent='ucp', shortName='OSGCT'),\n",
       " TypeOfCancer(cancerTypeId='osmad', dedicatedColor='LightBlue', name='Ovarian Seromucinous Adenoma', parent='ovt', shortName='OSMAD'),\n",
       " TypeOfCancer(cancerTypeId='osmbt', dedicatedColor='LightBlue', name='Ovarian Seromucinous Borderline Tumor', parent='ovt', shortName='OSMBT'),\n",
       " TypeOfCancer(cancerTypeId='osmca', dedicatedColor='LightBlue', name='Ovarian Seromucinous Carcinoma', parent='ovt', shortName='OSMCA'),\n",
       " TypeOfCancer(cancerTypeId='osos', dedicatedColor='White', name='Osteoblastic Osteosarcoma', parent='os', shortName='OSOS'),\n",
       " TypeOfCancer(cancerTypeId='other', dedicatedColor='Black', name='Other', parent='tissue', shortName='OTHER'),\n",
       " TypeOfCancer(cancerTypeId='ousarc', dedicatedColor='PeachPuff', name='Uterine Sarcoma, Other', parent='usarc', shortName='OUSARC'),\n",
       " TypeOfCancer(cancerTypeId='outt', dedicatedColor='PeachPuff', name='Other Uterine Tumor', parent='uterus', shortName='OUTT'),\n",
       " TypeOfCancer(cancerTypeId='ovary', dedicatedColor='LightBlue', name='Ovary/Fallopian Tube', parent='tissue', shortName='OVARY'),\n",
       " TypeOfCancer(cancerTypeId='ovt', dedicatedColor='LightBlue', name='Ovarian Epithelial Tumor', parent='ovary', shortName='OVT'),\n",
       " TypeOfCancer(cancerTypeId='oyst', dedicatedColor='LightBlue', name='Yolk Sac Tumor', parent='ogct', shortName='OYST'),\n",
       " TypeOfCancer(cancerTypeId='paac', dedicatedColor='Purple', name='Acinar Cell Carcinoma of the Pancreas', parent='pancreas', shortName='PAAC'),\n",
       " TypeOfCancer(cancerTypeId='paad', dedicatedColor='Purple', name='Pancreatic Adenocarcinoma', parent='pancreas', shortName='PAAD'),\n",
       " TypeOfCancer(cancerTypeId='paasc', dedicatedColor='Purple', name='Adenosquamous Carcinoma of the Pancreas', parent='pancreas', shortName='PAASC'),\n",
       " TypeOfCancer(cancerTypeId='pac', dedicatedColor='DarkRed', name='Polymorphous Adenocarcinoma', parent='saca', shortName='PAC'),\n",
       " TypeOfCancer(cancerTypeId='pact', dedicatedColor='Purple', name='Cystic Tumor of the Pancreas', parent='pancreas', shortName='PACT'),\n",
       " TypeOfCancer(cancerTypeId='pada', dedicatedColor='DarkRed', name='Pleomorphic Adenoma', parent='saca', shortName='PADA'),\n",
       " TypeOfCancer(cancerTypeId='pampca', dedicatedColor='Purple', name='Pancreatobiliary Ampullary Carcinoma', parent='ampca', shortName='PAMPCA'),\n",
       " TypeOfCancer(cancerTypeId='pancreas', dedicatedColor='Purple', name='Pancreas', parent='tissue', shortName='PANCREAS'),\n",
       " TypeOfCancer(cancerTypeId='panec', dedicatedColor='Purple', name='Pancreatic Neuroendocrine Carcinoma', parent='pancreas', shortName='PANEC'),\n",
       " TypeOfCancer(cancerTypeId='panet', dedicatedColor='Purple', name='Pancreatic Neuroendocrine Tumor', parent='pancreas', shortName='PANET'),\n",
       " TypeOfCancer(cancerTypeId='paos', dedicatedColor='White', name='Parosteal Osteosarcoma', parent='os', shortName='PAOS'),\n",
       " TypeOfCancer(cancerTypeId='past', dedicatedColor='Gray', name='Pilocytic Astrocytoma', parent='encg', shortName='PAST'),\n",
       " TypeOfCancer(cancerTypeId='pb', dedicatedColor='Purple', name='Pancreatoblastoma', parent='pancreas', shortName='PB'),\n",
       " TypeOfCancer(cancerTypeId='pbl', dedicatedColor='Gray', name='Pineoblastoma', parent='pint', shortName='PBL'),\n",
       " TypeOfCancer(cancerTypeId='pbs', dedicatedColor='HotPink', name='Breast Sarcoma', parent='breast', shortName='PBS'),\n",
       " TypeOfCancer(cancerTypeId='pbt', dedicatedColor='Gray', name='Primary Brain Tumor', parent='mbt', shortName='PBT'),\n",
       " TypeOfCancer(cancerTypeId='pcaectcl', dedicatedColor='LimeGreen', name='Primary Cutaneous CD8 Positive Aggressive Epidermotropic Cytotoxic T-Cell Lymphoma', parent='mtnn', shortName='PCAECTCL'),\n",
       " TypeOfCancer(cancerTypeId='pcalcl', dedicatedColor='LimeGreen', name='Primary Cutaneous Anaplastic Large Cell Lymphoma', parent='pclpd', shortName='PCALCL'),\n",
       " TypeOfCancer(cancerTypeId='pcatcl', dedicatedColor='LimeGreen', name='Primary Cutaneous Acral CD8 Positive T-Cell Lymphoma', parent='mtnn', shortName='PCATCL'),\n",
       " TypeOfCancer(cancerTypeId='pcfcl', dedicatedColor='LimeGreen', name='Primary Cutaneous Follicle Center Lymphoma', parent='mbn', shortName='PCFCL'),\n",
       " TypeOfCancer(cancerTypeId='pcgdtcl', dedicatedColor='LimeGreen', name='Primary Cutaneous Gamma Delta T-Cell Lymphoma', parent='mtnn', shortName='PCGDTCL'),\n",
       " TypeOfCancer(cancerTypeId='pcgp', dedicatedColor='Gray', name='Craniopharyngioma, Papillary Type', parent='selt', shortName='PCGP'),\n",
       " TypeOfCancer(cancerTypeId='pclbcllt', dedicatedColor='LimeGreen', name='Primary Cutaneous DLBCL, Leg Type', parent='mbn', shortName='PCLBCLLT'),\n",
       " TypeOfCancer(cancerTypeId='pclpd', dedicatedColor='LimeGreen', name='Primary Cutaneous CD30 Positive T-Cell Lymphoproliferative Disorders', parent='mtnn', shortName='PCLPD'),\n",
       " TypeOfCancer(cancerTypeId='pcm', dedicatedColor='LimeGreen', name='Plasma Cell Myeloma', parent='mbn', shortName='PCM'),\n",
       " TypeOfCancer(cancerTypeId='pcnsl', dedicatedColor='LimeGreen', name='Primary DLBCL of the central nervous system', parent='mbn', shortName='PCNSL'),\n",
       " TypeOfCancer(cancerTypeId='pcnsm', dedicatedColor='LightSkyBlue', name='Primary CNS Melanoma', parent='pcnsmt', shortName='PCNSM'),\n",
       " TypeOfCancer(cancerTypeId='pcnsmt', dedicatedColor='Gray', name='Primary CNS Melanocytic Tumors', parent='brain', shortName='PCNSMT'),\n",
       " TypeOfCancer(cancerTypeId='pcsmtpld', dedicatedColor='LimeGreen', name='Primary Cutaneous CD4 Positive Small/Medium T-Cell Lymphoproliferative Disorder', parent='mtnn', shortName='PCSMTPLD'),\n",
       " TypeOfCancer(cancerTypeId='pd', dedicatedColor='HotPink', name='Paget Disease of the Nipple', parent='dcis', shortName='PD'),\n",
       " TypeOfCancer(cancerTypeId='pdc', dedicatedColor='Black', name='Poorly Differentiated Carcinoma, NOS', parent='cup', shortName='PDC'),\n",
       " TypeOfCancer(cancerTypeId='pecoma', dedicatedColor='LightYellow', name='Perivascular Epithelioid Cell Tumor', parent='soft_tissue', shortName='PECOMA'),\n",
       " TypeOfCancer(cancerTypeId='pel', dedicatedColor='LimeGreen', name='Primary Effusion Lymphoma', parent='mbn', shortName='PEL'),\n",
       " TypeOfCancer(cancerTypeId='pemeso', dedicatedColor='Green', name='Peritoneal Mesothelioma', parent='peritoneum', shortName='PEMESO'),\n",
       " TypeOfCancer(cancerTypeId='penis', dedicatedColor='Blue', name='Penis', parent='tissue', shortName='PENIS'),\n",
       " TypeOfCancer(cancerTypeId='peos', dedicatedColor='White', name='Periosteal Osteosarcoma', parent='os', shortName='PEOS'),\n",
       " TypeOfCancer(cancerTypeId='peritoneum', dedicatedColor='Green', name='Peritoneum', parent='tissue', shortName='PERITONEUM'),\n",
       " TypeOfCancer(cancerTypeId='perl', dedicatedColor='LightSalmon', name='Pure Erythroid Leukemia', parent='amlnos', shortName='PERL'),\n",
       " TypeOfCancer(cancerTypeId='pgng', dedicatedColor='Gray', name='Paraganglioma', parent='soft_tissue', shortName='PGNG'),\n",
       " TypeOfCancer(cancerTypeId='pgnt', dedicatedColor='Gray', name='Papillary Glioneuronal Tumor', parent='mnet', shortName='PGNT'),\n",
       " TypeOfCancer(cancerTypeId='phc', dedicatedColor='Purple', name='Pheochromocytoma', parent='adrenal_gland', shortName='PHC'),\n",
       " TypeOfCancer(cancerTypeId='phch', dedicatedColor='Green', name='Perihilar Cholangiocarcinoma', parent='chol', shortName='PHCH'),\n",
       " TypeOfCancer(cancerTypeId='phm', dedicatedColor='PeachPuff', name='Partial Hydatidiform Mole', parent='mp', shortName='PHM'),\n",
       " TypeOfCancer(cancerTypeId='phptld', dedicatedColor='LimeGreen', name='Plasmacytic Hyperplasia PTLD', parent='ptld', shortName='PHPTLD'),\n",
       " TypeOfCancer(cancerTypeId='pinc', dedicatedColor='Gray', name='Pineocytoma', parent='pint', shortName='PINC'),\n",
       " TypeOfCancer(cancerTypeId='pint', dedicatedColor='Gray', name='Pineal Tumor', parent='brain', shortName='PINT'),\n",
       " TypeOfCancer(cancerTypeId='plbl', dedicatedColor='LimeGreen', name='Plasmablastic Lymphoma', parent='mbn', shortName='PLBL'),\n",
       " TypeOfCancer(cancerTypeId='plbmeso', dedicatedColor='Blue', name='Pleural Mesothelioma, Biphasic Type', parent='plmeso', shortName='PLBMESO'),\n",
       " TypeOfCancer(cancerTypeId='plemeso', dedicatedColor='Blue', name='Pleural Mesothelioma, Epithelioid Type', parent='plmeso', shortName='PLEMESO'),\n",
       " TypeOfCancer(cancerTypeId='pleura', dedicatedColor='Blue', name='Pleura', parent='tissue', shortName='PLEURA'),\n",
       " TypeOfCancer(cancerTypeId='plls', dedicatedColor='LightYellow', name='Pleomorphic Liposarcoma', parent='lipo', shortName='PLLS'),\n",
       " TypeOfCancer(cancerTypeId='plmeso', dedicatedColor='Blue', name='Pleural Mesothelioma', parent='pleura', shortName='PLMESO'),\n",
       " TypeOfCancer(cancerTypeId='plrms', dedicatedColor='LightYellow', name='Pleomorphic Rhabdomyosarcoma', parent='rms', shortName='PLRMS'),\n",
       " TypeOfCancer(cancerTypeId='plsmeso', dedicatedColor='Blue', name='Pleural Mesothelioma, Sarcomatoid Type', parent='plmeso', shortName='PLSMESO'),\n",
       " TypeOfCancer(cancerTypeId='pma', dedicatedColor='Gray', name='Pilomyxoid Astrocytoma', parent='encg', shortName='PMA'),\n",
       " TypeOfCancer(cancerTypeId='pmbl', dedicatedColor='LimeGreen', name='Primary Mediastinal (Thymic) Large B-Cell Lymphoma', parent='mbn', shortName='PMBL'),\n",
       " TypeOfCancer(cancerTypeId='pmf', dedicatedColor='LightSalmon', name='Primary Myelofibrosis', parent='mpn', shortName='PMF'),\n",
       " TypeOfCancer(cancerTypeId='pmfofs', dedicatedColor='LightSalmon', name='Primary Myelofibrosis,Overt Fibrotic Stage', parent='pmf', shortName='PMFOFS'),\n",
       " TypeOfCancer(cancerTypeId='pmfpes', dedicatedColor='LightSalmon', name='Primary Myelofibrosis, Prefibrotic/Early Stage', parent='pmf', shortName='PMFPES'),\n",
       " TypeOfCancer(cancerTypeId='pmhe', dedicatedColor='LightYellow', name='Pseudomyogenic Hemangioendothelioma', parent='soft_tissue', shortName='PMHE'),\n",
       " TypeOfCancer(cancerTypeId='pnet', dedicatedColor='Gray', name='Primitive Neuroectodermal Tumor', parent='embt', shortName='PNET'),\n",
       " TypeOfCancer(cancerTypeId='pns', dedicatedColor='Gray', name='Peripheral Nervous System', parent='tissue', shortName='PNS'),\n",
       " TypeOfCancer(cancerTypeId='poca', dedicatedColor='Black', name='Porocarcinoma/Spiroadenocarcinoma', parent='skin', shortName='POCA'),\n",
       " TypeOfCancer(cancerTypeId='poro', dedicatedColor='Black', name='Poroma/Acrospiroma', parent='skin', shortName='PORO'),\n",
       " TypeOfCancer(cancerTypeId='ppb', dedicatedColor='Gainsboro', name='Pleuropulmonary Blastoma', parent='lung', shortName='PPB'),\n",
       " TypeOfCancer(cancerTypeId='ppct', dedicatedColor='Black', name='Proliferating Pilar Cystic Tumor', parent='skin', shortName='PPCT'),\n",
       " TypeOfCancer(cancerTypeId='ppm', dedicatedColor='Gray', name='Papillary Meningioma', parent='mngt', shortName='PPM'),\n",
       " TypeOfCancer(cancerTypeId='pptid', dedicatedColor='Gray', name='Pineal Parenchymal Tumor of Intermediate Differentiation', parent='pint', shortName='PPTID'),\n",
       " TypeOfCancer(cancerTypeId='pptld', dedicatedColor='LimeGreen', name='Polymorphic PTLD', parent='ptld', shortName='PPTLD'),\n",
       " TypeOfCancer(cancerTypeId='prad', dedicatedColor='Cyan', name='Prostate Adenocarcinoma', parent='prostate', shortName='PRAD'),\n",
       " TypeOfCancer(cancerTypeId='prcc', dedicatedColor='Orange', name='Papillary Renal Cell Carcinoma', parent='nccrcc', shortName='PRCC'),\n",
       " TypeOfCancer(cancerTypeId='prne', dedicatedColor='Cyan', name='Prostate Neuroendocrine Carcinoma', parent='prostate', shortName='PRNE'),\n",
       " TypeOfCancer(cancerTypeId='prnet', dedicatedColor='Gray', name='Primary Neuroepithelial Tumor', parent='mbt', shortName='PRNET'),\n",
       " TypeOfCancer(cancerTypeId='prostate', dedicatedColor='Cyan', name='Prostate', parent='tissue', shortName='PROSTATE'),\n",
       " TypeOfCancer(cancerTypeId='prsc', dedicatedColor='Cyan', name='Prostate Squamous Cell Carcinoma', parent='prostate', shortName='PRSC'),\n",
       " TypeOfCancer(cancerTypeId='prscc', dedicatedColor='Cyan', name='Prostate Small Cell Carcinoma', parent='prostate', shortName='PRSCC'),\n",
       " TypeOfCancer(cancerTypeId='psc', dedicatedColor='Purple', name='Serous Cystadenoma of the Pancreas', parent='pact', shortName='PSC'),\n",
       " TypeOfCancer(cancerTypeId='pscc', dedicatedColor='Blue', name='Penile Squamous Cell Carcinoma', parent='penis', shortName='PSCC'),\n",
       " TypeOfCancer(cancerTypeId='psec', dedicatedColor='Green', name='Peritoneal Serous Carcinoma', parent='peritoneum', shortName='PSEC'),\n",
       " TypeOfCancer(cancerTypeId='pstad', dedicatedColor='LightSkyBlue', name='Papillary Stomach Adenocarcinoma', parent='stad', shortName='PSTAD'),\n",
       " TypeOfCancer(cancerTypeId='pstt', dedicatedColor='PeachPuff', name='Placental Site Trophoblastic Tumor', parent='gtd', shortName='PSTT'),\n",
       " TypeOfCancer(cancerTypeId='pt', dedicatedColor='HotPink', name='Phyllodes Tumor of the Breast', parent='bfn', shortName='PT'),\n",
       " TypeOfCancer(cancerTypeId='ptad', dedicatedColor='Gray', name='Pituitary Adenoma', parent='selt', shortName='PTAD'),\n",
       " TypeOfCancer(cancerTypeId='ptca', dedicatedColor='Gray', name='Pituitary Carcinoma', parent='selt', shortName='PTCA'),\n",
       " TypeOfCancer(cancerTypeId='ptcl', dedicatedColor='LimeGreen', name='Peripheral T-Cell lymphoma, NOS', parent='mtnn', shortName='PTCL'),\n",
       " TypeOfCancer(cancerTypeId='ptcy', dedicatedColor='Gray', name='Pituicytoma', parent='selt', shortName='PTCY'),\n",
       " TypeOfCancer(cancerTypeId='ptes', dedicatedColor='LightYellow', name='Proximal-Type Epithelioid Sarcoma', parent='epis', shortName='PTES'),\n",
       " TypeOfCancer(cancerTypeId='ptfl', dedicatedColor='LimeGreen', name='Pediatric-Type Follicular Lymphoma', parent='mbn', shortName='PTFL'),\n",
       " TypeOfCancer(cancerTypeId='pth', dedicatedColor='DarkRed', name='Parathyroid Cancer', parent='head_neck', shortName='PTH'),\n",
       " TypeOfCancer(cancerTypeId='pthc', dedicatedColor='DarkRed', name='Parathyroid Carcinoma', parent='pth', shortName='PTHC'),\n",
       " TypeOfCancer(cancerTypeId='ptld', dedicatedColor='LimeGreen', name='Posttransplant Lymphoproliferative Disorders', parent='lnm', shortName='PTLD'),\n",
       " TypeOfCancer(cancerTypeId='ptpr', dedicatedColor='Gray', name='Papillary Tumor of the Pineal Region', parent='pint', shortName='PTPR'),\n",
       " TypeOfCancer(cancerTypeId='pv', dedicatedColor='LightSalmon', name='Polycythemia Vera', parent='mpn', shortName='PV'),\n",
       " TypeOfCancer(cancerTypeId='pvmf', dedicatedColor='LightSalmon', name='Polycythaemia Vera Myelofibrosis', parent='pv', shortName='PVMF'),\n",
       " TypeOfCancer(cancerTypeId='pxa', dedicatedColor='Gray', name='Pleomorphic Xanthoastrocytoma', parent='encg', shortName='PXA'),\n",
       " TypeOfCancer(cancerTypeId='raml', dedicatedColor='Orange', name='Renal Angiomyolipoma', parent='nccrcc', shortName='RAML'),\n",
       " TypeOfCancer(cancerTypeId='ras', dedicatedColor='LightYellow', name='Radiation-Associated Sarcoma', parent='soft_tissue', shortName='RAS'),\n",
       " TypeOfCancer(cancerTypeId='rbl', dedicatedColor='Green', name='Retinoblastoma', parent='eye', shortName='RBL'),\n",
       " TypeOfCancer(cancerTypeId='rcc', dedicatedColor='Orange', name='Renal Cell Carcinoma', parent='kidney', shortName='RCC'),\n",
       " TypeOfCancer(cancerTypeId='rcsnos', dedicatedColor='LightYellow', name='Round Cell Sarcoma, NOS', parent='soft_tissue', shortName='RCSNOS'),\n",
       " TypeOfCancer(cancerTypeId='rcyc', dedicatedColor='LightSalmon', name='Refractory Cytopenia of Childhood', parent='mds', shortName='RCYC'),\n",
       " TypeOfCancer(cancerTypeId='rdd', dedicatedColor='LightSalmon', name='Rosai-Dorfman Disease', parent='hdcn', shortName='RDD'),\n",
       " TypeOfCancer(cancerTypeId='read', dedicatedColor='SaddleBrown', name='Rectal Adenocarcinoma', parent='coadread', shortName='READ'),\n",
       " TypeOfCancer(cancerTypeId='rgnt', dedicatedColor='Gray', name='Rosette-forming Glioneuronal Tumor of the Fourth Ventricle', parent='mnet', shortName='RGNT'),\n",
       " TypeOfCancer(cancerTypeId='rhm', dedicatedColor='Gray', name='Rhabdoid Meningioma', parent='mngt', shortName='RHM'),\n",
       " TypeOfCancer(cancerTypeId='rlclc', dedicatedColor='Gainsboro', name='Large Cell Lung Carcinoma With Rhabdoid Phenotype', parent='lclc', shortName='RLCLC'),\n",
       " TypeOfCancer(cancerTypeId='rms', dedicatedColor='LightYellow', name='Rhabdomyosarcoma', parent='soft_tissue', shortName='RMS'),\n",
       " TypeOfCancer(cancerTypeId='rnet', dedicatedColor='Orange', name='Renal Neuroendocrine Tumor', parent='kidney', shortName='RNET'),\n",
       " TypeOfCancer(cancerTypeId='rocy', dedicatedColor='Orange', name='Renal Oncocytoma', parent='nccrcc', shortName='ROCY'),\n",
       " TypeOfCancer(cancerTypeId='rscc', dedicatedColor='Orange', name='Renal Small Cell Carcinoma', parent='nccrcc', shortName='RSCC'),\n",
       " TypeOfCancer(cancerTypeId='rwdnet', dedicatedColor='SaddleBrown', name='Well-Differentiated Neuroendocrine Tumor of the Rectum', parent='ginet', shortName='RWDNET'),\n",
       " TypeOfCancer(cancerTypeId='saad', dedicatedColor='DarkRed', name='Salivary Adenocarcinoma', parent='saca', shortName='SAAD'),\n",
       " TypeOfCancer(cancerTypeId='saca', dedicatedColor='DarkRed', name='Salivary Carcinoma', parent='head_neck', shortName='SACA'),\n",
       " TypeOfCancer(cancerTypeId='sarcl', dedicatedColor='Gainsboro', name='Sarcomatoid Carcinoma of the Lung', parent='lung', shortName='SARCL'),\n",
       " TypeOfCancer(cancerTypeId='sarcnos', dedicatedColor='LightYellow', name='Sarcoma, NOS', parent='soft_tissue', shortName='SARCNOS'),\n",
       " TypeOfCancer(cancerTypeId='sbc', dedicatedColor='SaddleBrown', name='Small Bowel Cancer', parent='bowel', shortName='SBC'),\n",
       " TypeOfCancer(cancerTypeId='sbl', dedicatedColor='DarkRed', name='Sialoblastoma', parent='head_neck', shortName='SBL'),\n",
       " TypeOfCancer(cancerTypeId='sblu', dedicatedColor='LimeGreen', name='Splenic B-Cell Lymphoma/Leukemia, Unclassifiable', parent='mbn', shortName='SBLU'),\n",
       " TypeOfCancer(cancerTypeId='sbmov', dedicatedColor='LightBlue', name='Serous Borderline Ovarian Tumor, Micropapillary', parent='ovt', shortName='SBMOV'),\n",
       " TypeOfCancer(cancerTypeId='sbov', dedicatedColor='LightBlue', name='Serous Borderline Ovarian Tumor', parent='ovt', shortName='SBOV'),\n",
       " TypeOfCancer(cancerTypeId='sbwdnet', dedicatedColor='SaddleBrown', name='Small Bowel Well-Differentiated Neuroendocrine Tumor', parent='ginet', shortName='SBWDNET'),\n",
       " TypeOfCancer(cancerTypeId='scb', dedicatedColor='Yellow', name='Sarcomatoid Carcinoma of the Urinary Bladder', parent='bladder', shortName='SCB'),\n",
       " TypeOfCancer(cancerTypeId='scbc', dedicatedColor='Yellow', name='Small Cell Bladder Cancer', parent='bladder', shortName='SCBC'),\n",
       " TypeOfCancer(cancerTypeId='scce', dedicatedColor='Teal', name='Small Cell Carcinoma of the Cervix', parent='cervix', shortName='SCCE'),\n",
       " TypeOfCancer(cancerTypeId='sccnos', dedicatedColor='Black', name='Squamous Cell Carcinoma, NOS', parent='cup', shortName='SCCNOS'),\n",
       " TypeOfCancer(cancerTypeId='scco', dedicatedColor='LightBlue', name='Small Cell Carcinoma of the Ovary', parent='ovt', shortName='SCCO'),\n",
       " TypeOfCancer(cancerTypeId='sccrcc', dedicatedColor='Orange', name='Renal Clear Cell Carcinoma with Sarcomatoid Features', parent='ccrcc', shortName='SCCRCC'),\n",
       " TypeOfCancer(cancerTypeId='scemu', dedicatedColor='Teal', name='Signet Ring Mucinous Carcinoma', parent='cemu', shortName='SCEMU'),\n",
       " TypeOfCancer(cancerTypeId='scgbc', dedicatedColor='Green', name='Small Cell Gallbladder Carcinoma', parent='gbc', shortName='SCGBC'),\n",
       " TypeOfCancer(cancerTypeId='scgbm', dedicatedColor='Gray', name='Small Cell Glioblastoma', parent='gb', shortName='SCGBM'),\n",
       " TypeOfCancer(cancerTypeId='schw', dedicatedColor='Gray', name='Schwannoma', parent='nst', shortName='SCHW'),\n",
       " TypeOfCancer(cancerTypeId='sclc', dedicatedColor='Gainsboro', name='Small Cell Lung Cancer', parent='lnet', shortName='SCLC'),\n",
       " TypeOfCancer(cancerTypeId='sclg', dedicatedColor='Green', name='Squamous Cell Carcinoma of the Lacrimal Gland', parent='lgt', shortName='SCLG'),\n",
       " TypeOfCancer(cancerTypeId='scoah', dedicatedColor='Gray', name='Spindle Cell Oncocytoma of the Adenohypophysis', parent='selt', shortName='SCOAH'),\n",
       " TypeOfCancer(cancerTypeId='scos', dedicatedColor='White', name='Small Cell Osteosarcoma', parent='os', shortName='SCOS'),\n",
       " TypeOfCancer(cancerTypeId='scrms', dedicatedColor='LightYellow', name='Spindle Cell Rhabdomyosarcoma', parent='rms', shortName='SCRMS'),\n",
       " TypeOfCancer(cancerTypeId='scsrms', dedicatedColor='LightYellow', name='Spindle Cell/Sclerosing Rhabdomyosarcoma', parent='rms', shortName='SCSRMS'),\n",
       " TypeOfCancer(cancerTypeId='scst', dedicatedColor='LightBlue', name='Sex Cord Stromal Tumor', parent='ovary', shortName='SCST'),\n",
       " TypeOfCancer(cancerTypeId='sct', dedicatedColor='LightBlue', name='Steroid Cell Tumor, NOS', parent='scst', shortName='SCT'),\n",
       " TypeOfCancer(cancerTypeId='scup', dedicatedColor='Black', name='Small Cell Carcinoma of Unknown Primary', parent='cup', shortName='SCUP'),\n",
       " TypeOfCancer(cancerTypeId='sdca', dedicatedColor='DarkRed', name='Salivary Duct Carcinoma', parent='saca', shortName='SDCA'),\n",
       " TypeOfCancer(cancerTypeId='sdrpl', dedicatedColor='LimeGreen', name='Splenic Diffuse Red Pulp Small B-Cell Lymphoma', parent='sblu', shortName='SDRPL'),\n",
       " TypeOfCancer(cancerTypeId='seba', dedicatedColor='Black', name='Sebaceous Carcinoma', parent='skin', shortName='SEBA'),\n",
       " TypeOfCancer(cancerTypeId='sebvtlc', dedicatedColor='LimeGreen', name='Systemic EBV Positive T-Cell Lymphoma of Childhood', parent='mtnn', shortName='SEBVTLC'),\n",
       " TypeOfCancer(cancerTypeId='secos', dedicatedColor='White', name='Secondary Osteosarcoma', parent='os', shortName='SECOS'),\n",
       " TypeOfCancer(cancerTypeId='sef', dedicatedColor='LightYellow', name='Sclerosing Epithelioid Fibrosarcoma', parent='fibs', shortName='SEF'),\n",
       " TypeOfCancer(cancerTypeId='selt', dedicatedColor='Gray', name='Sellar Tumor', parent='brain', shortName='SELT'),\n",
       " TypeOfCancer(cancerTypeId='sem', dedicatedColor='Red', name='Seminoma', parent='testis', shortName='SEM'),\n",
       " TypeOfCancer(cancerTypeId='sft', dedicatedColor='LightYellow', name='Solitary Fibrous Tumor/Hemangiopericytoma', parent='soft_tissue', shortName='SFT'),\n",
       " TypeOfCancer(cancerTypeId='sftcns', dedicatedColor='Gray', name='Solitary Fibrous Tumor of the Central Nervous System', parent='mngt', shortName='SFTCNS'),\n",
       " TypeOfCancer(cancerTypeId='sgad', dedicatedColor='Black', name='Sweat Gland Adenocarcinoma', parent='skin', shortName='SGAD'),\n",
       " TypeOfCancer(cancerTypeId='sgo', dedicatedColor='DarkRed', name='Salivary Gland Oncocytoma', parent='saca', shortName='SGO'),\n",
       " TypeOfCancer(cancerTypeId='sgttl', dedicatedColor='Gainsboro', name='Salivary Gland-Type Tumor of the Lung', parent='nsclc', shortName='SGTTL'),\n",
       " TypeOfCancer(cancerTypeId='sic', dedicatedColor='SaddleBrown', name='Small Intestinal Carcinoma', parent='bowel', shortName='SIC'),\n",
       " TypeOfCancer(cancerTypeId='skac', dedicatedColor='Black', name='Skin Adnexal Carcinoma', parent='skin', shortName='SKAC'),\n",
       " TypeOfCancer(cancerTypeId='skcm', dedicatedColor='Black', name='Cutaneous Melanoma', parent='mel', shortName='SKCM'),\n",
       " TypeOfCancer(cancerTypeId='skcn', dedicatedColor='Black', name='Congenital Nevus', parent='mel', shortName='SKCN'),\n",
       " TypeOfCancer(cancerTypeId='skin', dedicatedColor='Black', name='Skin', parent='tissue', shortName='SKIN'),\n",
       " TypeOfCancer(cancerTypeId='sklmm', dedicatedColor='Black', name='Lentigo Maligna Melanoma', parent='mel', shortName='SKLMM'),\n",
       " TypeOfCancer(cancerTypeId='slct', dedicatedColor='LightBlue', name='Sertoli-Leydig Cell Tumor', parent='scst', shortName='SLCT'),\n",
       " TypeOfCancer(cancerTypeId='sm', dedicatedColor='LightSalmon', name='Systemic Mastocytosis', parent='mcd', shortName='SM'),\n",
       " TypeOfCancer(cancerTypeId='smahn', dedicatedColor='LightSalmon', name='Systemic Mastocytosis with an Associated Hematological Neoplasm', parent='sm', shortName='SMAHN'),\n",
       " TypeOfCancer(cancerTypeId='smmcl', dedicatedColor='LightSalmon', name='Mast Cell Leukemia', parent='sm', shortName='SMMCL'),\n",
       " TypeOfCancer(cancerTypeId='smn', dedicatedColor='LightSkyBlue', name='Smooth Muscle Neoplasm, NOS', parent='stomach', shortName='SMN'),\n",
       " TypeOfCancer(cancerTypeId='smzl', dedicatedColor='LimeGreen', name='Splenic Marginal Zone Lymphoma', parent='mzl', shortName='SMZL'),\n",
       " TypeOfCancer(cancerTypeId='sna', dedicatedColor='DarkRed', name='Sinonasal Adenocarcinoma', parent='ohnca', shortName='SNA'),\n",
       " TypeOfCancer(cancerTypeId='snsc', dedicatedColor='DarkRed', name='Sinonasal Squamous Cell Carcinoma', parent='hnsc', shortName='SNSC'),\n",
       " TypeOfCancer(cancerTypeId='snuc', dedicatedColor='DarkRed', name='Sinonasal Undifferentiated Carcinoma', parent='ohnca', shortName='SNUC'),\n",
       " TypeOfCancer(cancerTypeId='soc', dedicatedColor='LightBlue', name='Serous Ovarian Cancer', parent='ovt', shortName='SOC'),\n",
       " TypeOfCancer(cancerTypeId='soft_tissue', dedicatedColor='LightYellow', name='Soft Tissue', parent='tissue', shortName='SOFT_TISSUE'),\n",
       " TypeOfCancer(cancerTypeId='spb', dedicatedColor='LimeGreen', name='Solitary Plasmacytoma of Bone', parent='mbn', shortName='SPB'),\n",
       " TypeOfCancer(cancerTypeId='spc', dedicatedColor='HotPink', name='Solid Papillary Carcinoma of the Breast', parent='brca', shortName='SPC'),\n",
       " TypeOfCancer(cancerTypeId='spcc', dedicatedColor='Gainsboro', name='Spindle Cell Carcinoma of the Lung', parent='nsclc', shortName='SPCC'),\n",
       " TypeOfCancer(cancerTypeId='spdac', dedicatedColor='LightSkyBlue', name='Poorly Differentiated Carcinoma of the Stomach', parent='ustad', shortName='SPDAC'),\n",
       " TypeOfCancer(cancerTypeId='spir', dedicatedColor='Black', name='Spiroma/Spiradenoma', parent='skin', shortName='SPIR'),\n",
       " TypeOfCancer(cancerTypeId='spn', dedicatedColor='Purple', name='Solid Pseudopapillary Neoplasm of the Pancreas', parent='pancreas', shortName='SPN'),\n",
       " TypeOfCancer(cancerTypeId='sptcl', dedicatedColor='LimeGreen', name='Subcutaneous Panniculitis-Like T-Cell Lymphoma', parent='mtnn', shortName='SPTCL'),\n",
       " TypeOfCancer(cancerTypeId='spzm', dedicatedColor='Black', name='Spitzoid Melanoma', parent='mel', shortName='SPZM'),\n",
       " TypeOfCancer(cancerTypeId='srap', dedicatedColor='SaddleBrown', name='Signet Ring Cell Type of the Appendix', parent='apad', shortName='SRAP'),\n",
       " TypeOfCancer(cancerTypeId='srcbc', dedicatedColor='Yellow', name='Plasmacytoid/Signet Ring Cell Bladder Carcinoma', parent='bladder', shortName='SRCBC'),\n",
       " TypeOfCancer(cancerTypeId='srcc', dedicatedColor='Orange', name='Sarcomatoid Renal Cell Carcinoma', parent='nccrcc', shortName='SRCC'),\n",
       " TypeOfCancer(cancerTypeId='srccr', dedicatedColor='SaddleBrown', name='Signet Ring Cell Adenocarcinoma of the Colon and Rectum', parent='coadread', shortName='SRCCR'),\n",
       " TypeOfCancer(cancerTypeId='ss', dedicatedColor='LimeGreen', name='Sezary Syndrome', parent='mtnn', shortName='SS'),\n",
       " TypeOfCancer(cancerTypeId='ssm', dedicatedColor='LightSalmon', name='Smoldering Systemic Mastocytosis', parent='sm', shortName='SSM'),\n",
       " TypeOfCancer(cancerTypeId='ssrcc', dedicatedColor='LightSkyBlue', name='Signet Ring Cell Carcinoma of the Stomach', parent='ustad', shortName='SSRCC'),\n",
       " TypeOfCancer(cancerTypeId='stad', dedicatedColor='LightSkyBlue', name='Stomach Adenocarcinoma', parent='egc', shortName='STAD'),\n",
       " TypeOfCancer(cancerTypeId='stas', dedicatedColor='LightSkyBlue', name='Adenosquamous Carcinoma of the Stomach', parent='egc', shortName='STAS'),\n",
       " TypeOfCancer(cancerTypeId='stmyec', dedicatedColor='LightYellow', name='Soft Tissue Myoepithelial Carcinoma', parent='soft_tissue', shortName='STMYEC'),\n",
       " TypeOfCancer(cancerTypeId='stomach', dedicatedColor='LightSkyBlue', name='Esophagus/Stomach', parent='tissue', shortName='STOMACH'),\n",
       " TypeOfCancer(cancerTypeId='stsc', dedicatedColor='LightSkyBlue', name='Small Cell Carcinoma of the Stomach', parent='egc', shortName='STSC'),\n",
       " TypeOfCancer(cancerTypeId='sube', dedicatedColor='Gray', name='Subependymoma', parent='epmt', shortName='SUBE'),\n",
       " TypeOfCancer(cancerTypeId='swdnet', dedicatedColor='LightSkyBlue', name='Well-Differentiated Neuroendocrine Tumors of the Stomach', parent='ginetes', shortName='SWDNET'),\n",
       " TypeOfCancer(cancerTypeId='syns', dedicatedColor='LightYellow', name='Synovial Sarcoma', parent='soft_tissue', shortName='SYNS'),\n",
       " TypeOfCancer(cancerTypeId='tac', dedicatedColor='SaddleBrown', name='Tubular Adenoma of the Colon', parent='bowel', shortName='TAC'),\n",
       " TypeOfCancer(cancerTypeId='tam', dedicatedColor='LightSalmon', name='Transient Abnormal Myelopoiesis', parent='mprds', shortName='TAM'),\n",
       " TypeOfCancer(cancerTypeId='taml', dedicatedColor='LightSalmon', name='Therapy-Related Acute Myeloid Leukemia', parent='tmn', shortName='TAML'),\n",
       " TypeOfCancer(cancerTypeId='tcca', dedicatedColor='Red', name='Choriocarcinoma', parent='nsgct', shortName='TCCA'),\n",
       " TypeOfCancer(cancerTypeId='teos', dedicatedColor='White', name='Telangiectatic Osteosarcoma', parent='os', shortName='TEOS'),\n",
       " TypeOfCancer(cancerTypeId='testis', dedicatedColor='Red', name='Testis', parent='tissue', shortName='TESTIS'),\n",
       " TypeOfCancer(cancerTypeId='tet', dedicatedColor='Purple', name='Thymic Epithelial Tumor', parent='thymus', shortName='TET'),\n",
       " TypeOfCancer(cancerTypeId='tgct', dedicatedColor='LightYellow', name='Tenosynovial Giant Cell Tumor Diffuse Type', parent='soft_tissue', shortName='TGCT'),\n",
       " TypeOfCancer(cancerTypeId='thap', dedicatedColor='Teal', name='Anaplastic Thyroid Cancer', parent='thyroid', shortName='THAP'),\n",
       " TypeOfCancer(cancerTypeId='thfo', dedicatedColor='Teal', name='Follicular Thyroid Cancer', parent='wdtc', shortName='THFO'),\n",
       " TypeOfCancer(cancerTypeId='thhc', dedicatedColor='Teal', name='Hurthle Cell Thyroid Cancer', parent='thyroid', shortName='THHC'),\n",
       " TypeOfCancer(cancerTypeId='thme', dedicatedColor='Teal', name='Medullary Thyroid Cancer', parent='thyroid', shortName='THME'),\n",
       " TypeOfCancer(cancerTypeId='thpa', dedicatedColor='Teal', name='Papillary Thyroid Cancer', parent='wdtc', shortName='THPA'),\n",
       " TypeOfCancer(cancerTypeId='thpd', dedicatedColor='Teal', name='Poorly Differentiated Thyroid Cancer', parent='thyroid', shortName='THPD'),\n",
       " TypeOfCancer(cancerTypeId='thrlbcl', dedicatedColor='LimeGreen', name='T-Cell/Histiocyte-Rich Large B-Cell Lymphoma', parent='mbn', shortName='THRLBCL'),\n",
       " TypeOfCancer(cancerTypeId='thyc', dedicatedColor='Purple', name='Thymic Carcinoma', parent='tet', shortName='THYC'),\n",
       " TypeOfCancer(cancerTypeId='thym', dedicatedColor='Purple', name='Thymoma', parent='tet', shortName='THYM'),\n",
       " TypeOfCancer(cancerTypeId='thymus', dedicatedColor='Purple', name='Thymus', parent='tissue', shortName='THYMUS'),\n",
       " TypeOfCancer(cancerTypeId='thyroid', dedicatedColor='Teal', name='Thyroid', parent='tissue', shortName='THYROID'),\n",
       " TypeOfCancer(cancerTypeId='tissue', dedicatedColor='null', name='Tissue', parent='null', shortName='TISSUE'),\n",
       " TypeOfCancer(cancerTypeId='tlgl', dedicatedColor='LimeGreen', name='T-Cell Large Granular Lymphocytic Leukemia', parent='mtnn', shortName='TLGL'),\n",
       " TypeOfCancer(cancerTypeId='tll', dedicatedColor='LimeGreen', name='T-Lymphoblastic Leukemia/Lymphoma', parent='lnm', shortName='TLL'),\n",
       " TypeOfCancer(cancerTypeId='tlym', dedicatedColor='Red', name='Testicular Lymphoma', parent='testis', shortName='TLYM'),\n",
       " TypeOfCancer(cancerTypeId='tmds', dedicatedColor='LightSalmon', name='Therapy-Related Myelodysplastic Syndrome', parent='tmn', shortName='TMDS'),\n",
       " TypeOfCancer(cancerTypeId='tmeso', dedicatedColor='Red', name='Testicular Mesothelioma', parent='testis', shortName='TMESO'),\n",
       " TypeOfCancer(cancerTypeId='tmn', dedicatedColor='LightSalmon', name='Therapy-Related Myeloid Neoplasms', parent='aml', shortName='TMN'),\n",
       " TypeOfCancer(cancerTypeId='tnet', dedicatedColor='Purple', name='Thymic Neuroendocrine Tumor', parent='thymus', shortName='TNET'),\n",
       " TypeOfCancer(cancerTypeId='tpll', dedicatedColor='LimeGreen', name='T-Cell Prolymphocytic Leukemia', parent='mtnn', shortName='TPLL'),\n",
       " TypeOfCancer(cancerTypeId='trcc', dedicatedColor='Orange', name='Translocation-Associated Renal Cell Carcinoma', parent='nccrcc', shortName='TRCC'),\n",
       " TypeOfCancer(cancerTypeId='tscst', dedicatedColor='Red', name='Sex Cord Stromal Tumor', parent='testis', shortName='TSCST'),\n",
       " TypeOfCancer(cancerTypeId='tstad', dedicatedColor='LightSkyBlue', name='Tubular Stomach Adenocarcinoma', parent='stad', shortName='TSTAD'),\n",
       " TypeOfCancer(cancerTypeId='tt', dedicatedColor='Red', name='Teratoma', parent='nsgct', shortName='TT'),\n",
       " TypeOfCancer(cancerTypeId='tyst', dedicatedColor='Red', name='Yolk Sac Tumor', parent='nsgct', shortName='TYST'),\n",
       " TypeOfCancer(cancerTypeId='ua', dedicatedColor='Yellow', name='Urachal Adenocarcinoma', parent='urca', shortName='UA'),\n",
       " TypeOfCancer(cancerTypeId='uad', dedicatedColor='Yellow', name='Urethral Adenocarcinoma', parent='uca', shortName='UAD'),\n",
       " TypeOfCancer(cancerTypeId='uas', dedicatedColor='PeachPuff', name='Uterine Adenosarcoma', parent='usarc', shortName='UAS'),\n",
       " TypeOfCancer(cancerTypeId='uasc', dedicatedColor='PeachPuff', name='Uterine Adenosquamous Carcinoma', parent='ucec', shortName='UASC'),\n",
       " TypeOfCancer(cancerTypeId='uca', dedicatedColor='Yellow', name='Urethral Cancer', parent='bladder', shortName='UCA'),\n",
       " TypeOfCancer(cancerTypeId='ucca', dedicatedColor='PeachPuff', name='Choriocarcinoma', parent='gtd', shortName='UCCA'),\n",
       " TypeOfCancer(cancerTypeId='uccc', dedicatedColor='PeachPuff', name='Uterine Clear Cell Carcinoma', parent='ucec', shortName='UCCC'),\n",
       " TypeOfCancer(cancerTypeId='ucec', dedicatedColor='PeachPuff', name='Endometrial Carcinoma', parent='uterus', shortName='UCEC'),\n",
       " TypeOfCancer(cancerTypeId='ucp', dedicatedColor='Purple', name='Undifferentiated Carcinoma of the Pancreas', parent='pancreas', shortName='UCP'),\n",
       " TypeOfCancer(cancerTypeId='ucs', dedicatedColor='PeachPuff', name='Uterine Carcinosarcoma/Uterine Malignant Mixed Mullerian Tumor', parent='ucec', shortName='UCS'),\n",
       " TypeOfCancer(cancerTypeId='ucu', dedicatedColor='Yellow', name='Urethral Urothelial Carcinoma', parent='uca', shortName='UCU'),\n",
       " TypeOfCancer(cancerTypeId='uddc', dedicatedColor='PeachPuff', name='Uterine Dedifferentiated Carcinoma', parent='ucec', shortName='UDDC'),\n",
       " TypeOfCancer(cancerTypeId='udmn', dedicatedColor='Black', name='Undifferentiated Malignant Neoplasm', parent='cup', shortName='UDMN'),\n",
       " TypeOfCancer(cancerTypeId='uec', dedicatedColor='PeachPuff', name='Uterine Endometrioid Carcinoma', parent='ucec', shortName='UEC'),\n",
       " TypeOfCancer(cancerTypeId='uelms', dedicatedColor='PeachPuff', name='Uterine Epithelioid Leiomyosarcoma', parent='usmt', shortName='UELMS'),\n",
       " TypeOfCancer(cancerTypeId='uesl', dedicatedColor='MediumSeaGreen', name='Undifferentiated Embryonal Sarcoma of the Liver', parent='liver', shortName='UESL'),\n",
       " TypeOfCancer(cancerTypeId='ulm', dedicatedColor='PeachPuff', name='Uterine Leiomyoma', parent='usmt', shortName='ULM'),\n",
       " TypeOfCancer(cancerTypeId='ulms', dedicatedColor='PeachPuff', name='Uterine Leiomyosarcoma', parent='usmt', shortName='ULMS'),\n",
       " TypeOfCancer(cancerTypeId='um', dedicatedColor='Green', name='Uveal Melanoma', parent='om', shortName='UM'),\n",
       " TypeOfCancer(cancerTypeId='umc', dedicatedColor='PeachPuff', name='Uterine Mucinous Carcinoma', parent='ucec', shortName='UMC'),\n",
       " TypeOfCancer(cancerTypeId='umec', dedicatedColor='PeachPuff', name='Uterine Mixed Endometrial Carcinoma', parent='ucec', shortName='UMEC'),\n",
       " TypeOfCancer(cancerTypeId='umlms', dedicatedColor='PeachPuff', name='Uterine Myxoid Leiomyosarcoma', parent='usmt', shortName='UMLMS'),\n",
       " TypeOfCancer(cancerTypeId='umnc', dedicatedColor='PeachPuff', name='Uterine Mesonephric Carcinoma', parent='ucec', shortName='UMNC'),\n",
       " TypeOfCancer(cancerTypeId='unec', dedicatedColor='PeachPuff', name='Uterine Neuroendocrine Carcinoma', parent='ucec', shortName='UNEC'),\n",
       " TypeOfCancer(cancerTypeId='upa', dedicatedColor='Yellow', name='Urothelial Papilloma', parent='bladder', shortName='UPA'),\n",
       " TypeOfCancer(cancerTypeId='updc', dedicatedColor='PeachPuff', name='Poorly Differentiated Carcinoma of the Uterus', parent='ucec', shortName='UPDC'),\n",
       " TypeOfCancer(cancerTypeId='upecoma', dedicatedColor='PeachPuff', name='Uterine Perivascular Epithelioid Cell Tumor', parent='usarc', shortName='UPECOMA'),\n",
       " TypeOfCancer(cancerTypeId='urca', dedicatedColor='Yellow', name='Urachal Carcinoma', parent='bladder', shortName='URCA'),\n",
       " TypeOfCancer(cancerTypeId='urcc', dedicatedColor='Orange', name='Unclassified Renal Cell Carcinoma', parent='nccrcc', shortName='URCC'),\n",
       " TypeOfCancer(cancerTypeId='urmm', dedicatedColor='Yellow', name='Mucosal Melanoma of the Urethra', parent='bladder', shortName='URMM'),\n",
       " TypeOfCancer(cancerTypeId='usarc', dedicatedColor='PeachPuff', name='Uterine Sarcoma/Mesenchymal', parent='uterus', shortName='USARC'),\n",
       " TypeOfCancer(cancerTypeId='usc', dedicatedColor='PeachPuff', name='Uterine Serous Carcinoma/Uterine Papillary Serous Carcinoma', parent='ucec', shortName='USC'),\n",
       " TypeOfCancer(cancerTypeId='uscc', dedicatedColor='Yellow', name='Urethral Squamous Cell Carcinoma', parent='uca', shortName='USCC'),\n",
       " TypeOfCancer(cancerTypeId='usmt', dedicatedColor='PeachPuff', name='Uterine Smooth Muscle Tumor', parent='usarc', shortName='USMT'),\n",
       " TypeOfCancer(cancerTypeId='ustad', dedicatedColor='LightSkyBlue', name='Undifferentiated Stomach Adenocarcinoma', parent='egc', shortName='USTAD'),\n",
       " TypeOfCancer(cancerTypeId='ustump', dedicatedColor='PeachPuff', name='Uterine Smooth Muscle Tumor of Uncertain Malignant Potential', parent='usmt', shortName='USTUMP'),\n",
       " TypeOfCancer(cancerTypeId='uterus', dedicatedColor='PeachPuff', name='Uterus', parent='tissue', shortName='UTERUS'),\n",
       " TypeOfCancer(cancerTypeId='utuc', dedicatedColor='Yellow', name='Upper Tract Urothelial Carcinoma', parent='bladder', shortName='UTUC'),\n",
       " TypeOfCancer(cancerTypeId='uuc', dedicatedColor='PeachPuff', name='Uterine Undifferentiated Carcinoma', parent='ucec', shortName='UUC'),\n",
       " TypeOfCancer(cancerTypeId='uus', dedicatedColor='PeachPuff', name='Undifferentiated Uterine Sarcoma', parent='usarc', shortName='UUS'),\n",
       " TypeOfCancer(cancerTypeId='va', dedicatedColor='Purple', name='Vaginal Adenocarcinoma', parent='vulva', shortName='VA'),\n",
       " TypeOfCancer(cancerTypeId='vdys', dedicatedColor='Purple', name='Dysgerminoma', parent='vgct', shortName='VDYS'),\n",
       " TypeOfCancer(cancerTypeId='vgce', dedicatedColor='Teal', name='Villoglandular Adenocarcinoma of the Cervix', parent='cervix', shortName='VGCE'),\n",
       " TypeOfCancer(cancerTypeId='vgct', dedicatedColor='Purple', name='Germ Cell Tumor of the Vulva', parent='vulva', shortName='VGCT'),\n",
       " TypeOfCancer(cancerTypeId='vimt', dedicatedColor='Purple', name='Immature Teratoma', parent='vgct', shortName='VIMT'),\n",
       " TypeOfCancer(cancerTypeId='vma', dedicatedColor='Purple', name='Mucinous Adenocarcinoma of the Vulva/Vagina', parent='vulva', shortName='VMA'),\n",
       " TypeOfCancer(cancerTypeId='vmgct', dedicatedColor='Purple', name='Mixed Germ Cell Tumor', parent='vgct', shortName='VMGCT'),\n",
       " TypeOfCancer(cancerTypeId='vmm', dedicatedColor='Purple', name='Mucosal Melanoma of the Vulva/Vagina', parent='vulva', shortName='VMM'),\n",
       " TypeOfCancer(cancerTypeId='vmt', dedicatedColor='Purple', name='Mature Teratoma', parent='vgct', shortName='VMT'),\n",
       " TypeOfCancer(cancerTypeId='voec', dedicatedColor='Purple', name='Embryonal Carcinoma', parent='vgct', shortName='VOEC'),\n",
       " TypeOfCancer(cancerTypeId='vpdc', dedicatedColor='Purple', name='Poorly Differentiated Vaginal Carcinoma', parent='vulva', shortName='VPDC'),\n",
       " TypeOfCancer(cancerTypeId='vpe', dedicatedColor='Purple', name='Polyembryoma', parent='vgct', shortName='VPE'),\n",
       " TypeOfCancer(cancerTypeId='vpscc', dedicatedColor='Blue', name='Verrucous Penile Squamous Cell Carcinoma', parent='pscc', shortName='VPSCC'),\n",
       " TypeOfCancer(cancerTypeId='vsc', dedicatedColor='Purple', name='Squamous Cell Carcinoma of the Vulva/Vagina', parent='vulva', shortName='VSC'),\n",
       " TypeOfCancer(cancerTypeId='vulva', dedicatedColor='Purple', name='Vulva/Vagina', parent='tissue', shortName='VULVA'),\n",
       " TypeOfCancer(cancerTypeId='vyst', dedicatedColor='Purple', name='Yolk Sac Tumor', parent='vgct', shortName='VYST'),\n",
       " TypeOfCancer(cancerTypeId='wdls', dedicatedColor='LightYellow', name='Well-Differentiated Liposarcoma', parent='lipo', shortName='WDLS'),\n",
       " TypeOfCancer(cancerTypeId='wdtc', dedicatedColor='Teal', name='Well-Differentiated Thyroid Cancer', parent='thyroid', shortName='WDTC'),\n",
       " TypeOfCancer(cancerTypeId='wm', dedicatedColor='LimeGreen', name='Waldenstrom Macroglobulinemia', parent='lpl', shortName='WM'),\n",
       " TypeOfCancer(cancerTypeId='wpscc', dedicatedColor='Blue', name='Warty Penile Squamous Cell Carcinoma', parent='pscc', shortName='WPSCC'),\n",
       " TypeOfCancer(cancerTypeId='wt', dedicatedColor='Orange', name=\"Wilms' Tumor\", parent='kidney', shortName='WT')]"
      ]
     },
     "execution_count": 7,
     "metadata": {},
     "output_type": "execute_result"
    }
   ],
   "source": [
    "cbioportal.Cancer_Types.getAllCancerTypesUsingGET().result()"
   ]
  },
  {
   "cell_type": "code",
   "execution_count": 8,
   "metadata": {},
   "outputs": [
    {
     "name": "stdout",
     "output_type": "stream",
     "text": [
      "TypeOfCancer(cancerTypeId='acc', dedicatedColor='Purple', name='Adrenocortical Carcinoma', parent='adrenal_gland', shortName='ACC')\n"
     ]
    }
   ],
   "source": [
    "acc = cbioportal.Cancer_Types.getCancerTypeUsingGET(cancerTypeId='acc').result()\n",
    "print(acc)"
   ]
  },
  {
   "cell_type": "markdown",
   "metadata": {},
   "source": [
    "You can see that the JSON output returned by the cBioPortal API gets automatically converted into an object called `TypeOfCancer`. This object can be explored interactively as well by pressing tab after typing `acc.`:"
   ]
  },
  {
   "cell_type": "code",
   "execution_count": 7,
   "metadata": {},
   "outputs": [
    {
     "data": {
      "text/plain": [
       "'adrenal_gland'"
      ]
     },
     "execution_count": 7,
     "metadata": {},
     "output_type": "execute_result"
    }
   ],
   "source": [
    "acc."
   ]
  },
  {
   "cell_type": "markdown",
   "metadata": {},
   "source": [
    "### cBioPortal API"
   ]
  },
  {
   "cell_type": "markdown",
   "metadata": {},
   "source": [
    "[cBioPortal](https://www.cbioportal.org) stores cancer genomics data from a large number of published studies. Let's figure out:\n",
    "\n",
    "- how many studies are there?\n",
    "- how many cancer types do they span?\n",
    "- how many samples in total?\n",
    "- which study has the largest number of samples?"
   ]
  },
  {
   "cell_type": "code",
   "execution_count": 2,
   "metadata": {},
   "outputs": [
    {
     "name": "stdout",
     "output_type": "stream",
     "text": [
      "In total there are 409 studies in cBioPortal, spanning 885 different types of cancer.\n"
     ]
    }
   ],
   "source": [
    "studies = cbioportal.Studies.getAllStudiesUsingGET().result()\n",
    "cancer_types = cbioportal.Cancer_Types.getAllCancerTypesUsingGET().result()\n",
    "\n",
    "print(\"In total there are {} studies in cBioPortal, spanning {} different types of cancer.\".format(\n",
    "    len(studies),\n",
    "    len(cancer_types)\n",
    "))"
   ]
  },
  {
   "cell_type": "markdown",
   "metadata": {},
   "source": [
    "To get the total number of samples in each study we have to look a bit more at the response of the studies endpoint:"
   ]
  },
  {
   "cell_type": "code",
   "execution_count": 3,
   "metadata": {},
   "outputs": [
    {
     "data": {
      "text/plain": [
       "CancerStudy(allSampleCount=12, cancerType=None, cancerTypeId='acbc', citation='Martelotto et al. J Pathol 2015', cnaSampleCount=None, completeSampleCount=None, description='Whole exome sequencing of 12 breast AdCCs.', groups='ACYC;PUBLIC', importDate='2023-12-06 19:10:36', massSpectrometrySampleCount=None, methylationHm27SampleCount=None, miRnaSampleCount=None, mrnaMicroarraySampleCount=None, mrnaRnaSeqSampleCount=None, mrnaRnaSeqV2SampleCount=None, name='Adenoid Cystic Carcinoma of the Breast (MSK, J Pathol. 2015)', pmid='26095796', publicStudy=True, readPermission=True, referenceGenome='hg19', rppaSampleCount=None, sequencedSampleCount=None, status=0, studyId='acbc_mskcc_2015', treatmentCount=None)"
      ]
     },
     "execution_count": 3,
     "metadata": {},
     "output_type": "execute_result"
    }
   ],
   "source": [
    "studies[0]"
   ]
  },
  {
   "cell_type": "code",
   "execution_count": 4,
   "metadata": {},
   "outputs": [
    {
     "data": {
      "text/plain": [
       "['allSampleCount',\n",
       " 'cancerType',\n",
       " 'cancerTypeId',\n",
       " 'citation',\n",
       " 'cnaSampleCount',\n",
       " 'completeSampleCount',\n",
       " 'description',\n",
       " 'groups',\n",
       " 'importDate',\n",
       " 'massSpectrometrySampleCount',\n",
       " 'methylationHm27SampleCount',\n",
       " 'miRnaSampleCount',\n",
       " 'mrnaMicroarraySampleCount',\n",
       " 'mrnaRnaSeqSampleCount',\n",
       " 'mrnaRnaSeqV2SampleCount',\n",
       " 'name',\n",
       " 'pmid',\n",
       " 'publicStudy',\n",
       " 'readPermission',\n",
       " 'referenceGenome',\n",
       " 'rppaSampleCount',\n",
       " 'sequencedSampleCount',\n",
       " 'status',\n",
       " 'studyId',\n",
       " 'treatmentCount']"
      ]
     },
     "execution_count": 4,
     "metadata": {},
     "output_type": "execute_result"
    }
   ],
   "source": [
    "dir(studies[0])"
   ]
  },
  {
   "cell_type": "markdown",
   "metadata": {},
   "source": [
    "We can sum the `allSampleCount` values of each study in cBioPortal:"
   ]
  },
  {
   "cell_type": "code",
   "execution_count": 14,
   "metadata": {},
   "outputs": [
    {
     "name": "stdout",
     "output_type": "stream",
     "text": [
      "The total number of samples in all studies is: 258868\n"
     ]
    }
   ],
   "source": [
    "print(\"The total number of samples in all studies is: {}\".format(sum([x.allSampleCount for x in studies])))"
   ]
  },
  {
   "cell_type": "markdown",
   "metadata": {},
   "source": [
    "Let's see which study has the largest number of samples:"
   ]
  },
  {
   "cell_type": "code",
   "execution_count": 5,
   "metadata": {},
   "outputs": [
    {
     "data": {
      "text/plain": [
       "CancerStudy(allSampleCount=47530, cancerType=None, cancerTypeId='mixed', citation='Stonestrom et al. Blood Adv 2023', cnaSampleCount=None, completeSampleCount=None, description='Clonal hematopoiesis mutations identified in blood samples from 47,532 patients whose tumor-blood pairs were analyzed using MSK-IMPACT.', groups='', importDate='2023-12-21 13:11:31', massSpectrometrySampleCount=None, methylationHm27SampleCount=None, miRnaSampleCount=None, mrnaMicroarraySampleCount=None, mrnaRnaSeqSampleCount=None, mrnaRnaSeqV2SampleCount=None, name='Cancer Therapy and Clonal Hematopoiesis (MSK, Blood Adv 2023)', pmid=None, publicStudy=True, readPermission=True, referenceGenome='hg19', rppaSampleCount=None, sequencedSampleCount=None, status=0, studyId='msk_ch_2023', treatmentCount=None)"
      ]
     },
     "execution_count": 5,
     "metadata": {},
     "output_type": "execute_result"
    }
   ],
   "source": [
    "sorted_studies = sorted(studies, key=lambda x: x.allSampleCount)\n",
    "sorted_studies[-1]"
   ]
  },
  {
   "cell_type": "markdown",
   "metadata": {},
   "source": [
    "We can also easily see e.g. the top 3 largest studies:"
   ]
  },
  {
   "cell_type": "code",
   "execution_count": 6,
   "metadata": {},
   "outputs": [
    {
     "data": {
      "text/plain": [
       "[CancerStudy(allSampleCount=24146, cancerType=None, cancerTypeId='mixed', citation='Kelly et al. Nat Genet 2020', cnaSampleCount=None, completeSampleCount=None, description='Clonal hematopoiesis mutations identified in blood samples from 24,146 patients whose tumor-blood pairs were analyzed using MSK-IMPACT.', groups='PUBLIC', importDate='2023-12-08 13:24:19', massSpectrometrySampleCount=None, methylationHm27SampleCount=None, miRnaSampleCount=None, mrnaMicroarraySampleCount=None, mrnaRnaSeqSampleCount=None, mrnaRnaSeqV2SampleCount=None, name='Cancer Therapy and Clonal Hematopoiesis (MSK, Nat Genet 2020)', pmid='33106634', publicStudy=True, readPermission=True, referenceGenome='hg19', rppaSampleCount=None, sequencedSampleCount=None, status=0, studyId='msk_ch_2020', treatmentCount=None),\n",
       " CancerStudy(allSampleCount=25775, cancerType=None, cancerTypeId='mixed', citation='Nguyen et al. Cell 2022', cnaSampleCount=None, completeSampleCount=None, description='MSK-MET (Memorial Sloan Kettering - Metastatic Events and Tropisms) is an integrated pan-cancer cohort of tumor genomic and clinical outcome data from 25,000 patients. We analyzed this dataset to identify associations between tumor genomic alterations and patterns of metastatic dissemination across 50 tumor types. We found that chromosomal instability is strongly correlated with metastatic burden in some tumor types, including prostate adenocarcinoma, lung adenocarcinoma and HR+/HER2+ breast ductal carcinoma, but not in others, such as colorectal MSS, pancreatic adenocarcinoma and high-grade serous ovarian cancer. We also identified specific somatic alterations associated with increased metastatic burden and specific routes of metastatic spread. Our data offer a unique resource for the investigation of the biologic basis for metastatic spread and highlight the crucial role of chromosomal instability in cancer progression', groups='', importDate='2023-12-08 13:25:01', massSpectrometrySampleCount=None, methylationHm27SampleCount=None, miRnaSampleCount=None, mrnaMicroarraySampleCount=None, mrnaRnaSeqSampleCount=None, mrnaRnaSeqV2SampleCount=None, name='MSK MetTropism (MSK, Cell 2021)', pmid='35120664', publicStudy=True, readPermission=True, referenceGenome='hg19', rppaSampleCount=None, sequencedSampleCount=None, status=0, studyId='msk_met_2021', treatmentCount=None),\n",
       " CancerStudy(allSampleCount=47530, cancerType=None, cancerTypeId='mixed', citation='Stonestrom et al. Blood Adv 2023', cnaSampleCount=None, completeSampleCount=None, description='Clonal hematopoiesis mutations identified in blood samples from 47,532 patients whose tumor-blood pairs were analyzed using MSK-IMPACT.', groups='', importDate='2023-12-21 13:11:31', massSpectrometrySampleCount=None, methylationHm27SampleCount=None, miRnaSampleCount=None, mrnaMicroarraySampleCount=None, mrnaRnaSeqSampleCount=None, mrnaRnaSeqV2SampleCount=None, name='Cancer Therapy and Clonal Hematopoiesis (MSK, Blood Adv 2023)', pmid=None, publicStudy=True, readPermission=True, referenceGenome='hg19', rppaSampleCount=None, sequencedSampleCount=None, status=0, studyId='msk_ch_2023', treatmentCount=None)]"
      ]
     },
     "execution_count": 6,
     "metadata": {},
     "output_type": "execute_result"
    }
   ],
   "source": [
    "sorted_studies = sorted(studies, key=lambda x: x.allSampleCount)\n",
    "sorted_studies[-3:]"
   ]
  },
  {
   "cell_type": "markdown",
   "metadata": {},
   "source": [
    "Now that we've answered the inital questions we can dig a little deeper into a specific study. Let's use the second largest study (`msk_impact_2017`):\n",
    "\n",
    "- How many patients are in this study?\n",
    "- What gene is most commonly mutated across the different samples?\n",
    "- Does this study span one or more types of cancer?\n",
    "\n",
    "The description of the study with id `msk_impact_2017` study mentions there are 24,146 patients sequenced. Can we find this data in the cBioPortal?"
   ]
  },
  {
   "cell_type": "code",
   "execution_count": 7,
   "metadata": {},
   "outputs": [
    {
     "name": "stdout",
     "output_type": "stream",
     "text": [
      "The msk_impact_2017 study spans 10336 patients\n"
     ]
    }
   ],
   "source": [
    "patients = cbioportal.Patients.getAllPatientsInStudyUsingGET(studyId='msk_impact_2017').result()\n",
    "print(\"The msk_impact_2017 study spans {} patients\".format(len(patients)))"
   ]
  },
  {
   "cell_type": "markdown",
   "metadata": {},
   "source": [
    "Now let's try to figure out what gene is most commonly mutated. For this we can check the endpoints in the group `Mutations`. When looking at these endpoints it seems that a study can have multiple molecular profiles. This is because samples might have been sequenced using different assays (e.g. targeting a subset of genes or all genes). An example for the `acc_tcga` study is given for a molecular profile (`acc_tcga_mutations`) and a collection of samples (`acc_tcga_all`). We can use the same approach for the `msk_impact_2017` study. This will take a few seconds.  You can use the command `%%time` to time a cell):"
   ]
  },
  {
   "cell_type": "code",
   "execution_count": 8,
   "metadata": {},
   "outputs": [
    {
     "name": "stdout",
     "output_type": "stream",
     "text": [
      "CPU times: user 1.03 s, sys: 65.1 ms, total: 1.1 s\n",
      "Wall time: 5.25 s\n"
     ]
    }
   ],
   "source": [
    "%%time\n",
    "\n",
    "mutations = cbioportal.Mutations.getMutationsInMolecularProfileBySampleListIdUsingGET(\n",
    "    molecularProfileId='msk_impact_2017_mutations',\n",
    "    sampleListId='msk_impact_2017_all'\n",
    ").result()"
   ]
  },
  {
   "cell_type": "markdown",
   "metadata": {},
   "source": [
    "We can explore what the mutation data structure looks like:"
   ]
  },
  {
   "cell_type": "code",
   "execution_count": 9,
   "metadata": {},
   "outputs": [
    {
     "data": {
      "text/plain": [
       "Mutation(alleleSpecificCopyNumber=None, aminoAcidChange=None, center='NA', chr='9', driverFilter=None, driverFilterAnnotation=None, driverTiersFilter=None, driverTiersFilterAnnotation=None, endPosition=133760514, entrezGeneId=25, gene=None, keyword='ABL1 truncating', molecularProfileId='msk_impact_2017_mutations', mutationStatus='NA', mutationType='Frame_Shift_Del', namespaceColumns=None, ncbiBuild='GRCh37', normalAltCount=None, normalRefCount=None, patientId='P-0000507', proteinChange='K947Sfs*122', proteinPosEnd=947, proteinPosStart=946, referenceAllele='C', refseqMrnaId='NM_005157.4', sampleId='P-0000507-T01-IM3', startPosition=133760514, studyId='msk_impact_2017', tumorAltCount=80, tumorRefCount=759, uniquePatientKey='UC0wMDAwNTA3Om1za19pbXBhY3RfMjAxNw', uniqueSampleKey='UC0wMDAwNTA3LVQwMS1JTTM6bXNrX2ltcGFjdF8yMDE3', validationStatus='NA', variantAllele='-', variantType='DEL')"
      ]
     },
     "execution_count": 9,
     "metadata": {},
     "output_type": "execute_result"
    }
   ],
   "source": [
    "mutations[0]"
   ]
  },
  {
   "cell_type": "markdown",
   "metadata": {},
   "source": [
    "It seems that the `gene` field is not filled in. To keep the response size of the API small, the API uses a parameter called `projection` that indicates whether or not to return all fields of an object or only a portion of the fields. By default it will use the `SUMMARY` projection. But because in this case we want to `gene` information, we'll use the `DETAILED` projection instead, so let's update the previous statement:"
   ]
  },
  {
   "cell_type": "code",
   "execution_count": 10,
   "metadata": {},
   "outputs": [
    {
     "name": "stdout",
     "output_type": "stream",
     "text": [
      "CPU times: user 1.59 s, sys: 70.6 ms, total: 1.66 s\n",
      "Wall time: 6.02 s\n"
     ]
    }
   ],
   "source": [
    "%%time \n",
    "\n",
    "mutations = cbioportal.Mutations.getMutationsInMolecularProfileBySampleListIdUsingGET(\n",
    "    molecularProfileId='msk_impact_2017_mutations',\n",
    "    sampleListId='msk_impact_2017_all',\n",
    "    projection='DETAILED'\n",
    ").result()"
   ]
  },
  {
   "cell_type": "markdown",
   "metadata": {},
   "source": [
    "You can see the response time is slightly slower. Let's check if the gene field is filled in now:"
   ]
  },
  {
   "cell_type": "code",
   "execution_count": 11,
   "metadata": {},
   "outputs": [
    {
     "data": {
      "text/plain": [
       "Mutation(alleleSpecificCopyNumber=None, aminoAcidChange=None, center='NA', chr='9', driverFilter=None, driverFilterAnnotation=None, driverTiersFilter=None, driverTiersFilterAnnotation=None, endPosition=133760514, entrezGeneId=25, gene=Gene(entrezGeneId=25, geneticEntityId=None, hugoGeneSymbol='ABL1', type='protein-coding'), keyword='ABL1 truncating', molecularProfileId='msk_impact_2017_mutations', mutationStatus='NA', mutationType='Frame_Shift_Del', namespaceColumns=None, ncbiBuild='GRCh37', normalAltCount=None, normalRefCount=None, patientId='P-0000507', proteinChange='K947Sfs*122', proteinPosEnd=947, proteinPosStart=946, referenceAllele='C', refseqMrnaId='NM_005157.4', sampleId='P-0000507-T01-IM3', startPosition=133760514, studyId='msk_impact_2017', tumorAltCount=80, tumorRefCount=759, uniquePatientKey='UC0wMDAwNTA3Om1za19pbXBhY3RfMjAxNw', uniqueSampleKey='UC0wMDAwNTA3LVQwMS1JTTM6bXNrX2ltcGFjdF8yMDE3', validationStatus='NA', variantAllele='-', variantType='DEL')"
      ]
     },
     "execution_count": 11,
     "metadata": {},
     "output_type": "execute_result"
    }
   ],
   "source": [
    "mutations[0]"
   ]
  },
  {
   "cell_type": "markdown",
   "metadata": {},
   "source": [
    "Now that we have the gene field we can check what gene is most commonly mutated: "
   ]
  },
  {
   "cell_type": "code",
   "execution_count": 12,
   "metadata": {},
   "outputs": [
    {
     "data": {
      "text/plain": [
       "[('TP53', 4954),\n",
       " ('APC', 1674),\n",
       " ('KRAS', 1670),\n",
       " ('TERT', 1549),\n",
       " ('PIK3CA', 1517)]"
      ]
     },
     "execution_count": 12,
     "metadata": {},
     "output_type": "execute_result"
    }
   ],
   "source": [
    "from collections import Counter\n",
    "mutation_counts = Counter([m.gene.hugoGeneSymbol for m in mutations])\n",
    "mutation_counts.most_common(5)"
   ]
  },
  {
   "cell_type": "markdown",
   "metadata": {},
   "source": [
    "We can verify that these results are correct by looking at the study view of the MSK-IMPACT study on the cBioPortal website: https://www.cbioportal.org/study/summary?id=msk_impact_2017. Note that the website uses the REST API we've been using in this hackathon, so we would expect those numbers to be the same, but good to do a sanity check. We see that the number of patients is indeed 10,336. But the number of samples with a mutation in TP53 is 4,561 instead of 4,985. Can you spot why they differ?\n",
    "\n",
    "Next question:\n",
    "\n",
    "- How many samples have a TP53 mutation?\n",
    "\n",
    "For this exercise it might be useful to use a [pandas dataframe](https://pandas.pydata.org/) to be able to do grouping operations. You can convert the mutations result to a dataframe like this:"
   ]
  },
  {
   "cell_type": "code",
   "execution_count": 13,
   "metadata": {},
   "outputs": [
    {
     "data": {
      "text/plain": [
       "{'alleleSpecificCopyNumber': None,\n",
       " 'aminoAcidChange': None,\n",
       " 'center': 'NA',\n",
       " 'chr': '9',\n",
       " 'driverFilter': None,\n",
       " 'driverFilterAnnotation': None,\n",
       " 'driverTiersFilter': None,\n",
       " 'driverTiersFilterAnnotation': None,\n",
       " 'endPosition': 133760514,\n",
       " 'entrezGeneId': 25,\n",
       " 'gene': Gene(entrezGeneId=25, geneticEntityId=None, hugoGeneSymbol='ABL1', type='protein-coding'),\n",
       " 'keyword': 'ABL1 truncating',\n",
       " 'molecularProfileId': 'msk_impact_2017_mutations',\n",
       " 'mutationStatus': 'NA',\n",
       " 'mutationType': 'Frame_Shift_Del',\n",
       " 'namespaceColumns': None,\n",
       " 'ncbiBuild': 'GRCh37',\n",
       " 'normalAltCount': None,\n",
       " 'normalRefCount': None,\n",
       " 'patientId': 'P-0000507',\n",
       " 'proteinChange': 'K947Sfs*122',\n",
       " 'proteinPosEnd': 947,\n",
       " 'proteinPosStart': 946,\n",
       " 'referenceAllele': 'C',\n",
       " 'refseqMrnaId': 'NM_005157.4',\n",
       " 'sampleId': 'P-0000507-T01-IM3',\n",
       " 'startPosition': 133760514,\n",
       " 'studyId': 'msk_impact_2017',\n",
       " 'tumorAltCount': 80,\n",
       " 'tumorRefCount': 759,\n",
       " 'uniquePatientKey': 'UC0wMDAwNTA3Om1za19pbXBhY3RfMjAxNw',\n",
       " 'uniqueSampleKey': 'UC0wMDAwNTA3LVQwMS1JTTM6bXNrX2ltcGFjdF8yMDE3',\n",
       " 'validationStatus': 'NA',\n",
       " 'variantAllele': '-',\n",
       " 'variantType': 'DEL'}"
      ]
     },
     "execution_count": 13,
     "metadata": {},
     "output_type": "execute_result"
    }
   ],
   "source": [
    "{k:getattr(mutations[0],k) for k in dir(mutations[0])}"
   ]
  },
  {
   "cell_type": "code",
   "execution_count": 14,
   "metadata": {},
   "outputs": [],
   "source": [
    "import pandas as pd\n",
    "\n",
    "mdf = pd.DataFrame.from_dict([\n",
    "    # python magic that combines two dictionaries:\n",
    "    dict(\n",
    "        {k:getattr(m,k) for k in dir(m)},\n",
    "        **{k:getattr(m.gene,k) for k in dir(m.gene)}) \n",
    "    # create one item in the list for each mutation\n",
    "    for m in mutations\n",
    "])"
   ]
  },
  {
   "cell_type": "code",
   "execution_count": 15,
   "metadata": {},
   "outputs": [
    {
     "data": {
      "text/plain": [
       "Index(['alleleSpecificCopyNumber', 'aminoAcidChange', 'center', 'chr',\n",
       "       'driverFilter', 'driverFilterAnnotation', 'driverTiersFilter',\n",
       "       'driverTiersFilterAnnotation', 'endPosition', 'entrezGeneId', 'gene',\n",
       "       'keyword', 'molecularProfileId', 'mutationStatus', 'mutationType',\n",
       "       'namespaceColumns', 'ncbiBuild', 'normalAltCount', 'normalRefCount',\n",
       "       'patientId', 'proteinChange', 'proteinPosEnd', 'proteinPosStart',\n",
       "       'referenceAllele', 'refseqMrnaId', 'sampleId', 'startPosition',\n",
       "       'studyId', 'tumorAltCount', 'tumorRefCount', 'uniquePatientKey',\n",
       "       'uniqueSampleKey', 'validationStatus', 'variantAllele', 'variantType',\n",
       "       'geneticEntityId', 'hugoGeneSymbol', 'type'],\n",
       "      dtype='object')"
      ]
     },
     "execution_count": 15,
     "metadata": {},
     "output_type": "execute_result"
    }
   ],
   "source": [
    "mdf.columns"
   ]
  },
  {
   "cell_type": "code",
   "execution_count": 16,
   "metadata": {},
   "outputs": [
    {
     "data": {
      "text/html": [
       "<div>\n",
       "<style scoped>\n",
       "    .dataframe tbody tr th:only-of-type {\n",
       "        vertical-align: middle;\n",
       "    }\n",
       "\n",
       "    .dataframe tbody tr th {\n",
       "        vertical-align: top;\n",
       "    }\n",
       "\n",
       "    .dataframe thead th {\n",
       "        text-align: right;\n",
       "    }\n",
       "</style>\n",
       "<table border=\"1\" class=\"dataframe\">\n",
       "  <thead>\n",
       "    <tr style=\"text-align: right;\">\n",
       "      <th></th>\n",
       "      <th>chr</th>\n",
       "      <th>startPosition</th>\n",
       "      <th>endPosition</th>\n",
       "      <th>referenceAllele</th>\n",
       "      <th>variantAllele</th>\n",
       "      <th>hugoGeneSymbol</th>\n",
       "      <th>proteinChange</th>\n",
       "    </tr>\n",
       "  </thead>\n",
       "  <tbody>\n",
       "    <tr>\n",
       "      <th>0</th>\n",
       "      <td>9</td>\n",
       "      <td>133760514</td>\n",
       "      <td>133760514</td>\n",
       "      <td>C</td>\n",
       "      <td>-</td>\n",
       "      <td>ABL1</td>\n",
       "      <td>K947Sfs*122</td>\n",
       "    </tr>\n",
       "    <tr>\n",
       "      <th>1</th>\n",
       "      <td>9</td>\n",
       "      <td>133760322</td>\n",
       "      <td>133760322</td>\n",
       "      <td>C</td>\n",
       "      <td>G</td>\n",
       "      <td>ABL1</td>\n",
       "      <td>S882C</td>\n",
       "    </tr>\n",
       "    <tr>\n",
       "      <th>2</th>\n",
       "      <td>9</td>\n",
       "      <td>133759443</td>\n",
       "      <td>133759443</td>\n",
       "      <td>G</td>\n",
       "      <td>A</td>\n",
       "      <td>ABL1</td>\n",
       "      <td>R589H</td>\n",
       "    </tr>\n",
       "    <tr>\n",
       "      <th>3</th>\n",
       "      <td>9</td>\n",
       "      <td>133759488</td>\n",
       "      <td>133759488</td>\n",
       "      <td>T</td>\n",
       "      <td>A</td>\n",
       "      <td>ABL1</td>\n",
       "      <td>I604N</td>\n",
       "    </tr>\n",
       "    <tr>\n",
       "      <th>4</th>\n",
       "      <td>9</td>\n",
       "      <td>133759683</td>\n",
       "      <td>133759683</td>\n",
       "      <td>C</td>\n",
       "      <td>T</td>\n",
       "      <td>ABL1</td>\n",
       "      <td>P669L</td>\n",
       "    </tr>\n",
       "  </tbody>\n",
       "</table>\n",
       "</div>"
      ],
      "text/plain": [
       "  chr  startPosition  endPosition referenceAllele variantAllele  \\\n",
       "0   9      133760514    133760514               C             -   \n",
       "1   9      133760322    133760322               C             G   \n",
       "2   9      133759443    133759443               G             A   \n",
       "3   9      133759488    133759488               T             A   \n",
       "4   9      133759683    133759683               C             T   \n",
       "\n",
       "  hugoGeneSymbol proteinChange  \n",
       "0           ABL1   K947Sfs*122  \n",
       "1           ABL1         S882C  \n",
       "2           ABL1         R589H  \n",
       "3           ABL1         I604N  \n",
       "4           ABL1         P669L  "
      ]
     },
     "execution_count": 16,
     "metadata": {},
     "output_type": "execute_result"
    }
   ],
   "source": [
    "mdf['chr startPosition endPosition referenceAllele variantAllele hugoGeneSymbol proteinChange'.split()].head()"
   ]
  },
  {
   "cell_type": "markdown",
   "metadata": {},
   "source": [
    "The DataFrame is a data type originally from `Matlab` and `R` that makes it easier to work with columnar data. Pandas brings that data type to Python. There are also several performance optimizations by it using the data types from [numpy](https://www.numpy.org/).\n",
    "\n",
    "Now that you have the data in a Dataframe you can group the mutations by the gene name and count the number of unique samples in TP53:"
   ]
  },
  {
   "cell_type": "code",
   "execution_count": 17,
   "metadata": {},
   "outputs": [
    {
     "name": "stdout",
     "output_type": "stream",
     "text": [
      "There are 4538 samples with a mutation in TP53\n"
     ]
    }
   ],
   "source": [
    "sample_count_per_gene = mdf.groupby('hugoGeneSymbol')['uniqueSampleKey'].nunique()\n",
    "\n",
    "print(\"There are {} samples with a mutation in TP53\".format(\n",
    "    sample_count_per_gene['TP53']\n",
    "))"
   ]
  },
  {
   "cell_type": "markdown",
   "metadata": {},
   "source": [
    "It would be nice to visualize this result in context of the other genes by plotting the top 10 most mutated genes. For this you can use the matplotlib interface that integrates with pandas.\n",
    "\n",
    "First  inline plotting in the notebook:"
   ]
  },
  {
   "cell_type": "code",
   "execution_count": 18,
   "metadata": {},
   "outputs": [],
   "source": [
    "%matplotlib inline"
   ]
  },
  {
   "cell_type": "code",
   "execution_count": 19,
   "metadata": {},
   "outputs": [
    {
     "data": {
      "text/plain": [
       "<Axes: xlabel='hugoGeneSymbol'>"
      ]
     },
     "execution_count": 19,
     "metadata": {},
     "output_type": "execute_result"
    },
    {
     "data": {
      "image/png": "[encoded data removed]",
      "text/plain": [
       "<Figure size 640x480 with 1 Axes>"
      ]
     },
     "metadata": {},
     "output_type": "display_data"
    }
   ],
   "source": [
    "sample_count_per_gene.sort_values(ascending=False).head(10).plot(kind='bar')"
   ]
  },
  {
   "cell_type": "markdown",
   "metadata": {},
   "source": [
    "Make it look a little nicer by importing seaborn:"
   ]
  },
  {
   "cell_type": "code",
   "execution_count": 20,
   "metadata": {},
   "outputs": [],
   "source": [
    "import seaborn as sns\n",
    "sns.set_style(\"white\")\n",
    "sns.set_context('notebook')"
   ]
  },
  {
   "cell_type": "code",
   "execution_count": 21,
   "metadata": {},
   "outputs": [
    {
     "data": {
      "image/png": "[encoded data removed]",
      "text/plain": [
       "<Figure size 640x480 with 1 Axes>"
      ]
     },
     "metadata": {},
     "output_type": "display_data"
    }
   ],
   "source": [
    "sample_count_per_gene.sort_values(ascending=False).head(10).plot(kind='bar')\n",
    "sns.despine(trim=False)"
   ]
  },
  {
   "cell_type": "markdown",
   "metadata": {},
   "source": [
    "You can further change the plot a bit by using the arguments to the plot function or using the matplotlib interface directly:"
   ]
  },
  {
   "cell_type": "code",
   "execution_count": 22,
   "metadata": {},
   "outputs": [
    {
     "data": {
      "text/plain": [
       "Text(0.5, 1.0, 'Number of mutations in genes in MSK-IMPACT (2017)')"
      ]
     },
     "execution_count": 22,
     "metadata": {},
     "output_type": "execute_result"
    },
    {
     "data": {
      "image/png": "[encoded data removed]",
      "text/plain": [
       "<Figure size 640x480 with 1 Axes>"
      ]
     },
     "metadata": {},
     "output_type": "display_data"
    }
   ],
   "source": [
    "import matplotlib.pyplot as plt\n",
    "\n",
    "sample_count_per_gene.sort_values(ascending=False).head(10).plot(\n",
    "    kind='bar',\n",
    "    ylim=[0,5000],\n",
    "    color='green'\n",
    ")\n",
    "sns.despine(trim=False)\n",
    "plt.xlabel('')\n",
    "plt.xticks(rotation=300)\n",
    "plt.ylabel('Number of samples',labelpad=20)\n",
    "plt.title('Number of mutations in genes in MSK-IMPACT (2017)',pad=25)"
   ]
  },
  {
   "cell_type": "markdown",
   "metadata": {},
   "source": [
    "A further extension of this plot could be to color the bar chart by the type of mutation in that sample (`mdf.mutationType`) and to include copy number alterations (see `Discrete Copy Number Alterations` endpoints)."
   ]
  },
  {
   "cell_type": "markdown",
   "metadata": {},
   "source": [
    "#### Gene Frequency for specific Cancer Type\n",
    "First get the cancer type for each sample via the clinical data endpoint:"
   ]
  },
  {
   "cell_type": "code",
   "execution_count": 23,
   "metadata": {},
   "outputs": [],
   "source": [
    "clin_data = cbioportal.Clinical_Data.getAllClinicalDataInStudyUsingGET(studyId='msk_impact_2017').result()"
   ]
  },
  {
   "cell_type": "markdown",
   "metadata": {},
   "source": [
    "Convert into dataframe:"
   ]
  },
  {
   "cell_type": "code",
   "execution_count": 24,
   "metadata": {},
   "outputs": [],
   "source": [
    "\n",
    "cdf = pd.DataFrame.from_dict(\n",
    "    {k:getattr(cd,k) for k in dir(cd)} for cd in clin_data\n",
    ").pivot(index='sampleId patientId'.split(),columns='clinicalAttributeId',values='value')"
   ]
  },
  {
   "cell_type": "markdown",
   "metadata": {},
   "source": [
    "Merge together with the mutations MAF:"
   ]
  },
  {
   "cell_type": "code",
   "execution_count": 25,
   "metadata": {},
   "outputs": [],
   "source": [
    "clin_mut_df = mdf.merge(cdf, on='sampleId', how='left')"
   ]
  },
  {
   "cell_type": "markdown",
   "metadata": {},
   "source": [
    "Then plot the top 10 most mutated genes for colorectal cancer:"
   ]
  },
  {
   "cell_type": "code",
   "execution_count": 26,
   "metadata": {},
   "outputs": [
    {
     "data": {
      "image/png": "[encoded data removed]",
      "text/plain": [
       "<Figure size 1000x600 with 1 Axes>"
      ]
     },
     "metadata": {},
     "output_type": "display_data"
    }
   ],
   "source": [
    "import seaborn as sns\n",
    "import matplotlib.pyplot as plt\n",
    "\n",
    "# Filter clin_mut_df for Colorectal Cancer\n",
    "colorectal_df = clin_mut_df[clin_mut_df['CANCER_TYPE'] == 'Colorectal Cancer']\n",
    "\n",
    "# Group by hugoGeneSymbol and count unique patientId\n",
    "gene_counts = colorectal_df.groupby('hugoGeneSymbol')['patientId'].nunique()\n",
    "\n",
    "# Sort in descending order and take top 10\n",
    "sorted_counts = gene_counts.sort_values(ascending=False).head(30)\n",
    "\n",
    "# Create bar chart\n",
    "plt.figure(figsize=(10, 6))\n",
    "sns.barplot(x=sorted_counts.index, y=sorted_counts.values)\n",
    "plt.xlabel('hugoGeneSymbol')\n",
    "plt.ylabel('Number of Patients')\n",
    "plt.title('Top 30 hugoGeneSymbols in Colorectal Cancer')\n",
    "plt.xticks(rotation=45)\n",
    "sns.despine()\n",
    "plt.show()"
   ]
  },
  {
   "cell_type": "markdown",
   "metadata": {},
   "source": [
    "You can do the same by frequency as well. For MSK-IMPACT this is slightly tricky because not all samples were profiled for the same gene. For convenience we will ignore this fact and assume that all samples were profiled for all genes. This is not true, but it will give you a rough idea of the frequency of mutations in the MSK-IMPACT study. First get the total number of cases for colorectal cancer:"
   ]
  },
  {
   "cell_type": "code",
   "execution_count": 27,
   "metadata": {},
   "outputs": [],
   "source": [
    "cancer_type_num_patients = cdf.reset_index().groupby(\"CANCER_TYPE\")[\"patientId\"].nunique()"
   ]
  },
  {
   "cell_type": "markdown",
   "metadata": {},
   "source": [
    "Now plot the top 10 most mutated genes for colorectal cancer by frequency in cohort:"
   ]
  },
  {
   "cell_type": "code",
   "execution_count": 28,
   "metadata": {},
   "outputs": [
    {
     "data": {
      "image/png": "[encoded data removed]",
      "text/plain": [
       "<Figure size 1000x600 with 1 Axes>"
      ]
     },
     "metadata": {},
     "output_type": "display_data"
    }
   ],
   "source": [
    "# Filter clin_mut_df for Colorectal Cancer\n",
    "cancer_type = 'Colorectal Cancer'\n",
    "colorectal_df = clin_mut_df[clin_mut_df['CANCER_TYPE'] == cancer_type]\n",
    "nr_patients_for_cancer_type = cancer_type_num_patients[cancer_type]\n",
    "\n",
    "# Group by hugoGeneSymbol and count unique patientId\n",
    "gene_counts = colorectal_df.groupby('hugoGeneSymbol')['patientId'].nunique() * 100.0 / nr_patients_for_cancer_type\n",
    "\n",
    "# Sort in descending order and take top 10\n",
    "sorted_counts = gene_counts.sort_values(ascending=False).head(30)\n",
    "\n",
    "# Create bar chart\n",
    "plt.figure(figsize=(10, 6))\n",
    "sns.barplot(x=sorted_counts.index, y=sorted_counts.values)\n",
    "plt.xlabel('hugoGeneSymbol')\n",
    "plt.ylabel('Number of Patients')\n",
    "plt.title('Top 30 hugoGeneSymbols in {} Cancer (n={})'.format(cancer_type, nr_patients_for_cancer_type))\n",
    "plt.xticks(rotation=45)\n",
    "sns.despine()\n",
    "plt.show()"
   ]
  },
  {
   "cell_type": "markdown",
   "metadata": {},
   "source": [
    "####  Alteration frequency across cancer types per gene\n",
    "We previously only worked with mutation data. We will need to get the copy number as well. SV data is not available yet in the API. First get the copy number data for the MSK-IMPACT study:"
   ]
  },
  {
   "cell_type": "code",
   "execution_count": 29,
   "metadata": {},
   "outputs": [
    {
     "data": {
      "text/html": [
       "<div>\n",
       "<style scoped>\n",
       "    .dataframe tbody tr th:only-of-type {\n",
       "        vertical-align: middle;\n",
       "    }\n",
       "\n",
       "    .dataframe tbody tr th {\n",
       "        vertical-align: top;\n",
       "    }\n",
       "\n",
       "    .dataframe thead th {\n",
       "        text-align: right;\n",
       "    }\n",
       "</style>\n",
       "<table border=\"1\" class=\"dataframe\">\n",
       "  <thead>\n",
       "    <tr style=\"text-align: right;\">\n",
       "      <th></th>\n",
       "      <th>hugoGeneSymbol</th>\n",
       "      <th>alteration</th>\n",
       "    </tr>\n",
       "  </thead>\n",
       "  <tbody>\n",
       "    <tr>\n",
       "      <th>0</th>\n",
       "      <td>PMS2</td>\n",
       "      <td>2</td>\n",
       "    </tr>\n",
       "    <tr>\n",
       "      <th>1</th>\n",
       "      <td>RAC1</td>\n",
       "      <td>2</td>\n",
       "    </tr>\n",
       "    <tr>\n",
       "      <th>2</th>\n",
       "      <td>BRCA2</td>\n",
       "      <td>2</td>\n",
       "    </tr>\n",
       "    <tr>\n",
       "      <th>3</th>\n",
       "      <td>CD79B</td>\n",
       "      <td>2</td>\n",
       "    </tr>\n",
       "    <tr>\n",
       "      <th>4</th>\n",
       "      <td>NBN</td>\n",
       "      <td>2</td>\n",
       "    </tr>\n",
       "  </tbody>\n",
       "</table>\n",
       "</div>"
      ],
      "text/plain": [
       "  hugoGeneSymbol  alteration\n",
       "0           PMS2           2\n",
       "1           RAC1           2\n",
       "2          BRCA2           2\n",
       "3          CD79B           2\n",
       "4            NBN           2"
      ]
     },
     "execution_count": 29,
     "metadata": {},
     "output_type": "execute_result"
    }
   ],
   "source": [
    "cna_data = cbioportal.Discrete_Copy_Number_Alterations.getDiscreteCopyNumbersInMolecularProfileUsingGET(molecularProfileId='msk_impact_2017_cna',sampleListId='msk_impact_2017_all',projection='DETAILED').result()\n",
    "cna_df = pd.DataFrame.from_dict([\n",
    "    # python magic that combines two dictionaries:\n",
    "    dict(\n",
    "        {k:getattr(cna,k) for k in dir(cna)},\n",
    "        **{k:getattr(cna.gene,k) for k in dir(cna.gene)}) \n",
    "    # create one item in the list for each mutation\n",
    "    for cna in cna_data\n",
    "])\n",
    "del cna_df['gene']\n",
    "cna_df['hugoGeneSymbol alteration'.split()].head(5)"
   ]
  },
  {
   "cell_type": "markdown",
   "metadata": {},
   "source": [
    "Create an alterations dataframe that combines mutations, CNA and clinical data:"
   ]
  },
  {
   "cell_type": "code",
   "execution_count": 30,
   "metadata": {},
   "outputs": [
    {
     "name": "stdout",
     "output_type": "stream",
     "text": [
      "            sampleId  patientId hugoGeneSymbol            alteration  \\\n",
      "0  P-0000004-T01-IM3  P-0000004           AKT1              Mutation   \n",
      "1  P-0000004-T01-IM3  P-0000004            ALK              Mutation   \n",
      "2  P-0000004-T01-IM3  P-0000004          BRCA2         Amplification   \n",
      "3  P-0000004-T01-IM3  P-0000004           FLT4  Multiple Alterations   \n",
      "4  P-0000004-T01-IM3  P-0000004          KMT2C              Mutation   \n",
      "\n",
      "     CANCER_TYPE              CANCER_TYPE_DETAILED DNA_INPUT  \\\n",
      "0  Breast Cancer  Breast Invasive Ductal Carcinoma       250   \n",
      "1  Breast Cancer  Breast Invasive Ductal Carcinoma       250   \n",
      "2  Breast Cancer  Breast Invasive Ductal Carcinoma       250   \n",
      "3  Breast Cancer  Breast Invasive Ductal Carcinoma       250   \n",
      "4  Breast Cancer  Breast Invasive Ductal Carcinoma       250   \n",
      "\n",
      "  FRACTION_GENOME_ALTERED MATCHED_STATUS METASTATIC_SITE  ... PRIMARY_SITE  \\\n",
      "0                  0.2782        Matched             NaN  ...       Breast   \n",
      "1                  0.2782        Matched             NaN  ...       Breast   \n",
      "2                  0.2782        Matched             NaN  ...       Breast   \n",
      "3                  0.2782        Matched             NaN  ...       Breast   \n",
      "4                  0.2782        Matched             NaN  ...       Breast   \n",
      "\n",
      "  SAMPLE_CLASS SAMPLE_COLLECTION_SOURCE SAMPLE_COVERAGE SAMPLE_TYPE  \\\n",
      "0        Tumor                  Outside             428     Primary   \n",
      "1        Tumor                  Outside             428     Primary   \n",
      "2        Tumor                  Outside             428     Primary   \n",
      "3        Tumor                  Outside             428     Primary   \n",
      "4        Tumor                  Outside             428     Primary   \n",
      "\n",
      "  SOMATIC_STATUS SPECIMEN_PRESERVATION_TYPE SPECIMEN_TYPE TMB_NONSYNONYMOUS  \\\n",
      "0        Matched                       FFPE        Biopsy       17.74648481   \n",
      "1        Matched                       FFPE        Biopsy       17.74648481   \n",
      "2        Matched                       FFPE        Biopsy       17.74648481   \n",
      "3        Matched                       FFPE        Biopsy       17.74648481   \n",
      "4        Matched                       FFPE        Biopsy       17.74648481   \n",
      "\n",
      "  TUMOR_PURITY  \n",
      "0           50  \n",
      "1           50  \n",
      "2           50  \n",
      "3           50  \n",
      "4           50  \n",
      "\n",
      "[5 rows x 22 columns]\n"
     ]
    }
   ],
   "source": [
    "# First, we need to add a column to each DataFrame that indicates the type of alteration\n",
    "mdf['alteration'] = 'Mutation'\n",
    "cna_df['alteration'] = cna_df['alteration'].map({-2: 'Deep Deletion', 2: 'Amplification'})\n",
    "\n",
    "# Concatenate the two DataFrames\n",
    "alterations_df = pd.concat([mdf, cna_df])\n",
    "\n",
    "# Group by patient and gene and count the number of alterations\n",
    "alterations_df = alterations_df.groupby(['sampleId','patientId', 'hugoGeneSymbol'])['alteration'].apply(list).reset_index()\n",
    "\n",
    "# Create a new column that indicates whether there are multiple alterations\n",
    "alterations_df['alteration'] = alterations_df['alteration'].apply(lambda x: 'Multiple Alterations' if len(x) > 1 else x[0])\n",
    "\n",
    "alterations_df = alterations_df.merge(cdf, on='sampleId', how='left')\n",
    "\n",
    "print(alterations_df.head())"
   ]
  },
  {
   "cell_type": "markdown",
   "metadata": {},
   "source": [
    "Then make the stacked barchart:"
   ]
  },
  {
   "cell_type": "code",
   "execution_count": 51,
   "metadata": {},
   "outputs": [
    {
     "data": {
      "image/png": "[encoded data removed]",
      "text/plain": [
       "<Figure size 640x480 with 1 Axes>"
      ]
     },
     "metadata": {},
     "output_type": "display_data"
    }
   ],
   "source": [
    "import matplotlib.pyplot as plt\n",
    "from matplotlib.ticker import FuncFormatter\n",
    "import seaborn as sns\n",
    "\n",
    "gene = 'ERBB2'\n",
    "colors = {\n",
    "    'Mutation': '#008000',  # rgb(0, 128, 0)\n",
    "    'Amplification': '#FF0000',  # rgb(255, 0, 0)\n",
    "    'Multiple Alterations': '#666666',  # rgb(102, 102, 102)\n",
    "    'Deep Deletion': '#0000FF'  # rgb(0, 0, 255)\n",
    "}\n",
    "order = ['Multiple Alterations', 'Deep Deletion', 'Amplification', 'Mutation']\n",
    "\n",
    "# Count the number of patients for each cancer type and alteration\n",
    "counts_df = alterations_df[alterations_df['hugoGeneSymbol'] == gene].groupby(['CANCER_TYPE', 'alteration'])['patientId'].nunique().unstack().fillna(0)\n",
    "\n",
    "# Ensure that the index of cancer_type_num_patients matches the index of counts_df\n",
    "cancer_type_num_patients = cancer_type_num_patients.reindex(counts_df.index)\n",
    "\n",
    "# Divide counts_df by cancer_type_num_patients to get alteration frequencies\n",
    "alteration_frequencies = counts_df.div(cancer_type_num_patients, axis='index') * 100.0\n",
    "\n",
    "# Sort by frequencies and select top 10\n",
    "alteration_frequencies_sorted = alteration_frequencies.loc[alteration_frequencies.sum(axis=1).sort_values(ascending=False).index[:20]]\n",
    "alteration_frequencies_sorted = alteration_frequencies_sorted[order]\n",
    "\n",
    "# Plot\n",
    "ax = alteration_frequencies_sorted.plot(kind='bar', stacked=True, color=[colors[col] for col in alteration_frequencies_sorted.columns])\n",
    "plt.ylabel('Number of Patients')\n",
    "plt.xlabel('')\n",
    "plt.title('{} Alteration Frequency per Cancer Type'.format(gene))\n",
    "\n",
    "# Reorder the legend\n",
    "handles, labels = ax.get_legend_handles_labels()\n",
    "order_index = [labels.index(alteration) for alteration in reversed(order)]\n",
    "ax.legend([handles[idx] for idx in order_index],[labels[idx] for idx in order_index])\n",
    "\n",
    "# Despine\n",
    "ax.spines['top'].set_visible(False)\n",
    "ax.spines['right'].set_visible(False)\n",
    "\n",
    "# Add percentage sign to y ticks\n",
    "formatter = FuncFormatter(lambda y, pos: \"%d%%\" % (y))\n",
    "ax.yaxis.set_major_formatter(formatter)\n",
    "\n",
    "# Add horizontal grid lines\n",
    "ax.yaxis.grid(True, linestyle='--', linewidth=0.5, color='lightgray')\n",
    "\n",
    "plt.show()"
   ]
  },
  {
   "cell_type": "markdown",
   "metadata": {},
   "source": [
    "### Genome Nexus API"
   ]
  },
  {
   "cell_type": "markdown",
   "metadata": {},
   "source": [
    "[Genome Nexus](https://www.genomenexus.org) is a web service that aggregates all cancer related information about a particular mutation. Similarly to cBioPortal it provides a REST API following the [Swagger / OpenAPI specification](https://swagger.io/specification/)."
   ]
  },
  {
   "cell_type": "code",
   "execution_count": 43,
   "metadata": {},
   "outputs": [
    {
     "name": "stdout",
     "output_type": "stream",
     "text": [
      "SwaggerClient(https://www.genomenexus.org/)\n"
     ]
    }
   ],
   "source": [
    "from bravado.client import SwaggerClient\n",
    "\n",
    "gn = SwaggerClient.from_url('https://www.genomenexus.org/v2/api-docs',\n",
    "                            config={\"validate_requests\":False,\n",
    "                                    \"validate_responses\":False,\n",
    "                                    \"validate_swagger_spec\":False})\n",
    "print(gn)"
   ]
  },
  {
   "cell_type": "markdown",
   "metadata": {},
   "source": [
    "To look up annotations for a single variant, one can use the following endpoint:"
   ]
  },
  {
   "cell_type": "code",
   "execution_count": 44,
   "metadata": {},
   "outputs": [],
   "source": [
    "variant = gn.annotation_controller.fetchVariantAnnotationByGenomicLocationGET(\n",
    "    genomicLocation='7,140453136,140453136,A,T',\n",
    "    # adds extra annotation resources, not included in default response:\n",
    "    fields='hotspots mutation_assessor annotation_summary'.split()\n",
    ").result()"
   ]
  },
  {
   "cell_type": "markdown",
   "metadata": {},
   "source": [
    "You can see a lot of information is provided for that particular variant if you type tab after `variant.`:"
   ]
  },
  {
   "cell_type": "code",
   "execution_count": null,
   "metadata": {
    "collapsed": true,
    "jupyter": {
     "outputs_hidden": true
    }
   },
   "outputs": [],
   "source": [
    "variant."
   ]
  },
  {
   "cell_type": "markdown",
   "metadata": {},
   "source": [
    "For this example we will focus on the hotspot annotation and ignore the others. [Cancer hotspots](https://www.cancerhotspots.org/) is a popular web resource  which indicates whether particular variants have been found to be recurrently mutated in large scale cancer genomics data.\n",
    "\n",
    "The example variant above is a hotspot:"
   ]
  },
  {
   "cell_type": "code",
   "execution_count": 45,
   "metadata": {},
   "outputs": [
    {
     "data": {
      "text/plain": [
       "HotspotAnnotation(annotation=[[Hotspot(hugoSymbol='BRAF', inframeCount=0, missenseCount=897, residue='V600', spliceCount=0, transcriptId='ENST00000288602', truncatingCount=0, tumorCount=897, type='single residue'), Hotspot(hugoSymbol='BRAF', inframeCount=None, missenseCount=None, residue='V600', spliceCount=None, transcriptId='ENST00000288602', truncatingCount=None, tumorCount=545, type='3d')], [], [], []], license='https://opendatacommons.org/licenses/odbl/1.0/')"
      ]
     },
     "execution_count": 45,
     "metadata": {},
     "output_type": "execute_result"
    }
   ],
   "source": [
    "variant.hotspots"
   ]
  },
  {
   "cell_type": "markdown",
   "metadata": {},
   "source": [
    "Let's see how many hotspot mutations there are in the Cholangiocarcinoma (TCGA, PanCancer Atlas) study with study id `chol_tcga_pan_can_atlas_2018` from the cBioPortal:"
   ]
  },
  {
   "cell_type": "code",
   "execution_count": 46,
   "metadata": {
    "scrolled": true
   },
   "outputs": [
    {
     "name": "stdout",
     "output_type": "stream",
     "text": [
      "CPU times: user 776 ms, sys: 96.9 ms, total: 873 ms\n",
      "Wall time: 1.9 s\n"
     ]
    }
   ],
   "source": [
    "%%time\n",
    "\n",
    "cbioportal = SwaggerClient.from_url('https://www.cbioportal.org/api/api-docs',\n",
    "                                config={\"validate_requests\":False,\"validate_responses\":False})\n",
    "\n",
    "mutations = cbioportal.Mutations.getMutationsInMolecularProfileBySampleListIdUsingGET(\n",
    "    molecularProfileId='chol_tcga_pan_can_atlas_2018_mutations',\n",
    "    sampleListId='chol_tcga_pan_can_atlas_2018_all',\n",
    "    projection='DETAILED'\n",
    ").result()"
   ]
  },
  {
   "cell_type": "markdown",
   "metadata": {},
   "source": [
    "Convert the results to a dataframe again:"
   ]
  },
  {
   "cell_type": "code",
   "execution_count": 47,
   "metadata": {},
   "outputs": [],
   "source": [
    "import pandas as pd\n",
    "\n",
    "mdf = pd.DataFrame.from_dict([\n",
    "    # python magic that combines two dictionaries:\n",
    "    dict(\n",
    "        {k:getattr(m,k) for k in dir(m)},\n",
    "        **{k:getattr(m.gene,k) for k in dir(m.gene)}) \n",
    "    # create one item in the list for each mutation\n",
    "    for m in mutations\n",
    "])"
   ]
  },
  {
   "cell_type": "markdown",
   "metadata": {},
   "source": [
    "Then get only the unique mutations, to avoid calling the web service with the same variants:"
   ]
  },
  {
   "cell_type": "code",
   "execution_count": 56,
   "metadata": {},
   "outputs": [],
   "source": [
    "variants = mdf['chr startPosition endPosition referenceAllele variantAllele'.split()]\\\n",
    "    .drop_duplicates()\\\n",
    "    .dropna(how='any',axis=0)\\\n",
    "    .reset_index(drop=True)"
   ]
  },
  {
   "cell_type": "markdown",
   "metadata": {},
   "source": [
    "Convert them to input that genome nexus will understand:"
   ]
  },
  {
   "cell_type": "code",
   "execution_count": 57,
   "metadata": {},
   "outputs": [
    {
     "data": {
      "text/html": [
       "<div>\n",
       "<style scoped>\n",
       "    .dataframe tbody tr th:only-of-type {\n",
       "        vertical-align: middle;\n",
       "    }\n",
       "\n",
       "    .dataframe tbody tr th {\n",
       "        vertical-align: top;\n",
       "    }\n",
       "\n",
       "    .dataframe thead th {\n",
       "        text-align: right;\n",
       "    }\n",
       "</style>\n",
       "<table border=\"1\" class=\"dataframe\">\n",
       "  <thead>\n",
       "    <tr style=\"text-align: right;\">\n",
       "      <th></th>\n",
       "      <th>chr</th>\n",
       "      <th>startPosition</th>\n",
       "      <th>endPosition</th>\n",
       "      <th>referenceAllele</th>\n",
       "      <th>variantAllele</th>\n",
       "    </tr>\n",
       "  </thead>\n",
       "  <tbody>\n",
       "    <tr>\n",
       "      <th>0</th>\n",
       "      <td>6</td>\n",
       "      <td>51921499</td>\n",
       "      <td>51921499</td>\n",
       "      <td>G</td>\n",
       "      <td>A</td>\n",
       "    </tr>\n",
       "    <tr>\n",
       "      <th>1</th>\n",
       "      <td>5</td>\n",
       "      <td>167675119</td>\n",
       "      <td>167675119</td>\n",
       "      <td>C</td>\n",
       "      <td>T</td>\n",
       "    </tr>\n",
       "    <tr>\n",
       "      <th>2</th>\n",
       "      <td>7</td>\n",
       "      <td>142960620</td>\n",
       "      <td>142960620</td>\n",
       "      <td>C</td>\n",
       "      <td>T</td>\n",
       "    </tr>\n",
       "    <tr>\n",
       "      <th>3</th>\n",
       "      <td>11</td>\n",
       "      <td>65373425</td>\n",
       "      <td>65373425</td>\n",
       "      <td>C</td>\n",
       "      <td>G</td>\n",
       "    </tr>\n",
       "    <tr>\n",
       "      <th>4</th>\n",
       "      <td>17</td>\n",
       "      <td>57247159</td>\n",
       "      <td>57247159</td>\n",
       "      <td>G</td>\n",
       "      <td>A</td>\n",
       "    </tr>\n",
       "    <tr>\n",
       "      <th>...</th>\n",
       "      <td>...</td>\n",
       "      <td>...</td>\n",
       "      <td>...</td>\n",
       "      <td>...</td>\n",
       "      <td>...</td>\n",
       "    </tr>\n",
       "    <tr>\n",
       "      <th>1963</th>\n",
       "      <td>7</td>\n",
       "      <td>151935871</td>\n",
       "      <td>151935871</td>\n",
       "      <td>C</td>\n",
       "      <td>A</td>\n",
       "    </tr>\n",
       "    <tr>\n",
       "      <th>1964</th>\n",
       "      <td>1</td>\n",
       "      <td>27105848</td>\n",
       "      <td>27105852</td>\n",
       "      <td>ATGAT</td>\n",
       "      <td>-</td>\n",
       "    </tr>\n",
       "    <tr>\n",
       "      <th>1965</th>\n",
       "      <td>9</td>\n",
       "      <td>125752410</td>\n",
       "      <td>125752410</td>\n",
       "      <td>G</td>\n",
       "      <td>C</td>\n",
       "    </tr>\n",
       "    <tr>\n",
       "      <th>1966</th>\n",
       "      <td>9</td>\n",
       "      <td>125752411</td>\n",
       "      <td>125752411</td>\n",
       "      <td>C</td>\n",
       "      <td>T</td>\n",
       "    </tr>\n",
       "    <tr>\n",
       "      <th>1967</th>\n",
       "      <td>5</td>\n",
       "      <td>55147437</td>\n",
       "      <td>55147440</td>\n",
       "      <td>TGTC</td>\n",
       "      <td>-</td>\n",
       "    </tr>\n",
       "  </tbody>\n",
       "</table>\n",
       "<p>1968 rows × 5 columns</p>\n",
       "</div>"
      ],
      "text/plain": [
       "     chr  startPosition  endPosition referenceAllele variantAllele\n",
       "0      6       51921499     51921499               G             A\n",
       "1      5      167675119    167675119               C             T\n",
       "2      7      142960620    142960620               C             T\n",
       "3     11       65373425     65373425               C             G\n",
       "4     17       57247159     57247159               G             A\n",
       "...   ..            ...          ...             ...           ...\n",
       "1963   7      151935871    151935871               C             A\n",
       "1964   1       27105848     27105852           ATGAT             -\n",
       "1965   9      125752410    125752410               G             C\n",
       "1966   9      125752411    125752411               C             T\n",
       "1967   5       55147437     55147440            TGTC             -\n",
       "\n",
       "[1968 rows x 5 columns]"
      ]
     },
     "execution_count": 57,
     "metadata": {},
     "output_type": "execute_result"
    }
   ],
   "source": [
    "variants"
   ]
  },
  {
   "cell_type": "code",
   "execution_count": 58,
   "metadata": {},
   "outputs": [],
   "source": [
    "variants = variants.rename(columns={'chr':'chromosome','startPosition':'start','endPosition':'end'})\\\n",
    "    .to_dict(orient='records')"
   ]
  },
  {
   "cell_type": "code",
   "execution_count": 59,
   "metadata": {},
   "outputs": [
    {
     "name": "stdout",
     "output_type": "stream",
     "text": [
      "There are 1968 mutations left to annotate\n"
     ]
    }
   ],
   "source": [
    "print(\"There are {} mutations left to annotate\".format(len(variants)))"
   ]
  },
  {
   "cell_type": "markdown",
   "metadata": {},
   "source": [
    "Annotate them with genome nexus:"
   ]
  },
  {
   "cell_type": "code",
   "execution_count": 60,
   "metadata": {},
   "outputs": [
    {
     "name": "stdout",
     "output_type": "stream",
     "text": [
      "CPU times: user 1.47 s, sys: 99 ms, total: 1.57 s\n",
      "Wall time: 6.88 s\n"
     ]
    }
   ],
   "source": [
    "%%time \n",
    "\n",
    "variants_annotated = gn.annotation_controller.fetchVariantAnnotationByGenomicLocationPOST(\n",
    "    genomicLocations=variants,\n",
    "    fields='hotspots annotation_summary'.split()\n",
    ").result()"
   ]
  },
  {
   "cell_type": "markdown",
   "metadata": {},
   "source": [
    "Index the variants to make it easier to query them:"
   ]
  },
  {
   "cell_type": "code",
   "execution_count": 61,
   "metadata": {},
   "outputs": [],
   "source": [
    "gn_dict = {\n",
    "    \"{},{},{},{},{}\".format(\n",
    "        v.annotation_summary.genomicLocation.chromosome,\n",
    "        v.annotation_summary.genomicLocation.start,\n",
    "        v.annotation_summary.genomicLocation.end,\n",
    "        v.annotation_summary.genomicLocation.referenceAllele,\n",
    "        v.annotation_summary.genomicLocation.variantAllele)\n",
    "        :\n",
    "        v for v in variants_annotated\n",
    "}"
   ]
  },
  {
   "cell_type": "markdown",
   "metadata": {},
   "source": [
    "Add a new column to indicate whether something is a hotspot"
   ]
  },
  {
   "cell_type": "code",
   "execution_count": 64,
   "metadata": {},
   "outputs": [],
   "source": [
    "def is_hotspot(x):\n",
    "    \"\"\"TODO: Current structure for hotspots in Genome Nexus is a little funky.\n",
    "    Need to check whether all lists in the annotation field are empty.\"\"\"\n",
    "    if x:\n",
    "        return sum([len(a) for a in x.hotspots.annotation]) > 0\n",
    "    else:\n",
    "        return False\n",
    "\n",
    "def create_dict_query_key(x):\n",
    "    return \"{},{},{},{},{}\".format(\n",
    "        x.chr, x.startPosition, x.endPosition, x.referenceAllele, x.variantAllele\n",
    "    )"
   ]
  },
  {
   "cell_type": "code",
   "execution_count": 65,
   "metadata": {},
   "outputs": [],
   "source": [
    "mdf['is_hotspot'] = mdf.apply(lambda x: is_hotspot(gn_dict.get(create_dict_query_key(x), None)), axis=1)"
   ]
  },
  {
   "cell_type": "markdown",
   "metadata": {},
   "source": [
    "Then plot the results:"
   ]
  },
  {
   "cell_type": "code",
   "execution_count": 66,
   "metadata": {},
   "outputs": [],
   "source": [
    "%matplotlib inline\n",
    "import seaborn as sns\n",
    "sns.set_style(\"white\")\n",
    "sns.set_context('notebook')\n",
    "import matplotlib.pyplot as plt"
   ]
  },
  {
   "cell_type": "code",
   "execution_count": 67,
   "metadata": {},
   "outputs": [
    {
     "data": {
      "text/plain": [
       "Text(0.5, 1.0, 'Hotspots in Cholangiocarcinoma (TCGA, PanCancer Atlas)')"
      ]
     },
     "execution_count": 67,
     "metadata": {},
     "output_type": "execute_result"
    },
    {
     "data": {
      "image/png": "[encoded data removed]",
      "text/plain": [
       "<Figure size 432x288 with 1 Axes>"
      ]
     },
     "metadata": {},
     "output_type": "display_data"
    }
   ],
   "source": [
    "mdf.groupby('hugoGeneSymbol').is_hotspot.sum().sort_values(ascending=False).head(10).plot(kind='bar')\n",
    "\n",
    "sns.despine(trim=False)\n",
    "plt.xlabel('')\n",
    "plt.xticks(rotation=300)\n",
    "plt.ylabel('Number of non-unique hotspots',labelpad=20)\n",
    "plt.title('Hotspots in Cholangiocarcinoma (TCGA, PanCancer Atlas)',pad=25)"
   ]
  },
  {
   "cell_type": "markdown",
   "metadata": {},
   "source": [
    "### OncoKB API"
   ]
  },
  {
   "cell_type": "markdown",
   "metadata": {},
   "source": [
    "[OncoKB](https://oncokb.org) is is a precision oncology knowledge base and contains information about the effects and treatment implications of specific cancer gene alterations. Similarly to cBioPortal and Genome Nexus it provides a REST API following the [Swagger / OpenAPI specification](https://swagger.io/specification/)."
   ]
  },
  {
   "cell_type": "code",
   "execution_count": 4,
   "metadata": {
    "scrolled": true
   },
   "outputs": [
    {
     "name": "stdout",
     "output_type": "stream",
     "text": [
      "SwaggerClient(https://www.oncokb.org:443/api/v1)\n"
     ]
    }
   ],
   "source": [
    "oncokb = SwaggerClient.from_url('https://www.oncokb.org/api/v1/v2/api-docs',\n",
    "                            config={\"validate_requests\":False,\n",
    "                                    \"validate_responses\":False,\n",
    "                                    \"validate_swagger_spec\":False})\n",
    "print(oncokb)"
   ]
  },
  {
   "cell_type": "markdown",
   "metadata": {},
   "source": [
    "To look up annotations for a variant, one can use the following endpoint:"
   ]
  },
  {
   "cell_type": "code",
   "execution_count": 10,
   "metadata": {},
   "outputs": [],
   "source": [
    "variant = oncokb.Annotations.annotateMutationsByGenomicChangeGetUsingGET(\n",
    "    genomicLocation='7,140453136,140453136,A,T',\n",
    ").result()"
   ]
  },
  {
   "cell_type": "markdown",
   "metadata": {},
   "source": [
    "You can see a lot of information is provided for that particular variant if you type tab after `variant.`:"
   ]
  },
  {
   "cell_type": "code",
   "execution_count": 16,
   "metadata": {},
   "outputs": [
    {
     "data": {
      "text/plain": [
       "'The BRAF V600E mutation is known to be oncogenic.'"
      ]
     },
     "execution_count": 16,
     "metadata": {},
     "output_type": "execute_result"
    }
   ],
   "source": [
    "variant."
   ]
  },
  {
   "cell_type": "markdown",
   "metadata": {},
   "source": [
    "For instance we can see the summary information about it:"
   ]
  },
  {
   "cell_type": "code",
   "execution_count": 17,
   "metadata": {},
   "outputs": [
    {
     "data": {
      "text/plain": [
       "'The BRAF V600E mutation is known to be oncogenic.'"
      ]
     },
     "execution_count": 17,
     "metadata": {},
     "output_type": "execute_result"
    }
   ],
   "source": [
    "variant.variantSummary"
   ]
  },
  {
   "cell_type": "markdown",
   "metadata": {},
   "source": [
    "If you look up this variant on the OncoKB website: https://www.oncokb.org/gene/BRAF/V600E. You can see that there are various combinations of drugs and their level of evidence listed. This is a classification system for indicating how much we know about whether or not a patient might respond to a particular treatment. Please see https://www.oncokb.org/levels for more information about the levels of evidence for therapeutic biomarkers.\n",
    "\n",
    "We can use the same `variants` we pulled from cBioPortal in the previous section to figure out the highest level of each variant."
   ]
  },
  {
   "cell_type": "code",
   "execution_count": 34,
   "metadata": {},
   "outputs": [
    {
     "name": "stdout",
     "output_type": "stream",
     "text": [
      "CPU times: user 363 ms, sys: 16.4 ms, total: 379 ms\n",
      "Wall time: 9.89 s\n"
     ]
    }
   ],
   "source": [
    "%%time \n",
    "\n",
    "variants_annotated = oncokb.Annotations.annotateMutationsByGenomicChangePostUsingPOST(\n",
    "    body=[\n",
    "        {\"genomicLocation\":\"{chromosome},{start},{end},{referenceAllele},{variantAllele}\".format(**v)} \n",
    "        for v in variants\n",
    "    ],\n",
    ").result()"
   ]
  },
  {
   "cell_type": "markdown",
   "metadata": {},
   "source": [
    "Count the highes level for each variant"
   ]
  },
  {
   "cell_type": "code",
   "execution_count": 63,
   "metadata": {},
   "outputs": [],
   "source": [
    "from collections import Counter\n",
    "\n",
    "counts_per_level = Counter([va.highestSensitiveLevel for va in variants_annotated if va.highestSensitiveLevel])"
   ]
  },
  {
   "cell_type": "markdown",
   "metadata": {},
   "source": [
    "Then plot them"
   ]
  },
  {
   "cell_type": "code",
   "execution_count": 82,
   "metadata": {},
   "outputs": [
    {
     "data": {
      "image/png": "[encoded data removed]",
      "text/plain": [
       "<Figure size 432x288 with 1 Axes>"
      ]
     },
     "metadata": {},
     "output_type": "display_data"
    }
   ],
   "source": [
    "pd.DataFrame(counts_per_level,index=[0]).plot(kind='bar', colors=['#4D8834','#2E2E2C','#753579'])\n",
    "plt.xticks([])\n",
    "plt.ylabel('Number of variants')\n",
    "plt.title('Actionable variants in chol_tcga_pan_can_atlas_2018')\n",
    "sns.despine()"
   ]
  }
 ],
 "metadata": {
  "kernelspec": {
   "display_name": "Python 3 (ipykernel)",
   "language": "python",
   "name": "python3"
  },
  "language_info": {
   "codemirror_mode": {
    "name": "ipython",
    "version": 3
   },
   "file_extension": ".py",
   "mimetype": "text/x-python",
   "name": "python",
   "nbconvert_exporter": "python",
   "pygments_lexer": "ipython3",
   "version": "3.12.3"
  }
 },
 "nbformat": 4,
 "nbformat_minor": 4
}
